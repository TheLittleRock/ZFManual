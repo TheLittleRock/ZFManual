{
 "cells": [
  {
   "cell_type": "markdown",
   "id": "3451efe6-fe96-48af-ade7-6346331a60af",
   "metadata": {},
   "source": [
    "Fit naměřených dat je nedílnou součástí velkého množství úloh v ZFM a PRAK. V jazyce Python je obvykle užíváno funkcí ``curve_fit``, či ``minimize`` z modulu ``optimize`` knihovny ``SciPy``."
   ]
  },
  {
   "cell_type": "markdown",
   "id": "211e2bc6-15e1-488d-ab42-4c57a49dc615",
   "metadata": {},
   "source": [
    "Doporučuji shlédnout například tento tutoriál na youtube. Je valmi dobře zpracovaný a obsáhlý:"
   ]
  },
  {
   "cell_type": "markdown",
   "id": "e34d4a44-4d15-46b9-9d08-21c3599566a3",
   "metadata": {},
   "source": [
    "..  youtube:: jmX4FOUEfgU"
   ]
  },
  {
   "cell_type": "code",
   "execution_count": null,
   "id": "147cf215-51d1-4610-918a-b293d3be0627",
   "metadata": {},
   "outputs": [],
   "source": []
  }
 ],
 "metadata": {
  "kernelspec": {
   "display_name": "Python 3 (ipykernel)",
   "language": "python",
   "name": "python3"
  },
  "language_info": {
   "codemirror_mode": {
    "name": "ipython",
    "version": 3
   },
   "file_extension": ".py",
   "mimetype": "text/x-python",
   "name": "python",
   "nbconvert_exporter": "python",
   "pygments_lexer": "ipython3",
   "version": "3.11.6"
  }
 },
 "nbformat": 4,
 "nbformat_minor": 5
}
