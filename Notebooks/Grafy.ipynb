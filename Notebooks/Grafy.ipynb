{
 "cells": [
  {
   "cell_type": "code",
   "execution_count": null,
   "id": "ea31dd9a-f4ba-4769-b170-e605958c61cb",
   "metadata": {},
   "outputs": [],
   "source": [
    "params = {\n",
    "      'text.latex.preamble': r\"\\usepackage{mlmodern}\",\n",
    "      'legend.fontsize': 9,\n",
    "      'axes.labelsize': 9,\n",
    "      'axes.titlesize': 11,\n",
    "      'xtick.labelsize' :9,\n",
    "      'ytick.labelsize' : 9,\n",
    "      'font.family' : 'mlmodern', \n",
    "      'text.usetex' : True,\n",
    "      }\n",
    "plt.rcParams.update(params)"
   ]
  },
  {
   "cell_type": "code",
   "execution_count": null,
   "id": "1ccf38a1-b2d6-4e45-83f3-702afa7ec72c",
   "metadata": {},
   "outputs": [],
   "source": [
    "plt.rcParams['text.latex.preamble']=r\"\\usepackage{mlmodern}\"\n",
    "plt.rcParams[\"text.usetex\"] = True\n",
    "plt.rcParams[\"font.size\"] = 13\n",
    "plt.rcParams[\"font.family\"] = 'mlmodern'"
   ]
  },
  {
   "cell_type": "code",
   "execution_count": null,
   "id": "b7b22ba8-2d19-409a-90a6-f207223dce0d",
   "metadata": {},
   "outputs": [],
   "source": [
    "layout=\"constrained\""
   ]
  },
  {
   "cell_type": "code",
   "execution_count": null,
   "id": "60977f19-7959-4bf2-a397-1237509dd4e6",
   "metadata": {},
   "outputs": [],
   "source": []
  }
 ],
 "metadata": {
  "kernelspec": {
   "display_name": "Python 3 (ipykernel)",
   "language": "python",
   "name": "python3"
  },
  "language_info": {
   "codemirror_mode": {
    "name": "ipython",
    "version": 3
   },
   "file_extension": ".py",
   "mimetype": "text/x-python",
   "name": "python",
   "nbconvert_exporter": "python",
   "pygments_lexer": "ipython3",
   "version": "3.11.6"
  }
 },
 "nbformat": 4,
 "nbformat_minor": 5
}
