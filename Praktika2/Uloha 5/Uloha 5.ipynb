{
 "cells": [
  {
   "cell_type": "code",
   "execution_count": 16,
   "id": "c77dd3c4-63ca-46a2-8302-a114436058f7",
   "metadata": {},
   "outputs": [],
   "source": [
    "import numpy as np\n",
    "import sympy as smp\n",
    "from sympy import symbols, Eq, solve\n",
    "import matplotlib.pyplot as plt\n",
    "from scipy.optimize import curve_fit\n",
    "from tabulate import tabulate\n",
    "import matplotlib\n",
    "from uncertainties import ufloat\n",
    "from uncertainties.umath import *\n",
    "from uncertainties import unumpy\n",
    "import uncertainties"
   ]
  },
  {
   "cell_type": "code",
   "execution_count": 254,
   "id": "f6d3fc7d-5c81-42c2-8cf7-a6d83d552b25",
   "metadata": {},
   "outputs": [],
   "source": [
    "matplotlib.use(\"pgf\")\n",
    "matplotlib.rcParams.update({\n",
    "    \"pgf.texsystem\": \"pdflatex\",\n",
    "    'font.family': 'serif',\n",
    "    'text.usetex': True,\n",
    "    'pgf.rcfonts': False,\n",
    "})"
   ]
  },
  {
   "cell_type": "markdown",
   "id": "977e8629-cdfc-47c1-a0d0-d59fce9d539e",
   "metadata": {
    "jp-MarkdownHeadingCollapsed": true,
    "tags": []
   },
   "source": [
    "# blbosti"
   ]
  },
  {
   "cell_type": "code",
   "execution_count": 281,
   "id": "ea0b9a52-9d87-40e3-93f4-0f48219b8fc3",
   "metadata": {},
   "outputs": [],
   "source": [
    "def mean(arr):\n",
    "    return np.mean(arr)\n",
    "\n",
    "def error(x):\n",
    "    return x.std() / np.sqrt(x.size)\n",
    "\n",
    "def weighted_error(x, err):\n",
    "    \n",
    "    x = np.asarray(x)\n",
    "    err = np.asarray(err)\n",
    "    \n",
    "    average = np.sum(x/(err**2))/np.sum(1/err**2)\n",
    "    \n",
    "    average_error = 1/np.sqrt(np.sum(1/err**2))\n",
    "    \n",
    "    return average, average_error\n",
    "\n",
    "def decimal(x):\n",
    "    return x.replace(',', '.').encode()\n",
    "\n",
    "def sum_err(x,sx):\n",
    "    return np.sum(x),np.sqrt(np.sum([np.sum(i**2) for i in sx])) \n",
    "\n",
    "def diff_err(x,sx):\n",
    "    return x[0]-x[1],np.sqrt(np.sum([np.sum(i**2) for i in sx])) \n",
    "\n",
    "def times_err(x,sx):\n",
    "    return np.prod(x), np.prod(x)*np.sqrt(np.sum([np.sum((i/j)**2) for i,j in zip(sx,x)]))\n",
    "\n",
    "#def frac_err(x,sx):\n",
    "#    return x[0]/x[1], x[0]/x[1]*np.sqrt(np.sum((sx/x)**2))\n",
    "\n",
    "def frac_err(x,sx):\n",
    "    return x[0]/x[1], x[0]/x[1]*np.sqrt(np.sum([np.sum((i/j)**2) for i,j in zip(sx,x)]))\n",
    "    #return [np.sum((i/j)**2) for i,j in zip(sx,x)]"
   ]
  },
  {
   "cell_type": "markdown",
   "id": "61dda10a-441a-40f4-a5a7-47f826fa32da",
   "metadata": {
    "tags": []
   },
   "source": [
    "# UKOL 1"
   ]
  },
  {
   "cell_type": "code",
   "execution_count": 17,
   "id": "5d9a7506-38c5-4451-95ad-dd93f03a3214",
   "metadata": {},
   "outputs": [
    {
     "data": {
      "text/plain": [
       "array([17.80994182, 11.94372993, 20.12244927, 14.87608494, 20.39585404,\n",
       "       14.37822481, 10.88370264, 19.07892678, 17.97459982])"
      ]
     },
     "execution_count": 17,
     "metadata": {},
     "output_type": "execute_result"
    }
   ],
   "source": [
    "R0 = 0.3\n",
    "\n",
    "#U = np.array([5.36, 2.15, 7.12, 3.59, 7.32, 3.3,1.8,6.3,9,5.45])\n",
    "#I = np.array([5.35, 3.2, 6.29, 4.29, 6.38, 4.08,2.94,5.87,6.7,5.39])\n",
    "\n",
    "\n",
    "U = np.array([5.36, 2.15, 7.12, 3.59, 7.32, 3.3,1.8,6.3,5.45])\n",
    "I = np.array([5.35, 3.2, 6.29, 4.29, 6.38, 4.08,2.94,5.87,5.39])\n",
    "R = U/I\n",
    "P = U*I\n",
    "\n",
    "\n",
    "p = np.array([0.2079/(1000**4),-1.8517/(1000**3),7.826/(1000**2),19.274/1000,-0.968])\n",
    "\n",
    "rho20 = np.polyval(p, 21+273.15)\n",
    "ls = R0/rho20\n",
    "rho = R/ls\n",
    "rho"
   ]
  },
  {
   "cell_type": "code",
   "execution_count": 18,
   "id": "17566d56-90d7-40fc-9c3d-7bf00d891351",
   "metadata": {},
   "outputs": [
    {
     "data": {
      "text/plain": [
       "array([0.02645861, 0.03764835, 0.0240128 , 0.03039509, 0.02385526,\n",
       "       0.03152341, 0.03988222, 0.02499023, 0.02638417])"
      ]
     },
     "execution_count": 18,
     "metadata": {},
     "output_type": "execute_result"
    }
   ],
   "source": [
    "Uu = unumpy.uarray(U,0.1)\n",
    "Iu = unumpy.uarray(I,0.1)\n",
    "Ru = Uu/Iu\n",
    "Pu = Uu*Iu\n",
    "\n",
    "sR = np.array([uncertainties.std_dev(i) for i in Ru])\n",
    "sP =  np.array([uncertainties.std_dev(i) for i in Pu])\n",
    "\n",
    "sR"
   ]
  },
  {
   "cell_type": "code",
   "execution_count": 19,
   "id": "02c37a01-f035-4b60-bc31-386cd6e029c8",
   "metadata": {},
   "outputs": [
    {
     "name": "stdout",
     "output_type": "stream",
     "text": [
      "Rho20:  5.333014294425794\n",
      "l/s:  0.056253365064775435\n"
     ]
    }
   ],
   "source": [
    "print(\"Rho20: \", rho20)\n",
    "print(\"l/s: \", ls)"
   ]
  },
  {
   "cell_type": "code",
   "execution_count": 20,
   "id": "b4a9eb92-8798-4a21-8b39-6836de54bba8",
   "metadata": {},
   "outputs": [
    {
     "data": {
      "text/plain": [
       "array([772.4348802 , 558.8197838 , 852.81622415, 667.54387157,\n",
       "       862.20020172, 649.37977035, 518.39486023, 816.77349029,\n",
       "       778.22095078])"
      ]
     },
     "execution_count": 20,
     "metadata": {},
     "output_type": "execute_result"
    }
   ],
   "source": [
    "T = []\n",
    "for i in range(9):\n",
    "    T.append(np.real(np.roots(p - np.array([0,0,0,0,rho[i]]))[3]))\n",
    "    \n",
    "T = np.array(T)\n",
    "T0 = 21+273.15\n",
    "T"
   ]
  },
  {
   "cell_type": "code",
   "execution_count": 21,
   "id": "af83ab83-41c1-464b-a45c-2a0f465af013",
   "metadata": {},
   "outputs": [
    {
     "data": {
      "text/plain": [
       "((8.68914921991155e-11, 1.0427069518405857e-12),\n",
       " (-1.7059602080396992, 0.3695209283079817))"
      ]
     },
     "execution_count": 21,
     "metadata": {},
     "output_type": "execute_result"
    }
   ],
   "source": [
    "def linear(x,a,b):\n",
    "    return a*x+b\n",
    "\n",
    "params,err = curve_fit(linear, T**4, P)\n",
    "\n",
    "beta, c = params\n",
    "sbeta, sc = np.sqrt(np.diag(err))\n",
    "(beta, sbeta),(c, sc)"
   ]
  },
  {
   "cell_type": "code",
   "execution_count": 22,
   "id": "457d4b93-96b7-4a75-bfdc-5ba56f3387bf",
   "metadata": {},
   "outputs": [
    {
     "name": "stdout",
     "output_type": "stream",
     "text": [
      "\\begin{tabular}{rrrrrr}\n",
      "\\toprule\n",
      " 5.36 & 5.35 & 1    & 28.68 & 17.81 & 772.43 \\\\\n",
      " 2.15 & 3.2  & 0.67 &  6.88 & 11.94 & 558.82 \\\\\n",
      " 7.12 & 6.29 & 1.13 & 44.78 & 20.12 & 852.82 \\\\\n",
      " 3.59 & 4.29 & 0.84 & 15.4  & 14.88 & 667.54 \\\\\n",
      " 7.32 & 6.38 & 1.15 & 46.7  & 20.4  & 862.2  \\\\\n",
      " 3.3  & 4.08 & 0.81 & 13.46 & 14.38 & 649.38 \\\\\n",
      " 1.8  & 2.94 & 0.61 &  5.29 & 10.88 & 518.39 \\\\\n",
      " 6.3  & 5.87 & 1.07 & 36.98 & 19.08 & 816.77 \\\\\n",
      " 5.45 & 5.39 & 1.01 & 29.38 & 17.97 & 778.22 \\\\\n",
      "\\bottomrule\n",
      "\\end{tabular}\n"
     ]
    }
   ],
   "source": [
    "tab = np.array([U,I,R,P,rho,T]).round(2).T\n",
    "\n",
    "print(tabulate(tab, tablefmt=\"latex_booktabs\"))"
   ]
  },
  {
   "cell_type": "code",
   "execution_count": 8,
   "id": "84dfcea4-5de2-41a6-9753-32062a0dba31",
   "metadata": {},
   "outputs": [
    {
     "data": {
      "image/png": "[encoded data removed]",
      "text/plain": [
       "<Figure size 800x500 with 1 Axes>"
      ]
     },
     "metadata": {},
     "output_type": "display_data"
    }
   ],
   "source": [
    "x_range = np.linspace(0,6*10**11,100)\n",
    "\n",
    "plt.figure(figsize = (8,5))\n",
    "\n",
    "\n",
    "plt.scatter(T**4/10**11,P,color = 'k',marker='x',label = 'Naměřená závislost')\n",
    "plt.plot(x_range/10**11,beta*x_range + c, color = 'k', linestyle = 'dashed', label = \"Fit naměřené závislosti: \\n\" + r\"$ P = \\beta \\times 10^{-11} \\, T^4 - \\gamma$\")\n",
    "#plt.errorbar(T**4/10**11,P, yerr=sP ,elinewidth=.8, fmt = 'kx', linestyle = None, ecolor = \"k\",capsize=3, label = 'Naměřená závislost', zorder = 88)\n",
    "\n",
    "\n",
    "#plt.legend(loc='upper right', fontsize=11)\n",
    "\n",
    "handles, labels = plt.gca().get_legend_handles_labels()\n",
    "order = [1,0]\n",
    "plt.legend([handles[idx] for idx in order],[labels[idx] for idx in order], loc='upper left', fontsize=11)\n",
    "\n",
    "\n",
    "plt.ylabel(\"$P$ \" + \"[W]\", fontsize=12)\n",
    "plt.xlabel(r\"$T^4$ [ $\\times 10^{11}$ K$^4$]\", fontsize=12)\n",
    "\n",
    "plt.xticks(np.arange(0,6,.5), minor=True)\n",
    "plt.yticks(np.arange(0,50,5), minor=True)\n",
    "\n",
    "plt.savefig('cejchovani.pdf', bbox_inches = 'tight')\n",
    "plt.show()"
   ]
  },
  {
   "cell_type": "code",
   "execution_count": 9,
   "id": "5e4ffd66-7540-4550-b630-7197fac49af5",
   "metadata": {},
   "outputs": [
    {
     "data": {
      "text/plain": [
       "(0.004894475801102937, 0.0003772159134545362)"
      ]
     },
     "execution_count": 9,
     "metadata": {},
     "output_type": "execute_result"
    }
   ],
   "source": [
    "def resistance(dT,a):\n",
    "    return R0*(a*dT+1)\n",
    "\n",
    "params,err = curve_fit(resistance, T-T0, R, sigma=np.full(len(R), 0.15), absolute_sigma=True)\n",
    "\n",
    "alfa, = params\n",
    "salfa, = np.sqrt(np.diag(err))\n",
    "(alfa, salfa)"
   ]
  },
  {
   "cell_type": "code",
   "execution_count": 10,
   "id": "efb17c51-efda-431e-9bdf-8567a08a142d",
   "metadata": {},
   "outputs": [
    {
     "data": {
      "image/png": "[encoded data removed]",
      "text/plain": [
       "<Figure size 800x500 with 1 Axes>"
      ]
     },
     "metadata": {},
     "output_type": "display_data"
    }
   ],
   "source": [
    "x_range = np.linspace(0,600,100)\n",
    "\n",
    "plt.figure(figsize = (8,5))\n",
    "\n",
    "\n",
    "#plt.scatter(T-T0,R,color = 'k',marker='x',label = 'Naměřená závislost')\n",
    "plt.scatter(0,R0,color = 'k',marker='x')\n",
    "plt.plot(x_range,resistance(x_range,alfa),lw = 1.2, color = 'k', linestyle = 'dashed', label = \"Fit naměřené závislosti: \\n\" + r\"$ R = R_0 \\cdot (\\alpha \\cdot \\Delta T + 1)$\")\n",
    "plt.errorbar(T-T0,R, yerr=sR ,elinewidth=.8, fmt = 'kx', linestyle = None, ecolor = \"k\",capsize=3, label = 'Naměřená závislost', zorder = 88)\n",
    "\n",
    "\n",
    "#plt.legend(loc='upper right', fontsize=11)\n",
    "\n",
    "handles, labels = plt.gca().get_legend_handles_labels()\n",
    "order = [1,0]\n",
    "plt.legend([handles[idx] for idx in order],[labels[idx] for idx in order], loc='upper left', fontsize=11)\n",
    "\n",
    "\n",
    "plt.xticks(np.arange(0,600,50), minor=True)\n",
    "plt.yticks(np.arange(0.3,1.2,.1), minor=True)\n",
    "\n",
    "plt.ylabel(\"$R$ \" + \"[$\\Omega$]\", fontsize=12)\n",
    "plt.xlabel(r\"$\\Delta T$ [K]\", fontsize=12)\n",
    "\n",
    "plt.savefig('alfa.pdf', bbox_inches = 'tight')\n",
    "plt.show()"
   ]
  },
  {
   "cell_type": "code",
   "execution_count": 11,
   "id": "7176b0fe-6336-44f4-945a-12e0088f76f8",
   "metadata": {},
   "outputs": [],
   "source": [
    "rho = (U/I)/P # -> Do polynomu, ziskam teplotu\n",
    "\n",
    "\n",
    "\n",
    "T = None # z toho polynomu\n",
    "\n",
    "P = U*I\n",
    "\n",
    "\n",
    "\n"
   ]
  },
  {
   "cell_type": "code",
   "execution_count": 1,
   "id": "e0d21118-6e45-48d9-8ec6-1762cb3a4ad2",
   "metadata": {},
   "outputs": [],
   "source": [
    "## FIT - konstanta umernosti P a T^4"
   ]
  },
  {
   "cell_type": "code",
   "execution_count": null,
   "id": "ecd5a5a0-2072-4bed-bb2a-d7f6e794b6c5",
   "metadata": {},
   "outputs": [],
   "source": [
    "## PLOT - kalibracni krivka "
   ]
  },
  {
   "cell_type": "markdown",
   "id": "6cd9ba04-3235-44eb-8b9f-4d2ea1733cc3",
   "metadata": {
    "tags": []
   },
   "source": [
    "# UKOL 2"
   ]
  },
  {
   "cell_type": "code",
   "execution_count": 294,
   "id": "ca9fd57d-fa0e-4989-a5ea-a61fa1a3cd58",
   "metadata": {},
   "outputs": [],
   "source": [
    "U2 = np.array([5.62,4.01, 4.82])\n",
    "I2 = np.array([5.49,4.54, 5.04])\n",
    "P2 = U2*I2\n",
    "\n",
    "T2 = 100\n",
    "'''T1 = np.array([\n",
    "[87,78,74,74, 73, 79, 81, 85, 100, 100.4],\n",
    "[16,13,11,14,18,21,23,27,32,35],\n",
    "[45,29,33,38,45,46,50,53,63,61]\n",
    "])'''\n",
    "T1 = np.array([\n",
    "[78,74,74, 73, 79, 81, 85, 100],\n",
    "[13,11,14,18,21,23,27,32],\n",
    "[29,33,38,45,46,50,53,63]\n",
    "])\n",
    "\n",
    "lamb = np.array([430,470,500,530,570,610,660,720])*10**(-9)\n",
    "\n",
    "temp = np.sqrt(np.sqrt(P2/beta))\n",
    "#temp\n",
    "\n",
    "#temp_real = T1 * np.array([[10,100,1000]]).T\n",
    "#temp_real = T1/100 * np.array([temp]).T\n",
    "#temp_real\n"
   ]
  },
  {
   "cell_type": "code",
   "execution_count": 314,
   "id": "226b2f4c-0bce-40f7-8787-5d96629817fd",
   "metadata": {},
   "outputs": [
    {
     "name": "stdout",
     "output_type": "stream",
     "text": [
      "\\begin{tabular}{rrrrrrrr}\n",
      "\\toprule\n",
      "   3 &   4 &   5 &   6 &   7 &   8 &   9 &  10 \\\\\n",
      " 430 & 470 & 500 & 530 & 570 & 610 & 660 & 720 \\\\\n",
      "\\bottomrule\n",
      "\\end{tabular}\n"
     ]
    }
   ],
   "source": [
    "tab = np.array([np.arange(3,11),lamb*10**9])\n",
    "\n",
    "print(tabulate(tab, tablefmt=\"latex_booktabs\"))"
   ]
  },
  {
   "cell_type": "code",
   "execution_count": 295,
   "id": "93cdeea8-1706-4ec0-8d4f-3ce39cab9f74",
   "metadata": {},
   "outputs": [],
   "source": [
    "U2u = unumpy.uarray(U2,0.1)\n",
    "I2u = unumpy.uarray(I2,0.1)\n",
    "P2u = U2u*I2u"
   ]
  },
  {
   "cell_type": "code",
   "execution_count": 296,
   "id": "d6bcff21-c9fd-4f60-bf6c-eb5863ae8c86",
   "metadata": {},
   "outputs": [],
   "source": [
    "h = 6.626 * 10**(-34)\n",
    "c = 299792458\n",
    "k = 1.380649 *10**(-23)\n",
    "\n",
    "Int0 = (2*h*c**2/lamb**5) * 1/(np.exp(h*c/(lamb*k*temp[0]))-1)\n",
    "Int1 = (2*h*c**2/lamb**5) * 1/(np.exp(h*c/(lamb*k*temp[1]))-1)\n",
    "Int2 = (2*h*c**2/lamb**5) * 1/(np.exp(h*c/(lamb*k*temp[2]))-1)\n"
   ]
  },
  {
   "cell_type": "code",
   "execution_count": 297,
   "id": "18c113e3-6179-4897-b73e-0e2e320de1c3",
   "metadata": {},
   "outputs": [],
   "source": [
    "Int0 = Int0 / (T1[0]/100)\n",
    "Int1 = Int1 / (T1[1]/100)\n",
    "Int2 = Int2 / (T1[2]/100)"
   ]
  },
  {
   "cell_type": "code",
   "execution_count": null,
   "id": "1752493a-4e77-45f5-a0d8-ea54178a5ac2",
   "metadata": {},
   "outputs": [],
   "source": []
  },
  {
   "cell_type": "code",
   "execution_count": null,
   "id": "c235dc52-ca92-4bbc-879e-704d9f8c745f",
   "metadata": {},
   "outputs": [],
   "source": []
  },
  {
   "cell_type": "code",
   "execution_count": null,
   "id": "68e59b64-6bc5-432e-affc-0336a7bd517d",
   "metadata": {},
   "outputs": [],
   "source": []
  },
  {
   "cell_type": "code",
   "execution_count": null,
   "id": "e435bc74-1e9a-4c51-aaab-d5c2c59a5518",
   "metadata": {},
   "outputs": [],
   "source": []
  },
  {
   "cell_type": "code",
   "execution_count": 272,
   "id": "e2421af6-5de6-4170-9641-ae06b2cfa09b",
   "metadata": {},
   "outputs": [],
   "source": [
    "def hnus(l,tep):\n",
    "    return (2*h*c**2/l**5) * 1/(np.exp(h*c/(l*k*tep))-1)"
   ]
  },
  {
   "cell_type": "code",
   "execution_count": 273,
   "id": "a2efe154-1da0-4d6e-aea2-30b55898b419",
   "metadata": {},
   "outputs": [
    {
     "data": {
      "text/plain": [
       "(772.0630636125053, 0.28903316962840175)"
      ]
     },
     "execution_count": 273,
     "metadata": {},
     "output_type": "execute_result"
    }
   ],
   "source": [
    "params,err = curve_fit(hnus, lamb, Int0, p0 = [1000])\n",
    "\n",
    "t1, = params\n",
    "st1, = np.sqrt(np.diag(err))\n",
    "(t1, st1)"
   ]
  },
  {
   "cell_type": "code",
   "execution_count": 274,
   "id": "9412773c-d561-4193-b8c4-08ac79e462d0",
   "metadata": {},
   "outputs": [
    {
     "data": {
      "text/plain": [
       "(703.7322704759953, 0.07569175698920556)"
      ]
     },
     "execution_count": 274,
     "metadata": {},
     "output_type": "execute_result"
    }
   ],
   "source": [
    "params,err = curve_fit(hnus, lamb, Int1, p0 = [1000])\n",
    "\n",
    "t2, = params\n",
    "st2, = np.sqrt(np.diag(err))\n",
    "(t2, st2)"
   ]
  },
  {
   "cell_type": "code",
   "execution_count": 275,
   "id": "f0af623c-092f-43d6-9519-56acf1bf00bf",
   "metadata": {},
   "outputs": [
    {
     "data": {
      "text/plain": [
       "(739.6597011704365, 0.1893510709348573)"
      ]
     },
     "execution_count": 275,
     "metadata": {},
     "output_type": "execute_result"
    }
   ],
   "source": [
    "params,err = curve_fit(hnus, lamb, Int2, p0 = [1000])\n",
    "\n",
    "t3, = params\n",
    "st3, = np.sqrt(np.diag(err))\n",
    "(t3, st3)"
   ]
  },
  {
   "cell_type": "code",
   "execution_count": 276,
   "id": "9a4f090e-e60e-4dbc-ba80-124b03aa66ec",
   "metadata": {},
   "outputs": [
    {
     "data": {
      "text/plain": [
       "array([30.853800000000003+/-0.7856494129062912,\n",
       "       18.2054+/-0.6057367414974925,\n",
       "       24.292800000000003+/-0.6973808141897797], dtype=object)"
      ]
     },
     "execution_count": 276,
     "metadata": {},
     "output_type": "execute_result"
    }
   ],
   "source": [
    "P2u"
   ]
  },
  {
   "cell_type": "code",
   "execution_count": 312,
   "id": "ba8d607b-b9d6-4ac8-bc80-bba4f36b8759",
   "metadata": {},
   "outputs": [
    {
     "name": "stderr",
     "output_type": "stream",
     "text": [
      "C:\\Users\\stepa\\AppData\\Local\\Temp/ipykernel_16820/2161912214.py:31: UserWarning: Matplotlib is currently using pgf, which is a non-GUI backend, so cannot show the figure.\n",
      "  plt.show()\n"
     ]
    }
   ],
   "source": [
    "x_range = np.linspace(400,750,500)\n",
    "\n",
    "plt.figure(figsize = (8,5))\n",
    "\n",
    "\n",
    "#plt.scatter(T-T0,R,color = 'k',marker='x',label = 'Naměřená závislost')\n",
    "plt.scatter(lamb*10**9,Int0,color = 'navy',marker='x', zorder = 6666, label = 'Závislost pro výkon $P = (30.9 \\pm 0.8)$ W')\n",
    "plt.plot(x_range,hnus(x_range/10**9,t1),lw = 1.2, color = 'navy', linestyle = 'dashed', zorder = 6666)\n",
    "\n",
    "plt.scatter(lamb*10**9,Int1,color = 'darkgreen',marker='x',label = 'Závislost pro výkon $P = (18.2 \\pm 0.6)$ W')\n",
    "plt.plot(x_range,hnus(x_range/10**9,t2),lw = 1.2, color = 'darkgreen', linestyle = 'dashed')\n",
    "\n",
    "\n",
    "plt.scatter(lamb*10**9,Int2,color = 'darkcyan',marker='x',label = 'Závislost pro výkon $P = (24.3 \\pm 0.7)$ W')\n",
    "plt.plot(x_range,hnus(x_range/10**9,t3),lw = 1.2, linestyle = 'dashed', color = 'darkcyan')\n",
    "\n",
    "plt.legend(loc='upper left', fontsize=11)\n",
    "\n",
    "#handles, labels = plt.gca().get_legend_handles_labels()\n",
    "##order = [1,0]\n",
    "#plt.legend([handles[idx] for idx in order],[labels[idx] for idx in order], loc='upper left', fontsize=11)\n",
    "\n",
    "\n",
    "#plt.xticks(np.arange(0,600,50), minor=True)\n",
    "#plt.yticks(np.arange(0.3,1.2,.1), minor=True)\n",
    "\n",
    "plt.ylabel(\"$I$ \" + \"[W $\\cdot$ sr$^{-1} \\cdot $m$^{-1} $]\", fontsize=12)\n",
    "plt.xlabel(r\"$\\lambda$ [nm]\", fontsize=12)\n",
    "\n",
    "plt.savefig('intenzity.pdf', bbox_inches = 'tight')\n",
    "plt.show()"
   ]
  },
  {
   "cell_type": "code",
   "execution_count": 181,
   "id": "304eb050-1c65-4472-a762-710098b2a0ae",
   "metadata": {},
   "outputs": [
    {
     "data": {
      "text/plain": [
       "(738.4850117529791, 16.11286059220154)"
      ]
     },
     "execution_count": 181,
     "metadata": {},
     "output_type": "execute_result"
    }
   ],
   "source": [
    "mean(np.array([t1,t2,t3])),error(np.array([t1,t2,t3]))"
   ]
  },
  {
   "cell_type": "code",
   "execution_count": 139,
   "id": "59a54dbc-bf8d-48e2-870a-581ccdc27929",
   "metadata": {},
   "outputs": [
    {
     "data": {
      "text/plain": [
       "(1511.462967115378, 19.114144666554502)"
      ]
     },
     "execution_count": 155,
     "metadata": {},
     "output_type": "execute_result"
    }
   ],
   "source": [
    "mean(np.array([t1,t2,t3])),error(np.array([t1,t2,t3]))"
   ]
  },
  {
   "cell_type": "code",
   "execution_count": null,
   "id": "d640b09d-ba19-4ba9-9e89-9bf1a8ed2f0c",
   "metadata": {},
   "outputs": [],
   "source": []
  },
  {
   "cell_type": "code",
   "execution_count": null,
   "id": "3ae036b8-fd93-4c24-b1aa-a53f0ab962b7",
   "metadata": {},
   "outputs": [],
   "source": []
  },
  {
   "cell_type": "code",
   "execution_count": 97,
   "id": "076985bc-90df-4947-a997-e71f3a92a383",
   "metadata": {},
   "outputs": [
    {
     "data": {
      "text/plain": [
       "array([4.58283889e-18, 5.00914948e-18, 5.32888242e-18, 5.64861537e-18,\n",
       "       6.07492596e-18, 6.50123656e-18, 7.03412480e-18, 7.67359069e-18])"
      ]
     },
     "execution_count": 97,
     "metadata": {},
     "output_type": "execute_result"
    }
   ],
   "source": [
    "lamb*k*temp[0]"
   ]
  },
  {
   "cell_type": "code",
   "execution_count": null,
   "id": "db43147f-cd72-4d6f-8a7c-5c1204561540",
   "metadata": {},
   "outputs": [],
   "source": []
  },
  {
   "cell_type": "code",
   "execution_count": 310,
   "id": "06f8aaff-fb00-420d-b49a-fdb0008b1104",
   "metadata": {},
   "outputs": [
    {
     "name": "stdout",
     "output_type": "stream",
     "text": [
      "\\begin{tabular}{rrrr}\n",
      "\\toprule\n",
      " 430 &  78 & 13 & 29 \\\\\n",
      " 470 &  74 & 11 & 33 \\\\\n",
      " 500 &  74 & 14 & 38 \\\\\n",
      " 530 &  73 & 18 & 45 \\\\\n",
      " 570 &  79 & 21 & 46 \\\\\n",
      " 610 &  81 & 23 & 50 \\\\\n",
      " 660 &  85 & 27 & 53 \\\\\n",
      " 720 & 100 & 32 & 63 \\\\\n",
      "\\bottomrule\n",
      "\\end{tabular}\n"
     ]
    }
   ],
   "source": [
    "tab = np.array([lamb*10**9, T1[0], T1[1], T1[2]]).round(5).T\n",
    "\n",
    "print(tabulate(tab, tablefmt=\"latex_booktabs\"))"
   ]
  },
  {
   "cell_type": "code",
   "execution_count": 309,
   "id": "0f49d75c-561a-44c6-9fef-cc5e80c21d23",
   "metadata": {},
   "outputs": [
    {
     "name": "stdout",
     "output_type": "stream",
     "text": [
      "\\begin{tabular}{rr}\n",
      "\\toprule\n",
      " 30.85 & 772.06 \\\\\n",
      " 18.21 & 703.73 \\\\\n",
      " 24.29 & 739.66 \\\\\n",
      "\\bottomrule\n",
      "\\end{tabular}\n"
     ]
    }
   ],
   "source": [
    "tab = np.array([P2,[t1,t2,t3]]).round(2).T\n",
    "\n",
    "print(tabulate(tab, tablefmt=\"latex_booktabs\"))"
   ]
  },
  {
   "cell_type": "code",
   "execution_count": null,
   "id": "a63b80e8-a22c-4e74-827a-68915701f569",
   "metadata": {},
   "outputs": [],
   "source": []
  }
 ],
 "metadata": {
  "kernelspec": {
   "display_name": "Python 3 (ipykernel)",
   "language": "python",
   "name": "python3"
  },
  "language_info": {
   "codemirror_mode": {
    "name": "ipython",
    "version": 3
   },
   "file_extension": ".py",
   "mimetype": "text/x-python",
   "name": "python",
   "nbconvert_exporter": "python",
   "pygments_lexer": "ipython3",
   "version": "3.11.6"
  }
 },
 "nbformat": 4,
 "nbformat_minor": 5
}
