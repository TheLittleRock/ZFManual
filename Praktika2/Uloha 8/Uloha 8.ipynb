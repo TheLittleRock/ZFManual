{
 "cells": [
  {
   "cell_type": "code",
   "execution_count": 1,
   "id": "f30a1b2d-4d3d-4f37-86ca-3218a974ff3b",
   "metadata": {},
   "outputs": [],
   "source": [
    "import numpy as np\n",
    "import sympy as smp\n",
    "from sympy import symbols, Eq, solve\n",
    "import matplotlib.pyplot as plt\n",
    "from scipy.optimize import curve_fit\n",
    "from tabulate import tabulate\n",
    "import matplotlib"
   ]
  },
  {
   "cell_type": "code",
   "execution_count": 2,
   "id": "2722b48d-94b3-4b7d-b509-ae4d07c1da3b",
   "metadata": {},
   "outputs": [],
   "source": [
    "def mean(arr):\n",
    "    return np.mean(arr)\n",
    "\n",
    "def error(x):\n",
    "    return x.std() / np.sqrt(x.size)\n",
    "\n",
    "def weighted_error(x, err):\n",
    "    \n",
    "    x = np.asarray(x)\n",
    "    err = np.asarray(err)\n",
    "    \n",
    "    average = np.sum(x/(err**2))/np.sum(1/err**2)\n",
    "    \n",
    "    average_error = 1/np.sqrt(np.sum(1/err**2))\n",
    "    \n",
    "    return average, average_error\n",
    "\n",
    "def decimal(x):\n",
    "    return x.replace(',', '.').encode()\n",
    "\n",
    "def sum_err(x,sx):\n",
    "    return np.sum(x),np.sqrt(np.sum([np.sum(i**2) for i in sx])) \n",
    "\n",
    "def diff_err(x,sx):\n",
    "    return x[0]-x[1],np.sqrt(np.sum([np.sum(i**2) for i in sx])) \n",
    "\n",
    "def times_err(x,sx):\n",
    "    return np.prod(x), np.prod(x)*np.sqrt(np.sum([np.sum((i/j)**2) for i,j in zip(sx,x)]))\n",
    "\n",
    "#def frac_err(x,sx):\n",
    "#    return x[0]/x[1], x[0]/x[1]*np.sqrt(np.sum((sx/x)**2))\n",
    "\n",
    "def frac_err(x,sx):\n",
    "    return x[0]/x[1], x[0]/x[1]*np.sqrt(np.sum([np.sum((i/j)**2) for i,j in zip(sx,x)]))\n",
    "    #return [np.sum((i/j)**2) for i,j in zip(sx,x)]"
   ]
  },
  {
   "cell_type": "code",
   "execution_count": 43,
   "id": "d3cd173b-e746-42c6-9b00-fd66f0ad920b",
   "metadata": {},
   "outputs": [],
   "source": [
    "matplotlib.use(\"pgf\")\n",
    "matplotlib.rcParams.update({\n",
    "    \"pgf.texsystem\": \"pdflatex\",\n",
    "    'font.family': 'serif',\n",
    "    'text.usetex': True,\n",
    "    'pgf.rcfonts': False,\n",
    "})"
   ]
  },
  {
   "cell_type": "markdown",
   "id": "55a894be-410c-4c10-b2d6-186b16756053",
   "metadata": {
    "tags": []
   },
   "source": [
    "# Ukol 1"
   ]
  },
  {
   "cell_type": "code",
   "execution_count": 45,
   "id": "197cb80c-5117-4bf7-8c58-5a80d2c4a702",
   "metadata": {},
   "outputs": [],
   "source": [
    "phi = np.arange(0,181,10)\n",
    "#U = np.array([0.04,0.07, 0.45, 0.95,1.73,2.02,2.7,2.97,3.47,3.57]) ### pm 0.06\n",
    "#U = np.array([0.05,0.11,0.33,0.69,1.33,1.85,2.46,2.53,2.9,2.71,3.27,2.80,2.30,1.58,0.95,0.42,0.11,0.05,0.10]) ### pm 0.06\n",
    "U = np.array([0.05,0.11,0.33,0.69,1.33,1.85,2.46,2.53,2.9,2.97,3.27,2.80,2.30,1.58,0.95,0.42,0.11,0.05,0.10]) ### pm 0.06\n",
    "U2 = np.array([0.03,0.23,0.50,0.73,1,0.83,0.60,0.31,0.1,0.03,0.17,0.47,0.71,0.95,0.99,0.65,0.34,0.09,0.03])\n"
   ]
  },
  {
   "cell_type": "code",
   "execution_count": 48,
   "id": "fdddc7e2-5682-4e07-aaae-df6ba91f1957",
   "metadata": {},
   "outputs": [],
   "source": [
    "U = np.array([0.05,0.11,0.33,0.69,1.33,1.85,2.46,3.27,2.80,2.30,1.58,0.95,0.42,0.11,0.05,0.10]) ### pm 0.06\n",
    "U2 = np.array([0.03,0.23,0.50,0.73,1,0.83,0.60,0.17,0.47,0.71,0.95,0.99,0.65,0.34,0.09,0.03])\n",
    "phi = np.array([  0,  10,  20,  30,  40,  50,  60, 100, 110, 120,\n",
    "       130, 140, 150, 160, 170, 180])"
   ]
  },
  {
   "cell_type": "markdown",
   "id": "daa4b4d7-c6c3-4946-9879-46bdaf43f795",
   "metadata": {
    "tags": []
   },
   "source": [
    "## Rovnobezne"
   ]
  },
  {
   "cell_type": "code",
   "execution_count": 53,
   "id": "837219d9-58fd-4c0a-a475-af5ab45bd8d4",
   "metadata": {},
   "outputs": [
    {
     "name": "stdout",
     "output_type": "stream",
     "text": [
      "4.084105088946319 +- 0.06793595541386428\n",
      "0.05411917340744514 +- 0.007977799413052194\n"
     ]
    }
   ],
   "source": [
    "\n",
    "def func(theta,I0,shift):\n",
    "    return I0*np.sin(theta*np.pi/180+shift)**4\n",
    "\n",
    "params,err = curve_fit(func, phi, U, sigma=np.full(16,0.1), absolute_sigma=True)\n",
    "\n",
    "I0,shift = params\n",
    "sI0,sshift = np.sqrt(np.diag(err))\n",
    "print(I0,'+-',sI0)\n",
    "print(shift,'+-',sshift)"
   ]
  },
  {
   "cell_type": "code",
   "execution_count": 54,
   "id": "2fb31945-3785-465d-8f12-d232ea71be63",
   "metadata": {},
   "outputs": [
    {
     "name": "stderr",
     "output_type": "stream",
     "text": [
      "C:\\Users\\stepa\\AppData\\Local\\Temp/ipykernel_23668/4060059161.py:24: UserWarning: Matplotlib is currently using pgf, which is a non-GUI backend, so cannot show the figure.\n",
      "  plt.show()\n"
     ]
    }
   ],
   "source": [
    "x_range = np.linspace(0,180,100)\n",
    "\n",
    "plt.figure(figsize = (8,5))\n",
    "\n",
    "\n",
    "plt.scatter(phi,U,color = 'k',marker = 'x', label = \"Namerena intenzita\")\n",
    "plt.plot(x_range,func(x_range,I0,shift), color = 'k', linestyle = 'dashed', label = \"Proložení křivkou: \" + \"$(3.5 \\pm 0.1)\\cdot(\\sin\\Phi)^4,$ \\n\" + \"$\\Phi = \\Theta + (0.02 \\pm 0.01)$\")\n",
    "\n",
    "plt.legend(loc='upper left', fontsize=10)\n",
    "\n",
    "#handles, labels = plt.gca().get_legend_handles_labels()\n",
    "#order = [1,0]\n",
    "#plt.legend([handles[idx] for idx in order],[labels[idx] for idx in order], loc='upper left', fontsize=11)\n",
    "\n",
    "plt.xticks(np.arange(0,181,10), minor = True)\n",
    "plt.xticks(np.arange(0,181,20))\n",
    "plt.yticks(np.arange(0,5,.1), minor = True)\n",
    "plt.yticks(np.arange(0,5,0.5))\n",
    "\n",
    "plt.ylabel(\"$U$ \" + \"[V]\", fontsize=12)\n",
    "plt.xlabel(\"$\\Theta$ [rad]\", fontsize=12)\n",
    "\n",
    "plt.savefig('Rovnobezne.pdf', bbox_inches = 'tight')\n",
    "plt.show()"
   ]
  },
  {
   "cell_type": "code",
   "execution_count": null,
   "id": "8bf123d0-a802-47e8-8e7d-a87d6db31061",
   "metadata": {},
   "outputs": [],
   "source": []
  },
  {
   "cell_type": "markdown",
   "id": "b94ea47f-245d-472d-83d5-8982c9e3a542",
   "metadata": {
    "tags": []
   },
   "source": [
    "## Malus"
   ]
  },
  {
   "cell_type": "code",
   "execution_count": 55,
   "id": "a336139b-fa47-45e1-a7e3-91b38fafbf98",
   "metadata": {},
   "outputs": [
    {
     "name": "stdout",
     "output_type": "stream",
     "text": [
      "3.376975190515155 +- 0.07588054146729804\n",
      "0.039064855158450595 +- 0.015268589115630555\n"
     ]
    }
   ],
   "source": [
    "U_comb = np.sqrt(U**2+U2**2)\n",
    "\n",
    "def func(theta,I0,shift):\n",
    "    return I0*(np.sin(theta*np.pi/180+shift))**2\n",
    "\n",
    "params,err = curve_fit(func, phi, U_comb, sigma=np.full(16,0.15), absolute_sigma=True)\n",
    "\n",
    "I0,shift = params\n",
    "sI0,sshift = np.sqrt(np.diag(err))\n",
    "print(I0,'+-',sI0)\n",
    "print(shift,'+-',sshift)"
   ]
  },
  {
   "cell_type": "code",
   "execution_count": 56,
   "id": "6c647a50-d0d3-433e-9a80-28e9f6f18d60",
   "metadata": {},
   "outputs": [
    {
     "name": "stderr",
     "output_type": "stream",
     "text": [
      "C:\\Users\\stepa\\AppData\\Local\\Temp/ipykernel_23668/1482153427.py:24: UserWarning: Matplotlib is currently using pgf, which is a non-GUI backend, so cannot show the figure.\n",
      "  plt.show()\n"
     ]
    }
   ],
   "source": [
    "x_range = np.linspace(0,180,100)\n",
    "\n",
    "plt.figure(figsize = (8,5))\n",
    "\n",
    "\n",
    "plt.scatter(phi,U_comb,color = 'k',marker = 'x', label = \"Namerena intenzita\")\n",
    "plt.plot(x_range,func(x_range,I0,shift), color = 'k', linestyle = 'dashed', label = \"Proložení křivkou: \" + \"$(3.19 \\pm 0.06)\\cdot(\\sin\\Phi)^2,$ \\n\" + \"$\\Phi = \\Theta + (0.02 \\pm 0.01)$\")\n",
    "\n",
    "plt.legend(loc='upper left', fontsize=10)\n",
    "\n",
    "#handles, labels = plt.gca().get_legend_handles_labels()\n",
    "#order = [1,0]\n",
    "#plt.legend([handles[idx] for idx in order],[labels[idx] for idx in order], loc='upper left', fontsize=11)\n",
    "\n",
    "plt.xticks(np.arange(0,181,10), minor = True)\n",
    "plt.xticks(np.arange(0,181,20))\n",
    "plt.yticks(np.arange(0,5,.1), minor = True)\n",
    "plt.yticks(np.arange(0,5,0.5))\n",
    "\n",
    "plt.ylabel(\"$U$ \" + \"[V]\", fontsize=12)\n",
    "plt.xlabel(\"$\\Theta$ [rad]\", fontsize=12)\n",
    "\n",
    "plt.savefig('Malus.pdf', bbox_inches = 'tight')\n",
    "plt.show()"
   ]
  },
  {
   "cell_type": "markdown",
   "id": "ba0c655b-1078-424c-89d4-8a058742d039",
   "metadata": {
    "tags": []
   },
   "source": [
    "## Kolmo"
   ]
  },
  {
   "cell_type": "code",
   "execution_count": 58,
   "id": "f999a7b7-5846-4e4e-a80a-464a39f0c489",
   "metadata": {},
   "outputs": [
    {
     "name": "stdout",
     "output_type": "stream",
     "text": [
      "3.8159890787962514 +- 0.07512351389748524\n",
      "0.04036552616631784 +- 0.009049509337303219\n"
     ]
    }
   ],
   "source": [
    "\n",
    "def func(theta,I0,shift):\n",
    "    return I0*(np.sin(theta*np.pi/180+shift)*np.cos(theta*np.pi/180+shift))**2\n",
    "\n",
    "params,err = curve_fit(func, phi, U2, sigma=np.full(16,0.1), absolute_sigma=False, p0 = [3.8,0])\n",
    "\n",
    "I0,shift = params\n",
    "sI0,sshift = np.sqrt(np.diag(err))\n",
    "print(I0,'+-',sI0)\n",
    "print(shift,'+-',sshift)"
   ]
  },
  {
   "cell_type": "code",
   "execution_count": 59,
   "id": "c86a6acf-86f4-4db4-bf58-0812040ccbd0",
   "metadata": {},
   "outputs": [
    {
     "name": "stderr",
     "output_type": "stream",
     "text": [
      "C:\\Users\\stepa\\AppData\\Local\\Temp/ipykernel_23668/2937680507.py:24: UserWarning: Matplotlib is currently using pgf, which is a non-GUI backend, so cannot show the figure.\n",
      "  plt.show()\n"
     ]
    }
   ],
   "source": [
    "x_range = np.linspace(0,180,100)\n",
    "\n",
    "plt.figure(figsize = (8,5))\n",
    "\n",
    "\n",
    "plt.scatter(phi,U2,color = 'k',marker = 'x', label = \"Namerena intenzita\")\n",
    "plt.plot(x_range,func(x_range,I0,shift), color = 'k', linestyle = 'dashed', label = \"Proložení křivkou: \" + \"$(3.82 \\pm 0.07)\\cdot(\\sin\\Phi\\cos\\Phi)^2,$ \\n\" + \"$\\Phi = \\Theta + (0.04 \\pm 0.01)$\")\n",
    "\n",
    "plt.legend(loc='upper left', fontsize=10)\n",
    "\n",
    "#handles, labels = plt.gca().get_legend_handles_labels()\n",
    "#order = [1,0]\n",
    "#plt.legend([handles[idx] for idx in order],[labels[idx] for idx in order], loc='upper left', fontsize=11)\n",
    "\n",
    "plt.xticks(np.arange(0,181,10), minor = True)\n",
    "plt.xticks(np.arange(0,181,20))\n",
    "plt.yticks(np.arange(0,5,.1), minor = True)\n",
    "plt.yticks(np.arange(0,5,0.5))\n",
    "\n",
    "plt.ylabel(\"$n$ \" + \"[-]\", fontsize=12)\n",
    "plt.xlabel(\"$U$ [V]\", fontsize=12)\n",
    "\n",
    "plt.savefig('Kolmo.pdf', bbox_inches = 'tight')\n",
    "plt.show()"
   ]
  },
  {
   "cell_type": "markdown",
   "id": "f0a9fe23-3b9a-431b-8d86-22b74e6780bc",
   "metadata": {
    "tags": []
   },
   "source": [
    "# Ukol 2"
   ]
  },
  {
   "cell_type": "code",
   "execution_count": 111,
   "id": "bae2ce67-506f-45b2-934b-02023c01c4d2",
   "metadata": {},
   "outputs": [],
   "source": [
    "U3 = np.array([[0.04,0.03,0.45,1.68,5.54,5.71,2.15,0.26,0.04,0.07],\n",
    "              [0.03,0.07,0.58,2.08,4.42,4.11,1.92,0.56,0.18,0.04],\n",
    "              [0.08,0.22,0.75,1.7,3.41,3.21,1.81,0.57,0.20,0.11],\n",
    "              [0.08,0.41,0.7,1.48,2.55,2.77,1.31,0.71,0.37,0.09],\n",
    "              [0.11,0.52,0.7,1.64,2.34,2.01,1.65,0.55,0.35,0.08],\n",
    "              [0.2,0.55,0.69,1.66,2,1.7,1.35,0.58,0.5,0.26],\n",
    "              [0.2,0.42,0.85,1.4,1.33,1.41,1.01,0.63,0.36,0.2],\n",
    "              [0.22,0.3,0.75,1.22,1.35,1.41,0.81,0.53,0.26,0.19],\n",
    "              [0.22,0.38,0.42,0.94,1.17,1.13,0.54,0.63,0.33,0.11],\n",
    "              [0.14,0.27,0.58,0.52,1.04,0.76,0.96,0.56,0.48,0.42]]) ####pm 0.1\n",
    "\n",
    "x = np.arange(0,101,10)\n",
    "X, Y = np.meshgrid(x, x)\n",
    "\n",
    "x1 = np.arange(0,100,10)\n",
    "X1, Y1 = np.meshgrid(x1, x1)"
   ]
  },
  {
   "cell_type": "code",
   "execution_count": 50,
   "id": "b8ba922d-0bc9-4053-80ed-26e0266aaad4",
   "metadata": {},
   "outputs": [
    {
     "name": "stderr",
     "output_type": "stream",
     "text": [
      "C:\\Users\\stepa\\AppData\\Local\\Temp/ipykernel_22536/2167684531.py:21: UserWarning: Matplotlib is currently using pgf, which is a non-GUI backend, so cannot show the figure.\n",
      "  plt.show()\n"
     ]
    }
   ],
   "source": [
    "axs = [0,0]\n",
    "fig = plt.figure(figsize = (4,4))\n",
    "axs[0] = fig.add_subplot(1, 1, 1)\n",
    "\n",
    "img = axs[0].pcolormesh(X,Y,U3)\n",
    "cbar = fig.colorbar(img,fraction=0.046, pad=0.04)\n",
    "\n",
    "axs[0].set_aspect(1)\n",
    "\n",
    "axs[0].set_xlabel('$y$ [cm]')\n",
    "axs[0].set_ylabel('$x$ [cm]')\n",
    "\n",
    "axs[0].set_xticks(x, minor = True)\n",
    "axs[0].set_yticks(x, minor = True)\n",
    "\n",
    "cbar.set_label('$U$ [V]', fontsize = 10)\n",
    "\n",
    "fig.tight_layout(pad = 0)\n",
    "\n",
    "plt.savefig('heatmap.pdf', bbox_inches = 'tight')\n",
    "plt.show()"
   ]
  },
  {
   "cell_type": "code",
   "execution_count": 51,
   "id": "be621cb1-c933-4ef2-b11e-e3891fa23f15",
   "metadata": {},
   "outputs": [
    {
     "name": "stderr",
     "output_type": "stream",
     "text": [
      "C:\\Users\\stepa\\AppData\\Local\\Temp/ipykernel_22536/1169820992.py:54: UserWarning: Matplotlib is currently using pgf, which is a non-GUI backend, so cannot show the figure.\n",
      "  plt.show()\n"
     ]
    }
   ],
   "source": [
    "#fig, axs = plt.subplots(1, 2, figsize = (8,3.3))  # a figure with a 2x2 grid of Axes\n",
    "\n",
    "axs = [0,0]\n",
    "fig = plt.figure(figsize = (4,4))\n",
    "axs[1] = fig.add_subplot(1, 1, 1, projection='3d')\n",
    "#axs[0] = fig.add_subplot(1, 2, 1)\n",
    "\n",
    "#img = axs[0].pcolormesh(X,Y,U3)\n",
    "#cbar = fig.colorbar(img,)\n",
    "\n",
    "#axs[0].set_aspect(1)\n",
    "axs[1].set_aspect('equalxy')\n",
    "\n",
    "#axs[0].set_xlabel('$y$ [cm]')\n",
    "#axs[0].set_ylabel('$x$ [cm]')\n",
    "\n",
    "#axs[0].set_xticks(x, minor = True)\n",
    "#axs[0].set_yticks(x, minor = True)\n",
    "\n",
    "cbar.set_label('$U$ [V]', fontsize = 10)\n",
    "\n",
    "axs[1].plot_surface(X1,Y1, U3,cmap='viridis')\n",
    "axs[1].scatter(X1,Y1, U3, marker = '.', c = U3, cmap = 'viridis')\n",
    "axs[1].xaxis.set_pane_color('w')\n",
    "axs[1].yaxis.set_pane_color('w')\n",
    "axs[1].zaxis.set_pane_color('w')\n",
    "\n",
    "axs[1].set_xlabel('$y$ [cm]', fontsize = 10)\n",
    "axs[1].set_ylabel('$x$ [cm]', fontsize = 10)\n",
    "axs[1].set_zlabel('$U$ [V]', fontsize = 10)\n",
    "\n",
    "axs[1].set_xticks(x, minor = True)\n",
    "axs[1].set_yticks(x, minor = True)\n",
    "axs[1].set_zticks(np.arange(0,8,1), minor = True)\n",
    "\n",
    "axs[1].grid(which = 'major', zorder = 0)\n",
    "\n",
    "plt.rcParams['grid.linestyle'] = 'dotted'\n",
    "plt.rcParams['grid.linewidth'] = 0.6\n",
    "\n",
    "\n",
    "axs[1].set_xlim(0,100)\n",
    "axs[1].set_ylim(0,100)\n",
    "axs[1].set_zlim(0,8)\n",
    "\n",
    "axs[1].zaxis._axinfo['juggled'] = (2,2,0)\n",
    "axs[1].plot([0,0],[0,0],[0,8],color = 'k', lw = .5)\n",
    "\n",
    "axs[1].view_init(elev=25, azim=60)\n",
    "\n",
    "fig.tight_layout(pad = 0)\n",
    "\n",
    "plt.savefig('rozlozeni3D.pdf', bbox_inches = 'tight')\n",
    "plt.show()"
   ]
  },
  {
   "cell_type": "markdown",
   "id": "ab9a7ac6-d730-4ba4-9571-c2eb0bc38ad0",
   "metadata": {
    "tags": []
   },
   "source": [
    "# Ukol 3"
   ]
  },
  {
   "cell_type": "markdown",
   "id": "e530d6f2-7289-43e9-a30a-fbe80774788c",
   "metadata": {},
   "source": [
    "U4 = np.array([10.23,7,4,10.23,10.24,1.5,10.23,10.23,5,8.5,10.24,10.23,6,10.23,10.24,4,10.24,10.24,2.5,9])  ##+2cm podstavy\n",
    "U4r = np.delete(U4,np.argwhere(U4>10.21))\n",
    "d = np.array([ 5. ,  5.5,  6. ,  6.5,  7. ,  7.5,  8. ,  8.5,  9. ,  9.5, 10. ,\n",
    "       10.5, 11. , 11.5, 12. , 12.5, 13. , 13.5, 14. , 14.5])\n",
    "dr = np.delete(d,np.argwhere(U4>10.21))\n",
    "U4.shape\n",
    "np.argwhere(U4>10.21)\n",
    "d"
   ]
  },
  {
   "cell_type": "code",
   "execution_count": 3,
   "id": "ea45af3a-8ed1-4d58-8f01-be43a81858ed",
   "metadata": {},
   "outputs": [],
   "source": [
    "U4 = np.array([7.65,3.44,0.25,6.93,10.02,8.95,4.88,0.48,4.89,9.5,10.21,8.15,2.44,1.25,7.36,10.21,9.69,4.39,1.15,5.05,10.2,10.22,7,2.14,3.15,8.56,10.22,10.2,6.2,3.14,8.4\n",
    "])\n",
    "d = np.array([50,53,56,59,62,65,68,71,74,77,80,83,86,89,92,95,98,101,104,107,110,113,116,119,122,125,128,131,134,137,140\n",
    "])"
   ]
  },
  {
   "cell_type": "code",
   "execution_count": 5,
   "id": "44c0317f-6cfc-49ce-a24a-9d69d0207de1",
   "metadata": {},
   "outputs": [
    {
     "name": "stdout",
     "output_type": "stream",
     "text": [
      "32.461046710338664 10.263272015234362 -1.239213916889906\n",
      "0.13381779026596374 0.23725722154428958 0.07933625894135427\n"
     ]
    }
   ],
   "source": [
    "\n",
    "def func(x,lamb,I0,phi):\n",
    "    return I0*np.abs(np.sin(2*np.pi*x/lamb + phi))\n",
    "\n",
    "params,err = curve_fit(func, d, U4, p0 = [33,20,0])\n",
    "\n",
    "lamb,I0,phi = params\n",
    "slamb,sI0,sphi = np.sqrt(np.diag(err))\n",
    "print(lamb,I0,phi)\n",
    "print(slamb,sI0,sphi)"
   ]
  },
  {
   "cell_type": "code",
   "execution_count": 36,
   "id": "1b84a440-2a42-44ef-ae0b-35f87c1caced",
   "metadata": {},
   "outputs": [
    {
     "name": "stderr",
     "output_type": "stream",
     "text": [
      "C:\\Users\\stepa\\AppData\\Local\\Temp/ipykernel_9420/2454252124.py:25: UserWarning: Matplotlib is currently using pgf, which is a non-GUI backend, so cannot show the figure.\n",
      "  plt.show()\n"
     ]
    }
   ],
   "source": [
    "x_range = np.linspace(45,145,1000)\n",
    "\n",
    "plt.figure(figsize = (8,5))\n",
    "\n",
    "\n",
    "plt.scatter(d,U4,color = 'k',marker = 'x', label = \"Namerena intenzita\")\n",
    "plt.plot(x_range,func(x_range,lamb,I0,phi), color = 'k', linestyle = 'dashed', label = r\"Proložení křivkou: $ U_0 \\cdot |\\sin(\\frac{2 \\pi d}{\\lambda} + \\varphi)| $\")\n",
    "\n",
    "plt.legend(loc='upper left', fontsize=10)\n",
    "\n",
    "#handles, labels = plt.gca().get_legend_handles_labels()\n",
    "#order = [1,0]\n",
    "#plt.legend([handles[idx] for idx in order],[labels[idx] for idx in order], loc='upper left', fontsize=11)\n",
    "\n",
    "plt.xticks(np.arange(40,150,5), minor = True)\n",
    "#plt.xticks(np.arange(0,181,20))\n",
    "plt.yticks(np.arange(0,10,1), minor = True)\n",
    "#plt.yticks(np.arange(0,5,0.5))\n",
    "plt.ylim(0,13)\n",
    "\n",
    "plt.ylabel(\"$U$ \" + \"[V]\", fontsize=12)\n",
    "plt.xlabel(\"$d$ [mm]\", fontsize=12)\n",
    "\n",
    "plt.savefig('Stojate.pdf', bbox_inches = 'tight')\n",
    "plt.show()"
   ]
  },
  {
   "cell_type": "markdown",
   "id": "b3eceab5-a565-408a-9fcf-971c55be791b",
   "metadata": {},
   "source": [
    "minima vzdalenost - 0.3 $\\pm$ 0.1"
   ]
  },
  {
   "cell_type": "code",
   "execution_count": 42,
   "id": "a3373ab2-3c5b-4993-ba99-2233be5d7aa1",
   "metadata": {},
   "outputs": [
    {
     "data": {
      "text/plain": [
       "(1.15, 0.1)"
      ]
     },
     "execution_count": 42,
     "metadata": {},
     "output_type": "execute_result"
    }
   ],
   "source": [
    "d = 0.3\n",
    "sd = 0.2\n",
    "n = d/2 + 1\n",
    "sn = sd/2 \n",
    "n, sn"
   ]
  },
  {
   "cell_type": "markdown",
   "id": "31add917-0166-45b2-a6b6-5a2e55fef3c5",
   "metadata": {
    "tags": []
   },
   "source": [
    "# Ukol 4"
   ]
  },
  {
   "cell_type": "code",
   "execution_count": 48,
   "id": "a71a5ac0-dddb-4e31-bdde-b4adbe3a3012",
   "metadata": {},
   "outputs": [],
   "source": [
    "U5 = np.array([1.8,1.8,2,2.1,1.8,1.5,1.4,1.1,1.1,0.8,0.7,0.6,0.5,0.4]) #pm 0.1, hrana\n",
    "d = np.arange(-80,60,10)\n",
    "#plt.errorbar(d[::-1], U5, 0.1, fmt = 'kx', label = 'namerena data', capsize=3, elinewidth=1)\n",
    "#plt.scatter(d[::-1], U5)"
   ]
  },
  {
   "cell_type": "code",
   "execution_count": 49,
   "id": "a2bb047b-80fe-4530-98f9-19c02f0eb72a",
   "metadata": {},
   "outputs": [
    {
     "name": "stderr",
     "output_type": "stream",
     "text": [
      "C:\\Users\\stepa\\AppData\\Local\\Temp/ipykernel_13544/4156038483.py:18: UserWarning: Matplotlib is currently using pgf, which is a non-GUI backend, so cannot show the figure.\n",
      "  plt.show()\n"
     ]
    }
   ],
   "source": [
    "plt.figure(figsize = (8,5))\n",
    "\n",
    "plt.errorbar(d[::-1], U5, 0.1, fmt = 'kx', label = 'Naměřená intenzita', capsize=3, elinewidth=1,zorder = 666)\n",
    "\n",
    "plt.plot([0,0],[0,2.5], label = 'Hrana', linestyle = 'dashed', color = 'gray',zorder = 0)\n",
    "\n",
    "plt.legend(loc='upper left', fontsize=10)\n",
    "\n",
    "plt.xticks(np.arange(-80,60,10), minor = True)\n",
    "plt.yticks(np.arange(0,2.5,.1), minor = True)\n",
    "\n",
    "plt.ylim(0,2.5)\n",
    "\n",
    "plt.ylabel(\"$U$ \" + \"[V]\", fontsize=12)\n",
    "plt.xlabel(\"$y$ [mm]\", fontsize=12)\n",
    "\n",
    "plt.savefig('Hrana.pdf', bbox_inches = 'tight')\n",
    "plt.show()"
   ]
  },
  {
   "cell_type": "code",
   "execution_count": 60,
   "id": "d4e4ebc1-3fa2-498b-91cc-1c654a031a04",
   "metadata": {},
   "outputs": [],
   "source": [
    "U6L = np.array([0.5,0.6,0.6,0.7,0.4,0.5,0.3,0.5,0.3]) ## sterbina 40mm\n",
    "U6P = np.array([0.6,0.5,0.5,0.35,0.4,0.25,0.2,0.2,0.15,0.05]) ## sterbina 40mm\n",
    "U6_40 = np.array([0.1, 0.3, 0.4, 0.5, 0.6, 0.7, 0.7, 0.8, 0.8,0.9,0.7,0.5,0.45,0.4,0.25,0.2,0.2,0.15,0.05])\n",
    "phi = np.arange(-90,91,10)"
   ]
  },
  {
   "cell_type": "code",
   "execution_count": 61,
   "id": "90492d0a-8226-4f84-8e33-affaae2424d1",
   "metadata": {},
   "outputs": [
    {
     "name": "stderr",
     "output_type": "stream",
     "text": [
      "C:\\Users\\stepa\\AppData\\Local\\Temp/ipykernel_13544/3469924460.py:15: UserWarning: Matplotlib is currently using pgf, which is a non-GUI backend, so cannot show the figure.\n",
      "  plt.show()\n"
     ]
    }
   ],
   "source": [
    "plt.figure(figsize = (8,5))\n",
    "\n",
    "plt.errorbar(phi, U6_40, 0.1, fmt = 'kx', label = 'Naměřená intenzita', capsize=3, elinewidth=1)\n",
    "\n",
    "plt.legend(loc='upper left', fontsize=10)\n",
    "\n",
    "plt.xticks(np.arange(-90,91,30))\n",
    "plt.xticks(np.arange(-90,91,10), minor = True)\n",
    "plt.yticks(np.arange(0,1,.1), minor = True)\n",
    "\n",
    "plt.ylabel(\"$U$ \" + \"[V]\", fontsize=12)\n",
    "plt.xlabel(\"$ \\phi $ [rad]\", fontsize=12)\n",
    "\n",
    "plt.savefig('40mm.pdf', bbox_inches = 'tight')\n",
    "plt.show()"
   ]
  },
  {
   "cell_type": "code",
   "execution_count": 52,
   "id": "00dde0c4-3883-4810-b225-5860041d6f4e",
   "metadata": {},
   "outputs": [],
   "source": [
    "U6_60 = np.array([0.65,0.77,0.56,0.57,0.55,0.39,0.33,0.32,0.21,0.1,0.05,0.03,0.03,0.02,0.03,0.03,0.03,0.03,0.04\n",
    "])\n",
    "phi = np.arange(0,91,5)\n",
    "\n",
    "#plt.scatter(phi,U6_60, marker = 'x', color = 'k')\n",
    "#|plt.errorbar(phi, U6_60, 0.1, fmt = 'kx', label = 'namerena data', capsize=3, elinewidth=1)\n",
    "#plt.legend()\n",
    "#plt.xticks(np.arange(0,91,10))\n",
    "#plt.xticks(phi, minor = 'True')\n",
    "#plt.show()"
   ]
  },
  {
   "cell_type": "code",
   "execution_count": 53,
   "id": "e65c07a1-cda8-45fe-bcd5-359bcefb64b4",
   "metadata": {},
   "outputs": [
    {
     "name": "stderr",
     "output_type": "stream",
     "text": [
      "C:\\Users\\stepa\\AppData\\Local\\Temp/ipykernel_13544/1133299308.py:15: UserWarning: Matplotlib is currently using pgf, which is a non-GUI backend, so cannot show the figure.\n",
      "  plt.show()\n"
     ]
    }
   ],
   "source": [
    "plt.figure(figsize = (8,5))\n",
    "\n",
    "plt.scatter(phi, U6_60, marker = 'x',color='k', label = 'Naměřená intenzita')\n",
    "\n",
    "plt.legend(loc='upper right', fontsize=10)\n",
    "\n",
    "plt.xticks(np.arange(0,91,15))\n",
    "plt.xticks(np.arange(0,91,5), minor = True)\n",
    "plt.yticks(np.arange(0,1,.1), minor = True)\n",
    "\n",
    "plt.ylabel(\"$U$ \" + \"[V]\", fontsize=12)\n",
    "plt.xlabel(\"$ \\phi $ [rad]\", fontsize=12)\n",
    "\n",
    "plt.savefig('60mm.pdf', bbox_inches = 'tight')\n",
    "plt.show()"
   ]
  },
  {
   "cell_type": "code",
   "execution_count": 54,
   "id": "2dcb881a-4436-4103-a939-3ad5dc351146",
   "metadata": {},
   "outputs": [],
   "source": [
    "#U7 = np.array([0.3,0.5,0.5,0.35,0.45,0.5,0.7,0.7,0.5,0.4,0.25,0.2,0.1,0.1,0.1,0.3,0.4,0.4,0.5,0.5,0.4,0.3,0.25,0.7,0.9,1,1.2,1,1.2,]) \n",
    "U7 = np.array([0.34,0.38,0.41,0.32,0.4,0.37,0.27,0.24,0.2,0.12,0.09,0.1,0.12,0.17,0.15,0.2,0.21,0.22,0.15,0.1,0.09,0.11,0.15,0.21,0.31,0.46,0.48,0.45,0.5,0.48,0.4\n",
    "]) \n",
    "\n",
    "d = np.arange(-15,16,1)\n",
    "#plt.scatter(d[::-1],U7)"
   ]
  },
  {
   "cell_type": "code",
   "execution_count": 55,
   "id": "92428688-9fa7-4034-834e-84a109870035",
   "metadata": {},
   "outputs": [
    {
     "name": "stderr",
     "output_type": "stream",
     "text": [
      "C:\\Users\\stepa\\AppData\\Local\\Temp/ipykernel_13544/2270334015.py:15: UserWarning: Matplotlib is currently using pgf, which is a non-GUI backend, so cannot show the figure.\n",
      "  plt.show()\n"
     ]
    }
   ],
   "source": [
    "plt.figure(figsize = (8,5))\n",
    "\n",
    "plt.scatter(d[::-1], U7, marker = 'x',color='k', label = 'Naměřená intenzita')\n",
    "\n",
    "plt.legend(loc='upper right', fontsize=10)\n",
    "\n",
    "#plt.xticks(np.arange(-15,15,15))\n",
    "plt.xticks(np.arange(-15,15,1), minor = True)\n",
    "plt.yticks(np.arange(0,0.52,.01), minor = True)\n",
    "\n",
    "plt.ylabel(\"$U$ \" + \"[V]\", fontsize=12)\n",
    "plt.xlabel(\"$ y $ [cm]\", fontsize=12)\n",
    "\n",
    "plt.savefig('prepazka.pdf', bbox_inches = 'tight')\n",
    "plt.show()"
   ]
  },
  {
   "cell_type": "markdown",
   "id": "5289c3da-d175-4292-a177-9198e1a3f9c0",
   "metadata": {},
   "source": [
    "### Lom"
   ]
  },
  {
   "cell_type": "code",
   "execution_count": 74,
   "id": "bd2cd5d0-c045-434e-8dd1-9d3de11de295",
   "metadata": {},
   "outputs": [
    {
     "name": "stderr",
     "output_type": "stream",
     "text": [
      "C:\\Users\\stepa\\AppData\\Local\\Temp/ipykernel_13544/3597460332.py:3: RuntimeWarning: divide by zero encountered in true_divide\n",
      "  n = np.sin(beta)/np.sin(alpha)\n"
     ]
    },
    {
     "data": {
      "text/plain": [
       "array([-0.95941995, -0.05372661,  1.09405819,  1.63595785,         inf])"
      ]
     },
     "execution_count": 74,
     "metadata": {},
     "output_type": "execute_result"
    }
   ],
   "source": [
    "alpha = np.array([40,30,20,10,0])\n",
    "beta = np.array([150,132,121,112,84])\n",
    "n = np.sin(beta)/np.sin(alpha)\n",
    "beta\n",
    "n"
   ]
  },
  {
   "cell_type": "code",
   "execution_count": null,
   "id": "f896f5b4-bf53-48f7-8bad-e61fd2f8744c",
   "metadata": {},
   "outputs": [],
   "source": [
    "T = np.array([d1,d2,phi_arr]).round(5).T\n",
    "\n",
    "print(tabulate(T, tablefmt=\"latex_booktabs\"))"
   ]
  },
  {
   "cell_type": "markdown",
   "id": "f7e170fc-c1ab-43f9-b6e9-2349ecf845f0",
   "metadata": {
    "tags": []
   },
   "source": [
    "# Ukol 5"
   ]
  },
  {
   "cell_type": "code",
   "execution_count": 5,
   "id": "e4dd4a87-1fed-4b61-99e4-bcc418d2266d",
   "metadata": {},
   "outputs": [],
   "source": [
    "U8 = np.array([1.16,0.9,0.29,0.14,0.58,1.01,1,0.68,0.22,0.3,0.73,1.14,1.02,0.53,0.22,0.41,1.16,1.13,0.71,0.2,0.39,1.03,1.13,0.66,0.32,0.58,1.04,1.28,0.92,0.42,0.38\n",
    "])\n",
    "s = np.arange(0,91,3)"
   ]
  },
  {
   "cell_type": "code",
   "execution_count": 41,
   "id": "e3b3c67b-6056-46d9-99f6-10b86910fa29",
   "metadata": {},
   "outputs": [
    {
     "name": "stdout",
     "output_type": "stream",
     "text": [
      "31.936194225148675 1.0887998288716696 1.3233830279975767\n",
      "0.20665129694879697 0.03693329848426171 0.06921243426544696\n"
     ]
    }
   ],
   "source": [
    "\n",
    "def func(x,lamb,I0,phi):\n",
    "    return I0*np.abs(np.sin(2*np.pi*x/lamb + phi))\n",
    "\n",
    "params,err = curve_fit(func, s, U8, p0 = (30,2,0))\n",
    "\n",
    "lamb,I0,phi = params\n",
    "slamb,sI0,sphi = np.sqrt(np.diag(err))\n",
    "print(lamb,I0,phi)\n",
    "print(slamb,sI0,sphi)"
   ]
  },
  {
   "cell_type": "code",
   "execution_count": 44,
   "id": "dcfb167d-2071-4970-ac38-72d45ebc9cab",
   "metadata": {},
   "outputs": [
    {
     "name": "stderr",
     "output_type": "stream",
     "text": [
      "C:\\Users\\stepa\\AppData\\Local\\Temp/ipykernel_23668/1264725931.py:19: UserWarning: Matplotlib is currently using pgf, which is a non-GUI backend, so cannot show the figure.\n",
      "  plt.show()\n"
     ]
    }
   ],
   "source": [
    "plt.figure(figsize = (8,5))\n",
    "x_range = np.linspace(0,95,1000)\n",
    "\n",
    "plt.scatter(s, U8, c = 'k', marker = 'x', label = 'Naměřená intenzita')\n",
    "plt.plot(x_range,func(x_range,lamb,I0,phi), color = 'k', linestyle = 'dashed', label = r\"Proložení křivkou: $ U_0 \\cdot |\\sin(\\frac{2 \\pi d}{\\lambda} + \\varphi)| $\")\n",
    "\n",
    "plt.legend(loc='upper left', fontsize=10)\n",
    "\n",
    "plt.xticks(np.arange(0,91,5), minor = True)\n",
    "plt.xticks(np.arange(0,91,10))\n",
    "plt.yticks(np.arange(0,1.6,.1), minor = True)\n",
    "\n",
    "plt.xlim(0,95)\n",
    "\n",
    "plt.ylabel(\"$U$ \" + \"[V]\", fontsize=12)\n",
    "plt.xlabel(\"$d$ [mm]\", fontsize=12)\n",
    "\n",
    "plt.savefig('Leecher.pdf', bbox_inches = 'tight')\n",
    "plt.show()"
   ]
  },
  {
   "cell_type": "code",
   "execution_count": null,
   "id": "c3491db2-e520-4dab-b2ff-6ced2a591ed6",
   "metadata": {},
   "outputs": [],
   "source": []
  }
 ],
 "metadata": {
  "kernelspec": {
   "display_name": "Python 3 (ipykernel)",
   "language": "python",
   "name": "python3"
  },
  "language_info": {
   "codemirror_mode": {
    "name": "ipython",
    "version": 3
   },
   "file_extension": ".py",
   "mimetype": "text/x-python",
   "name": "python",
   "nbconvert_exporter": "python",
   "pygments_lexer": "ipython3",
   "version": "3.11.6"
  }
 },
 "nbformat": 4,
 "nbformat_minor": 5
}
