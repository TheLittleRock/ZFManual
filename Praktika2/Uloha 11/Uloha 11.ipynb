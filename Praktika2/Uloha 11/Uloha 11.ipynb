{
 "cells": [
  {
   "cell_type": "code",
   "execution_count": 314,
   "id": "1754c2fd-da7f-42d5-9d6a-cf1365adb8d6",
   "metadata": {},
   "outputs": [],
   "source": [
    "import numpy as np\n",
    "import sympy as smp\n",
    "from sympy import symbols, Eq, solve\n",
    "import matplotlib.pyplot as plt\n",
    "from scipy.optimize import curve_fit\n",
    "from tabulate import tabulate\n",
    "import matplotlib\n",
    "\n",
    "from uncertainties import ufloat\n",
    "from uncertainties.umath import *\n",
    "from uncertainties import unumpy\n",
    "import uncertainties as unc"
   ]
  },
  {
   "cell_type": "code",
   "execution_count": 329,
   "id": "74382f7b-081f-4c4c-bb79-6af08ee820cb",
   "metadata": {},
   "outputs": [],
   "source": [
    "matplotlib.use(\"pgf\")\n",
    "matplotlib.rcParams.update({\n",
    "    \"pgf.texsystem\": \"pdflatex\",\n",
    "    'font.family': 'serif',\n",
    "    'text.usetex': True,\n",
    "    'pgf.rcfonts': False,\n",
    "})"
   ]
  },
  {
   "cell_type": "code",
   "execution_count": 29,
   "id": "1e9640a4-f233-44c5-8fc5-b7399b0f6b56",
   "metadata": {},
   "outputs": [],
   "source": [
    "def linear(x,a,b):\n",
    "    return a*x + b"
   ]
  },
  {
   "cell_type": "markdown",
   "id": "6d4a7bca-e21d-4f0f-8b69-d5607b940596",
   "metadata": {
    "tags": []
   },
   "source": [
    "# Ukol 1"
   ]
  },
  {
   "cell_type": "code",
   "execution_count": 330,
   "id": "70ba141e-6d68-464a-91fd-c7aa63895dae",
   "metadata": {},
   "outputs": [],
   "source": [
    "Vzlt = 0.53 ###pm 0.1, 578nm\n",
    "Vzel = 0.62 ##pm 0.1, 546nm\n",
    "Vmod = 0.99 ##pm 0.1, 436nm\n",
    "Vfia = 1.06 ##pm 0.1, 405nm\n",
    "VUV = 1.18 ##pm 0.1, 365nm"
   ]
  },
  {
   "cell_type": "code",
   "execution_count": 331,
   "id": "f3a7b9fd-f53a-45d8-8d32-2477f3208d45",
   "metadata": {},
   "outputs": [],
   "source": [
    "Vzlt2 = 0.21 ###pm 0.1\n",
    "Vzel2 = 0.30 ##pm 0.1 \n",
    "Vmod2 = 0.44 ##pm 0.1\n",
    "Vfia2 = 0.48 ##pm 0.1\n",
    "VUV2 = 0.71 ##pm 0.1"
   ]
  },
  {
   "cell_type": "code",
   "execution_count": 332,
   "id": "a58f0717-2334-4e1a-9688-3da61a161402",
   "metadata": {},
   "outputs": [],
   "source": [
    "e = 1.602176634*10**(-19)"
   ]
  },
  {
   "cell_type": "code",
   "execution_count": 333,
   "id": "7967719c-d7cf-4738-9fba-cc4d893da489",
   "metadata": {},
   "outputs": [],
   "source": [
    "lamb = np.array([578,546,436,405,365])*10**(-9)\n",
    "U1 = np.array([0.53,0.62,0.99,1.06,1.18])*2\n",
    "U2 = np.array([0.21,0.3,0.44,0.48,0.71])*2\n",
    "E1 = e*U1\n",
    "E2 = e*U2\n",
    "sE = e*0.15\n",
    "c = 299792458\n",
    "f = c/lamb"
   ]
  },
  {
   "cell_type": "code",
   "execution_count": 334,
   "id": "49659156-60c3-4023-a3c3-8ce230830e51",
   "metadata": {},
   "outputs": [
    {
     "data": {
      "text/plain": [
       "array([518.67207266, 549.0704359 , 687.59738073, 740.22829136,\n",
       "       821.3492    ])"
      ]
     },
     "execution_count": 334,
     "metadata": {},
     "output_type": "execute_result"
    }
   ],
   "source": [
    "f/10**12"
   ]
  },
  {
   "cell_type": "code",
   "execution_count": 335,
   "id": "80cdaf1b-271f-43d9-a743-5491c3872d4d",
   "metadata": {},
   "outputs": [
    {
     "name": "stdout",
     "output_type": "stream",
     "text": [
      "\\begin{tabular}{rrrr}\n",
      "\\toprule\n",
      " 578 & 518.67 & 1.06 & 0.42 \\\\\n",
      " 546 & 549.07 & 1.24 & 0.6  \\\\\n",
      " 436 & 687.6  & 1.98 & 0.88 \\\\\n",
      " 405 & 740.23 & 2.12 & 0.96 \\\\\n",
      " 365 & 821.35 & 2.36 & 1.42 \\\\\n",
      "\\bottomrule\n",
      "\\end{tabular}\n"
     ]
    }
   ],
   "source": [
    "tab = np.array([lamb*10**9,f/10**12, U1,U2]).round(2).T\n",
    "\n",
    "print(tabulate(tab, tablefmt=\"latex_booktabs\"))"
   ]
  },
  {
   "cell_type": "markdown",
   "id": "a3715703-5274-421d-903c-d30dc4f2f821",
   "metadata": {
    "tags": []
   },
   "source": [
    "## Clona 1"
   ]
  },
  {
   "cell_type": "code",
   "execution_count": 336,
   "id": "4760569c-5f02-4e96-b606-5dc16e26fb2e",
   "metadata": {},
   "outputs": [
    {
     "name": "stdout",
     "output_type": "stream",
     "text": [
      "7.0622108532689844e-34 -1.8779405220369541e-19\n",
      "9.393670409236849e-35 6.323610242221364e-20\n"
     ]
    }
   ],
   "source": [
    "params,err = curve_fit(linear, f, E1, sigma=np.full(len(f),sE),absolute_sigma=True)\n",
    "\n",
    "a1,b1 = params\n",
    "sa1,sb1 = np.sqrt(np.diag(err))\n",
    "print(a1,b1)\n",
    "print(sa1,sb1)"
   ]
  },
  {
   "cell_type": "code",
   "execution_count": 337,
   "id": "a272fd04-6691-4b80-8d13-de6f81146e65",
   "metadata": {},
   "outputs": [
    {
     "name": "stdout",
     "output_type": "stream",
     "text": [
      "\\left(2.7 \\pm 1.0\\right) \\times 10^{14}\n"
     ]
    }
   ],
   "source": [
    "ua1 = ufloat(a1,sa1)\n",
    "ub1 = ufloat(b1,sb1)\n",
    "\n",
    "print('{:L}'.format(-ub1/ua1))"
   ]
  },
  {
   "cell_type": "code",
   "execution_count": 338,
   "id": "38c540e9-948c-43db-8984-bf56940844c4",
   "metadata": {},
   "outputs": [
    {
     "name": "stdout",
     "output_type": "stream",
     "text": [
      "\\left(7.1 \\pm 0.9\\right) \\times 10^{-34}\n",
      "\\left(-1.9 \\pm 0.6\\right) \\times 10^{-19}\n"
     ]
    }
   ],
   "source": [
    "print('{:L}'.format(ua1))\n",
    "print('{:L}'.format(ub1))"
   ]
  },
  {
   "cell_type": "code",
   "execution_count": 339,
   "id": "46f04686-1273-41e7-a818-f11f95138ff1",
   "metadata": {},
   "outputs": [
    {
     "name": "stderr",
     "output_type": "stream",
     "text": [
      "C:\\Users\\stepa\\AppData\\Local\\Temp/ipykernel_5444/3907019398.py:26: UserWarning: Matplotlib is currently using pgf, which is a non-GUI backend, so cannot show the figure.\n",
      "  plt.show()\n"
     ]
    }
   ],
   "source": [
    "x_range = np.linspace(270,850,100)\n",
    "\n",
    "plt.figure(figsize = (8,5))\n",
    "\n",
    "plt.errorbar(f/10**12,E1*10**19, yerr=np.full(len(f/10**12),sE*10**19),elinewidth=.4, fmt = 'kx', linestyle = None, ecolor = \"k\",capsize=3, label = \"Naměřená energie pro clonu 1\")\n",
    "#plt.scatter(phi2,U3,color = 'k',marker = 'x', label = \"Namerena intenzita\")\n",
    "plt.plot(x_range,(a1*x_range*10**12 + b1)*10**19, lw = .9, color = 'k', linestyle = 'dashed', label = r\"$E = \\left(7.1 \\pm 0.9\\right) \\times 10^{-34} \\cdot f - \\left(1.9 \\pm 0.6\\right) \\times 10^{-20}$\")\n",
    "\n",
    "\n",
    "plt.errorbar(f/10**12,E2*10**19, yerr=np.full(len(f/10**12),sE*10**19),elinewidth=.4, fmt = 'k+', linestyle = None, ecolor = \"k\",capsize=3, label = \"Naměřená energie pro clonu 2\")\n",
    "#plt.scatter(phi2,U3,color = 'k',marker = 'x', label = \"Namerena intenzita\")\n",
    "plt.plot(x_range,(a2*x_range*10**12 + b2)*10**19, lw = .8, color = 'k', label = r\"$E = \\left(4.7 \\pm 0.9\\right) \\times 10^{-34} \\cdot f - \\left(1.7 \\pm 0.6\\right) \\times 10^{-20}$\")\n",
    "\n",
    "plt.legend(loc='upper left', fontsize=10)\n",
    "\n",
    "\n",
    "\n",
    "plt.xticks(np.arange(249,850,10), minor = True)\n",
    "plt.yticks(np.arange(0,4,.1), minor = True)\n",
    "plt.ylim(0,4.2)\n",
    "\n",
    "plt.ylabel(\"$E$ \" + r\"[$\\times 10^{-19}$ J]\", fontsize=12)\n",
    "plt.xlabel(r\"$ f $ \" + \"[THz]\", fontsize=12)\n",
    "\n",
    "plt.savefig('Energy.pdf', bbox_inches = 'tight')\n",
    "plt.show()"
   ]
  },
  {
   "cell_type": "markdown",
   "id": "7f90afba-8aa5-4ff1-95bd-fc725cf72fa9",
   "metadata": {
    "tags": []
   },
   "source": [
    "## Clona 2"
   ]
  },
  {
   "cell_type": "code",
   "execution_count": 289,
   "id": "50363943-647a-4a61-9ebc-7668719fb1d0",
   "metadata": {},
   "outputs": [
    {
     "name": "stdout",
     "output_type": "stream",
     "text": [
      "4.651425953817296e-34 -1.714215919545312e-19\n",
      "9.393670447566398e-35 6.323610241716134e-20\n"
     ]
    }
   ],
   "source": [
    "params,err = curve_fit(linear, f, E2, sigma=np.full(len(f),sE),absolute_sigma=True)\n",
    "\n",
    "a2,b2 = params\n",
    "sa2,sb2 = np.sqrt(np.diag(err))\n",
    "print(a2,b2)\n",
    "print(sa2,sb2)"
   ]
  },
  {
   "cell_type": "code",
   "execution_count": 290,
   "id": "e767e174-2c13-48c5-82c7-4402ab0b0512",
   "metadata": {},
   "outputs": [
    {
     "name": "stdout",
     "output_type": "stream",
     "text": [
      "\\left(3.7 \\pm 1.5\\right) \\times 10^{14}\n"
     ]
    }
   ],
   "source": [
    "ua2 = ufloat(a2,sa2)\n",
    "ub2 = ufloat(b2,sb2)\n",
    "\n",
    "print('{:L}'.format(-ub2/ua2))"
   ]
  },
  {
   "cell_type": "code",
   "execution_count": 291,
   "id": "7c1b079f-1572-48a2-99a5-11e589c8cd66",
   "metadata": {},
   "outputs": [
    {
     "name": "stdout",
     "output_type": "stream",
     "text": [
      "\\left(4.7 \\pm 0.9\\right) \\times 10^{-34}\n",
      "\\left(-1.7 \\pm 0.6\\right) \\times 10^{-19}\n"
     ]
    }
   ],
   "source": [
    "print('{:L}'.format(ua2))\n",
    "print('{:L}'.format(ub2))"
   ]
  },
  {
   "cell_type": "code",
   "execution_count": 271,
   "id": "96313ff9-d05a-4fc3-aa59-0d1fd3644278",
   "metadata": {},
   "outputs": [
    {
     "data": {
      "image/png": "[encoded data removed]",
      "text/plain": [
       "<Figure size 800x500 with 1 Axes>"
      ]
     },
     "metadata": {},
     "output_type": "display_data"
    }
   ],
   "source": [
    "x_range = np.linspace(270,850,100)\n",
    "\n",
    "plt.figure(figsize = (8,5))\n",
    "\n",
    "plt.errorbar(f/10**12,E2*10**19, yerr=np.full(len(f/10**12),sE*10**19),elinewidth=.4, fmt = 'kx', linestyle = None, ecolor = \"k\",capsize=3, label = \"Namerena energie\")\n",
    "#plt.scatter(phi2,U3,color = 'k',marker = 'x', label = \"Namerena intenzita\")\n",
    "plt.plot(x_range,(a2*x_range*10**12 + b2)*10**19, lw = .9, color = 'k', linestyle = 'dashed', label = \"Proložení křivkou: \\n\" + r\"$E = \\left(3.5 \\pm 0.6\\right) \\times 10^{-34}f - \\left(9 \\pm 4\\right) \\times 10^{-20}$\")\n",
    "\n",
    "plt.legend(loc='upper left', fontsize=10)\n",
    "\n",
    "\n",
    "\n",
    "plt.xticks(np.arange(249,850,10), minor = True)\n",
    "plt.yticks(np.arange(0,2,.1), minor = True)\n",
    "plt.ylim(0,3)\n",
    "\n",
    "plt.ylabel(\"$E$ \" + r\"[$\\times 10^{-19}$ J]\", fontsize=12)\n",
    "plt.xlabel(r\"$ f $ \" + \"[THz]\", fontsize=12)\n",
    "\n",
    "plt.savefig('Energy2.pdf', bbox_inches = 'tight')\n",
    "plt.show()"
   ]
  },
  {
   "cell_type": "markdown",
   "id": "6621cc3a-b36b-4ce1-a6be-eccc83af879d",
   "metadata": {
    "jp-MarkdownHeadingCollapsed": true,
    "tags": []
   },
   "source": [
    "## Planck"
   ]
  },
  {
   "cell_type": "code",
   "execution_count": 286,
   "id": "0d5043f5-53dc-4c5b-8a72-8cdc0cf65fa6",
   "metadata": {},
   "outputs": [
    {
     "name": "stdout",
     "output_type": "stream",
     "text": [
      "\\left(5.9 \\pm 0.7\\right) \\times 10^{-34}\n"
     ]
    }
   ],
   "source": [
    "print('{:L}'.format(np.mean(np.array([ua1,ua2]))))"
   ]
  },
  {
   "cell_type": "code",
   "execution_count": 287,
   "id": "7e3a60c3-c938-4600-bb30-ddeb31785b5a",
   "metadata": {},
   "outputs": [
    {
     "name": "stdout",
     "output_type": "stream",
     "text": [
      "\\left(3.2 \\pm 0.9\\right) \\times 10^{14}\n"
     ]
    }
   ],
   "source": [
    "print('{:L}'.format(np.mean(np.array([-ub1/ua1,-ub2/ua2]))))"
   ]
  },
  {
   "cell_type": "code",
   "execution_count": 288,
   "id": "821b9506-22c5-4a05-9ec0-ae7e2000300a",
   "metadata": {},
   "outputs": [
    {
     "name": "stdout",
     "output_type": "stream",
     "text": [
      "\\left(5.9 \\pm 0.7\\right) \\times 10^{-34}\n"
     ]
    }
   ],
   "source": [
    "h = np.mean([ua1,ua2])\n",
    "print('{:L}'.format(h))"
   ]
  },
  {
   "cell_type": "markdown",
   "id": "fd775301-8eb5-4ad2-b216-3f61509a18d1",
   "metadata": {
    "tags": []
   },
   "source": [
    "# Ukol 2"
   ]
  },
  {
   "cell_type": "code",
   "execution_count": 340,
   "id": "d46538de-ab97-419d-8ad5-6090e1a5affc",
   "metadata": {},
   "outputs": [],
   "source": [
    "def quadr(x,a,b,c):\n",
    "    return a*x**2 + b*x + c"
   ]
  },
  {
   "cell_type": "code",
   "execution_count": 341,
   "id": "e6e79d73-891d-4274-9919-0607e2fafecd",
   "metadata": {},
   "outputs": [],
   "source": [
    "#U2 = np.arange(0,30,.3)\n",
    "U2 = np.arange(0,24,.3)\n",
    "Ia = np.array([-0.03,-0.012,0,0.01,0.017,0.015,0.005,-0.014,-0.042,-0.054,-0.064,-0.068,-0.073,-0.045,-0.01,0.006,0.041,0.065,0.071,0.056,0.021,-0.055,-0.125,-0.266,-0.363,-0.342,-0.188,-0.075,0.069,0.165,0.181,0.237,0.257,0.217,0.187,0.121, 0.046, -0.137,-0.357,-0.535,-0.647,-0.843,-0.713,-0.497,-0.215, 0.117,0.135,0.312,0.375,0.406,0.371,0.325,0.166,-0.09,-0.295,-0.675,-0.928,-1.045,-1.315,-1.075,-0.558,-0.135,0.327,0.555,0.698,0.748,0.721,0.667,0.537,0.258,-0.033,-0.268,-0.739,-1.015,-1.225,-1.155,-0.875,-0.407,0.011,0.355])  #### 2000 mV"
   ]
  },
  {
   "cell_type": "code",
   "execution_count": 342,
   "id": "0a69ce58-87d2-4d58-b3a6-ef7b7bf1555d",
   "metadata": {},
   "outputs": [],
   "source": [
    "ind = np.array([[14,21],[22,27],[28,36],[38,44],[46,53],[54,61],[62,69],[71,78]])"
   ]
  },
  {
   "cell_type": "code",
   "execution_count": 343,
   "id": "bfa7314b-ea61-4a20-bd2b-56e6350d645c",
   "metadata": {},
   "outputs": [
    {
     "name": "stdout",
     "output_type": "stream",
     "text": [
      "-0.09252645790727597 0.9640278080566139 -2.442791744866727\n",
      "0.45119048398985284 -6.584404876894354 23.67600042178316\n",
      "-0.12722460718424705 2.4298235687072776 -11.360507252734813\n",
      "0.6074074984082025 -14.890319698307927 90.49372801272226\n",
      "-0.3433861695724767 10.09975971195875 -73.84480517792137\n",
      "0.8972230823805573 -30.914751905038834 265.1223390046122\n",
      "-0.413558175261867 16.225336288893924 -158.3844603113975\n",
      "0.9672624181885714 -43.073812632523556 478.3642145547354\n"
     ]
    }
   ],
   "source": [
    "A = []\n",
    "B = []\n",
    "C = []\n",
    "sA = []\n",
    "sB = []\n",
    "sC = []\n",
    "\n",
    "for i in ind:\n",
    "    params,err = curve_fit(quadr, U2[i[0]:i[1]+1],Ia[i[0]:i[1]+1])\n",
    "    a,b,c = params\n",
    "    sa,sb,sc = np.sqrt(np.diag(err))\n",
    "    A.append(a)\n",
    "    B.append(b)\n",
    "    C.append(c)\n",
    "    sA.append(sa)\n",
    "    sB.append(sb)\n",
    "    sC.append(sc)\n",
    "    \n",
    "for a,b,c in zip(A,B,C):\n",
    "    print(a,b,c)\n"
   ]
  },
  {
   "cell_type": "code",
   "execution_count": 345,
   "id": "91a71ac7-7a0e-4ee1-829d-070a81d00d3f",
   "metadata": {},
   "outputs": [
    {
     "name": "stderr",
     "output_type": "stream",
     "text": [
      "C:\\Users\\stepa\\AppData\\Local\\Temp/ipykernel_5444/3297336846.py:30: UserWarning: Matplotlib is currently using pgf, which is a non-GUI backend, so cannot show the figure.\n",
      "  plt.show()\n"
     ]
    }
   ],
   "source": [
    "x_range = [np.linspace(U2[14],U2[21],100)\n",
    ",np.linspace(U2[22],U2[27],100)\n",
    ",np.linspace(U2[28],U2[36],100)\n",
    ",np.linspace(U2[38],U2[44],100)\n",
    ",np.linspace(U2[46],U2[53],100)\n",
    ",np.linspace(U2[54],U2[61],100)\n",
    ",np.linspace(U2[62],U2[69],100)\n",
    ",np.linspace(U2[71],U2[78],100)]\n",
    "\n",
    "\n",
    "\n",
    "plt.figure(figsize = (8,5))\n",
    "\n",
    "\n",
    "plt.scatter(U2,Ia,color = 'k',marker = 'x',s = 25, linewidth = .8,label = \"Naměřená závislost\")\n",
    "\n",
    "for x,a,b,c in zip(x_range,A,B,C):\n",
    "    plt.plot(x,quadr(x,a,b,c), lw = 1.3, color = 'k', linestyle = 'dashed', zorder = 0)\n",
    "\n",
    "plt.legend(loc='upper left', fontsize=10)\n",
    "\n",
    "plt.xticks(np.arange(0,25,1), minor = True)\n",
    "plt.yticks(np.arange(-1.5,1,.1), minor = True)\n",
    "#plt.ylim(0,1.5)\n",
    "\n",
    "plt.ylabel(\"$I_A$ \" + r\"[nA]\", fontsize=12)\n",
    "plt.xlabel(r\"$ U_2 $ \" + \"[V]\", fontsize=12)\n",
    "\n",
    "plt.savefig('Frank_Hertz.pdf', bbox_inches = 'tight')\n",
    "plt.show()"
   ]
  },
  {
   "cell_type": "markdown",
   "id": "6245a042-0b4b-4f88-a36e-05ccfe3db10a",
   "metadata": {},
   "source": [
    "## Tabulka"
   ]
  },
  {
   "cell_type": "code",
   "execution_count": 178,
   "id": "d3819e75-ee60-41bc-8b55-145dec0d525b",
   "metadata": {},
   "outputs": [],
   "source": [
    "uA = unumpy.uarray(A,sA)\n",
    "uB = unumpy.uarray(B,sB)\n",
    "uC = unumpy.uarray(C,sC)"
   ]
  },
  {
   "cell_type": "code",
   "execution_count": 206,
   "id": "ea770535-53c7-457b-a807-9ce8d8b6af98",
   "metadata": {},
   "outputs": [],
   "source": [
    "ext = -uB/(2*uA)\n",
    "ext_vals = quadr(ext,uA,uB,uC)"
   ]
  },
  {
   "cell_type": "code",
   "execution_count": 318,
   "id": "edc51e66-94b2-428e-843a-e8baf3b36987",
   "metadata": {},
   "outputs": [
    {
     "data": {
      "text/plain": [
       "([5.209471052175694,\n",
       "  7.296701848262424,\n",
       "  9.549345926407145,\n",
       "  12.257273525047124,\n",
       "  14.706124775690839,\n",
       "  17.228018601022985,\n",
       "  19.61675195831876,\n",
       "  22.265835942013286],\n",
       " [1.0028710974019428,\n",
       "  1.3347188881105756,\n",
       "  0.922586987598532,\n",
       "  2.2094341260477153,\n",
       "  1.187390414120374,\n",
       "  2.753882238628414,\n",
       "  1.176231633655887,\n",
       "  1.676936438454597])"
      ]
     },
     "execution_count": 318,
     "metadata": {},
     "output_type": "execute_result"
    }
   ],
   "source": [
    "ext_num = []\n",
    "sext_num = []\n",
    "for n in ext:\n",
    "    ext_num.append(unc.nominal_value(n))\n",
    "    sext_num.append(unc.std_dev(n))\n",
    "ext_num, sext_num"
   ]
  },
  {
   "cell_type": "code",
   "execution_count": 319,
   "id": "8a9033fc-ec29-49ec-b010-d3edc44c7fe3",
   "metadata": {},
   "outputs": [
    {
     "name": "stdout",
     "output_type": "stream",
     "text": [
      "\\begin{tabular}{rrrrrrrr}\n",
      "\\toprule\n",
      " -0.09 & 0.01 &   1   & 0.1 &   -2.4 &  0.3 &  5 & 1 \\\\\n",
      "  0.45 & 0.06 &  -6.6 & 0.9 &   23.7 &  3.1 &  7 & 1 \\\\\n",
      " -0.13 & 0.01 &   2.4 & 0.2 &  -11.4 &  0.8 & 10 & 1 \\\\\n",
      "  0.61 & 0.08 & -14.9 & 1.9 &   90.5 & 11.7 & 12 & 2 \\\\\n",
      " -0.34 & 0.02 &  10.1 & 0.6 &  -73.8 &  4.3 & 15 & 1 \\\\\n",
      "  0.9  & 0.1  & -30.9 & 3.5 &  265.1 & 30.1 & 17 & 3 \\\\\n",
      " -0.41 & 0.02 &  16.2 & 0.7 & -158.4 &  6.8 & 20 & 1 \\\\\n",
      "  0.97 & 0.05 & -43.1 & 2.3 &  478.4 & 25.7 & 22 & 2 \\\\\n",
      "\\bottomrule\n",
      "\\end{tabular}\n"
     ]
    }
   ],
   "source": [
    "tab = np.array([B,sB,C,sC]).round(1)\n",
    "tab = np.concatenate([np.array([A,sA]).round(2),tab, np.array([ext_num, sext_num]).round(0)]).T\n",
    "\n",
    "print(tabulate(tab, tablefmt=\"latex_booktabs\"))"
   ]
  },
  {
   "cell_type": "code",
   "execution_count": 230,
   "id": "1ea0831a-6e19-402f-a2f0-01eeb2b77e06",
   "metadata": {},
   "outputs": [
    {
     "name": "stdout",
     "output_type": "stream",
     "text": [
      "4.8 \\pm 0.5\n"
     ]
    }
   ],
   "source": [
    "dist_max = np.abs(np.array([ext[0]-ext[2], ext[2] - ext[4], ext[4] - ext[6]])) \n",
    "Emin = np.mean(dist_max)\n",
    "print('{:L}'.format(Emin))"
   ]
  },
  {
   "cell_type": "code",
   "execution_count": 231,
   "id": "fade21ed-9487-43e8-b079-39bb7d3ed197",
   "metadata": {},
   "outputs": [
    {
     "name": "stdout",
     "output_type": "stream",
     "text": [
      "5.0 \\pm 0.7\n"
     ]
    }
   ],
   "source": [
    "dist_min = np.abs(np.array([ext[1]-ext[3], ext[3] - ext[5], ext[5] - ext[7]])) \n",
    "Emax = np.mean(dist_min)\n",
    "print('{:L}'.format(Emax))"
   ]
  },
  {
   "cell_type": "code",
   "execution_count": 232,
   "id": "0145662b-c8d0-493f-8693-d1957a315f87",
   "metadata": {},
   "outputs": [
    {
     "name": "stdout",
     "output_type": "stream",
     "text": [
      "4.9 \\pm 0.4\n"
     ]
    }
   ],
   "source": [
    "E_ex = (Emin+Emax)/2\n",
    "print('{:L}'.format(E_ex))"
   ]
  },
  {
   "cell_type": "code",
   "execution_count": 320,
   "id": "a92e11fe-468e-47c6-b070-c912ee8a53ac",
   "metadata": {},
   "outputs": [
    {
     "name": "stdout",
     "output_type": "stream",
     "text": [
      "224 \\pm 32\n"
     ]
    }
   ],
   "source": [
    "f = E_ex*e/h\n",
    "c/f*10**9\n",
    "\n",
    "print('{:L}'.format(c/f*10**9))"
   ]
  },
  {
   "cell_type": "code",
   "execution_count": null,
   "id": "378e4c36-974e-4195-bc44-c0ef8b53f9ea",
   "metadata": {},
   "outputs": [],
   "source": []
  },
  {
   "cell_type": "code",
   "execution_count": null,
   "id": "1777821f-3a92-4ac0-b09d-f1732e782c23",
   "metadata": {},
   "outputs": [],
   "source": []
  },
  {
   "cell_type": "code",
   "execution_count": null,
   "id": "1c478101-4026-4044-bb2d-0f8e7848fd75",
   "metadata": {},
   "outputs": [],
   "source": []
  }
 ],
 "metadata": {
  "kernelspec": {
   "display_name": "Python 3 (ipykernel)",
   "language": "python",
   "name": "python3"
  },
  "language_info": {
   "codemirror_mode": {
    "name": "ipython",
    "version": 3
   },
   "file_extension": ".py",
   "mimetype": "text/x-python",
   "name": "python",
   "nbconvert_exporter": "python",
   "pygments_lexer": "ipython3",
   "version": "3.11.5"
  }
 },
 "nbformat": 4,
 "nbformat_minor": 5
}
