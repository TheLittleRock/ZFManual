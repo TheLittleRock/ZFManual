{
 "cells": [
  {
   "cell_type": "code",
   "execution_count": 1,
   "id": "2589243f-9040-4c66-8b41-03b5f3a18b29",
   "metadata": {},
   "outputs": [],
   "source": [
    "import numpy as np\n",
    "import sympy as smp\n",
    "from sympy import symbols, Eq, solve\n",
    "import matplotlib.pyplot as plt\n",
    "from scipy.optimize import curve_fit\n",
    "from tabulate import tabulate\n",
    "import matplotlib\n",
    "from uncertainties import ufloat\n",
    "from uncertainties.umath import *\n",
    "from uncertainties import unumpy"
   ]
  },
  {
   "cell_type": "code",
   "execution_count": 2,
   "id": "1824e6a9-c6fc-4b7f-bf58-5d30a04396e6",
   "metadata": {},
   "outputs": [],
   "source": [
    "def mean(arr):\n",
    "    return np.mean(arr)\n",
    "\n",
    "def error(x):\n",
    "    return x.std() / np.sqrt(x.size)\n",
    "\n",
    "def weighted_error(x, err):\n",
    "    \n",
    "    x = np.asarray(x)\n",
    "    err = np.asarray(err)\n",
    "    \n",
    "    average = np.sum(x/(err**2))/np.sum(1/err**2)\n",
    "    \n",
    "    average_error = 1/np.sqrt(np.sum(1/err**2))\n",
    "    \n",
    "    return average, average_error\n",
    "\n",
    "def decimal(x):\n",
    "    return x.replace(',', '.').encode()\n",
    "\n",
    "def sum_err(x,sx):\n",
    "    return np.sum(x),np.sqrt(np.sum([np.sum(i**2) for i in sx])) \n",
    "\n",
    "def diff_err(x,sx):\n",
    "    return x[0]-x[1],np.sqrt(np.sum([np.sum(i**2) for i in sx])) \n",
    "\n",
    "def times_err(x,sx):\n",
    "    return np.prod(x), np.prod(x)*np.sqrt(np.sum([np.sum((i/j)**2) for i,j in zip(sx,x)]))\n",
    "\n",
    "#def frac_err(x,sx):\n",
    "#    return x[0]/x[1], x[0]/x[1]*np.sqrt(np.sum((sx/x)**2))\n",
    "\n",
    "def frac_err(x,sx):\n",
    "    return x[0]/x[1], x[0]/x[1]*np.sqrt(np.sum([np.sum((i/j)**2) for i,j in zip(sx,x)]))\n",
    "    #return [np.sum((i/j)**2) for i,j in zip(sx,x)]"
   ]
  },
  {
   "cell_type": "code",
   "execution_count": 3,
   "id": "3d572b28-62e6-4abc-855e-cc7741c05eb1",
   "metadata": {},
   "outputs": [],
   "source": [
    "lamb = 633/10**9"
   ]
  },
  {
   "cell_type": "markdown",
   "id": "67b0cb7b-1662-4477-b979-490fe2ea2f3f",
   "metadata": {
    "tags": []
   },
   "source": [
    "# Ukol 1"
   ]
  },
  {
   "cell_type": "markdown",
   "id": "73e49988-c4c5-4168-b659-aa0f99f4c67c",
   "metadata": {
    "jp-MarkdownHeadingCollapsed": true,
    "tags": []
   },
   "source": [
    "## Bez chyb"
   ]
  },
  {
   "cell_type": "code",
   "execution_count": 28,
   "id": "6a2d1caa-9ded-492b-af34-637d0a865668",
   "metadata": {},
   "outputs": [],
   "source": [
    "##### Nejmensi \n",
    "k1 = np.array([3,1.2,0.6])/10**2  #### pm 0.1 [1.75,0.6,0.05] \n",
    "k2 = np.array([3.25,1.5,0.7])/10**2  #### [3.25,1.5,0.6]\n",
    "k3 = np.array([3.5,1.7, 0.9])/10**2 ##### [4.8,2.15, 1.1]\n",
    "k32 = np.array([0.5,0.85,1.2])/10**2\n",
    "### atrwdni dalsi - 2.7,3.5\n",
    "#### velky dalsi - \n",
    "r = np.array([])\n",
    "\n",
    "l = (35.5*16 + 469.3)/10**2  ### 165.4+420.5+469.3      ,,,35.5x16 +\n",
    "l = (165.4+420.5+469.3)/10**2"
   ]
  },
  {
   "cell_type": "code",
   "execution_count": 29,
   "id": "7733f58c-3ca1-464d-8c06-0aec45fefcf8",
   "metadata": {},
   "outputs": [],
   "source": [
    "k1 = np.array([1.75,0.6,0.4] )/10**2  #### pm 0.1 [1.75,0.6,0.05] \n",
    "k2 = np.array([3.25,1.5,0.6])/10**2  #### [3.25,1.5,0.6]\n",
    "k3 = np.array([4.8,2.15, 1.1])/10**2 ##### [4.8,2.15, 1.1]"
   ]
  },
  {
   "cell_type": "code",
   "execution_count": 30,
   "id": "6a30afb9-bfbc-4bf6-9326-fc93688f9f5c",
   "metadata": {},
   "outputs": [],
   "source": [
    "R1 = 1000*(lamb*1.219*np.sqrt(l**2 + k1**2))/k1\n",
    "R2 = 1000*(lamb*2.233*np.sqrt(l**2 + k2**2))/k2\n",
    "R3 = 1000*(lamb*3.238*np.sqrt(l**2 + k3**2))/k3"
   ]
  },
  {
   "cell_type": "code",
   "execution_count": 31,
   "id": "b39ec6dd-4640-4cff-98b4-ab8c08481329",
   "metadata": {},
   "outputs": [
    {
     "name": "stdout",
     "output_type": "stream",
     "text": [
      "[[0.45737704 0.45114441 0.44294351]\n",
      " [1.3340147  0.97747578 0.98888868]\n",
      " [2.00102187 2.44368731 1.93282481]]\n"
     ]
    }
   ],
   "source": [
    "R = np.array([R1,R2,R3])\n",
    "print(R.T)"
   ]
  },
  {
   "cell_type": "code",
   "execution_count": 32,
   "id": "c47f459b-196d-46ee-9434-8dcc6de4ac37",
   "metadata": {},
   "outputs": [
    {
     "name": "stdout",
     "output_type": "stream",
     "text": [
      "0.45048832218534846 +- 0.0034125438037923\n",
      "1.1001263876822494 +- 0.09552238960571721\n",
      "2.1258446611990958 +- 0.13075054357899293\n"
     ]
    }
   ],
   "source": [
    "for r in R.T:\n",
    "    print('{} +- {}'.format(mean(r), error(r)))"
   ]
  },
  {
   "cell_type": "markdown",
   "id": "622bf2ed-a6b8-40b5-9b63-4b7ad9524a81",
   "metadata": {
    "tags": []
   },
   "source": [
    "## S chybama"
   ]
  },
  {
   "cell_type": "code",
   "execution_count": 70,
   "id": "8d2831c2-bf40-427c-b086-aa507c503940",
   "metadata": {},
   "outputs": [],
   "source": [
    "from uncertainties import ufloat\n",
    "from uncertainties.umath import *\n",
    "from uncertainties import unumpy"
   ]
  },
  {
   "cell_type": "code",
   "execution_count": 57,
   "id": "8c6d8cac-a968-410d-be45-e3ec8e6c6886",
   "metadata": {},
   "outputs": [],
   "source": [
    "k1u = np.array([ufloat(1.75,0.2),ufloat(0.6,0.2),ufloat(0.4,0.2)])/100\n",
    "k2u = np.array([ufloat(3.25,0.2),ufloat(1.5,0.2),ufloat(0.6,0.2)])/100\n",
    "k3u = np.array([ufloat(4.8,0.2),ufloat(2.15,0.2),ufloat(1.1,0.2)])/100\n",
    "\n",
    "lu = ufloat(1040,20)/100"
   ]
  },
  {
   "cell_type": "code",
   "execution_count": 58,
   "id": "7631dbde-19b6-4e36-b655-73db5a80f9c2",
   "metadata": {},
   "outputs": [],
   "source": [
    "R1 = 1000*(lamb*1.219*(lu**2 + k1u**2)**(0.5))/k1u\n",
    "R2 = 1000*(lamb*2.233*(lu**2 + k2u**2)**(0.5))/k2u\n",
    "R3 = 1000*(lamb*3.238*(lu**2 + k3u**2)**(0.5))/k3u"
   ]
  },
  {
   "cell_type": "code",
   "execution_count": 59,
   "id": "bce4cff2-c53a-4369-a407-3b890b4d7018",
   "metadata": {},
   "outputs": [
    {
     "name": "stdout",
     "output_type": "stream",
     "text": [
      "[[0.45856755206209204+/-0.05314434091963415\n",
      "  0.4523186885711706+/-0.029162187826701973\n",
      "  0.4440964299455803+/-0.02037935184132384]\n",
      " [1.3374870225846933+/-0.4465701917026089\n",
      "  0.9800200593424988+/-0.1320211963307854\n",
      "  0.9914626581653606+/-0.09417888855005314]\n",
      " [2.0062303483898023+/-1.0038567006020347\n",
      "  2.4500480077371773+/-0.8180403921836962\n",
      "  1.937855774860422+/-0.35430235816089434]]\n"
     ]
    }
   ],
   "source": [
    "R = np.array([R1,R2,R3])\n",
    "print(R.T)"
   ]
  },
  {
   "cell_type": "code",
   "execution_count": 61,
   "id": "c5459182-a111-466e-b9ac-2d3a1c54375b",
   "metadata": {},
   "outputs": [
    {
     "name": "stdout",
     "output_type": "stream",
     "text": [
      "0.452+/-0.022\n",
      "1.10+/-0.16\n",
      "2.1+/-0.4\n"
     ]
    }
   ],
   "source": [
    "for r in R.T:\n",
    "    print('{}'.format(mean(r)))"
   ]
  },
  {
   "cell_type": "markdown",
   "id": "3f88bd75-4074-4585-a3e9-421ccf9f83a1",
   "metadata": {
    "tags": []
   },
   "source": [
    "# Ukol 2"
   ]
  },
  {
   "cell_type": "markdown",
   "id": "89cf7e26-5d8a-4bb7-adeb-dc2fdfc03860",
   "metadata": {
    "tags": []
   },
   "source": [
    "## Bez chyb"
   ]
  },
  {
   "cell_type": "code",
   "execution_count": 177,
   "id": "115c2304-bbeb-4ee8-b333-f67a2a89e59b",
   "metadata": {},
   "outputs": [],
   "source": [
    "m = np.array([250,350,400,450,500,550,600,650,750,850]) #### +100 = 20, +50 = 10, 250 = 0, otacka = 250\n",
    "\n",
    "k1 = np.array([2,1.1,1,0.9,0.8,0.7,0.6,0.5,0.4,0.3])  #### pm 0.1\n",
    "k2 = np.array([3,2,2,1.8,1.7,1.6,1.4,1.4,1.3,1.1])\n",
    "k3 = np.array([6,3,3,2.7,2.6,2.3,2.2,2.1,2,1.9])\n",
    "\n",
    "l = 160.9 + 422.4 + 472.6"
   ]
  },
  {
   "cell_type": "code",
   "execution_count": 178,
   "id": "ee5cddf7-d7bc-4a58-b4cb-c805ec2dcef3",
   "metadata": {},
   "outputs": [],
   "source": [
    "D1 = 1000*(lamb*1*np.sqrt(l**2 + k1**2))/k1\n",
    "D2 = 1000*(lamb*2*np.sqrt(l**2 + k2**2))/k2\n",
    "D3 = 1000*(lamb*3*np.sqrt(l**2 + k3**2))/k3"
   ]
  },
  {
   "cell_type": "code",
   "execution_count": 179,
   "id": "84bf8572-26c5-4ec1-8f72-3e898e59938d",
   "metadata": {},
   "outputs": [
    {
     "name": "stdout",
     "output_type": "stream",
     "text": [
      "[[0.33419295 0.4455916  0.33419775]\n",
      " [0.60762278 0.6683859  0.6683874 ]\n",
      " [0.668385   0.6683859  0.6683874 ]\n",
      " [0.74264994 0.74265075 0.74265209]\n",
      " [0.83548111 0.78633596 0.77121545]\n",
      " [0.9548355  0.83548183 0.8718082 ]\n",
      " [1.11397468 0.95483612 0.91143566]\n",
      " [1.33676955 0.95483612 0.95483717]\n",
      " [1.67096187 1.02828493 1.00257885]\n",
      " [2.22794909 1.21524557 1.05534597]]\n"
     ]
    }
   ],
   "source": [
    "D = np.array([D1,D2,D3])\n",
    "print(D.T)"
   ]
  },
  {
   "cell_type": "code",
   "execution_count": 183,
   "id": "505c0f22-b87a-4c21-8ac4-9efcf24ce65f",
   "metadata": {},
   "outputs": [
    {
     "name": "stdout",
     "output_type": "stream",
     "text": [
      "M: 250, F: 0.37 +- 0.03\n",
      "M: 350, F: 0.65 +- 0.02\n",
      "M: 400, F: 0.67 +- 0.0\n",
      "M: 450, F: 0.74 +- 0.0\n",
      "M: 500, F: 0.8 +- 0.02\n",
      "M: 550, F: 0.89 +- 0.03\n",
      "M: 600, F: 0.99 +- 0.05\n",
      "M: 650, F: 1.08 +- 0.1\n",
      "M: 750, F: 1.23 +- 0.18\n",
      "M: 850, F: 1.5 +- 0.3\n"
     ]
    }
   ],
   "source": [
    "i = 0\n",
    "for d in D.T:  ###### SROUB PODKLUYZUJEE\n",
    "    print('M: {}, F: {} +- {}'.format(m[i], mean(d).round(2), error(d).round(2)))\n",
    "    i+=1"
   ]
  },
  {
   "cell_type": "markdown",
   "id": "a0ea4d12-f5bc-47fd-a5a4-902f08e64f8d",
   "metadata": {
    "tags": []
   },
   "source": [
    "## S chybama"
   ]
  },
  {
   "cell_type": "code",
   "execution_count": 202,
   "id": "83d6cebd-d368-4b60-ba65-09dd6fcab977",
   "metadata": {},
   "outputs": [],
   "source": [
    "m = np.array([250,350,400,450,500,550,600,650,750,850]) #### +100 = 20, +50 = 10, 250 = 0, otacka = 250\n",
    "\n",
    "k1 = np.array([2,1.1,1,0.9,0.8,0.7,0.6,0.5,0.4,0.3])  #### pm 0.1\n",
    "k2 = np.array([3,2,2,1.8,1.7,1.6,1.4,1.4,1.3,1.1])\n",
    "k3 = np.array([6,3,3,2.7,2.6,2.3,2.2,2.1,2,1.9])\n",
    "\n",
    "l = 160.9 + 422.4 + 472.6"
   ]
  },
  {
   "cell_type": "code",
   "execution_count": 203,
   "id": "fa48838d-87e7-4bd2-a256-b7bc1e21bdb2",
   "metadata": {},
   "outputs": [
    {
     "data": {
      "text/plain": [
       "1055.9+/-20.0"
      ]
     },
     "execution_count": 203,
     "metadata": {},
     "output_type": "execute_result"
    }
   ],
   "source": [
    "k1u = unumpy.uarray(k1, 0.2)\n",
    "k2u = unumpy.uarray(k2, 0.2)\n",
    "k3u = unumpy.uarray(k3, 0.2)\n",
    "lu = ufloat(l,20)\n",
    "\n",
    "lu"
   ]
  },
  {
   "cell_type": "code",
   "execution_count": 204,
   "id": "c6948e81-3cb0-42cc-aba7-92cfbddc8583",
   "metadata": {},
   "outputs": [],
   "source": [
    "D1 = 1000*(lamb*1*(lu**2 + k1u**2)**0.5)/k1u\n",
    "D2 = 1000*(lamb*2*(lu**2 + k2u**2)**0.5)/k2u\n",
    "D3 = 1000*(lamb*3*(lu**2 + k3u**2)**0.5)/k3u"
   ]
  },
  {
   "cell_type": "code",
   "execution_count": 205,
   "id": "6ba55d41-d984-465c-8f1f-5cf513cc799c",
   "metadata": {},
   "outputs": [],
   "source": [
    "D = np.array([D1,D2,D3])\n",
    "#print(D.T)"
   ]
  },
  {
   "cell_type": "code",
   "execution_count": 206,
   "id": "76e82800-82f0-4e75-aab5-4c7ec5df1557",
   "metadata": {},
   "outputs": [
    {
     "name": "stdout",
     "output_type": "stream",
     "text": [
      "$0.25$ & $0.371 \\pm 0.017$ \\\\\n",
      "$0.35$ & $0.65 \\pm 0.05$ \\\\\n",
      "$0.4$ & $0.67 \\pm 0.05$ \\\\\n",
      "$0.45$ & $0.74 \\pm 0.07$ \\\\\n",
      "$0.5$ & $0.80 \\pm 0.08$ \\\\\n",
      "$0.55$ & $0.89 \\pm 0.10$ \\\\\n",
      "$0.6$ & $0.99 \\pm 0.14$ \\\\\n",
      "$0.65$ & $1.08 \\pm 0.19$ \\\\\n",
      "$0.75$ & $1.23 \\pm 0.29$ \\\\\n",
      "$0.85$ & $1.5 \\pm 0.5$ \\\\\n"
     ]
    }
   ],
   "source": [
    "i = 0\n",
    "for d in D.T:  ###### SROUB PODKLUYZUJEE\n",
    "    print('${}$ & ${:L}$ \\\\\\\\'.format(m[i]/1000, mean(d)))\n",
    "    i+=1"
   ]
  },
  {
   "cell_type": "markdown",
   "id": "ba497a83-0440-4b1b-aaef-c8dc0b656aab",
   "metadata": {
    "tags": []
   },
   "source": [
    "# Ukol 3 "
   ]
  },
  {
   "cell_type": "markdown",
   "id": "b0efabac-2fbd-489d-9a41-d3188fb5676e",
   "metadata": {
    "jp-MarkdownHeadingCollapsed": true,
    "tags": []
   },
   "source": [
    "## Bez chyb"
   ]
  },
  {
   "cell_type": "code",
   "execution_count": 202,
   "id": "4a12aceb-7441-4026-915b-e1eb74a3e777",
   "metadata": {},
   "outputs": [],
   "source": [
    "k1 = np.array([35.2,16.1,8.5])/100\n",
    "k2 = np.array([77.6,52,25.2])/100  ### pm 1\n",
    "\n",
    "k = np.array([k1,k2])\n",
    "\n",
    "l1 = 71/100\n",
    "l2 = 39/100\n",
    "l3 = 21/100\n",
    "\n",
    "l = np.array([l1,l2,l3])"
   ]
  },
  {
   "cell_type": "code",
   "execution_count": 203,
   "id": "4de96b5a-f043-4c6e-a585-70df39622936",
   "metadata": {},
   "outputs": [],
   "source": [
    "### 600/mm"
   ]
  },
  {
   "cell_type": "code",
   "execution_count": 204,
   "id": "5c4a9641-361f-4da0-86d1-2b3a97f4bfe8",
   "metadata": {},
   "outputs": [
    {
     "data": {
      "text/plain": [
       "array([[701.71013384, 602.81846654, 592.7215762 ],\n",
       "       [582.76876986, 631.91153239, 606.8098575 ]])"
      ]
     },
     "execution_count": 204,
     "metadata": {},
     "output_type": "execute_result"
    }
   ],
   "source": [
    "d1 = 1000*(lamb*1*np.sqrt(l**2 + k1**2))/k1\n",
    "d2 = 1000*(lamb*2*np.sqrt(l**2 + k2**2))/k2\n",
    "\n",
    "d = np.array([1/d1,1/d2])\n",
    "d"
   ]
  },
  {
   "cell_type": "code",
   "execution_count": 205,
   "id": "29db6009-e2ee-4512-b6f6-1f0f02202532",
   "metadata": {},
   "outputs": [
    {
     "data": {
      "text/plain": [
       "array([[701.71013384, 582.76876986],\n",
       "       [602.81846654, 631.91153239],\n",
       "       [592.7215762 , 606.8098575 ]])"
      ]
     },
     "execution_count": 205,
     "metadata": {},
     "output_type": "execute_result"
    }
   ],
   "source": [
    "d.T"
   ]
  },
  {
   "cell_type": "code",
   "execution_count": 207,
   "id": "ed29ac49-6c19-4a1e-97bf-a15848719112",
   "metadata": {},
   "outputs": [
    {
     "name": "stdout",
     "output_type": "stream",
     "text": [
      "L0:, F: 642.2394518503643 +- 42.052122513975895\n",
      "L1:, F: 617.364999461081 +- 10.285952073585985\n",
      "L2:, F: 599.7657168498192 +- 4.980959622701631\n"
     ]
    }
   ],
   "source": [
    "i = 0\n",
    "for N in d.T:  ###### SROUB PODKLUYZUJEE\n",
    "    print('L{}:, F: {} +- {}'.format(i, mean(N), error(N)))\n",
    "    i+=1"
   ]
  },
  {
   "cell_type": "markdown",
   "id": "60ffd784-eb88-4ca8-b07a-32bc29e5d2b3",
   "metadata": {},
   "source": [
    "## S chybama"
   ]
  },
  {
   "cell_type": "code",
   "execution_count": 208,
   "id": "3a12aa35-dcef-4db5-81eb-2bbb6b00c34f",
   "metadata": {},
   "outputs": [],
   "source": [
    "k1 = np.array([35.2,16.1,8.5])/100\n",
    "k2 = np.array([77.6,52,25.2])/100  ### pm 1\n",
    "\n",
    "l1 = 71/100\n",
    "l2 = 39/100\n",
    "l3 = 21/100\n",
    "\n",
    "l = np.array([l1,l2,l3])\n",
    "k = np.array([k1,k2])"
   ]
  },
  {
   "cell_type": "code",
   "execution_count": 209,
   "id": "225c8952-3e33-4d6f-8e9d-63428940fb4e",
   "metadata": {},
   "outputs": [],
   "source": [
    "ku = unumpy.uarray(k,[0.01,0.01,0.01])\n",
    "lu = unumpy.uarray(l,[0.1,0.02,0.01])"
   ]
  },
  {
   "cell_type": "code",
   "execution_count": 210,
   "id": "c6436ff7-6001-455f-870e-5f38459e7dd1",
   "metadata": {},
   "outputs": [],
   "source": [
    "d1 = 1000*(lamb*1*(lu**2 + ku[0]**2)**0.5)/k1\n",
    "d2 = 1000*(lamb*2*(lu**2 + ku[1]**2)**0.5)/k2\n",
    "\n",
    "d = np.array([1/d1,1/d2])"
   ]
  },
  {
   "cell_type": "code",
   "execution_count": 218,
   "id": "d5aabe8d-e6e7-4c5d-9398-7dc93ffed318",
   "metadata": {},
   "outputs": [
    {
     "name": "stdout",
     "output_type": "stream",
     "text": [
      "L1:, F: \\left(6.4 \\pm 0.6\\right) \\times 10^{2}\n",
      "L2:, F: 617 \\pm 20\n",
      "L3:, F: 600 \\pm 20\n"
     ]
    }
   ],
   "source": [
    "i = 0\n",
    "for N in d.T:  ###### SROUB PODKLUYZUJEE\n",
    "    print('L{}:, F: {:L}'.format(i+1, mean(N)))\n",
    "    i+=1"
   ]
  },
  {
   "cell_type": "code",
   "execution_count": 213,
   "id": "49dd7d4c-fb27-4816-9324-6a5b0dbf3658",
   "metadata": {},
   "outputs": [
    {
     "data": {
      "text/plain": [
       "619.7900560537549+/-21.602753366705354"
      ]
     },
     "execution_count": 213,
     "metadata": {},
     "output_type": "execute_result"
    }
   ],
   "source": [
    "mean(d)"
   ]
  },
  {
   "cell_type": "code",
   "execution_count": 219,
   "id": "024f8471-3ddb-466d-97ec-3d81da68bbc8",
   "metadata": {},
   "outputs": [
    {
     "name": "stdout",
     "output_type": "stream",
     "text": [
      "[[701.710133836204+/-79.43040264283667\n",
      "  582.7687698645246+/-37.62441050495002]\n",
      " [602.8184665366961+/-26.96931130556759\n",
      "  631.911532385466+/-14.020858040448125]\n",
      " [592.7215761977618+/-26.16292267548204\n",
      "  606.8098575018766+/-18.49858115882512]]\n"
     ]
    }
   ],
   "source": [
    "print(\"{}\".format(d.T))"
   ]
  },
  {
   "cell_type": "raw",
   "id": "0442a36a-abc5-4d13-83fa-f0bfd96ea441",
   "metadata": {},
   "source": [
    "L0:, F: 642.2394518503643 +- 42.052122513975895\n",
    "L1:, F: 617.364999461081 +- 10.285952073585985\n",
    "L2:, F: 599.7657168498192 +- 4.980959622701631"
   ]
  },
  {
   "cell_type": "code",
   "execution_count": 223,
   "id": "77eed209-c58a-4177-b79d-b7e45a640c77",
   "metadata": {},
   "outputs": [
    {
     "name": "stdout",
     "output_type": "stream",
     "text": [
      "$0.71 \\pm 0.10$ &$0.390 \\pm 0.020$ &$0.210 \\pm 0.010$ &"
     ]
    }
   ],
   "source": [
    "for i in lu:\n",
    "    print(\"${:L}$ &\".format(i), end=\"\")"
   ]
  },
  {
   "cell_type": "code",
   "execution_count": null,
   "id": "bf17c842-4320-4215-995d-31182fb23aa6",
   "metadata": {},
   "outputs": [],
   "source": []
  },
  {
   "cell_type": "markdown",
   "id": "deec23cd-ed86-4871-9601-0684c9b88b98",
   "metadata": {},
   "source": [
    "# Ukol 4"
   ]
  },
  {
   "cell_type": "code",
   "execution_count": 225,
   "id": "7516eae4-6bb5-4908-944b-a31423541ca5",
   "metadata": {},
   "outputs": [],
   "source": [
    "n = np.array([8,7,3,6,6,6,10])\n",
    "dx = np.array([10,10,5,11,12,10,15])*200"
   ]
  },
  {
   "cell_type": "code",
   "execution_count": 226,
   "id": "a4d3489a-3975-4491-a384-21a0789cf139",
   "metadata": {},
   "outputs": [
    {
     "data": {
      "text/plain": [
       "array([500.        , 571.42857143, 666.66666667, 733.33333333,\n",
       "       800.        , 666.66666667, 600.        ])"
      ]
     },
     "execution_count": 226,
     "metadata": {},
     "output_type": "execute_result"
    }
   ],
   "source": [
    "lamb = 2*dx/n\n",
    "lamb"
   ]
  },
  {
   "cell_type": "code",
   "execution_count": 228,
   "id": "4f94c877-4e58-4d86-94f3-8dedaece375f",
   "metadata": {},
   "outputs": [
    {
     "data": {
      "text/plain": [
       "(648.2993197278912, 35.32739677847298)"
      ]
     },
     "execution_count": 228,
     "metadata": {},
     "output_type": "execute_result"
    }
   ],
   "source": [
    "mean(lamb), error(lamb)"
   ]
  },
  {
   "cell_type": "code",
   "execution_count": 229,
   "id": "1d2ed889-e2b1-48aa-86ed-226ff3140acd",
   "metadata": {},
   "outputs": [
    {
     "name": "stdout",
     "output_type": "stream",
     "text": [
      "\\begin{tabular}{rrr}\n",
      "\\toprule\n",
      "  8 & 2000 & 500   \\\\\n",
      "  7 & 2000 & 571.4 \\\\\n",
      "  3 & 1000 & 666.7 \\\\\n",
      "  6 & 2200 & 733.3 \\\\\n",
      "  6 & 2400 & 800   \\\\\n",
      "  6 & 2000 & 666.7 \\\\\n",
      " 10 & 3000 & 600   \\\\\n",
      "\\bottomrule\n",
      "\\end{tabular}\n"
     ]
    }
   ],
   "source": [
    "tab = np.array([n,dx,lamb]).round(1).T\n",
    "\n",
    "print(tabulate(tab, tablefmt=\"latex_booktabs\"))"
   ]
  },
  {
   "cell_type": "code",
   "execution_count": null,
   "id": "c13dc2c4-d929-42c3-a97a-83d1a7e73e4d",
   "metadata": {},
   "outputs": [],
   "source": []
  }
 ],
 "metadata": {
  "kernelspec": {
   "display_name": "Python 3 (ipykernel)",
   "language": "python",
   "name": "python3"
  },
  "language_info": {
   "codemirror_mode": {
    "name": "ipython",
    "version": 3
   },
   "file_extension": ".py",
   "mimetype": "text/x-python",
   "name": "python",
   "nbconvert_exporter": "python",
   "pygments_lexer": "ipython3",
   "version": "3.8.7"
  }
 },
 "nbformat": 4,
 "nbformat_minor": 5
}
