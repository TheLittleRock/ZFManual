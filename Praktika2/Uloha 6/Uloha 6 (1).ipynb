{
 "cells": [
  {
   "cell_type": "code",
   "execution_count": 3,
   "id": "675b57a3-4574-4d05-922d-df00fa0653a8",
   "metadata": {},
   "outputs": [],
   "source": [
    "import numpy as np\n",
    "import sympy as smp\n",
    "from sympy import symbols, Eq, solve\n",
    "import matplotlib.pyplot as plt\n",
    "from scipy.optimize import curve_fit\n",
    "from tabulate import tabulate\n",
    "import matplotlib\n",
    "\n",
    "from uncertainties import ufloat\n",
    "from uncertainties.umath import *\n",
    "from uncertainties import unumpy\n",
    "from uncertainties.unumpy import uarray\n",
    "import uncertainties as unc"
   ]
  },
  {
   "cell_type": "code",
   "execution_count": 244,
   "id": "0d62f878-3fc1-4132-8be5-db542936766d",
   "metadata": {},
   "outputs": [],
   "source": [
    "matplotlib.use(\"pgf\")\n",
    "matplotlib.rcParams.update({\n",
    "    \"pgf.texsystem\": \"pdflatex\",\n",
    "    'font.family': 'serif',\n",
    "    'text.usetex': True,\n",
    "    'pgf.rcfonts': False,\n",
    "})"
   ]
  },
  {
   "cell_type": "code",
   "execution_count": 129,
   "id": "a3f703dc-5e5e-449f-a57b-3ead416172bd",
   "metadata": {},
   "outputs": [],
   "source": [
    "def Tab(*args):\n",
    "    \n",
    "    n = len(args[0])\n",
    "    \n",
    "    for i in range(n):\n",
    "        \n",
    "        for col in args[0:-1]:\n",
    "            print(\"${:.1uL}$ &\".format(col[i]), end='')\n",
    "        \n",
    "        print(r\"${:.1uL}$ \\\\\".format(args[-1][i]))\n",
    "            \n",
    "            \n",
    "            \n",
    "        #print((\"fsrfsrvr {} {} {}\").format(col[i] for col in args))\n",
    "        #print([col[i] for col in args])"
   ]
  },
  {
   "cell_type": "markdown",
   "id": "58b66ac1-cf5b-472f-a459-24956efe783c",
   "metadata": {
    "tags": []
   },
   "source": [
    "# Ukol 1"
   ]
  },
  {
   "cell_type": "markdown",
   "id": "e04746d7-74b4-4c8d-b5a4-d20827d6b390",
   "metadata": {
    "tags": []
   },
   "source": [
    "## Metoda primo"
   ]
  },
  {
   "cell_type": "markdown",
   "id": "24d8d59a-0873-4235-9901-bc3eaab16325",
   "metadata": {},
   "source": [
    "-Obraz d = 95"
   ]
  },
  {
   "cell_type": "code",
   "execution_count": 219,
   "id": "1699e23a-22c3-49c1-8df1-274224fa3014",
   "metadata": {},
   "outputs": [
    {
     "data": {
      "text/plain": [
       "array([18.60884211, 18.48888889, 18.51397059, 18.514875  , 18.46786667])"
      ]
     },
     "execution_count": 219,
     "metadata": {},
     "output_type": "execute_result"
    }
   ],
   "source": [
    "\n",
    "p = 95 ## predmet\n",
    "m = np.array([0,5,10,15,20]) ###matnice\n",
    "c = np.array([69.6,69,67.75,65.9,62.1]) ####cocka\n",
    "\n",
    "f = 1/(p - c) + 1/(c-m)\n",
    "1/f"
   ]
  },
  {
   "cell_type": "code",
   "execution_count": 138,
   "id": "90759c4d-6e4a-4c57-abe5-5cd897fde8bc",
   "metadata": {},
   "outputs": [
    {
     "name": "stdout",
     "output_type": "stream",
     "text": [
      "[186.0884210526316+/-1.4278369063497782\n",
      " 184.88888888888889+/-1.3280781668002581\n",
      " 185.13970588235296+/-1.1872527595053743\n",
      " 185.14874999999995+/-1.0112125124483138\n",
      " 184.67866666666666+/-0.7781021690974604]\n"
     ]
    }
   ],
   "source": [
    "pu = ufloat(95,0.2)\n",
    "mu = unumpy.uarray(m, 0.2)\n",
    "cu = unumpy.uarray(c, 0.2)\n",
    "\n",
    "f = 10/(1/(pu - cu) + 1/(cu-mu))\n",
    "print(f)"
   ]
  },
  {
   "cell_type": "code",
   "execution_count": 139,
   "id": "3305f0ae-bcb5-4997-aa2d-ec60821e4cf7",
   "metadata": {},
   "outputs": [
    {
     "name": "stdout",
     "output_type": "stream",
     "text": [
      "185.2 \\pm 0.9\n"
     ]
    }
   ],
   "source": [
    "print('{:.1uL}'.format(np.mean(f)))"
   ]
  },
  {
   "cell_type": "code",
   "execution_count": 140,
   "id": "5ffcdef1-c164-41e5-8328-be54c3bc74cb",
   "metadata": {},
   "outputs": [
    {
     "name": "stdout",
     "output_type": "stream",
     "text": [
      "0.0 \\pm 0.2 & 69.6 \\pm 0.2 & 186 \\pm 1 \\\\\n",
      "5.0 \\pm 0.2 & 69.0 \\pm 0.2 & 185 \\pm 1 \\\\\n",
      "10.0 \\pm 0.2 & 67.8 \\pm 0.2 & 185 \\pm 1 \\\\\n",
      "15.0 \\pm 0.2 & 65.9 \\pm 0.2 & 185 \\pm 1 \\\\\n",
      "20.0 \\pm 0.2 & 62.1 \\pm 0.2 & 184.7 \\pm 0.8 \\\\\n"
     ]
    }
   ],
   "source": [
    "for i in range(5):\n",
    "    print(r\"{:.1uL} & {:.1uL} & {:.1uL} \\\\\".format(mu[i],cu[i],f[i]))"
   ]
  },
  {
   "cell_type": "code",
   "execution_count": 141,
   "id": "197bc001-0e3c-47d4-8265-6832bc1f4051",
   "metadata": {},
   "outputs": [
    {
     "name": "stdout",
     "output_type": "stream",
     "text": [
      "$0.0 \\pm 0.2$ &$69.6 \\pm 0.2$ &$186 \\pm 1$ \\\\\n",
      "$5.0 \\pm 0.2$ &$69.0 \\pm 0.2$ &$185 \\pm 1$ \\\\\n",
      "$10.0 \\pm 0.2$ &$67.8 \\pm 0.2$ &$185 \\pm 1$ \\\\\n",
      "$15.0 \\pm 0.2$ &$65.9 \\pm 0.2$ &$185 \\pm 1$ \\\\\n",
      "$20.0 \\pm 0.2$ &$62.1 \\pm 0.2$ &$184.7 \\pm 0.8$ \\\\\n"
     ]
    }
   ],
   "source": [
    "Tab(mu,cu,f)"
   ]
  },
  {
   "cell_type": "markdown",
   "id": "a1839041-594a-42a4-b3c3-e421cad8b451",
   "metadata": {},
   "source": [
    "#### Graficky"
   ]
  },
  {
   "cell_type": "code",
   "execution_count": 196,
   "id": "d3a9e156-04cb-44a8-a04c-f440e11eccba",
   "metadata": {},
   "outputs": [
    {
     "name": "stdout",
     "output_type": "stream",
     "text": [
      "95.0\n",
      "90.0\n",
      "85.0\n",
      "80.0\n",
      "75.0\n"
     ]
    }
   ],
   "source": [
    "for x,y in zip((p - c),(c-m)):\n",
    "    print(x+y)"
   ]
  },
  {
   "cell_type": "code",
   "execution_count": 245,
   "id": "c683cccf-ef6f-4b1d-97a3-2f66c0d738e3",
   "metadata": {},
   "outputs": [
    {
     "name": "stderr",
     "output_type": "stream",
     "text": [
      "C:\\Users\\stepa\\AppData\\Local\\Temp/ipykernel_20924/3351814587.py:28: UserWarning: Matplotlib is currently using pgf, which is a non-GUI backend, so cannot show the figure.\n",
      "  plt.show()\n"
     ]
    }
   ],
   "source": [
    "x_range = np.linspace(270,850,100)\n",
    "\n",
    "plt.figure(figsize = (8,5))\n",
    "\n",
    "farba = ['royalblue', 'b', 'mediumblue', 'navy', 'indigo']\n",
    "num = [1,2,3,4,5]\n",
    "\n",
    "for x,y,clr,i in zip((p - c),(c-m),farba,num):\n",
    "    plt.plot([x,0],[0,y], lw = .7, color = clr, label = 'Měření {}'.format(i))\n",
    "\n",
    "\n",
    "plt.plot([0,35],[0,35], color = \"k\", linestyle = \"dashed\", lw = 0.8, label = \"Identita\")\n",
    "\n",
    "plt.legend(loc='upper right', fontsize=10)\n",
    "\n",
    "\n",
    "\n",
    "plt.yticks(np.arange(0,70,2), minor = True)\n",
    "plt.xticks(np.arange(0,35,1), minor = True)\n",
    "\n",
    "plt.ylim(0,70)\n",
    "plt.xlim(0,35)\n",
    "\n",
    "plt.ylabel(r\"$a^\\prime$ \" + r\"[cm]\", fontsize=12)\n",
    "plt.xlabel(r\"$a$ \" + \"[cm]\", fontsize=12)\n",
    "\n",
    "plt.savefig('Cocka.pdf', bbox_inches = 'tight')\n",
    "plt.show()"
   ]
  },
  {
   "cell_type": "code",
   "execution_count": null,
   "id": "08679770-d4d1-4cd1-ab50-98401f6cef75",
   "metadata": {},
   "outputs": [],
   "source": []
  },
  {
   "cell_type": "code",
   "execution_count": null,
   "id": "2305b1a1-5702-4d73-91eb-7789584c8370",
   "metadata": {},
   "outputs": [],
   "source": []
  },
  {
   "cell_type": "markdown",
   "id": "08182600-ee33-464a-a61a-636e67aececf",
   "metadata": {
    "jp-MarkdownHeadingCollapsed": true,
    "tags": []
   },
   "source": [
    "## Bessel"
   ]
  },
  {
   "cell_type": "code",
   "execution_count": 132,
   "id": "347f0d5b-60ac-40b6-9f1f-d493ba7b0d2c",
   "metadata": {},
   "outputs": [
    {
     "data": {
      "text/plain": [
       "array([18.404     , 18.47797059, 18.43899219])"
      ]
     },
     "execution_count": 132,
     "metadata": {},
     "output_type": "execute_result"
    }
   ],
   "source": [
    "m = np.array([5,10,15])\n",
    "p = np.array([95,95,95])\n",
    "\n",
    "c1 = np.array([30.5,37,43.55])\n",
    "c2 = np.array([68.9,67.7,65.9])\n",
    "\n",
    "f = ((p-m)**2-(c2-c1)**2)/(4*(p-m))\n",
    "f"
   ]
  },
  {
   "cell_type": "code",
   "execution_count": 133,
   "id": "2b6c4697-70f0-444b-89ba-4af1fb95962d",
   "metadata": {},
   "outputs": [
    {
     "name": "stdout",
     "output_type": "stream",
     "text": [
      "[184.04+/-1.0308750764325796 184.77970588235297+/-0.9486062021977815\n",
      " 184.389921875+/-0.858601830660381]\n"
     ]
    }
   ],
   "source": [
    "pu = ufloat(95,0.2)\n",
    "mu = unumpy.uarray(m, 0.2)\n",
    "\n",
    "c1u = unumpy.uarray(c1, 0.2)\n",
    "c2u = unumpy.uarray(c2, 0.2)\n",
    "\n",
    "f = 10*((pu-mu)**2-(c2u-c1u)**2)/(4*(pu-mu))\n",
    "print(f)"
   ]
  },
  {
   "cell_type": "code",
   "execution_count": 134,
   "id": "04b3b1fc-30a3-4f40-87e5-8ce6bc3bebad",
   "metadata": {},
   "outputs": [
    {
     "name": "stdout",
     "output_type": "stream",
     "text": [
      "184.4 \\pm 0.7\n"
     ]
    }
   ],
   "source": [
    "print('{:.1uL}'.format(np.mean(f)))"
   ]
  },
  {
   "cell_type": "code",
   "execution_count": 135,
   "id": "fedf5fab-f0da-457c-abba-99eb5e1f4c8f",
   "metadata": {},
   "outputs": [
    {
     "name": "stdout",
     "output_type": "stream",
     "text": [
      "5.0 \\pm 0.2 & 30.5 \\pm 0.2 & 68.9 \\pm 0.2 & 184 \\pm 1 \\\\\n",
      "10.0 \\pm 0.2 & 37.0 \\pm 0.2 & 67.7 \\pm 0.2 & 184.8 \\pm 0.9 \\\\\n",
      "15.0 \\pm 0.2 & 43.5 \\pm 0.2 & 65.9 \\pm 0.2 & 184.4 \\pm 0.9 \\\\\n"
     ]
    }
   ],
   "source": [
    "for i in range(3):\n",
    "    print((r\"{:.1uL} & {:.1uL} & {:.1uL} & {:.1uL} \\\\\").format(mu[i],c1u[i],c2u[i],f[i]))"
   ]
  },
  {
   "cell_type": "code",
   "execution_count": 136,
   "id": "6d672106-0e49-4ad4-906b-d12f70eea3ad",
   "metadata": {},
   "outputs": [
    {
     "name": "stdout",
     "output_type": "stream",
     "text": [
      "$5.0 \\pm 0.2$ &$30.5 \\pm 0.2$ &$68.9 \\pm 0.2$ &$184 \\pm 1$ \\\\\n",
      "$10.0 \\pm 0.2$ &$37.0 \\pm 0.2$ &$67.7 \\pm 0.2$ &$184.8 \\pm 0.9$ \\\\\n",
      "$15.0 \\pm 0.2$ &$43.5 \\pm 0.2$ &$65.9 \\pm 0.2$ &$184.4 \\pm 0.9$ \\\\\n"
     ]
    }
   ],
   "source": [
    "Tab(mu,c1u,c2u,f)"
   ]
  },
  {
   "cell_type": "markdown",
   "id": "3e4e771d-9777-4256-bad2-94898d2897bf",
   "metadata": {
    "jp-MarkdownHeadingCollapsed": true,
    "tags": []
   },
   "source": [
    "# Ukol 2"
   ]
  },
  {
   "cell_type": "markdown",
   "id": "03ef922e-388e-4dc2-8d89-93eeebd565c2",
   "metadata": {
    "jp-MarkdownHeadingCollapsed": true,
    "tags": []
   },
   "source": [
    "## Mikroskopickej obj."
   ]
  },
  {
   "cell_type": "code",
   "execution_count": 164,
   "id": "acc42f02-5537-41dd-b9d2-0cd82d4e31b0",
   "metadata": {},
   "outputs": [
    {
     "data": {
      "text/plain": [
       "array([2.14584104, 2.17208274, 2.19302268])"
      ]
     },
     "execution_count": 164,
     "metadata": {},
     "output_type": "execute_result"
    }
   ],
   "source": [
    "k = 90 - 65.35 #### PREDMETOVA ROVINA\n",
    "\n",
    "m = np.array([38.3,30,40])\n",
    "p = np.array([90,90,90])\n",
    "\n",
    "c1 = np.array([55.7,47.45,57.5])\n",
    "c2 = np.array([78.05,78.15,78])\n",
    "\n",
    "f = ((p-m-k)**2-(c2-c1)**2)/(4*(p-m-k))\n",
    "f"
   ]
  },
  {
   "cell_type": "code",
   "execution_count": 165,
   "id": "49b27b49-1d61-44a1-9577-551ffa2073bd",
   "metadata": {},
   "outputs": [
    {
     "name": "stdout",
     "output_type": "stream",
     "text": [
      "[21.458410351201493+/-1.8678711712374991\n",
      " 21.720827439886804+/-1.953562082796876\n",
      " 21.930226824457574+/-1.8329244050184155]\n"
     ]
    }
   ],
   "source": [
    "ku = ufloat(k,0.2)\n",
    "pu = ufloat(90,0.2)\n",
    "\n",
    "mu = unumpy.uarray(m, 0.2)\n",
    "\n",
    "c1u = unumpy.uarray(c1, 0.2)\n",
    "c2u = unumpy.uarray(c2, 0.2)\n",
    "\n",
    "f = ((pu-mu-ku)**2-(c2u-c1u)**2)/(4*(pu-mu-ku))*10\n",
    "print(f)"
   ]
  },
  {
   "cell_type": "code",
   "execution_count": 166,
   "id": "7370489b-fd3f-48f9-bdc0-f6ac569c56fb",
   "metadata": {},
   "outputs": [
    {
     "name": "stdout",
     "output_type": "stream",
     "text": [
      "k:  24.7 \\pm 0.2\n",
      "p:  90.0 \\pm 0.2\n"
     ]
    }
   ],
   "source": [
    "print('k:  {:.1uL}'.format(ku))\n",
    "print('p:  {:.1uL}'.format(pu))"
   ]
  },
  {
   "cell_type": "code",
   "execution_count": 167,
   "id": "0a7db191-3b93-430b-8a8d-b155ef1389ee",
   "metadata": {},
   "outputs": [
    {
     "name": "stdout",
     "output_type": "stream",
     "text": [
      "22 \\pm 1\n"
     ]
    }
   ],
   "source": [
    "print('{:.1uL}'.format(np.mean(f)))"
   ]
  },
  {
   "cell_type": "code",
   "execution_count": 168,
   "id": "c636645e-87ff-404e-81ce-5dd0578b7ef0",
   "metadata": {},
   "outputs": [
    {
     "name": "stdout",
     "output_type": "stream",
     "text": [
      "$38.3 \\pm 0.2$ &$55.7 \\pm 0.2$ &$78.0 \\pm 0.2$ &$21 \\pm 2$ \\\\\n",
      "$30.0 \\pm 0.2$ &$47.5 \\pm 0.2$ &$78.2 \\pm 0.2$ &$22 \\pm 2$ \\\\\n",
      "$40.0 \\pm 0.2$ &$57.5 \\pm 0.2$ &$78.0 \\pm 0.2$ &$22 \\pm 2$ \\\\\n"
     ]
    }
   ],
   "source": [
    "Tab(mu,c1u,c2u,f)"
   ]
  },
  {
   "cell_type": "markdown",
   "id": "5c9f5f04-a5c4-4a26-8ca5-7285a2a11ede",
   "metadata": {
    "jp-MarkdownHeadingCollapsed": true,
    "tags": []
   },
   "source": [
    "## Okular"
   ]
  },
  {
   "cell_type": "code",
   "execution_count": 173,
   "id": "2fb5806e-56b3-4f62-8303-df11a6cf9b89",
   "metadata": {},
   "outputs": [
    {
     "data": {
      "text/plain": [
       "array([3.05277581, 3.01676529])"
      ]
     },
     "execution_count": 173,
     "metadata": {},
     "output_type": "execute_result"
    }
   ],
   "source": [
    "k = 90 - 65.35 #### \n",
    "\n",
    "m = np.array([30,40])\n",
    "p = np.array([90,90])\n",
    "\n",
    "c1 = np.array([83.4,83.3])\n",
    "c2 = np.array([54.8,64.95])\n",
    "\n",
    "f = ((p-m-k)**2-(c2-c1)**2)/(4*(p-m-k))\n",
    "f"
   ]
  },
  {
   "cell_type": "code",
   "execution_count": 174,
   "id": "0a4a189d-cc9a-4cb3-bb71-760a65a97a51",
   "metadata": {},
   "outputs": [
    {
     "name": "stdout",
     "output_type": "stream",
     "text": [
      "[30.527758132956087+/-1.833663558795365\n",
      " 30.16765285996055+/-1.6702856142771954]\n"
     ]
    }
   ],
   "source": [
    "ku = ufloat(k,0.2)\n",
    "pu = ufloat(90,0.2)\n",
    "\n",
    "mu = unumpy.uarray(m, 0.2)\n",
    "\n",
    "c1u = unumpy.uarray(c1, 0.2)\n",
    "c2u = unumpy.uarray(c2, 0.2)\n",
    "\n",
    "f = ((pu-mu-ku)**2-(c2u-c1u)**2)/(4*(pu-mu-ku))*10\n",
    "print(f)"
   ]
  },
  {
   "cell_type": "code",
   "execution_count": 175,
   "id": "41effc07-db3c-42fc-befa-407847996f97",
   "metadata": {},
   "outputs": [
    {
     "name": "stdout",
     "output_type": "stream",
     "text": [
      "30 \\pm 1\n"
     ]
    }
   ],
   "source": [
    "print('{:.1uL}'.format(np.mean(f)))"
   ]
  },
  {
   "cell_type": "code",
   "execution_count": 176,
   "id": "e658c05e-575d-420f-beb0-71146aed5166",
   "metadata": {},
   "outputs": [
    {
     "name": "stdout",
     "output_type": "stream",
     "text": [
      "$30.0 \\pm 0.2$ &$83.4 \\pm 0.2$ &$54.8 \\pm 0.2$ &$31 \\pm 2$ \\\\\n",
      "$40.0 \\pm 0.2$ &$83.3 \\pm 0.2$ &$65.0 \\pm 0.2$ &$30 \\pm 2$ \\\\\n"
     ]
    }
   ],
   "source": [
    "Tab(mu,c1u,c2u,f)"
   ]
  },
  {
   "cell_type": "code",
   "execution_count": 177,
   "id": "e62d5052-154c-4a83-8ab4-efa7dba12c51",
   "metadata": {},
   "outputs": [
    {
     "name": "stdout",
     "output_type": "stream",
     "text": [
      "k:  24.7 \\pm 0.2\n",
      "p:  90.0 \\pm 0.2\n"
     ]
    }
   ],
   "source": [
    "print('k:  {:.1uL}'.format(ku))\n",
    "print('p:  {:.1uL}'.format(pu))"
   ]
  },
  {
   "cell_type": "markdown",
   "id": "f330e54b-283f-42ac-b302-e2e3b153a90d",
   "metadata": {
    "jp-MarkdownHeadingCollapsed": true,
    "tags": []
   },
   "source": [
    "# Ukol 3"
   ]
  },
  {
   "cell_type": "code",
   "execution_count": 185,
   "id": "afe03191-3b98-4e9d-9baa-2e1a864c0dd3",
   "metadata": {},
   "outputs": [
    {
     "data": {
      "text/plain": [
       "8.75"
      ]
     },
     "execution_count": 185,
     "metadata": {},
     "output_type": "execute_result"
    }
   ],
   "source": [
    "(3.5*10)/4\n",
    "#3.5 cm...stupnice externi (cela)\n",
    "#4 mm stupnice na hranolu ji odpovida"
   ]
  },
  {
   "cell_type": "code",
   "execution_count": 186,
   "id": "45eebb19-1bc9-4837-bd0b-2599cf14b6b3",
   "metadata": {},
   "outputs": [],
   "source": [
    "y1 = ufloat(35,1)\n",
    "y2 = ufloat(4,0.5)"
   ]
  },
  {
   "cell_type": "code",
   "execution_count": 187,
   "id": "b1b6d4d0-77e2-4064-a5db-a6de069ac377",
   "metadata": {},
   "outputs": [
    {
     "name": "stdout",
     "output_type": "stream",
     "text": [
      "9 \\pm 1\n"
     ]
    }
   ],
   "source": [
    "Z = y1/y2\n",
    "print('{:.1uL}'.format(Z))"
   ]
  },
  {
   "cell_type": "markdown",
   "id": "c981afe0-ed38-4c31-870d-f86cb983dc67",
   "metadata": {
    "tags": []
   },
   "source": [
    "### Teoreticky"
   ]
  },
  {
   "cell_type": "code",
   "execution_count": 188,
   "id": "cf27d6fc-89f4-44c4-b18f-a9461b0297d6",
   "metadata": {},
   "outputs": [],
   "source": [
    "f = ufloat(30,1)\n",
    "l = 250"
   ]
  },
  {
   "cell_type": "code",
   "execution_count": 189,
   "id": "cd6634d2-41d5-40a7-891c-017f2039fc7d",
   "metadata": {},
   "outputs": [
    {
     "name": "stdout",
     "output_type": "stream",
     "text": [
      "8.3 \\pm 0.3\n"
     ]
    }
   ],
   "source": [
    "Z = l/f\n",
    "print('{:.1uL}'.format(Z))"
   ]
  },
  {
   "cell_type": "markdown",
   "id": "52167717-57d7-4e98-8bda-3f4a10a80ca6",
   "metadata": {},
   "source": [
    "# Ukol 4"
   ]
  },
  {
   "cell_type": "code",
   "execution_count": null,
   "id": "9c214489-8942-41ef-a714-962777b06b79",
   "metadata": {},
   "outputs": [],
   "source": [
    "## okular - 0\n",
    "## mikro obj, - 1.9 cm"
   ]
  },
  {
   "cell_type": "markdown",
   "id": "416d5242-b627-465c-83bc-28cb3269da18",
   "metadata": {
    "jp-MarkdownHeadingCollapsed": true,
    "tags": []
   },
   "source": [
    "# Ukol 5"
   ]
  },
  {
   "cell_type": "code",
   "execution_count": 105,
   "id": "ce267ea4-e90f-456c-a58a-4a5deabd3d5d",
   "metadata": {},
   "outputs": [
    {
     "name": "stdout",
     "output_type": "stream",
     "text": [
      "zvetseni:  30.0\n"
     ]
    }
   ],
   "source": [
    "# 1 mm odpovida 3cm\n",
    "print('zvetseni: ', 30/1)"
   ]
  },
  {
   "cell_type": "code",
   "execution_count": 111,
   "id": "d155a372-0c38-4d38-aae8-0141b401c455",
   "metadata": {},
   "outputs": [
    {
     "name": "stdout",
     "output_type": "stream",
     "text": [
      "y1: (30 \\pm 1)\n",
      "y2: (1.0 \\pm 0.3)\n"
     ]
    }
   ],
   "source": [
    "y1 = ufloat(30,1)\n",
    "y2 = ufloat(1,0.3)\n",
    "\n",
    "print('y1: ({:.1uL})'.format(y1))\n",
    "print('y2: ({:.1uL})'.format(y2))"
   ]
  },
  {
   "cell_type": "code",
   "execution_count": 112,
   "id": "0395a21b-c1b4-4ead-b555-2b62d90257ce",
   "metadata": {},
   "outputs": [
    {
     "name": "stdout",
     "output_type": "stream",
     "text": [
      "Z: (30 \\pm 9)\n"
     ]
    }
   ],
   "source": [
    "Z = y1/y2\n",
    "print('Z: ({:.1uL})'.format(Z))"
   ]
  },
  {
   "cell_type": "code",
   "execution_count": null,
   "id": "bb739126-d272-4722-bfae-30a08144a621",
   "metadata": {},
   "outputs": [],
   "source": []
  },
  {
   "cell_type": "code",
   "execution_count": 108,
   "id": "cefa791b-3550-4aa0-8999-cf4136d2c0d0",
   "metadata": {},
   "outputs": [],
   "source": [
    "#### okular: 70cm\n",
    "#### mikr. objektiv: 75.65cm"
   ]
  },
  {
   "cell_type": "code",
   "execution_count": 114,
   "id": "6e79efc9-b862-41f2-bbe9-13313c51c3c2",
   "metadata": {},
   "outputs": [
    {
     "name": "stdout",
     "output_type": "stream",
     "text": [
      "Delta: (5.7 \\pm 0.3)\n"
     ]
    }
   ],
   "source": [
    "f1 = ufloat(2.2,0.1)\n",
    "f2 = ufloat(3,0.1)\n",
    "l = 25\n",
    "delta = ufloat(75.65,0.2) - ufloat(70,0.2)\n",
    "\n",
    "print('Delta: ({:.1uL})'.format(delta))"
   ]
  },
  {
   "cell_type": "code",
   "execution_count": 113,
   "id": "eb6a76de-dba9-4676-9177-5398404d9baa",
   "metadata": {},
   "outputs": [
    {
     "name": "stdout",
     "output_type": "stream",
     "text": [
      "Z: (21 \\pm 2)\n"
     ]
    }
   ],
   "source": [
    "Z = (delta*l)/(f1*f2)\n",
    "print('Z: ({:.1uL})'.format(Z))"
   ]
  },
  {
   "cell_type": "markdown",
   "id": "6c5691d5-5aaa-4668-9935-0371b977cf71",
   "metadata": {
    "tags": []
   },
   "source": [
    "# Ukol 6"
   ]
  },
  {
   "cell_type": "code",
   "execution_count": 115,
   "id": "d4ad5830-ba9d-4b24-aa0e-cdc444e1a3f4",
   "metadata": {},
   "outputs": [
    {
     "data": {
      "text/plain": [
       "6.666666666666667"
      ]
     },
     "execution_count": 115,
     "metadata": {},
     "output_type": "execute_result"
    }
   ],
   "source": [
    "#### 3 cm odpovidaji 20 cm\n",
    "20/3"
   ]
  },
  {
   "cell_type": "code",
   "execution_count": 116,
   "id": "14d2cc0d-92ba-4cbb-90b3-d0cd70374bf1",
   "metadata": {},
   "outputs": [],
   "source": [
    "y1 = ufloat(20,1)\n",
    "y2 = ufloat(3,0.5)"
   ]
  },
  {
   "cell_type": "code",
   "execution_count": 117,
   "id": "380adf6c-9727-4431-9439-45b957797d0e",
   "metadata": {},
   "outputs": [
    {
     "name": "stdout",
     "output_type": "stream",
     "text": [
      "y1: (20 \\pm 1)\n",
      "y2: (3.0 \\pm 0.5)\n"
     ]
    }
   ],
   "source": [
    "print('y1: ({:.1uL})'.format(y1))\n",
    "print('y2: ({:.1uL})'.format(y2))"
   ]
  },
  {
   "cell_type": "code",
   "execution_count": 118,
   "id": "b6adb605-c309-4b6b-aac1-87a703ade8a9",
   "metadata": {},
   "outputs": [
    {
     "name": "stdout",
     "output_type": "stream",
     "text": [
      "Z: (7 \\pm 1)\n"
     ]
    }
   ],
   "source": [
    "Z = y1/y2\n",
    "print('Z: ({:.1uL})'.format(Z))"
   ]
  },
  {
   "cell_type": "code",
   "execution_count": null,
   "id": "85b255d6-2b8f-453d-8703-fe08a13b064b",
   "metadata": {},
   "outputs": [],
   "source": []
  },
  {
   "cell_type": "code",
   "execution_count": null,
   "id": "1bf62095-7163-466e-9ac7-cf06233be09d",
   "metadata": {},
   "outputs": [],
   "source": []
  },
  {
   "cell_type": "code",
   "execution_count": 119,
   "id": "52c0e31c-c208-4645-8b54-3d57e2407e3b",
   "metadata": {},
   "outputs": [],
   "source": [
    "f1 = ufloat(18.5,0.1)\n",
    "f2 = ufloat(3,0.1)"
   ]
  },
  {
   "cell_type": "code",
   "execution_count": 120,
   "id": "af7dbb54-1250-4b96-8a21-c6e36fc4053b",
   "metadata": {},
   "outputs": [
    {
     "name": "stdout",
     "output_type": "stream",
     "text": [
      "Z: (6.2 \\pm 0.2)\n"
     ]
    }
   ],
   "source": [
    "Z = f1/f2\n",
    "print('Z: ({:.1uL})'.format(Z))"
   ]
  },
  {
   "cell_type": "code",
   "execution_count": null,
   "id": "571f640a-b578-4df3-9e46-f04833e3b4ef",
   "metadata": {},
   "outputs": [],
   "source": []
  }
 ],
 "metadata": {
  "kernelspec": {
   "display_name": "Python 3 (ipykernel)",
   "language": "python",
   "name": "python3"
  },
  "language_info": {
   "codemirror_mode": {
    "name": "ipython",
    "version": 3
   },
   "file_extension": ".py",
   "mimetype": "text/x-python",
   "name": "python",
   "nbconvert_exporter": "python",
   "pygments_lexer": "ipython3",
   "version": "3.11.4"
  }
 },
 "nbformat": 4,
 "nbformat_minor": 5
}
