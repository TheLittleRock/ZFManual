{
 "cells": [
  {
   "cell_type": "code",
   "execution_count": 1,
   "id": "ae889cbf-3395-49aa-855f-3fb59789165f",
   "metadata": {},
   "outputs": [],
   "source": [
    "import numpy as np\n",
    "import sympy as smp\n",
    "from sympy import symbols, Eq, solve\n",
    "import matplotlib.pyplot as plt\n",
    "from scipy.optimize import curve_fit\n",
    "from tabulate import tabulate\n",
    "import matplotlib"
   ]
  },
  {
   "cell_type": "code",
   "execution_count": 2,
   "id": "4a272d87-bf78-43fe-896c-a004cb89c835",
   "metadata": {},
   "outputs": [],
   "source": [
    "def mean(arr):\n",
    "    return np.mean(arr)\n",
    "\n",
    "def error(x):\n",
    "    return x.std() / np.sqrt(x.size)\n",
    "\n",
    "def weighted_error(x, err):\n",
    "    \n",
    "    x = np.asarray(x)\n",
    "    err = np.asarray(err)\n",
    "    \n",
    "    average = np.sum(x/(err**2))/np.sum(1/err**2)\n",
    "    \n",
    "    average_error = 1/np.sqrt(np.sum(1/err**2))\n",
    "    \n",
    "    return average, average_error\n",
    "\n",
    "def decimal(x):\n",
    "    return x.replace(',', '.').encode()\n",
    "\n",
    "def sum_err(x,sx):\n",
    "    return np.sum(x),np.sqrt(np.sum([np.sum(i**2) for i in sx])) \n",
    "\n",
    "def diff_err(x,sx):\n",
    "    return x[0]-x[1],np.sqrt(np.sum([np.sum(i**2) for i in sx])) \n",
    "\n",
    "def times_err(x,sx):\n",
    "    return np.prod(x), np.prod(x)*np.sqrt(np.sum([np.sum((i/j)**2) for i,j in zip(sx,x)]))\n",
    "\n",
    "#def frac_err(x,sx):\n",
    "#    return x[0]/x[1], x[0]/x[1]*np.sqrt(np.sum((sx/x)**2))\n",
    "\n",
    "def frac_err(x,sx):\n",
    "    return x[0]/x[1], x[0]/x[1]*np.sqrt(np.sum([np.sum((i/j)**2) for i,j in zip(sx,x)]))\n",
    "    #return [np.sum((i/j)**2) for i,j in zip(sx,x)]"
   ]
  },
  {
   "cell_type": "code",
   "execution_count": null,
   "id": "fe8e6e63-7d7f-4f2a-a116-dfa0f7461865",
   "metadata": {},
   "outputs": [],
   "source": [
    "matplotlib.use(\"pgf\")\n",
    "matplotlib.rcParams.update({\n",
    "    \"pgf.texsystem\": \"pdflatex\",\n",
    "    'font.family': 'serif',\n",
    "    'text.usetex': True,\n",
    "    'pgf.rcfonts': False,\n",
    "})"
   ]
  },
  {
   "cell_type": "code",
   "execution_count": null,
   "id": "483df335-0fc0-4818-bb2f-e01a9a3682a5",
   "metadata": {},
   "outputs": [],
   "source": []
  },
  {
   "cell_type": "markdown",
   "id": "11899255-ff50-46bb-9c20-fb9294608064",
   "metadata": {},
   "source": [
    "# Ukol 1"
   ]
  },
  {
   "cell_type": "code",
   "execution_count": 3,
   "id": "4e601c17-e6c6-44e6-854a-c04a953aa4a2",
   "metadata": {},
   "outputs": [
    {
     "data": {
      "text/plain": [
       "(1.04677, 1e-05)"
      ]
     },
     "execution_count": 3,
     "metadata": {},
     "output_type": "execute_result"
    }
   ],
   "source": [
    "d1 = np.pi * (np.array([49,49,47,42,44])/180 + np.array([26,0,36,48,42])/(60*180) + np.array([25,42,43,28,12])/(60*60*180))\n",
    "d2 = np.pi * (np.array([169,168,167,162,164])/180 + np.array([23,57,33,45,39])/(60*180) + np.array([43,29,58,27,16])/(60*60*180))\n",
    "phi_arr = (d2 - d1)/2\n",
    "phi = mean(phi_arr)\n",
    "sphi = error(phi_arr)\n",
    "phi.round(5), sphi.round(5)"
   ]
  },
  {
   "cell_type": "code",
   "execution_count": 4,
   "id": "6a6aaa98-6deb-4d10-8551-3f3f93fa7db0",
   "metadata": {},
   "outputs": [
    {
     "data": {
      "text/plain": [
       "1e-06"
      ]
     },
     "execution_count": 4,
     "metadata": {},
     "output_type": "execute_result"
    }
   ],
   "source": [
    "(np.sqrt(2*0.2**2)*np.pi/(60*60*180)).round(6) ## chyba mereni"
   ]
  },
  {
   "cell_type": "code",
   "execution_count": 5,
   "id": "5d89c994-2a98-47e6-86d5-06634c2e211c",
   "metadata": {},
   "outputs": [
    {
     "name": "stdout",
     "output_type": "stream",
     "text": [
      "\\begin{tabular}{rrr}\n",
      "\\toprule\n",
      " 0.8629  & 2.95651 & 1.0468  \\\\\n",
      " 0.85541 & 2.94887 & 1.04673 \\\\\n",
      " 0.83099 & 2.92458 & 1.0468  \\\\\n",
      " 0.74714 & 2.84065 & 1.04676 \\\\\n",
      " 0.78022 & 2.87376 & 1.04677 \\\\\n",
      "\\bottomrule\n",
      "\\end{tabular}\n"
     ]
    }
   ],
   "source": [
    "T = np.array([d1,d2,phi_arr]).round(5).T\n",
    "\n",
    "print(tabulate(T, tablefmt=\"latex_booktabs\"))"
   ]
  },
  {
   "cell_type": "markdown",
   "id": "fced797b-5b49-49b4-b5a2-c8c5b40ee839",
   "metadata": {},
   "source": [
    "# Ukol 2"
   ]
  },
  {
   "cell_type": "code",
   "execution_count": 6,
   "id": "0edd241b-20fe-4a73-8c42-568a74b68f44",
   "metadata": {},
   "outputs": [
    {
     "data": {
      "text/plain": [
       "(0.861, 0.008)"
      ]
     },
     "execution_count": 6,
     "metadata": {},
     "output_type": "execute_result"
    }
   ],
   "source": [
    "d1 = np.array([2.9045,2.9105,2.9110,2.9161,2.9267,2.9490,2.9616,2.9620])\n",
    "d2 = np.array([1.2332, 1.2271, 1.2266, 1.2215, 1.2094, 1.1901, 1.1765, 1.1750])\n",
    "wl = np.array([690.7,579.1,577.0,546.1,491.6,435.8,407.8,404.7])\n",
    "eps_arr = (d1 - d2)/2\n",
    "eps = mean(eps_arr)\n",
    "seps = error(eps_arr)\n",
    "eps.round(3), seps.round(3)"
   ]
  },
  {
   "cell_type": "code",
   "execution_count": 7,
   "id": "1df3dce9-9565-48bd-bff4-45a975801d1f",
   "metadata": {},
   "outputs": [
    {
     "data": {
      "text/plain": [
       "(array([1.6171392 , 1.6206954 , 1.62098864, 1.62397388, 1.63057957,\n",
       "        1.64254871, 1.64999586, 1.65053318]),\n",
       " array([0.04144979, 0.04077585, 0.04072131, 0.04017475, 0.03901884,\n",
       "        0.0370944 , 0.03599537, 0.03591874]))"
      ]
     },
     "execution_count": 7,
     "metadata": {},
     "output_type": "execute_result"
    }
   ],
   "source": [
    "n = np.sin((eps_arr+phi)/2)/np.sin(phi/2)\n",
    "sn = n*np.sqrt(seps**2/(np.cos(eps_arr+phi)**2)) \n",
    "n,sn"
   ]
  },
  {
   "cell_type": "code",
   "execution_count": 8,
   "id": "793537bf-b85c-42fc-bf0c-490d16973047",
   "metadata": {},
   "outputs": [
    {
     "data": {
      "text/plain": [
       "((1.6001436078711984, 0.003739029527247081),\n",
       " (6.487410629882452, 1.5934914008289487),\n",
       " (277.64363455129836, 22.964906882582856))"
      ]
     },
     "execution_count": 8,
     "metadata": {},
     "output_type": "execute_result"
    }
   ],
   "source": [
    "def disp(w,n0,C,w0):\n",
    "    return n0+C/(w-w0)\n",
    "\n",
    "params,err = curve_fit(disp,wl,n,p0=[1.6,6,270], maxfev=5000)\n",
    "\n",
    "n0,C,wl0 = params\n",
    "sn0,sC,swl0 = np.sqrt(np.diag(err))\n",
    "(n0, sn0),(C, sC),(wl0, swl0)"
   ]
  },
  {
   "cell_type": "code",
   "execution_count": 9,
   "id": "eb445ecd-074b-4914-be4e-7b717956131c",
   "metadata": {},
   "outputs": [
    {
     "name": "stdout",
     "output_type": "stream",
     "text": [
      "\\begin{tabular}{rrrrrr}\n",
      "\\toprule\n",
      " 2.904 & 1.233 & 0.836 & 1.62 & 0.04 & 690.7 \\\\\n",
      " 2.91  & 1.227 & 0.842 & 1.62 & 0.04 & 579.1 \\\\\n",
      " 2.911 & 1.227 & 0.842 & 1.62 & 0.04 & 577   \\\\\n",
      " 2.916 & 1.222 & 0.847 & 1.62 & 0.04 & 546.1 \\\\\n",
      " 2.927 & 1.209 & 0.859 & 1.63 & 0.04 & 491.6 \\\\\n",
      " 2.949 & 1.19  & 0.879 & 1.64 & 0.04 & 435.8 \\\\\n",
      " 2.962 & 1.176 & 0.893 & 1.65 & 0.04 & 407.8 \\\\\n",
      " 2.962 & 1.175 & 0.894 & 1.65 & 0.04 & 404.7 \\\\\n",
      "\\bottomrule\n",
      "\\end{tabular}\n"
     ]
    }
   ],
   "source": [
    "T = np.array([d1.round(3),d2.round(3),eps_arr.round(3),n.round(2),sn.round(2),wl]).T\n",
    "\n",
    "print(tabulate(T, tablefmt=\"latex_booktabs\"))"
   ]
  },
  {
   "cell_type": "code",
   "execution_count": 10,
   "id": "bdc96f02-6005-425a-bf20-04f8c0d7a839",
   "metadata": {},
   "outputs": [
    {
     "data": {
      "image/png": "[encoded data removed]",
      "text/plain": [
       "<Figure size 576x360 with 1 Axes>"
      ]
     },
     "metadata": {
      "needs_background": "light"
     },
     "output_type": "display_data"
    }
   ],
   "source": [
    "x_range = np.linspace(400,700,100)\n",
    "\n",
    "plt.figure(figsize = (8,5))\n",
    "\n",
    "\n",
    "plt.scatter(wl,n,color = 'k',marker='x',label = 'Naměřená závislost')\n",
    "plt.plot(x_range,disp(x_range,n0,C,wl0), color = 'k', linestyle = 'dashed', label = \"Fit naměřené závislosti: \\n\" + r\"$\\qquad n = 1.6 + \\frac{6.5}{\\lambda - 277}$\")\n",
    "\n",
    "#plt.legend(loc='upper right', fontsize=11)\n",
    "\n",
    "handles, labels = plt.gca().get_legend_handles_labels()\n",
    "order = [1,0]\n",
    "plt.legend([handles[idx] for idx in order],[labels[idx] for idx in order], loc='upper right', fontsize=11)\n",
    "\n",
    "\n",
    "plt.ylabel(\"$n$ \" + \"[-]\", fontsize=12)\n",
    "plt.xlabel(\"$\\lambda$ [nm]\", fontsize=12)\n",
    "\n",
    "plt.savefig('disperze.pdf', bbox_inches = 'tight')\n",
    "plt.show()"
   ]
  },
  {
   "cell_type": "markdown",
   "id": "c46a26d0-529f-43b9-8a99-fd0057b7583a",
   "metadata": {},
   "source": [
    "2.9045, 1.2332, 690.7\n",
    "2.9105, 1.2271, 579.1\n",
    "2.9110, 1.2266, 577.0\n",
    "2.9161, 1.2215, 546.1\n",
    "2.9267, 1.2094, 491.6\n",
    "2.9490, 1.1901, 435.8\n",
    "2.9616, 1.1765, 407.8\n",
    "2.9620 1.1750   404.7"
   ]
  },
  {
   "cell_type": "markdown",
   "id": "8d398263-2ea0-47d1-888e-b54ad07ef4de",
   "metadata": {},
   "source": [
    "# Uloha 3"
   ]
  },
  {
   "cell_type": "code",
   "execution_count": 11,
   "id": "320cc6af-2d34-484e-9416-aa6b463c2ab5",
   "metadata": {},
   "outputs": [
    {
     "data": {
      "text/plain": [
       "(0.86, 0.01)"
      ]
     },
     "execution_count": 11,
     "metadata": {},
     "output_type": "execute_result"
    }
   ],
   "source": [
    "d1 = np.pi * (np.array([67,68,69])/180 + np.array([8,11,52])/(60*180) + np.array([55,43,20])/(60*60*180))\n",
    "d2 = np.pi * (np.array([168,166,165])/180 + np.array([0,58,20])/(60*180) + np.array([32,52,34])/(60*60*180))\n",
    "wl_t = np.array([434,486.1,656.3])\n",
    "eps_arr = abs(d1 - d2)/2\n",
    "eps = mean(eps_arr)\n",
    "seps = error(eps_arr)\n",
    "eps.round(2), seps.round(2)"
   ]
  },
  {
   "cell_type": "code",
   "execution_count": 12,
   "id": "c20937e4-9a4b-4f62-b018-e9c19fb59577",
   "metadata": {},
   "outputs": [
    {
     "data": {
      "text/plain": [
       "(array([1.64296097, 1.63255916, 1.61565815]),\n",
       " array([0.05269839, 0.05505262, 0.059395  ]))"
      ]
     },
     "execution_count": 12,
     "metadata": {},
     "output_type": "execute_result"
    }
   ],
   "source": [
    "n = np.sin((eps_arr+phi)/2)/np.sin(phi/2)\n",
    "sn = n*np.sqrt(seps**2/(np.cos(eps_arr+phi)**2)) \n",
    "n,sn"
   ]
  },
  {
   "cell_type": "code",
   "execution_count": 13,
   "id": "5204b6a7-0f39-42a5-ab64-413f6a422d60",
   "metadata": {},
   "outputs": [
    {
     "data": {
      "text/plain": [
       "[0.5*(2770.0*n - 4367.0)/(5.0*n - 8.0)]"
      ]
     },
     "execution_count": 13,
     "metadata": {},
     "output_type": "execute_result"
    }
   ],
   "source": [
    "l,refr = symbols('\\lambda n')\n",
    "eq1 = Eq(1.6 + 6.5/(l-277), refr)\n",
    "solve(1.6 + 6.5/(l-277) - refr, l)\n"
   ]
  },
  {
   "cell_type": "code",
   "execution_count": 14,
   "id": "73824183-6504-4106-8eb1-b8f6025e08c2",
   "metadata": {},
   "outputs": [
    {
     "name": "stdout",
     "output_type": "stream",
     "text": [
      "[428.30011251 476.63660083 692.11929366]\n",
      "[19.42823385 22.73062726 35.98291827]\n"
     ]
    }
   ],
   "source": [
    "wl = 0.5*(2770.0*n - 4367.0)/(5.0*n - 8.0)\n",
    "swl = wl*np.sqrt(2*(sn/n)**2)\n",
    "print(wl)\n",
    "print(swl)"
   ]
  },
  {
   "cell_type": "code",
   "execution_count": 15,
   "id": "313860c6-eb39-467d-b390-ca188452d3ea",
   "metadata": {},
   "outputs": [
    {
     "data": {
      "text/plain": [
       "(array([11118149.68714338, 11189516.9696066 , 10402830.93670153]),\n",
       " array([2401587.17566429, 2845994.77845108, 3894031.52838375]))"
      ]
     },
     "execution_count": 15,
     "metadata": {},
     "output_type": "execute_result"
    }
   ],
   "source": [
    "k = np.array([5,4,3])\n",
    "R = 10**9/((0.25-1/k**2)*wl)\n",
    "sR = R*swl/((0.25-1/k**2)*wl)\n",
    "R,sR"
   ]
  },
  {
   "cell_type": "code",
   "execution_count": 16,
   "id": "7cf01eb8-4058-4ff9-8ab6-b0eacfaec91c",
   "metadata": {},
   "outputs": [
    {
     "data": {
      "text/plain": [
       "(array([11000000., 11000000., 10000000.]),\n",
       " array([2000000., 3000000., 4000000.]))"
      ]
     },
     "execution_count": 16,
     "metadata": {},
     "output_type": "execute_result"
    }
   ],
   "source": [
    "R.round(-6),sR.round(-6)"
   ]
  },
  {
   "cell_type": "code",
   "execution_count": 17,
   "id": "5acaf34d-b911-4391-a97f-01bee70d019d",
   "metadata": {},
   "outputs": [
    {
     "data": {
      "text/plain": [
       "array([433.93671322, 486.00911881, 656.11231039])"
      ]
     },
     "execution_count": 17,
     "metadata": {},
     "output_type": "execute_result"
    }
   ],
   "source": [
    "10**9/(10973731*(0.25-1/k**2))"
   ]
  },
  {
   "cell_type": "code",
   "execution_count": 18,
   "id": "74238846-1e2e-4fde-b3f0-ffa692d0e72b",
   "metadata": {},
   "outputs": [
    {
     "name": "stdout",
     "output_type": "stream",
     "text": [
      "\\begin{tabular}{rrrrrrrrrr}\n",
      "\\toprule\n",
      " 1.172 & 2.932 & 0.88  & 1.64 & 0.05 & 428 & 19 & 1.1e+07 & 2e+06 & 434   \\\\\n",
      " 1.19  & 2.914 & 0.862 & 1.63 & 0.06 & 477 & 23 & 1.1e+07 & 3e+06 & 486.1 \\\\\n",
      " 1.22  & 2.886 & 0.833 & 1.62 & 0.06 & 692 & 36 & 1e+07   & 4e+06 & 656.3 \\\\\n",
      "\\bottomrule\n",
      "\\end{tabular}\n"
     ]
    }
   ],
   "source": [
    "T = np.array([d1.round(3),d2.round(3),eps_arr.round(3),n.round(2),sn.round(2),wl.round(0),swl.round(0),R.round(-6),sR.round(-6),wl_t]).T\n",
    "\n",
    "print(tabulate(T, tablefmt=\"latex_booktabs\"))"
   ]
  },
  {
   "cell_type": "markdown",
   "id": "5d0c3321-a90d-4e86-8c49-62901fdaa602",
   "metadata": {},
   "source": [
    "# Uloha 4"
   ]
  },
  {
   "cell_type": "code",
   "execution_count": 19,
   "id": "1ee08750-7f4f-4fdf-b06d-2c11c03aa2f5",
   "metadata": {},
   "outputs": [
    {
     "data": {
      "text/plain": [
       "array([0.84258194, 0.84263042])"
      ]
     },
     "execution_count": 19,
     "metadata": {},
     "output_type": "execute_result"
    }
   ],
   "source": [
    "d1 = np.pi * (np.array([165,165])/180 + np.array([58,47])/(60*180) + np.array([14,6])/(60*60*180))\n",
    "d2 = np.pi * (np.array([69,69])/180 + np.array([25,13])/(60*180) + np.array([4,36])/(60*60*180))\n",
    "eps_arr = abs(d1 - d2)/2\n",
    "eps_arr"
   ]
  },
  {
   "cell_type": "code",
   "execution_count": 20,
   "id": "7a89be3f-1890-4818-812c-e1fc5bcef848",
   "metadata": {},
   "outputs": [
    {
     "data": {
      "text/plain": [
       "(array([1.62121257, 1.62124099]), array([0.05788982, 0.05788233]))"
      ]
     },
     "execution_count": 20,
     "metadata": {},
     "output_type": "execute_result"
    }
   ],
   "source": [
    "n = np.sin((eps_arr+phi)/2)/np.sin(phi/2)\n",
    "sn = n*np.sqrt(seps**2/(np.cos(eps_arr+phi)**2)) \n",
    "n,sn"
   ]
  },
  {
   "cell_type": "code",
   "execution_count": 21,
   "id": "d86e54e9-c0f6-42e4-9d6e-eb54dd577cd1",
   "metadata": {},
   "outputs": [
    {
     "name": "stdout",
     "output_type": "stream",
     "text": [
      "[583.42209957 583.01210902]\n",
      "[29.46185834 29.43682711]\n"
     ]
    }
   ],
   "source": [
    "wl = 0.5*(2770.0*n - 4367.0)/(5.0*n - 8.0)\n",
    "swl = wl*np.sqrt(2*(sn/n)**2)\n",
    "print(wl)\n",
    "print(swl)"
   ]
  },
  {
   "cell_type": "code",
   "execution_count": 22,
   "id": "b32a44cd-21af-40de-bd6f-cb51c15bb044",
   "metadata": {},
   "outputs": [
    {
     "data": {
      "text/plain": [
       "(0.4099905472616001, 41.64765988187195)"
      ]
     },
     "execution_count": 22,
     "metadata": {},
     "output_type": "execute_result"
    }
   ],
   "source": [
    "dwl = wl[0]-wl[1]\n",
    "sdwl = np.sqrt(2)*mean(swl)\n",
    "dwl, sdwl"
   ]
  },
  {
   "cell_type": "code",
   "execution_count": 23,
   "id": "97fd4c3d-0589-45fb-b968-cd6f489c6c0c",
   "metadata": {},
   "outputs": [
    {
     "data": {
      "text/plain": [
       "array([1423.01353888, 1422.01353888])"
      ]
     },
     "execution_count": 23,
     "metadata": {},
     "output_type": "execute_result"
    }
   ],
   "source": [
    "r = wl/dwl\n",
    "r"
   ]
  },
  {
   "cell_type": "code",
   "execution_count": 24,
   "id": "79d1fe59-68c4-4652-8c75-9bd7e47cc3ff",
   "metadata": {},
   "outputs": [
    {
     "data": {
      "text/plain": [
       "array([0.02050933, 0.02043999])"
      ]
     },
     "execution_count": 24,
     "metadata": {},
     "output_type": "execute_result"
    }
   ],
   "source": [
    "a = r*(wl - wl0)**2/C\n",
    "a*10**(-9)"
   ]
  },
  {
   "cell_type": "code",
   "execution_count": 35,
   "id": "748d7d83-2010-427c-ac04-8c6a213efbb2",
   "metadata": {},
   "outputs": [
    {
     "name": "stdout",
     "output_type": "stream",
     "text": [
      "\\begin{tabular}{rrrrrrr}\n",
      "\\toprule\n",
      " 2.897 & 1.212 & 0.84258 & 1.62 & 0.06 & 583.422 & 29.462 \\\\\n",
      " 2.893 & 1.208 & 0.84263 & 1.62 & 0.06 & 583.012 & 29.437 \\\\\n",
      "\\bottomrule\n",
      "\\end{tabular}\n"
     ]
    }
   ],
   "source": [
    "T = np.array([d1.round(3),d2.round(3),eps_arr.round(5),n.round(2),sn.round(2),wl.round(3),swl.round(3)]).T\n",
    "\n",
    "print(tabulate(T, tablefmt=\"latex_booktabs\"))"
   ]
  },
  {
   "cell_type": "code",
   "execution_count": null,
   "id": "b6616eab-8c49-456a-ae1b-cac64bf86471",
   "metadata": {},
   "outputs": [],
   "source": []
  }
 ],
 "metadata": {
  "kernelspec": {
   "display_name": "Python 3 (ipykernel)",
   "language": "python",
   "name": "python3"
  },
  "language_info": {
   "codemirror_mode": {
    "name": "ipython",
    "version": 3
   },
   "file_extension": ".py",
   "mimetype": "text/x-python",
   "name": "python",
   "nbconvert_exporter": "python",
   "pygments_lexer": "ipython3",
   "version": "3.8.7"
  }
 },
 "nbformat": 4,
 "nbformat_minor": 5
}
