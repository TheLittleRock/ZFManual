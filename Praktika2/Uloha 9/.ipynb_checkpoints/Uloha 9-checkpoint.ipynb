{
 "cells": [
  {
   "cell_type": "code",
   "execution_count": 1,
   "id": "cc19456a-ab03-4e57-beb4-b6522e8ba91b",
   "metadata": {},
   "outputs": [],
   "source": [
    "import numpy as np\n",
    "import sympy as smp\n",
    "from sympy import symbols, Eq, solve\n",
    "import matplotlib.pyplot as plt\n",
    "from scipy.optimize import curve_fit\n",
    "from tabulate import tabulate\n",
    "import matplotlib"
   ]
  },
  {
   "cell_type": "code",
   "execution_count": 2,
   "id": "3971bb42-47ee-4a21-b935-2aea3757b9f2",
   "metadata": {},
   "outputs": [],
   "source": [
    "plt.rcParams[\"text.usetex\"] =True\n",
    "plt.rcParams[\"mathtext.fontset\"] = \"cm\""
   ]
  },
  {
   "cell_type": "code",
   "execution_count": 3,
   "id": "4fe9f162-2477-4e66-b913-3e36f9d90821",
   "metadata": {},
   "outputs": [],
   "source": [
    "def func(phi,I0,theta,K):\n",
    "    return I0*(np.cos(phi*np.pi/180 + theta*np.pi/180))**2 + K\n",
    "\n",
    "def linear(x, a,b):\n",
    "    return a*x + b"
   ]
  },
  {
   "cell_type": "markdown",
   "id": "6922a7eb-af18-40a3-b16a-0f113ab18e29",
   "metadata": {
    "jp-MarkdownHeadingCollapsed": true,
    "tags": []
   },
   "source": [
    "# Ukol 1"
   ]
  },
  {
   "cell_type": "code",
   "execution_count": 303,
   "id": "f0f799f5-f05b-4bf4-b718-f0af7ca33247",
   "metadata": {},
   "outputs": [
    {
     "data": {
      "text/plain": [
       "<matplotlib.collections.PathCollection at 0x13c7a423490>"
      ]
     },
     "execution_count": 303,
     "metadata": {},
     "output_type": "execute_result"
    }
   ],
   "source": [
    "U1 = np.array([128.8,123.1,158.4,159.5]) ##pm 0.2, 0,90,45,45d\n",
    "\n",
    "#U2 = np.array([]) ##pm 0.2, 10,20,30,40,50,60,70,80,90\n",
    "plt.scatter([0,90,45,45],U1)"
   ]
  },
  {
   "cell_type": "markdown",
   "id": "6e6a7ca4-e477-45ba-ade3-e86fd5345e0c",
   "metadata": {},
   "source": [
    "polar. filtr:\n",
    "alfa[°]\tU[mV] (+- 0.5 mV) 0, 90, 45, 45+lmbda/4\n",
    "20\t\t14\t12\t08\t03\n",
    "30\t\t20\t07\t09\t06\n",
    "40\t\t32\t06\t10\t07\n",
    "50\t\t43\t03\t15\t09\n",
    "60\t\t60\t02\t25\t15\n"
   ]
  },
  {
   "cell_type": "code",
   "execution_count": 304,
   "id": "4314b061-28bb-406c-b803-a784d0867084",
   "metadata": {},
   "outputs": [],
   "source": [
    "alpha = np.array([20,30,40,50,60])\n",
    "E0 = np.array([13.7,19.8,32,43.1,59.6])\n",
    "E90 = np.array([12.2,7.1,6.2,3,1.9])\n",
    "E45 = np.array([8,8.9,10.1,14.8,24.9])\n",
    "E45q = np.array([3,6.2,7.1,8.9,14.7])"
   ]
  },
  {
   "cell_type": "code",
   "execution_count": 305,
   "id": "4c0a0488-02b3-494a-b139-7ff75d4f6e78",
   "metadata": {},
   "outputs": [
    {
     "data": {
      "text/plain": [
       "(array([13.7, 19.8, 32. , 43.1, 59.6]),\n",
       " array([12.2,  7.1,  6.2,  3. ,  1.9]),\n",
       " array([-4.95, -4.55, -9.  , -8.25, -5.85]),\n",
       " array([ -9.95,  -7.25, -12.  , -14.15, -16.05]))"
      ]
     },
     "execution_count": 305,
     "metadata": {},
     "output_type": "execute_result"
    }
   ],
   "source": [
    "Ix = E0\n",
    "Iy = E90\n",
    "Ixy = E45 - 0.5*Ix - 0.5*Iy \n",
    "Ixyp = E45q - 0.5*Ix - 0.5*Iy\n",
    "Ix,Iy,Ixy, Ixyp"
   ]
  },
  {
   "cell_type": "code",
   "execution_count": 314,
   "id": "921894ca-6841-4e11-98b5-23c8b2180bf0",
   "metadata": {},
   "outputs": [
    {
     "data": {
      "text/plain": [
       "(array([0.8601204 , 0.7923973 , 1.03581594, 1.12320656, 1.09035151]),\n",
       " array([0.0135328 , 0.11031835, 0.15781659, 0.20325431, 0.2192285 ]))"
      ]
     },
     "execution_count": 314,
     "metadata": {},
     "output_type": "execute_result"
    }
   ],
   "source": [
    "P1 = (Ix-Iy)/(Ix+Iy)\n",
    "P2 = -2*Ixy/(Ix+Iy) \n",
    "P3 = -2*Ixyp/(Ix+Iy) \n",
    "\n",
    "sP1 = 0.13 * P1 \n",
    "sP2 = 0.11 * P1 \n",
    "sP3 = 0.16 * P1\n",
    "\n",
    "P = np.sqrt(P1**2 + P2**2 + P3**2)\n",
    "sP = np.sqrt(sP1**2 + sP2**2 + sP3**2)\n",
    "P,sP"
   ]
  },
  {
   "cell_type": "code",
   "execution_count": 307,
   "id": "0e733e78-8a13-4e88-b843-b3287231a20a",
   "metadata": {},
   "outputs": [
    {
     "name": "stdout",
     "output_type": "stream",
     "text": [
      "\\begin{tabular}{rrrrr}\n",
      "\\toprule\n",
      " 20 & 13.7 & 12.2 & -4.9 & -10   \\\\\n",
      " 30 & 19.8 &  7.1 & -4.6 &  -7.2 \\\\\n",
      " 40 & 32   &  6.2 & -9   & -12   \\\\\n",
      " 50 & 43.1 &  3   & -8.2 & -14.2 \\\\\n",
      " 60 & 59.6 &  1.9 & -5.9 & -16   \\\\\n",
      "\\bottomrule\n",
      "\\end{tabular}\n"
     ]
    }
   ],
   "source": [
    "tab = np.array([alpha, Ix,Iy,Ixy,Ixyp]).round(1).T\n",
    "\n",
    "print(tabulate(tab, tablefmt=\"latex_booktabs\"))"
   ]
  },
  {
   "cell_type": "code",
   "execution_count": 308,
   "id": "fc330fde-ceac-4b90-880e-d8ce2a7d57df",
   "metadata": {},
   "outputs": [
    {
     "name": "stdout",
     "output_type": "stream",
     "text": [
      "\\begin{tabular}{rrrrrrrrr}\n",
      "\\toprule\n",
      " 20 & 0.1 & 0   & 0.4 & 0   & 0.8 & 0   & 0.9 & 0   \\\\\n",
      " 30 & 0.5 & 0.1 & 0.3 & 0.1 & 0.5 & 0.1 & 0.8 & 0.1 \\\\\n",
      " 40 & 0.7 & 0.1 & 0.5 & 0.1 & 0.6 & 0.1 & 1   & 0.2 \\\\\n",
      " 50 & 0.9 & 0.1 & 0.4 & 0.1 & 0.6 & 0.1 & 1.1 & 0.2 \\\\\n",
      " 60 & 0.9 & 0.1 & 0.2 & 0.1 & 0.5 & 0.2 & 1.1 & 0.2 \\\\\n",
      "\\bottomrule\n",
      "\\end{tabular}\n"
     ]
    }
   ],
   "source": [
    "tab = np.array([alpha, P1,sP1,P2,sP2,P3,sP3,P,sP]).round(1).T\n",
    "\n",
    "print(tabulate(tab, tablefmt=\"latex_booktabs\"))"
   ]
  },
  {
   "cell_type": "code",
   "execution_count": 322,
   "id": "c5501e4f-a56e-4591-ac15-4eba4546593e",
   "metadata": {},
   "outputs": [
    {
     "name": "stderr",
     "output_type": "stream",
     "text": [
      "C:\\Users\\stepa\\AppData\\Local\\Temp/ipykernel_15788/729226483.py:22: UserWarning: Matplotlib is currently using pgf, which is a non-GUI backend, so cannot show the figure.\n",
      "  plt.show()\n"
     ]
    }
   ],
   "source": [
    "plt.figure(figsize = (8,5))\n",
    "\n",
    "\n",
    "plt.errorbar(alpha, P, yerr=sP,elinewidth=.4, fmt = 'kx', linestyle = None, ecolor = \"k\",capsize=3, label = 'Naměřená závislost stupně polarizace \\n na natočení zrdcátka')\n",
    "\n",
    "plt.legend(loc='upper left', fontsize=10)\n",
    "\n",
    "#handles, labels = plt.gca().get_legend_handles_labels()\n",
    "#order = [1,0]\n",
    "#plt.legend([handles[idx] for idx in order],[labels[idx] for idx in order], loc='upper left', fontsize=11)\n",
    "\n",
    "plt.xticks(np.arange(20,60,1), minor = True)\n",
    "#plt.xticks(np.arange(0,96,10))\n",
    "plt.yticks(np.arange(0.7,1.3,.05), minor = True)\n",
    "#plt.yticks(np.arange(460,481,5))\n",
    "#plt.ylim(0,13)\n",
    "\n",
    "plt.ylabel(\"$P$ \" + \"[-]\", fontsize=12)\n",
    "plt.xlabel(r\"$ \\alpha $ \" + \"[$^\\circ$]\", fontsize=12)\n",
    "\n",
    "plt.savefig('Brewster.pdf', bbox_inches = 'tight')\n",
    "plt.show()"
   ]
  },
  {
   "cell_type": "markdown",
   "id": "b157e691-bda3-4ade-9d6f-ceee8657559e",
   "metadata": {
    "jp-MarkdownHeadingCollapsed": true,
    "tags": []
   },
   "source": [
    "# Ukol 2"
   ]
  },
  {
   "cell_type": "code",
   "execution_count": 447,
   "id": "bf485422-8cc3-4fba-b74f-26c083f19de5",
   "metadata": {},
   "outputs": [
    {
     "data": {
      "text/plain": [
       "<matplotlib.collections.PathCollection at 0x13c7fdca790>"
      ]
     },
     "execution_count": 447,
     "metadata": {},
     "output_type": "execute_result"
    }
   ],
   "source": [
    "phi2 = np.array([0,10,20,30,40,50,60,70,80,90])\n",
    "U2 = np.array([0.480,0.477,0.474,0.472,0.470,0.467,0.465,0.463,0.462,0.461])*1000 #### merici na 0\n",
    "U3 = np.array([0.458,0.459,0.460,0.462,0.464,0.467,0.470,0.471,0.472,0.472])*1000 #### merici na 90\n",
    "\n",
    "plt.scatter(phi2,U3, marker = 'x')\n",
    "plt.scatter(phi2,U2, marker = 'x', color = 'k')"
   ]
  },
  {
   "cell_type": "markdown",
   "id": "4d39947d-018a-4021-822b-21bd2e804768",
   "metadata": {
    "jp-MarkdownHeadingCollapsed": true,
    "tags": []
   },
   "source": [
    "## Merici na 0"
   ]
  },
  {
   "cell_type": "code",
   "execution_count": 449,
   "id": "b8801ab5-b2ca-4b4e-b19b-0dc39ba9040d",
   "metadata": {},
   "outputs": [
    {
     "name": "stdout",
     "output_type": "stream",
     "text": [
      "17.09416735866453 7.173647304319986 461.75406946442257\n",
      "0.867231783180033 2.678984009503351 0.5488842038402368\n"
     ]
    }
   ],
   "source": [
    "def func(phi,I0,theta,K):\n",
    "    return I0*(np.cos(phi*np.pi/180 + theta*np.pi/180))**2 + K\n",
    "\n",
    "params,err = curve_fit(func, phi2, U2, p0 = [60,0,400])\n",
    "\n",
    "I0,shift,K = params\n",
    "sI0,sshift,sK = np.sqrt(np.diag(err))\n",
    "print(I0,shift,K)\n",
    "print(sI0,sshift,sK)\n"
   ]
  },
  {
   "cell_type": "code",
   "execution_count": 444,
   "id": "f6f56ab6-00a5-486f-a316-7cb7c76d6612",
   "metadata": {},
   "outputs": [
    {
     "name": "stderr",
     "output_type": "stream",
     "text": [
      "C:\\Users\\stepa\\AppData\\Local\\Temp/ipykernel_15788/3809786021.py:25: UserWarning: Matplotlib is currently using pgf, which is a non-GUI backend, so cannot show the figure.\n",
      "  plt.show()\n"
     ]
    }
   ],
   "source": [
    "x_range = np.linspace(0,90,1000)\n",
    "\n",
    "plt.figure(figsize = (8,5))\n",
    "\n",
    "plt.errorbar(phi2,U2, yerr=np.full(len(phi2),2),elinewidth=.4, fmt = 'kx', linestyle = None, ecolor = \"k\",capsize=3, label = \"Namerena intenzita\")\n",
    "#plt.scatter(phi2,U2,color = 'k',marker = 'x', label = \"Namerena intenzita\")\n",
    "plt.plot(x_range,func(x_range,I0,shift,K), color = 'k', linestyle = 'dashed', label = r\"Proložení křivkou: $I = I_0 \\cdot (\\cos(\\varphi + \\Theta))^2 + K$\")\n",
    "\n",
    "plt.legend(loc='upper right', fontsize=10)\n",
    "\n",
    "#handles, labels = plt.gca().get_legend_handles_labels()\n",
    "#order = [1,0]\n",
    "#plt.legend([handles[idx] for idx in order],[labels[idx] for idx in order], loc='upper left', fontsize=11)\n",
    "\n",
    "plt.xticks(np.arange(0,96,5), minor = True)\n",
    "plt.xticks(np.arange(0,96,10))\n",
    "plt.yticks(np.arange(460,481,1), minor = True)\n",
    "plt.yticks(np.arange(460,481,5))\n",
    "#plt.ylim(0,13)\n",
    "\n",
    "plt.ylabel(\"$I$ \" + \"[V]\", fontsize=12)\n",
    "plt.xlabel(r\"$ \\varphi $ \" + \"[$^\\circ$]\", fontsize=12)\n",
    "\n",
    "plt.savefig('Malus00.pdf', bbox_inches = 'tight')\n",
    "plt.show()"
   ]
  },
  {
   "cell_type": "code",
   "execution_count": null,
   "id": "206dd10d-3037-41fc-9adf-20fc89ee3db6",
   "metadata": {},
   "outputs": [],
   "source": []
  },
  {
   "cell_type": "markdown",
   "id": "122a3fda-db4c-4d62-bbe9-9ba63e34c4ab",
   "metadata": {
    "tags": []
   },
   "source": [
    "## Merici na 90"
   ]
  },
  {
   "cell_type": "code",
   "execution_count": 452,
   "id": "284fee97-e07d-41df-91c5-d646bd301727",
   "metadata": {},
   "outputs": [
    {
     "name": "stdout",
     "output_type": "stream",
     "text": [
      "14.30502848926381 92.70621264730266 457.9648697428815\n",
      "0.3346939291275143 1.3629124709477192 0.30486216264152016\n"
     ]
    }
   ],
   "source": [
    "def func(phi,I0,theta,K):\n",
    "    return I0*(np.cos(phi*np.pi/180 + theta*np.pi/180))**2 + K\n",
    "\n",
    "params,err = curve_fit(func, phi2, U3, p0 = [150,90,470])\n",
    "\n",
    "I0,shift,K = params\n",
    "sI0,sshift,sK = np.sqrt(np.diag(err))\n",
    "print(I0,shift,K)\n",
    "print(sI0,sshift,sK)"
   ]
  },
  {
   "cell_type": "code",
   "execution_count": 446,
   "id": "e4ae3018-583b-40f6-a988-e62b5813f76c",
   "metadata": {},
   "outputs": [
    {
     "name": "stderr",
     "output_type": "stream",
     "text": [
      "C:\\Users\\stepa\\AppData\\Local\\Temp/ipykernel_15788/1686253753.py:27: UserWarning: Matplotlib is currently using pgf, which is a non-GUI backend, so cannot show the figure.\n",
      "  plt.show()\n"
     ]
    }
   ],
   "source": [
    "x_range = np.linspace(0,90,1000)\n",
    "\n",
    "plt.figure(figsize = (8,5))\n",
    "\n",
    "plt.errorbar(phi2,U3, yerr=np.full(len(phi2),2),elinewidth=.4, fmt = 'kx', linestyle = None, ecolor = \"k\",capsize=3, label = \"Namerena intenzita\")\n",
    "#plt.scatter(phi2,U3,color = 'k',marker = 'x', label = \"Namerena intenzita\")\n",
    "plt.plot(x_range,func(x_range,I0,shift,K), color = 'k', linestyle = 'dashed', label = r\"Proložení křivkou: $I = I_0 \\cdot (\\cos(\\varphi + \\Theta))^2 + K$\")\n",
    "\n",
    "#plt.grid(color='grey', linestyle='dotted', linewidth=.4)\n",
    "\n",
    "plt.legend(loc='upper right', fontsize=10)\n",
    "\n",
    "#handles, labels = plt.gca().get_legend_handles_labels()\n",
    "#order = [1,0]\n",
    "#plt.legend([handles[idx] for idx in order],[labels[idx] for idx in order], loc='upper left', fontsize=11)\n",
    "\n",
    "plt.xticks(np.arange(0,96,5), minor = True)\n",
    "plt.xticks(np.arange(0,96,10))\n",
    "plt.yticks(np.arange(460,481,1), minor = True)\n",
    "plt.yticks(np.arange(460,481,5))\n",
    "#plt.ylim(0,13)\n",
    "\n",
    "plt.ylabel(\"$I$ \" + \"[V]\", fontsize=12)\n",
    "plt.xlabel(r\"$ \\varphi $ \" + \"[$^\\circ$]\", fontsize=12)\n",
    "\n",
    "plt.savefig('Malus90.pdf', bbox_inches = 'tight')\n",
    "plt.show()"
   ]
  },
  {
   "cell_type": "markdown",
   "id": "f48a86bc-d39f-4846-ba41-7ce5eb7b5776",
   "metadata": {
    "tags": []
   },
   "source": [
    "# Ukol 4"
   ]
  },
  {
   "cell_type": "markdown",
   "id": "5014cb2d-08b7-49f8-9f84-db410dc72653",
   "metadata": {
    "jp-MarkdownHeadingCollapsed": true,
    "tags": []
   },
   "source": [
    "## Cervena"
   ]
  },
  {
   "cell_type": "code",
   "execution_count": 4,
   "id": "2c16d801-79cb-4dfc-8d73-f7b405d9022b",
   "metadata": {},
   "outputs": [],
   "source": [
    "phi4r = np.array([0,5,10,15,20,25,30,35,40])\n",
    "U4r = np.array([196.3,197,197.7,198,198.3,198.8,198.3,197.9,197.1]) #### merici na 45\n"
   ]
  },
  {
   "cell_type": "code",
   "execution_count": 8,
   "id": "6b5e6c6d-5e73-4a8c-bb17-9486c95eb1ee",
   "metadata": {},
   "outputs": [
    {
     "name": "stdout",
     "output_type": "stream",
     "text": [
      "14.918699331031407 -23.106639984586884 183.56695493906943\n",
      "1.5515971590986404 0.6818766627490666 1.4805265052310683\n"
     ]
    }
   ],
   "source": [
    "params,err = curve_fit(func, phi4r, U4r, p0 = [20,0,150], sigma=np.full(len(phi4r),0.2), absolute_sigma=True)\n",
    "\n",
    "I0,shift,K = params\n",
    "sI0,sshift,sK = np.sqrt(np.diag(err))\n",
    "print(I0,shift,K)\n",
    "print(sI0,sshift,sK)\n",
    "\n",
    "p1 = I0,shift,K\n",
    "sp1 = sI0,sshift,sK"
   ]
  },
  {
   "cell_type": "code",
   "execution_count": 9,
   "id": "af148422-3dd0-4157-9162-63de0d6d8c76",
   "metadata": {},
   "outputs": [
    {
     "data": {
      "image/png": "[encoded data removed]",
      "text/plain": [
       "<Figure size 800x500 with 1 Axes>"
      ]
     },
     "metadata": {},
     "output_type": "display_data"
    }
   ],
   "source": [
    "x_range = np.linspace(0,46,1000)\n",
    "plt.figure(figsize = (8,5))\n",
    "\n",
    "plt.errorbar(phi4r,U4r, yerr=np.full(len(phi4r),.2),elinewidth=.4, fmt = 'kx', linestyle = None, ecolor = \"k\",capsize=3, label = \"Naměřena intenzita s červeným filtrem\")\n",
    "#plt.scatter(phi4r,U4r,color = 'k',marker = 'x', label = \"Namerena intenzita s červeným filtrem\")\n",
    "plt.plot(x_range,func(x_range,I0,shift,K), color = 'k', linestyle = 'dashed', label = r\"Proložení křivkou: $I = I_0 \\cdot (\\cos(\\varphi + \\Theta))^2 + K$\")\n",
    "\n",
    "plt.legend(loc='upper left', fontsize=10)\n",
    "\n",
    "#handles, labels = plt.gca().get_legend_handles_labels()\n",
    "#order = [1,0]\n",
    "#plt.legend([handles[idx] for idx in order],[labels[idx] for idx in order], loc='upper left', fontsize=11)\n",
    "\n",
    "plt.xticks(np.arange(0,46,1), minor = True)\n",
    "plt.xticks(np.arange(0,46,5))\n",
    "plt.yticks(np.arange(196,199,.1), minor = True)\n",
    "#plt.yticks(np.arange(460,481,5))\n",
    "plt.ylim(196,199.2)\n",
    "\n",
    "plt.ylabel(\"$I$ \" + \"[V]\", fontsize=12)\n",
    "plt.xlabel(r\"$ \\varphi $ \" + \"[$^\\circ$]\", fontsize=12)\n",
    "\n",
    "plt.savefig('cervena.pdf', bbox_inches = 'tight')\n",
    "plt.show()"
   ]
  },
  {
   "cell_type": "markdown",
   "id": "87d12534-00d8-4c67-a3f6-6ccf985e0c93",
   "metadata": {
    "jp-MarkdownHeadingCollapsed": true,
    "tags": []
   },
   "source": [
    "## Modra"
   ]
  },
  {
   "cell_type": "code",
   "execution_count": 10,
   "id": "ed304620-4b08-4720-bcb7-ad648fcdd860",
   "metadata": {},
   "outputs": [],
   "source": [
    "phi4b = np.array([40,45,50,55,60,65,70,75,80])\n",
    "U4b = np.array([187.4,188.5,188.7,189.1,189.3,188.7,188.4,187.8,186.3]) #### merici na 90\n"
   ]
  },
  {
   "cell_type": "code",
   "execution_count": 11,
   "id": "301dc267-a545-4ce3-bcef-abfd2cbc873a",
   "metadata": {},
   "outputs": [
    {
     "name": "stdout",
     "output_type": "stream",
     "text": [
      "18.961343683523634 -57.705772566590895 170.2447169047216\n",
      "3.8889836477266084 1.2735096426155654 3.7064085517119523\n"
     ]
    }
   ],
   "source": [
    "params,err = curve_fit(func, phi4b, U4b, p0 = [20,0,150], sigma=np.full(len(phi4b),0.5), absolute_sigma=True)\n",
    "\n",
    "I0,shift,K = params\n",
    "sI0,sshift,sK = np.sqrt(np.diag(err))\n",
    "print(I0,shift,K)\n",
    "print(sI0,sshift,sK)\n",
    "\n",
    "p2 = I0,shift,K\n",
    "sp2 = sI0,sshift,sK"
   ]
  },
  {
   "cell_type": "code",
   "execution_count": 13,
   "id": "ad971c0a-375a-45c1-b405-3715c4207218",
   "metadata": {},
   "outputs": [
    {
     "data": {
      "image/png": "[encoded data removed]",
      "text/plain": [
       "<Figure size 800x500 with 1 Axes>"
      ]
     },
     "metadata": {},
     "output_type": "display_data"
    }
   ],
   "source": [
    "x_range = np.linspace(32.5,83,1000)\n",
    "plt.figure(figsize = (8,5))\n",
    "\n",
    "plt.errorbar(phi4b,U4b, yerr=np.full(len(phi4r),.5),elinewidth=.4, fmt = 'kx', linestyle = None, ecolor = \"k\",capsize=3, label = \"Naměřená intenzita s modrým filtrem\")\n",
    "#plt.scatter(phi4b,U4b,color = 'k',marker = 'x', label = \"Namerena intenzita s modrým filtrem\")\n",
    "plt.plot(x_range,func(x_range,I0,shift,K), color = 'k', linestyle = 'dashed', label = r\"Proložení křivkou: $I = I_0 \\cdot (\\cos(\\varphi + \\Theta))^2 + K$\")\n",
    "\n",
    "plt.legend(loc='upper left', fontsize=10)\n",
    "\n",
    "#handles, labels = plt.gca().get_legend_handles_labels()\n",
    "#order = [1,0]\n",
    "#plt.legend([handles[idx] for idx in order],[labels[idx] for idx in order], loc='upper left', fontsize=11)\n",
    "\n",
    "plt.xticks(np.arange(30,83,1), minor = True)\n",
    "#plt.xticks(np.arange(0,46,5))\n",
    "plt.yticks(np.arange(185.5,190.5,.1), minor = True)\n",
    "#plt.yticks(np.arange(460,481,5))\n",
    "plt.ylim(185.5,190.5)\n",
    "\n",
    "plt.ylabel(\"$I$ \" + \"[V]\", fontsize=12)\n",
    "plt.xlabel(r\"$ \\varphi $ \" + \"[$^\\circ$]\", fontsize=12)\n",
    "\n",
    "#plt.savefig('modra.pdf', bbox_inches = 'tight')\n",
    "plt.show()"
   ]
  },
  {
   "cell_type": "code",
   "execution_count": null,
   "id": "bab28938-aa9b-491b-a68d-bdbe59b6dca9",
   "metadata": {},
   "outputs": [],
   "source": []
  },
  {
   "cell_type": "markdown",
   "id": "02287ad6-6a22-401f-9eec-1e7ab7a40c9c",
   "metadata": {
    "jp-MarkdownHeadingCollapsed": true,
    "tags": []
   },
   "source": [
    "## Zluta"
   ]
  },
  {
   "cell_type": "code",
   "execution_count": 431,
   "id": "f0b4814a-7669-4037-93ab-89a70ad35b53",
   "metadata": {},
   "outputs": [],
   "source": [
    "phi4z = np.array([20,25,30,35,40,45,50,55,60])\n",
    "U4z = np.array([202.4,203.4,204.1,204.7,204.6,204.4,203.8,202.9,202]) #### merici na 60\n"
   ]
  },
  {
   "cell_type": "code",
   "execution_count": 432,
   "id": "1c1c1238-1d73-4530-9beb-e65359bb6ea0",
   "metadata": {},
   "outputs": [
    {
     "name": "stdout",
     "output_type": "stream",
     "text": [
      "21.15969774398048 -38.89394112463478 183.47883635904228\n",
      "1.5592749016263532 0.4328393108119109 1.4844389203599395\n"
     ]
    }
   ],
   "source": [
    "params,err = curve_fit(func, phi4z, U4z, p0 = [20,0,150], sigma=np.full(len(phi4z),0.2), absolute_sigma=True)\n",
    "\n",
    "I0,shift,K = params\n",
    "sI0,sshift,sK = np.sqrt(np.diag(err))\n",
    "print(I0,shift,K)\n",
    "print(sI0,sshift,sK)\n",
    "\n",
    "p3 = I0,shift,K\n",
    "sp3 = sI0,sshift,sK"
   ]
  },
  {
   "cell_type": "code",
   "execution_count": 433,
   "id": "cb45db09-654a-4171-8be7-6a4fe2d04b9e",
   "metadata": {},
   "outputs": [
    {
     "name": "stderr",
     "output_type": "stream",
     "text": [
      "C:\\Users\\stepa\\AppData\\Local\\Temp/ipykernel_15788/3170395094.py:24: UserWarning: Matplotlib is currently using pgf, which is a non-GUI backend, so cannot show the figure.\n",
      "  plt.show()\n"
     ]
    }
   ],
   "source": [
    "x_range = np.linspace(18,60,1000)\n",
    "plt.figure(figsize = (8,5))\n",
    "\n",
    "plt.errorbar(phi4z,U4z, yerr=np.full(len(phi4r),.2),elinewidth=.4, fmt = 'kx', linestyle = None, ecolor = \"k\",capsize=3, label = \"Naměřena intenzita s žlutým  filtrem\")\n",
    "#plt.scatter(phi4z,U4z,color = 'k',marker = 'x', label = \"Namerena intenzita s žlutým filtrem\")\n",
    "plt.plot(x_range,func(x_range,I0,shift,K), color = 'k', linestyle = 'dashed', label = r\"Proložení křivkou: $I = I_0 \\cdot (\\cos(\\varphi + \\Theta))^2 + K$\")\n",
    "\n",
    "plt.legend(loc='upper left', fontsize=10)\n",
    "\n",
    "#handles, labels = plt.gca().get_legend_handles_labels()\n",
    "#order = [1,0]\n",
    "#plt.legend([handles[idx] for idx in order],[labels[idx] for idx in order], loc='upper left', fontsize=11)\n",
    "\n",
    "plt.xticks(np.arange(18,60,1), minor = True)\n",
    "#plt.xticks(np.arange(0,46,5))\n",
    "plt.yticks(np.arange(202,205,.1), minor = True)\n",
    "#plt.yticks(np.arange(460,481,5))\n",
    "plt.ylim(201.8,205.4)\n",
    "\n",
    "plt.ylabel(\"$I$ \" + \"[V]\", fontsize=12)\n",
    "plt.xlabel(r\"$ \\varphi $ \" + \"[$^\\circ$]\", fontsize=12)\n",
    "\n",
    "plt.savefig('zluta.pdf', bbox_inches = 'tight')\n",
    "plt.show()"
   ]
  },
  {
   "cell_type": "markdown",
   "id": "3a919e5a-2374-4c67-9ead-cf08d7508931",
   "metadata": {
    "jp-MarkdownHeadingCollapsed": true,
    "tags": []
   },
   "source": [
    "## Zelena"
   ]
  },
  {
   "cell_type": "code",
   "execution_count": 428,
   "id": "70054c77-a2fa-40cb-b937-7cccf2356b1d",
   "metadata": {},
   "outputs": [],
   "source": [
    "phi4g = np.array([40,45,50,55,60,65,70])\n",
    "U4g = np.array([169.3,170.2,171.7,170.8,170.7,169.9,169.4]) #### merici na 90"
   ]
  },
  {
   "cell_type": "code",
   "execution_count": 429,
   "id": "6b312b4e-5805-40e3-bbde-312459b74ed8",
   "metadata": {},
   "outputs": [
    {
     "name": "stdout",
     "output_type": "stream",
     "text": [
      "27.09377039358792 -54.39755481211303 144.00553801244547\n",
      "2.9354685182135536 0.47893565768305746 2.848922369167572\n"
     ]
    }
   ],
   "source": [
    "params,err = curve_fit(func, phi4g, U4g, p0 = [20,0,150], sigma=np.full(len(phi4g),0.2), absolute_sigma=True)\n",
    "\n",
    "I0,shift,K = params\n",
    "sI0,sshift,sK = np.sqrt(np.diag(err))\n",
    "print(I0,shift,K)\n",
    "print(sI0,sshift,sK)\n",
    "\n",
    "p4 = I0,shift,K\n",
    "sp4 = sI0,sshift,sK"
   ]
  },
  {
   "cell_type": "code",
   "execution_count": 430,
   "id": "a830cc8c-3b98-48db-b8eb-c906c42115f2",
   "metadata": {},
   "outputs": [
    {
     "name": "stderr",
     "output_type": "stream",
     "text": [
      "C:\\Users\\stepa\\AppData\\Local\\Temp/ipykernel_15788/2501029284.py:24: UserWarning: Matplotlib is currently using pgf, which is a non-GUI backend, so cannot show the figure.\n",
      "  plt.show()\n"
     ]
    }
   ],
   "source": [
    "x_range = np.linspace(37,72,1000)\n",
    "plt.figure(figsize = (8,5))\n",
    "\n",
    "plt.errorbar(phi4g,U4g, yerr=np.full(len(phi4g),.5),elinewidth=.4, fmt = 'kx', linestyle = None, ecolor = \"k\",capsize=3, label = \"Naměřena intenzita s zeleným  filtrem\")\n",
    "#plt.scatter(phi4g,U4g,color = 'k',marker = 'x', label = \"Namerena intenzita se zeleným filtrem\")\n",
    "plt.plot(x_range,func(x_range,I0,shift,K), color = 'k', linestyle = 'dashed', label = r\"Proložení křivkou: $I = I_0 \\cdot (\\cos(\\varphi + \\Theta))^2 + K$\")\n",
    "\n",
    "plt.legend(loc='upper right', fontsize=10)\n",
    "\n",
    "#handles, labels = plt.gca().get_legend_handles_labels()\n",
    "#order = [1,0]\n",
    "#plt.legend([handles[idx] for idx in order],[labels[idx] for idx in order], loc='upper left', fontsize=11)\n",
    "\n",
    "plt.xticks(np.arange(37,70,1), minor = True)\n",
    "#plt.xticks(np.arange(0,46,5))\n",
    "plt.yticks(np.arange(168.5,172,.1), minor = True)\n",
    "#plt.yticks(np.arange(460,481,5))\n",
    "#plt.ylim(196,199.2)\n",
    "\n",
    "plt.ylabel(\"$I$ \" + \"[V]\", fontsize=12)\n",
    "plt.xlabel(r\"$ \\varphi $ \" + \"[$^\\circ$]\", fontsize=12)\n",
    "\n",
    "plt.savefig('zelena.pdf', bbox_inches = 'tight')\n",
    "plt.show()"
   ]
  },
  {
   "cell_type": "code",
   "execution_count": null,
   "id": "aae715eb-5a63-4885-97db-fe3ad88bd493",
   "metadata": {},
   "outputs": [],
   "source": []
  },
  {
   "cell_type": "markdown",
   "id": "60d0f96a-4881-4189-a042-bd3ce8e748a3",
   "metadata": {
    "jp-MarkdownHeadingCollapsed": true,
    "tags": []
   },
   "source": [
    "## Cervena + 3.8mm"
   ]
  },
  {
   "cell_type": "code",
   "execution_count": 425,
   "id": "6b64d1af-1b1d-43ba-a4b0-974e40bd17b7",
   "metadata": {},
   "outputs": [],
   "source": [
    "phi5 = np.array([50,55,60,65,70,75,80,85,90])\n",
    "U5 = np.array([183.5,184.2,184.7,185.2,185.4,185.3,185,184.4,183.8]) #### merici na 90"
   ]
  },
  {
   "cell_type": "code",
   "execution_count": 426,
   "id": "a72369b8-cb7c-4f78-8382-8ffe94dc1084",
   "metadata": {},
   "outputs": [
    {
     "name": "stdout",
     "output_type": "stream",
     "text": [
      "14.765346150206286 -70.98862737224347 170.5772156828909\n",
      "1.5595002195602725 0.6181603660896955 1.484554219730634\n"
     ]
    }
   ],
   "source": [
    "params,err = curve_fit(func, phi5, U5, p0 = [14,-30,250], sigma=np.full(len(phi5),0.2), absolute_sigma=True)\n",
    "\n",
    "I0,shift,K = params\n",
    "sI0,sshift,sK = np.sqrt(np.diag(err))\n",
    "print(I0,shift,K)\n",
    "print(sI0,sshift,sK)\n",
    "\n",
    "p5 = I0,shift,K\n",
    "sp5 = sI0,sshift,sK"
   ]
  },
  {
   "cell_type": "code",
   "execution_count": 427,
   "id": "f8484182-ee76-43b4-8079-c0fcc74f9c28",
   "metadata": {},
   "outputs": [
    {
     "name": "stderr",
     "output_type": "stream",
     "text": [
      "C:\\Users\\stepa\\AppData\\Local\\Temp/ipykernel_15788/1485708114.py:25: UserWarning: Matplotlib is currently using pgf, which is a non-GUI backend, so cannot show the figure.\n",
      "  plt.show()\n"
     ]
    }
   ],
   "source": [
    "x_range = np.linspace(50,92,1000)\n",
    "plt.figure(figsize = (8,5))\n",
    "\n",
    "plt.errorbar(phi5,U5, yerr=np.full(len(phi5),.2),elinewidth=.4, fmt = 'kx', linestyle = None, ecolor = \"k\",capsize=3, label = \"Naměřena intenzita červeným filtrem a \\n $3.8$ mm křemennou destičkou\")\n",
    "\n",
    "#plt.scatter(phi5,U5,color = 'k',marker = 'x', label = \"Namerena intenzita červeným filtrem a \\n $3.8$ mm křemennou destičkou\")\n",
    "plt.plot(x_range,func(x_range,I0,shift,K), color = 'k', linestyle = 'dashed', label = r\"Proložení křivkou: $I = I_0 \\cdot (\\cos(\\varphi + \\Theta))^2 + K$\")\n",
    "\n",
    "plt.legend(loc='upper left', fontsize=10)\n",
    "\n",
    "#handles, labels = plt.gca().get_legend_handles_labels()\n",
    "#order = [1,0]\n",
    "#plt.legend([handles[idx] for idx in order],[labels[idx] for idx in order], loc='upper left', fontsize=11)\n",
    "\n",
    "plt.xticks(np.arange(50,92,1), minor = True)\n",
    "#plt.xticks(np.arange(0,46,5))\n",
    "plt.yticks(np.arange(183.5,186,.1), minor = True)\n",
    "plt.yticks(np.arange(183.5,186.1,.5))\n",
    "#plt.ylim(196,199.2)\n",
    "\n",
    "plt.ylabel(\"$I$ \" + \"[V]\", fontsize=12)\n",
    "plt.xlabel(r\"$ \\varphi $ \" + \"[$^\\circ$]\", fontsize=12)\n",
    "\n",
    "plt.savefig('cervena35.pdf', bbox_inches = 'tight')\n",
    "plt.show()"
   ]
  },
  {
   "cell_type": "markdown",
   "id": "b005d1f9-ef3a-4a4b-9369-b03b633d367a",
   "metadata": {
    "tags": []
   },
   "source": [
    "## Tab"
   ]
  },
  {
   "cell_type": "code",
   "execution_count": 261,
   "id": "f47525ed-ac6e-4a7f-b685-8aa76bdcd732",
   "metadata": {},
   "outputs": [
    {
     "name": "stdout",
     "output_type": "stream",
     "text": [
      "\\begin{tabular}{rrrrrrr}\n",
      "\\toprule\n",
      " 630 & 15 & -23.1 & 184 & 1.6 & 1 & 1.5 \\\\\n",
      " 491 & 19 & -57.7 & 170 & 1.6 & 0 & 1.5 \\\\\n",
      " 590 & 21 & -38.9 & 184 & 1.6 & 0 & 1.5 \\\\\n",
      " 510 & 27 & -54.4 & 144 & 2.9 & 0 & 2.8 \\\\\n",
      " 630 & 15 & -71   & 171 & 1.6 & 1 & 1.5 \\\\\n",
      "\\bottomrule\n",
      "\\end{tabular}\n"
     ]
    }
   ],
   "source": [
    "lamb = np.array([[630,491,590,510,630],]).T\n",
    "tab = np.array([p1,p2,p3,p4,p5])\n",
    "stab = np.array([sp1,sp2,sp3,sp4,sp5])\n",
    "table = np.concatenate((lamb,tab,stab), axis = 1).round(1)\n",
    "table[:,(0,1,3,5)] = table[:,(0,1,3,5)].round(0)\n",
    "print(tabulate(table, tablefmt=\"latex_booktabs\"))"
   ]
  },
  {
   "cell_type": "markdown",
   "id": "da53a8b0-5017-44a4-b203-bba6c7dccaba",
   "metadata": {
    "jp-MarkdownHeadingCollapsed": true,
    "tags": []
   },
   "source": [
    "## Otacivost"
   ]
  },
  {
   "cell_type": "code",
   "execution_count": 394,
   "id": "9d209213-5238-4244-8b16-4d65a7057a8c",
   "metadata": {},
   "outputs": [
    {
     "data": {
      "text/plain": [
       "(array([-23.10663998, -57.70577257, -38.89394112, -54.39755481]),\n",
       " array([3.06844498, 5.73079339, 1.9477769 , 2.15521046]),\n",
       " array([[630],\n",
       "        [491],\n",
       "        [590],\n",
       "        [510],\n",
       "        [630]]))"
      ]
     },
     "execution_count": 394,
     "metadata": {},
     "output_type": "execute_result"
    }
   ],
   "source": [
    "rot = np.array([p1,p2,p3,p4,p5])[:-1,1]\n",
    "srot = np.array([sp1,sp2,sp3,sp4,sp5])[:-1,1]*4.5\n",
    "rot, srot, lamb"
   ]
  },
  {
   "cell_type": "code",
   "execution_count": 395,
   "id": "d780b319-571a-4feb-95d3-5a24e7911f83",
   "metadata": {},
   "outputs": [
    {
     "data": {
      "text/plain": [
       "(array([630, 491, 590, 510]),\n",
       " array([-23.10663998, -57.70577257, -38.89394112, -54.39755481]))"
      ]
     },
     "execution_count": 395,
     "metadata": {},
     "output_type": "execute_result"
    }
   ],
   "source": [
    "lamb[:-1,0],rot"
   ]
  },
  {
   "cell_type": "code",
   "execution_count": 400,
   "id": "217124e9-52b9-4977-936b-412bc49d75bc",
   "metadata": {},
   "outputs": [
    {
     "name": "stdout",
     "output_type": "stream",
     "text": [
      "0.2325656357187718 -173.69554870896786\n",
      "0.03495282899395377 19.786128600153944\n"
     ]
    }
   ],
   "source": [
    "params,err = curve_fit(linear,lamb[:-1,0],rot,sigma=srot, absolute_sigma=False)\n",
    "\n",
    "a,b = params\n",
    "sa,sb = np.sqrt(np.diag(err))\n",
    "print(a,b)\n",
    "print(sa,sb)\n"
   ]
  },
  {
   "cell_type": "code",
   "execution_count": 411,
   "id": "12775807-ed7f-4fd2-a4b9-82204359aa4e",
   "metadata": {},
   "outputs": [
    {
     "name": "stderr",
     "output_type": "stream",
     "text": [
      "C:\\Users\\stepa\\AppData\\Local\\Temp/ipykernel_15788/1505753153.py:26: UserWarning: Matplotlib is currently using pgf, which is a non-GUI backend, so cannot show the figure.\n",
      "  plt.show()\n"
     ]
    }
   ],
   "source": [
    "x_range = np.linspace(480,640,100)\n",
    "plt.figure(figsize = (8,5))\n",
    "\n",
    "\n",
    "plt.errorbar(lamb[:-1,0],rot, yerr=srot,elinewidth=.4, fmt = 'kx', linestyle = None, ecolor = \"k\",capsize=3, label = \"Namerena závislost měrné aktivity na vlnové délce\" )\n",
    "\n",
    "#plt.scatter(lamb[:-1,0],rot,color = 'k',marker = 'x', label = \"Namerena intenzita červeným filtrem a \\n $3.8$ mm křemennou destičkou\")\n",
    "plt.plot(x_range, linear(x_range, a,b), linestyle = 'dashed', color = 'k', label = r\"Proložení lineární funkcí $\\alpha = A \\lambda + B$\")\n",
    "\n",
    "plt.legend(loc='upper left', fontsize=10)\n",
    "\n",
    "#handles, labels = plt.gca().get_legend_handles_labels()\n",
    "#order = [1,0]\n",
    "#plt.legend([handles[idx] for idx in order],[labels[idx] for idx in order], loc='upper left', fontsize=11)\n",
    "\n",
    "plt.xticks(np.arange(480,640,10), minor = True)\n",
    "#plt.xticks(np.arange(0,46,5))\n",
    "plt.yticks(np.arange(-70,-20,5), minor = True)\n",
    "#plt.yticks(np.arange(183.5,186.1,.5))\n",
    "#plt.ylim(196,199.2)\n",
    "\n",
    "plt.ylabel(r\"$ \\alpha$ \" + \"[$^\\circ$ $\\cdot$ mm$^{-1}$]\", fontsize=12)\n",
    "plt.xlabel(r\"$ \\lambda $ \" + \"[nm]\", fontsize=12)\n",
    "\n",
    "plt.savefig('otacivost.pdf', bbox_inches = 'tight')\n",
    "plt.show()"
   ]
  },
  {
   "cell_type": "code",
   "execution_count": null,
   "id": "33162d50-94c6-4a4e-b3ec-467f8633c5a7",
   "metadata": {},
   "outputs": [],
   "source": []
  }
 ],
 "metadata": {
  "kernelspec": {
   "display_name": "Python 3 (ipykernel)",
   "language": "python",
   "name": "python3"
  },
  "language_info": {
   "codemirror_mode": {
    "name": "ipython",
    "version": 3
   },
   "file_extension": ".py",
   "mimetype": "text/x-python",
   "name": "python",
   "nbconvert_exporter": "python",
   "pygments_lexer": "ipython3",
   "version": "3.8.7"
  }
 },
 "nbformat": 4,
 "nbformat_minor": 5
}
