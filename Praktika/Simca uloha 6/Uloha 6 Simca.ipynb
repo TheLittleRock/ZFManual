{
 "cells": [
  {
   "cell_type": "code",
   "execution_count": 1,
   "id": "02db5e92-7008-424f-8d8c-a74747fa34c3",
   "metadata": {},
   "outputs": [],
   "source": [
    "import numpy as np\n",
    "import sympy as smp\n",
    "import matplotlib.pyplot as plt\n",
    "from scipy.optimize import curve_fit\n",
    "from scipy.integrate import cumulative_trapezoid\n",
    "from tabulate import tabulate\n",
    "import matplotlib\n",
    "import piecewise_regression\n",
    "import json"
   ]
  },
  {
   "cell_type": "code",
   "execution_count": 2,
   "id": "9ed93182-4d15-43c0-b861-7f61d5402f94",
   "metadata": {},
   "outputs": [],
   "source": [
    "def mean(arr):\n",
    "    return np.mean(arr)\n",
    "\n",
    "def error(x):\n",
    "    return x.std() / np.sqrt(x.size)\n",
    "\n",
    "def weighted_error(x, err):\n",
    "    \n",
    "    x = np.asarray(x)\n",
    "    err = np.asarray(err)\n",
    "    \n",
    "    average = np.sum(x/(err**2))/np.sum(1/err**2)\n",
    "    \n",
    "    average_error = 1/np.sqrt(np.sum(1/err**2))\n",
    "    \n",
    "    return average, average_error\n",
    "\n",
    "def decimal(x):\n",
    "    return x.replace(',', '.').encode()\n",
    "\n",
    "def sum_err(x,sx):\n",
    "    return np.sum(x),np.sqrt(np.sum([np.sum(i**2) for i in sx])) \n",
    "\n",
    "def diff_err(x,sx):\n",
    "    return x[0]-x[1],np.sqrt(np.sum([np.sum(i**2) for i in sx])) \n",
    "\n",
    "def times_err(x,sx):\n",
    "    return np.prod(x), np.prod(x)*np.sqrt(np.sum([np.sum((i/j)**2) for i,j in zip(sx,x)]))\n",
    "\n",
    "#def frac_err(x,sx):\n",
    "#    return x[0]/x[1], x[0]/x[1]*np.sqrt(np.sum((sx/x)**2))\n",
    "\n",
    "def frac_err(x,sx):\n",
    "    return x[0]/x[1], x[0]/x[1]*np.sqrt(np.sum([np.sum((i/j)**2) for i,j in zip(sx,x)]))\n",
    "    #return [np.sum((i/j)**2) for i,j in zip(sx,x)]"
   ]
  },
  {
   "cell_type": "code",
   "execution_count": 3,
   "id": "a8bb0fe4-ff0f-4496-adc0-07398ea404e1",
   "metadata": {},
   "outputs": [],
   "source": [
    "def load_txt(name):\n",
    "    t,pos = np.genfromtxt((decimal(x) for x in open(name)),unpack = True, skip_header=4)\n",
    "    return t, pos"
   ]
  },
  {
   "cell_type": "code",
   "execution_count": null,
   "id": "97eff1d6-9a88-4231-87fd-b6df5d1539f1",
   "metadata": {},
   "outputs": [],
   "source": []
  },
  {
   "cell_type": "code",
   "execution_count": null,
   "id": "4fd8f811-9bf8-4126-943f-654d83bfa768",
   "metadata": {},
   "outputs": [],
   "source": []
  },
  {
   "cell_type": "markdown",
   "id": "a5c873a5-6d2e-4b3d-af98-aba8b22b8260",
   "metadata": {
    "jp-MarkdownHeadingCollapsed": true,
    "tags": []
   },
   "source": [
    "# ULOHA 1 - kalibracni blbost"
   ]
  },
  {
   "cell_type": "code",
   "execution_count": 22,
   "id": "dbd94c8a-3310-4bd0-b4b9-3670591b2153",
   "metadata": {},
   "outputs": [],
   "source": [
    "t100 = 99.8\n",
    "t0 = 0.6"
   ]
  },
  {
   "cell_type": "code",
   "execution_count": 25,
   "id": "123f4e5f-906f-4b5e-b352-d26cc03937c4",
   "metadata": {},
   "outputs": [
    {
     "name": "stdout",
     "output_type": "stream",
     "text": [
      "T = 1.0162601626016259t + -0.6097560975609755\n"
     ]
    }
   ],
   "source": [
    "a = 100/(t100 - t0)\n",
    "b = -0.6*a\n",
    "print(\"T = {}t + {}\".format(a,b))"
   ]
  },
  {
   "cell_type": "code",
   "execution_count": 35,
   "id": "9b4335d3-90c0-4166-9ea6-c2033d27d239",
   "metadata": {},
   "outputs": [],
   "source": [
    "def temp(t):\n",
    "    return 100/99.2*t - 0.6*100/99.2"
   ]
  },
  {
   "cell_type": "code",
   "execution_count": 151,
   "id": "269e57a1-9c4a-4772-b9a5-3e4655b8af09",
   "metadata": {},
   "outputs": [
    {
     "data": {
      "text/plain": [
       "[<matplotlib.lines.Line2D at 0x21be433fa30>]"
      ]
     },
     "execution_count": 151,
     "metadata": {},
     "output_type": "execute_result"
    },
    {
     "data": {
      "image/png": "[encoded data removed]",
      "text/plain": [
       "<Figure size 432x288 with 1 Axes>"
      ]
     },
     "metadata": {
      "needs_background": "light"
     },
     "output_type": "display_data"
    }
   ],
   "source": [
    "x_range = np.linspace(0,100,200)\n",
    "\n",
    "plt.plot(x_range, temp(x_range), linestyle = 'dashed', color = 'k')\n",
    "plt.plot(x_range, x_range, linestyle = 'dotted', color = 'k')"
   ]
  },
  {
   "cell_type": "code",
   "execution_count": 38,
   "id": "f47a8cde-53db-41db-9059-740aa3a7b49f",
   "metadata": {},
   "outputs": [
    {
     "data": {
      "text/plain": [
       "99.99999999999999"
      ]
     },
     "execution_count": 38,
     "metadata": {},
     "output_type": "execute_result"
    }
   ],
   "source": [
    "temp(99.8)"
   ]
  },
  {
   "cell_type": "markdown",
   "id": "12d6601c-967c-45ee-af5a-9d9fcb8466b4",
   "metadata": {
    "jp-MarkdownHeadingCollapsed": true,
    "tags": []
   },
   "source": [
    "# ULOHA 3"
   ]
  },
  {
   "cell_type": "code",
   "execution_count": 9,
   "id": "fc72a111-c19b-4d36-bfad-5d2c892e7356",
   "metadata": {},
   "outputs": [
    {
     "data": {
      "image/png": "[encoded data removed]",
      "text/plain": [
       "<Figure size 576x360 with 1 Axes>"
      ]
     },
     "metadata": {
      "needs_background": "light"
     },
     "output_type": "display_data"
    }
   ],
   "source": [
    "###### GRAF PRO STRIBRNEJ VALECEK #########\n",
    "\n",
    "t1, T1 = load_txt('data/stribrny.txt')\n",
    "\n",
    "x_range = np.linspace(0,100,200)\n",
    "\n",
    "plt.figure(figsize = (8,5))\n",
    "\n",
    "plt.scatter(t1, T1, color = 'k', marker = 'x', label = 'Naměřený časový průběh teploty')\n",
    "#plt.plot(t1, T1, color = 'k', linestyle = 'dotted')\n",
    "\n",
    "plt.legend(loc='upper right', fontsize=11)\n",
    "\n",
    "#popisky os\n",
    "plt.ylabel(\"$T$ [°C]\", fontsize=12)\n",
    "plt.xlabel(\"$t$ [s]\", fontsize=12)\n",
    "\n",
    "plt.savefig('ukazka_valecek.pdf', bbox_inches = 'tight')\n",
    "plt.show()"
   ]
  },
  {
   "cell_type": "markdown",
   "id": "5719d0f8-8f63-43c3-b052-0ceefb34e7b5",
   "metadata": {
    "jp-MarkdownHeadingCollapsed": true,
    "tags": []
   },
   "source": [
    "# ULOHA 4 - VYPAROVANI"
   ]
  },
  {
   "cell_type": "code",
   "execution_count": 150,
   "id": "9d304dbc-a1ca-450b-823a-fb0a10432086",
   "metadata": {},
   "outputs": [
    {
     "data": {
      "text/plain": [
       "array([14.9, 14.9, 14.9, 14.9, 14.9, 14.9, 14.9, 14.9, 14.9, 14.9, 14.9,\n",
       "       14.9, 14.9, 14.9, 14.9, 14.9, 14.9, 14.9, 14.9, 14.9, 14.9, 14.9,\n",
       "       14.9, 14.9, 14.9, 14.9, 14.9, 14.9, 14.9, 14.9, 14.9, 14.9, 14.9,\n",
       "       14.9, 14.9, 14.9, 14.9, 14.9, 14.9, 14.9, 14.9, 14.9, 14.9, 14.9,\n",
       "       14.9, 14.9, 14.9, 14.9, 14.9, 14.9, 14.9, 14.9, 14.9, 14.9, 14.9,\n",
       "       15. , 14.9, 14.9, 14.9, 15. , 15. , 15. , 15. , 15. , 15. , 15. ,\n",
       "       15. , 15. , 15. , 15. , 15. , 15. , 15. , 15. , 15. , 15. , 15. ,\n",
       "       15. , 15. , 15. , 15. , 15. , 15.1, 15. , 15. , 15.1, 15.1, 15.1,\n",
       "       15.1, 15.1, 15.1, 15.1, 15.1, 15.1, 15.1, 15.1, 15.1, 15.1, 15.1,\n",
       "       15.1, 15.1, 15.1, 15.1, 15.1, 15.1, 15.1, 15.1, 15.1, 15.1, 15.1,\n",
       "       15.1, 15.1, 15.1, 15.1, 15.2, 15.2, 15.2, 15.2, 15.2, 15.2, 15.2,\n",
       "       15.2, 15.2, 15.2, 15.2, 15.2, 15.2, 15.2, 15.2, 15.6, 16.4, 17. ,\n",
       "       17.6, 18.3, 18.9, 19.7, 20.1, 20.4, 20.6, 20.7, 20.9, 23. , 24.3,\n",
       "       25.7, 27.2, 28.2, 28.7, 28.9, 29.3, 29.7, 30. , 30.2, 30.4, 30.6,\n",
       "       30.7, 30.9, 31.1, 31.2, 31.2, 31.3, 31.4, 31.3, 31.4, 31.4, 31.4,\n",
       "       31.4, 31.6, 31.7, 32.1, 32.4, 32.7, 33.2, 33.4, 34. , 34.6, 35.2,\n",
       "       36. , 36.4, 37.2, 37.9, 38.5, 39.3, 40.1, 40.7, 41.2, 42.1, 42.7,\n",
       "       43.6, 44. , 44.7, 45.5, 46.4, 46.9, 48.1, 49.1, 50.4, 51.6, 52.7,\n",
       "       53.3, 53.8, 54.2, 54.6, 54.9, 55.3, 55.4, 55.8, 56.1, 56.3, 56.5,\n",
       "       56.7, 56.9, 57. , 57.1, 57.3, 57.3, 57.3, 57.4, 57.4, 57.4, 57.4,\n",
       "       57.4, 57.4, 57.4, 57.6, 57.8, 58.1, 58.2, 58.5, 59. , 59.3, 59.9,\n",
       "       60.4, 60.7, 61.3, 61.7, 62.2, 62.6, 74.8, 74.9, 75.1, 75.3, 75.3,\n",
       "       75.4, 75.4, 75.4, 75.5, 75.5, 75.5, 75.4])"
      ]
     },
     "execution_count": 150,
     "metadata": {},
     "output_type": "execute_result"
    }
   ],
   "source": [
    "ta, Ta = load_txt('data/var.txt')\n",
    "tb, Tb = load_txt('data/varkonst.txt')\n",
    "\n",
    "T1 = np.concatenate((Ta,Tb))\n",
    "\n",
    "t1 = np.arange(0,1245,5)\n",
    "T1"
   ]
  },
  {
   "cell_type": "code",
   "execution_count": 149,
   "id": "58eb8731-6afd-485f-b2e7-18185b402f38",
   "metadata": {},
   "outputs": [
    {
     "data": {
      "text/plain": [
       "[<matplotlib.lines.Line2D at 0x21be448c700>]"
      ]
     },
     "execution_count": 149,
     "metadata": {},
     "output_type": "execute_result"
    },
    {
     "data": {
      "image/png": "[encoded data removed]",
      "text/plain": [
       "<Figure size 576x360 with 1 Axes>"
      ]
     },
     "metadata": {
      "needs_background": "light"
     },
     "output_type": "display_data"
    }
   ],
   "source": [
    "\n",
    "x_range = np.linspace(0,100,200)\n",
    "\n",
    "plt.figure(figsize = (8,5))\n",
    "\n",
    "plt.scatter(t1, T1, color = 'k', marker = 'x')\n",
    "plt.plot(t1, T1, color = 'k', linestyle = 'dotted')"
   ]
  },
  {
   "cell_type": "code",
   "execution_count": null,
   "id": "4369504e-38cb-4fea-94c1-5b37de515891",
   "metadata": {},
   "outputs": [],
   "source": []
  },
  {
   "cell_type": "code",
   "execution_count": null,
   "id": "2be73bbd-958b-49b6-81a4-2407022e73aa",
   "metadata": {},
   "outputs": [],
   "source": []
  },
  {
   "cell_type": "code",
   "execution_count": null,
   "id": "7d5f57e5-503c-48a4-b7b1-b1e6511c27fe",
   "metadata": {},
   "outputs": [],
   "source": []
  },
  {
   "cell_type": "markdown",
   "id": "285923d0-48fb-4c0e-b01e-ffa1edd5fc11",
   "metadata": {
    "jp-MarkdownHeadingCollapsed": true,
    "tags": []
   },
   "source": [
    "# ULOHA 5 TANI"
   ]
  },
  {
   "cell_type": "markdown",
   "id": "0e297e7f-f172-46f0-ac67-c356a151bd06",
   "metadata": {
    "jp-MarkdownHeadingCollapsed": true,
    "tags": []
   },
   "source": [
    "## DATA"
   ]
  },
  {
   "cell_type": "code",
   "execution_count": 113,
   "id": "9f485c3e-9648-45e0-b6cf-3fb8a3285cbe",
   "metadata": {
    "tags": []
   },
   "outputs": [
    {
     "data": {
      "text/plain": [
       "[<matplotlib.lines.Line2D at 0x21be33f5100>]"
      ]
     },
     "execution_count": 113,
     "metadata": {},
     "output_type": "execute_result"
    },
    {
     "data": {
      "image/png": "[encoded data removed]",
      "text/plain": [
       "<Figure size 576x360 with 1 Axes>"
      ]
     },
     "metadata": {
      "needs_background": "light"
     },
     "output_type": "display_data"
    }
   ],
   "source": [
    "t1, T1 = load_txt('data/led.txt')\n",
    "\n",
    "x_range = np.linspace(0,100,200)\n",
    "\n",
    "plt.figure(figsize = (8,5))\n",
    "\n",
    "plt.scatter(t1, T1, color = 'k', marker = 'x')\n",
    "plt.plot(t1, T1, color = 'k', linestyle = 'dotted')"
   ]
  },
  {
   "cell_type": "code",
   "execution_count": 114,
   "id": "ecf58a34-5d85-44df-9563-ea2da3c389f3",
   "metadata": {},
   "outputs": [
    {
     "data": {
      "text/plain": [
       "array([18. , 18. , 18. , 18. , 18. , 17.3, 16.7, 16.2, 15.9, 15.4, 15.1,\n",
       "       14.9, 14.6, 14.7, 14.6, 14.5, 14.5, 14.4, 14.4, 14.4, 14.4, 14.4,\n",
       "       14.4, 14.4, 14.4, 14.4, 14.4, 14.4, 14.4, 14.4, 14.4, 14.4])"
      ]
     },
     "execution_count": 114,
     "metadata": {},
     "output_type": "execute_result"
    }
   ],
   "source": [
    "T1"
   ]
  },
  {
   "cell_type": "code",
   "execution_count": 115,
   "id": "19a14767-e2ef-4875-8f1a-9c9132e672b4",
   "metadata": {},
   "outputs": [],
   "source": [
    "# ROZDELENI DAT NA PRED BEHEM A PO\n",
    "\n",
    "\n",
    "before = temp(np.array([18. , 18. , 18. , 18. , 18. ]))\n",
    "\n",
    "during = temp(np.array([17.3, 16.7, 16.2, 15.9, 15.4, 15.1,\n",
    "       14.9, 14.6, 14.7, 14.6, 14.5, 14.5]))\n",
    "\n",
    "after = temp(np.array([14.4, 14.4, 14.4, 14.4, 14.4,\n",
    "       14.4, 14.4, 14.4, 14.4, 14.4, 14.4, 14.4, 14.4, 14.4, 14.4]))\n",
    "\n",
    "t_after = t1[17:]\n",
    "t_before = t1[:5]\n",
    "t_during = t1[5:17]\n"
   ]
  },
  {
   "cell_type": "code",
   "execution_count": 116,
   "id": "65a09dec-7685-4a67-88ea-161cc4e9e5ae",
   "metadata": {},
   "outputs": [],
   "source": [
    "T1 = temp(T1) #### PREVOD KALIBRACNI KRIVKOU"
   ]
  },
  {
   "cell_type": "code",
   "execution_count": 117,
   "id": "2901f30b-47d5-4652-a3a6-309e3cd48431",
   "metadata": {},
   "outputs": [
    {
     "data": {
      "text/plain": [
       "(-2.180732708924817e-12, 13.911290322839319)"
      ]
     },
     "execution_count": 117,
     "metadata": {},
     "output_type": "execute_result"
    }
   ],
   "source": [
    "def linear_func(x,i,j):\n",
    "    return i*x + j\n",
    "\n",
    "params, err = curve_fit(linear_func, t_after, after)\n",
    "\n",
    "a1,b1 = params\n",
    "a1,b1"
   ]
  },
  {
   "cell_type": "code",
   "execution_count": 118,
   "id": "894b90b2-8778-4132-8614-c52a499aabe8",
   "metadata": {},
   "outputs": [
    {
     "name": "stderr",
     "output_type": "stream",
     "text": [
      "c:\\users\\stepa\\appdata\\local\\programs\\python\\python38\\lib\\site-packages\\scipy\\optimize\\minpack.py:833: OptimizeWarning: Covariance of the parameters could not be estimated\n",
      "  warnings.warn('Covariance of the parameters could not be estimated',\n"
     ]
    },
    {
     "data": {
      "text/plain": [
       "(-2.1811441541785825e-12, 17.54032258066697)"
      ]
     },
     "execution_count": 118,
     "metadata": {},
     "output_type": "execute_result"
    }
   ],
   "source": [
    "params, err = curve_fit(linear_func, t_before, before)\n",
    "\n",
    "a2,b2 = params\n",
    "a2,b2"
   ]
  },
  {
   "cell_type": "markdown",
   "id": "483788a8-3d52-4e69-9922-fd677fb0add8",
   "metadata": {
    "jp-MarkdownHeadingCollapsed": true,
    "tags": []
   },
   "source": [
    "## GRAF"
   ]
  },
  {
   "cell_type": "code",
   "execution_count": 119,
   "id": "0afd35df-1e8e-4889-89b9-7649196db154",
   "metadata": {},
   "outputs": [
    {
     "data": {
      "text/plain": [
       "(-2.180732708924817e-12, 13.911290322839319)"
      ]
     },
     "execution_count": 119,
     "metadata": {},
     "output_type": "execute_result"
    }
   ],
   "source": [
    "a1,b1"
   ]
  },
  {
   "cell_type": "code",
   "execution_count": 120,
   "id": "af1f2ed9-7585-45a3-ba3a-396310f38223",
   "metadata": {},
   "outputs": [
    {
     "data": {
      "text/plain": [
       "(-2.1811441541785825e-12, 17.54032258066697)"
      ]
     },
     "execution_count": 120,
     "metadata": {},
     "output_type": "execute_result"
    }
   ],
   "source": [
    "a2,b2"
   ]
  },
  {
   "cell_type": "code",
   "execution_count": 134,
   "id": "1c2aab1d-ddf7-4e93-adfd-692a86f99eb0",
   "metadata": {},
   "outputs": [
    {
     "data": {
      "image/png": "[encoded data removed]",
      "text/plain": [
       "<Figure size 576x360 with 1 Axes>"
      ]
     },
     "metadata": {
      "needs_background": "light"
     },
     "output_type": "display_data"
    }
   ],
   "source": [
    "x_range = np.linspace(0,155,200)\n",
    "\n",
    "plt.figure(figsize = (8,5))\n",
    "\n",
    "plt.scatter(t1, T1, color = 'k', marker = 'x', label = \"Naměřená závislost teploty na čase\")\n",
    "\n",
    "plt.plot(x_range, a1*x_range+b1, color = 'k', linestyle = 'dotted', label = \"Extrapolace teploty po látkové přeměně \\n \\qquad \\qquad  $T = 0.002t + 45.3$\")\n",
    "plt.plot(x_range, a2*x_range+b2, color = 'k', linestyle = 'dashdot',  label = \"Extrapolace teploty před látkovou přeměnou \\n \\qquad \\qquad $T = -0.008t + 75.1$\")\n",
    "\n",
    "\n",
    "t = 40 ### CAS ODHADNUTY PRO IDEALNI PRHUBEH\n",
    "\n",
    "plt.plot(np.full(100,t), np.linspace(a2*t + b2,a1*t + b1,100), color = 'k', linestyle = 'dashed', label = \"Ideální průběh látkové přeměny\")\n",
    "\n",
    "plt.fill_between(t1[5:9], T1[5:9], a2*t1[5:9]+b2, color='k', facecolor=\"none\", hatch = '////', linewidth=0.5, label = \"\\qquad \\qquad \\qquad Plocha $S_1$\")\n",
    "plt.fill_between(t1[8:18], a1*t1[8:18]+b1, T1[8:18], color='k', facecolor=\"none\", hatch = r\"\\\\\\\\\", linewidth=0.5, label = \"\\qquad \\qquad \\qquad Plocha $S_2$\")\n",
    "\n",
    "\n",
    "handles, labels = plt.gca().get_legend_handles_labels()\n",
    "order = [3,0,1,2,4,5]\n",
    "plt.legend([handles[idx] for idx in order],[labels[idx] for idx in order], loc='upper right', fontsize=9)\n",
    "\n",
    "#popisky os\n",
    "plt.ylabel(\"$T$ [°C]\", fontsize=12)\n",
    "plt.xlabel(\"$t$ [s]\", fontsize=12)\n",
    "\n",
    "plt.savefig('tani.pdf', bbox_inches = 'tight')\n",
    "plt.show()"
   ]
  },
  {
   "cell_type": "code",
   "execution_count": null,
   "id": "95acbe7c-e548-464d-974c-434c5daf6901",
   "metadata": {},
   "outputs": [],
   "source": []
  },
  {
   "cell_type": "code",
   "execution_count": null,
   "id": "9dd2305e-2b10-4a14-8f7a-6119e04633c3",
   "metadata": {},
   "outputs": [],
   "source": []
  },
  {
   "cell_type": "code",
   "execution_count": null,
   "id": "b10497fc-5873-41e2-a252-b6963243bef8",
   "metadata": {},
   "outputs": [],
   "source": []
  },
  {
   "cell_type": "code",
   "execution_count": null,
   "id": "3a6be606-0912-4d75-93aa-d838d8216d36",
   "metadata": {},
   "outputs": [],
   "source": []
  }
 ],
 "metadata": {
  "kernelspec": {
   "display_name": "Python 3 (ipykernel)",
   "language": "python",
   "name": "python3"
  },
  "language_info": {
   "codemirror_mode": {
    "name": "ipython",
    "version": 3
   },
   "file_extension": ".py",
   "mimetype": "text/x-python",
   "name": "python",
   "nbconvert_exporter": "python",
   "pygments_lexer": "ipython3",
   "version": "3.8.7"
  }
 },
 "nbformat": 4,
 "nbformat_minor": 5
}
