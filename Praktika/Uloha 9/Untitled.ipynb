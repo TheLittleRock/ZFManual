{
 "cells": [
  {
   "cell_type": "code",
   "execution_count": 1,
   "id": "81c1251d-d4c9-41b9-a1d7-95774089a2c4",
   "metadata": {},
   "outputs": [],
   "source": [
    "import numpy as np\n",
    "import sympy as smp\n",
    "import matplotlib.pyplot as plt\n",
    "from scipy.optimize import curve_fit\n",
    "from scipy.integrate import cumulative_trapezoid\n",
    "from tabulate import tabulate\n",
    "import matplotlib\n",
    "import piecewise_regression\n",
    "import json"
   ]
  },
  {
   "cell_type": "code",
   "execution_count": 2,
   "id": "b71e398f-5838-4835-9716-e22aca5fa3d2",
   "metadata": {},
   "outputs": [],
   "source": [
    "def mean(arr):\n",
    "    return np.mean(arr)\n",
    "\n",
    "def error(x):\n",
    "    return x.std() / np.sqrt(x.size)\n",
    "\n",
    "def weighted_error(x, err):\n",
    "    \n",
    "    x = np.asarray(x)\n",
    "    err = np.asarray(err)\n",
    "    \n",
    "    average = np.sum(x/(err**2))/np.sum(1/err**2)\n",
    "    \n",
    "    average_error = 1/np.sqrt(np.sum(1/err**2))\n",
    "    \n",
    "    return average, average_error\n",
    "\n",
    "def decimal(x):\n",
    "    return x.replace(',', '.').encode()\n",
    "\n",
    "def sum_err(x,sx):\n",
    "    return np.sum(x),np.sqrt(np.sum([np.sum(i**2) for i in sx])) \n",
    "\n",
    "def diff_err(x,sx):\n",
    "    return x[0]-x[1],np.sqrt(np.sum([np.sum(i**2) for i in sx])) \n",
    "\n",
    "def times_err(x,sx):\n",
    "    return np.prod(x), np.prod(x)*np.sqrt(np.sum([np.sum((i/j)**2) for i,j in zip(sx,x)]))\n",
    "\n",
    "#def frac_err(x,sx):\n",
    "#    return x[0]/x[1], x[0]/x[1]*np.sqrt(np.sum((sx/x)**2))\n",
    "\n",
    "def frac_err(x,sx):\n",
    "    return x[0]/x[1], x[0]/x[1]*np.sqrt(np.sum([np.sum((i/j)**2) for i,j in zip(sx,x)]))\n",
    "    #return [np.sum((i/j)**2) for i,j in zip(sx,x)]"
   ]
  },
  {
   "cell_type": "code",
   "execution_count": 3,
   "id": "c044b578-0103-48d8-8eff-fdfa881b94a1",
   "metadata": {},
   "outputs": [],
   "source": [
    "def linear(x,a,b):\n",
    "    return a*x + b"
   ]
  },
  {
   "cell_type": "code",
   "execution_count": 4,
   "id": "10be183b-386d-4a6f-ab65-249164d100d1",
   "metadata": {},
   "outputs": [],
   "source": [
    "matplotlib.use(\"pgf\")\n",
    "matplotlib.rcParams.update({\n",
    "    \"pgf.texsystem\": \"pdflatex\",\n",
    "    'font.family': 'serif',\n",
    "    'text.usetex': True,\n",
    "    'pgf.rcfonts': False,\n",
    "})"
   ]
  },
  {
   "cell_type": "markdown",
   "id": "769dc0db-4e5c-4c4d-97ce-b80bc71cc916",
   "metadata": {
    "tags": []
   },
   "source": [
    "# **ULOHA 1**"
   ]
  },
  {
   "cell_type": "code",
   "execution_count": 46,
   "id": "8184b265-4f50-4829-8da8-23976d7756a3",
   "metadata": {},
   "outputs": [],
   "source": [
    "V = np.array([1,2,3,4,5,6,7,8,9,10])\n",
    "V_real = np.array([0.9415,1.9355,2.9550,3.8875,4.9135,5.9040,6.8270,7.8135,8.7805,9.8230])\n",
    "V_err = np.full(10,0.001)"
   ]
  },
  {
   "cell_type": "markdown",
   "id": "d2436964-96ba-418c-b844-740e70758dba",
   "metadata": {},
   "source": [
    "## GRAF"
   ]
  },
  {
   "cell_type": "code",
   "execution_count": 47,
   "id": "b438b664-e168-44c3-a48d-0203297104d6",
   "metadata": {},
   "outputs": [
    {
     "name": "stdout",
     "output_type": "stream",
     "text": [
      "a: 0.9815151515151113 +- 0.003113274949725015\n",
      "b: -0.02023333333555888 +- 0.019317334898310473\n"
     ]
    }
   ],
   "source": [
    "params, err = curve_fit(linear, V, V_real, sigma=V_err)\n",
    "a1,b1 = params\n",
    "sa1,sb1 = np.sqrt(np.diag(err))\n",
    "\n",
    "print(\"a: {} +- {}\".format(a1,sa1))\n",
    "print(\"b: {} +- {}\".format(b1,sb1))"
   ]
  },
  {
   "cell_type": "code",
   "execution_count": 48,
   "id": "89555552-5158-41b3-a83e-c5792ad44c11",
   "metadata": {},
   "outputs": [
    {
     "name": "stderr",
     "output_type": "stream",
     "text": [
      "C:\\Users\\stepa\\AppData\\Local\\Temp/ipykernel_5760/2426513806.py:21: UserWarning: Matplotlib is currently using pgf, which is a non-GUI backend, so cannot show the figure.\n",
      "  plt.show()\n"
     ]
    }
   ],
   "source": [
    "x_range = np.linspace(0,10,50)\n",
    "\n",
    "plt.figure(figsize = (8,5))\n",
    "\n",
    "\n",
    "plt.scatter(V,V_real,color = 'k',marker='x',label = 'Naměřené hodnoty napětí')\n",
    "plt.plot(x_range,linear(x_range,a1,b1), color = 'k', linestyle = 'dashed', label = \"Kalibrační křivka: \" + r\"$U_{real} = (0.982 \\pm 0.003) U - (0.02 \\pm 0.02)$\")\n",
    "\n",
    "#plt.legend(loc='upper left', fontsize=11)\n",
    "\n",
    "handles, labels = plt.gca().get_legend_handles_labels()\n",
    "order = [1,0]\n",
    "plt.legend([handles[idx] for idx in order],[labels[idx] for idx in order], loc='upper left', fontsize=10)\n",
    "\n",
    "\n",
    "#popisky os\n",
    "plt.ylabel(\"U$_{real}$ \" + r\"[V]\", fontsize=12)\n",
    "plt.xlabel(\"$U$ [V]\", fontsize=12)\n",
    "\n",
    "plt.savefig('voltmetr.pdf', bbox_inches = 'tight')\n",
    "plt.show()"
   ]
  },
  {
   "cell_type": "markdown",
   "id": "bbddecd5-cfc2-47a1-8edc-761bc7858774",
   "metadata": {},
   "source": [
    "## Tabulka"
   ]
  },
  {
   "cell_type": "code",
   "execution_count": 49,
   "id": "4218e401-07ae-4272-b943-b42c9afbee42",
   "metadata": {},
   "outputs": [
    {
     "name": "stdout",
     "output_type": "stream",
     "text": [
      "\\begin{tabular}{rr}\n",
      "\\toprule\n",
      "  1 & 0.942 \\\\\n",
      "  2 & 1.936 \\\\\n",
      "  3 & 2.955 \\\\\n",
      "  4 & 3.888 \\\\\n",
      "  5 & 4.914 \\\\\n",
      "  6 & 5.904 \\\\\n",
      "  7 & 6.827 \\\\\n",
      "  8 & 7.814 \\\\\n",
      "  9 & 8.78  \\\\\n",
      " 10 & 9.823 \\\\\n",
      "\\bottomrule\n",
      "\\end{tabular}\n"
     ]
    }
   ],
   "source": [
    "T = np.array([V, V_real.round(3)]).T\n",
    "\n",
    "print(tabulate(T, tablefmt=\"latex_booktabs\"))"
   ]
  },
  {
   "cell_type": "code",
   "execution_count": null,
   "id": "7f2bdb1d-10f0-4b6c-8b8c-8e1fe3edaa5d",
   "metadata": {},
   "outputs": [],
   "source": []
  },
  {
   "cell_type": "markdown",
   "id": "5540d671-5e40-40a9-a07f-9af71ec3dd01",
   "metadata": {
    "tags": []
   },
   "source": [
    "# **ULOHA 2**"
   ]
  },
  {
   "cell_type": "code",
   "execution_count": 50,
   "id": "689044e1-2f05-4fdd-8fb6-24872aeee7c4",
   "metadata": {},
   "outputs": [],
   "source": [
    "I = np.array([0.35,0.46,0.57,0.69,0.75,0.82,0.88,0.94,0.28,0.62])\n",
    "I_real = np.array([0.35385,0.46740,0.57620,0.69010,0.74340,0.80475,0.85790,0.91940,0.28490,0.62205])\n",
    "I_err = np.full(10,0.0001)"
   ]
  },
  {
   "cell_type": "markdown",
   "id": "2466654b-bd1e-4544-a6a5-441435081888",
   "metadata": {},
   "source": [
    "## GRAF"
   ]
  },
  {
   "cell_type": "code",
   "execution_count": 51,
   "id": "991f9fae-927a-4011-b0d9-386c0de6acb5",
   "metadata": {},
   "outputs": [
    {
     "name": "stdout",
     "output_type": "stream",
     "text": [
      "a: 0.9555946077835115 +- 0.008948581287552673\n",
      "b: 0.024236829393291304 +- 0.005996751714138521\n"
     ]
    }
   ],
   "source": [
    "params, err = curve_fit(linear, I, I_real, sigma=I_err)\n",
    "a2,b2 = params\n",
    "sa2,sb2 = np.sqrt(np.diag(err))\n",
    "\n",
    "print(\"a: {} +- {}\".format(a2,sa2))\n",
    "print(\"b: {} +- {}\".format(b2,sb2))"
   ]
  },
  {
   "cell_type": "code",
   "execution_count": 52,
   "id": "7b9a7c95-6d9d-4b67-b66a-8408b156ee85",
   "metadata": {},
   "outputs": [],
   "source": [
    "def amper(x):\n",
    "    return linear(x,a2,b2)"
   ]
  },
  {
   "cell_type": "code",
   "execution_count": 53,
   "id": "ae1e3108-86f4-4107-985a-94381e6fafb4",
   "metadata": {},
   "outputs": [
    {
     "name": "stderr",
     "output_type": "stream",
     "text": [
      "C:\\Users\\stepa\\AppData\\Local\\Temp/ipykernel_5760/3550735614.py:21: UserWarning: Matplotlib is currently using pgf, which is a non-GUI backend, so cannot show the figure.\n",
      "  plt.show()\n"
     ]
    }
   ],
   "source": [
    "x_range = np.linspace(0,1,50)\n",
    "\n",
    "plt.figure(figsize = (8,5))\n",
    "\n",
    "\n",
    "plt.scatter(I,I_real,color = 'k',marker='x',label = 'Naměřené hodnoty proudu')\n",
    "plt.plot(x_range,linear(x_range,a2,b2), color = 'k', linestyle = 'dashed', label = \"Kalibrační křivka: \" + r\"$I_{real} = (0.955 \\pm 0.009) I - (0.02 \\pm 0.006)$\")\n",
    "\n",
    "#plt.legend(loc='upper left', fontsize=11)\n",
    "\n",
    "handles, labels = plt.gca().get_legend_handles_labels()\n",
    "order = [1,0]\n",
    "plt.legend([handles[idx] for idx in order],[labels[idx] for idx in order], loc='upper left', fontsize=10)\n",
    "\n",
    "\n",
    "#popisky os\n",
    "plt.ylabel(\"I$_{real}$ \" + r\"[A]\", fontsize=12)\n",
    "plt.xlabel(\"$I$ [A]\", fontsize=12)\n",
    "\n",
    "plt.savefig('ampermetr.pdf', bbox_inches = 'tight')\n",
    "plt.show()"
   ]
  },
  {
   "cell_type": "markdown",
   "id": "dba29cc6-68ab-466c-bc16-145afa5447d9",
   "metadata": {},
   "source": [
    "## Tabulka"
   ]
  },
  {
   "cell_type": "code",
   "execution_count": 54,
   "id": "35d05dfb-3ee9-4a85-a8a2-1d729dda9964",
   "metadata": {},
   "outputs": [
    {
     "name": "stdout",
     "output_type": "stream",
     "text": [
      "\\begin{tabular}{rr}\n",
      "\\toprule\n",
      " 0.35 & 0.3538 \\\\\n",
      " 0.46 & 0.4674 \\\\\n",
      " 0.57 & 0.5762 \\\\\n",
      " 0.69 & 0.6901 \\\\\n",
      " 0.75 & 0.7434 \\\\\n",
      " 0.82 & 0.8048 \\\\\n",
      " 0.88 & 0.8579 \\\\\n",
      " 0.94 & 0.9194 \\\\\n",
      " 0.28 & 0.2849 \\\\\n",
      " 0.62 & 0.622  \\\\\n",
      "\\bottomrule\n",
      "\\end{tabular}\n"
     ]
    }
   ],
   "source": [
    "T = np.array([I, I_real.round(4)]).T\n",
    "\n",
    "print(tabulate(T, tablefmt=\"latex_booktabs\"))"
   ]
  },
  {
   "cell_type": "code",
   "execution_count": null,
   "id": "989cd146-dddc-4f20-ba61-b1630c3421b1",
   "metadata": {},
   "outputs": [],
   "source": []
  },
  {
   "cell_type": "markdown",
   "id": "283cd92f-dfcc-46e3-9619-dca50d034695",
   "metadata": {
    "tags": []
   },
   "source": [
    "# ULOHA 3"
   ]
  },
  {
   "cell_type": "code",
   "execution_count": 55,
   "id": "9bdc3b9d-f045-45f6-b91c-1c4ccef91d53",
   "metadata": {},
   "outputs": [],
   "source": [
    "R_dek = np.arange(100,1100,100)\n",
    "U_x = np.array([0.0517,0.10145,0.15355,0.2039,0.25285,0.3042,0.35205,0.40625,0.45745,0.50675])\n",
    "sU_x = np.full(10,0.001)\n",
    "U_n = np.array([0.0550,0.0511,0.05165,0.05150,0.05115,0.5024,0.50195,0.5074,0.5078,0.50580])\n",
    "sU_n = np.full(10,0.001)\n",
    "R_n = np.array([100,100,100,100,100,1000,1000,1000,1000,1000])"
   ]
  },
  {
   "cell_type": "code",
   "execution_count": 56,
   "id": "01bd3814-3b48-452d-9b77-8c74f52214c1",
   "metadata": {},
   "outputs": [
    {
     "data": {
      "text/plain": [
       "(array([  94.        ,  198.53228963,  297.28944821,  395.9223301 ,\n",
       "         494.33040078,  605.49363057,  701.36467776,  800.65037446,\n",
       "         900.84679007, 1001.87821273]),\n",
       " array([2.49535105, 4.35019583, 6.07274893, 7.9292396 , 9.86009145,\n",
       "        2.3268836 , 2.43338712, 2.52469695, 2.65051009, 2.79862057]))"
      ]
     },
     "execution_count": 56,
     "metadata": {},
     "output_type": "execute_result"
    }
   ],
   "source": [
    "R = U_x/U_n * R_n\n",
    "sR = R*np.sqrt(sU_x**2/U_x**2 + sU_n**2/U_n**2)\n",
    "R,sR"
   ]
  },
  {
   "cell_type": "markdown",
   "id": "3fe1f8c5-889b-4603-baf4-2eb5660f8010",
   "metadata": {},
   "source": [
    "## GRAF"
   ]
  },
  {
   "cell_type": "code",
   "execution_count": 57,
   "id": "44a404c4-ea91-4394-bbaf-94d38b78b2cb",
   "metadata": {},
   "outputs": [
    {
     "name": "stdout",
     "output_type": "stream",
     "text": [
      "a: 1.0077693949467599 +- 0.0031711428967027876\n",
      "b: -4.4228069197834925 +- 2.1997213323754004\n"
     ]
    }
   ],
   "source": [
    "params, err = curve_fit(linear, R_dek, R, sigma=sR)\n",
    "a3,b3 = params\n",
    "sa3,sb3 = np.sqrt(np.diag(err))\n",
    "\n",
    "print(\"a: {} +- {}\".format(a3,sa3))\n",
    "print(\"b: {} +- {}\".format(b3,sb3))"
   ]
  },
  {
   "cell_type": "code",
   "execution_count": 58,
   "id": "4f9dc86b-848f-495f-ae4b-f0c3125fdf41",
   "metadata": {},
   "outputs": [],
   "source": [
    "def ohm(x):\n",
    "    return linear(x,a3,b3)"
   ]
  },
  {
   "cell_type": "code",
   "execution_count": 59,
   "id": "b6c4e6c5-0f08-47ed-ba2d-4d0dd8f47403",
   "metadata": {},
   "outputs": [
    {
     "name": "stderr",
     "output_type": "stream",
     "text": [
      "C:\\Users\\stepa\\AppData\\Local\\Temp/ipykernel_5760/339597867.py:21: UserWarning: Matplotlib is currently using pgf, which is a non-GUI backend, so cannot show the figure.\n",
      "  plt.show()\n"
     ]
    }
   ],
   "source": [
    "x_range = np.linspace(0,1000,50)\n",
    "\n",
    "plt.figure(figsize = (8,5))\n",
    "\n",
    "\n",
    "plt.scatter(R_dek,R,color = 'k',marker='x',label = 'Naměřené hodnoty odporu')\n",
    "plt.plot(x_range,linear(x_range,a3,b3), color = 'k', linestyle = 'dashed', label = \"Kalibrační křivka: \" + r\"$R_{real} = (1.007 \\pm 0.003) R - (4 \\pm 2)$\")\n",
    "\n",
    "#plt.legend(loc='upper left', fontsize=11)\n",
    "\n",
    "handles, labels = plt.gca().get_legend_handles_labels()\n",
    "order = [1,0]\n",
    "plt.legend([handles[idx] for idx in order],[labels[idx] for idx in order], loc='upper left', fontsize=10)\n",
    "\n",
    "\n",
    "#popisky os\n",
    "plt.ylabel(\"R$_{real}$ \" + \"[$\\Omega$]\", fontsize=12)\n",
    "plt.xlabel(\"$R$ [$\\Omega$]\", fontsize=12)\n",
    "\n",
    "plt.savefig('dekada.pdf', bbox_inches = 'tight')\n",
    "plt.show()"
   ]
  },
  {
   "cell_type": "markdown",
   "id": "9522d8b7-9ce5-460a-b2ff-50e744a7aaf4",
   "metadata": {},
   "source": [
    "## Tabulka"
   ]
  },
  {
   "cell_type": "code",
   "execution_count": 60,
   "id": "974c14b5-e302-421c-bf01-2a06b10a4015",
   "metadata": {},
   "outputs": [
    {
     "name": "stdout",
     "output_type": "stream",
     "text": [
      "\\begin{tabular}{rrrrr}\n",
      "\\toprule\n",
      "  100 &   94     & 0.055 & 0.052 &  100 \\\\\n",
      "  200 &  198.532 & 0.051 & 0.101 &  100 \\\\\n",
      "  300 &  297.289 & 0.052 & 0.154 &  100 \\\\\n",
      "  400 &  395.922 & 0.052 & 0.204 &  100 \\\\\n",
      "  500 &  494.33  & 0.051 & 0.253 &  100 \\\\\n",
      "  600 &  605.494 & 0.502 & 0.304 & 1000 \\\\\n",
      "  700 &  701.365 & 0.502 & 0.352 & 1000 \\\\\n",
      "  800 &  800.65  & 0.507 & 0.406 & 1000 \\\\\n",
      "  900 &  900.847 & 0.508 & 0.457 & 1000 \\\\\n",
      " 1000 & 1001.88  & 0.506 & 0.507 & 1000 \\\\\n",
      "\\bottomrule\n",
      "\\end{tabular}\n"
     ]
    }
   ],
   "source": [
    "T = np.array([R_dek, R, U_n.round(3),U_x.round(3), R_n]).T\n",
    "\n",
    "print(tabulate(T, tablefmt=\"latex_booktabs\"))"
   ]
  },
  {
   "cell_type": "code",
   "execution_count": null,
   "id": "71a5793e-7876-499b-98c0-03e7ae32875e",
   "metadata": {},
   "outputs": [],
   "source": []
  },
  {
   "cell_type": "markdown",
   "id": "91cec861-cca8-4cbf-b988-378d3502434c",
   "metadata": {},
   "source": [
    "# Uloha 4"
   ]
  },
  {
   "cell_type": "code",
   "execution_count": 61,
   "id": "d4e10758-771d-4e13-8f17-6e6419ba80ef",
   "metadata": {},
   "outputs": [],
   "source": [
    "I = amper(np.array([0.72,0.8,0.7,0.9,0.8,1,0.84,0.8,0.7,0.9]))\n",
    "I_r = amper(np.array([0.72,0.8,0.7,0.9,0.8,1,0.84,0.8,0.7,0.9])/2)\n",
    "R = ohm(np.array([112,114,113,117,113,119,115,113,112,117]))"
   ]
  },
  {
   "cell_type": "code",
   "execution_count": 62,
   "id": "0956021e-b601-4b34-99d5-ec0c016903db",
   "metadata": {},
   "outputs": [
    {
     "name": "stdout",
     "output_type": "stream",
     "text": [
      "\\begin{tabular}{rrr}\n",
      "\\toprule\n",
      " 0.71 & 0.37 & 108 \\\\\n",
      " 0.79 & 0.41 & 110 \\\\\n",
      " 0.69 & 0.36 & 109 \\\\\n",
      " 0.88 & 0.45 & 113 \\\\\n",
      " 0.79 & 0.41 & 109 \\\\\n",
      " 0.98 & 0.5  & 116 \\\\\n",
      " 0.83 & 0.43 & 111 \\\\\n",
      " 0.79 & 0.41 & 109 \\\\\n",
      " 0.69 & 0.36 & 108 \\\\\n",
      " 0.88 & 0.45 & 113 \\\\\n",
      "\\bottomrule\n",
      "\\end{tabular}\n"
     ]
    }
   ],
   "source": [
    "T = np.array([I.round(2),I_r.round(2),R.round(0)]).T\n",
    "\n",
    "print(tabulate(T, tablefmt=\"latex_booktabs\"))"
   ]
  },
  {
   "cell_type": "code",
   "execution_count": 63,
   "id": "32de195a-a123-4331-964f-e9a09e80c012",
   "metadata": {},
   "outputs": [
    {
     "data": {
      "text/plain": [
       "(110.96678880162051, 0.7301982987726432)"
      ]
     },
     "execution_count": 63,
     "metadata": {},
     "output_type": "execute_result"
    }
   ],
   "source": [
    "R0 = mean(R)\n",
    "sR0 = error(R)\n",
    "R0, sR0"
   ]
  },
  {
   "cell_type": "code",
   "execution_count": null,
   "id": "ea3cca8f-88f5-4d42-9688-0debbb41611a",
   "metadata": {},
   "outputs": [],
   "source": []
  },
  {
   "cell_type": "markdown",
   "id": "bc21911c-3cff-4683-9661-2d50b12098fd",
   "metadata": {},
   "source": [
    "# Uloha 5"
   ]
  },
  {
   "cell_type": "code",
   "execution_count": 64,
   "id": "899042cc-1f89-4d89-a3e4-7a82a654336a",
   "metadata": {},
   "outputs": [
    {
     "ename": "NameError",
     "evalue": "name 'volt' is not defined",
     "output_type": "error",
     "traceback": [
      "\u001b[1;31m---------------------------------------------------------------------------\u001b[0m",
      "\u001b[1;31mNameError\u001b[0m                                 Traceback (most recent call last)",
      "\u001b[1;32m~\\AppData\\Local\\Temp/ipykernel_5760/3859020392.py\u001b[0m in \u001b[0;36m<module>\u001b[1;34m\u001b[0m\n\u001b[1;32m----> 1\u001b[1;33m \u001b[0mU\u001b[0m \u001b[1;33m=\u001b[0m \u001b[0mvolt\u001b[0m\u001b[1;33m(\u001b[0m\u001b[0mnp\u001b[0m\u001b[1;33m.\u001b[0m\u001b[0marray\u001b[0m\u001b[1;33m(\u001b[0m\u001b[1;33m[\u001b[0m\u001b[1;36m8\u001b[0m\u001b[1;33m,\u001b[0m\u001b[1;36m7\u001b[0m\u001b[1;33m,\u001b[0m\u001b[1;36m9\u001b[0m\u001b[1;33m,\u001b[0m\u001b[1;36m10\u001b[0m\u001b[1;33m,\u001b[0m\u001b[1;36m8\u001b[0m\u001b[1;33m,\u001b[0m\u001b[1;36m7\u001b[0m\u001b[1;33m,\u001b[0m\u001b[1;36m9\u001b[0m\u001b[1;33m,\u001b[0m\u001b[1;36m10\u001b[0m\u001b[1;33m,\u001b[0m\u001b[1;36m8.8\u001b[0m\u001b[1;33m,\u001b[0m\u001b[1;36m7.2\u001b[0m\u001b[1;33m]\u001b[0m\u001b[1;33m)\u001b[0m\u001b[1;33m)\u001b[0m\u001b[1;33m\u001b[0m\u001b[1;33m\u001b[0m\u001b[0m\n\u001b[0m\u001b[0;32m      2\u001b[0m \u001b[0mU_r\u001b[0m \u001b[1;33m=\u001b[0m \u001b[0mvolt\u001b[0m\u001b[1;33m(\u001b[0m\u001b[0mnp\u001b[0m\u001b[1;33m.\u001b[0m\u001b[0marray\u001b[0m\u001b[1;33m(\u001b[0m\u001b[1;33m[\u001b[0m\u001b[1;36m8\u001b[0m\u001b[1;33m,\u001b[0m\u001b[1;36m7\u001b[0m\u001b[1;33m,\u001b[0m\u001b[1;36m9\u001b[0m\u001b[1;33m,\u001b[0m\u001b[1;36m10\u001b[0m\u001b[1;33m,\u001b[0m\u001b[1;36m8\u001b[0m\u001b[1;33m,\u001b[0m\u001b[1;36m7\u001b[0m\u001b[1;33m,\u001b[0m\u001b[1;36m9\u001b[0m\u001b[1;33m,\u001b[0m\u001b[1;36m10\u001b[0m\u001b[1;33m,\u001b[0m\u001b[1;36m8.8\u001b[0m\u001b[1;33m,\u001b[0m\u001b[1;36m7.2\u001b[0m\u001b[1;33m]\u001b[0m\u001b[1;33m)\u001b[0m\u001b[1;33m/\u001b[0m\u001b[1;36m2\u001b[0m\u001b[1;33m)\u001b[0m\u001b[1;33m\u001b[0m\u001b[1;33m\u001b[0m\u001b[0m\n\u001b[0;32m      3\u001b[0m \u001b[0mR\u001b[0m \u001b[1;33m=\u001b[0m \u001b[0mohm\u001b[0m\u001b[1;33m(\u001b[0m\u001b[0mnp\u001b[0m\u001b[1;33m.\u001b[0m\u001b[0marray\u001b[0m\u001b[1;33m(\u001b[0m\u001b[1;33m[\u001b[0m\u001b[1;36m3900\u001b[0m\u001b[1;33m,\u001b[0m\u001b[1;36m3800\u001b[0m\u001b[1;33m,\u001b[0m\u001b[1;36m3800\u001b[0m\u001b[1;33m,\u001b[0m\u001b[1;36m3800\u001b[0m\u001b[1;33m,\u001b[0m\u001b[1;36m3910\u001b[0m\u001b[1;33m,\u001b[0m\u001b[1;36m3820\u001b[0m\u001b[1;33m,\u001b[0m\u001b[1;36m3800\u001b[0m\u001b[1;33m,\u001b[0m\u001b[1;36m3800\u001b[0m\u001b[1;33m,\u001b[0m\u001b[1;36m3830\u001b[0m\u001b[1;33m,\u001b[0m\u001b[1;36m3840\u001b[0m\u001b[1;33m]\u001b[0m\u001b[1;33m)\u001b[0m\u001b[1;33m)\u001b[0m\u001b[1;33m\u001b[0m\u001b[1;33m\u001b[0m\u001b[0m\n",
      "\u001b[1;31mNameError\u001b[0m: name 'volt' is not defined"
     ]
    }
   ],
   "source": [
    "U = volt(np.array([8,7,9,10,8,7,9,10,8.8,7.2]))\n",
    "U_r = volt(np.array([8,7,9,10,8,7,9,10,8.8,7.2])/2)\n",
    "R = ohm(np.array([3900,3800,3800,3800,3910,3820,3800,3800,3830,3840]))"
   ]
  },
  {
   "cell_type": "code",
   "execution_count": 65,
   "id": "04e1d10e-fd80-4957-9904-3e85597c7f09",
   "metadata": {},
   "outputs": [
    {
     "name": "stdout",
     "output_type": "stream",
     "text": [
      "\\begin{tabular}{rrr}\n",
      "\\toprule\n",
      " 7.67 & 3.85 & 108 \\\\\n",
      " 6.71 & 3.37 & 110 \\\\\n",
      " 8.62 & 4.32 & 109 \\\\\n",
      " 9.58 & 4.8  & 113 \\\\\n",
      " 7.67 & 3.85 & 109 \\\\\n",
      " 6.71 & 3.37 & 116 \\\\\n",
      " 8.62 & 4.32 & 111 \\\\\n",
      " 9.58 & 4.8  & 109 \\\\\n",
      " 8.43 & 4.23 & 108 \\\\\n",
      " 6.9  & 3.46 & 113 \\\\\n",
      "\\bottomrule\n",
      "\\end{tabular}\n"
     ]
    }
   ],
   "source": [
    "T = np.array([U.round(2),U_r.round(2),R.round(0)]).T\n",
    "\n",
    "print(tabulate(T, tablefmt=\"latex_booktabs\"))"
   ]
  },
  {
   "cell_type": "code",
   "execution_count": 66,
   "id": "530ef318-d3b1-40de-b867-fc19841d6520",
   "metadata": {},
   "outputs": [
    {
     "data": {
      "text/plain": [
       "(110.96678880162051, 0.7301982987726432)"
      ]
     },
     "execution_count": 66,
     "metadata": {},
     "output_type": "execute_result"
    }
   ],
   "source": [
    "R0 = mean(R)\n",
    "sR0 = error(R)\n",
    "R0, sR0"
   ]
  },
  {
   "cell_type": "code",
   "execution_count": null,
   "id": "86f4dfb5-4c2d-4118-a774-98707d5d8e5c",
   "metadata": {},
   "outputs": [],
   "source": []
  }
 ],
 "metadata": {
  "kernelspec": {
   "display_name": "Python 3 (ipykernel)",
   "language": "python",
   "name": "python3"
  },
  "language_info": {
   "codemirror_mode": {
    "name": "ipython",
    "version": 3
   },
   "file_extension": ".py",
   "mimetype": "text/x-python",
   "name": "python",
   "nbconvert_exporter": "python",
   "pygments_lexer": "ipython3",
   "version": "3.8.7"
  }
 },
 "nbformat": 4,
 "nbformat_minor": 5
}
