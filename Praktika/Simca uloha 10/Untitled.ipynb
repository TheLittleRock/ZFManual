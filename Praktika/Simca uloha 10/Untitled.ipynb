{
 "cells": [
  {
   "cell_type": "code",
   "execution_count": 116,
   "id": "41b816da-4519-4158-a812-f82823ec1682",
   "metadata": {},
   "outputs": [],
   "source": [
    "import numpy as np\n",
    "import sympy as smp\n",
    "import matplotlib.pyplot as plt\n",
    "from scipy.optimize import curve_fit\n",
    "from tabulate import tabulate\n",
    "import matplotlib"
   ]
  },
  {
   "cell_type": "markdown",
   "id": "a99fd8d7-13d4-41e9-a4d4-424b6b43dc94",
   "metadata": {
    "tags": []
   },
   "source": [
    "### Definice funkcí"
   ]
  },
  {
   "cell_type": "code",
   "execution_count": 117,
   "id": "403efeeb-4a53-4d2f-a85f-a13d100502d8",
   "metadata": {},
   "outputs": [],
   "source": [
    "\n",
    "    \n",
    "def damped_oscilator(t, A, delta, w, phi, x0):\n",
    "    \"\"\"\n",
    "    t - čas, A - amplituda, delta - koeficient útlumu, w - frekvence, phi - fázový posun, x0 - vertikální posun\n",
    "    \"\"\"\n",
    "    return A * np.exp(-delta*t) * np.sin(w*t + phi) + x0\n",
    "\n",
    "def undamped_frequency(t, amplitude, p0=None):\n",
    "    coef, cov = curve_fit(damped_oscilator, t,amplitude,p0 = p0)\n",
    "    A, delta, w, phi, x0 = coef\n",
    "    err = np.sqrt(np.diag(cov))\n",
    "    \n",
    "    return([A, delta, w, phi, x0], err)\n",
    "\n",
    "def decimal(x):\n",
    "    return x.replace(',', '.').encode()\n",
    "\n",
    "def load_data(name):\n",
    "    t,amplitude = np.genfromtxt((decimal(x) for x in open(name)), delimiter='\\t',unpack = True, skip_header=2)\n",
    "    return t,amplitude"
   ]
  },
  {
   "cell_type": "code",
   "execution_count": 118,
   "id": "558e0de2-9e74-4740-b169-2140c0b61553",
   "metadata": {},
   "outputs": [],
   "source": [
    "def mean(arr):\n",
    "    return np.mean(arr)\n",
    "\n",
    "def error():\n",
    "    return\n",
    "\n",
    "def weighted_error(x, err):\n",
    "    \n",
    "    x = np.asarray(x)\n",
    "    err = np.asarray(err)\n",
    "    \n",
    "    average = np.sum(x/(err**2))/np.sum(1/err**2)\n",
    "    \n",
    "    average_error = 1/np.sqrt(np.sum(1/err**2))\n",
    "    \n",
    "    return average, average_error"
   ]
  },
  {
   "cell_type": "markdown",
   "id": "d83ad511-a112-490d-941d-f346ca882690",
   "metadata": {
    "tags": []
   },
   "source": [
    "# **Ukol 2**"
   ]
  },
  {
   "cell_type": "code",
   "execution_count": 119,
   "id": "78e0a467-7965-4ff6-8911-7e67e88529f2",
   "metadata": {},
   "outputs": [
    {
     "name": "stdout",
     "output_type": "stream",
     "text": [
      "[0.11580541 0.10192032 0.09420088 0.10773429] [0.00080386 0.00082431 0.0009083  0.00102335] [ 3.7404773  -3.7347908   3.75030034  3.74627377] [0.00082263 0.00078097 0.00092904 0.00099562]\n",
      "A: [ 0.26076295 -0.38490003  0.39067599  0.35483609]\n",
      "delta: [0.11580541 0.10192032 0.09420088 0.10773429]\n",
      "w: [ 3.7404773  -3.7347908   3.75030034  3.74627377]\n",
      "phi: [-1.85896646 -5.29665771 -1.71610101 -0.77596204]\n",
      "x0: [-0.01066872 -0.00828081 -0.01722315 -0.02591743]\n"
     ]
    }
   ],
   "source": [
    "parameters = []\n",
    "parameters_err = []\n",
    "\n",
    "for i in range(4):\n",
    "    #print(undamped_frequency(*load_data(\"data/undapmed_{}.txt\".format(i+1))))\n",
    "    parameters.append(undamped_frequency(*load_data(\"kyvadlo/ukol 2/{}.txt\".format(i+1)))[0])\n",
    "    parameters_err.append(undamped_frequency(*load_data(\"kyvadlo/ukol 2/{}.txt\".format(i+1)))[1])\n",
    "\n",
    "parameters = np.array(parameters)\n",
    "parameters_err = np.array(parameters_err)\n",
    "\n",
    "delta_array = parameters[:,1]\n",
    "w_array = parameters[:,2]\n",
    "\n",
    "delta_err_array = parameters_err[:,1]\n",
    "w_err_array = parameters_err[:,2]\n",
    "\n",
    "print(delta_array,delta_err_array,w_array,w_err_array)\n",
    "print(\"A: {}\".format(parameters[:,0]))\n",
    "print(\"delta: {}\".format(parameters[:,1]))\n",
    "print(\"w: {}\".format(parameters[:,2]))\n",
    "print(\"phi: {}\".format(parameters[:,3]))\n",
    "print(\"x0: {}\".format(parameters[:,4]))"
   ]
  },
  {
   "cell_type": "markdown",
   "id": "65c70b30-3970-4419-b970-c7dc0cbf138d",
   "metadata": {
    "tags": []
   },
   "source": [
    "### Fit tabulka"
   ]
  },
  {
   "cell_type": "code",
   "execution_count": 120,
   "id": "19aeef33-2aed-4264-91fb-078d89a8a321",
   "metadata": {},
   "outputs": [
    {
     "name": "stdout",
     "output_type": "stream",
     "text": [
      "[[ 0.2608  0.1158  3.7405 -1.859  -0.0107]\n",
      " [-0.3849  0.1019 -3.7348 -5.2967 -0.0083]\n",
      " [ 0.3907  0.0942  3.7503 -1.7161 -0.0172]\n",
      " [ 0.3548  0.1077  3.7463 -0.776  -0.0259]]\n",
      "[[0.0007 0.0008 0.0008 0.003  0.0002]\n",
      " [0.0014 0.0008 0.0008 0.0034 0.0004]\n",
      " [0.0019 0.0009 0.0009 0.0052 0.0005]\n",
      " [0.0018 0.001  0.001  0.0047 0.0005]]\n"
     ]
    }
   ],
   "source": [
    "###### ZAOKROUHLENI ########\n",
    "\n",
    "parameters_rounded = np.round(parameters,4)\n",
    "parameters_err_rounded = np.round(parameters_err,4)\n",
    "\n",
    "print(parameters_rounded)\n",
    "print(parameters_err_rounded)"
   ]
  },
  {
   "cell_type": "code",
   "execution_count": 121,
   "id": "8e931d2a-88d1-450c-b94d-25df4f2fc45c",
   "metadata": {},
   "outputs": [
    {
     "name": "stdout",
     "output_type": "stream",
     "text": [
      "[array([1, 2, 3, 4, 5]) array([ 0.2608, -0.3849,  0.3907,  0.3548])\n",
      " array([0.0007, 0.0014, 0.0019, 0.0018])\n",
      " array([0.1158, 0.1019, 0.0942, 0.1077])\n",
      " array([0.0008, 0.0008, 0.0009, 0.001 ])\n",
      " array([ 3.7405, -3.7348,  3.7503,  3.7463])\n",
      " array([0.0008, 0.0008, 0.0009, 0.001 ])\n",
      " array([-1.859 , -5.2967, -1.7161, -0.776 ])\n",
      " array([0.003 , 0.0034, 0.0052, 0.0047])\n",
      " array([-0.0107, -0.0083, -0.0172, -0.0259])\n",
      " array([0.0002, 0.0004, 0.0005, 0.0005])]\n"
     ]
    },
    {
     "name": "stderr",
     "output_type": "stream",
     "text": [
      "C:\\Users\\stepa\\AppData\\Local\\Temp/ipykernel_15520/2598973162.py:7: VisibleDeprecationWarning: Creating an ndarray from ragged nested sequences (which is a list-or-tuple of lists-or-tuples-or ndarrays with different lengths or shapes) is deprecated. If you meant to do this, you must specify 'dtype=object' when creating the ndarray.\n",
      "  T = np.array(table).T\n"
     ]
    }
   ],
   "source": [
    "table = []\n",
    "table.append(np.array([x for x in range(1,6)]))\n",
    "for i in range(5):\n",
    "    table.append(parameters_rounded[:,i])\n",
    "    table.append(parameters_err_rounded[:,i])\n",
    "\n",
    "T = np.array(table).T\n",
    "print(T)"
   ]
  },
  {
   "cell_type": "code",
   "execution_count": 122,
   "id": "792e169b-9e25-411d-ace8-207972c44ecb",
   "metadata": {},
   "outputs": [
    {
     "name": "stdout",
     "output_type": "stream",
     "text": [
      "\\begin{tabular}{rrrrr}\n",
      "\\toprule\n",
      "  1      &  2      &  3      &  4      & 5 \\\\\n",
      "  0.2608 & -0.3849 &  0.3907 &  0.3548 &   \\\\\n",
      "  0.0007 &  0.0014 &  0.0019 &  0.0018 &   \\\\\n",
      "  0.1158 &  0.1019 &  0.0942 &  0.1077 &   \\\\\n",
      "  0.0008 &  0.0008 &  0.0009 &  0.001  &   \\\\\n",
      "  3.7405 & -3.7348 &  3.7503 &  3.7463 &   \\\\\n",
      "  0.0008 &  0.0008 &  0.0009 &  0.001  &   \\\\\n",
      " -1.859  & -5.2967 & -1.7161 & -0.776  &   \\\\\n",
      "  0.003  &  0.0034 &  0.0052 &  0.0047 &   \\\\\n",
      " -0.0107 & -0.0083 & -0.0172 & -0.0259 &   \\\\\n",
      "  0.0002 &  0.0004 &  0.0005 &  0.0005 &   \\\\\n",
      "\\bottomrule\n",
      "\\end{tabular}\n"
     ]
    }
   ],
   "source": [
    "print(tabulate(T, tablefmt=\"latex_booktabs\"))"
   ]
  },
  {
   "cell_type": "markdown",
   "id": "e4c1c43e-ebd4-4096-88b4-0710d65c073a",
   "metadata": {
    "tags": []
   },
   "source": [
    "### Vzorec pro chybu"
   ]
  },
  {
   "cell_type": "code",
   "execution_count": 123,
   "id": "5af1d85e-b660-404b-9ceb-b5b3253f9ed5",
   "metadata": {},
   "outputs": [
    {
     "data": {
      "text/latex": [
       "$\\displaystyle \\sqrt{\\frac{\\delta^{2} \\sigma_{\\delta}^{2} + \\omega^{2} \\sigma_{\\omega}^{2}}{\\delta^{2} + \\omega^{2}}}$"
      ],
      "text/plain": [
       "sqrt((\\delta**2*\\sigma_{\\delta}**2 + \\omega**2*\\sigma_{\\omega}**2)/(\\delta**2 + \\omega**2))"
      ]
     },
     "execution_count": 123,
     "metadata": {},
     "output_type": "execute_result"
    }
   ],
   "source": [
    "Sdelta = smp.symbols(r'\\sigma_{\\delta}')\n",
    "Somega = smp.symbols(r'\\sigma_{\\omega}')\n",
    "Somega0 = smp.symbols(r'\\sigma_{\\omega_0}')\n",
    "\n",
    "Delta = smp.symbols('\\delta')\n",
    "Omega = smp.symbols('\\omega')\n",
    "Omega0 = smp.symbols('\\omega_0}')\n",
    "\n",
    "Omega0 = smp.sqrt(Omega**2+Delta**2)\n",
    "\n",
    "### DERIVACE ####\n",
    "dOmega0dOmega = smp.diff(Omega0,Omega)\n",
    "dOmega0dDelta = smp.diff(Omega0,Delta)\n",
    "\n",
    "###### CHYBA w0 ########\n",
    "Somega0 = smp.sqrt(dOmega0dOmega**2*Somega**2 + dOmega0dDelta**2*Sdelta**2)\n",
    "Somega0 = smp.simplify(Somega0)\n",
    "\n",
    "####### w0 z Delta a w #######\n",
    "w_to_w0 = smp.lambdify([Omega,Delta], Omega0)\n",
    "####### W0 chyba #######\n",
    "w0_err = smp.lambdify([Omega,Delta,Somega,Sdelta],Somega0)\n",
    "\n",
    "Somega0 "
   ]
  },
  {
   "cell_type": "markdown",
   "id": "cbc2f9d5-173e-4dff-a79f-3354c7f20e20",
   "metadata": {
    "tags": []
   },
   "source": [
    "### Vypocet w0"
   ]
  },
  {
   "cell_type": "code",
   "execution_count": 124,
   "id": "57e9692d-4b41-4f05-a17e-b39ee7b7526d",
   "metadata": {},
   "outputs": [
    {
     "name": "stdout",
     "output_type": "stream",
     "text": [
      "[3.742269538714158, 3.7361812122416826, 3.7514832363019197, 3.7478225415174062] [0.0008226112601502017, 0.000781005605484308, 0.0009290256745278771, 0.0009956425499387108]\n"
     ]
    }
   ],
   "source": [
    "w0_arr = []\n",
    "sw0_arr = []\n",
    "\n",
    "for w,d,sw,sd in zip(w_array,delta_array,w_err_array,delta_err_array):\n",
    "    w0_arr.append(w_to_w0(w,d))\n",
    "    sw0_arr.append(w0_err(w,d,sw,sd))\n",
    "    \n",
    "print(w0_arr,sw0_arr)"
   ]
  },
  {
   "cell_type": "code",
   "execution_count": 125,
   "id": "5b47b205-194c-4ded-b5e4-13a88ef73abe",
   "metadata": {},
   "outputs": [
    {
     "name": "stdout",
     "output_type": "stream",
     "text": [
      "3.743460850460599 0.00043500426582496464\n"
     ]
    }
   ],
   "source": [
    "w0,sw0 = weighted_error(w0_arr,sw0_arr)\n",
    "print(w0,sw0)"
   ]
  },
  {
   "cell_type": "code",
   "execution_count": 126,
   "id": "d0e00eb6-6f65-48cd-a9f8-8a4cba40e719",
   "metadata": {},
   "outputs": [
    {
     "name": "stdout",
     "output_type": "stream",
     "text": [
      "-3.3615064841599396 -4\n",
      "0.0004\n",
      "3.7435\n",
      "$(3.7435\\pm0.0004)$~s^{-1}\n"
     ]
    }
   ],
   "source": [
    "exp = np.log10(sw0)\n",
    "exp_floor = int(np.floor(exp))  # je potreba pretypovat vysledek na cele cislo\n",
    "print(exp, exp_floor)\n",
    "\n",
    "chyba = np.round(sw0, -exp_floor)  # zaporna hodnota udava pocet desetinnych mist\n",
    "print(chyba)\n",
    "\n",
    "hodnota = np.round(w0, -exp_floor)\n",
    "print(hodnota)\n",
    "\n",
    "jednotka = 's^{-1}'\n",
    "vysledek = '$({}\\pm{})$~{}'.format(hodnota, chyba, jednotka)  # funkce format vlozi promenne do sloznych zavorek {}\n",
    "print(vysledek)"
   ]
  },
  {
   "cell_type": "code",
   "execution_count": 127,
   "id": "da547deb-993a-49e6-8b6d-ce3844265863",
   "metadata": {},
   "outputs": [
    {
     "name": "stdout",
     "output_type": "stream",
     "text": [
      "[3.7423 3.7362 3.7515 3.7478] [0.0008 0.0008 0.0009 0.001 ]\n"
     ]
    }
   ],
   "source": [
    "w0_rounded = np.round(w0_arr, 4)\n",
    "sw0_rounded = np.round(sw0_arr, 4)\n",
    "print(w0_rounded,sw0_rounded)\n",
    "\n",
    "T = np.array([w0_rounded,sw0_rounded]).T"
   ]
  },
  {
   "cell_type": "code",
   "execution_count": 128,
   "id": "a5515e79-c8da-4c06-9cf8-21192fda3189",
   "metadata": {},
   "outputs": [
    {
     "name": "stdout",
     "output_type": "stream",
     "text": [
      "\\begin{tabular}{rr}\n",
      "\\toprule\n",
      " 3.7423 & 0.0008 \\\\\n",
      " 3.7362 & 0.0008 \\\\\n",
      " 3.7515 & 0.0009 \\\\\n",
      " 3.7478 & 0.001  \\\\\n",
      "\\bottomrule\n",
      "\\end{tabular}\n"
     ]
    }
   ],
   "source": [
    "print(tabulate(T, tablefmt=\"latex_booktabs\"))"
   ]
  },
  {
   "cell_type": "markdown",
   "id": "f3850cba-f59e-40f1-bf7d-9a0022dda45f",
   "metadata": {
    "tags": []
   },
   "source": [
    "### Vypocet delta undamped"
   ]
  },
  {
   "cell_type": "code",
   "execution_count": 129,
   "id": "59488cdd-bbb0-4813-b48c-48ca85a3d4ba",
   "metadata": {},
   "outputs": [
    {
     "name": "stdout",
     "output_type": "stream",
     "text": [
      "0.10532982250595568 0.0004391112715193976\n"
     ]
    }
   ],
   "source": [
    "delta,sdelta = weighted_error(delta_array,delta_err_array)\n",
    "print(delta,sdelta)"
   ]
  },
  {
   "cell_type": "code",
   "execution_count": 130,
   "id": "51eeed5f-1817-499c-ba67-793bc05ed258",
   "metadata": {},
   "outputs": [
    {
     "name": "stdout",
     "output_type": "stream",
     "text": [
      "-3.3574254148750025 -4\n",
      "0.0004\n",
      "0.1053\n",
      "$(0.1053\\pm0.0004)$~s^{-1}\n"
     ]
    }
   ],
   "source": [
    "exp = np.log10(sdelta)\n",
    "exp_floor = int(np.floor(exp))  # je potreba pretypovat vysledek na cele cislo\n",
    "print(exp, exp_floor)\n",
    "\n",
    "chyba = np.round(sdelta, -exp_floor)  # zaporna hodnota udava pocet desetinnych mist\n",
    "print(chyba)\n",
    "\n",
    "hodnota = np.round(delta, -exp_floor)\n",
    "print(hodnota)\n",
    "\n",
    "jednotka = 's^{-1}'\n",
    "vysledek = '$({}\\pm{})$~{}'.format(hodnota, chyba, jednotka)  # funkce format vlozi promenne do sloznych zavorek {}\n",
    "print(vysledek)"
   ]
  },
  {
   "cell_type": "markdown",
   "id": "e5952aaa-0071-4788-b9ca-15543bd6709b",
   "metadata": {
    "tags": []
   },
   "source": [
    "### Graf"
   ]
  },
  {
   "cell_type": "code",
   "execution_count": 131,
   "id": "f0621bfe-422b-4c8b-8b07-42d80055defd",
   "metadata": {},
   "outputs": [
    {
     "data": {
      "image/png": "[encoded data removed]",
      "text/plain": [
       "<Figure size 576x360 with 1 Axes>"
      ]
     },
     "metadata": {
      "needs_background": "light"
     },
     "output_type": "display_data"
    }
   ],
   "source": [
    "t, amplitude = load_data(\"kyvadlo/ukol 2/1.txt\")\n",
    "t_range = np.linspace(0,12,1000)\n",
    "\n",
    "plt.figure(figsize = (8,5))\n",
    "\n",
    "coef, _ = curve_fit(damped_oscilator, t,amplitude)\n",
    "A, delta, w, phi, x0 = coef\n",
    "\n",
    "plt.scatter(t,amplitude, marker = 'x', color='black', label='Naměřené výchylky')\n",
    "\n",
    "plt.plot(t_range, damped_oscilator(t_range,A, delta, w, phi, x0), color=\"k\", linestyle='dashed', linewidth=1, label='Fit pro rovnici tlumeného oscilátoru')\n",
    "\n",
    "plt.legend(loc='lower right')\n",
    "\n",
    "#popisky os\n",
    "plt.ylabel(\"Výchylka kyvadla $ \\phi $ [rad]\", fontsize=12)\n",
    "plt.xlabel(\"Čas t [s]\", fontsize=12)\n",
    "\n",
    "\n",
    "plt.savefig('Undamped_fit_example.pdf')\n",
    "plt.show()"
   ]
  },
  {
   "cell_type": "markdown",
   "id": "5c753e07-acec-4ac2-8ade-15e09a082608",
   "metadata": {
    "tags": []
   },
   "source": [
    "# **Ukol 3**"
   ]
  },
  {
   "cell_type": "code",
   "execution_count": 132,
   "id": "a4270102-aea5-400b-a177-d7b48432e19d",
   "metadata": {},
   "outputs": [],
   "source": [
    "Amperage = [\"0.15\",\"0.34\",\"0.65\",\"1\",\"1.22\",\"1.35\",\"1.55\", \"1.75\"]\n",
    "A = [0.15,0.35,0.65,1,1.22,1.35,1.55,1.75]\n",
    "data = {}"
   ]
  },
  {
   "cell_type": "markdown",
   "id": "0b881003-7ce1-4c20-ab9b-d162a2314399",
   "metadata": {
    "tags": []
   },
   "source": [
    "### Fit damped kmitu"
   ]
  },
  {
   "cell_type": "code",
   "execution_count": 133,
   "id": "ac718767-2dce-4a59-a5cb-831f95b22bba",
   "metadata": {},
   "outputs": [],
   "source": [
    "\n",
    "for a in Amperage:\n",
    "    \n",
    "    parameters = []\n",
    "    parameters_err = []\n",
    "    \n",
    "    for i in range(1):\n",
    "        \n",
    "        parameters.append(undamped_frequency(*load_data(\"kyvadlo/ukol 3/{}A.txt\".format(a,i+1)))[0])\n",
    "        parameters_err.append(undamped_frequency(*load_data(\"kyvadlo/ukol 3/{}A.txt\".format(a,i+1)))[1])\n",
    "        \n",
    "        \n",
    "    parameters = np.array(parameters)\n",
    "    parameters_err = np.array(parameters_err)\n",
    "    \n",
    "    #print(parameters)\n",
    "        \n",
    "    delta_array = parameters[:,1]\n",
    "    delta_err_array = parameters_err[:,1]\n",
    "        \n",
    "        \n",
    "    data[a] = delta_array,delta_err_array\n",
    "    "
   ]
  },
  {
   "cell_type": "markdown",
   "id": "e412acae-b036-42da-92cc-42471b62dadc",
   "metadata": {
    "tags": []
   },
   "source": [
    "### Prumer a chyba tlumeni"
   ]
  },
  {
   "cell_type": "code",
   "execution_count": 134,
   "id": "bd9dd045-805c-4913-8ddc-8b2f553f7320",
   "metadata": {},
   "outputs": [
    {
     "name": "stdout",
     "output_type": "stream",
     "text": [
      "[0.08398598241815698, 0.0898957368782143, 0.10247326061228429, 0.16522409221227127, 0.2125386867008723, 0.2361251751953665, 0.2902627018422855, 0.3495102179420544]\n",
      "[0.0002614141363062661, 0.00020751172680922756, 0.0003707689732879847, 0.0010750246041186574, 0.0016020738566690622, 0.0016737898337464408, 0.002438741178019539, 0.0029612453862017064]\n"
     ]
    }
   ],
   "source": [
    "delta_final = []\n",
    "delta_errorbars = []\n",
    "\n",
    "for a in Amperage:\n",
    "    delta, delta_err = weighted_error(data[a][0],data[a][1])\n",
    "    delta_final.append(delta)\n",
    "    delta_errorbars.append(delta_err)\n",
    "\n",
    "print(delta_final)\n",
    "print(delta_errorbars)"
   ]
  },
  {
   "cell_type": "markdown",
   "id": "5b7e9f6f-c6b2-478d-b1eb-2f8bcab9579b",
   "metadata": {
    "tags": []
   },
   "source": [
    "### Tabulka vyslednych delt"
   ]
  },
  {
   "cell_type": "code",
   "execution_count": 135,
   "id": "0749c99e-e46b-439d-aa44-7bc52adeac79",
   "metadata": {},
   "outputs": [
    {
     "name": "stdout",
     "output_type": "stream",
     "text": [
      "[0.084  0.0899 0.1025 0.1652 0.2125 0.2361 0.2903 0.3495] [0.0003 0.0002 0.0004 0.0011 0.0016 0.0017 0.0024 0.003 ]\n",
      "\\begin{tabular}{rrr}\n",
      "\\toprule\n",
      " 0.15 & 0.084  & 0.0003 \\\\\n",
      " 0.35 & 0.0899 & 0.0002 \\\\\n",
      " 0.65 & 0.1025 & 0.0004 \\\\\n",
      " 1    & 0.1652 & 0.0011 \\\\\n",
      " 1.22 & 0.2125 & 0.0016 \\\\\n",
      " 1.35 & 0.2361 & 0.0017 \\\\\n",
      " 1.55 & 0.2903 & 0.0024 \\\\\n",
      " 1.75 & 0.3495 & 0.003  \\\\\n",
      "\\bottomrule\n",
      "\\end{tabular}\n"
     ]
    }
   ],
   "source": [
    "delta_rounded = np.round(delta_final, 4)\n",
    "sdelta_rounded = np.round(delta_errorbars, 4)\n",
    "print(delta_rounded,sdelta_rounded)\n",
    "\n",
    "T = np.array([A,delta_rounded,sdelta_rounded]).T\n",
    "\n",
    "print(tabulate(T, tablefmt=\"latex_booktabs\"))"
   ]
  },
  {
   "cell_type": "markdown",
   "id": "404b53f5-9383-4960-97d0-113c5e729fe6",
   "metadata": {
    "tags": []
   },
   "source": [
    "### Graf"
   ]
  },
  {
   "cell_type": "code",
   "execution_count": 136,
   "id": "62a28edb-41da-417d-bc75-cb4dbcbab5ef",
   "metadata": {},
   "outputs": [
    {
     "data": {
      "text/plain": [
       "array([0.01, 0.01, 0.01, 0.01, 0.01])"
      ]
     },
     "execution_count": 136,
     "metadata": {},
     "output_type": "execute_result"
    }
   ],
   "source": [
    "A_err = np.empty(5, dtype = float)\n",
    "A_err.fill(0.01)\n",
    "A_err"
   ]
  },
  {
   "cell_type": "code",
   "execution_count": 137,
   "id": "5be67679-25a0-4199-bfa3-c3ae90d9f926",
   "metadata": {},
   "outputs": [
    {
     "name": "stdout",
     "output_type": "stream",
     "text": [
      "a: 0.08137630339097376 +- 0.006507811791369824\n",
      "b: 0.07911923205250761 +- 0.002439627791128476\n"
     ]
    }
   ],
   "source": [
    "def fit_funkce(x,a,b): ##definice linearni funkce, kterou se to pokusi fitnout, a je parametr, ktery bude menen pri fitovani\n",
    "    return a*x**2 + b\n",
    "\n",
    "params, cov = curve_fit(fit_funkce, A, delta_final,sigma=delta_errorbars) #provede fit a najde optimallni hodnotu koeficientu a\n",
    "a,b = params\n",
    "fit_error = np.sqrt(np.diag(cov))\n",
    "sa,sb = fit_error\n",
    "\n",
    "print(\"a: {} +- {}\".format(a,sa))\n",
    "print(\"b: {} +- {}\".format(b,sb))"
   ]
  },
  {
   "cell_type": "code",
   "execution_count": 138,
   "id": "f033bc50-3d7c-4986-952b-f1157a0d4d4f",
   "metadata": {},
   "outputs": [
    {
     "name": "stdout",
     "output_type": "stream",
     "text": [
      "0.007\n",
      "0.081\n",
      "$(0.081\\pm0.007)$~s^{-1}A^{-2}\n",
      "0.002\n",
      "0.079\n",
      "$(0.079\\pm0.002)$~$s^{-1}$\n"
     ]
    }
   ],
   "source": [
    "chyba = np.round(sa, 3)  # zaporna hodnota udava pocet desetinnych mist\n",
    "print(chyba)\n",
    "\n",
    "hodnota = np.round(a, 3)\n",
    "print(hodnota)\n",
    "\n",
    "jednotka = 's^{-1}A^{-2}'\n",
    "vysledek = '$({}\\pm{})$~{}'.format(hodnota, chyba, jednotka)  # funkce format vlozi promenne do sloznych zavorek {}\n",
    "print(vysledek)\n",
    "\n",
    "chyba = np.round(sb, 3)  # zaporna hodnota udava pocet desetinnych mist\n",
    "print(chyba)\n",
    "\n",
    "hodnota = np.round(b, 3)\n",
    "print(hodnota)\n",
    "\n",
    "jednotka = '$s^{-1}$'\n",
    "vysledek = '$({}\\pm{})$~{}'.format(hodnota, chyba, jednotka)  # funkce format vlozi promenne do sloznych zavorek {}\n",
    "print(vysledek)"
   ]
  },
  {
   "cell_type": "code",
   "execution_count": 139,
   "id": "404d7ae0-f03f-4911-9936-90f05d2e4b5a",
   "metadata": {},
   "outputs": [
    {
     "data": {
      "image/png": "[encoded data removed]",
      "text/plain": [
       "<Figure size 576x360 with 1 Axes>"
      ]
     },
     "metadata": {
      "needs_background": "light"
     },
     "output_type": "display_data"
    }
   ],
   "source": [
    "x_funkce = np.linspace(0,2,100)\n",
    "\n",
    "plt.figure(figsize = (8,5))\n",
    "\n",
    "plt.plot(A, delta_final, 'x', color='black', label='Naměřené hodnoty $\\delta$')\n",
    "plt.errorbar(A, delta_final, yerr=delta_errorbars, fmt='none')\n",
    "\n",
    "plt.plot(x_funkce, fit_funkce(x_funkce,a,b), color=\"k\", linestyle='dashed', linewidth=1, label='Extrapolace závislosti')\n",
    "\n",
    "plt.legend(loc='lower right')\n",
    "\n",
    "#popisky os\n",
    "plt.ylabel(\"Koeficient útlumu $\\delta$ [$s^{-1}$]\", fontsize=12)\n",
    "plt.xlabel(\"Tlumící proud $I$ [A]\", fontsize=12)\n",
    "\n",
    "\n",
    "plt.savefig('Current_delta.pdf')\n",
    "plt.show()"
   ]
  },
  {
   "cell_type": "code",
   "execution_count": 140,
   "id": "eee9d4d6-fd20-44d1-a16d-5150ed87818b",
   "metadata": {},
   "outputs": [
    {
     "data": {
      "image/png": "[encoded data removed]",
      "text/plain": [
       "<Figure size 576x360 with 1 Axes>"
      ]
     },
     "metadata": {
      "needs_background": "light"
     },
     "output_type": "display_data"
    }
   ],
   "source": [
    "x_funkce = np.linspace(0,7,100)\n",
    "\n",
    "#np.full(shape=100, fill_value=w0)\n",
    "\n",
    "plt.figure(figsize = (8,5))\n",
    "\n",
    "plt.plot(A, delta_final, 'x', color='black', label='Naměřené hodnoty $\\delta$')\n",
    "plt.errorbar(A, delta_final, yerr=delta_errorbars, fmt='none')\n",
    "\n",
    "plt.plot(x_funkce, fit_funkce(x_funkce,a,b), color=\"k\", linestyle='dashed', linewidth=1, label='Extrapolace závislosti')\n",
    "\n",
    "plt.scatter(np.sqrt((w0 - b)/a),w0,marker='+', s=75 ,color = 'k', label = 'Proud $\\delta_{krit}$ pro kritický útlum')\n",
    "\n",
    "#plt.plot( np.full(shape=100, fill_value=np.sqrt((w0 - b)/a)) ,np.linspace(0,4.5,100), linestyle = 'dotted',color = 'k', linewidth=0.5)\n",
    "#plt.plot(x_funkce,np.full(shape=100, fill_value=w0), linestyle = 'dotted',color = 'k', linewidth=0.5)\n",
    "\n",
    "plt.legend(loc='upper left')\n",
    "\n",
    "#popisky os\n",
    "plt.ylabel(\"Koeficient útlumu $\\delta$ [$s^{-1}$]\", fontsize=12)\n",
    "plt.xlabel(\"Tlumící proud $I$ [A]\", fontsize=12)\n",
    "\n",
    "\n",
    "plt.savefig('Current_delta_krit.pdf')\n",
    "plt.show()"
   ]
  },
  {
   "cell_type": "code",
   "execution_count": 141,
   "id": "1a447a78-a79d-4be4-a93e-ae667a406136",
   "metadata": {},
   "outputs": [
    {
     "name": "stdout",
     "output_type": "stream",
     "text": [
      "0.09347401197067537\n",
      "0.24320641021006711\n"
     ]
    }
   ],
   "source": [
    "print(fit_funkce(0.42,a,b)) \n",
    "print(fit_funkce(1.42,a,b))"
   ]
  },
  {
   "cell_type": "markdown",
   "id": "7662c422-4c2a-4ef6-9f95-cc31f287126b",
   "metadata": {
    "tags": []
   },
   "source": [
    "### Urceni tlumiciho proudu"
   ]
  },
  {
   "cell_type": "code",
   "execution_count": 142,
   "id": "a559e1b5-094d-4b0b-8992-8dedb91dd3af",
   "metadata": {},
   "outputs": [
    {
     "data": {
      "text/plain": [
       "6.710409115977542"
      ]
     },
     "execution_count": 142,
     "metadata": {},
     "output_type": "execute_result"
    }
   ],
   "source": [
    "Akrit = np.sqrt((w0 - b)/a)\n",
    "Akrit"
   ]
  },
  {
   "cell_type": "code",
   "execution_count": 143,
   "id": "473de0ee-3a6f-460c-bbee-528ebf704985",
   "metadata": {},
   "outputs": [
    {
     "data": {
      "text/plain": [
       "0.29462212306064245"
      ]
     },
     "execution_count": 143,
     "metadata": {},
     "output_type": "execute_result"
    }
   ],
   "source": [
    "sAkrit = (np.sqrt(sw0**2+sb**2+(sa*(w0-b))**2))/a\n",
    "sAkrit"
   ]
  },
  {
   "cell_type": "code",
   "execution_count": 144,
   "id": "23ecd1a6-20fa-42b3-ae2f-c60136c210ba",
   "metadata": {},
   "outputs": [
    {
     "name": "stdout",
     "output_type": "stream",
     "text": [
      "-0.5307346452652033 -1\n",
      "0.3\n",
      "6.7\n",
      "$(6.7\\pm0.3)$~A\n"
     ]
    }
   ],
   "source": [
    "exp = np.log10(sAkrit)\n",
    "exp_floor = int(np.floor(exp))  # je potreba pretypovat vysledek na cele cislo\n",
    "print(exp, exp_floor)\n",
    "\n",
    "chyba = np.round(sAkrit, -exp_floor)  # zaporna hodnota udava pocet desetinnych mist\n",
    "print(chyba)\n",
    "\n",
    "hodnota = np.round(Akrit, -exp_floor)\n",
    "print(hodnota)\n",
    "\n",
    "jednotka = 'A'\n",
    "vysledek = '$({}\\pm{})$~{}'.format(hodnota, chyba, jednotka)  # funkce format vlozi promenne do sloznych zavorek {}\n",
    "print(vysledek)"
   ]
  },
  {
   "cell_type": "markdown",
   "id": "a5647203-f81e-4cc6-bccf-70ffa609840e",
   "metadata": {
    "tags": []
   },
   "source": [
    "# **Ukol 5**"
   ]
  },
  {
   "cell_type": "code",
   "execution_count": 145,
   "id": "93d7b134-e648-4329-96c5-ab87acd4fff4",
   "metadata": {},
   "outputs": [
    {
     "name": "stdout",
     "output_type": "stream",
     "text": [
      "[2.01, 4.02, 6.01, 8, 10.07, 12.06, 14.07, 15.98]\n",
      "[6.6, 16.1, 24.3, 33.1, 42.5, 51.3, 60.2, 69.1]\n"
     ]
    }
   ],
   "source": [
    "V = [2.01,4.02,6.01, 8, 10.07,12.06,14.07,15.98]\n",
    "RPM = [6.6,16.1,24.3,33.1,42.5,51.3,60.2,69.1]\n",
    "print(V)\n",
    "print(RPM)"
   ]
  },
  {
   "cell_type": "code",
   "execution_count": 146,
   "id": "99cf9405-171d-4e4c-a385-40bbee53b0ce",
   "metadata": {},
   "outputs": [
    {
     "name": "stdout",
     "output_type": "stream",
     "text": [
      "\\begin{tabular}{rr}\n",
      "\\toprule\n",
      "  2.01 &  6.6 \\\\\n",
      "  4.02 & 16.1 \\\\\n",
      "  6.01 & 24.3 \\\\\n",
      "  8    & 33.1 \\\\\n",
      " 10.07 & 42.5 \\\\\n",
      " 12.06 & 51.3 \\\\\n",
      " 14.07 & 60.2 \\\\\n",
      " 15.98 & 69.1 \\\\\n",
      "\\bottomrule\n",
      "\\end{tabular}\n"
     ]
    }
   ],
   "source": [
    "T = np.array([V,RPM]).T\n",
    "\n",
    "print(tabulate(T, tablefmt=\"latex_booktabs\"))"
   ]
  },
  {
   "cell_type": "code",
   "execution_count": 147,
   "id": "52fb9dcc-147d-43e7-a442-f1b689082880",
   "metadata": {},
   "outputs": [
    {
     "name": "stdout",
     "output_type": "stream",
     "text": [
      "4.447785793360021 -2.2523862624395092\n",
      "0.020322678881405657 0.2058134456603811\n"
     ]
    }
   ],
   "source": [
    "def RPM_func(voltage,a,b):\n",
    "    return a*voltage + b\n",
    "\n",
    "coef, cov = curve_fit(RPM_func, V, RPM)\n",
    "\n",
    "fit_error = np.sqrt(np.diag(cov))\n",
    "\n",
    "a,b = coef\n",
    "sa,sb = fit_error\n",
    "\n",
    "print(a,b)\n",
    "print(sa,sb)"
   ]
  },
  {
   "cell_type": "code",
   "execution_count": 148,
   "id": "96220174-9808-4996-85cf-5b0640ee1238",
   "metadata": {},
   "outputs": [
    {
     "name": "stdout",
     "output_type": "stream",
     "text": [
      "0.02\n",
      "4.448\n",
      "$(4.448\\pm0.02)$~$ot \\cdot V^{-1} \\cdot min^{-1}$\n",
      "0.2\n",
      "-2.3\n",
      "$(-2.3\\pm0.2)$~ot/min\n"
     ]
    }
   ],
   "source": [
    "chyba = np.round(sa, 3)  # zaporna hodnota udava pocet desetinnych mist\n",
    "print(chyba)\n",
    "\n",
    "hodnota = np.round(a, 3)\n",
    "print(hodnota)\n",
    "\n",
    "jednotka = '$ot \\cdot V^{-1} \\cdot min^{-1}$'\n",
    "vysledek = '$({}\\pm{})$~{}'.format(hodnota, chyba, jednotka)  # funkce format vlozi promenne do sloznych zavorek {}\n",
    "print(vysledek)\n",
    "\n",
    "chyba = np.round(sb, 1)  # zaporna hodnota udava pocet desetinnych mist\n",
    "print(chyba)\n",
    "\n",
    "hodnota = np.round(b, 1)\n",
    "print(hodnota)\n",
    "\n",
    "jednotka = 'ot/min'\n",
    "vysledek = '$({}\\pm{})$~{}'.format(hodnota, chyba, jednotka)  # funkce format vlozi promenne do sloznych zavorek {}\n",
    "print(vysledek)"
   ]
  },
  {
   "cell_type": "code",
   "execution_count": 149,
   "id": "086d68f3-31ec-41fc-a29d-33e5ddb790b4",
   "metadata": {},
   "outputs": [
    {
     "data": {
      "image/png": "[encoded data removed]",
      "text/plain": [
       "<Figure size 576x360 with 1 Axes>"
      ]
     },
     "metadata": {
      "needs_background": "light"
     },
     "output_type": "display_data"
    }
   ],
   "source": [
    "x_range = np.linspace(0,20,100)\n",
    "\n",
    "plt.figure(figsize = (8,5))\n",
    "\n",
    "plt.scatter(V, RPM, marker = 'x', color='black', label='Naměřené hodnoty otáček')\n",
    "\n",
    "plt.plot(x_range, RPM_func(x_range,a,b), color=\"k\", linestyle='dashed', linewidth=1, label='Kalibrační křivka - fit')\n",
    "\n",
    "plt.legend(loc='lower right')\n",
    "\n",
    "#popisky os\n",
    "plt.ylabel(\"Otáčky motoru $v$ [ot $\\cdot$ V $^{-1} \\cdot$ min $^{-1}$]\", fontsize=12)\n",
    "plt.xlabel(\"Napětí $U$ [V]\", fontsize=12)\n",
    "\n",
    "\n",
    "plt.savefig('Calibration_curve.pdf')\n",
    "plt.show()"
   ]
  },
  {
   "cell_type": "markdown",
   "id": "c033a353-ed3f-4ea6-83af-9b6eb1dcdc32",
   "metadata": {
    "tags": []
   },
   "source": [
    "# **Ukol 6**"
   ]
  },
  {
   "cell_type": "code",
   "execution_count": 150,
   "id": "6b32fee9-840f-49ce-bfe3-8063594df551",
   "metadata": {},
   "outputs": [],
   "source": [
    "def rpm_to_omega(x):\n",
    "    return 2*np.pi*x/60\n"
   ]
  },
  {
   "cell_type": "code",
   "execution_count": 151,
   "id": "3cd394c8-6e2e-40a6-a2cf-7600bac42c85",
   "metadata": {},
   "outputs": [],
   "source": [
    "def forced_funkce(freq,d,omega,B):\n",
    "    return B/np.sqrt(4*(d**2)*(freq**2)+ (omega**2-freq**2)**2)\n",
    "\n",
    "def forced_funkce1(freq,omega,B):\n",
    "    return B/np.sqrt(4*(0.06515004582991206**2)*(freq**2)+ (omega**2-freq**2)**2)\n",
    "\n",
    "def forced_funkce2(freq,omega,B):\n",
    "    return B/np.sqrt(4*(0.08716939970413233**2)*(freq**2)+ (omega**2-freq**2)**2)\n",
    "\n",
    "def forced_funkce3(freq,omega,B):\n",
    "    return B/np.sqrt(4*(0.2474341792948645**2)*(freq**2)+ (omega**2-freq**2)**2)"
   ]
  },
  {
   "cell_type": "markdown",
   "id": "a6591884-ae74-43cc-b9c3-c2bc73615931",
   "metadata": {
    "tags": []
   },
   "source": [
    "### Bez útlumu"
   ]
  },
  {
   "cell_type": "code",
   "execution_count": 152,
   "id": "ab9d82e9-628a-4ac1-943e-5bfc7d8bf9bc",
   "metadata": {},
   "outputs": [],
   "source": [
    "########## BUDE TO JESTE DVAKRAT, amplitude1/2/3 je max. amplituda pro mereni a V1/2/3 je napeti pro dane amplitudy ############### \n",
    "V1 =         np.array([4.42,5.20,5.67,6.57,7.22,7.66,7.89,8.01,8.19,8.55]) ##u 8.8 nepresne, protoze kyvadlo nemuze kmitad dal kvuli zarazce\n",
    "amplitude1 = np.array([0.187,0.251,0.284,0.335,0.419,0.595,0.737,0.847,1.199,2.683])\n",
    "\n",
    "frequency1 = rpm_to_omega(RPM_func(V1,a,b))\n",
    "frequency1_normalised = frequency1/w0"
   ]
  },
  {
   "cell_type": "code",
   "execution_count": 153,
   "id": "3689da04-1461-4d87-9efd-087837405b37",
   "metadata": {},
   "outputs": [
    {
     "name": "stdout",
     "output_type": "stream",
     "text": [
      "\\begin{tabular}{rrr}\n",
      "\\toprule\n",
      " 4.42 & 1.82 & 0.187 \\\\\n",
      " 5.2  & 2.19 & 0.251 \\\\\n",
      " 5.67 & 2.41 & 0.284 \\\\\n",
      " 6.57 & 2.82 & 0.335 \\\\\n",
      " 7.22 & 3.13 & 0.419 \\\\\n",
      " 7.66 & 3.33 & 0.595 \\\\\n",
      " 7.89 & 3.44 & 0.737 \\\\\n",
      " 8.01 & 3.49 & 0.847 \\\\\n",
      " 8.19 & 3.58 & 1.199 \\\\\n",
      " 8.55 & 3.75 & 2.683 \\\\\n",
      "\\bottomrule\n",
      "\\end{tabular}\n"
     ]
    }
   ],
   "source": [
    "T = np.array([V1,np.round(frequency1,2),amplitude1]).T\n",
    "print(tabulate(T, tablefmt=\"latex_booktabs\"))"
   ]
  },
  {
   "cell_type": "code",
   "execution_count": 154,
   "id": "96afe4f2-c396-45f8-abd5-c28af9fb9326",
   "metadata": {},
   "outputs": [
    {
     "name": "stdout",
     "output_type": "stream",
     "text": [
      "0.08370457943776459 3.806074720530212 2.072072380277003\n",
      "0.009379133421408373 0.022928018552040814 0.13532358619553309\n"
     ]
    }
   ],
   "source": [
    "coef, cov = curve_fit(forced_funkce, frequency1, amplitude1,p0=[0.065,3.7385,4])\n",
    "fit_error = np.sqrt(np.diag(cov))\n",
    "\n",
    "d1,omega1,B1 = coef\n",
    "sd1,somega1,sB1 = fit_error\n",
    "\n",
    "print(d1,omega1,B1)\n",
    "print(sd1,somega1,sB1)"
   ]
  },
  {
   "cell_type": "markdown",
   "id": "8b43211d-7f60-4bc2-8da4-60973b551008",
   "metadata": {
    "tags": []
   },
   "source": [
    "### Slabý útlum 0.42A"
   ]
  },
  {
   "cell_type": "code",
   "execution_count": 155,
   "id": "7afd9003-9165-40dc-840a-cb7dbc2c2400",
   "metadata": {},
   "outputs": [],
   "source": [
    "V2 = np.array([11.62,10.6,9.6,8.75,8.19,7.95,7.43,7.04,6.04] ) ##u 8.8 nepresne, protoze kyvadlo nemuze kmitad dal kvuli zarazce\n",
    "amplitude2 = np.array([0.126,0.163,0.270,1.067,1.544,0.982,0.592,0.402,0.311])\n",
    "frequency2 = rpm_to_omega(RPM_func(V2,a,b))\n",
    "frequency2_normalised = frequency2/w0"
   ]
  },
  {
   "cell_type": "code",
   "execution_count": 156,
   "id": "1ba8f4f2-4353-4e07-b353-31f216aa0b4f",
   "metadata": {},
   "outputs": [
    {
     "name": "stdout",
     "output_type": "stream",
     "text": [
      "\\begin{tabular}{rrr}\n",
      "\\toprule\n",
      " 11.62 & 5.18 & 0.126 \\\\\n",
      " 10.6  & 4.7  & 0.163 \\\\\n",
      "  9.6  & 4.24 & 0.27  \\\\\n",
      "  8.75 & 3.84 & 1.067 \\\\\n",
      "  8.19 & 3.58 & 1.544 \\\\\n",
      "  7.95 & 3.47 & 0.982 \\\\\n",
      "  7.43 & 3.22 & 0.592 \\\\\n",
      "  7.04 & 3.04 & 0.402 \\\\\n",
      "  6.04 & 2.58 & 0.311 \\\\\n",
      "\\bottomrule\n",
      "\\end{tabular}\n"
     ]
    }
   ],
   "source": [
    "T = np.array([V2,np.round(frequency2,2),amplitude2]).T\n",
    "print(tabulate(T, tablefmt=\"latex_booktabs\"))"
   ]
  },
  {
   "cell_type": "code",
   "execution_count": 157,
   "id": "be741596-03cb-45ee-add5-a3ac20d63a01",
   "metadata": {},
   "outputs": [
    {
     "name": "stdout",
     "output_type": "stream",
     "text": [
      "0.12280775981255007 3.6678037459115584 1.6817651291671787\n",
      "0.014959256444152878 0.008611694963082242 0.09029889136373379\n"
     ]
    }
   ],
   "source": [
    "coef, cov = curve_fit(forced_funkce, frequency2, amplitude2,p0=[0.0871,3.7385,1.2])\n",
    "fit_error = np.sqrt(np.diag(cov))\n",
    "\n",
    "d2,omega2,B2 = coef\n",
    "sd2,somega2,sB2 = fit_error\n",
    "\n",
    "print(d2,omega2,B2)\n",
    "print(sd2,somega2,sB2)"
   ]
  },
  {
   "cell_type": "markdown",
   "id": "835555ff-70b2-47f1-b097-510dc61a056d",
   "metadata": {
    "tags": []
   },
   "source": [
    "### Silný útlum 1.42A"
   ]
  },
  {
   "cell_type": "code",
   "execution_count": 158,
   "id": "59197f4e-83a7-4cd0-a6b2-85b44017028c",
   "metadata": {},
   "outputs": [],
   "source": [
    "V3 = np.array([6.3,7.24,7.54,7.87,8.12,8.53,8.93,9.47,10.18,11.36,12.30]) ##u 8.8 nepresne, protoze kyvadlo nemuze kmitad dal kvuli zarazce\n",
    "amplitude3 = np.array([0.115,0.207,0.3,0.380,0.551,0.62,0.434,0.256,0.201,0.129,0.104])\n",
    "frequency3 = rpm_to_omega(RPM_func(V3,a,b))\n",
    "frequency3_normalised = frequency3/w0"
   ]
  },
  {
   "cell_type": "code",
   "execution_count": 159,
   "id": "380811da-65df-4063-b36f-c4ed6b951684",
   "metadata": {},
   "outputs": [
    {
     "name": "stdout",
     "output_type": "stream",
     "text": [
      "\\begin{tabular}{rrr}\n",
      "\\toprule\n",
      "  6.3  & 2.7  & 0.115 \\\\\n",
      "  7.24 & 3.14 & 0.207 \\\\\n",
      "  7.54 & 3.28 & 0.3   \\\\\n",
      "  7.87 & 3.43 & 0.38  \\\\\n",
      "  8.12 & 3.55 & 0.551 \\\\\n",
      "  8.53 & 3.74 & 0.62  \\\\\n",
      "  8.93 & 3.92 & 0.434 \\\\\n",
      "  9.47 & 4.17 & 0.256 \\\\\n",
      " 10.18 & 4.51 & 0.201 \\\\\n",
      " 11.36 & 5.06 & 0.129 \\\\\n",
      " 12.3  & 5.49 & 0.104 \\\\\n",
      "\\bottomrule\n",
      "\\end{tabular}\n"
     ]
    }
   ],
   "source": [
    "T = np.array([V3,np.round(frequency3,2),amplitude3]).T\n",
    "print(tabulate(T, tablefmt=\"latex_booktabs\"))"
   ]
  },
  {
   "cell_type": "code",
   "execution_count": 160,
   "id": "0a679b62-82b0-4f09-a9ce-3436b8877798",
   "metadata": {},
   "outputs": [
    {
     "name": "stdout",
     "output_type": "stream",
     "text": [
      "0.2163667023869766 3.7187071108607515 1.0215000922132067\n",
      "0.022930613536597727 0.01947100249478399 0.07407329711234176\n"
     ]
    }
   ],
   "source": [
    "coef, cov = curve_fit(forced_funkce, frequency3, amplitude3,p0=[0.247,3.7385,1.1])\n",
    "fit_error = np.sqrt(np.diag(cov))\n",
    "\n",
    "d3,omega3,B3 = coef\n",
    "sd3,somega3,sB3 = fit_error\n",
    "\n",
    "print(d3,omega3,B3)\n",
    "print(sd3,somega3,sB3)"
   ]
  },
  {
   "cell_type": "markdown",
   "id": "6ffb7096-5e1f-493c-902a-1e4ce113e38d",
   "metadata": {
    "jp-MarkdownHeadingCollapsed": true,
    "tags": []
   },
   "source": [
    "### Graf"
   ]
  },
  {
   "cell_type": "code",
   "execution_count": 108,
   "id": "dbc6cca5-3778-4b60-b4e8-fa0eb0423ed2",
   "metadata": {},
   "outputs": [
    {
     "data": {
      "image/png": "[encoded data removed]",
      "text/plain": [
       "<Figure size 576x360 with 1 Axes>"
      ]
     },
     "metadata": {
      "needs_background": "light"
     },
     "output_type": "display_data"
    }
   ],
   "source": [
    "x_range = np.linspace(1.7,5.6,500)\n",
    "\n",
    "plt.figure(figsize = (8,5))\n",
    "\n",
    "plt.scatter(frequency1,amplitude1, marker = 'x', color='black', label='Netlumené kmity')\n",
    "plt.scatter(frequency2,amplitude2, marker = '+', color='black', label='Slabě tlumené kmity')\n",
    "plt.scatter(frequency3,amplitude3, marker = '.', color='black', label='Silně tlumené kmity')\n",
    "\n",
    "plt.plot(x_range, forced_funkce(x_range, d1,omega1,B1), color=\"k\", linestyle='dashed', linewidth=1, label='Netlumené kmity fit')\n",
    "plt.plot(x_range, forced_funkce(x_range, d2,omega2,B2), color=\"k\", linestyle='dotted', linewidth=1, label='Slabě tlumené kmity fit')\n",
    "plt.plot(x_range, forced_funkce(x_range, d3,omega3,B3), color=\"k\", linestyle='dashdot', linewidth=1, label='Silně tlumené kmity')\n",
    "\n",
    "plt.legend(loc='upper left')\n",
    "\n",
    "#popisky os\n",
    "plt.ylabel(\"Amplituda kyvadla $A$ [rad]\", fontsize=12)\n",
    "plt.xlabel(\"Frekvence budící síly $\\Omega$ [s$^{-1}$]\", fontsize=12)\n",
    "\n",
    "\n",
    "plt.savefig('Resonance_curve.pdf')\n",
    "plt.show()"
   ]
  },
  {
   "cell_type": "code",
   "execution_count": 114,
   "id": "d0410dde-1d21-4d6a-995f-e3a877b42ac7",
   "metadata": {},
   "outputs": [
    {
     "name": "stdout",
     "output_type": "stream",
     "text": [
      "Vysledna zprumerovana frekvence:  3.739275963344364\n",
      "Chyba:  0.5773502691896258\n"
     ]
    }
   ],
   "source": [
    "k = np.array([3.814867633819167,3.6757341529385594,3.727226103275367])\n",
    "#k_err = np.array([0.022987008832927945,0.008662225912303222,0.01970941048765986])\n",
    "k_err = np.array([1,1,1])\n",
    "\n",
    "m,n = weighted_error(k,k_err)\n",
    "\n",
    "print(\"Vysledna zprumerovana frekvence: \" , m)\n",
    "print(\"Chyba: \" , n )"
   ]
  },
  {
   "cell_type": "code",
   "execution_count": 115,
   "id": "d3bfbabc-19d4-4673-86c7-780f35e69980",
   "metadata": {},
   "outputs": [
    {
     "data": {
      "text/plain": [
       "3.743460850460599"
      ]
     },
     "execution_count": 115,
     "metadata": {},
     "output_type": "execute_result"
    }
   ],
   "source": [
    "w0 ####   w0 z ukolu 1 pro porovnani"
   ]
  },
  {
   "cell_type": "code",
   "execution_count": null,
   "id": "d85269f3-a8b1-48c6-a3b3-fdae9d821644",
   "metadata": {},
   "outputs": [],
   "source": []
  }
 ],
 "metadata": {
  "kernelspec": {
   "display_name": "Python 3 (ipykernel)",
   "language": "python",
   "name": "python3"
  },
  "language_info": {
   "codemirror_mode": {
    "name": "ipython",
    "version": 3
   },
   "file_extension": ".py",
   "mimetype": "text/x-python",
   "name": "python",
   "nbconvert_exporter": "python",
   "pygments_lexer": "ipython3",
   "version": "3.8.7"
  }
 },
 "nbformat": 4,
 "nbformat_minor": 5
}
