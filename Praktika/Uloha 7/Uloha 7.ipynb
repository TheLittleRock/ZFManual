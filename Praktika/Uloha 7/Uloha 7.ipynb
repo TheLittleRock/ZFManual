{
 "cells": [
  {
   "cell_type": "code",
   "execution_count": 2,
   "id": "f181f2c9-a207-4862-9a88-e067e4f5f09c",
   "metadata": {},
   "outputs": [],
   "source": [
    "import numpy as np\n",
    "import sympy as smp\n",
    "import matplotlib.pyplot as plt\n",
    "from scipy.optimize import curve_fit\n",
    "from scipy.integrate import cumulative_trapezoid\n",
    "from tabulate import tabulate\n",
    "import matplotlib\n",
    "import piecewise_regression\n",
    "import json"
   ]
  },
  {
   "cell_type": "code",
   "execution_count": 3,
   "id": "8322fa36-14f2-43e4-b2f0-0517b716ab01",
   "metadata": {},
   "outputs": [],
   "source": [
    "def mean(arr):\n",
    "    return np.mean(arr)\n",
    "\n",
    "def error(x):\n",
    "    return x.std() / np.sqrt(x.size)\n",
    "\n",
    "def weighted_error(x, err):\n",
    "    \n",
    "    x = np.asarray(x)\n",
    "    err = np.asarray(err)\n",
    "    \n",
    "    average = np.sum(x/(err**2))/np.sum(1/err**2)\n",
    "    \n",
    "    average_error = 1/np.sqrt(np.sum(1/err**2))\n",
    "    \n",
    "    return average, average_error\n",
    "\n",
    "def decimal(x):\n",
    "    return x.replace(',', '.').encode()\n",
    "\n",
    "def sum_err(x,sx):\n",
    "    return np.sum(x),np.sqrt(np.sum([np.sum(i**2) for i in sx])) \n",
    "\n",
    "def diff_err(x,sx):\n",
    "    return x[0]-x[1],np.sqrt(np.sum([np.sum(i**2) for i in sx])) \n",
    "\n",
    "def times_err(x,sx):\n",
    "    return np.prod(x), np.prod(x)*np.sqrt(np.sum([np.sum((i/j)**2) for i,j in zip(sx,x)]))\n",
    "\n",
    "#def frac_err(x,sx):\n",
    "#    return x[0]/x[1], x[0]/x[1]*np.sqrt(np.sum((sx/x)**2))\n",
    "\n",
    "def frac_err(x,sx):\n",
    "    return x[0]/x[1], x[0]/x[1]*np.sqrt(np.sum([np.sum((i/j)**2) for i,j in zip(sx,x)]))\n",
    "    #return [np.sum((i/j)**2) for i,j in zip(sx,x)]"
   ]
  },
  {
   "cell_type": "code",
   "execution_count": 229,
   "id": "0cdbf26c-01e0-4771-b822-3a853e729047",
   "metadata": {},
   "outputs": [],
   "source": [
    "matplotlib.use(\"pgf\")\n",
    "matplotlib.rcParams.update({\n",
    "    \"pgf.texsystem\": \"pdflatex\",\n",
    "    'font.family': 'serif',\n",
    "    'text.usetex': True,\n",
    "    'pgf.rcfonts': False,\n",
    "})"
   ]
  },
  {
   "cell_type": "markdown",
   "id": "ca93edde-f449-419e-b0dc-a8a7611d2911",
   "metadata": {
    "tags": []
   },
   "source": [
    "# ULOHA 1"
   ]
  },
  {
   "cell_type": "markdown",
   "id": "eeed4b95-7560-4133-91be-546e0f6d0db9",
   "metadata": {
    "tags": []
   },
   "source": [
    "## DATA"
   ]
  },
  {
   "cell_type": "code",
   "execution_count": 271,
   "id": "d85c91a4-c280-4096-bce4-d3dca3afe4b0",
   "metadata": {},
   "outputs": [
    {
     "data": {
      "text/plain": [
       "(array([2.2837, 2.1772, 2.1994, 1.4929, 1.5003, 4.1292]),\n",
       " array([0.7527, 0.7546, 0.7318, 0.4373, 0.4441, 1.2487]),\n",
       " array([14.12, 21.8 , 14.89,  9.15, 61.76, 18.85]))"
      ]
     },
     "execution_count": 271,
     "metadata": {},
     "output_type": "execute_result"
    }
   ],
   "source": [
    "sigv = 72.75 ###lih 22,55 10^-3 N/m\n",
    "m = 55.1729\n",
    "mv = np.array([57.4566,57.3501,57.3723,56.6658,56.6732,59.3021]) - m\n",
    "smv = 0.08\n",
    "ml = np.array([55.9256,55.9275,55.9047,55.6102,55.6170,56.4216]) - m \n",
    "sml = 0.02\n",
    "tl = np.array([14.12,21.8,14.89,9.15,61.76,18.85])\n",
    "k = np.array([30,30,30,20,20,50])\n",
    "mv,ml,tl"
   ]
  },
  {
   "cell_type": "markdown",
   "id": "2f7dd8a5-4884-4c6f-a37f-24cfe2e138f2",
   "metadata": {
    "tags": []
   },
   "source": [
    "## Korekce na odparovani"
   ]
  },
  {
   "cell_type": "code",
   "execution_count": 272,
   "id": "5ec280c9-bfd9-4af5-b4bb-e3cc8ef8fd82",
   "metadata": {},
   "outputs": [],
   "source": [
    "def linear(x,a,b):\n",
    "    return a*x + b"
   ]
  },
  {
   "cell_type": "code",
   "execution_count": 273,
   "id": "072ae7ea-7388-4718-b2a0-dc1199ebf691",
   "metadata": {},
   "outputs": [
    {
     "data": {
      "text/plain": [
       "(1.8571428535698408e-05, 1.904762035772481e-05)"
      ]
     },
     "execution_count": 273,
     "metadata": {},
     "output_type": "execute_result"
    }
   ],
   "source": [
    "t = np.array([0,10,20,30,40,50])\n",
    "m = np.array([0,0.0002,0.0004,0.0006,0.0008,0.0009])\n",
    "\n",
    "params,err = curve_fit(linear, t,m)\n",
    "\n",
    "a,b = params\n",
    "a,b"
   ]
  },
  {
   "cell_type": "code",
   "execution_count": 274,
   "id": "dd52eea0-3f8c-4616-805a-f544b68f224d",
   "metadata": {},
   "outputs": [
    {
     "name": "stderr",
     "output_type": "stream",
     "text": [
      "C:\\Users\\stepa\\AppData\\Local\\Temp/ipykernel_1316/1283002651.py:21: UserWarning: Matplotlib is currently using pgf, which is a non-GUI backend, so cannot show the figure.\n",
      "  plt.show()\n"
     ]
    },
    {
     "data": {
      "image/png": "[encoded data removed]",
      "text/plain": [
       "<Figure size 576x360 with 1 Axes>"
      ]
     },
     "metadata": {
      "needs_background": "light"
     },
     "output_type": "display_data"
    }
   ],
   "source": [
    "x_range = np.linspace(0,60,50)\n",
    "\n",
    "plt.figure(figsize = (8,5))\n",
    "\n",
    "\n",
    "plt.scatter(t,m*10**3,color = 'k',marker='x',label = 'Naměřená závislost hmotnosti odpařeného lihu na čase')\n",
    "plt.plot(x_range,linear(x_range,a,b)*10**3, color = 'k', linestyle = 'dashed', label = \"Fit naměřené závislosti: \\n\" + r\"$m = 1.9 \\times 10^{-5} t + 1.9 \\times 10^{-5}$\")\n",
    "\n",
    "#plt.legend(loc='upper left', fontsize=11)\n",
    "\n",
    "handles, labels = plt.gca().get_legend_handles_labels()\n",
    "order = [1,0]\n",
    "plt.legend([handles[idx] for idx in order],[labels[idx] for idx in order], loc='upper left', fontsize=10)\n",
    "\n",
    "\n",
    "#popisky os\n",
    "plt.ylabel(\"$m$ \" + r\"[$\\times 10^{-3}$ g]\", fontsize=12)\n",
    "plt.xlabel(\"$t$ [s]\", fontsize=12)\n",
    "\n",
    "plt.savefig('odparovani.pdf', bbox_inches = 'tight')\n",
    "plt.show()"
   ]
  },
  {
   "cell_type": "markdown",
   "id": "0ca0603e-a869-4faa-9118-f9d9f9898dad",
   "metadata": {
    "tags": []
   },
   "source": [
    "## Tabulky"
   ]
  },
  {
   "cell_type": "code",
   "execution_count": 275,
   "id": "1283da04-e2fe-48e2-b970-7e27880b96ff",
   "metadata": {},
   "outputs": [
    {
     "name": "stdout",
     "output_type": "stream",
     "text": [
      "\\begin{tabular}{rrrr}\n",
      "\\toprule\n",
      " 30 & 2.2837 & 0.7527 & 14.12 \\\\\n",
      " 30 & 2.1772 & 0.7546 & 21.8  \\\\\n",
      " 30 & 2.1994 & 0.7318 & 14.89 \\\\\n",
      " 20 & 1.4929 & 0.4373 &  9.15 \\\\\n",
      " 20 & 1.5003 & 0.4441 & 61.76 \\\\\n",
      " 50 & 4.1292 & 1.2487 & 18.85 \\\\\n",
      "\\bottomrule\n",
      "\\end{tabular}\n"
     ]
    }
   ],
   "source": [
    "T = np.array([k, mv,ml,tl]).T\n",
    "\n",
    "print(tabulate(T, tablefmt=\"latex_booktabs\"))"
   ]
  },
  {
   "cell_type": "code",
   "execution_count": 276,
   "id": "e6e2bf4e-7c08-47ae-ad04-7437263f936e",
   "metadata": {},
   "outputs": [
    {
     "name": "stdout",
     "output_type": "stream",
     "text": [
      "\\begin{tabular}{rr}\n",
      "\\toprule\n",
      "  0 & 0      \\\\\n",
      " 10 & 0.0002 \\\\\n",
      " 20 & 0.0004 \\\\\n",
      " 30 & 0.0006 \\\\\n",
      " 40 & 0.0008 \\\\\n",
      " 50 & 0.0009 \\\\\n",
      "\\bottomrule\n",
      "\\end{tabular}\n"
     ]
    }
   ],
   "source": [
    "T = np.array([t, m]).T\n",
    "\n",
    "print(tabulate(T, tablefmt=\"latex_booktabs\"))"
   ]
  },
  {
   "cell_type": "code",
   "execution_count": 277,
   "id": "6ed92af0-58ab-41a2-b1c4-f9783ddb715d",
   "metadata": {},
   "outputs": [
    {
     "name": "stdout",
     "output_type": "stream",
     "text": [
      "\\begin{tabular}{rrrrr}\n",
      "\\toprule\n",
      " 30 & 23.9692 & 1.05388  & 23.9782 & 1.05427  \\\\\n",
      " 30 & 25.2004 & 1.14173  & 25.2146 & 1.14237  \\\\\n",
      " 30 & 24.1961 & 1.10085  & 24.2059 & 1.10129  \\\\\n",
      " 20 & 21.3007 & 1.50065  & 21.3099 & 1.50129  \\\\\n",
      " 20 & 21.478  & 1.49907  & 21.5345 & 1.50302  \\\\\n",
      " 50 & 21.9936 & 0.552865 & 22.0001 & 0.553028 \\\\\n",
      "\\bottomrule\n",
      "\\end{tabular}\n"
     ]
    }
   ],
   "source": [
    "T = np.array([k, sigl_arr, sigl_err, sigl2_arr, sigl2_err]).T\n",
    "\n",
    "print(tabulate(T, tablefmt=\"latex_booktabs\"))"
   ]
  },
  {
   "cell_type": "markdown",
   "id": "51075902-cc42-47e0-8d29-1845e29c46ca",
   "metadata": {
    "jp-MarkdownHeadingCollapsed": true,
    "tags": []
   },
   "source": [
    "## Sigma bez korekce"
   ]
  },
  {
   "cell_type": "code",
   "execution_count": 278,
   "id": "83551337-38ff-449d-a3a7-9309473cff6a",
   "metadata": {},
   "outputs": [
    {
     "data": {
      "text/plain": [
       "(array([23.97816044, 25.21456458, 24.20589706, 21.30991694, 21.53454309,\n",
       "        22.00012714]),\n",
       " array([1.05427054, 1.14236777, 1.10129051, 1.50129418, 1.50302   ,\n",
       "        0.55302799]))"
      ]
     },
     "execution_count": 278,
     "metadata": {},
     "output_type": "execute_result"
    }
   ],
   "source": [
    "sigl2_arr = ml/mv * sigv\n",
    "sigl2_err = sigl2_arr * np.sqrt((smv/mv)**2+(sml/ml)**2)\n",
    "sigl2_arr, sigl2_err"
   ]
  },
  {
   "cell_type": "code",
   "execution_count": 279,
   "id": "6dd1bd1c-28ff-433d-bd93-a6b0f4705ef7",
   "metadata": {},
   "outputs": [
    {
     "name": "stdout",
     "output_type": "stream",
     "text": [
      "sigl = 22.83502317409475 +- 0.3878851511061697\n"
     ]
    }
   ],
   "source": [
    "sigl2, ssigl2 = weighted_error(sigl2_arr,sigl2_err)\n",
    "print('sigl = {} +- {}'.format(sigl2, ssigl2))"
   ]
  },
  {
   "cell_type": "markdown",
   "id": "024c37f2-adc0-4b99-b035-bb59586a4be6",
   "metadata": {
    "tags": []
   },
   "source": [
    "## Vypocet sigma s korekci"
   ]
  },
  {
   "cell_type": "code",
   "execution_count": 280,
   "id": "7a116fdf-dfb8-4f36-866e-caa107514706",
   "metadata": {},
   "outputs": [
    {
     "data": {
      "text/plain": [
       "(0.07570900000000007, 0.023946777777777813)"
      ]
     },
     "execution_count": 280,
     "metadata": {},
     "output_type": "execute_result"
    }
   ],
   "source": [
    "mean(mv/k), mean(ml/k)"
   ]
  },
  {
   "cell_type": "code",
   "execution_count": 281,
   "id": "af089f16-7efa-4dc9-8282-130697b291f4",
   "metadata": {},
   "outputs": [
    {
     "data": {
      "text/plain": [
       "(array([23.88855654, 25.07291902, 24.10812873, 21.2178276 , 20.96913693,\n",
       "        21.93509418]),\n",
       " array([1.05033084, 1.13595039, 1.09684236, 1.49480644, 1.46355704,\n",
       "        0.55139323]))"
      ]
     },
     "execution_count": 281,
     "metadata": {},
     "output_type": "execute_result"
    }
   ],
   "source": [
    "sigl_arr = (ml-10*linear(tl,a,b))/mv * sigv\n",
    "sigl_err = sigl_arr * np.sqrt((smv/mv)**2+(sml/ml)**2)\n",
    "sigl_arr, sigl_err"
   ]
  },
  {
   "cell_type": "code",
   "execution_count": 282,
   "id": "5b9438e6-b603-40c0-9e92-bfda2f366851",
   "metadata": {},
   "outputs": [
    {
     "name": "stdout",
     "output_type": "stream",
     "text": [
      "sigl = 22.714817306911762 +- 0.3858696290637896\n"
     ]
    }
   ],
   "source": [
    "sigl, ssigl = weighted_error(sigl_arr,sigl_err)\n",
    "print('sigl = {} +- {}'.format(sigl, ssigl))"
   ]
  },
  {
   "cell_type": "markdown",
   "id": "bc22dc4e-12d0-4166-a11e-7bde1d78fe3e",
   "metadata": {
    "tags": []
   },
   "source": [
    "# ULOHA 2"
   ]
  },
  {
   "cell_type": "markdown",
   "id": "d2deb8b8-2e53-486f-a0cb-94da1233e1f9",
   "metadata": {
    "tags": []
   },
   "source": [
    "## Lehci"
   ]
  },
  {
   "cell_type": "code",
   "execution_count": 285,
   "id": "fb3ded64-0c16-44b4-bcb6-73ad1f486c4f",
   "metadata": {},
   "outputs": [
    {
     "data": {
      "text/plain": [
       "(0.00086052, 0.00298)"
      ]
     },
     "execution_count": 285,
     "metadata": {},
     "output_type": "execute_result"
    }
   ],
   "source": [
    "r = 5.96 /2000\n",
    "sr = 0.01 / 2000\n",
    "m = (31.5619-22.9567)/10000\n",
    "sm = np.sqrt(2*0.001**2)/10000\n",
    "h = 0.6\n",
    "sh = 0.02\n",
    "T = 21.2\n",
    "sT = 0.1\n",
    "R = 1.5/100\n",
    "sR = 0.1/100\n",
    "l = 20 /100\n",
    "sl = 0.1 /100\n",
    "\n",
    "t = np.array([3.8,3.85,3.9,3.7,3.8,3.8,3.85,3.7,3.8,3.8])\n",
    "m,r"
   ]
  },
  {
   "cell_type": "code",
   "execution_count": 286,
   "id": "801c96eb-ddc0-452c-b5d3-bd84fc9a97e2",
   "metadata": {},
   "outputs": [
    {
     "data": {
      "text/plain": [
       "(0.86052, 0.0001414213562373095)"
      ]
     },
     "execution_count": 286,
     "metadata": {},
     "output_type": "execute_result"
    }
   ],
   "source": [
    "(31.5619-22.9567)/10, np.sqrt(2*0.001**2)/10"
   ]
  },
  {
   "cell_type": "code",
   "execution_count": 287,
   "id": "5692efba-cab9-4407-912a-9ee23b963c3b",
   "metadata": {},
   "outputs": [
    {
     "data": {
      "text/plain": [
       "(958.8827868067308, 4.5444681839181555)"
      ]
     },
     "execution_count": 287,
     "metadata": {},
     "output_type": "execute_result"
    }
   ],
   "source": [
    "rool = 961/(1+0.69/10**3*(T-18))\n",
    "#srool = 961*sT/(1+0.69/10**3*(T-18))**2\n",
    "srool = rool * 0.1/21.1\n",
    "rool,srool"
   ]
  },
  {
   "cell_type": "code",
   "execution_count": 288,
   "id": "3a2b2877-64a6-4fe1-a11c-c99137575007",
   "metadata": {},
   "outputs": [
    {
     "data": {
      "text/plain": [
       "(7762.89240871597, 39.09578323745299)"
      ]
     },
     "execution_count": 288,
     "metadata": {},
     "output_type": "execute_result"
    }
   ],
   "source": [
    "ro = m/(4/3 * np.pi * r**3)\n",
    "sro = ro * np.sqrt((sm/m)**2+(3*r**2*sr/r**3)**2)\n",
    "ro,sro"
   ]
  },
  {
   "cell_type": "code",
   "execution_count": 289,
   "id": "6d349f70-7f19-4c62-96b3-87f46987c495",
   "metadata": {},
   "outputs": [
    {
     "data": {
      "text/plain": [
       "(6804.009621909239, 39.359020033844274)"
      ]
     },
     "execution_count": 289,
     "metadata": {},
     "output_type": "execute_result"
    }
   ],
   "source": [
    "dro = ro - rool\n",
    "sdro = np.sqrt(sro**2 + srool**2)\n",
    "dro,sdro "
   ]
  },
  {
   "cell_type": "code",
   "execution_count": 290,
   "id": "e8435aa7-f200-4d60-a34c-89f9fed4a851",
   "metadata": {},
   "outputs": [
    {
     "data": {
      "text/plain": [
       "(0.05263157894736843, 0.00036931555750618786)"
      ]
     },
     "execution_count": 290,
     "metadata": {},
     "output_type": "execute_result"
    }
   ],
   "source": [
    "u = l/mean(t)\n",
    "su = u * np.sqrt((sl/l)**2+(error(t)/mean(t))**2)\n",
    "u,su"
   ]
  },
  {
   "cell_type": "code",
   "execution_count": 291,
   "id": "e5623889-de81-4439-8401-00ffcb4e4709",
   "metadata": {},
   "outputs": [
    {
     "data": {
      "text/plain": [
       "(1.6673450120176594, 0.1094395728319802)"
      ]
     },
     "execution_count": 291,
     "metadata": {},
     "output_type": "execute_result"
    }
   ],
   "source": [
    "n1 = (2/9) * ((9.81*r**2)/u) * dro * 1/((1 + 2.4*r/R)*(1+3.3*r/h))\n",
    "sn1 = n1 * np.sqrt((su/u)**2 + (sdro/ro)**2 + 2*(sr/r)**2 + (sr/r)**2 + (sh/h)**2 + (sR**2 + (2.4*sr)**2)/(R + 2.4*r)**2 + (sh**2 + (3.3*sr)**2)/(h + 3.3*r)**2 )\n",
    "n1,sn1"
   ]
  },
  {
   "cell_type": "code",
   "execution_count": 292,
   "id": "1bec5e48-ad9f-4f25-a819-a683d7a84e56",
   "metadata": {},
   "outputs": [
    {
     "data": {
      "text/plain": [
       "(2.5026927862620036, 0.02246506789030281)"
      ]
     },
     "execution_count": 292,
     "metadata": {},
     "output_type": "execute_result"
    }
   ],
   "source": [
    "n1b = (2/9) * ((9.81*r**2)/u) * dro\n",
    "sn1b = n1b * np.sqrt((su/u)**2 + (sdro/ro)**2 + 2*(sr/r)**2)\n",
    "n1b,sn1b"
   ]
  },
  {
   "cell_type": "markdown",
   "id": "fade9cf2-eb25-4bb1-b8fc-9b5b062b76e0",
   "metadata": {
    "tags": []
   },
   "source": [
    "## Tezsi"
   ]
  },
  {
   "cell_type": "code",
   "execution_count": 301,
   "id": "55f9209a-e395-419f-8de6-7eec0c92562c",
   "metadata": {},
   "outputs": [
    {
     "data": {
      "text/plain": [
       "(0.0004394599999999997, 0.0023599999999999997)"
      ]
     },
     "execution_count": 301,
     "metadata": {},
     "output_type": "execute_result"
    }
   ],
   "source": [
    "r = 4.72 /2000\n",
    "sr = 0.01 / 2000\n",
    "m = (33.8212-29.4266)/10000\n",
    "sm = np.sqrt(2*0.001**2)/10000\n",
    "h = 0.6\n",
    "sh = 0.02\n",
    "T = 21.2\n",
    "sT = 0.1\n",
    "R = 1.5/100\n",
    "sR = 0.1/100\n",
    "l = 20 /100\n",
    "sl = 0.1 /100\n",
    "\n",
    "t = np.array([5.4,5.4,5.4,5.4,5.4,5.3,5.4,5.3,5.3,5.35])\n",
    "m,r"
   ]
  },
  {
   "cell_type": "code",
   "execution_count": 303,
   "id": "659a051a-0aa8-4f48-8507-124b1e600532",
   "metadata": {},
   "outputs": [
    {
     "name": "stdout",
     "output_type": "stream",
     "text": [
      "\\begin{tabular}{rrrrrrrrrr}\n",
      "\\toprule\n",
      " 5.4 & 5.4 & 5.4 & 5.4 & 5.4 & 5.3 & 5.4 & 5.3 & 5.3 & 5.35 \\\\\n",
      "\\bottomrule\n",
      "\\end{tabular}\n"
     ]
    }
   ],
   "source": [
    "T = np.array([t])\n",
    "\n",
    "print(tabulate(T, tablefmt=\"latex_booktabs\"))"
   ]
  },
  {
   "cell_type": "code",
   "execution_count": 294,
   "id": "f3c9f324-df2e-400b-b7c3-5b45d274f332",
   "metadata": {},
   "outputs": [
    {
     "data": {
      "text/plain": [
       "(958.8827868067308, 4.5444681839181555)"
      ]
     },
     "execution_count": 294,
     "metadata": {},
     "output_type": "execute_result"
    }
   ],
   "source": [
    "rool = 961/(1+0.69/10**3*(T-18))\n",
    "#srool = 961*sT/(1+0.69/10**3*(T-18))**2\n",
    "srool = rool * 0.1/21.1\n",
    "rool,srool"
   ]
  },
  {
   "cell_type": "code",
   "execution_count": 295,
   "id": "6860f43f-4bcc-42e8-b4c8-1a3558ed6e91",
   "metadata": {},
   "outputs": [
    {
     "data": {
      "text/plain": [
       "(7981.687737727147, 50.796048973453836)"
      ]
     },
     "execution_count": 295,
     "metadata": {},
     "output_type": "execute_result"
    }
   ],
   "source": [
    "ro = m/(4/3 * np.pi * r**3)\n",
    "sro = ro * np.sqrt((sm/m)**2+(3*r**2*sr/r**3)**2)\n",
    "ro,sro"
   ]
  },
  {
   "cell_type": "code",
   "execution_count": 296,
   "id": "bace4ade-1993-42ac-971d-4d32415c3aaf",
   "metadata": {},
   "outputs": [
    {
     "data": {
      "text/plain": [
       "(7022.804950920416, 50.99892922785894)"
      ]
     },
     "execution_count": 296,
     "metadata": {},
     "output_type": "execute_result"
    }
   ],
   "source": [
    "dro = ro - rool\n",
    "sdro = np.sqrt(sro**2 + srool**2)\n",
    "dro,sdro "
   ]
  },
  {
   "cell_type": "code",
   "execution_count": 297,
   "id": "471f0cfb-5460-4202-bb17-0265f8e5ca95",
   "metadata": {},
   "outputs": [
    {
     "data": {
      "text/plain": [
       "(0.037278657968313145, 0.00021099637371308337)"
      ]
     },
     "execution_count": 297,
     "metadata": {},
     "output_type": "execute_result"
    }
   ],
   "source": [
    "u = l/mean(t)\n",
    "su = u * np.sqrt((sl/l)**2+(error(t)/mean(t))**2)\n",
    "u,su"
   ]
  },
  {
   "cell_type": "code",
   "execution_count": 298,
   "id": "2197531a-d7f5-40a6-9c14-a951a4b8aa51",
   "metadata": {},
   "outputs": [
    {
     "data": {
      "text/plain": [
       "(1.6391052142508158, 0.11144119721969763)"
      ]
     },
     "execution_count": 298,
     "metadata": {},
     "output_type": "execute_result"
    }
   ],
   "source": [
    "n2 = (2/9) * ((9.81*r**2)/u) * dro * 1/((1 + 2.4*r/R)*(1+3.3*r/h))\n",
    "sn2 = n2 * np.sqrt((su/u)**2 + (sdro/ro)**2 + 2*(sr/r)**2 + (sr/r)**2 + (sh/h)**2 + (sR**2 + (2.4*sr)**2)/(R + 2.4*r)**2 + (sh**2 + (3.3*sr)**2)/(h + 3.3*r)**2 )\n",
    "n2, sn2"
   ]
  },
  {
   "cell_type": "code",
   "execution_count": 299,
   "id": "96eaa550-e8c8-4f1d-a1f0-e1e6859c7c54",
   "metadata": {},
   "outputs": [
    {
     "data": {
      "text/plain": [
       "(2.2873405899860355, 0.020692312594124317)"
      ]
     },
     "execution_count": 299,
     "metadata": {},
     "output_type": "execute_result"
    }
   ],
   "source": [
    "n2b = (2/9) * ((9.81*r**2)/u) * dro\n",
    "sn2b = n2b * np.sqrt((su/u)**2 + (sdro/ro)**2 + 2*(sr/r)**2)\n",
    "n2b,sn2b"
   ]
  },
  {
   "cell_type": "markdown",
   "id": "16d90957-3c86-45e5-9ddc-a6cf330cfd1b",
   "metadata": {
    "tags": []
   },
   "source": [
    "## Tabuka"
   ]
  },
  {
   "cell_type": "code",
   "execution_count": 300,
   "id": "276d064b-922c-431b-a831-c82131015f7d",
   "metadata": {},
   "outputs": [
    {
     "name": "stdout",
     "output_type": "stream",
     "text": [
      "Tezsi kulicka bez korekce: 2.5026927862620036 +- 0.02246506789030281\n",
      "Lehci kulicka bez korekce: 2.2873405899860355 +- 0.020692312594124317\n",
      "Tezsi kulicka s korekci: 1.6673450120176594 +- 0.1094395728319802\n",
      "Lehci kulicka s korekci: 1.6391052142508158 +- 0.11144119721969763\n"
     ]
    }
   ],
   "source": [
    "print('Tezsi kulicka bez korekce: {} +- {}'.format(n1b,sn1b))\n",
    "print('Lehci kulicka bez korekce: {} +- {}'.format(n2b,sn2b))\n",
    "print('Tezsi kulicka s korekci: {} +- {}'.format(n1,sn1))\n",
    "print('Lehci kulicka s korekci: {} +- {}'.format(n2,sn2))"
   ]
  },
  {
   "cell_type": "code",
   "execution_count": null,
   "id": "56137667-3c35-4f4d-b758-ae47825049f6",
   "metadata": {},
   "outputs": [],
   "source": []
  }
 ],
 "metadata": {
  "kernelspec": {
   "display_name": "Python 3 (ipykernel)",
   "language": "python",
   "name": "python3"
  },
  "language_info": {
   "codemirror_mode": {
    "name": "ipython",
    "version": 3
   },
   "file_extension": ".py",
   "mimetype": "text/x-python",
   "name": "python",
   "nbconvert_exporter": "python",
   "pygments_lexer": "ipython3",
   "version": "3.8.7"
  }
 },
 "nbformat": 4,
 "nbformat_minor": 5
}
