{
 "cells": [
  {
   "cell_type": "markdown",
   "id": "7672b12f-5da7-405a-b8e6-4296cebf4535",
   "metadata": {
    "tags": []
   },
   "source": [
    "# IMPORT"
   ]
  },
  {
   "cell_type": "code",
   "execution_count": 96,
   "id": "17a81ab3-f57e-4641-a766-da43633e6e62",
   "metadata": {},
   "outputs": [],
   "source": [
    "import numpy as np\n",
    "import sympy as smp\n",
    "import matplotlib.pyplot as plt\n",
    "from scipy.optimize import curve_fit\n",
    "from tabulate import tabulate\n",
    "import matplotlib\n",
    "import piecewise_regression\n",
    "import json"
   ]
  },
  {
   "cell_type": "code",
   "execution_count": 97,
   "id": "8711cf41-b24a-4758-b1fd-898909572ee1",
   "metadata": {},
   "outputs": [],
   "source": [
    "def mean(arr):\n",
    "    return np.mean(arr)\n",
    "\n",
    "def error(x):\n",
    "    return x.std() / np.sqrt(x.size)\n",
    "\n",
    "def weighted_error(x, err):\n",
    "    \n",
    "    x = np.asarray(x)\n",
    "    err = np.asarray(err)\n",
    "    \n",
    "    average = np.sum(x/(err**2))/np.sum(1/err**2)\n",
    "    \n",
    "    average_error = 1/np.sqrt(np.sum(1/err**2))\n",
    "    \n",
    "    return average, average_error\n",
    "\n",
    "def decimal(x):\n",
    "    return x.replace(',', '.').encode()\n"
   ]
  },
  {
   "cell_type": "code",
   "execution_count": 19,
   "id": "1d5714ed-2eb4-42ed-a4a3-a6b14ce9c6b7",
   "metadata": {},
   "outputs": [],
   "source": [
    "matplotlib.use(\"pgf\")\n",
    "matplotlib.rcParams.update({\n",
    "    \"pgf.texsystem\": \"pdflatex\",\n",
    "    'font.family': 'serif',\n",
    "    'text.usetex': True,\n",
    "    'pgf.rcfonts': False,\n",
    "})"
   ]
  },
  {
   "cell_type": "code",
   "execution_count": 98,
   "id": "7aa1becd-d8d6-4b63-8f49-76f1c5b29e16",
   "metadata": {},
   "outputs": [],
   "source": [
    "def load_position(name):\n",
    "    t,pos = np.genfromtxt((decimal(x) for x in open(name)),unpack = True, skip_header=2)\n",
    "    return t, pos"
   ]
  },
  {
   "cell_type": "code",
   "execution_count": 99,
   "id": "7d5103b5-7258-4d3c-bc8d-c54c7112489b",
   "metadata": {},
   "outputs": [],
   "source": [
    "data = {}"
   ]
  },
  {
   "cell_type": "markdown",
   "id": "acf44db9-539b-4c1e-89ea-c278b32676d3",
   "metadata": {
    "tags": []
   },
   "source": [
    "## ENERGIE, CHYBA FUNKCE"
   ]
  },
  {
   "cell_type": "code",
   "execution_count": 228,
   "id": "73443a77-df5e-482f-bbbf-ed1af3a86210",
   "metadata": {},
   "outputs": [],
   "source": [
    "def E(m,v):\n",
    "    return 0.5*m*v**2\n",
    "\n",
    "def p(m,v):\n",
    "    return m*v\n",
    "\n",
    "def sp(m,sm,v,sv):\n",
    "    return np.sqrt((v*sm)**2 + (m*sv)**2)\n",
    "\n",
    "def sE(m,sm,v,sv):\n",
    "    return np.sqrt((0.5*v*v*sm)**2 + (m*v*sv)**2)"
   ]
  },
  {
   "cell_type": "markdown",
   "id": "238dfa16-7c8e-4860-8a9c-b42393adb369",
   "metadata": {
    "jp-MarkdownHeadingCollapsed": true,
    "tags": []
   },
   "source": [
    "# LEHKA -> TEZKA"
   ]
  },
  {
   "cell_type": "markdown",
   "id": "fa8e0b8e-e725-4c1b-b9be-e7e0a8c66224",
   "metadata": {
    "jp-MarkdownHeadingCollapsed": true,
    "tags": []
   },
   "source": [
    "## FIT"
   ]
  },
  {
   "cell_type": "code",
   "execution_count": 101,
   "id": "cfd026bb-0f19-45d0-a192-a670d3f1e2d0",
   "metadata": {},
   "outputs": [
    {
     "name": "stdout",
     "output_type": "stream",
     "text": [
      "_____________________________\n",
      "Lehka, sila 1:\n",
      "v1: 0.28904038768457674 +- 0.0029260622465634165\n",
      "v2: -0.04761351319649128 +- 0.0028225024252755675\n",
      "u: -0.21594951693147335 +- 0.0025690299837702753\n",
      "_____________________________\n",
      "Lehka, sila 2:\n",
      "v1: 0.5065490934259574 +- 0.008991569542857488\n",
      "v2: -0.060553668914934355 +- 0.0020679785898994143\n",
      "u: -0.41890842575539466 +- 0.007239815165586296\n",
      "_____________________________\n",
      "Lehka, sila 3:\n",
      "v1: 0.7117616228396361 +- 0.004210051397802069\n",
      "v2: -0.08856761420902783 +- 0.001300987222126859\n",
      "u: -0.5884407320688381 +- 0.0031484000521447408\n"
     ]
    }
   ],
   "source": [
    "data_lehka = {}\n",
    "data_lehka_raw = {}\n",
    "\n",
    "for j in range(3):\n",
    "       \n",
    "    v1 = []\n",
    "    v2 = []\n",
    "    u = []\n",
    "\n",
    "    for i in range(10):\n",
    "\n",
    "        time1,pos1 = load_position(\"data/lehka_sila{}/pos1_{}.txt\".format(j+1,i+1))\n",
    "        time2,pos2 = load_position(\"data/lehka_sila{}/pos2_{}.txt\".format(j+1,i+1))\n",
    "        d_pos1 = np.gradient(pos1,time1)\n",
    "        d_pos2 = np.gradient(pos2,time2)\n",
    "\n",
    "        if d_pos1[-3] < -0.1:\n",
    "            pw_fit1 = piecewise_regression.Fit(time1, pos1, n_breakpoints=1)\n",
    "        \n",
    "        elif d_pos1[-3] > 0.1:\n",
    "            pw_fit1 = piecewise_regression.Fit(time1, pos1, n_breakpoints=2)\n",
    "        \n",
    "        else:\n",
    "            pw_fit1 = piecewise_regression.Fit(time1, pos1, n_breakpoints=3)\n",
    "            \n",
    "            \n",
    "        if d_pos2[-3] > 0.1:\n",
    "            pw_fit2 = piecewise_regression.Fit(time2, pos2, n_breakpoints=1)\n",
    "        \n",
    "        elif d_pos2[-3] < -0.035:\n",
    "            pw_fit2 = piecewise_regression.Fit(time2, pos2, n_breakpoints=2)\n",
    "        \n",
    "        else:\n",
    "            pw_fit2 = piecewise_regression.Fit(time2, pos2, n_breakpoints=3)\n",
    "            \n",
    "\n",
    "        u.append(pw_fit1.get_results()['estimates']['alpha2']['estimate'])\n",
    "        v1.append(pw_fit2.get_results()['estimates']['alpha2']['estimate'])\n",
    "        v2.append(pw_fit2.get_results()['estimates']['alpha3']['estimate'])\n",
    "\n",
    "\n",
    "    v1 = np.array(v1)\n",
    "    v2 = np.array(v2)\n",
    "    u = np.array(u)\n",
    "\n",
    "    print(\"_____________________________\")\n",
    "    print(\"Lehka, sila {}:\".format(j+1))\n",
    "    print(\"v1: {} +- {}\".format(mean(v1), error(v1)))\n",
    "    #print(v1)\n",
    "    print(\"v2: {} +- {}\".format(mean(v2), error(v2)))\n",
    "    #print(v2)\n",
    "    print(\"u: {} +- {}\".format(mean(u), error(u)))\n",
    "    #print(u)\n",
    "    \n",
    "    data_lehka[\"sila{}\".format(j+1)] = { \"v1\": [mean(v1), error(v1)], \"v2\": [mean(v2), error(v2)], \"u\": [mean(u), error(u)] }\n",
    "    data_lehka_raw[\"sila{}\".format(j+1)] = { \"v1\": v1, \"v2\": v2, \"u\": u }"
   ]
  },
  {
   "cell_type": "code",
   "execution_count": 102,
   "id": "221672ad-c6f0-4378-9cc5-f9cfba724219",
   "metadata": {},
   "outputs": [
    {
     "name": "stdout",
     "output_type": "stream",
     "text": [
      "{'v1': [0.28904038768457674, 0.0029260622465634165], 'v2': [-0.04761351319649128, 0.0028225024252755675], 'u': [-0.21594951693147335, 0.0025690299837702753]}\n",
      "----------------------------------------------------------------------------------------------------------------------------------------------------------\n",
      "{'v1': [0.5065490934259574, 0.008991569542857488], 'v2': [-0.060553668914934355, 0.0020679785898994143], 'u': [-0.41890842575539466, 0.007239815165586296]}\n",
      "----------------------------------------------------------------------------------------------------------------------------------------------------------\n",
      "{'v1': [0.7117616228396361, 0.004210051397802069], 'v2': [-0.08856761420902783, 0.001300987222126859], 'u': [-0.5884407320688381, 0.0031484000521447408]}\n"
     ]
    }
   ],
   "source": [
    "print(data_lehka['sila1'])\n",
    "print('----------------------------------------------------------------------------------------------------------------------------------------------------------')\n",
    "print(data_lehka['sila2'])\n",
    "print('----------------------------------------------------------------------------------------------------------------------------------------------------------')\n",
    "print(data_lehka['sila3'])\n",
    "#print (json.dumps(data_lehka, indent=2))"
   ]
  },
  {
   "cell_type": "markdown",
   "id": "c6b0feca-4f96-4ba9-b7c5-8738c9c955d5",
   "metadata": {
    "jp-MarkdownHeadingCollapsed": true,
    "tags": []
   },
   "source": [
    "## NACTENI DAT ZE SLOVNIKU"
   ]
  },
  {
   "cell_type": "code",
   "execution_count": 193,
   "id": "e9f53d33-51ac-42df-8f65-78cded34fcd0",
   "metadata": {},
   "outputs": [
    {
     "name": "stdout",
     "output_type": "stream",
     "text": [
      "[0.28904039 0.50654909 0.71176162]\n",
      "[0.00292606 0.00899157 0.00421005]\n",
      "[0.01012337 0.01775064 0.00591497]\n",
      "[-0.04761351 -0.06055367 -0.08856761]\n",
      "[0.0028225  0.00206798 0.00130099]\n",
      "[0.05927944 0.03415117 0.0146892 ]\n",
      "[0.21594952 0.41890843 0.58844073]\n",
      "[0.00256903 0.00723982 0.0031484 ]\n"
     ]
    }
   ],
   "source": [
    "v1 = []\n",
    "v2 = []\n",
    "sv1 = []\n",
    "sv2 = []\n",
    "u = []\n",
    "su = []\n",
    "\n",
    "for value in data_lehka.values():\n",
    "    v1.append(value['v1'][0])\n",
    "    sv1.append(value['v1'][1])\n",
    "    v2.append(value['v2'][0])\n",
    "    sv2.append(value['v2'][1])\n",
    "    u.append(value['u'][0])\n",
    "    su.append(value['u'][1])\n",
    "    \n",
    "    \n",
    "v1 = np.array(v1)\n",
    "v2 = np.array(v2)\n",
    "sv1 = np.array(sv1)\n",
    "sv2 = np.array(sv2)\n",
    "u = np.array(u)\n",
    "su = np.array(su)\n",
    "\n",
    "sv1_rel = sv1/v1\n",
    "sv2_rel = np.abs(sv2/v2)\n",
    "u = -u\n",
    "\n",
    "\n",
    "print(v1)\n",
    "print(sv1)\n",
    "print(sv1_rel)\n",
    "print(v2)\n",
    "print(sv2)\n",
    "print(sv2_rel)\n",
    "print(u)\n",
    "print(su)"
   ]
  },
  {
   "cell_type": "code",
   "execution_count": 194,
   "id": "d3036f44-3307-496a-8706-aba1c26382e3",
   "metadata": {},
   "outputs": [],
   "source": [
    "data['lehka'] = {}\n",
    "data['lehka']['v1'] = v1 \n",
    "data['lehka']['sv1'] = sv1 \n",
    "data['lehka']['v2'] = v2\n",
    "data['lehka']['sv2'] = sv2 \n",
    "data['lehka']['u'] = u\n",
    "data['lehka']['su'] = su \n",
    "\n",
    "#print(data)"
   ]
  },
  {
   "cell_type": "markdown",
   "id": "ebf5f61a-d769-4f7c-a692-5d668aa134f0",
   "metadata": {
    "jp-MarkdownHeadingCollapsed": true,
    "tags": []
   },
   "source": [
    "## TABULKA"
   ]
  },
  {
   "cell_type": "code",
   "execution_count": 195,
   "id": "387eceec-681e-4348-a191-728d3250920b",
   "metadata": {},
   "outputs": [],
   "source": [
    "impuls = np.array([1,2,3])"
   ]
  },
  {
   "cell_type": "code",
   "execution_count": 196,
   "id": "4358839a-c6f9-46b0-8b8c-a48a17612979",
   "metadata": {},
   "outputs": [
    {
     "name": "stdout",
     "output_type": "stream",
     "text": [
      "\\begin{tabular}{rrrrrrr}\n",
      "\\toprule\n",
      " 1 & 0.289 & 0.003 & -0.048 & 0.003 & 0.216 & 0.003 \\\\\n",
      " 2 & 0.507 & 0.009 & -0.061 & 0.002 & 0.419 & 0.007 \\\\\n",
      " 3 & 0.712 & 0.004 & -0.089 & 0.001 & 0.588 & 0.003 \\\\\n",
      "\\bottomrule\n",
      "\\end{tabular}\n"
     ]
    }
   ],
   "source": [
    "T = np.array([impuls,\n",
    "              v1.round(3),\n",
    "              sv1.round(3),\n",
    "              v2.round(3),\n",
    "              sv2.round(3),\n",
    "              u.round(3),\n",
    "              su.round(3)]).T\n",
    "\n",
    "print(tabulate(T, tablefmt=\"latex_booktabs\"))"
   ]
  },
  {
   "cell_type": "code",
   "execution_count": 199,
   "id": "e5b1f361-a0bf-4e89-8b00-2c22d67f9aeb",
   "metadata": {},
   "outputs": [
    {
     "name": "stdout",
     "output_type": "stream",
     "text": [
      "{'sila1': {'v1': array([0.2884654 , 0.2941071 , 0.29238126, 0.29456094, 0.26239202,\n",
      "       0.29319352, 0.29374622, 0.2950154 , 0.28930312, 0.28723889]), 'v2': array([-0.0552019 , -0.06970058, -0.04481713, -0.03942379, -0.03528604,\n",
      "       -0.0446716 , -0.04537762, -0.04531013, -0.04662626, -0.04972009]), 'u': array([-0.21638729, -0.20635363, -0.21198846, -0.23266194, -0.20259211,\n",
      "       -0.22202137, -0.21983237, -0.22064642, -0.21554971, -0.21146187])}, 'sila2': {'v1': array([0.44108404, 0.46652675, 0.5110757 , 0.50251548, 0.52629691,\n",
      "       0.51066318, 0.53398787, 0.52136365, 0.52956332, 0.52241404]), 'v2': array([-0.04736119, -0.05037668, -0.06306772, -0.06072471, -0.06693541,\n",
      "       -0.06115022, -0.06457606, -0.06897382, -0.06389946, -0.0584714 ]), 'u': array([-0.36765124, -0.38605083, -0.42493088, -0.41488208, -0.43769071,\n",
      "       -0.41959604, -0.43789445, -0.42587744, -0.44208189, -0.43242869])}, 'sila3': {'v1': array([0.72840468, 0.70038494, 0.70085437, 0.71691747, 0.71914779,\n",
      "       0.70721815, 0.71094304, 0.72758192, 0.72236479, 0.68379907]), 'v2': array([-0.0863125 , -0.08439029, -0.08219228, -0.08840716, -0.08572548,\n",
      "       -0.094549  , -0.09006369, -0.08763152, -0.09036271, -0.0960415 ]), 'u': array([-0.59737147, -0.57667429, -0.57390038, -0.59930375, -0.58670004,\n",
      "       -0.59487006, -0.58589421, -0.59896215, -0.59683594, -0.57389504])}}\n"
     ]
    }
   ],
   "source": [
    "print(data_lehka_raw)"
   ]
  },
  {
   "cell_type": "code",
   "execution_count": 200,
   "id": "a0f8cafa-32f7-4d2f-99c8-ee3a4c4dd8e1",
   "metadata": {},
   "outputs": [
    {
     "name": "stdout",
     "output_type": "stream",
     "text": [
      "\\begin{tabular}{rrr}\n",
      "\\toprule\n",
      " 0.2885 & -0.0552 & -0.2164 \\\\\n",
      " 0.2941 & -0.0697 & -0.2064 \\\\\n",
      " 0.2924 & -0.0448 & -0.212  \\\\\n",
      " 0.2946 & -0.0394 & -0.2327 \\\\\n",
      " 0.2624 & -0.0353 & -0.2026 \\\\\n",
      " 0.2932 & -0.0447 & -0.222  \\\\\n",
      " 0.2937 & -0.0454 & -0.2198 \\\\\n",
      " 0.295  & -0.0453 & -0.2206 \\\\\n",
      " 0.2893 & -0.0466 & -0.2155 \\\\\n",
      " 0.2872 & -0.0497 & -0.2115 \\\\\n",
      "\\bottomrule\n",
      "\\end{tabular}\n"
     ]
    }
   ],
   "source": [
    "###### SILA 1 #########\n",
    "tab = data_lehka_raw['sila1']\n",
    "T = np.array([tab['v1'],tab['v2'],tab['u']]).T.round(4)\n",
    "\n",
    "print(tabulate(T, tablefmt=\"latex_booktabs\"))"
   ]
  },
  {
   "cell_type": "code",
   "execution_count": 201,
   "id": "73b94434-c50b-44fd-89d9-58651dc07a37",
   "metadata": {},
   "outputs": [
    {
     "name": "stdout",
     "output_type": "stream",
     "text": [
      "\\begin{tabular}{rrr}\n",
      "\\toprule\n",
      " 0.4411 & -0.0474 & -0.3677 \\\\\n",
      " 0.4665 & -0.0504 & -0.3861 \\\\\n",
      " 0.5111 & -0.0631 & -0.4249 \\\\\n",
      " 0.5025 & -0.0607 & -0.4149 \\\\\n",
      " 0.5263 & -0.0669 & -0.4377 \\\\\n",
      " 0.5107 & -0.0612 & -0.4196 \\\\\n",
      " 0.534  & -0.0646 & -0.4379 \\\\\n",
      " 0.5214 & -0.069  & -0.4259 \\\\\n",
      " 0.5296 & -0.0639 & -0.4421 \\\\\n",
      " 0.5224 & -0.0585 & -0.4324 \\\\\n",
      "\\bottomrule\n",
      "\\end{tabular}\n"
     ]
    }
   ],
   "source": [
    "###### SILA 2 #########\n",
    "tab = data_lehka_raw['sila2']\n",
    "T = np.array([tab['v1'],tab['v2'],tab['u']]).T.round(4)\n",
    "\n",
    "print(tabulate(T, tablefmt=\"latex_booktabs\"))"
   ]
  },
  {
   "cell_type": "code",
   "execution_count": 203,
   "id": "4ce0cd69-8247-4624-aba4-beba3a9bb7c3",
   "metadata": {},
   "outputs": [
    {
     "name": "stdout",
     "output_type": "stream",
     "text": [
      "\\begin{tabular}{rrr}\n",
      "\\toprule\n",
      " 0.7284 & -0.0863 & -0.5974 \\\\\n",
      " 0.7004 & -0.0844 & -0.5767 \\\\\n",
      " 0.7009 & -0.0822 & -0.5739 \\\\\n",
      " 0.7169 & -0.0884 & -0.5993 \\\\\n",
      " 0.7191 & -0.0857 & -0.5867 \\\\\n",
      " 0.7072 & -0.0945 & -0.5949 \\\\\n",
      " 0.7109 & -0.0901 & -0.5859 \\\\\n",
      " 0.7276 & -0.0876 & -0.599  \\\\\n",
      " 0.7224 & -0.0904 & -0.5968 \\\\\n",
      " 0.6838 & -0.096  & -0.5739 \\\\\n",
      "\\bottomrule\n",
      "\\end{tabular}\n"
     ]
    }
   ],
   "source": [
    "###### SILA 3 #########\n",
    "tab = data_lehka_raw['sila3']\n",
    "T = np.array([tab['v1'],tab['v2'],tab['u']]).T.round(4)\n",
    "\n",
    "print(tabulate(T, tablefmt=\"latex_booktabs\"))"
   ]
  },
  {
   "cell_type": "markdown",
   "id": "6c65c41f-cebf-4184-a982-6ca23c4fcd38",
   "metadata": {
    "jp-MarkdownHeadingCollapsed": true,
    "tags": []
   },
   "source": [
    "## GRAF CHYB"
   ]
  },
  {
   "cell_type": "code",
   "execution_count": 105,
   "id": "5493dafb-799e-4db7-b685-29874aa923c2",
   "metadata": {},
   "outputs": [
    {
     "name": "stderr",
     "output_type": "stream",
     "text": [
      "C:\\Users\\stepa\\AppData\\Local\\Temp/ipykernel_18976/3471250974.py:16: UserWarning: Matplotlib is currently using pgf, which is a non-GUI backend, so cannot show the figure.\n",
      "  plt.show()\n"
     ]
    },
    {
     "data": {
      "image/png": "[encoded data removed]",
      "text/plain": [
       "<Figure size 288x288 with 1 Axes>"
      ]
     },
     "metadata": {
      "needs_background": "light"
     },
     "output_type": "display_data"
    }
   ],
   "source": [
    "plt.figure(figsize = (4,4))\n",
    "\n",
    "plt.scatter(v1, sv1_rel, marker = 'x', color='black', label='Relativní chyba rychlosti')\n",
    "plt.scatter(v1, sv1, marker = '+', color='black', label='Absolutní chyba rychlosti')\n",
    "\n",
    "plt.legend(loc='lower center', fontsize=10)\n",
    "#plt.legend(fontsize=8)\n",
    "\n",
    "#popisky os\n",
    "plt.ylabel(\"$\\sigma_v$ [m$\\cdot$s$^{-1}$] / $\\delta_{v} $ [-]\", fontsize=12)\n",
    "plt.xlabel(\"$v$ [m$\\cdot$s$^{-1}$]\", fontsize=12)\n",
    "\n",
    "\n",
    "\n",
    "plt.savefig('lehky_err.pdf', bbox_inches = 'tight')\n",
    "plt.show()"
   ]
  },
  {
   "cell_type": "markdown",
   "id": "13bad967-cff9-4047-98ae-59a9612669c2",
   "metadata": {
    "jp-MarkdownHeadingCollapsed": true,
    "tags": []
   },
   "source": [
    "## CHYBA ENERGIE A HYBNOSTI"
   ]
  },
  {
   "cell_type": "markdown",
   "id": "0b5f8d2d-a2c5-47b7-8a85-29aa20467c88",
   "metadata": {
    "jp-MarkdownHeadingCollapsed": true,
    "tags": []
   },
   "source": [
    "### Vypocet"
   ]
  },
  {
   "cell_type": "code",
   "execution_count": 204,
   "id": "15a26818-647e-48b4-a981-1e72f54714c1",
   "metadata": {},
   "outputs": [],
   "source": [
    "m2 = 313.56\n",
    "sm2 = 0.02\n",
    "m1 = 251.39\n",
    "sm1 = 0.02"
   ]
  },
  {
   "cell_type": "code",
   "execution_count": 210,
   "id": "ec85b950-d800-4074-975f-48f2129ff619",
   "metadata": {},
   "outputs": [
    {
     "name": "stdout",
     "output_type": "stream",
     "text": [
      "---------------------------------------------------------------------------------------------------------\n",
      "Hybnost tezsiho pred srazkou: [ 72.66186306 127.3413766  178.92975437] +- [0.7356055  2.26041337 1.05846055]\n",
      "Hybnost tezsiho po srazce   : [-11.96956108 -15.22258683 -22.26501254] +- [0.70954952 0.51987055 0.32705997]\n",
      "Hybnost lehciho po srazce   : [ 67.71313053 131.35292598 184.51147595] +- [0.80555662 2.2701319  0.98728247]\n",
      "---------------------------------------------------------------------------------------------------------\n",
      "---------------------------------------------------------------------------------------------------------\n",
      "Energie tezsiho pred srazkou: [10.50110653 32.25232944 63.67766617] +- [0.21261478 1.14500172 0.7533205 ]\n",
      "Energie tezsiho po srazce   : [0.28495643 0.46089174 0.98597952] +- [0.03378412 0.03148    0.0289666 ]\n",
      "Energie lehciho po srazce   : [ 7.31130891 27.51242372 54.28703399] +- [0.17395769 0.95097252 0.58092626]\n",
      "---------------------------------------------------------------------------------------------------------\n",
      "---------------------------------------------------------------------------------------------------------\n",
      "Energie pred srazkou: [10.50110653 32.25232944 63.67766617] +- [0.21261478 1.14500172 0.7533205 ]\n",
      "Energie po srazce   : [ 7.59626534 27.97331546 55.27301351] +- [0.17720791 0.95149342 0.58164799]\n",
      "---------------------------------------------------------------------------------------------------------\n",
      "---------------------------------------------------------------------------------------------------------\n",
      "Hybnost pred srazkou: [ 72.66186306 127.3413766  178.92975437] +- [0.7356055  2.26041337 1.05846055]\n",
      "Hybnost po srazce   : [ 55.74356945 116.13033915 162.24646341] +- [1.07349057 2.32889765 1.04004562]\n"
     ]
    }
   ],
   "source": [
    "E10 = E(m1, v1)\n",
    "sE10 = sE(m1, sm1, v1, sv1)\n",
    "E11 = E(m1, v2)\n",
    "sE11 = sE(m1, sm1, v2, sv2)\n",
    "E20 = 0 \n",
    "E21 = E(m2, u)\n",
    "sE21 = sE(m2, sm2, u, su)\n",
    "\n",
    "E1 = E10\n",
    "E2 = E11 + E21\n",
    "sE1 = sE10\n",
    "sE2 = np.sqrt(sE11**2 + sE21**2)\n",
    " \n",
    "\n",
    "p10 = p(m1, v1)\n",
    "sp10 = sp(m1, sm1, v1, sv1)\n",
    "p11 = p(m1, v2)\n",
    "sp11 = sp(m1, sm1, v2, sv2)\n",
    "p20 = 0 \n",
    "p21 = p(m2, u)\n",
    "sp21 = sp(m2, sm2, u, su)\n",
    "\n",
    "p1 = p10\n",
    "p2 = p11 + p21\n",
    "sp1 = sp10\n",
    "sp2 = np.sqrt(sp11**2 + sp21**2)\n",
    "\n",
    "sp = np.sqrt(sp1**2 + sp2**2)\n",
    "sE = np.sqrt(sE1**2 + sE2**2)\n",
    "\n",
    "print(\"---------------------------------------------------------------------------------------------------------\")\n",
    "print(\"Hybnost tezsiho pred srazkou: {} +- {}\".format(p10,sp10))\n",
    "print(\"Hybnost tezsiho po srazce   : {} +- {}\".format(p11,sp11))\n",
    "print(\"Hybnost lehciho po srazce   : {} +- {}\".format(p21,sp21))\n",
    "print(\"---------------------------------------------------------------------------------------------------------\")\n",
    "print(\"---------------------------------------------------------------------------------------------------------\")\n",
    "print(\"Energie tezsiho pred srazkou: {} +- {}\".format(E10,sE10))\n",
    "print(\"Energie tezsiho po srazce   : {} +- {}\".format(E11,sE11))\n",
    "print(\"Energie lehciho po srazce   : {} +- {}\".format(E21,sE21))\n",
    "print(\"---------------------------------------------------------------------------------------------------------\")\n",
    "print(\"---------------------------------------------------------------------------------------------------------\")\n",
    "print(\"Energie pred srazkou: {} +- {}\".format(E1,sE1))\n",
    "print(\"Energie po srazce   : {} +- {}\".format(E2,sE2))\n",
    "print(\"---------------------------------------------------------------------------------------------------------\")\n",
    "print(\"---------------------------------------------------------------------------------------------------------\")\n",
    "print(\"Hybnost pred srazkou: {} +- {}\".format(p1,sp1))\n",
    "print(\"Hybnost po srazce   : {} +- {}\".format(p2,sp2))"
   ]
  },
  {
   "cell_type": "code",
   "execution_count": 211,
   "id": "8cf697ef-074f-4dba-885b-7aee7aedd416",
   "metadata": {},
   "outputs": [
    {
     "name": "stdout",
     "output_type": "stream",
     "text": [
      "Rozdil hybnosti: [16.91829361 11.21103745 16.68329095]\n",
      "Rozdil energii:  [2.90484119 4.27901397 8.40465266]\n",
      "Rozdil hybnosti relativni: [13.00062658  3.45433904 11.24267742]\n",
      "Rozdil energii relativni:  [10.49509127  2.87423785  8.83084244]\n"
     ]
    }
   ],
   "source": [
    "print('Rozdil hybnosti: {}'.format(p1-p2))\n",
    "print('Rozdil energii:  {}'.format(E1-E2))\n",
    "print('Rozdil hybnosti relativni: {}'.format((p1-p2)/sp))\n",
    "print('Rozdil energii relativni:  {}'.format((E1-E2)/sE))"
   ]
  },
  {
   "cell_type": "markdown",
   "id": "3ac9ebc8-fc22-42b4-9bd3-d8e9e3a83de4",
   "metadata": {
    "jp-MarkdownHeadingCollapsed": true,
    "tags": []
   },
   "source": [
    "### Tabulka"
   ]
  },
  {
   "cell_type": "code",
   "execution_count": 212,
   "id": "c141a45c-70e6-4c3c-95f3-9a70fd42b375",
   "metadata": {},
   "outputs": [],
   "source": [
    "impuls = np.array([1,2,3])"
   ]
  },
  {
   "cell_type": "code",
   "execution_count": 213,
   "id": "dfe3730c-844c-4a04-a381-9ebe7c115b34",
   "metadata": {},
   "outputs": [
    {
     "name": "stdout",
     "output_type": "stream",
     "text": [
      "\\begin{tabular}{rrrrrrrrrrrrr}\n",
      "\\toprule\n",
      " 1 &  72.7 & 0.7 & -12   & 0.7 &  67.7 & 0.8 & 10.5 & 0.2 & 0.28 & 0.03 &  7.3 & 0.2 \\\\\n",
      " 2 & 127.3 & 2.3 & -15.2 & 0.5 & 131.4 & 2.3 & 32.3 & 1.1 & 0.46 & 0.03 & 27.5 & 1   \\\\\n",
      " 3 & 178.9 & 1.1 & -22.3 & 0.3 & 184.5 & 1   & 63.7 & 0.8 & 0.99 & 0.03 & 54.3 & 0.6 \\\\\n",
      "\\bottomrule\n",
      "\\end{tabular}\n"
     ]
    }
   ],
   "source": [
    "T = np.array([impuls,\n",
    "              p10.round(1),\n",
    "              sp10.round(1),\n",
    "              p11.round(1),\n",
    "              sp11.round(1),\n",
    "              p21.round(1),\n",
    "              sp21.round(1),\n",
    "              E10.round(1),\n",
    "              sE10.round(1),\n",
    "              E11.round(2),\n",
    "              sE11.round(2),\n",
    "              E21.round(1),\n",
    "              sE21.round(1)]).T\n",
    "\n",
    "print(tabulate(T, tablefmt=\"latex_booktabs\"))"
   ]
  },
  {
   "cell_type": "code",
   "execution_count": 214,
   "id": "f8dcfc6b-e351-4773-9084-ec8e4b00bb68",
   "metadata": {},
   "outputs": [
    {
     "name": "stdout",
     "output_type": "stream",
     "text": [
      "\\begin{tabular}{rrrrrrrrr}\n",
      "\\toprule\n",
      " 1 &  72.7 & 0.7 &  55.7 & 1.1 & 10.5 & 0.2 &  7.6 & 0.2 \\\\\n",
      " 2 & 127.3 & 2.3 & 116.1 & 2.3 & 32.3 & 1.1 & 28   & 1   \\\\\n",
      " 3 & 178.9 & 1.1 & 162.2 & 1   & 63.7 & 0.8 & 55.3 & 0.6 \\\\\n",
      "\\bottomrule\n",
      "\\end{tabular}\n"
     ]
    }
   ],
   "source": [
    "T = np.array([impuls,\n",
    "              p1.round(1),\n",
    "              sp1.round(1),\n",
    "              p2.round(1),\n",
    "              sp2.round(1),\n",
    "              E1.round(1),\n",
    "              sE1.round(1),\n",
    "              E2.round(1),\n",
    "              sE2.round(1)]).T\n",
    "\n",
    "print(tabulate(T, tablefmt=\"latex_booktabs\"))"
   ]
  },
  {
   "cell_type": "code",
   "execution_count": 215,
   "id": "a064b07b-2bd1-4fe1-a252-06d4af2dfffc",
   "metadata": {},
   "outputs": [
    {
     "name": "stdout",
     "output_type": "stream",
     "text": [
      "\\begin{tabular}{rrrrr}\n",
      "\\toprule\n",
      " 1 & 16.9 & 1.3 & 2.9 & 0.3 \\\\\n",
      " 2 & 11.2 & 3.2 & 4.3 & 1.5 \\\\\n",
      " 3 & 16.7 & 1.5 & 8.4 & 1   \\\\\n",
      "\\bottomrule\n",
      "\\end{tabular}\n"
     ]
    }
   ],
   "source": [
    "T = np.array([impuls,\n",
    "              (p1-p2).round(1),\n",
    "              sp.round(1),\n",
    "              (E1-E2).round(1),\n",
    "              sE.round(1)]).T\n",
    "\n",
    "print(tabulate(T, tablefmt=\"latex_booktabs\"))"
   ]
  },
  {
   "cell_type": "markdown",
   "id": "6b25c697-7bd2-47d8-9b5b-76da5b9d9ee0",
   "metadata": {
    "jp-MarkdownHeadingCollapsed": true,
    "tags": []
   },
   "source": [
    "### Grafy"
   ]
  },
  {
   "cell_type": "code",
   "execution_count": 108,
   "id": "128cfd50-4440-4068-9ffe-5eb4dc3d3387",
   "metadata": {},
   "outputs": [
    {
     "name": "stderr",
     "output_type": "stream",
     "text": [
      "C:\\Users\\stepa\\AppData\\Local\\Temp/ipykernel_18976/2205555118.py:18: UserWarning: Matplotlib is currently using pgf, which is a non-GUI backend, so cannot show the figure.\n",
      "  plt.show()\n"
     ]
    },
    {
     "data": {
      "image/png": "[encoded data removed]",
      "text/plain": [
       "<Figure size 576x360 with 1 Axes>"
      ]
     },
     "metadata": {
      "needs_background": "light"
     },
     "output_type": "display_data"
    }
   ],
   "source": [
    "plt.figure(figsize = (8,5))\n",
    "x_range = np.linspace(70,200,200)\n",
    "\n",
    "plt.scatter(p1, p2, marker = 'x', color='black', label='Naměřené hodnoty hybnosti')\n",
    "plt.plot(x_range, x_range, color=\"black\", linestyle = 'dashed', label = \"Ideální případ beze ztrát\")\n",
    "plt.errorbar(p1,p2,yerr=sp2,xerr = sp1, fmt='none', ecolor=\"k\",elinewidth=1,capsize=5)\n",
    "\n",
    "plt.legend(loc='upper left', fontsize=11)\n",
    "#plt.legend(fontsize=8)\n",
    "\n",
    "#popisky os\n",
    "plt.ylabel(\"$p'$ [g$\\cdot$m$\\cdot$s$^{-1}$]\", fontsize=12)\n",
    "plt.xlabel(\"$p$ [g$\\cdot$m$\\cdot$s$^{-1}$]\", fontsize=12)\n",
    "\n",
    "\n",
    "\n",
    "plt.savefig('lehky_hybnost.pdf', bbox_inches = 'tight')\n",
    "plt.show()"
   ]
  },
  {
   "cell_type": "code",
   "execution_count": 109,
   "id": "22fe8dbc-a7e7-41f4-8040-537b5a8cec21",
   "metadata": {},
   "outputs": [
    {
     "name": "stderr",
     "output_type": "stream",
     "text": [
      "C:\\Users\\stepa\\AppData\\Local\\Temp/ipykernel_18976/4284634619.py:18: UserWarning: Matplotlib is currently using pgf, which is a non-GUI backend, so cannot show the figure.\n",
      "  plt.show()\n"
     ]
    },
    {
     "data": {
      "image/png": "[encoded data removed]",
      "text/plain": [
       "<Figure size 576x360 with 1 Axes>"
      ]
     },
     "metadata": {
      "needs_background": "light"
     },
     "output_type": "display_data"
    }
   ],
   "source": [
    "plt.figure(figsize = (8,5))\n",
    "x_range = np.linspace(0,65,200)\n",
    "\n",
    "plt.scatter(E1, E2, marker = 'x', color='black', label='Naměřené hodnoty energie')\n",
    "plt.plot(x_range, x_range, color=\"black\", linestyle = 'dashed', label = \"ideální případ beze ztrát\")\n",
    "plt.errorbar(E1,E2,yerr=sE2,xerr = sE1, fmt='none', ecolor=\"k\",elinewidth=1,capsize=5)\n",
    "\n",
    "plt.legend(loc='upper left', fontsize=11)\n",
    "#plt.legend(fontsize=8)\n",
    "\n",
    "#popisky os\n",
    "plt.ylabel(\"$E'$ [g$\\cdot$m$^2\\cdot$s$^{-2}$]\", fontsize=12)\n",
    "plt.xlabel(\"$E$ [g$\\cdot$m$^2\\cdot$s$^{-2}$]\", fontsize=12)\n",
    "\n",
    "\n",
    "\n",
    "plt.savefig('lehky_energie.pdf', bbox_inches = 'tight')\n",
    "plt.show()"
   ]
  },
  {
   "cell_type": "code",
   "execution_count": null,
   "id": "c83c80d6-879f-4b7c-be2d-0dc6fd21e177",
   "metadata": {},
   "outputs": [],
   "source": []
  },
  {
   "cell_type": "markdown",
   "id": "43ddfb75-6c12-4711-aeca-f45689f292b8",
   "metadata": {
    "jp-MarkdownHeadingCollapsed": true,
    "tags": []
   },
   "source": [
    "# TEZKA -> LEHKA"
   ]
  },
  {
   "cell_type": "markdown",
   "id": "556a686a-0a93-4b92-adca-f0900083e364",
   "metadata": {
    "jp-MarkdownHeadingCollapsed": true,
    "tags": []
   },
   "source": [
    "## Data"
   ]
  },
  {
   "cell_type": "code",
   "execution_count": 110,
   "id": "1d9842ea-72c6-47cd-be0c-e0e8ab736e37",
   "metadata": {},
   "outputs": [
    {
     "name": "stdout",
     "output_type": "stream",
     "text": [
      "_____________________________\n",
      "Tezka, sila 1:\n",
      "v1: 0.2560735558012579 +- 0.0013637483666224884\n",
      "v2: 0.017041032804865085 +- 0.0015200788836809847\n",
      "u: -0.26665584394300335 +- 0.0036717146942157296\n",
      "_____________________________\n",
      "Tezka, sila 2:\n",
      "v1: 0.47679159819767036 +- 0.0015872060939202102\n",
      "v2: 0.04014969497784393 +- 0.0022383643476326445\n",
      "u: -0.48624042906912895 +- 0.002436123425452769\n",
      "_____________________________\n",
      "Tezka, sila 3:\n",
      "v1: 0.6304102204585948 +- 0.0038623054150631136\n",
      "v2: 0.06518393561454093 +- 0.001400347315674031\n",
      "u: -0.6594297178339459 +- 0.004576487347098499\n"
     ]
    }
   ],
   "source": [
    "data_tezka = {}\n",
    "data_tezka_raw = {}\n",
    "\n",
    "for j in range(3):\n",
    "       \n",
    "    v1 = []\n",
    "    v2 = []\n",
    "    u = []\n",
    "\n",
    "    for i in range(10):\n",
    "        \n",
    "        if i == 7 and j == 0:\n",
    "            continue\n",
    "            \n",
    "        if i == 4 and j == 2:\n",
    "            continue\n",
    "\n",
    "        time1,pos1 = load_position(\"data/tezka_sila{}/pos1_{}.txt\".format(j+1,i+1))\n",
    "        time2,pos2 = load_position(\"data/tezka_sila{}/pos2_{}.txt\".format(j+1,i+1))\n",
    "        d_pos1 = np.gradient(pos1,time1)\n",
    "        d_pos2 = np.gradient(pos2,time2)\n",
    "\n",
    "        if d_pos1[-3] < -0.2:\n",
    "            pw_fit1 = piecewise_regression.Fit(time1, pos1, n_breakpoints=1)\n",
    "        \n",
    "        elif d_pos1[-3] > 0.1:\n",
    "            pw_fit1 = piecewise_regression.Fit(time1, pos1, n_breakpoints=2)\n",
    "        \n",
    "        else:\n",
    "            pw_fit1 = piecewise_regression.Fit(time1, pos1, n_breakpoints=3)\n",
    "            \n",
    "            \n",
    "        if d_pos2[-3] < 0:\n",
    "            pw_fit2 = piecewise_regression.Fit(time2, pos2, n_breakpoints=3)\n",
    "        \n",
    "        else:\n",
    "            pw_fit2 = piecewise_regression.Fit(time2, pos2, n_breakpoints=2)\n",
    "        \n",
    "        \n",
    "        u.append(pw_fit1.get_results()['estimates']['alpha2']['estimate'])\n",
    "        v1.append(pw_fit2.get_results()['estimates']['alpha2']['estimate'])\n",
    "        v2.append(pw_fit2.get_results()['estimates']['alpha3']['estimate'])\n",
    "\n",
    "\n",
    "    v1 = np.array(v1)\n",
    "    v2 = np.array(v2)\n",
    "    u = np.array(u)\n",
    "\n",
    "    print(\"_____________________________\")\n",
    "    print(\"Tezka, sila {}:\".format(j+1))\n",
    "    print(\"v1: {} +- {}\".format(mean(v1), error(v1)))\n",
    "    #print(v1)\n",
    "    print(\"v2: {} +- {}\".format(mean(v2), error(v2)))\n",
    "    #print(v2)\n",
    "    print(\"u: {} +- {}\".format(mean(u), error(u)))\n",
    "    #print(u)\n",
    "    \n",
    "    data_tezka[\"sila{}\".format(j+1)] = { \"v1\": [mean(v1), error(v1)], \"v2\": [mean(v2), error(v2)], \"u\": [mean(u), error(u)] }\n",
    "    data_tezka_raw[\"sila{}\".format(j+1)] = { \"v1\": v1, \"v2\": v2, \"u\": u }"
   ]
  },
  {
   "cell_type": "code",
   "execution_count": 216,
   "id": "40b55120-ff30-4316-975b-ce521d60b6ab",
   "metadata": {},
   "outputs": [
    {
     "name": "stdout",
     "output_type": "stream",
     "text": [
      "{'v1': [0.2560735558012579, 0.0013637483666224884], 'v2': [0.017041032804865085, 0.0015200788836809847], 'u': [-0.26665584394300335, 0.0036717146942157296]}\n",
      "----------------------------------------------------------------------------------------------------------------------------------------------------------\n",
      "{'v1': [0.47679159819767036, 0.0015872060939202102], 'v2': [0.04014969497784393, 0.0022383643476326445], 'u': [-0.48624042906912895, 0.002436123425452769]}\n",
      "----------------------------------------------------------------------------------------------------------------------------------------------------------\n",
      "{'v1': [0.6304102204585948, 0.0038623054150631136], 'v2': [0.06518393561454093, 0.001400347315674031], 'u': [-0.6594297178339459, 0.004576487347098499]}\n"
     ]
    }
   ],
   "source": [
    "print(data_tezka['sila1'])\n",
    "print('----------------------------------------------------------------------------------------------------------------------------------------------------------')\n",
    "print(data_tezka['sila2'])\n",
    "print('----------------------------------------------------------------------------------------------------------------------------------------------------------')\n",
    "print(data_tezka['sila3'])\n",
    "#print (json.dumps(data_lehka, indent=2))"
   ]
  },
  {
   "cell_type": "code",
   "execution_count": 217,
   "id": "6f17c85e-c4c7-44ce-9ccf-7b8cd16de4c1",
   "metadata": {},
   "outputs": [
    {
     "name": "stdout",
     "output_type": "stream",
     "text": [
      "[0.25607356 0.4767916  0.63041022]\n",
      "[0.00136375 0.00158721 0.00386231]\n",
      "[0.00532561 0.00332893 0.00612665]\n",
      "[0.01704103 0.04014969 0.06518394]\n",
      "[0.00152008 0.00223836 0.00140035]\n",
      "[0.0892011  0.05575047 0.02148301]\n",
      "[0.26665584 0.48624043 0.65942972]\n",
      "[0.00367171 0.00243612 0.00457649]\n"
     ]
    }
   ],
   "source": [
    "v1 = []\n",
    "v2 = []\n",
    "sv1 = []\n",
    "sv2 = []\n",
    "u = []\n",
    "su = []\n",
    "\n",
    "for value in data_tezka.values():\n",
    "    v1.append(value['v1'][0])\n",
    "    sv1.append(value['v1'][1])\n",
    "    v2.append(value['v2'][0])\n",
    "    sv2.append(value['v2'][1])\n",
    "    u.append(value['u'][0])\n",
    "    su.append(value['u'][1])\n",
    "    \n",
    "    \n",
    "v1 = np.array(v1)\n",
    "v2 = np.array(v2)\n",
    "sv1 = np.array(sv1)\n",
    "sv2 = np.array(sv2)\n",
    "u = np.array(u)\n",
    "su = np.array(su)\n",
    "\n",
    "sv1_rel = sv1/v1\n",
    "sv2_rel = sv2/v2\n",
    "u = -u\n",
    "\n",
    "print(v1)\n",
    "print(sv1)\n",
    "print(sv1_rel)\n",
    "print(v2)\n",
    "print(sv2)\n",
    "print(sv2_rel)\n",
    "print(u)\n",
    "print(su)"
   ]
  },
  {
   "cell_type": "code",
   "execution_count": 218,
   "id": "98b698d5-2835-4049-992b-a73410f1287d",
   "metadata": {},
   "outputs": [],
   "source": [
    "data['tezka'] = {}\n",
    "data['tezka']['v1'] = v1 \n",
    "data['tezka']['sv1'] = sv1 \n",
    "data['tezka']['v2'] = v2\n",
    "data['tezka']['sv2'] = sv2 \n",
    "data['tezka']['u'] = u\n",
    "data['tezka']['su'] = su "
   ]
  },
  {
   "cell_type": "markdown",
   "id": "da56a0c5-45ef-43b3-8ef2-dcef2e3bdbf4",
   "metadata": {
    "jp-MarkdownHeadingCollapsed": true,
    "tags": []
   },
   "source": [
    "## TABULKA"
   ]
  },
  {
   "cell_type": "code",
   "execution_count": 219,
   "id": "cc06b2c6-206e-4fdf-beb5-5b77a8fed226",
   "metadata": {},
   "outputs": [],
   "source": [
    "impuls = np.array([1,2,3])"
   ]
  },
  {
   "cell_type": "code",
   "execution_count": 220,
   "id": "5d163657-0412-43a2-a0c7-b4a682c01530",
   "metadata": {},
   "outputs": [
    {
     "name": "stdout",
     "output_type": "stream",
     "text": [
      "\\begin{tabular}{rrrrrrr}\n",
      "\\toprule\n",
      " 1 & 0.256 & 0.001 & 0.017 & 0.002 & 0.267 & 0.004 \\\\\n",
      " 2 & 0.477 & 0.002 & 0.04  & 0.002 & 0.486 & 0.002 \\\\\n",
      " 3 & 0.63  & 0.004 & 0.065 & 0.001 & 0.659 & 0.005 \\\\\n",
      "\\bottomrule\n",
      "\\end{tabular}\n"
     ]
    }
   ],
   "source": [
    "T = np.array([impuls,\n",
    "              v1.round(3),\n",
    "              sv1.round(3),\n",
    "              v2.round(3),\n",
    "              sv2.round(3),\n",
    "              u.round(3),\n",
    "              su.round(3)]).T\n",
    "\n",
    "print(tabulate(T, tablefmt=\"latex_booktabs\"))"
   ]
  },
  {
   "cell_type": "code",
   "execution_count": 221,
   "id": "286b61d9-3e7b-47cd-92d7-3964113c310e",
   "metadata": {},
   "outputs": [
    {
     "name": "stdout",
     "output_type": "stream",
     "text": [
      "{'sila1': {'v1': array([0.24724539, 0.25441864, 0.25959436, 0.25834499, 0.25715411,\n",
      "       0.26040253, 0.25821381, 0.25119164, 0.25809654]), 'v2': array([0.01843745, 0.01803436, 0.019298  , 0.01463283, 0.01909416,\n",
      "       0.0214379 , 0.02314129, 0.00837836, 0.01091494]), 'u': array([-0.27008687, -0.27312827, -0.27635994, -0.27237342, -0.26390635,\n",
      "       -0.27546459, -0.27409884, -0.24431459, -0.25016972])}, 'sila2': {'v1': array([0.47822627, 0.47841254, 0.47476112, 0.47360215, 0.4644816 ,\n",
      "       0.47859411, 0.47657662, 0.48242919, 0.48358258, 0.47724981]), 'v2': array([0.05164201, 0.0426053 , 0.04309887, 0.02458126, 0.03334905,\n",
      "       0.03629303, 0.04620701, 0.04071118, 0.04374625, 0.03926297]), 'u': array([-0.48730435, -0.4919281 , -0.48186015, -0.4862524 , -0.4719215 ,\n",
      "       -0.48500503, -0.50227743, -0.47827047, -0.48828637, -0.48929849])}, 'sila3': {'v1': array([0.62056   , 0.60949847, 0.62556216, 0.63882833, 0.64513888,\n",
      "       0.6443184 , 0.63630226, 0.63407696, 0.61940652]), 'v2': array([0.06061416, 0.05913766, 0.06251259, 0.06289791, 0.06879727,\n",
      "       0.0640743 , 0.06771355, 0.07298413, 0.06792385]), 'u': array([-0.64059186, -0.63701637, -0.64853754, -0.66151856, -0.67459094,\n",
      "       -0.66185287, -0.67366406, -0.6760187 , -0.66107656])}}\n"
     ]
    }
   ],
   "source": [
    "print(data_tezka_raw)"
   ]
  },
  {
   "cell_type": "code",
   "execution_count": 222,
   "id": "216fd0bb-a1ab-46b9-b210-1cc54b39f0e3",
   "metadata": {},
   "outputs": [
    {
     "name": "stdout",
     "output_type": "stream",
     "text": [
      "\\begin{tabular}{rrr}\n",
      "\\toprule\n",
      " 0.2472 & 0.0184 & -0.2701 \\\\\n",
      " 0.2544 & 0.018  & -0.2731 \\\\\n",
      " 0.2596 & 0.0193 & -0.2764 \\\\\n",
      " 0.2583 & 0.0146 & -0.2724 \\\\\n",
      " 0.2572 & 0.0191 & -0.2639 \\\\\n",
      " 0.2604 & 0.0214 & -0.2755 \\\\\n",
      " 0.2582 & 0.0231 & -0.2741 \\\\\n",
      " 0.2512 & 0.0084 & -0.2443 \\\\\n",
      " 0.2581 & 0.0109 & -0.2502 \\\\\n",
      "\\bottomrule\n",
      "\\end{tabular}\n"
     ]
    }
   ],
   "source": [
    "###### SILA 1 #########\n",
    "tab = data_tezka_raw['sila1']\n",
    "T = np.array([tab['v1'],tab['v2'],tab['u']]).T.round(4)\n",
    "\n",
    "print(tabulate(T, tablefmt=\"latex_booktabs\"))"
   ]
  },
  {
   "cell_type": "code",
   "execution_count": 223,
   "id": "6c7fac1d-2b65-4029-866d-c20537a16f7d",
   "metadata": {},
   "outputs": [
    {
     "name": "stdout",
     "output_type": "stream",
     "text": [
      "\\begin{tabular}{rrr}\n",
      "\\toprule\n",
      " 0.4782 & 0.0516 & -0.4873 \\\\\n",
      " 0.4784 & 0.0426 & -0.4919 \\\\\n",
      " 0.4748 & 0.0431 & -0.4819 \\\\\n",
      " 0.4736 & 0.0246 & -0.4863 \\\\\n",
      " 0.4645 & 0.0333 & -0.4719 \\\\\n",
      " 0.4786 & 0.0363 & -0.485  \\\\\n",
      " 0.4766 & 0.0462 & -0.5023 \\\\\n",
      " 0.4824 & 0.0407 & -0.4783 \\\\\n",
      " 0.4836 & 0.0437 & -0.4883 \\\\\n",
      " 0.4772 & 0.0393 & -0.4893 \\\\\n",
      "\\bottomrule\n",
      "\\end{tabular}\n"
     ]
    }
   ],
   "source": [
    "###### SILA 2 #########\n",
    "tab = data_tezka_raw['sila2']\n",
    "T = np.array([tab['v1'],tab['v2'],tab['u']]).T.round(4)\n",
    "\n",
    "print(tabulate(T, tablefmt=\"latex_booktabs\"))"
   ]
  },
  {
   "cell_type": "code",
   "execution_count": 224,
   "id": "5294cda4-473b-48c8-9efd-0305b48abfe3",
   "metadata": {},
   "outputs": [
    {
     "name": "stdout",
     "output_type": "stream",
     "text": [
      "\\begin{tabular}{rrr}\n",
      "\\toprule\n",
      " 0.6206 & 0.0606 & -0.6406 \\\\\n",
      " 0.6095 & 0.0591 & -0.637  \\\\\n",
      " 0.6256 & 0.0625 & -0.6485 \\\\\n",
      " 0.6388 & 0.0629 & -0.6615 \\\\\n",
      " 0.6451 & 0.0688 & -0.6746 \\\\\n",
      " 0.6443 & 0.0641 & -0.6619 \\\\\n",
      " 0.6363 & 0.0677 & -0.6737 \\\\\n",
      " 0.6341 & 0.073  & -0.676  \\\\\n",
      " 0.6194 & 0.0679 & -0.6611 \\\\\n",
      "\\bottomrule\n",
      "\\end{tabular}\n"
     ]
    }
   ],
   "source": [
    "###### SILA 3 #########\n",
    "tab = data_tezka_raw['sila3']\n",
    "T = np.array([tab['v1'],tab['v2'],tab['u']]).T.round(4)\n",
    "\n",
    "print(tabulate(T, tablefmt=\"latex_booktabs\"))"
   ]
  },
  {
   "cell_type": "code",
   "execution_count": null,
   "id": "3ec3d354-8bef-43fc-ae2d-2c5dbdd2e3d8",
   "metadata": {},
   "outputs": [],
   "source": []
  },
  {
   "cell_type": "markdown",
   "id": "18a98265-7351-4da4-a669-f2cbfaafb83e",
   "metadata": {
    "jp-MarkdownHeadingCollapsed": true,
    "tags": []
   },
   "source": [
    "## Plot"
   ]
  },
  {
   "cell_type": "code",
   "execution_count": 225,
   "id": "1c4d5119-705d-4ad5-b33a-0f3e4dbc9eb7",
   "metadata": {},
   "outputs": [
    {
     "name": "stderr",
     "output_type": "stream",
     "text": [
      "C:\\Users\\stepa\\AppData\\Local\\Temp/ipykernel_18976/3858391854.py:16: UserWarning: Matplotlib is currently using pgf, which is a non-GUI backend, so cannot show the figure.\n",
      "  plt.show()\n"
     ]
    },
    {
     "data": {
      "image/png": "[encoded data removed]",
      "text/plain": [
       "<Figure size 288x288 with 1 Axes>"
      ]
     },
     "metadata": {
      "needs_background": "light"
     },
     "output_type": "display_data"
    }
   ],
   "source": [
    "plt.figure(figsize = (4,4))\n",
    "\n",
    "plt.scatter(v1, sv1_rel, marker = 'x', color='black', label='Relativní chyba rychlosti')\n",
    "plt.scatter(v1, sv1, marker = '+', color='black', label='Absolutní chyba rychlosti')\n",
    "\n",
    "plt.legend(loc='upper center', fontsize=10)\n",
    "#plt.legend(fontsize=8)\n",
    "\n",
    "#popisky os\n",
    "plt.ylabel(\"$\\sigma_v$ [m$\\cdot$s$^{-1}$] / $\\delta_{v} $ [-]\", fontsize=12)\n",
    "plt.xlabel(\"$v$ [m$\\cdot$s$^{-1}$]\", fontsize=12)\n",
    "\n",
    "\n",
    "\n",
    "plt.savefig('tezky_err.pdf', bbox_inches = 'tight')\n",
    "plt.show()"
   ]
  },
  {
   "cell_type": "markdown",
   "id": "f87f9a92-e74f-4218-a7a5-30f8ccde5080",
   "metadata": {
    "jp-MarkdownHeadingCollapsed": true,
    "tags": []
   },
   "source": [
    "## CHYBA ENERGIE A HYBNOSTI"
   ]
  },
  {
   "cell_type": "code",
   "execution_count": 226,
   "id": "253d38e0-ea34-4d09-8793-73582ca6a175",
   "metadata": {},
   "outputs": [],
   "source": [
    "m1 = 313.56\n",
    "sm1 = 0.02\n",
    "m2 = 251.39\n",
    "sm2 = 0.02"
   ]
  },
  {
   "cell_type": "code",
   "execution_count": 229,
   "id": "c1ec3e21-094e-4553-bfdc-2671feac323a",
   "metadata": {},
   "outputs": [
    {
     "name": "stdout",
     "output_type": "stream",
     "text": [
      "---------------------------------------------------------------------------------------------------------\n",
      "Hybnost tezsiho pred srazkou: [ 80.29442416 149.50277353 197.67142873] +- [0.42764761 0.49777569 1.21113012]\n",
      "Hybnost tezsiho po srazce   : [ 5.34338625 12.58933836 20.43907485] +- [0.47663606 0.70186198 0.43909484]\n",
      "Hybnost lehciho po srazce   : [ 67.03461261 122.23598146 165.77403677] +- [0.92304776 0.61249428 1.15055875]\n",
      "---------------------------------------------------------------------------------------------------------\n",
      "---------------------------------------------------------------------------------------------------------\n",
      "Energie tezsiho pred srazkou: [10.28063935 35.64083316 62.30704448] +- [0.10950335 0.2373026  0.76347777]\n",
      "Energie tezsiho po srazce   : [0.04552841 0.25272905 0.66614967] +- [0.00812237 0.02817953 0.02862184]\n",
      "Energie lehciho po srazce   : [ 8.9375856  29.71803804 54.65816314] +- [0.246133   0.29779132 0.75867524]\n",
      "---------------------------------------------------------------------------------------------------------\n",
      "---------------------------------------------------------------------------------------------------------\n",
      "Energie pred srazkou: [10.28063935 35.64083316 62.30704448] +- [0.10950335 0.2373026  0.76347777]\n",
      "Energie po srazce   : [ 8.98311401 29.97076708 55.32431281] +- [0.24626698 0.29912164 0.75921495]\n",
      "---------------------------------------------------------------------------------------------------------\n",
      "---------------------------------------------------------------------------------------------------------\n",
      "Hybnost pred srazkou: [ 80.29442416 149.50277353 197.67142873] +- [0.42764761 0.49777569 1.21113012]\n",
      "Hybnost po srazce   : [ 72.37799886 134.82531982 186.21311162] +- [1.03884508 0.93153609 1.23149897]\n",
      "---------------------------------------------------------------------------------------------------------\n",
      "---------------------------------------------------------------------------------------------------------\n",
      "Chyba hybnosti: [1.12342404 1.05619133 1.72725964]\n",
      "Chyba energie : [0.26951514 0.3818197  1.07671057]\n"
     ]
    }
   ],
   "source": [
    "E10 = E(m1, v1)\n",
    "sE10 = sE(m1, sm1, v1, sv1)\n",
    "E11 = E(m1, v2)\n",
    "sE11 = sE(m1, sm1, v2, sv2)\n",
    "E20 = 0 \n",
    "E21 = E(m2, u)\n",
    "sE21 = sE(m2, sm2, u, su)\n",
    "\n",
    "E1 = E10\n",
    "E2 = E11 + E21\n",
    "sE1 = sE10\n",
    "sE2 = np.sqrt(sE11**2 + sE21**2)\n",
    " \n",
    "\n",
    "p10 = p(m1, v1)\n",
    "sp10 = sp(m1, sm1, v1, sv1)\n",
    "p11 = p(m1, v2)\n",
    "sp11 = sp(m1, sm1, v2, sv2)\n",
    "p20 = 0 \n",
    "p21 = p(m2, u)\n",
    "sp21 = sp(m2, sm2, u, su)\n",
    "\n",
    "p1 = p10\n",
    "p2 = p11 + p21\n",
    "sp1 = sp10\n",
    "sp2 = np.sqrt(sp11**2 + sp21**2)\n",
    "\n",
    "sp = np.sqrt(sp1**2 + sp2**2)\n",
    "sE = np.sqrt(sE1**2 + sE2**2)\n",
    "\n",
    "print(\"---------------------------------------------------------------------------------------------------------\")\n",
    "print(\"Hybnost tezsiho pred srazkou: {} +- {}\".format(p10,sp10))\n",
    "print(\"Hybnost tezsiho po srazce   : {} +- {}\".format(p11,sp11))\n",
    "print(\"Hybnost lehciho po srazce   : {} +- {}\".format(p21,sp21))\n",
    "print(\"---------------------------------------------------------------------------------------------------------\")\n",
    "print(\"---------------------------------------------------------------------------------------------------------\")\n",
    "print(\"Energie tezsiho pred srazkou: {} +- {}\".format(E10,sE10))\n",
    "print(\"Energie tezsiho po srazce   : {} +- {}\".format(E11,sE11))\n",
    "print(\"Energie lehciho po srazce   : {} +- {}\".format(E21,sE21))\n",
    "print(\"---------------------------------------------------------------------------------------------------------\")\n",
    "print(\"---------------------------------------------------------------------------------------------------------\")\n",
    "print(\"Energie pred srazkou: {} +- {}\".format(E1,sE1))\n",
    "print(\"Energie po srazce   : {} +- {}\".format(E2,sE2))\n",
    "print(\"---------------------------------------------------------------------------------------------------------\")\n",
    "print(\"---------------------------------------------------------------------------------------------------------\")\n",
    "print(\"Hybnost pred srazkou: {} +- {}\".format(p1,sp1))\n",
    "print(\"Hybnost po srazce   : {} +- {}\".format(p2,sp2))\n",
    "print(\"---------------------------------------------------------------------------------------------------------\")\n",
    "print(\"---------------------------------------------------------------------------------------------------------\")\n",
    "print(\"Chyba hybnosti: {}\".format(sp))\n",
    "print(\"Chyba energie : {}\".format(sE))"
   ]
  },
  {
   "cell_type": "code",
   "execution_count": 230,
   "id": "f0830c16-7bea-4e0d-a268-9def6bf9f796",
   "metadata": {},
   "outputs": [
    {
     "name": "stdout",
     "output_type": "stream",
     "text": [
      "Rozdil hybnosti: [ 7.9164253  14.67745371 11.45831711]\n",
      "Rozdil energii:  [1.29752534 5.67006608 6.98273167]\n",
      "Rozdil hybnosti relativni: [ 7.04669386 13.8965861   6.6338128 ]\n",
      "Rozdil energii relativni:  [ 4.81429483 14.85011401  6.48524486]\n"
     ]
    }
   ],
   "source": [
    "print('Rozdil hybnosti: {}'.format(p1-p2))\n",
    "print('Rozdil energii:  {}'.format(E1-E2))\n",
    "print('Rozdil hybnosti relativni: {}'.format((p1-p2)/sp))\n",
    "print('Rozdil energii relativni:  {}'.format((E1-E2)/sE))"
   ]
  },
  {
   "cell_type": "markdown",
   "id": "5e703b2c-edd7-43b4-836f-d45fe47937d1",
   "metadata": {},
   "source": [
    "### Tabulka"
   ]
  },
  {
   "cell_type": "code",
   "execution_count": 231,
   "id": "d30f8a06-fc1d-44bb-a5e9-ea4b9d171f35",
   "metadata": {},
   "outputs": [],
   "source": [
    "impuls = np.array([1,2,3])"
   ]
  },
  {
   "cell_type": "code",
   "execution_count": 232,
   "id": "8b4ea09c-1f31-4f1f-b28d-0427fc393328",
   "metadata": {},
   "outputs": [
    {
     "name": "stdout",
     "output_type": "stream",
     "text": [
      "\\begin{tabular}{rrrrrrrrrrrrr}\n",
      "\\toprule\n",
      " 1 &  80.3 & 0.4 &  5.3 & 0.5 &  67   & 0.9 & 10.3 & 0.1 & 0.05 & 0.01 &  8.9 & 0.2 \\\\\n",
      " 2 & 149.5 & 0.5 & 12.6 & 0.7 & 122.2 & 0.6 & 35.6 & 0.2 & 0.25 & 0.03 & 29.7 & 0.3 \\\\\n",
      " 3 & 197.7 & 1.2 & 20.4 & 0.4 & 165.8 & 1.2 & 62.3 & 0.8 & 0.67 & 0.03 & 54.7 & 0.8 \\\\\n",
      "\\bottomrule\n",
      "\\end{tabular}\n"
     ]
    }
   ],
   "source": [
    "T = np.array([impuls,\n",
    "              p10.round(1),\n",
    "              sp10.round(1),\n",
    "              p11.round(1),\n",
    "              sp11.round(1),\n",
    "              p21.round(1),\n",
    "              sp21.round(1),\n",
    "              E10.round(1),\n",
    "              sE10.round(1),\n",
    "              E11.round(2),\n",
    "              sE11.round(2),\n",
    "              E21.round(1),\n",
    "              sE21.round(1)]).T\n",
    "\n",
    "print(tabulate(T, tablefmt=\"latex_booktabs\"))"
   ]
  },
  {
   "cell_type": "code",
   "execution_count": 233,
   "id": "d950533d-0b1c-44a9-8cba-56a602c2647b",
   "metadata": {},
   "outputs": [
    {
     "name": "stdout",
     "output_type": "stream",
     "text": [
      "\\begin{tabular}{rrrrrrrrr}\n",
      "\\toprule\n",
      " 1 &  80.3 & 0.4 &  72.4 & 1   & 10.3 & 0.1 &  9   & 0.2 \\\\\n",
      " 2 & 149.5 & 0.5 & 134.8 & 0.9 & 35.6 & 0.2 & 30   & 0.3 \\\\\n",
      " 3 & 197.7 & 1.2 & 186.2 & 1.2 & 62.3 & 0.8 & 55.3 & 0.8 \\\\\n",
      "\\bottomrule\n",
      "\\end{tabular}\n"
     ]
    }
   ],
   "source": [
    "T = np.array([impuls,\n",
    "              p1.round(1),\n",
    "              sp1.round(1),\n",
    "              p2.round(1),\n",
    "              sp2.round(1),\n",
    "              E1.round(1),\n",
    "              sE1.round(1),\n",
    "              E2.round(1),\n",
    "              sE2.round(1)]).T\n",
    "\n",
    "print(tabulate(T, tablefmt=\"latex_booktabs\"))"
   ]
  },
  {
   "cell_type": "code",
   "execution_count": 234,
   "id": "c056d971-f45e-4dfe-bfc9-aeb8ec1606ce",
   "metadata": {},
   "outputs": [
    {
     "name": "stdout",
     "output_type": "stream",
     "text": [
      "\\begin{tabular}{rrrrr}\n",
      "\\toprule\n",
      " 1 &  7.9 & 1.1 & 1.3 & 0.3 \\\\\n",
      " 2 & 14.7 & 1.1 & 5.7 & 0.4 \\\\\n",
      " 3 & 11.5 & 1.7 & 7   & 1.1 \\\\\n",
      "\\bottomrule\n",
      "\\end{tabular}\n"
     ]
    }
   ],
   "source": [
    "T = np.array([impuls,\n",
    "              (p1-p2).round(1),\n",
    "              sp.round(1),\n",
    "              (E1-E2).round(1),\n",
    "              \n",
    "              sE.round(1)]).T\n",
    "\n",
    "print(tabulate(T, tablefmt=\"latex_booktabs\"))"
   ]
  },
  {
   "cell_type": "code",
   "execution_count": null,
   "id": "c231fe8d-2f2d-43e2-81a3-b290f782091e",
   "metadata": {},
   "outputs": [],
   "source": []
  },
  {
   "cell_type": "code",
   "execution_count": null,
   "id": "290040f2-68e4-43e9-aa1d-5e89c54c8f5d",
   "metadata": {},
   "outputs": [],
   "source": []
  },
  {
   "cell_type": "markdown",
   "id": "8f843a34-3d1b-436e-a142-a92b7ffd94f5",
   "metadata": {
    "jp-MarkdownHeadingCollapsed": true,
    "tags": []
   },
   "source": [
    "### PLOT"
   ]
  },
  {
   "cell_type": "code",
   "execution_count": 235,
   "id": "f7c8585a-d375-4424-bafe-d7f9a74fafac",
   "metadata": {},
   "outputs": [
    {
     "name": "stderr",
     "output_type": "stream",
     "text": [
      "C:\\Users\\stepa\\AppData\\Local\\Temp/ipykernel_18976/1445636999.py:18: UserWarning: Matplotlib is currently using pgf, which is a non-GUI backend, so cannot show the figure.\n",
      "  plt.show()\n"
     ]
    },
    {
     "data": {
      "image/png": "[encoded data removed]",
      "text/plain": [
       "<Figure size 576x360 with 1 Axes>"
      ]
     },
     "metadata": {
      "needs_background": "light"
     },
     "output_type": "display_data"
    }
   ],
   "source": [
    "plt.figure(figsize = (8,5))\n",
    "x_range = np.linspace(70,200,200)\n",
    "\n",
    "plt.scatter(p1, p2, marker = 'x', color='black', label='Naměřené hodnoty hybnosti')\n",
    "plt.plot(x_range, x_range, color=\"black\", linestyle = 'dashed', label = \"Ideální případ beze ztrát\")\n",
    "plt.errorbar(p1,p2,yerr=sp2,xerr = sp1, fmt='none', ecolor=\"k\",elinewidth=1,capsize=5)\n",
    "\n",
    "plt.legend(loc='upper left', fontsize=11)\n",
    "#plt.legend(fontsize=8)\n",
    "\n",
    "#popisky os\n",
    "plt.ylabel(\"$p'$ [g$\\cdot$m$\\cdot$s$^{-1}$]\", fontsize=12)\n",
    "plt.xlabel(\"$p$ [g$\\cdot$m$\\cdot$s$^{-1}$]\", fontsize=12)\n",
    "\n",
    "\n",
    "\n",
    "plt.savefig('tezky_hybnost.pdf', bbox_inches = 'tight')\n",
    "plt.show()"
   ]
  },
  {
   "cell_type": "code",
   "execution_count": 236,
   "id": "bc8ab7e1-18c2-41a2-b072-cb0ced1041bc",
   "metadata": {},
   "outputs": [
    {
     "name": "stderr",
     "output_type": "stream",
     "text": [
      "C:\\Users\\stepa\\AppData\\Local\\Temp/ipykernel_18976/366932579.py:18: UserWarning: Matplotlib is currently using pgf, which is a non-GUI backend, so cannot show the figure.\n",
      "  plt.show()\n"
     ]
    },
    {
     "data": {
      "image/png": "[encoded data removed]",
      "text/plain": [
       "<Figure size 576x360 with 1 Axes>"
      ]
     },
     "metadata": {
      "needs_background": "light"
     },
     "output_type": "display_data"
    }
   ],
   "source": [
    "plt.figure(figsize = (8,5))\n",
    "x_range = np.linspace(5,65,200)\n",
    "\n",
    "plt.scatter(E1, E2, marker = 'x', color='black', label='Naměřené hodnoty energie')\n",
    "plt.plot(x_range, x_range, color=\"black\", linestyle = 'dashed', label = \"Ideální případ beze ztrát\")\n",
    "plt.errorbar(E1,E2,yerr=sE2,xerr = sE1, fmt='none', ecolor=\"k\",elinewidth=1,capsize=5)\n",
    "\n",
    "plt.legend(loc='upper left', fontsize=11)\n",
    "#plt.legend(fontsize=8)\n",
    "\n",
    "#popisky os\n",
    "plt.ylabel(\"$E'$ [g$\\cdot$m$^2\\cdot$s$^{-2}$]\", fontsize=12)\n",
    "plt.xlabel(\"$E$ [g$\\cdot$m$^2\\cdot$s$^{-2}$]\", fontsize=12)\n",
    "\n",
    "\n",
    "\n",
    "plt.savefig('tezky_energie.pdf', bbox_inches = 'tight')\n",
    "plt.show()"
   ]
  },
  {
   "cell_type": "markdown",
   "id": "afbdafb0-7659-48a8-a46b-a8325d3e4b13",
   "metadata": {
    "jp-MarkdownHeadingCollapsed": true,
    "tags": []
   },
   "source": [
    "# FIT UKAZKA"
   ]
  },
  {
   "cell_type": "code",
   "execution_count": 164,
   "id": "89bbb481-e41d-4845-bbcc-8a3d580357f3",
   "metadata": {},
   "outputs": [
    {
     "name": "stdout",
     "output_type": "stream",
     "text": [
      "\n",
      "                    Breakpoint Regression Results                     \n",
      "====================================================================================================\n",
      "No. Observations                       95\n",
      "No. Model Parameters                    8\n",
      "Degrees of Freedom                     87\n",
      "Res. Sum of Squares           0.000537339\n",
      "Total Sum of Squares              8.95551\n",
      "R Squared                        0.999940\n",
      "Adjusted R Squared               0.999934\n",
      "Converged:                           True\n",
      "====================================================================================================\n",
      "====================================================================================================\n",
      "                    Estimate      Std Err            t        P>|t|       [0.025       0.975]\n",
      "----------------------------------------------------------------------------------------------------\n",
      "const               0.166515     0.000777       214.42     2.78e-120      0.16497      0.16806\n",
      "alpha1           0.000296188     0.000328      0.90294         0.369   -0.0003558   0.00094817\n",
      "beta1               0.620264      0.00322       192.66             -      0.61386      0.62666\n",
      "beta2              -0.559946      0.00324      -172.94             -     -0.56638     -0.55351\n",
      "beta3               -0.52371      0.00191      -274.91             -      -0.5275     -0.51992\n",
      "breakpoint1           4.0875      0.00301            -             -       4.0815       4.0935\n",
      "breakpoint2          5.00241      0.00336            -             -       4.9957       5.0091\n",
      "breakpoint3          8.17738      0.00318            -             -       8.1711       8.1837\n",
      "----------------------------------------------------------------------------------------------------\n",
      "These alphas(gradients of segments) are estimatedfrom betas(change in gradient)\n",
      "----------------------------------------------------------------------------------------------------\n",
      "alpha2               0.62056       0.0032       193.76     1.84e-116      0.61419      0.62693\n",
      "alpha3             0.0606142     0.000476       127.41     1.11e-100     0.059669      0.06156\n",
      "alpha4             -0.463096      0.00184      -251.05     3.13e-126     -0.46676     -0.45943\n",
      "====================================================================================================\n",
      "Davies test for existence of at least 1 breakpoint: p=0.591097 (e.g. p<0.05 means reject null hypothesis of no breakpoints  at 5% significance)\n",
      "\n",
      "\n"
     ]
    },
    {
     "name": "stderr",
     "output_type": "stream",
     "text": [
      "C:\\Users\\stepa\\AppData\\Local\\Temp/ipykernel_18976/599859281.py:21: UserWarning: Matplotlib is currently using pgf, which is a non-GUI backend, so cannot show the figure.\n",
      "  plt.show()\n"
     ]
    },
    {
     "data": {
      "image/png": "[encoded data removed]",
      "text/plain": [
       "<Figure size 576x360 with 1 Axes>"
      ]
     },
     "metadata": {
      "needs_background": "light"
     },
     "output_type": "display_data"
    }
   ],
   "source": [
    "time1,pos1 = load_position(\"data/tezka_sila{}/pos1_{}.txt\".format(3,1))\n",
    "time2,pos2 = load_position(\"data/tezka_sila{}/pos2_{}.txt\".format(3,1))\n",
    "\n",
    "pw_fit = piecewise_regression.Fit(time2, pos2, n_breakpoints=3)\n",
    "\n",
    "pw_fit.summary()\n",
    "\n",
    "plt.figure(figsize = (8,5))\n",
    "\n",
    "\n",
    "pw_fit.plot_data(color=\"k\", marker = 'x', s = 15, label = \"Naměřená data polohy těžšího vozíčku\")\n",
    "pw_fit.plot_fit(color=\"k\",linestyle='dashed', linewidth=1, label = \"Proložení fitem\")\n",
    "pw_fit.plot_breakpoints(color = 'k', linestyle = 'dotted', linewidth = 0.7)\n",
    "\n",
    "plt.legend(loc='upper left', fontsize=10)\n",
    "\n",
    "plt.ylabel(\"$x$ [m]\", fontsize=12)\n",
    "plt.xlabel(\"$t$ [s]\", fontsize=12)\n",
    "\n",
    "plt.savefig('fit_pos2.pdf')\n",
    "plt.show()\n"
   ]
  },
  {
   "cell_type": "code",
   "execution_count": 165,
   "id": "eefa2237-7ee1-4e33-9e3b-bec39ccd7d31",
   "metadata": {},
   "outputs": [
    {
     "name": "stdout",
     "output_type": "stream",
     "text": [
      "\n",
      "                    Breakpoint Regression Results                     \n",
      "====================================================================================================\n",
      "No. Observations                       96\n",
      "No. Model Parameters                    8\n",
      "Degrees of Freedom                     88\n",
      "Res. Sum of Squares            0.00184117\n",
      "Total Sum of Squares              8.88807\n",
      "R Squared                        0.999793\n",
      "Adjusted R Squared               0.999774\n",
      "Converged:                           True\n",
      "====================================================================================================\n",
      "====================================================================================================\n",
      "                    Estimate      Std Err            t        P>|t|       [0.025       0.975]\n",
      "----------------------------------------------------------------------------------------------------\n",
      "const                1.17039      0.00128        917.3     6.06e-177       1.1678       1.1729\n",
      "alpha1           0.000894598     0.000448       1.9957        0.0491   3.7791e-06    0.0017854\n",
      "beta1              -0.641486      0.00253      -254.01             -     -0.64651     -0.63647\n",
      "beta2                1.16964      0.00351       333.35             -       1.1627       1.1766\n",
      "beta3              -0.631277      0.00392      -161.19             -     -0.63906     -0.62349\n",
      "breakpoint1          4.96633      0.00407            -             -       4.9582       4.9744\n",
      "breakpoint2           6.5933      0.00277            -             -       6.5878       6.5988\n",
      "breakpoint3          8.17752       0.0053            -             -        8.167        8.188\n",
      "----------------------------------------------------------------------------------------------------\n",
      "These alphas(gradients of segments) are estimatedfrom betas(change in gradient)\n",
      "----------------------------------------------------------------------------------------------------\n",
      "alpha2             -0.640592      0.00249      -257.75     1.88e-128     -0.64553     -0.63565\n",
      "alpha3              0.529048      0.00248       213.59     2.79e-121      0.52413      0.53397\n",
      "alpha4             -0.102229      0.00303        -33.7      4.41e-52     -0.10826      -0.0962\n",
      "====================================================================================================\n",
      "Davies test for existence of at least 1 breakpoint: p=0.682974 (e.g. p<0.05 means reject null hypothesis of no breakpoints  at 5% significance)\n",
      "\n",
      "\n"
     ]
    },
    {
     "name": "stderr",
     "output_type": "stream",
     "text": [
      "C:\\Users\\stepa\\AppData\\Local\\Temp/ipykernel_18976/2269015603.py:21: UserWarning: Matplotlib is currently using pgf, which is a non-GUI backend, so cannot show the figure.\n",
      "  plt.show()\n"
     ]
    },
    {
     "data": {
      "image/png": "[encoded data removed]",
      "text/plain": [
       "<Figure size 576x360 with 1 Axes>"
      ]
     },
     "metadata": {
      "needs_background": "light"
     },
     "output_type": "display_data"
    }
   ],
   "source": [
    "time1,pos1 = load_position(\"data/tezka_sila{}/pos1_{}.txt\".format(3,1))\n",
    "time2,pos2 = load_position(\"data/tezka_sila{}/pos2_{}.txt\".format(3,1))\n",
    "\n",
    "pw_fit = piecewise_regression.Fit(time1, pos1, n_breakpoints=3)\n",
    "\n",
    "pw_fit.summary()\n",
    "\n",
    "plt.figure(figsize = (8,5))\n",
    "\n",
    "\n",
    "pw_fit.plot_data(color=\"k\", marker = 'x', s = 15, label = \"Naměřená data polohy lehčího vozíčku\")\n",
    "pw_fit.plot_fit(color=\"k\",linestyle='dashed', linewidth=1, label = \"Proložení fitem\")\n",
    "pw_fit.plot_breakpoints(color = 'k', linestyle = 'dotted', linewidth = 0.7)\n",
    "\n",
    "plt.legend(loc='lower left', fontsize=10)\n",
    "\n",
    "plt.ylabel(\"$x$ [m]\", fontsize=12)\n",
    "plt.xlabel(\"$t$ [s]\", fontsize=12)\n",
    "\n",
    "plt.savefig('fit_pos1.pdf')\n",
    "plt.show()"
   ]
  },
  {
   "cell_type": "code",
   "execution_count": 166,
   "id": "e45e0528-dbfa-45fb-96c6-fd51352d090a",
   "metadata": {},
   "outputs": [
    {
     "name": "stdout",
     "output_type": "stream",
     "text": [
      "\n",
      "                    Breakpoint Regression Results                     \n",
      "====================================================================================================\n",
      "No. Observations                       95\n",
      "No. Model Parameters                    8\n",
      "Degrees of Freedom                     87\n",
      "Res. Sum of Squares           0.000537339\n",
      "Total Sum of Squares              8.95551\n",
      "R Squared                        0.999940\n",
      "Adjusted R Squared               0.999934\n",
      "Converged:                           True\n",
      "====================================================================================================\n",
      "====================================================================================================\n",
      "                    Estimate      Std Err            t        P>|t|       [0.025       0.975]\n",
      "----------------------------------------------------------------------------------------------------\n",
      "const               0.166515     0.000777       214.42     2.78e-120      0.16497      0.16806\n",
      "alpha1           0.000296188     0.000328      0.90294         0.369   -0.0003558   0.00094817\n",
      "beta1               0.620264      0.00322       192.66             -      0.61386      0.62666\n",
      "beta2              -0.559946      0.00324      -172.94             -     -0.56638     -0.55351\n",
      "beta3               -0.52371      0.00191      -274.91             -      -0.5275     -0.51992\n",
      "breakpoint1           4.0875      0.00301            -             -       4.0815       4.0935\n",
      "breakpoint2          5.00241      0.00336            -             -       4.9957       5.0091\n",
      "breakpoint3          8.17738      0.00318            -             -       8.1711       8.1837\n",
      "----------------------------------------------------------------------------------------------------\n",
      "These alphas(gradients of segments) are estimatedfrom betas(change in gradient)\n",
      "----------------------------------------------------------------------------------------------------\n",
      "alpha2               0.62056       0.0032       193.76     1.84e-116      0.61419      0.62693\n",
      "alpha3             0.0606142     0.000476       127.41     1.11e-100     0.059669      0.06156\n",
      "alpha4             -0.463096      0.00184      -251.05     3.13e-126     -0.46676     -0.45943\n",
      "====================================================================================================\n",
      "Davies test for existence of at least 1 breakpoint: p=0.591097 (e.g. p<0.05 means reject null hypothesis of no breakpoints  at 5% significance)\n",
      "\n",
      "\n",
      "\n",
      "                    Breakpoint Regression Results                     \n",
      "====================================================================================================\n",
      "No. Observations                       96\n",
      "No. Model Parameters                    8\n",
      "Degrees of Freedom                     88\n",
      "Res. Sum of Squares            0.00184117\n",
      "Total Sum of Squares              8.88807\n",
      "R Squared                        0.999793\n",
      "Adjusted R Squared               0.999774\n",
      "Converged:                           True\n",
      "====================================================================================================\n",
      "====================================================================================================\n",
      "                    Estimate      Std Err            t        P>|t|       [0.025       0.975]\n",
      "----------------------------------------------------------------------------------------------------\n",
      "const               0.729615      0.00128       571.84     6.92e-159      0.72708      0.73215\n",
      "alpha1          -0.000894598     0.000448      -1.9957        0.0491   -0.0017854  -3.7791e-06\n",
      "beta1               0.641486      0.00253       254.01             -      0.63647      0.64651\n",
      "beta2               -1.16964      0.00351      -333.35             -      -1.1766      -1.1627\n",
      "beta3               0.631277      0.00392       161.19             -      0.62349      0.63906\n",
      "breakpoint1          4.96633      0.00407            -             -       4.9582       4.9744\n",
      "breakpoint2           6.5933      0.00277            -             -       6.5878       6.5988\n",
      "breakpoint3          8.17752       0.0053            -             -        8.167        8.188\n",
      "----------------------------------------------------------------------------------------------------\n",
      "These alphas(gradients of segments) are estimatedfrom betas(change in gradient)\n",
      "----------------------------------------------------------------------------------------------------\n",
      "alpha2              0.640592      0.00249       257.75     1.88e-128      0.63565      0.64553\n",
      "alpha3             -0.529048      0.00248      -213.59     2.79e-121     -0.53397     -0.52413\n",
      "alpha4              0.102229      0.00303         33.7      4.41e-52       0.0962      0.10826\n",
      "====================================================================================================\n",
      "Davies test for existence of at least 1 breakpoint: p=0.682974 (e.g. p<0.05 means reject null hypothesis of no breakpoints  at 5% significance)\n",
      "\n",
      "\n"
     ]
    },
    {
     "name": "stderr",
     "output_type": "stream",
     "text": [
      "C:\\Users\\stepa\\AppData\\Local\\Temp/ipykernel_18976/643451568.py:34: UserWarning: Matplotlib is currently using pgf, which is a non-GUI backend, so cannot show the figure.\n",
      "  plt.show()\n"
     ]
    },
    {
     "data": {
      "image/png": "[encoded data removed]",
      "text/plain": [
       "<Figure size 576x360 with 1 Axes>"
      ]
     },
     "metadata": {
      "needs_background": "light"
     },
     "output_type": "display_data"
    }
   ],
   "source": [
    "time1,pos1 = load_position(\"data/tezka_sila{}/pos1_{}.txt\".format(3,1))\n",
    "time2,pos2 = load_position(\"data/tezka_sila{}/pos2_{}.txt\".format(3,1))\n",
    "\n",
    "pos1 = -pos1 + 1.9\n",
    "\n",
    "pw_fit = piecewise_regression.Fit(time2, pos2, n_breakpoints=3)\n",
    "\n",
    "pw_fit.summary()\n",
    "\n",
    "plt.figure(figsize = (8,5))\n",
    "\n",
    "\n",
    "pw_fit.plot_data(color=\"steelblue\", marker = 'x', s = 15, label = \"Naměřená data polohy těžšího vozíčku\")\n",
    "pw_fit.plot_fit(color=\"steelblue\",linestyle='dashed', linewidth=1, label = \"Proložení fitem\")\n",
    "#pw_fit.plot_breakpoints(color = 'k', linestyle = 'dotted', linewidth = 0.7)\n",
    "\n",
    "\n",
    "pw_fit2 = piecewise_regression.Fit(time1, pos1, n_breakpoints=3)\n",
    "\n",
    "pw_fit2.summary()\n",
    "\n",
    "pw_fit2.plot_data(color=\"darkgreen\", marker = '+', s = 22, label = \"Naměřená data polohy lehčího vozíčku\")\n",
    "pw_fit2.plot_fit(color=\"green\",linestyle='dashed', linewidth=1, label = \"Proložení fitem\")\n",
    "#pw_fit2.plot_breakpoints(color = 'k', linestyle = 'dotted', linewidth = 0.7)\n",
    "\n",
    "plt.scatter( 5 , 0.735 , s=150 , linewidth = 1.5,  facecolors='none', edgecolors='k', label = \"Srážka\", zorder = 5 )\n",
    "\n",
    "plt.legend(loc='upper left', fontsize=10)\n",
    "\n",
    "plt.ylabel(\"$x$ [m]\", fontsize=12)\n",
    "plt.xlabel(\"$t$ [s]\", fontsize=12)\n",
    "\n",
    "plt.savefig('fit.pdf')\n",
    "plt.show()"
   ]
  },
  {
   "cell_type": "markdown",
   "id": "ad8be917-ef46-4de6-acdd-11aad3437299",
   "metadata": {},
   "source": [
    "# IMPULS"
   ]
  },
  {
   "cell_type": "code",
   "execution_count": 240,
   "id": "cb8a4229-03cf-4a2d-8119-38b48903c317",
   "metadata": {},
   "outputs": [],
   "source": [
    "t, force = load_position(\"data/force_sila{}/force_{}.txt\".format(1,1))"
   ]
  },
  {
   "cell_type": "code",
   "execution_count": 242,
   "id": "66338cbd-af55-4d48-b0d2-54562c489c4c",
   "metadata": {},
   "outputs": [
    {
     "name": "stdout",
     "output_type": "stream",
     "text": [
      "[3.1 6.  7.7 7.7 6.8 5.3 3.3 1.6 0.4 0.5 0.2 0.6 1.7 2.7 3.7 4.2 4.  3.6\n",
      " 3.  2.5 2.  1.5 1.1 0.8 0.5 0.3 0.2 0.2 0.1]\n",
      "[1.571 1.572 1.573 1.574 1.575 1.576 1.577 1.578 1.579 1.58  1.582 1.583\n",
      " 1.584 1.585 1.586 1.587 1.588 1.589 1.59  1.591 1.592 1.593 1.594 1.595\n",
      " 1.596 1.597 1.598 1.599 1.6  ]\n"
     ]
    }
   ],
   "source": [
    "print(force[force>0])\n",
    "print(t[force>0])"
   ]
  },
  {
   "cell_type": "code",
   "execution_count": 291,
   "id": "a917661f-7d9e-455e-b396-77efbc973335",
   "metadata": {},
   "outputs": [],
   "source": [
    "time, pos = load_position(\"data/force_sila{}/pos_{}.txt\".format(2,4))"
   ]
  },
  {
   "cell_type": "code",
   "execution_count": 292,
   "id": "37dfd8a2-ff55-4aa2-aef3-29a1ef166556",
   "metadata": {},
   "outputs": [
    {
     "name": "stderr",
     "output_type": "stream",
     "text": [
      "C:\\Users\\stepa\\AppData\\Local\\Temp/ipykernel_18976/2599449516.py:2: UserWarning: Matplotlib is currently using pgf, which is a non-GUI backend, so cannot show the figure.\n",
      "  plt.show()\n"
     ]
    },
    {
     "data": {
      "image/png": "[encoded data removed]",
      "text/plain": [
       "<Figure size 432x288 with 1 Axes>"
      ]
     },
     "metadata": {
      "needs_background": "light"
     },
     "output_type": "display_data"
    }
   ],
   "source": [
    "plt.scatter(time,pos)\n",
    "plt.show()"
   ]
  },
  {
   "cell_type": "code",
   "execution_count": 298,
   "id": "f91d86da-ead7-4d70-9bdb-a3231c9f5523",
   "metadata": {},
   "outputs": [],
   "source": [
    "for j in range(3):\n",
    "       \n",
    "    for i in range(10):\n",
    "        \n",
    "        time,pos = load_position(\"data/force_sila{}/pos_{}.txt\".format(j+1,i+1))\n",
    "        \n",
    "        d_pos = np.gradient(pos,time)\n",
    "    \n",
    "        #if d_pos[2] < 0.01:\n",
    "            #print(j)\n",
    "           # print(i)\n",
    "           # print(\"_______\")\n"
   ]
  },
  {
   "cell_type": "code",
   "execution_count": 301,
   "id": "b607a518-264e-4575-9dc4-338abe928e08",
   "metadata": {},
   "outputs": [
    {
     "name": "stdout",
     "output_type": "stream",
     "text": [
      "_____________________________\n",
      "Tezka, sila 1:\n",
      "v1: -0.0008945978391383634 +- 0.0\n",
      "[-0.0008946 -0.0008946 -0.0008946 -0.0008946 -0.0008946 -0.0008946\n",
      " -0.0008946 -0.0008946 -0.0008946 -0.0008946]\n",
      "v2: 0.6405918587997296 +- 0.0\n",
      "[0.64059186 0.64059186 0.64059186 0.64059186 0.64059186 0.64059186\n",
      " 0.64059186 0.64059186 0.64059186 0.64059186]\n",
      "u: 0.47077533028202606 +- 0.09279272716136475\n",
      "[0.26665584 0.48624043 0.65942972]\n",
      "_____________________________\n",
      "Tezka, sila 2:\n",
      "v1: 0.191551339152522 +- 0.09296021920731949\n",
      "[-0.0008946   0.64059186  0.64059186  0.64059186 -0.0008946  -0.0008946\n",
      " -0.0008946  -0.0008946  -0.0008946  -0.0008946 ]\n",
      "v2: 0.2896998859714328 +- 0.16949692584895054\n",
      "[ 0.64059186 -0.52904805 -0.52904805 -0.52904805  0.64059186  0.64059186\n",
      "  0.64059186  0.64059186  0.64059186  0.64059186]\n",
      "u: 0.47077533028202606 +- 0.09279272716136475\n",
      "[0.26665584 0.48624043 0.65942972]\n",
      "_____________________________\n",
      "Tezka, sila 3:\n",
      "v1: 0.3198486304802956 +- 0.10142791455648319\n",
      "[ 0.64059186  0.64059186  0.64059186 -0.0008946   0.64059186 -0.0008946\n",
      " -0.0008946   0.64059186 -0.0008946  -0.0008946 ]\n",
      "v2: 0.0557719040859016 +- 0.18493630780122214\n",
      "[-0.52904805 -0.52904805 -0.52904805  0.64059186 -0.52904805  0.64059186\n",
      "  0.64059186 -0.52904805  0.64059186  0.64059186]\n",
      "u: 0.47077533028202606 +- 0.09279272716136475\n",
      "[0.26665584 0.48624043 0.65942972]\n"
     ]
    }
   ],
   "source": [
    "data_velocity = {}\n",
    "data_velocity_raw = {}\n",
    "\n",
    "for j in range(3):\n",
    "       \n",
    "    v1 = []\n",
    "    v2 = []\n",
    "\n",
    "    for i in range(10):\n",
    "        \n",
    "        time,pos = load_position(\"data/force_sila{}/pos_{}.txt\".format(j+1,i+1))\n",
    "        \n",
    "        d_pos = np.gradient(pos,time)\n",
    "       \n",
    "        if d_pos[2] < 0.01: \n",
    "            \n",
    "            pw_fit1 = piecewise_regression.Fit(time1, pos1, n_breakpoints=2)\n",
    "            v1.append(pw_fit2.get_results()['estimates']['alpha2']['estimate'])\n",
    "            v2.append(pw_fit2.get_results()['estimates']['alpha3']['estimate'])\n",
    "        \n",
    "        else:\n",
    "            pw_fit1 = piecewise_regression.Fit(time1, pos1, n_breakpoints=1) \n",
    "            v1.append(pw_fit2.get_results()['estimates']['alpha1']['estimate'])\n",
    "            v2.append(pw_fit2.get_results()['estimates']['alpha2']['estimate'])\n",
    "\n",
    "\n",
    "    v1 = np.array(v1)\n",
    "    v2 = np.array(v2)\n",
    "\n",
    "    print(\"_____________________________\")\n",
    "    print(\"Tezka, sila {}:\".format(j+1))\n",
    "    print(\"v1: {} +- {}\".format(mean(v1), error(v1)))\n",
    "    print(v1)\n",
    "    print(\"v2: {} +- {}\".format(mean(v2), error(v2)))\n",
    "    print(v2)\n",
    "    print(\"u: {} +- {}\".format(mean(u), error(u)))\n",
    "    print(u)\n",
    "    \n",
    "    data_velocity[\"sila{}\".format(j+1)] = { \"v1\": [mean(v1), error(v1)], \"v2\": [mean(v2), error(v2)], \"u\": [mean(u), error(u)] }\n",
    "    data_velocity_raw[\"sila{}\".format(j+1)] = { \"v1\": v1, \"v2\": v2, \"u\": u }"
   ]
  },
  {
   "cell_type": "code",
   "execution_count": null,
   "id": "f970abc4-4cb7-4db4-94b6-7c53f0237725",
   "metadata": {},
   "outputs": [],
   "source": []
  },
  {
   "cell_type": "markdown",
   "id": "6c854629-0f88-4e32-8116-b42a9e332b58",
   "metadata": {
    "jp-MarkdownHeadingCollapsed": true,
    "tags": []
   },
   "source": [
    "# Test"
   ]
  },
  {
   "cell_type": "code",
   "execution_count": 143,
   "id": "1a8559fe-32d5-4eac-b126-1271be001b80",
   "metadata": {},
   "outputs": [
    {
     "name": "stdout",
     "output_type": "stream",
     "text": [
      "_____________________________\n",
      "Tezka, sila 1:\n",
      "v1: 0.25333059531546653 +- 0.0006300458284586792\n",
      "v2: 0.01863153054987199 +- 0.000775319423846973\n",
      "u: -0.26815841214298963 +- 0.002010221219054039\n",
      "_____________________________\n",
      "Tezka, sila 2:\n",
      "v1: 0.4878073528082901 +- 0.0005267645865950105\n",
      "v2: 0.042896701254608614 +- 0.0008679813247057073\n",
      "u: -0.4943550330445866 +- 0.0014788920273760906\n",
      "_____________________________\n",
      "Tezka, sila 3:\n",
      "v1: 0.6409661196201443 +- 0.0030734204390495783\n",
      "v2: 0.06563136235774684 +- 0.0008892554928077455\n",
      "u: -0.6605790460622939 +- 0.004220545682915786\n"
     ]
    }
   ],
   "source": [
    "c = [\n",
    "     [[0.2],[0.03,0.013],[-0.25]],\n",
    "     [[0.48],[0.05,0.035],[-0.47]],\n",
    "     [[0.6],[0.08,0.05],[-0.6]]\n",
    "    ]\n",
    "\n",
    "for j in range(3):\n",
    "       \n",
    "    v1 = []\n",
    "    v2 = []\n",
    "    u = []\n",
    "\n",
    "    for i in range(10):\n",
    "\n",
    "        if i == 4 and j == 2:\n",
    "            continue\n",
    "            \n",
    "        if i == 7 and j == 0:\n",
    "            continue\n",
    "\n",
    "        time1,pos1 = load_position(\"data/tezka_sila{}/pos1_{}.txt\".format(j+1,i+1))\n",
    "        time2,pos2 = load_position(\"data/tezka_sila{}/pos2_{}.txt\".format(j+1,i+1))\n",
    "        d_pos1 = np.gradient(pos1,time1)\n",
    "        d_pos2 = np.gradient(pos2,time2)\n",
    "\n",
    "        v1.append(mean(d_pos2[d_pos2>c[j][0][0]]))\n",
    "        v2.append(mean(d_pos2[(d_pos2<c[j][1][0]) & (d_pos2>c[j][1][1])]))\n",
    "        u.append(mean(d_pos1[d_pos1<c[j][2][0]]))\n",
    "\n",
    "        #sv1.append(error(d_pos2[d_pos2>0.6]))\n",
    "        #sv2.append(error(d_pos2[(d_pos2<0.08) & (d_pos2>0.05)]))\n",
    "\n",
    "    v1 = np.array(v1)\n",
    "    v2 = np.array(v2)\n",
    "    u = np.array(u)\n",
    "\n",
    "    print(\"_____________________________\")\n",
    "    print(\"Tezka, sila {}:\".format(j+1))\n",
    "    print(\"v1: {} +- {}\".format(mean(v1), error(v1)))\n",
    "    #print(v1)\n",
    "    print(\"v2: {} +- {}\".format(mean(v2), error(v2)))\n",
    "    #print(v2)\n",
    "    print(\"u: {} +- {}\".format(mean(u), error(u)))\n",
    "    #print(u)"
   ]
  },
  {
   "cell_type": "code",
   "execution_count": null,
   "id": "a2ae9588-bf67-4d1d-9d73-55843618c147",
   "metadata": {},
   "outputs": [],
   "source": [
    "_____________________________\n",
    "Tezka, sila 1:\n",
    "v1: 0.2524132996632997 +- 0.0007476672552850545\n",
    "v2: 0.018499272682842672 +- 0.0007411400308697437\n",
    "u: -0.2685110803846614 +- 0.0019680078394719133\n",
    "_____________________________\n",
    "Tezka, sila 2:\n",
    "v1: 0.4882928571428571 +- 0.0005806795807588013\n",
    "v2: 0.040741085303585285 +- 0.0007039448905540155\n",
    "u: -0.4949885780885781 +- 0.0015485248757519015\n",
    "_____________________________\n",
    "Tezka, sila 3:\n",
    "v1: 0.6421481481481481 +- 0.0030809210276970186\n",
    "v2: 0.06521064732655506 +- 0.0008944920094866212\n",
    "u: -0.6597073297073297 +- 0.00404223025169178"
   ]
  },
  {
   "cell_type": "code",
   "execution_count": 16,
   "id": "9ddd8783-4ac3-431b-8bab-7296d8ee59bb",
   "metadata": {},
   "outputs": [
    {
     "name": "stdout",
     "output_type": "stream",
     "text": [
      "_____________________________\n",
      "Lehka, sila 1:\n",
      "v1: 0.2993623086363144 +- 0.0003714112360333242\n",
      "[0.29873128 0.29972065 0.29773078 0.30175777 0.29805904 0.29976077\n",
      " 0.29972065 0.29975027 0.29902956]\n",
      "v2: -0.048709613731871854 +- 0.001981830627174674\n",
      "[-0.05459157 -0.06205786 -0.0451094  -0.04018304 -0.04638126 -0.04617001\n",
      " -0.04651797 -0.04745731 -0.04991809]\n",
      "u: -0.2495961577298146 +- 0.001877082819439639\n",
      "[-0.24517271 -0.26474915 -0.24467471 -0.2480923  -0.24932729 -0.24748194\n",
      " -0.24976313 -0.24977397 -0.24733022]\n",
      "_____________________________\n",
      "Lehka, sila 2:\n",
      "v1: nan +- nan\n",
      "[       nan 0.48426885 0.52795708 0.51297954 0.52716755 0.51922143\n",
      " 0.53412852 0.53662852 0.53019997 0.53538039]\n",
      "v2: nan +- nan\n",
      "[       nan 0.03745005        nan        nan        nan 0.04\n",
      " 0.045             nan        nan        nan]\n",
      "u: nan +- nan\n",
      "[        nan         nan         nan         nan -0.47570378         nan\n",
      " -0.47183901         nan -0.47571882 -0.47229268]\n",
      "_____________________________\n",
      "Lehka, sila 3:\n",
      "v1: 0.708110204883243 +- 0.004847096349742779\n",
      "[0.72841943 0.68722625 0.7009797  0.70779798 0.71927313 0.70564805\n",
      " 0.69852865 0.72758776 0.72272122 0.68291987]\n",
      "v2: nan +- nan\n",
      "[       nan 0.05984017        nan        nan        nan 0.065\n",
      "        nan 0.06       0.06484267 0.06      ]\n",
      "u: -0.607780982629204 +- 0.001589088585745921\n",
      "[-0.61618276 -0.60090165 -0.6012024  -0.61219822 -0.60871743 -0.6082314\n",
      " -0.60715428 -0.61060541 -0.61169456 -0.60092171]\n"
     ]
    }
   ],
   "source": [
    "c = [\n",
    "     [[0.29],[-0.03,-0.07],[-0.24]],\n",
    "     [[0.45],[0.05,0.035],[-0.4]],\n",
    "     [[0.6],[0.08,0.05],[-0.6]]\n",
    "    ]\n",
    "\n",
    "for j in range(3):\n",
    "       \n",
    "    v1 = []\n",
    "    v2 = []\n",
    "    u = []\n",
    "\n",
    "    for i in range(10):\n",
    "\n",
    "        if i == 4 and j == 0:\n",
    "            continue\n",
    "            \n",
    "        #if i == 7 and j == 0:\n",
    "        #    continue\n",
    "\n",
    "        time1,pos1 = load_position(\"data/lehka_sila{}/pos1_{}.txt\".format(j+1,i+1))\n",
    "        time2,pos2 = load_position(\"data/lehka_sila{}/pos2_{}.txt\".format(j+1,i+1))\n",
    "        d_pos1 = np.gradient(pos1,time1)\n",
    "        d_pos2 = np.gradient(pos2,time2)\n",
    "\n",
    "        v1.append(mean(d_pos2[d_pos2>c[j][0][0]]))\n",
    "        v2.append(mean(d_pos2[(d_pos2<c[j][1][0]) & (d_pos2>c[j][1][1])]))\n",
    "        u.append(mean(d_pos1[d_pos1<c[j][2][0]]))\n",
    "\n",
    "        #sv1.append(error(d_pos2[d_pos2>0.6]))\n",
    "        #sv2.append(error(d_pos2[(d_pos2<0.08) & (d_pos2>0.05)]))\n",
    "\n",
    "    v1 = np.array(v1)\n",
    "    v2 = np.array(v2)\n",
    "    u = np.array(u)\n",
    "\n",
    "    print(\"_____________________________\")\n",
    "    print(\"Lehka, sila {}:\".format(j+1))\n",
    "    print(\"v1: {} +- {}\".format(mean(v1), error(v1)))\n",
    "    print(v1)\n",
    "    print(\"v2: {} +- {}\".format(mean(v2), error(v2)))\n",
    "    print(v2)\n",
    "    print(\"u: {} +- {}\".format(mean(u), error(u)))\n",
    "    print(u)"
   ]
  },
  {
   "cell_type": "code",
   "execution_count": 61,
   "id": "c710d1e1-f03a-4dee-9814-4b778d573755",
   "metadata": {},
   "outputs": [],
   "source": [
    "time1, pos1 = load_position(\"data/lehka_sila1/pos1_1.txt\")\n",
    "time2, pos2 = load_position(\"data/lehka_sila1/pos2_1.txt\")"
   ]
  },
  {
   "cell_type": "code",
   "execution_count": 62,
   "id": "294ee4eb-6b53-4956-ae5e-f5881cfe5e5a",
   "metadata": {},
   "outputs": [
    {
     "name": "stdout",
     "output_type": "stream",
     "text": [
      "POSITION 1\n",
      "[ 0.00000000e+00 -1.50000000e-02 -5.00000000e-03  1.00000000e-02\n",
      "  5.00000000e-03 -1.00000000e-02 -1.50000000e-02 -5.00000000e-03\n",
      " -1.50000000e-02 -5.00000000e-03  2.50000000e-02  3.50000000e-02\n",
      "  2.50000000e-02 -2.50000000e-02 -4.00000000e-02  2.00000000e-02\n",
      "  1.00000000e-02 -2.00000000e-02 -1.00000000e-02 -5.00000000e-03\n",
      "  1.50000000e-02  1.50000000e-02 -8.88178420e-16  5.00000000e-03\n",
      "  5.00000000e-03 -5.00000000e-03 -5.00000000e-03 -8.88178420e-16\n",
      "  8.88178420e-16  0.00000000e+00  0.00000000e+00  0.00000000e+00\n",
      " -8.88178420e-16  8.88178420e-16  0.00000000e+00  0.00000000e+00\n",
      "  0.00000000e+00 -8.88178420e-16  8.88178420e-16 -8.88178420e-16\n",
      "  0.00000000e+00  0.00000000e+00 -5.00000000e-03 -1.00000000e-02\n",
      "  0.00000000e+00  2.00000000e-02 -5.00000000e-02 -1.80140185e-01\n",
      " -2.30230230e-01 -2.45107669e-01 -2.55122686e-01 -2.45245245e-01\n",
      " -2.40120180e-01 -2.45127689e-01 -2.45245245e-01 -2.40240240e-01\n",
      " -2.35122681e-01 -2.35122681e-01 -2.35235235e-01 -2.35112671e-01\n",
      " -2.35112671e-01 -2.30230230e-01 -2.25117674e-01 -2.35132691e-01\n",
      " -2.30230230e-01 -2.25097654e-01 -2.30105163e-01 -2.05117669e-01\n",
      " -2.05117669e-01 -2.15215215e-01 -2.15102656e-01 -2.15102656e-01\n",
      " -2.15215215e-01 -2.15112666e-01 -2.10105158e-01 -2.10105158e-01\n",
      " -2.05097649e-01 -2.05205205e-01 -2.05107659e-01 -2.00100150e-01\n",
      " -2.00100150e-01 -2.00100150e-01 -2.00200200e-01 -1.95102651e-01\n",
      " -1.95102651e-01 -1.95102651e-01 -1.90095143e-01 -1.90095143e-01\n",
      " -1.90095143e-01 -1.85097644e-01 -1.85097644e-01 -1.80100145e-01\n",
      " -1.75092636e-01 -1.80180180e-01]\n",
      "POSITION 2\n",
      "[-6.00000000e-02 -3.00000000e-02  0.00000000e+00  0.00000000e+00\n",
      "  1.50000000e-02  1.50000000e-02  0.00000000e+00  0.00000000e+00\n",
      " -1.50000000e-02 -1.00000000e-02  1.50000000e-02  1.00000000e-02\n",
      " -1.50000000e-02 -1.50000000e-02  1.50000000e-02  1.50000000e-02\n",
      "  1.11022302e-16 -1.11022302e-16  1.11022302e-16 -1.11022302e-16\n",
      "  0.00000000e+00  0.00000000e+00 -1.11022302e-16  1.11022302e-16\n",
      "  0.00000000e+00  0.00000000e+00  0.00000000e+00 -1.11022302e-16\n",
      "  1.11022302e-16 -1.50000000e-02  0.00000000e+00  1.50000000e-02\n",
      " -1.11022302e-16  1.11022302e-16  4.00000000e-02  1.39870165e-01\n",
      "  2.49925137e-01  2.99850225e-01  2.99700300e-01  2.99700300e-01\n",
      "  2.99700300e-01  2.94705295e-01  2.89710290e-01  2.89855217e-01\n",
      "  2.89855217e-01  2.49750250e-01  1.14847681e-01 -1.00000000e-02\n",
      " -4.50000000e-02 -4.50000000e-02 -4.50275388e-02 -5.00250375e-02\n",
      " -5.00000000e-02 -5.00000000e-02 -5.00000000e-02 -5.00000000e-02\n",
      " -5.00000000e-02 -5.00250375e-02 -5.00250375e-02 -5.00000000e-02\n",
      " -5.00000000e-02 -5.50000000e-02 -5.50000000e-02 -5.00000000e-02\n",
      " -5.50325463e-02 -5.50325463e-02 -5.00000000e-02 -5.50000000e-02\n",
      " -5.50000000e-02 -5.50000000e-02 -5.50225363e-02 -5.50225363e-02\n",
      " -6.00000000e-02 -5.50000000e-02 -5.50000000e-02 -6.00000000e-02\n",
      " -6.00300451e-02 -5.50325463e-02 -5.50000000e-02 -6.00000000e-02\n",
      " -6.00000000e-02 -6.00000000e-02 -6.00300451e-02 -6.00300451e-02\n",
      " -6.00000000e-02 -6.00000000e-02 -6.00000000e-02 -6.00000000e-02\n",
      " -6.00300451e-02 -6.00300451e-02 -6.00000000e-02 -6.00000000e-02\n",
      " -6.00000000e-02 -6.00000000e-02]\n",
      "POSITION 1\n",
      "[]\n",
      "nan\n",
      "POSITION 2\n",
      "[]\n",
      "nan\n"
     ]
    },
    {
     "name": "stderr",
     "output_type": "stream",
     "text": [
      "c:\\users\\stepa\\appdata\\local\\programs\\python\\python38\\lib\\site-packages\\numpy\\core\\fromnumeric.py:3440: RuntimeWarning: Mean of empty slice.\n",
      "  return _methods._mean(a, axis=axis, dtype=dtype,\n",
      "c:\\users\\stepa\\appdata\\local\\programs\\python\\python38\\lib\\site-packages\\numpy\\core\\_methods.py:189: RuntimeWarning: invalid value encountered in double_scalars\n",
      "  ret = ret.dtype.type(ret / rcount)\n"
     ]
    }
   ],
   "source": [
    "\n",
    "\n",
    "d_pos1 = np.gradient(pos1,time1)\n",
    "d_pos2 = np.gradient(pos2,time2)\n",
    "\n",
    "print(\"POSITION 1\")\n",
    "print(d_pos1)\n",
    "print(\"POSITION 2\")\n",
    "print(d_pos2)\n",
    "\n",
    "print(\"POSITION 1\")\n",
    "print(d_pos1[d_pos1<-0.4])\n",
    "print(mean(d_pos1[d_pos1<-0.4]))\n",
    "print(\"POSITION 2\")\n",
    "print(d_pos2[d_pos2>0.45])\n",
    "print(mean(d_pos2[d_pos2>0.45]))\n",
    "#print(mean(d_pos2[(d_pos2<0.08) & (d_pos2>0.05)]))"
   ]
  },
  {
   "cell_type": "code",
   "execution_count": 63,
   "id": "819c8f00-f6d7-4006-afae-5c8186aed211",
   "metadata": {},
   "outputs": [
    {
     "data": {
      "text/plain": [
       "<function matplotlib.pyplot.show(*, block=None)>"
      ]
     },
     "execution_count": 63,
     "metadata": {},
     "output_type": "execute_result"
    },
    {
     "data": {
      "image/png": "[encoded data removed]",
      "text/plain": [
       "<Figure size 576x360 with 1 Axes>"
      ]
     },
     "metadata": {
      "needs_background": "light"
     },
     "output_type": "display_data"
    }
   ],
   "source": [
    "plt.figure(figsize = (8,5))\n",
    "\n",
    "plt.plot(time1, pos1, 'o-', color='k')\n",
    "plt.plot(time1, d_pos1, 'o-', color='k')\n",
    "plt.plot(time2, pos2, 'o-', color='b')\n",
    "plt.plot(time2, d_pos2, 'o-', color='b')\n",
    "\n",
    "plt.show"
   ]
  },
  {
   "cell_type": "code",
   "execution_count": null,
   "id": "b3bba0ff-b20e-4376-bc58-ce8462bb84de",
   "metadata": {},
   "outputs": [],
   "source": []
  },
  {
   "cell_type": "code",
   "execution_count": 56,
   "id": "259c2e81-6324-48ea-9722-95437f8a1f12",
   "metadata": {},
   "outputs": [
    {
     "name": "stdout",
     "output_type": "stream",
     "text": [
      "\n",
      "                    Breakpoint Regression Results                     \n",
      "====================================================================================================\n",
      "No. Observations                       95\n",
      "No. Model Parameters                    8\n",
      "Degrees of Freedom                     87\n",
      "Res. Sum of Squares           0.000537339\n",
      "Total Sum of Squares              8.95551\n",
      "R Squared                        0.999940\n",
      "Adjusted R Squared               0.999934\n",
      "Converged:                           True\n",
      "====================================================================================================\n",
      "====================================================================================================\n",
      "                    Estimate      Std Err            t        P>|t|       [0.025       0.975]\n",
      "----------------------------------------------------------------------------------------------------\n",
      "const               0.166515     0.000777       214.42     2.78e-120      0.16497      0.16806\n",
      "alpha1           0.000296188     0.000328      0.90294         0.369   -0.0003558   0.00094817\n",
      "beta1               0.620264      0.00322       192.66             -      0.61386      0.62666\n",
      "beta2              -0.559946      0.00324      -172.94             -     -0.56638     -0.55351\n",
      "beta3               -0.52371      0.00191      -274.91             -      -0.5275     -0.51992\n",
      "breakpoint1           4.0875      0.00301            -             -       4.0815       4.0935\n",
      "breakpoint2          5.00241      0.00336            -             -       4.9957       5.0091\n",
      "breakpoint3          8.17738      0.00318            -             -       8.1711       8.1837\n",
      "----------------------------------------------------------------------------------------------------\n",
      "These alphas(gradients of segments) are estimatedfrom betas(change in gradient)\n",
      "----------------------------------------------------------------------------------------------------\n",
      "alpha2               0.62056       0.0032       193.76     1.84e-116      0.61419      0.62693\n",
      "alpha3             0.0606142     0.000476       127.41     1.11e-100     0.059669      0.06156\n",
      "alpha4             -0.463096      0.00184      -251.05     3.13e-126     -0.46676     -0.45943\n",
      "====================================================================================================\n",
      "Davies test for existence of at least 1 breakpoint: p=0.591097 (e.g. p<0.05 means reject null hypothesis of no breakpoints  at 5% significance)\n",
      "\n",
      "\n",
      "0.6205600029423846\n"
     ]
    },
    {
     "name": "stderr",
     "output_type": "stream",
     "text": [
      "C:\\Users\\stepa\\AppData\\Local\\Temp/ipykernel_18976/2902436519.py:33: UserWarning: Matplotlib is currently using pgf, which is a non-GUI backend, so cannot show the figure.\n",
      "  plt.show()\n"
     ]
    },
    {
     "data": {
      "image/png": "[encoded data removed]",
      "text/plain": [
       "<Figure size 576x360 with 1 Axes>"
      ]
     },
     "metadata": {
      "needs_background": "light"
     },
     "output_type": "display_data"
    }
   ],
   "source": [
    "time1,pos1 = load_position(\"data/tezka_sila{}/pos1_{}.txt\".format(3,1))\n",
    "time2,pos2 = load_position(\"data/tezka_sila{}/pos2_{}.txt\".format(3,1))\n",
    "d_pos1 = np.gradient(pos1,time1)\n",
    "d_pos2 = np.gradient(pos2,time2)\n",
    "\n",
    "#if d_pos1[-3] > 0.2:\n",
    "#    pw_fit = piecewise_regression.Fit(time2, pos2, n_breakpoints=1)\n",
    "        \n",
    "if d_pos2[-3] < 0:\n",
    "    pw_fit = piecewise_regression.Fit(time2, pos2, n_breakpoints=3)\n",
    "        \n",
    "else:\n",
    "    pw_fit = piecewise_regression.Fit(time2, pos2, n_breakpoints=2)\n",
    "\n",
    "pw_fit.summary()\n",
    "result = pw_fit.get_results()\n",
    "#print (json.dumps(result, indent=2))\n",
    "print(pw_fit.get_results()['estimates']['alpha2']['estimate'])\n",
    "#print(pw_fit.get_results()['estimates']['alpha3']['estimate'])\n",
    "\n",
    "plt.figure(figsize = (8,5))\n",
    "\n",
    "# Plot the data, fit, breakpoints and confidence intervals\n",
    "pw_fit.plot_data(color=\"grey\", s=20)\n",
    "# Pass in standard matplotlib keywords to control any of the plots\n",
    "pw_fit.plot_fit(color=\"red\", linewidth=4)\n",
    "pw_fit.plot_breakpoints()\n",
    "pw_fit.plot_breakpoint_confidence_intervals()\n",
    "#plt.plot(x_range1, 0.466*x_range1, color='k')\n",
    "\n",
    "plt.xlabel(\"x\")\n",
    "plt.ylabel(\"y\")\n",
    "plt.show()\n"
   ]
  },
  {
   "cell_type": "code",
   "execution_count": null,
   "id": "a47b113a-7ed3-4ad2-9137-01d7d47307a3",
   "metadata": {},
   "outputs": [],
   "source": []
  },
  {
   "cell_type": "code",
   "execution_count": null,
   "id": "38ccdeec-e98b-4f45-9467-005bf1687e46",
   "metadata": {},
   "outputs": [],
   "source": []
  },
  {
   "cell_type": "code",
   "execution_count": null,
   "id": "9926ad7b-9c04-4493-bb5e-2e1b76f06e12",
   "metadata": {},
   "outputs": [],
   "source": []
  },
  {
   "cell_type": "code",
   "execution_count": null,
   "id": "b52ddcaa-e9c2-49d5-9b47-b762b5bbb6bd",
   "metadata": {},
   "outputs": [],
   "source": []
  },
  {
   "cell_type": "code",
   "execution_count": 7,
   "id": "000f5046-995b-4a3f-a8e7-fbd64acc2105",
   "metadata": {},
   "outputs": [
    {
     "name": "stdout",
     "output_type": "stream",
     "text": [
      "\n",
      "                    Breakpoint Regression Results                     \n",
      "====================================================================================================\n",
      "No. Observations                      108\n",
      "No. Model Parameters                   10\n",
      "Degrees of Freedom                     98\n",
      "Res. Sum of Squares           0.000414825\n",
      "Total Sum of Squares              10.1726\n",
      "R Squared                        0.999959\n",
      "Adjusted R Squared               0.999955\n",
      "Converged:                           True\n",
      "====================================================================================================\n",
      "====================================================================================================\n",
      "                    Estimate      Std Err            t        P>|t|       [0.025       0.975]\n",
      "----------------------------------------------------------------------------------------------------\n",
      "const                1.18404     0.000604       1960.3     6.71e-227       1.1828       1.1852\n",
      "alpha1          -2.89855e-05     0.000236     -0.12274         0.903  -0.00049763   0.00043966\n",
      "beta1              -0.595228      0.00139      -429.25             -     -0.59798     -0.59248\n",
      "beta2              0.0735272      0.00931       7.8937             -     0.055043     0.092012\n",
      "beta3                1.05275      0.00925       113.76             -       1.0344       1.0711\n",
      "beta4              -0.531081      0.00101      -523.35             -      -0.5331     -0.52907\n",
      "breakpoint1          4.44883      0.00213            -             -       4.4446        4.453\n",
      "breakpoint2          5.84858       0.0326            -             -       5.7839       5.9132\n",
      "breakpoint3          6.24536      0.00216            -             -       6.2411       6.2496\n",
      "breakpoint4          8.20131      0.00237            -             -       8.1966        8.206\n",
      "----------------------------------------------------------------------------------------------------\n",
      "These alphas(gradients of segments) are estimatedfrom betas(change in gradient)\n",
      "----------------------------------------------------------------------------------------------------\n",
      "alpha2             -0.595257      0.00137      -435.63     6.77e-163     -0.59797     -0.59255\n",
      "alpha3              -0.52173      0.00921      -56.624      1.11e-76     -0.54001     -0.50345\n",
      "alpha4              0.531023      0.00086       617.16     1.02e-177      0.52932      0.53273\n",
      "alpha5           -5.8054e-05     0.000538     -0.10791         0.914   -0.0011257    0.0010096\n",
      "====================================================================================================\n",
      "Davies test for existence of at least 1 breakpoint: p=0.129281 (e.g. p<0.05 means reject null hypothesis of no breakpoints  at 5% significance)\n",
      "\n",
      "\n",
      "-0.5952570246976017\n",
      "-0.5217297999803476\n"
     ]
    },
    {
     "data": {
      "image/png": "[encoded data removed]",
      "text/plain": [
       "<Figure size 576x360 with 1 Axes>"
      ]
     },
     "metadata": {
      "needs_background": "light"
     },
     "output_type": "display_data"
    }
   ],
   "source": [
    "import piecewise_regression\n",
    "import json\n",
    "\n",
    "\n",
    "x_range1 = np.linspace(3,4,300)\n",
    "x_range2 = np.linspace(3.5,7,300)\n",
    "\n",
    "pw_fit = piecewise_regression.Fit(time1, pos1, n_breakpoints=4)\n",
    "pw_fit.summary()\n",
    "result = pw_fit.get_results()\n",
    "#print (json.dumps(result, indent=2))\n",
    "print(pw_fit.get_results()['estimates']['alpha2']['estimate'])\n",
    "print(pw_fit.get_results()['estimates']['alpha3']['estimate'])\n",
    "\n",
    "plt.figure(figsize = (8,5))\n",
    "\n",
    "# Plot the data, fit, breakpoints and confidence intervals\n",
    "pw_fit.plot_data(color=\"grey\", s=20)\n",
    "# Pass in standard matplotlib keywords to control any of the plots\n",
    "pw_fit.plot_fit(color=\"red\", linewidth=4)\n",
    "pw_fit.plot_breakpoints()\n",
    "pw_fit.plot_breakpoint_confidence_intervals()\n",
    "#plt.plot(x_range1, 0.466*x_range1, color='k')\n",
    "\n",
    "plt.xlabel(\"x\")\n",
    "plt.ylabel(\"y\")\n",
    "plt.show()\n",
    "plt.close()"
   ]
  },
  {
   "cell_type": "code",
   "execution_count": null,
   "id": "75f07404-ef93-4f15-a1a6-fbb528071bc7",
   "metadata": {},
   "outputs": [],
   "source": []
  },
  {
   "cell_type": "code",
   "execution_count": null,
   "id": "1f1f5d3e-b608-4069-973b-e555660d8993",
   "metadata": {},
   "outputs": [],
   "source": []
  },
  {
   "cell_type": "code",
   "execution_count": 15,
   "id": "405000eb-d766-41cf-8c27-fb99d0254ba9",
   "metadata": {},
   "outputs": [
    {
     "name": "stdout",
     "output_type": "stream",
     "text": [
      "_____________________________\n",
      "Tezka, sila 1:\n",
      "v1: 0.25607355580125796 +- 0.0013637483666224962\n",
      "[0.24724539 0.25441864 0.25959436 0.25834499 0.25715411 0.26040253\n",
      " 0.25821381 0.25119164 0.25809654]\n",
      "v2: 0.017041032804865068 +- 0.001520078883681009\n",
      "[0.01843745 0.01803436 0.019298   0.01463283 0.01909416 0.0214379\n",
      " 0.02314129 0.00837836 0.01091494]\n",
      "u: -0.2666558439430033 +- 0.003671714694215738\n",
      "[-0.27008687 -0.27312827 -0.27635994 -0.27237342 -0.26390635 -0.27546459\n",
      " -0.27409884 -0.24431459 -0.25016972]\n",
      "_____________________________\n",
      "Tezka, sila 2:\n",
      "v1: 0.47679159819767036 +- 0.0015872060939201864\n",
      "[0.47822627 0.47841254 0.47476112 0.47360215 0.4644816  0.47859411\n",
      " 0.47657662 0.48242919 0.48358258 0.47724981]\n",
      "v2: 0.04014969497784399 +- 0.002238364347632646\n",
      "[0.05164201 0.0426053  0.04309887 0.02458126 0.03334905 0.03629303\n",
      " 0.04620701 0.04071118 0.04374625 0.03926297]\n",
      "u: -0.48624042906912895 +- 0.002436123425452823\n",
      "[-0.48730435 -0.4919281  -0.48186015 -0.4862524  -0.4719215  -0.48500503\n",
      " -0.50227743 -0.47827047 -0.48828637 -0.48929849]\n",
      "_____________________________\n",
      "Tezka, sila 3:\n",
      "v1: 0.6164627912003083 +- 0.013680672540119966\n",
      "[0.62056    0.60949847 0.62556216 0.63882833 0.49093593 0.64513888\n",
      " 0.6443184  0.63630226 0.63407696 0.61940652]\n",
      "v2: 0.06277378492314142 +- 0.002610810511964796\n",
      "[0.06061416 0.05913766 0.06251259 0.06289791 0.04108243 0.06879727\n",
      " 0.0640743  0.06771355 0.07298413 0.06792385]\n",
      "u: -0.6436609190568241 +- 0.01551626066102655\n",
      "[-0.64059186 -0.63701637 -0.64853754 -0.66151856 -0.50174173 -0.67459094\n",
      " -0.66185287 -0.67366406 -0.6760187  -0.66107656]\n"
     ]
    }
   ],
   "source": [
    "data_tezka = {}\n",
    "data_tezka_raw = {}\n",
    "\n",
    "for j in range(3):\n",
    "       \n",
    "    v1 = []\n",
    "    v2 = []\n",
    "    u = []\n",
    "\n",
    "    for i in range(10):\n",
    "        \n",
    "        if i == 7 and j == 0:\n",
    "            continue\n",
    "\n",
    "        time1,pos1 = load_position(\"data/tezka_sila{}/pos1_{}.txt\".format(j+1,i+1))\n",
    "        time2,pos2 = load_position(\"data/tezka_sila{}/pos2_{}.txt\".format(j+1,i+1))\n",
    "        d_pos1 = np.gradient(pos1,time1)\n",
    "        d_pos2 = np.gradient(pos2,time2)\n",
    "\n",
    "        if d_pos1[-3] < -0.2:\n",
    "            pw_fit1 = piecewise_regression.Fit(time1, pos1, n_breakpoints=1)\n",
    "        \n",
    "        elif d_pos1[-3] > 0.1:\n",
    "            pw_fit1 = piecewise_regression.Fit(time1, pos1, n_breakpoints=2)\n",
    "        \n",
    "        else:\n",
    "            pw_fit1 = piecewise_regression.Fit(time1, pos1, n_breakpoints=3)\n",
    "            \n",
    "            \n",
    "        if d_pos2[-3] < 0:\n",
    "            pw_fit2 = piecewise_regression.Fit(time2, pos2, n_breakpoints=3)\n",
    "        \n",
    "        else:\n",
    "            pw_fit2 = piecewise_regression.Fit(time2, pos2, n_breakpoints=2)\n",
    "        \n",
    "        \n",
    "        u.append(pw_fit1.get_results()['estimates']['alpha2']['estimate'])\n",
    "        v1.append(pw_fit2.get_results()['estimates']['alpha2']['estimate'])\n",
    "        v2.append(pw_fit2.get_results()['estimates']['alpha3']['estimate'])\n",
    "\n",
    "\n",
    "    v1 = np.array(v1)\n",
    "    v2 = np.array(v2)\n",
    "    u = np.array(u)\n",
    "\n",
    "    print(\"_____________________________\")\n",
    "    print(\"Tezka, sila {}:\".format(j+1))\n",
    "    print(\"v1: {} +- {}\".format(mean(v1), error(v1)))\n",
    "    print(v1)\n",
    "    print(\"v2: {} +- {}\".format(mean(v2), error(v2)))\n",
    "    print(v2)\n",
    "    print(\"u: {} +- {}\".format(mean(u), error(u)))\n",
    "    print(u)\n",
    "    \n",
    "    data_tezka[\"sila{}\".format(j+1)] = { \"v1\": [mean(v1), error(v1)], \"v2\": [mean(v2), error(v2)], \"u\": [mean(u), error(u)] }\n",
    "    data_tezka_raw[\"sila{}\".format(j+1)] = { \"v1\": v1, \"v2\": v2, \"u\": u }"
   ]
  },
  {
   "cell_type": "code",
   "execution_count": null,
   "id": "8c697e76-bd32-459d-b639-dde02a60b89a",
   "metadata": {},
   "outputs": [],
   "source": []
  }
 ],
 "metadata": {
  "kernelspec": {
   "display_name": "Python 3 (ipykernel)",
   "language": "python",
   "name": "python3"
  },
  "language_info": {
   "codemirror_mode": {
    "name": "ipython",
    "version": 3
   },
   "file_extension": ".py",
   "mimetype": "text/x-python",
   "name": "python",
   "nbconvert_exporter": "python",
   "pygments_lexer": "ipython3",
   "version": "3.8.7"
  }
 },
 "nbformat": 4,
 "nbformat_minor": 5
}
