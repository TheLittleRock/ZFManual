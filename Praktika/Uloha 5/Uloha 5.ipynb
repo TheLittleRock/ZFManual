{
 "cells": [
  {
   "cell_type": "code",
   "execution_count": 141,
   "id": "d236a89f-07b3-4fea-8179-673994c1c762",
   "metadata": {},
   "outputs": [],
   "source": [
    "import numpy as np\n",
    "import sympy as smp\n",
    "import matplotlib.pyplot as plt\n",
    "from scipy.optimize import curve_fit\n",
    "from scipy.integrate import cumulative_trapezoid\n",
    "from tabulate import tabulate\n",
    "import matplotlib\n",
    "import piecewise_regression\n",
    "import json"
   ]
  },
  {
   "cell_type": "code",
   "execution_count": 325,
   "id": "244e3fb0-261e-43b1-a730-a8eb4bc3ed7b",
   "metadata": {},
   "outputs": [],
   "source": [
    "def mean(arr):\n",
    "    return np.mean(arr)\n",
    "\n",
    "def error(x):\n",
    "    return x.std() / np.sqrt(x.size)\n",
    "\n",
    "def weighted_error(x, err):\n",
    "    \n",
    "    x = np.asarray(x)\n",
    "    err = np.asarray(err)\n",
    "    \n",
    "    average = np.sum(x/(err**2))/np.sum(1/err**2)\n",
    "    \n",
    "    average_error = 1/np.sqrt(np.sum(1/err**2))\n",
    "    \n",
    "    return average, average_error\n",
    "\n",
    "def decimal(x):\n",
    "    return x.replace(',', '.').encode()\n",
    "\n",
    "def sum_err(x,sx):\n",
    "    return np.sum(x),np.sqrt(np.sum([np.sum(i**2) for i in sx])) \n",
    "\n",
    "def diff_err(x,sx):\n",
    "    return x[0]-x[1],np.sqrt(np.sum([np.sum(i**2) for i in sx])) \n",
    "\n",
    "def times_err(x,sx):\n",
    "    return np.prod(x), np.prod(x)*np.sqrt(np.sum([np.sum((i/j)**2) for i,j in zip(sx,x)]))\n",
    "\n",
    "#def frac_err(x,sx):\n",
    "#    return x[0]/x[1], x[0]/x[1]*np.sqrt(np.sum((sx/x)**2))\n",
    "\n",
    "def frac_err(x,sx):\n",
    "    return x[0]/x[1], x[0]/x[1]*np.sqrt(np.sum([np.sum((i/j)**2) for i,j in zip(sx,x)]))\n",
    "    #return [np.sum((i/j)**2) for i,j in zip(sx,x)]"
   ]
  },
  {
   "cell_type": "code",
   "execution_count": 97,
   "id": "4e872aba-6153-4e0b-a711-83ae9d3fdb8b",
   "metadata": {},
   "outputs": [],
   "source": [
    "matplotlib.use(\"pgf\")\n",
    "matplotlib.rcParams.update({\n",
    "    \"pgf.texsystem\": \"pdflatex\",\n",
    "    'font.family': 'serif',\n",
    "    'text.usetex': True,\n",
    "    'pgf.rcfonts': False,\n",
    "})"
   ]
  },
  {
   "cell_type": "code",
   "execution_count": null,
   "id": "2b7a13cb-b12a-4174-aa7b-132e31593715",
   "metadata": {},
   "outputs": [],
   "source": []
  },
  {
   "cell_type": "markdown",
   "id": "1557f4cc-7a42-4c88-9c17-b42bb15bee9f",
   "metadata": {
    "jp-MarkdownHeadingCollapsed": true,
    "tags": []
   },
   "source": [
    "# **UKOL 1**"
   ]
  },
  {
   "cell_type": "markdown",
   "id": "f578c3bb-683a-4543-91b4-a7ac892fab8e",
   "metadata": {
    "tags": []
   },
   "source": [
    "## DATA"
   ]
  },
  {
   "cell_type": "code",
   "execution_count": 5,
   "id": "f640b409-35e4-406d-baca-1870b852915f",
   "metadata": {},
   "outputs": [],
   "source": [
    "### POCET KMITU ZA 5 MINUT\n",
    "n_raw = np.array([874, 866, 855, 873, 845, 871, 809, 856, 873, 873, 871,877, 872, 873])"
   ]
  },
  {
   "cell_type": "code",
   "execution_count": 46,
   "id": "af8657f0-de8c-40dc-beec-826d0fe2a3cc",
   "metadata": {},
   "outputs": [],
   "source": [
    "m = 4.59/1000 ##g\n",
    "r = 11.9/2000 ##mm\n",
    "V = 1.133/1000 ##m**2"
   ]
  },
  {
   "cell_type": "code",
   "execution_count": 47,
   "id": "cd9c83ac-31fe-4725-957a-954e7200a1a4",
   "metadata": {},
   "outputs": [
    {
     "data": {
      "text/plain": [
       "99410.0"
      ]
     },
     "execution_count": 47,
     "metadata": {},
     "output_type": "execute_result"
    }
   ],
   "source": [
    "p_mistnost = 994.1 #hPa\n",
    "b = 994.1*100\n",
    "b"
   ]
  },
  {
   "cell_type": "code",
   "execution_count": 48,
   "id": "d2b3738f-c67f-4e7d-9bac-6a825fbf47c1",
   "metadata": {},
   "outputs": [
    {
     "name": "stdout",
     "output_type": "stream",
     "text": [
      "863.4285714285714 +- 4.675941775394607\n"
     ]
    }
   ],
   "source": [
    "n = mean(n_raw)\n",
    "sn = error(n_raw)\n",
    "print('{} +- {}'.format(n,sn))"
   ]
  },
  {
   "cell_type": "code",
   "execution_count": 57,
   "id": "84e80295-4ab7-4913-a6af-ba95e4d7940a",
   "metadata": {},
   "outputs": [
    {
     "name": "stdout",
     "output_type": "stream",
     "text": [
      "0.34745201853077434 +- 0.0018816442519445074\n"
     ]
    }
   ],
   "source": [
    "T = (5*60)/n\n",
    "sT = 5*60*sn/n**2\n",
    "print('{} +- {}'.format(T,sT))\n"
   ]
  },
  {
   "cell_type": "code",
   "execution_count": 58,
   "id": "76e77b88-4556-48f0-ac8d-31b8e788f06c",
   "metadata": {},
   "outputs": [
    {
     "name": "stdout",
     "output_type": "stream",
     "text": [
      "99814.8534912533 +- 10\n"
     ]
    }
   ],
   "source": [
    "p = b + m*9.81/(np.pi*r**2)\n",
    "sp = 10\n",
    "print('{} +- {}'.format(p,sp))"
   ]
  },
  {
   "cell_type": "code",
   "execution_count": 59,
   "id": "8a3bc874-6820-43f2-a038-ebd63fc836ce",
   "metadata": {},
   "outputs": [
    {
     "name": "stdout",
     "output_type": "stream",
     "text": [
      "1.37736762928113 +- 0.021468302792772898\n"
     ]
    }
   ],
   "source": [
    "k = 4*m*V/(T**2*p*r**4)\n",
    "sk = 4*m*V/(p*r**4)*sT/T**4\n",
    "print('{} +- {}'.format(k,sk))"
   ]
  },
  {
   "cell_type": "code",
   "execution_count": null,
   "id": "17cf5eac-efa9-4f01-b990-a9ba21784e3f",
   "metadata": {},
   "outputs": [],
   "source": []
  },
  {
   "cell_type": "code",
   "execution_count": 100,
   "id": "dfc91b45-bd14-4bd4-adcb-26b93fbe3e08",
   "metadata": {},
   "outputs": [
    {
     "name": "stdout",
     "output_type": "stream",
     "text": [
      "\\begin{tabular}{rrrrrrrrrrrrrr}\n",
      "\\toprule\n",
      " 874 & 866 & 855 & 873 & 845 & 871 & 809 & 856 & 873 & 873 & 871 & 877 & 872 & 873 \\\\\n",
      "\\bottomrule\n",
      "\\end{tabular}\n"
     ]
    }
   ],
   "source": [
    "T = np.array([n_raw])\n",
    "\n",
    "print(tabulate(T, tablefmt=\"latex_booktabs\"))"
   ]
  },
  {
   "cell_type": "code",
   "execution_count": null,
   "id": "f326357a-11db-4c81-ab52-eb5df7563954",
   "metadata": {},
   "outputs": [],
   "source": []
  },
  {
   "cell_type": "markdown",
   "id": "64ac7235-54bb-4613-a28d-c42d375cff5c",
   "metadata": {
    "tags": []
   },
   "source": [
    "# **UKOL 2**"
   ]
  },
  {
   "cell_type": "markdown",
   "id": "9cdde096-46eb-49fd-86ba-efcef11db428",
   "metadata": {
    "tags": []
   },
   "source": [
    "## Data"
   ]
  },
  {
   "cell_type": "code",
   "execution_count": 61,
   "id": "34e02367-36b7-4b24-906b-06d8832ce2ac",
   "metadata": {},
   "outputs": [],
   "source": [
    "h0 = np.array([45.6,29.1,31.5,34.3,36,37.4,37,35.6,36.2,38.4,37.2,36.3])\n",
    "sh0 = 0.1\n",
    "h = np.array([12.4,7.2,8.4,8.1,9.7,10,4.7,8.8,8.5,9.2,8.6,8.4])\n",
    "sh = 0.1 #cm\n",
    "t = np.array([0.141,0.217,0.081,0.362,0.198,0.146,0.679,0.285,0.359,0.363,0.4,0.445])"
   ]
  },
  {
   "cell_type": "code",
   "execution_count": 5,
   "id": "56bee909-eeb1-499b-91fe-5326c4a34c28",
   "metadata": {},
   "outputs": [],
   "source": [
    "h0 = np.array([45.6,29.1,31.5,34.3,36,37.4,35.6,36.2,38.4,37.2,36.3])\n",
    "sh0 = 0.1\n",
    "h = np.array([12.4,7.2,8.4,8.1,9.7,10,8.8,8.5,9.2,8.6,8.4])\n",
    "sh = 0.1 #cm\n",
    "t = np.array([0.141,0.217,0.081,0.362,0.198,0.146,0.285,0.359,0.363,0.4,0.445])"
   ]
  },
  {
   "cell_type": "code",
   "execution_count": 6,
   "id": "ead72c75-1cbe-4210-8a03-9de2636e3cda",
   "metadata": {},
   "outputs": [
    {
     "data": {
      "text/plain": [
       "8.400000000000002"
      ]
     },
     "execution_count": 6,
     "metadata": {},
     "output_type": "execute_result"
    }
   ],
   "source": [
    "26.8 - 18.4"
   ]
  },
  {
   "cell_type": "markdown",
   "id": "9d0f73c2-0de3-498d-a9a4-f7781f861412",
   "metadata": {
    "tags": []
   },
   "source": [
    "## Graf a k"
   ]
  },
  {
   "cell_type": "code",
   "execution_count": 7,
   "id": "3f2fc115-d1e4-4be5-8a31-b433ecb81ab9",
   "metadata": {},
   "outputs": [
    {
     "name": "stdout",
     "output_type": "stream",
     "text": [
      "[1.37349398 1.32876712 1.36363636 1.30916031 1.36882129 1.3649635\n",
      " 1.32835821 1.30685921 1.31506849 1.3006993  1.30107527]\n",
      "[0.03650078 0.03531216 0.03623881 0.0347911  0.0363766  0.03627408\n",
      " 0.03530129 0.03472995 0.03494811 0.03456625 0.03457624]\n"
     ]
    }
   ],
   "source": [
    "k2 = (h0)/(h0-h)\n",
    "sk2 = frac_err([h0,h0-h],[0.1,0.2])[1]\n",
    "print(k2)\n",
    "print(sk2)"
   ]
  },
  {
   "cell_type": "code",
   "execution_count": 8,
   "id": "d7e3a97b-9425-4e2f-8d9d-08d7db8df67e",
   "metadata": {},
   "outputs": [
    {
     "name": "stdout",
     "output_type": "stream",
     "text": [
      "a: -0.22 +- 0.09\n",
      "b: 1.39 +- 0.03\n"
     ]
    },
    {
     "data": {
      "image/png": "[encoded data removed]",
      "text/plain": [
       "<Figure size 576x360 with 1 Axes>"
      ]
     },
     "metadata": {
      "needs_background": "light"
     },
     "output_type": "display_data"
    }
   ],
   "source": [
    "def func(x,a,b):\n",
    "    return a*x + b\n",
    "\n",
    "x_range = np.linspace(0,0.7,200)\n",
    "\n",
    "params, err = curve_fit(func, t, k2, sigma = sk2, absolute_sigma=True)\n",
    "a,b = params\n",
    "sa, sb = np.sqrt(np.diag(err))\n",
    "\n",
    "print('a: {:.2f} +- {:.2f}'.format(a,sa))\n",
    "print('b: {:.2f} +- {:.2f}'.format(b,sb))\n",
    "\n",
    "plt.figure(figsize = (8,5))\n",
    "\n",
    "plt.scatter(t,k2,marker = 'x',color = 'k', label = 'Zavislost Poissonovy konstanty na čase')\n",
    "plt.plot(x_range, a*x_range + b, linestyle = 'dashed', color = 'k', label = \"Fit závislosti\" + r\" $k = -0.22 t + 1.39$\")\n",
    "\n",
    "#plt.legend(loc='upper right', fontsize=9)\n",
    "\n",
    "handles, labels = plt.gca().get_legend_handles_labels()\n",
    "order = [1,0]\n",
    "\n",
    "plt.legend([handles[idx] for idx in order],[labels[idx] for idx in order]) \n",
    "\n",
    "plt.ylabel(r\"$k$  [-]\", fontsize=12)\n",
    "plt.xlabel(r\"$t$ [s]\", fontsize=12)\n",
    "\n",
    "plt.savefig('ukol2.pdf', bbox_inches = 'tight')\n",
    "\n",
    "plt.show()"
   ]
  },
  {
   "cell_type": "markdown",
   "id": "cc848576-f8e7-430a-8cef-5464ef4f1f02",
   "metadata": {
    "tags": []
   },
   "source": [
    "## Tabulka"
   ]
  },
  {
   "cell_type": "code",
   "execution_count": 9,
   "id": "d2516bad-7cbe-4952-b3b4-8b33dccb9104",
   "metadata": {},
   "outputs": [
    {
     "name": "stdout",
     "output_type": "stream",
     "text": [
      "\\begin{tabular}{rrrrr}\n",
      "\\toprule\n",
      " 45.6 & 12.4 & 0.141 & 1.37 & 0.04 \\\\\n",
      " 29.1 &  7.2 & 0.217 & 1.33 & 0.04 \\\\\n",
      " 31.5 &  8.4 & 0.081 & 1.36 & 0.04 \\\\\n",
      " 34.3 &  8.1 & 0.362 & 1.31 & 0.03 \\\\\n",
      " 36   &  9.7 & 0.198 & 1.37 & 0.04 \\\\\n",
      " 37.4 & 10   & 0.146 & 1.36 & 0.04 \\\\\n",
      " 35.6 &  8.8 & 0.285 & 1.33 & 0.04 \\\\\n",
      " 36.2 &  8.5 & 0.359 & 1.31 & 0.03 \\\\\n",
      " 38.4 &  9.2 & 0.363 & 1.32 & 0.03 \\\\\n",
      " 37.2 &  8.6 & 0.4   & 1.3  & 0.03 \\\\\n",
      " 36.3 &  8.4 & 0.445 & 1.3  & 0.03 \\\\\n",
      "\\bottomrule\n",
      "\\end{tabular}\n"
     ]
    }
   ],
   "source": [
    "T = np.array([h0.round(1),h.round(1), t.round(3), k2.round(2), sk2.round(2)]).T\n",
    "\n",
    "print(tabulate(T, tablefmt=\"latex_booktabs\"))"
   ]
  },
  {
   "cell_type": "code",
   "execution_count": null,
   "id": "b83f76cb-5d32-426b-b82e-356cd9858fab",
   "metadata": {},
   "outputs": [],
   "source": []
  },
  {
   "cell_type": "code",
   "execution_count": null,
   "id": "b2d3ec14-d9bc-4348-82ce-394542b3df10",
   "metadata": {},
   "outputs": [],
   "source": []
  },
  {
   "cell_type": "code",
   "execution_count": null,
   "id": "f7ad2245-b3ed-4330-b7d2-64c0b8c5770b",
   "metadata": {},
   "outputs": [],
   "source": []
  },
  {
   "cell_type": "markdown",
   "id": "8be615e2-1c5f-495d-81fb-462c34bd38eb",
   "metadata": {
    "tags": []
   },
   "source": [
    "# UKOL 3"
   ]
  },
  {
   "cell_type": "markdown",
   "id": "eb55d2b6-d853-4fd4-90f3-84b899170b65",
   "metadata": {
    "tags": []
   },
   "source": [
    "## Data"
   ]
  },
  {
   "cell_type": "code",
   "execution_count": 364,
   "id": "0582ed9c-bc2d-4db7-a740-fc0eced90088",
   "metadata": {},
   "outputs": [],
   "source": [
    "m = 212.06 #m prazdne je 96.54g\n",
    "m_nad = 96.54\n",
    "m2 = 212.6 ##DESTILKA\n",
    "sm = 0.02\n",
    "temp = 21.8 #stupnu celsia\n",
    "p_mistnost = 994.1 #hPa"
   ]
  },
  {
   "cell_type": "code",
   "execution_count": 365,
   "id": "f11e5535-2e79-4036-8fa2-5f020b3c1646",
   "metadata": {},
   "outputs": [
    {
     "data": {
      "text/plain": [
       "116.05999999999999"
      ]
     },
     "execution_count": 365,
     "metadata": {},
     "output_type": "execute_result"
    }
   ],
   "source": [
    "m2 - m_nad"
   ]
  },
  {
   "cell_type": "code",
   "execution_count": 366,
   "id": "9007eb61-3b58-4b28-bc02-faafccf4b4c4",
   "metadata": {},
   "outputs": [
    {
     "data": {
      "text/plain": [
       "116.49211635611199"
      ]
     },
     "execution_count": 366,
     "metadata": {},
     "output_type": "execute_result"
    }
   ],
   "source": [
    "V = (m2 - m_nad)*0.9998*(1+0.00018*(temp))\n",
    "V"
   ]
  },
  {
   "cell_type": "code",
   "execution_count": 367,
   "id": "5019b4cb-4919-4bcd-91bc-5197747c7864",
   "metadata": {},
   "outputs": [
    {
     "data": {
      "text/plain": [
       "1.0037232152"
      ]
     },
     "execution_count": 367,
     "metadata": {},
     "output_type": "execute_result"
    }
   ],
   "source": [
    "0.9998*(1+0.00018*(temp))"
   ]
  },
  {
   "cell_type": "code",
   "execution_count": 370,
   "id": "917d18d2-1d33-46f5-88b6-047d25e3e590",
   "metadata": {},
   "outputs": [
    {
     "data": {
      "text/plain": [
       "1.79964e-05"
      ]
     },
     "execution_count": 370,
     "metadata": {},
     "output_type": "execute_result"
    }
   ],
   "source": [
    "0.9998*(0.00018*(0.1))"
   ]
  },
  {
   "cell_type": "code",
   "execution_count": 371,
   "id": "17ca32fe-98ee-4e40-aa4b-2a6b9a4bbbd5",
   "metadata": {},
   "outputs": [
    {
     "data": {
      "text/plain": [
       "1.7929644076643253e-05"
      ]
     },
     "execution_count": 371,
     "metadata": {},
     "output_type": "execute_result"
    }
   ],
   "source": [
    "1.79964e-05/1.0037232152"
   ]
  },
  {
   "cell_type": "code",
   "execution_count": 373,
   "id": "06ca2a77-23ec-4841-8a2d-2d84e0d0eb06",
   "metadata": {},
   "outputs": [
    {
     "data": {
      "text/plain": [
       "0.0002586206896551724"
      ]
     },
     "execution_count": 373,
     "metadata": {},
     "output_type": "execute_result"
    }
   ],
   "source": [
    "0.03/116"
   ]
  },
  {
   "cell_type": "code",
   "execution_count": 369,
   "id": "b468665e-dc4f-494a-9bfa-28510ba5472b",
   "metadata": {},
   "outputs": [
    {
     "data": {
      "text/plain": [
       "0.029779954309962452"
      ]
     },
     "execution_count": 369,
     "metadata": {},
     "output_type": "execute_result"
    }
   ],
   "source": [
    "sV = np.sqrt(2*0.02**2)*0.9998*(1+0.00018*(temp + 273.15))\n",
    "sV"
   ]
  },
  {
   "cell_type": "markdown",
   "id": "5f980c82-090a-4d75-8f60-4c15c8b4dc27",
   "metadata": {
    "tags": []
   },
   "source": [
    "# Ukol 4"
   ]
  },
  {
   "cell_type": "markdown",
   "id": "4dd7e3ce-eaa6-4784-90ae-350b08e8de9d",
   "metadata": {
    "tags": []
   },
   "source": [
    "## Test"
   ]
  },
  {
   "cell_type": "code",
   "execution_count": 4,
   "id": "06d9df0c-73bd-4ed9-90c7-24e51f7a0185",
   "metadata": {},
   "outputs": [],
   "source": [
    "V2d = 17.25 ### Dílku, celkem je 25 dílků\n",
    "V1d = 15.5 ### Dílku\n",
    "sV2d = 0.25\n",
    "sV1d = 0.25\n",
    "dh = 0.85/100##cm\n",
    "sdh = 0.05/100 ##cm\n",
    "p_a = p_mistnost*100"
   ]
  },
  {
   "cell_type": "code",
   "execution_count": 5,
   "id": "6b36019d-6a9d-44c2-b604-a212c44a38b2",
   "metadata": {},
   "outputs": [
    {
     "data": {
      "text/plain": [
       "0.85"
      ]
     },
     "execution_count": 5,
     "metadata": {},
     "output_type": "execute_result"
    }
   ],
   "source": [
    "0.1 + 0.75"
   ]
  },
  {
   "cell_type": "code",
   "execution_count": 6,
   "id": "04e8cd33-13c3-4e6e-b6ea-15d6f64bd458",
   "metadata": {},
   "outputs": [],
   "source": [
    "V1 =100*V1d/25*0.66/1000\n",
    "sV1 =100*sV1d/25*0.66/1000\n",
    "V2 =100*V2d/25*0.66/1000\n",
    "sV2 =100*sV2d/25*0.66/1000\n",
    "V100 = 65.6/1000"
   ]
  },
  {
   "cell_type": "code",
   "execution_count": 7,
   "id": "f59d6ee9-53d1-493a-a873-85f60900bc6a",
   "metadata": {},
   "outputs": [
    {
     "data": {
      "text/plain": [
       "87.794430636393"
      ]
     },
     "execution_count": 7,
     "metadata": {},
     "output_type": "execute_result"
    }
   ],
   "source": [
    "dp = dh*0.9998*(1+0.00018*(temp + 273.15))*9.81*1000\n",
    "sdp = sdh*0.9998*(1+0.00018*(temp + 273.15))*9.81*1000\n",
    "dp"
   ]
  },
  {
   "cell_type": "code",
   "execution_count": 8,
   "id": "9df6f75d-9dc1-4fe8-abc5-70809439f595",
   "metadata": {},
   "outputs": [
    {
     "data": {
      "text/plain": [
       "5.211185270011677"
      ]
     },
     "execution_count": 8,
     "metadata": {},
     "output_type": "execute_result"
    }
   ],
   "source": [
    "Vol = (V2 - V1)*p_a/dp + V2 - V100\n",
    "Vol"
   ]
  },
  {
   "cell_type": "code",
   "execution_count": 9,
   "id": "1e54392a-193e-447b-9478-9d1e4d09ed77",
   "metadata": {},
   "outputs": [
    {
     "data": {
      "text/plain": [
       "(0.040920000000000005, 0.04554, 5.231245270011677)"
      ]
     },
     "execution_count": 9,
     "metadata": {},
     "output_type": "execute_result"
    }
   ],
   "source": [
    "V1,V2, (V2 - V1)*p_a/dp"
   ]
  },
  {
   "cell_type": "code",
   "execution_count": 10,
   "id": "aef18788-61c7-4b39-be46-c7a0ad5bf971",
   "metadata": {},
   "outputs": [
    {
     "ename": "SyntaxError",
     "evalue": "invalid syntax (Temp/ipykernel_21296/4225905397.py, line 1)",
     "output_type": "error",
     "traceback": [
      "\u001b[1;36m  File \u001b[1;32m\"C:\\Users\\stepa\\AppData\\Local\\Temp/ipykernel_21296/4225905397.py\"\u001b[1;36m, line \u001b[1;32m1\u001b[0m\n\u001b[1;33m    (V1 - V2)*4*0.66*p_mistnost/\u001b[0m\n\u001b[1;37m                                ^\u001b[0m\n\u001b[1;31mSyntaxError\u001b[0m\u001b[1;31m:\u001b[0m invalid syntax\n"
     ]
    }
   ],
   "source": [
    "(V1 - V2)*4*0.66*p_mistnost/"
   ]
  },
  {
   "cell_type": "code",
   "execution_count": null,
   "id": "87de0c06-ec4f-45ee-8418-6d153588042d",
   "metadata": {},
   "outputs": [],
   "source": []
  },
  {
   "cell_type": "code",
   "execution_count": null,
   "id": "52d211f7-97eb-4c99-befb-0529cfa9bf54",
   "metadata": {},
   "outputs": [],
   "source": []
  },
  {
   "cell_type": "code",
   "execution_count": 12,
   "id": "c8e56528-3435-42c7-8442-0172fb59b006",
   "metadata": {},
   "outputs": [],
   "source": [
    "V2d = 17.25 ### Dílku, celkem je 25 dílků\n",
    "V1d = 15.5 ### Dílku\n",
    "sV2d = 0.25\n",
    "sV1d = 0.25\n",
    "dh = 0.85/100##cm\n",
    "sdh = 0.05/100 ##cm\n",
    "p_a = p_mistnost*100"
   ]
  },
  {
   "cell_type": "code",
   "execution_count": null,
   "id": "95e847ef-8c47-4161-9402-04868f1198c1",
   "metadata": {},
   "outputs": [],
   "source": []
  },
  {
   "cell_type": "code",
   "execution_count": 111,
   "id": "0163b094-7323-48a8-8e72-52b7de0cf311",
   "metadata": {},
   "outputs": [
    {
     "data": {
      "text/plain": [
       "array([8.37727273, 8.23636364, 8.24393939, 7.92121212, 8.2       ,\n",
       "       8.36363636, 8.        , 7.89545455, 7.87727273, 7.69242424])"
      ]
     },
     "execution_count": 111,
     "metadata": {},
     "output_type": "execute_result"
    }
   ],
   "source": [
    "np.array([5.529,5.436,5.441,5.228,5.412,5.520,5.280,5.211,5.199,5.077])/0.66"
   ]
  },
  {
   "cell_type": "code",
   "execution_count": 112,
   "id": "86afe3d5-4384-42d3-8826-e63075d2bbae",
   "metadata": {},
   "outputs": [
    {
     "data": {
      "text/plain": [
       "array([10.23939394, 10.98787879, 10.48333333,  9.9469697 , 10.51212121,\n",
       "       10.09530303, 10.32727273,  9.89848485, 10.22727273, 10.00151515])"
      ]
     },
     "execution_count": 112,
     "metadata": {},
     "output_type": "execute_result"
    }
   ],
   "source": [
    "np.array([6.758,7.252,6.919,6.565,6.938,6.6629,6.816,6.533,6.750,6.601])/0.66"
   ]
  },
  {
   "cell_type": "code",
   "execution_count": 150,
   "id": "d333930b-71d3-4d14-a75b-905f324e124a",
   "metadata": {},
   "outputs": [
    {
     "data": {
      "text/plain": [
       "array([13.56818182, 13.10606061, 12.96515152, 12.92121212, 12.81818182])"
      ]
     },
     "execution_count": 150,
     "metadata": {},
     "output_type": "execute_result"
    }
   ],
   "source": [
    "np.array([8.955, 8.650, 8.557, 8.528, 8.460])/0.66"
   ]
  },
  {
   "cell_type": "code",
   "execution_count": 151,
   "id": "7531f2f7-e57c-4a76-b4f7-00f42272ab41",
   "metadata": {},
   "outputs": [
    {
     "data": {
      "text/plain": [
       "array([14.14393939, 14.21818182, 13.97424242, 14.7530303 , 13.66666667])"
      ]
     },
     "execution_count": 151,
     "metadata": {},
     "output_type": "execute_result"
    }
   ],
   "source": [
    "np.array([9.335, 9.384, 9.223, 9.737, 9.020])/0.66"
   ]
  },
  {
   "cell_type": "code",
   "execution_count": 26,
   "id": "fd5abb07-cdd3-4061-a794-9d5c59cf8ac7",
   "metadata": {},
   "outputs": [
    {
     "data": {
      "text/plain": [
       "0.375"
      ]
     },
     "execution_count": 26,
     "metadata": {},
     "output_type": "execute_result"
    }
   ],
   "source": [
    "0.25+0.125"
   ]
  },
  {
   "cell_type": "markdown",
   "id": "5107e7b3-ec14-427a-b76d-036fd03cf5ce",
   "metadata": {
    "tags": []
   },
   "source": [
    "### TRUBKA test"
   ]
  },
  {
   "cell_type": "code",
   "execution_count": 41,
   "id": "cacdd0b9-99d0-46bd-a6ad-2980f45a5f08",
   "metadata": {},
   "outputs": [],
   "source": [
    "Vt1d = np.array([3.375, 3.25, 3.25, 3.25, 3.25])\n",
    "Vt2d = np.array([3.5, 3.5, 3.5, 3.625, 3.375])\n",
    "sVt2d = 0.125\n",
    "sVt1d = 0.125\n",
    "\n",
    "dht = np.array([6.4,6.9,5.2,12.3,3.4])/100\n",
    "sdht = 0.1\n",
    "\n",
    "p_a = 99410\n",
    "temp = 21.8"
   ]
  },
  {
   "cell_type": "code",
   "execution_count": 47,
   "id": "2d446992-f7c1-4ad9-928c-8b6ab636b6ff",
   "metadata": {},
   "outputs": [
    {
     "data": {
      "text/plain": [
       "(array([8.91e-06, 8.58e-06, 8.58e-06, 8.58e-06, 8.58e-06]),\n",
       " array([9.24e-06, 9.24e-06, 9.24e-06, 9.57e-06, 8.91e-06]))"
      ]
     },
     "execution_count": 47,
     "metadata": {},
     "output_type": "execute_result"
    }
   ],
   "source": [
    "Vt1 =100*Vt1d/25*0.66/100**3\n",
    "sVt1 =100*sVt1d/25*0.66/100**3\n",
    "\n",
    "Vt2 =100*Vt2d/25*0.66/100**3\n",
    "sVt2 =100*sVt2d/25*0.66/100**3\n",
    "\n",
    "V100 = 65.6/100**3\n",
    "\n",
    "Vt1,Vt2"
   ]
  },
  {
   "cell_type": "code",
   "execution_count": 48,
   "id": "46258fc3-3737-4d26-a219-05b2e12d929f",
   "metadata": {},
   "outputs": [
    {
     "data": {
      "text/plain": [
       "array([ 661.04041891,  712.68420164,  537.09534036, 1270.43705509,\n",
       "        351.17772255])"
      ]
     },
     "execution_count": 48,
     "metadata": {},
     "output_type": "execute_result"
    }
   ],
   "source": [
    "dpt = dht*0.9998*1000*(1+0.00018*(temp + 273.15))*9.81\n",
    "sdpt = sdht*0.9998*(1+0.00018*(temp + 273.15))*9.81\n",
    "dpt"
   ]
  },
  {
   "cell_type": "code",
   "execution_count": 49,
   "id": "d0f41234-68bb-4e41-8a4e-d97cadc33ce6",
   "metadata": {},
   "outputs": [
    {
     "data": {
      "text/plain": [
       "array([-6.73323126, 35.70125216, 65.79819999, 21.4361756 , 36.72509411])"
      ]
     },
     "execution_count": 49,
     "metadata": {},
     "output_type": "execute_result"
    }
   ],
   "source": [
    "Vt = (Vt2 - Vt1)*p_a/dpt + Vt2 - V100\n",
    "Vt*100**3"
   ]
  },
  {
   "cell_type": "code",
   "execution_count": 51,
   "id": "c640177c-a0a5-4507-b3ca-dab42ab8d0b1",
   "metadata": {},
   "outputs": [
    {
     "data": {
      "text/plain": [
       "30.58549812068059"
      ]
     },
     "execution_count": 51,
     "metadata": {},
     "output_type": "execute_result"
    }
   ],
   "source": [
    "mean(Vt*100**3)"
   ]
  },
  {
   "cell_type": "markdown",
   "id": "91d1b413-4408-4969-9045-9e59eb4e89ac",
   "metadata": {
    "jp-MarkdownHeadingCollapsed": true,
    "tags": []
   },
   "source": [
    "### NADOBA test"
   ]
  },
  {
   "cell_type": "code",
   "execution_count": 300,
   "id": "cb4f5867-8cfc-4e9e-8faf-69858341da03",
   "metadata": {},
   "outputs": [],
   "source": [
    "Vn1d = np.array([15.8,12.8,15,15.2,12.5])\n",
    "Vn2d = np.array([16,13.2,15.5,15.5,13.2])\n",
    "\n",
    "\n",
    "sVn2d = 0.125\n",
    "sVn1d = 0.125\n",
    "\n",
    "dhn = np.array([8.373,19.146,11.141,9.699,24.534])/1000\n",
    "\n",
    "sdhn = 0.1\n",
    "\n",
    "p_a = 99410\n",
    "temp = 21.8"
   ]
  },
  {
   "cell_type": "code",
   "execution_count": 301,
   "id": "dd5266ab-d61c-4317-9cf5-f5fea20e2cd4",
   "metadata": {},
   "outputs": [
    {
     "data": {
      "text/plain": [
       "(array([4.1712e-05, 3.3792e-05, 3.9600e-05, 4.0128e-05, 3.3000e-05]),\n",
       " array([4.2240e-05, 3.4848e-05, 4.0920e-05, 4.0920e-05, 3.4848e-05]))"
      ]
     },
     "execution_count": 301,
     "metadata": {},
     "output_type": "execute_result"
    }
   ],
   "source": [
    "Vn1 =100*Vn1d/25*0.66/100**3\n",
    "sVn1 =100*sVn1d/25*0.66/100**3\n",
    "\n",
    "Vn2 =100*Vn2d/25*0.66/100**3\n",
    "sVn2 =100*sVn2d/25*0.66/100**3\n",
    "\n",
    "V100 = 65.6/100**3\n",
    "\n",
    "Vn1,Vn2"
   ]
  },
  {
   "cell_type": "code",
   "execution_count": 302,
   "id": "1a820a76-c936-4d1e-8a5a-2d21ea97d30d",
   "metadata": {},
   "outputs": [],
   "source": [
    "Vn1 =Vn1d*0.66/100**3\n",
    "sVn1 =sVn1d*0.66/100**3\n",
    "\n",
    "Vn2 =Vn2d*0.66/100**3\n",
    "sVn2 =sVn2d*0.66/100**3"
   ]
  },
  {
   "cell_type": "code",
   "execution_count": 303,
   "id": "e04c1776-36b6-477e-b00f-d9079c155981",
   "metadata": {},
   "outputs": [
    {
     "data": {
      "text/plain": [
       "array([ 86.48267856, 197.75437282, 115.07267667, 100.17860973,\n",
       "       253.40571309])"
      ]
     },
     "execution_count": 303,
     "metadata": {},
     "output_type": "execute_result"
    }
   ],
   "source": [
    "dpn = dhn*0.9998*1000*(1+0.00018*(temp + 273.15))*9.81\n",
    "sdpn = sdhn*0.9998*(1+0.00018*(temp + 273.15))*9.81/100\n",
    "dpn"
   ]
  },
  {
   "cell_type": "code",
   "execution_count": 304,
   "id": "a370b64d-38ec-4fd1-9122-507ca8b76100",
   "metadata": {},
   "outputs": [
    {
     "data": {
      "text/plain": [
       "array([ 96.6911931 ,  75.82330052, 229.71331385, 141.11086605,\n",
       "       124.35266518])"
      ]
     },
     "execution_count": 304,
     "metadata": {},
     "output_type": "execute_result"
    }
   ],
   "source": [
    "Vn = (Vn2 - Vn1)*p_a/dpn + Vn2 - V100\n",
    "Vn*100**3"
   ]
  },
  {
   "cell_type": "code",
   "execution_count": 305,
   "id": "db39057a-c602-4e9e-b61a-c0d9178e9ac1",
   "metadata": {},
   "outputs": [
    {
     "data": {
      "text/plain": [
       "133.53826774054468"
      ]
     },
     "execution_count": 305,
     "metadata": {},
     "output_type": "execute_result"
    }
   ],
   "source": [
    "mean(Vn*100**3)"
   ]
  },
  {
   "cell_type": "code",
   "execution_count": null,
   "id": "3ee62bcd-7f81-4993-b641-5ee0e7440400",
   "metadata": {},
   "outputs": [],
   "source": []
  },
  {
   "cell_type": "code",
   "execution_count": 286,
   "id": "f48cbaea-d48b-4837-8391-aae46805bf6c",
   "metadata": {},
   "outputs": [
    {
     "data": {
      "text/plain": [
       "array([-39.86688069, -43.61686995, -26.86166861, -35.7219134 ,\n",
       "       -38.76393348])"
      ]
     },
     "execution_count": 298,
     "metadata": {},
     "output_type": "execute_result"
    }
   ],
   "source": [
    "Vn*100**3"
   ]
  },
  {
   "cell_type": "code",
   "execution_count": null,
   "id": "a9d771dc-ded7-4dea-afb1-28fa5e64661e",
   "metadata": {},
   "outputs": [
    {
     "data": {
      "text/plain": [
       "array([124.40229998, 200.19204691, 148.46781737, 176.97465154,\n",
       "       205.84109997])"
      ]
     },
     "execution_count": 299,
     "metadata": {},
     "output_type": "execute_result"
    }
   ],
   "source": [
    "Vt*100**3"
   ]
  },
  {
   "cell_type": "code",
   "execution_count": null,
   "id": "269bb3e3-4b41-43e0-a456-4ee0ee81b3d6",
   "metadata": {},
   "outputs": [],
   "source": []
  },
  {
   "cell_type": "markdown",
   "id": "76828536-6764-4b2f-87d2-288445db76d6",
   "metadata": {
    "tags": []
   },
   "source": [
    "## TRUBKA"
   ]
  },
  {
   "cell_type": "code",
   "execution_count": 344,
   "id": "0c1841fe-8bce-4b85-8fe6-a33dea4f6b36",
   "metadata": {},
   "outputs": [],
   "source": [
    "Vt1d = np.array([8.375, 8.250, 8.250, 7.875, 8.25, 8.375, 8, 7.875, 7.875, 7.625])\n",
    "Vt2d = np.array([10.25, 11, 10.5, 10 , 10.5, 10, 10.375, 9.875, 10.25, 10])\n",
    "dht = np.array([6.9,9.1,6.6,4.9,6.9,6,6.4,4.9,5.7,4.9])/100\n",
    "\n",
    "Vt1d = np.array([8.375, 8.250, 8.25, 8, 7.875])\n",
    "Vt2d = np.array([10.25, 10.5 , 10.5, 10.375, 10.25])\n",
    "dht = np.array([6.9,6.6,6.9,6.4,5.7])/100"
   ]
  },
  {
   "cell_type": "code",
   "execution_count": 345,
   "id": "50c29d02-8722-4f5d-94be-890dee006eb7",
   "metadata": {},
   "outputs": [],
   "source": [
    "Vt1d = np.array([8.375, 7.875, 8.25, 8, 7.875])\n",
    "Vt2d = np.array([10.25, 9.875, 10.5, 10.375, 10.25])\n",
    "sVt2d = 0.125\n",
    "sVt1d = 0.125\n",
    "\n",
    "dht = np.array([6.5,4.9,6.9,6.4,5.7])/100\n",
    "sdht = 0.1/100\n",
    "\n",
    "p_a = 99410\n",
    "temp = 21.8"
   ]
  },
  {
   "cell_type": "code",
   "execution_count": 346,
   "id": "bb117ce0-7673-48fe-a3e6-c7c4301f64fa",
   "metadata": {},
   "outputs": [],
   "source": [
    "rho = 1.0037232152*1000"
   ]
  },
  {
   "cell_type": "code",
   "execution_count": 347,
   "id": "4bb07795-d8df-4635-840f-c0b991628216",
   "metadata": {},
   "outputs": [
    {
     "data": {
      "text/plain": [
       "(array([5.5275, 5.1975, 5.445 , 5.28  , 5.1975]),\n",
       " array([6.765 , 6.5175, 6.93  , 6.8475, 6.765 ]))"
      ]
     },
     "execution_count": 347,
     "metadata": {},
     "output_type": "execute_result"
    }
   ],
   "source": [
    "Vt1 = Vt1d*0.66/100**3\n",
    "sVt1 = sVt1d*0.66/100**3\n",
    "\n",
    "Vt2 = Vt2d*0.66/100**3\n",
    "sVt2 = sVt2d*0.66/100**3\n",
    "\n",
    "V100 = 65.6/100**3\n",
    "\n",
    "Vt1*100**3,Vt2*100**3"
   ]
  },
  {
   "cell_type": "code",
   "execution_count": 348,
   "id": "896e16a2-9b8b-4e7e-bd47-0e96959441a4",
   "metadata": {},
   "outputs": [
    {
     "data": {
      "text/plain": [
       "array([639.89610335, 482.38321637, 679.2743251 , 630.05154791,\n",
       "       561.13965986])"
      ]
     },
     "execution_count": 348,
     "metadata": {},
     "output_type": "execute_result"
    }
   ],
   "source": [
    "dpt = dht*0.9998*rho*9.81\n",
    "sdpt = sdht*0.9998*rho*9.81\n",
    "dpt"
   ]
  },
  {
   "cell_type": "code",
   "execution_count": 349,
   "id": "d352ce93-4c79-4848-a204-e1820c27143c",
   "metadata": {},
   "outputs": [
    {
     "data": {
      "text/plain": [
       "array([133.41476423, 212.94437728, 158.65582043, 188.56881127,\n",
       "       218.85910389])"
      ]
     },
     "execution_count": 349,
     "metadata": {},
     "output_type": "execute_result"
    }
   ],
   "source": [
    "Vt = (Vt2 - Vt1)*p_a/dpt + Vt2 - V100\n",
    "Vt*100**3"
   ]
  },
  {
   "cell_type": "code",
   "execution_count": 219,
   "id": "9b948cb4-b98a-43aa-8e58-30fec9e97472",
   "metadata": {},
   "outputs": [
    {
     "ename": "NameError",
     "evalue": "name 'array' is not defined",
     "output_type": "error",
     "traceback": [
      "\u001b[1;31m---------------------------------------------------------------------------\u001b[0m",
      "\u001b[1;31mNameError\u001b[0m                                 Traceback (most recent call last)",
      "\u001b[1;32m~\\AppData\\Local\\Temp/ipykernel_21484/1111500564.py\u001b[0m in \u001b[0;36m<module>\u001b[1;34m\u001b[0m\n\u001b[1;32m----> 1\u001b[1;33m array([113.77984781, 133.62288569, 157.8831727 , 216.47920609,\n\u001b[0m\u001b[0;32m      2\u001b[0m        \u001b[1;36m148.46781737\u001b[0m\u001b[1;33m,\u001b[0m \u001b[1;36m113.03946498\u001b[0m\u001b[1;33m,\u001b[0m \u001b[1;36m176.97465154\u001b[0m\u001b[1;33m,\u001b[0m \u001b[1;36m200.19204691\u001b[0m\u001b[1;33m,\u001b[0m\u001b[1;33m\u001b[0m\u001b[1;33m\u001b[0m\u001b[0m\n\u001b[0;32m      3\u001b[0m        205.84109997, 248.88852446])\n",
      "\u001b[1;31mNameError\u001b[0m: name 'array' is not defined"
     ]
    }
   ],
   "source": [
    "array([113.77984781, 133.62288569, 157.8831727 , 216.47920609,\n",
    "       148.46781737, 113.03946498, 176.97465154, 200.19204691,\n",
    "       205.84109997, 248.88852446])"
   ]
  },
  {
   "cell_type": "code",
   "execution_count": 350,
   "id": "64c76bbe-d7e8-485d-99e6-9d653738a3a0",
   "metadata": {},
   "outputs": [
    {
     "data": {
      "text/plain": [
       "182.4885754192314"
      ]
     },
     "execution_count": 350,
     "metadata": {},
     "output_type": "execute_result"
    }
   ],
   "source": [
    "mean(Vt*100**3)"
   ]
  },
  {
   "cell_type": "code",
   "execution_count": 262,
   "id": "b8c85f6f-0e67-405d-8c04-eb3d50c3f5e1",
   "metadata": {},
   "outputs": [
    {
     "data": {
      "text/plain": [
       "13.828470725371735"
      ]
     },
     "execution_count": 262,
     "metadata": {},
     "output_type": "execute_result"
    }
   ],
   "source": [
    "error(Vt*100**3)"
   ]
  },
  {
   "cell_type": "markdown",
   "id": "c8d66b17-954a-40e4-a6f4-7631dbb431de",
   "metadata": {
    "tags": []
   },
   "source": [
    "## NADOBA"
   ]
  },
  {
   "cell_type": "code",
   "execution_count": null,
   "id": "a38872b5-518e-4e78-a379-58f3959cf895",
   "metadata": {},
   "outputs": [],
   "source": [
    "Vn1d = np.array([13.5, 13.125, 13, 12.875, 12.875])\n",
    "Vn2d = np.array([14.125, 14.250, 14, 14.750, 13.625])"
   ]
  },
  {
   "cell_type": "code",
   "execution_count": 351,
   "id": "fb320336-6614-4749-9ab6-71ea04dd3936",
   "metadata": {},
   "outputs": [],
   "source": [
    "Vn1d = np.array([13.125, 13,13.5, 12.875, 12.875])\n",
    "Vn2d = np.array([14.250, 14,14.125, 14.750, 13.625])\n",
    "\n",
    "sVn2d = 0.125\n",
    "sVn1d = 0.125\n",
    "\n",
    "dhn = np.array([6.9,5.2,6.4,12.3,3.4])/100\n",
    "sdhn = 0.1\n",
    "\n",
    "p_a = 99410\n",
    "temp = 21.8\n",
    "rho = 1.0037232152*1000"
   ]
  },
  {
   "cell_type": "code",
   "execution_count": 352,
   "id": "ad3d1091-e28f-4b99-ab0c-9a05bb593e5b",
   "metadata": {},
   "outputs": [
    {
     "data": {
      "text/plain": [
       "(array([8.6625e-06, 8.5800e-06, 8.9100e-06, 8.4975e-06, 8.4975e-06]),\n",
       " array([9.4050e-06, 9.2400e-06, 9.3225e-06, 9.7350e-06, 8.9925e-06]))"
      ]
     },
     "execution_count": 352,
     "metadata": {},
     "output_type": "execute_result"
    }
   ],
   "source": [
    "Vn1 = Vn1d*0.66/100**3\n",
    "sVn1 = Vn1d*0.66/100**3\n",
    "\n",
    "Vn2 = Vn2d*0.66/100**3\n",
    "sVn2 = sVn2d*0.66/100**3\n",
    "\n",
    "V100 = 65.6/100**3\n",
    "\n",
    "Vn1,Vn2"
   ]
  },
  {
   "cell_type": "code",
   "execution_count": 353,
   "id": "3d33bf57-f693-4afa-b5d8-143159b215b5",
   "metadata": {},
   "outputs": [
    {
     "data": {
      "text/plain": [
       "array([ 679.41020714,  512.01928654,  630.17758343, 1211.12254316,\n",
       "        334.7818412 ])"
      ]
     },
     "execution_count": 353,
     "metadata": {},
     "output_type": "execute_result"
    }
   ],
   "source": [
    "dpn = dhn*rho*9.81\n",
    "sdpn = sdhn*rho*9.81\n",
    "dpn"
   ]
  },
  {
   "cell_type": "code",
   "execution_count": 354,
   "id": "5bcd4b9d-381d-49e2-bd98-9d9114adc7c2",
   "metadata": {},
   "outputs": [
    {
     "data": {
      "text/plain": [
       "array([52.44617763, 71.78087618,  8.79403869, 45.71008478, 90.37762268])"
      ]
     },
     "execution_count": 354,
     "metadata": {},
     "output_type": "execute_result"
    }
   ],
   "source": [
    "Vn = (Vn2 - Vn1)*p_a/dpn + Vn2 - V100\n",
    "Vn*100**3"
   ]
  },
  {
   "cell_type": "code",
   "execution_count": 355,
   "id": "4617b25e-e5e8-41bb-9fcf-93995e33628f",
   "metadata": {},
   "outputs": [
    {
     "data": {
      "text/plain": [
       "53.821759993312696"
      ]
     },
     "execution_count": 355,
     "metadata": {},
     "output_type": "execute_result"
    }
   ],
   "source": [
    "mean(Vn)*100**3"
   ]
  },
  {
   "cell_type": "code",
   "execution_count": 356,
   "id": "23042177-b698-4ec6-b2b6-e02318fc3dc5",
   "metadata": {},
   "outputs": [
    {
     "data": {
      "text/plain": [
       "12.254057513895576"
      ]
     },
     "execution_count": 356,
     "metadata": {},
     "output_type": "execute_result"
    }
   ],
   "source": [
    "error(Vn)*100**3"
   ]
  },
  {
   "cell_type": "code",
   "execution_count": 260,
   "id": "b166a935-4fb3-4188-a8a1-2ab1eca6976d",
   "metadata": {},
   "outputs": [
    {
     "data": {
      "text/plain": [
       "122.51558315316592"
      ]
     },
     "execution_count": 312,
     "metadata": {},
     "output_type": "execute_result"
    }
   ],
   "source": [
    "171.17558315316592 - 48.66"
   ]
  },
  {
   "cell_type": "code",
   "execution_count": 264,
   "id": "47eaf176-d803-4f99-b41b-d569644e25de",
   "metadata": {},
   "outputs": [
    {
     "name": "stdout",
     "output_type": "stream",
     "text": [
      "V = 122 +- 8 cm3\n"
     ]
    }
   ],
   "source": [
    "print('V = 122 +- 8 cm3')"
   ]
  },
  {
   "cell_type": "markdown",
   "id": "034eec33-1072-4ce8-93d3-68b2f0d7917f",
   "metadata": {},
   "source": [
    "## Tabulky"
   ]
  },
  {
   "cell_type": "code",
   "execution_count": 322,
   "id": "879ca773-2b09-4399-9ad8-621ad0e18007",
   "metadata": {},
   "outputs": [
    {
     "name": "stdout",
     "output_type": "stream",
     "text": [
      "\\begin{tabular}{rrr}\n",
      "\\toprule\n",
      " 5.5 & 6.8 & 6.5 \\\\\n",
      " 5.2 & 6.5 & 4.9 \\\\\n",
      " 5.4 & 6.9 & 6.9 \\\\\n",
      " 5.3 & 6.8 & 6.4 \\\\\n",
      " 5.2 & 6.8 & 5.7 \\\\\n",
      "\\bottomrule\n",
      "\\end{tabular}\n"
     ]
    }
   ],
   "source": [
    "T = np.array([(Vt1*100**3).round(1),(Vt2*100**3).round(1), dht*100]).T\n",
    "\n",
    "print(tabulate(T, tablefmt=\"latex_booktabs\"))"
   ]
  },
  {
   "cell_type": "code",
   "execution_count": 323,
   "id": "ea488ef2-277b-4685-ba71-e3483f0a175a",
   "metadata": {},
   "outputs": [
    {
     "name": "stdout",
     "output_type": "stream",
     "text": [
      "\\begin{tabular}{rrr}\n",
      "\\toprule\n",
      " 8.7 & 9.4 &  6.9 \\\\\n",
      " 8.6 & 9.2 &  5.2 \\\\\n",
      " 8.9 & 9.3 &  6.4 \\\\\n",
      " 8.5 & 9.7 & 12.3 \\\\\n",
      " 8.5 & 9   &  3.4 \\\\\n",
      "\\bottomrule\n",
      "\\end{tabular}\n"
     ]
    }
   ],
   "source": [
    "T = np.array([(Vn1*100**3).round(1),(Vn2*100**3).round(1), dhn*100]).T\n",
    "\n",
    "print(tabulate(T, tablefmt=\"latex_booktabs\"))"
   ]
  },
  {
   "cell_type": "code",
   "execution_count": 336,
   "id": "4e61cc11-e689-4d84-82ef-12684bc53614",
   "metadata": {},
   "outputs": [
    {
     "name": "stdout",
     "output_type": "stream",
     "text": [
      "\\begin{tabular}{rrrr}\n",
      "\\toprule\n",
      " 47 & 3 & 124 &  7 \\\\\n",
      " 66 & 4 & 200 & 12 \\\\\n",
      "  6 & 0 & 148 &  9 \\\\\n",
      " 41 & 2 & 177 & 11 \\\\\n",
      " 83 & 5 & 206 & 12 \\\\\n",
      "\\bottomrule\n",
      "\\end{tabular}\n"
     ]
    }
   ],
   "source": [
    "T = np.array([(Vn*100**3).round(0),(Vn*0.06*100**3).round(0),(Vt*100**3).round(0),(Vt*0.06*100**3).round(0)]).T\n",
    "\n",
    "print(tabulate(T, tablefmt=\"latex_booktabs\"))"
   ]
  },
  {
   "cell_type": "code",
   "execution_count": 330,
   "id": "01d54cbd-b6eb-4ebc-ae12-e3ab3a611409",
   "metadata": {},
   "outputs": [
    {
     "data": {
      "text/plain": [
       "array([39.72894775, 46.85978452, 23.79598433, 37.14495115, 53.75092931])"
      ]
     },
     "execution_count": 330,
     "metadata": {},
     "output_type": "execute_result"
    }
   ],
   "source": [
    "frac_err([(Vn2-Vn1)*p_a,dpn],[0.1*p_a/100**3,1/100])[0]*100**3\n",
    "frac_err([(Vn2-Vn1)*p_a,dpn],[0.1*p_a/100**3,1/100])[1]*100**3"
   ]
  },
  {
   "cell_type": "code",
   "execution_count": 331,
   "id": "0c1a839b-a5df-4263-b38c-938ae1a16bc0",
   "metadata": {},
   "outputs": [
    {
     "data": {
      "text/plain": [
       "array([103.5481949 , 122.13376835,  62.02105424,  96.81335296,\n",
       "       140.09461663])"
      ]
     },
     "execution_count": 331,
     "metadata": {},
     "output_type": "execute_result"
    }
   ],
   "source": [
    "frac_err([(Vn2-Vn1)*p_a,dpn],[0.1*p_a/100**3,1/100])[0]*100**3"
   ]
  },
  {
   "cell_type": "code",
   "execution_count": 378,
   "id": "26e30dde-178a-4358-a0c6-f32a9a85ca5d",
   "metadata": {},
   "outputs": [
    {
     "data": {
      "text/plain": [
       "(12.750967703569358, 0.505481105988294)"
      ]
     },
     "execution_count": 378,
     "metadata": {},
     "output_type": "execute_result"
    }
   ],
   "source": [
    "weighted_error(Vn*100**3,Vn*0.06*100**3)"
   ]
  },
  {
   "cell_type": "code",
   "execution_count": 376,
   "id": "f0205ca7-a4ba-4c1c-9892-0833b16dd217",
   "metadata": {},
   "outputs": [
    {
     "data": {
      "text/plain": [
       "(169.89948856513226, 4.643473343331874)"
      ]
     },
     "execution_count": 376,
     "metadata": {},
     "output_type": "execute_result"
    }
   ],
   "source": [
    "weighted_error(Vt*100**3,Vt*0.06*100**3)"
   ]
  },
  {
   "cell_type": "code",
   "execution_count": 375,
   "id": "4210b77e-4507-4aa9-9c77-240a40f4ae62",
   "metadata": {},
   "outputs": [
    {
     "data": {
      "text/plain": [
       "array([52.44617763, 71.78087618,  8.79403869, 45.71008478, 90.37762268])"
      ]
     },
     "execution_count": 375,
     "metadata": {},
     "output_type": "execute_result"
    }
   ],
   "source": [
    "Vn*100**3"
   ]
  },
  {
   "cell_type": "code",
   "execution_count": null,
   "id": "65a03825-fed0-4842-b66c-ff0d8f36f751",
   "metadata": {},
   "outputs": [],
   "source": []
  }
 ],
 "metadata": {
  "kernelspec": {
   "display_name": "Python 3 (ipykernel)",
   "language": "python",
   "name": "python3"
  },
  "language_info": {
   "codemirror_mode": {
    "name": "ipython",
    "version": 3
   },
   "file_extension": ".py",
   "mimetype": "text/x-python",
   "name": "python",
   "nbconvert_exporter": "python",
   "pygments_lexer": "ipython3",
   "version": "3.8.7"
  }
 },
 "nbformat": 4,
 "nbformat_minor": 5
}
