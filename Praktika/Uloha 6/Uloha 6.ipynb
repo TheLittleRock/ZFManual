{
 "cells": [
  {
   "cell_type": "code",
   "execution_count": 542,
   "id": "c238aa97-f206-463b-92fa-261882bb44fe",
   "metadata": {},
   "outputs": [],
   "source": [
    "import numpy as np\n",
    "import sympy as smp\n",
    "import matplotlib.pyplot as plt\n",
    "from scipy.optimize import curve_fit\n",
    "from scipy.integrate import cumulative_trapezoid\n",
    "from tabulate import tabulate\n",
    "import matplotlib\n",
    "import piecewise_regression\n",
    "import json"
   ]
  },
  {
   "cell_type": "code",
   "execution_count": 543,
   "id": "84448b8a-3a56-44c6-8106-a20b177ee9bd",
   "metadata": {},
   "outputs": [],
   "source": [
    "def mean(arr):\n",
    "    return np.mean(arr)\n",
    "\n",
    "def error(x):\n",
    "    return x.std() / np.sqrt(x.size)\n",
    "\n",
    "def weighted_error(x, err):\n",
    "    \n",
    "    x = np.asarray(x)\n",
    "    err = np.asarray(err)\n",
    "    \n",
    "    average = np.sum(x/(err**2))/np.sum(1/err**2)\n",
    "    \n",
    "    average_error = 1/np.sqrt(np.sum(1/err**2))\n",
    "    \n",
    "    return average, average_error\n",
    "\n",
    "def decimal(x):\n",
    "    return x.replace(',', '.').encode()\n",
    "\n",
    "def sum_err(x,sx):\n",
    "    return np.sum(x),np.sqrt(np.sum([np.sum(i**2) for i in sx])) \n",
    "\n",
    "def diff_err(x,sx):\n",
    "    return x[0]-x[1],np.sqrt(np.sum([np.sum(i**2) for i in sx])) \n",
    "\n",
    "def times_err(x,sx):\n",
    "    return np.prod(x), np.prod(x)*np.sqrt(np.sum([np.sum((i/j)**2) for i,j in zip(sx,x)]))\n",
    "\n",
    "#def frac_err(x,sx):\n",
    "#    return x[0]/x[1], x[0]/x[1]*np.sqrt(np.sum((sx/x)**2))\n",
    "\n",
    "def frac_err(x,sx):\n",
    "    return x[0]/x[1], x[0]/x[1]*np.sqrt(np.sum([np.sum((i/j)**2) for i,j in zip(sx,x)]))\n",
    "    #return [np.sum((i/j)**2) for i,j in zip(sx,x)]"
   ]
  },
  {
   "cell_type": "code",
   "execution_count": 544,
   "id": "18831bb7-a4a8-452c-b847-709d8a18f24b",
   "metadata": {},
   "outputs": [],
   "source": [
    "matplotlib.use(\"pgf\")\n",
    "matplotlib.rcParams.update({\n",
    "    \"pgf.texsystem\": \"pdflatex\",\n",
    "    'font.family': 'serif',\n",
    "    'text.usetex': True,\n",
    "    'pgf.rcfonts': False,\n",
    "})"
   ]
  },
  {
   "cell_type": "code",
   "execution_count": 545,
   "id": "d5007887-bd1d-407a-9e3c-22e94d882815",
   "metadata": {},
   "outputs": [],
   "source": [
    "def load_txt(name):\n",
    "    t,pos = np.genfromtxt((decimal(x) for x in open(name)),unpack = True, skip_header=4)\n",
    "    return t, pos"
   ]
  },
  {
   "cell_type": "markdown",
   "id": "92953d2b-d88e-461e-9a23-5b61688e631f",
   "metadata": {
    "tags": []
   },
   "source": [
    "# ULOHA 1"
   ]
  },
  {
   "cell_type": "code",
   "execution_count": 250,
   "id": "de7b472a-6b96-4ddd-baea-6742bb90b152",
   "metadata": {},
   "outputs": [],
   "source": [
    "t100 = 99.7\n",
    "t0 = 0.7"
   ]
  },
  {
   "cell_type": "code",
   "execution_count": 251,
   "id": "3ddc5606-a993-41cf-8bdf-31c5d4ae47ce",
   "metadata": {},
   "outputs": [
    {
     "name": "stdout",
     "output_type": "stream",
     "text": [
      "1.0101010101010102t + -0.7070707070707071\n"
     ]
    }
   ],
   "source": [
    "a = 100/99\n",
    "b = -0.7*a\n",
    "print(\"{}t + {}\".format(a,b))"
   ]
  },
  {
   "cell_type": "code",
   "execution_count": 256,
   "id": "1c54a1bd-693f-40ff-8740-28a67f0d5026",
   "metadata": {},
   "outputs": [],
   "source": [
    "def temp(t):\n",
    "    return 100/99*t + -0.7*100/99"
   ]
  },
  {
   "cell_type": "code",
   "execution_count": 252,
   "id": "b2ee0e2b-91d4-4441-8ee0-85c756b73887",
   "metadata": {},
   "outputs": [],
   "source": [
    "#def temp(t):\n",
    " #   return a*t + b"
   ]
  },
  {
   "cell_type": "code",
   "execution_count": 630,
   "id": "e7c87b35-3691-467a-82e6-6ec21cf1b7d8",
   "metadata": {},
   "outputs": [
    {
     "data": {
      "text/plain": [
       "[<matplotlib.lines.Line2D at 0x1686b69f3d0>]"
      ]
     },
     "execution_count": 630,
     "metadata": {},
     "output_type": "execute_result"
    },
    {
     "data": {
      "image/png": "[encoded data removed]",
      "text/plain": [
       "<Figure size 432x288 with 1 Axes>"
      ]
     },
     "metadata": {
      "needs_background": "light"
     },
     "output_type": "display_data"
    }
   ],
   "source": [
    "x_range = np.linspace(0,25,200)\n",
    "\n",
    "plt.plot(x_range, temp(x_range), linestyle = 'dashed', color = 'k')\n",
    "plt.plot(x_range, x_range, linestyle = 'dotted', color = 'k')"
   ]
  },
  {
   "cell_type": "code",
   "execution_count": 7,
   "id": "be7528d8-2398-4186-a0ed-3e4ef0fa9223",
   "metadata": {},
   "outputs": [
    {
     "data": {
      "text/plain": [
       "0.697211155378486"
      ]
     },
     "execution_count": 7,
     "metadata": {},
     "output_type": "execute_result"
    }
   ],
   "source": [
    "100/100.4*0.7"
   ]
  },
  {
   "cell_type": "code",
   "execution_count": 255,
   "id": "4083781d-148c-482a-b6b2-09f0cb7fbb7e",
   "metadata": {},
   "outputs": [
    {
     "data": {
      "text/plain": [
       "100.0"
      ]
     },
     "execution_count": 255,
     "metadata": {},
     "output_type": "execute_result"
    }
   ],
   "source": [
    "temp(99.7)"
   ]
  },
  {
   "cell_type": "markdown",
   "id": "e0ed1303-9fc5-4a70-8783-51fbcdb1859c",
   "metadata": {
    "jp-MarkdownHeadingCollapsed": true,
    "tags": []
   },
   "source": [
    "# ULOHA 2"
   ]
  },
  {
   "cell_type": "markdown",
   "id": "027a5f91-2512-4d46-bdd5-16e15804c256",
   "metadata": {
    "jp-MarkdownHeadingCollapsed": true,
    "tags": []
   },
   "source": [
    "## DATA"
   ]
  },
  {
   "cell_type": "code",
   "execution_count": 546,
   "id": "415f4a5e-4b21-42c4-95d0-31efb158e00b",
   "metadata": {},
   "outputs": [],
   "source": [
    "m0 = 240.58/1000 ### Kalorimetr\n",
    "m1 = np.array([356.34, 374.96, 368.02])/1000 - m0 ### Voda\n",
    "t1 = temp(np.array([21,31.2,40.2]))\n",
    "m2 = np.array([455.8,430.36,449.32])/1000 - m1 -m0 ### Pridana voda\n",
    "t2 = temp(np.array([49,74.8,89.5]))\n",
    "t = temp(np.array([32.2,41.1,55.6]))\n",
    "c = 4180"
   ]
  },
  {
   "cell_type": "code",
   "execution_count": 547,
   "id": "76cba15a-c288-4ef3-b296-a495c57ea5c1",
   "metadata": {},
   "outputs": [
    {
     "data": {
      "text/plain": [
       "(array([0.11576, 0.13438, 0.12744]),\n",
       " array([20.50505051, 30.80808081, 39.8989899 ]))"
      ]
     },
     "execution_count": 547,
     "metadata": {},
     "output_type": "execute_result"
    }
   ],
   "source": [
    "m1, t1"
   ]
  },
  {
   "cell_type": "code",
   "execution_count": 548,
   "id": "3f355734-f581-4fff-989e-5a0ea339b5a2",
   "metadata": {},
   "outputs": [
    {
     "data": {
      "text/plain": [
       "(array([0.09946, 0.0554 , 0.0813 ]),\n",
       " array([48.78787879, 74.84848485, 89.6969697 ]))"
      ]
     },
     "execution_count": 548,
     "metadata": {},
     "output_type": "execute_result"
    }
   ],
   "source": [
    "m2, t2"
   ]
  },
  {
   "cell_type": "code",
   "execution_count": 549,
   "id": "78027482-34cf-4f10-bc9a-c49977f36bd6",
   "metadata": {},
   "outputs": [
    {
     "data": {
      "text/plain": [
       "array([139.7374    , 226.57204444, 215.37694286])"
      ]
     },
     "execution_count": 549,
     "metadata": {},
     "output_type": "execute_result"
    }
   ],
   "source": [
    "k_raw = (m2*c)*(t2-t)/(t - t1) - m1*c\n",
    "k_raw"
   ]
  },
  {
   "cell_type": "code",
   "execution_count": 550,
   "id": "9f03f2c3-584a-42af-80ec-ac1b31afa2a6",
   "metadata": {},
   "outputs": [
    {
     "data": {
      "text/plain": [
       "array([10.39150119, 16.53024327, 10.64514545])"
      ]
     },
     "execution_count": 550,
     "metadata": {},
     "output_type": "execute_result"
    }
   ],
   "source": [
    "sk_raw = k_raw*np.sqrt(0.7**2/(t2-t)**2 + 0.7**2/(t - t1)**2)\n",
    "sk_raw"
   ]
  },
  {
   "cell_type": "code",
   "execution_count": 551,
   "id": "ba2d1697-eda4-4900-bbaf-5b1e25b937f9",
   "metadata": {},
   "outputs": [
    {
     "data": {
      "text/plain": [
       "(193.89546243386266, 22.266838172144563)"
      ]
     },
     "execution_count": 551,
     "metadata": {},
     "output_type": "execute_result"
    }
   ],
   "source": [
    "k = mean(k_raw)\n",
    "sk = error(k_raw)\n",
    "k, sk"
   ]
  },
  {
   "cell_type": "markdown",
   "id": "d8170f63-9fcc-4289-a151-24dcb8e3dda0",
   "metadata": {
    "jp-MarkdownHeadingCollapsed": true,
    "tags": []
   },
   "source": [
    "## HODNOTY"
   ]
  },
  {
   "cell_type": "code",
   "execution_count": 552,
   "id": "a6f2f556-e9b6-4201-a441-226dbb28dc17",
   "metadata": {},
   "outputs": [
    {
     "data": {
      "text/plain": [
       "(185.04793319125525, 6.7814154913474445)"
      ]
     },
     "execution_count": 552,
     "metadata": {},
     "output_type": "execute_result"
    }
   ],
   "source": [
    "k,sk = weighted_error(k_raw, sk_raw)\n",
    "k, sk"
   ]
  },
  {
   "cell_type": "code",
   "execution_count": 553,
   "id": "5602e5ef-64b9-4a23-9a3a-c959622f69f9",
   "metadata": {},
   "outputs": [
    {
     "name": "stdout",
     "output_type": "stream",
     "text": [
      "\\begin{tabular}{rrrrr}\n",
      "\\toprule\n",
      " 115.76 & 20.5 & 99.46 & 48.8 & 31.8 \\\\\n",
      " 134.38 & 30.8 & 55.4  & 74.8 & 40.8 \\\\\n",
      " 127.44 & 39.9 & 81.3  & 89.7 & 55.5 \\\\\n",
      "\\bottomrule\n",
      "\\end{tabular}\n"
     ]
    }
   ],
   "source": [
    "T = np.array([m1*1000,t1.round(1),m2*1000,t2.round(1),t.round(1)]).T\n",
    "\n",
    "print(tabulate(T, tablefmt=\"latex_booktabs\"))"
   ]
  },
  {
   "cell_type": "code",
   "execution_count": 554,
   "id": "d4011b45-030c-4462-af83-3f15853527e4",
   "metadata": {},
   "outputs": [
    {
     "name": "stdout",
     "output_type": "stream",
     "text": [
      "\\begin{tabular}{rr}\n",
      "\\toprule\n",
      " 140 & 10 \\\\\n",
      " 227 & 17 \\\\\n",
      " 215 & 11 \\\\\n",
      "\\bottomrule\n",
      "\\end{tabular}\n"
     ]
    }
   ],
   "source": [
    "T = np.array([k_raw.round(0),sk_raw.round(0)]).T\n",
    "\n",
    "print(tabulate(T, tablefmt=\"latex_booktabs\"))"
   ]
  },
  {
   "cell_type": "markdown",
   "id": "4583062c-60a1-43ab-bf4f-a29459cb4039",
   "metadata": {
    "tags": []
   },
   "source": [
    "# ULOHA 3"
   ]
  },
  {
   "cell_type": "markdown",
   "id": "867bfed9-e06b-4755-afd3-8626144899a1",
   "metadata": {
    "tags": []
   },
   "source": [
    "## DATA"
   ]
  },
  {
   "cell_type": "code",
   "execution_count": 555,
   "id": "3273c3f3-b679-4b4a-9fc8-5f13be215d58",
   "metadata": {},
   "outputs": [],
   "source": [
    "m1 = np.array([442.04,419.3,446.26]) - 240.58 ### voda\n",
    "c1 = 4.18\n",
    "m2 = np.array([114.52,364.24,334.78])### kalorimetr\n",
    "k = 185.04793319125525\n",
    "sk = 6.7814154913474445\n",
    "\n",
    "T1 = temp(np.array([26,23.9,23.2]))\n",
    "Tfinal = temp(np.array([23.2,19.7,19.8]))"
   ]
  },
  {
   "cell_type": "code",
   "execution_count": 556,
   "id": "04a216ff-4671-437c-b1db-990376f3433a",
   "metadata": {},
   "outputs": [
    {
     "data": {
      "text/plain": [
       "array([1116.16488258,  565.67815891,  555.53981576])"
      ]
     },
     "execution_count": 556,
     "metadata": {},
     "output_type": "execute_result"
    }
   ],
   "source": [
    "c2 = (m1*c1+k)*(T1 - Tfinal)/(m2*Tfinal)\n",
    "c2*1000"
   ]
  },
  {
   "cell_type": "code",
   "execution_count": 557,
   "id": "c56e1e42-c467-488f-9d67-c38436c05a58",
   "metadata": {},
   "outputs": [
    {
     "data": {
      "text/plain": [
       "array([280.3401775 ,  96.74043885, 115.94512631])"
      ]
     },
     "execution_count": 557,
     "metadata": {},
     "output_type": "execute_result"
    }
   ],
   "source": [
    "sc2 = c2*np.sqrt(0.7**2/(T1 - Tfinal)**2 + 0.5**2/Tfinal**2 + sk**2/k**2)\n",
    "sc2*1000"
   ]
  },
  {
   "cell_type": "code",
   "execution_count": 558,
   "id": "0e55033f-ea1f-49f3-876b-ff13e25e8d00",
   "metadata": {},
   "outputs": [
    {
     "data": {
      "text/plain": [
       "array([835.82470507, 468.93772005, 439.59468945])"
      ]
     },
     "execution_count": 558,
     "metadata": {},
     "output_type": "execute_result"
    }
   ],
   "source": [
    "(c2-sc2)*1000"
   ]
  },
  {
   "cell_type": "markdown",
   "id": "08d866ce-a04b-4435-87ef-900914ee46a7",
   "metadata": {
    "tags": []
   },
   "source": [
    "## TABULKA"
   ]
  },
  {
   "cell_type": "code",
   "execution_count": 559,
   "id": "feb6d5aa-8d1e-4bb7-9dd7-8ff41e7a7b16",
   "metadata": {},
   "outputs": [
    {
     "name": "stdout",
     "output_type": "stream",
     "text": [
      "\\begin{tabular}{rrrr}\n",
      "\\toprule\n",
      " 201.46 & 25.6 & 114.52 & 22.7 \\\\\n",
      " 178.72 & 23.4 & 364.24 & 19.2 \\\\\n",
      " 205.68 & 22.7 & 334.78 & 19.3 \\\\\n",
      "\\bottomrule\n",
      "\\end{tabular}\n"
     ]
    }
   ],
   "source": [
    "T = np.array([m1,T1.round(1),m2,Tfinal.round(1)]).T\n",
    "\n",
    "print(tabulate(T, tablefmt=\"latex_booktabs\"))"
   ]
  },
  {
   "cell_type": "code",
   "execution_count": 560,
   "id": "8575b472-f2b4-417c-ace7-382d157d8aa5",
   "metadata": {},
   "outputs": [
    {
     "name": "stdout",
     "output_type": "stream",
     "text": [
      "\\begin{tabular}{rr}\n",
      "\\toprule\n",
      " 1116 & 280 \\\\\n",
      "  566 &  97 \\\\\n",
      "  556 & 116 \\\\\n",
      "\\bottomrule\n",
      "\\end{tabular}\n"
     ]
    }
   ],
   "source": [
    "T = np.array([(c2*1000).round(0),(sc2*1000).round(0)]).T\n",
    "\n",
    "print(tabulate(T, tablefmt=\"latex_booktabs\"))"
   ]
  },
  {
   "cell_type": "markdown",
   "id": "c5b5b645-4f3f-495c-9d9b-7f8c58d8de43",
   "metadata": {
    "tags": []
   },
   "source": [
    "## GRAF"
   ]
  },
  {
   "cell_type": "code",
   "execution_count": 624,
   "id": "e65634f6-497d-436a-b736-6cf791a613d5",
   "metadata": {},
   "outputs": [
    {
     "name": "stderr",
     "output_type": "stream",
     "text": [
      "C:\\Users\\stepa\\AppData\\Local\\Temp/ipykernel_7396/4141922143.py:17: UserWarning: Matplotlib is currently using pgf, which is a non-GUI backend, so cannot show the figure.\n",
      "  plt.show()\n"
     ]
    },
    {
     "data": {
      "image/png": "[encoded data removed]",
      "text/plain": [
       "<Figure size 576x360 with 1 Axes>"
      ]
     },
     "metadata": {
      "needs_background": "light"
     },
     "output_type": "display_data"
    }
   ],
   "source": [
    "t1, T1 = load_txt('data/3.txt')\n",
    "\n",
    "x_range = np.linspace(0,100,200)\n",
    "\n",
    "plt.figure(figsize = (8,5))\n",
    "\n",
    "plt.scatter(t1, T1, color = 'k', marker = 'x', label = 'Naměřený časový průběh teploty')\n",
    "#plt.plot(t1, T1, color = 'k', linestyle = 'dotted')\n",
    "\n",
    "plt.legend(loc='upper right', fontsize=11)\n",
    "\n",
    "#popisky os\n",
    "plt.ylabel(\"$T$ [°C]\", fontsize=12)\n",
    "plt.xlabel(\"$t$ [s]\", fontsize=12)\n",
    "\n",
    "plt.savefig('ukazka_valecek.pdf', bbox_inches = 'tight')\n",
    "plt.show()"
   ]
  },
  {
   "cell_type": "markdown",
   "id": "c2b66519-3f90-4b2d-a92f-16fe0faa9cbc",
   "metadata": {
    "jp-MarkdownHeadingCollapsed": true,
    "tags": []
   },
   "source": [
    "## TEST"
   ]
  },
  {
   "cell_type": "code",
   "execution_count": 166,
   "id": "0c51a0cf-1ce0-4d3e-840b-193d86995a31",
   "metadata": {},
   "outputs": [],
   "source": [
    "t, T = load_txt('data/1.txt')"
   ]
  },
  {
   "cell_type": "code",
   "execution_count": 168,
   "id": "0b02278d-e363-4b0c-92d6-9a97aae812e4",
   "metadata": {},
   "outputs": [
    {
     "data": {
      "text/plain": [
       "array([25.2, 24.8, 24.7, 24.6, 24.5, 24.4, 24.4, 24.3, 24.2, 24.2, 24.1,\n",
       "       24. , 24. , 23.9, 23.9, 23.8, 23.8, 23.7, 23.7, 23.6, 23.6, 23.5,\n",
       "       23.5, 23.4, 23.4, 23.4, 23.3, 23.3, 23.3, 23.3, 23.2, 23.2, 23.2,\n",
       "       23.2, 23.2, 23.2, 23.2, 23.1, 23.1, 23.1, 23.1, 23. , 23. , 23. ,\n",
       "       23. , 22.9, 22.9, 22.9, 22.9, 22.9, 22.8, 22.8, 22.8, 22.8, 22.8,\n",
       "       22.8, 22.8, 22.8, 22.8, 22.7, 22.8, 22.7, 22.7, 22.7, 22.7, 22.7,\n",
       "       22.7, 22.7, 22.7, 22.7, 22.7, 22.7, 22.7, 22.7, 22.7, 22.7, 22.7,\n",
       "       22.7, 22.7, 22.7, 22.7, 22.7, 22.7, 22.7, 22.7, 22.7, 22.7, 22.7,\n",
       "       22.7, 22.7, 22.7, 22.7, 22.7, 22.7, 22.7, 22.7, 22.7, 22.7, 22.7,\n",
       "       22.7, 22.7, 22.7, 22.7, 22.7, 22.7, 22.7, 22.7, 22.7, 22.7, 22.7,\n",
       "       22.7, 22.8, 22.7, 22.8, 22.7, 22.7, 22.8, 22.8, 22.8, 22.8, 22.8,\n",
       "       22.8, 22.8, 22.8, 22.8, 22.8, 22.8, 22.8, 22.8, 22.8, 22.8, 22.8,\n",
       "       22.8, 22.8, 22.8, 22.8, 22.8, 22.8, 22.8, 22.8, 22.9, 23.1, 23.1,\n",
       "       23.1, 23.2, 23.2, 23.2, 23.2, 23.2, 23.2, 23.2, 23.2, 23.2, 23.2,\n",
       "       23.2, 23.2, 23.2, 23.2, 23.2, 23.2, 23.2, 23.2, 23.2, 23.2, 23.2,\n",
       "       23.2, 23.2, 23.2, 23.3, 23.2, 23.2, 23.3, 23.3, 23.2, 23.2, 23.3,\n",
       "       23.3, 23.3, 23.3, 23.2, 23.3, 23.3, 23.3, 23.3, 23.3, 23.3, 23.2,\n",
       "       23.3, 23.2, 23.3, 23.2, 23.2, 23.3, 23.3, 23.2, 23.2, 23.2, 23.2,\n",
       "       23.2, 23.2, 23.2, 23.2, 23.2, 23.2, 23.2, 23.2, 23.2, 23.2, 23.2,\n",
       "       23.2, 23.2, 23.2, 23.2, 23.3, 23.2, 23.2, 23.3, 23.2, 23.3, 23.2,\n",
       "       23.3, 23.3, 23.2, 23.2, 23.3, 23.3, 23.2, 23.2, 23.3, 23.3, 23.3,\n",
       "       23.3, 23.3, 23.2, 23.3, 23.3, 23.3, 23.2, 23.3, 23.3, 23.2, 23.2,\n",
       "       23.3, 23.2, 23.2, 23.3, 23.3, 23.2, 23.2, 23.2, 23.2, 23.2, 23.2,\n",
       "       23.2, 23.2, 23.2, 23.2, 23.2, 23.2, 23.2, 23.2, 23.2, 23.2, 23.2,\n",
       "       23.2, 23.2, 23.2, 23.2, 23.2, 23.2, 23.2, 23.2, 23.2, 23.2, 23.2,\n",
       "       23.2, 23.2, 23.2])"
      ]
     },
     "execution_count": 168,
     "metadata": {},
     "output_type": "execute_result"
    }
   ],
   "source": [
    "T"
   ]
  },
  {
   "cell_type": "code",
   "execution_count": 169,
   "id": "780dce0d-97ee-421a-a029-d3c2941c0dfe",
   "metadata": {},
   "outputs": [
    {
     "data": {
      "text/plain": [
       "[<matplotlib.lines.Line2D at 0x1685f557bb0>]"
      ]
     },
     "execution_count": 169,
     "metadata": {},
     "output_type": "execute_result"
    },
    {
     "data": {
      "image/png": "[encoded data removed]",
      "text/plain": [
       "<Figure size 576x360 with 1 Axes>"
      ]
     },
     "metadata": {
      "needs_background": "light"
     },
     "output_type": "display_data"
    }
   ],
   "source": [
    "plt.figure(figsize = (8,5))\n",
    "\n",
    "plt.scatter(t, T, color = 'k', marker = 'x')\n",
    "plt.plot(t, T, color = 'k', linestyle = 'dotted')"
   ]
  },
  {
   "cell_type": "code",
   "execution_count": null,
   "id": "7946846c-f4bb-42a6-96f6-1d7290fbc359",
   "metadata": {},
   "outputs": [],
   "source": []
  },
  {
   "cell_type": "code",
   "execution_count": null,
   "id": "935958b2-b8e7-4782-bb90-c556aacf5c8a",
   "metadata": {},
   "outputs": [],
   "source": []
  },
  {
   "cell_type": "markdown",
   "id": "6aea9d2d-fdd7-4ce4-b267-ee0dabadb485",
   "metadata": {
    "tags": []
   },
   "source": [
    "# ULOHA 4 VYPAROVANI"
   ]
  },
  {
   "cell_type": "markdown",
   "id": "69cf76b3-6535-469f-b838-6e8406f62c77",
   "metadata": {
    "tags": []
   },
   "source": [
    "## DATA"
   ]
  },
  {
   "cell_type": "code",
   "execution_count": 563,
   "id": "3aa28bd0-bd82-470f-96e0-546d0f501b49",
   "metadata": {
    "tags": []
   },
   "outputs": [
    {
     "data": {
      "text/plain": [
       "[<matplotlib.lines.Line2D at 0x1686a111e80>]"
      ]
     },
     "execution_count": 563,
     "metadata": {},
     "output_type": "execute_result"
    },
    {
     "data": {
      "image/png": "[encoded data removed]",
      "text/plain": [
       "<Figure size 576x360 with 1 Axes>"
      ]
     },
     "metadata": {
      "needs_background": "light"
     },
     "output_type": "display_data"
    }
   ],
   "source": [
    "t1, T1 = load_txt('data/var.txt')\n",
    "\n",
    "x_range = np.linspace(0,100,200)\n",
    "\n",
    "plt.figure(figsize = (8,5))\n",
    "\n",
    "plt.scatter(t1, T1, color = 'k', marker = 'x')\n",
    "plt.plot(t1, T1, color = 'k', linestyle = 'dotted')"
   ]
  },
  {
   "cell_type": "code",
   "execution_count": 564,
   "id": "4a4cf468-4fff-4f5c-bef8-61edfef47f45",
   "metadata": {},
   "outputs": [
    {
     "data": {
      "text/plain": [
       "array([24.2, 26.4, 27.5, 28.6, 32. , 34.6, 37. , 38.4, 39.8, 40.9, 41.9,\n",
       "       42.6, 43.2, 43. , 43.3, 42.7, 43.3, 43.5, 44.3, 44.8, 45.3, 45.8,\n",
       "       46.2, 46.6, 46.9, 47.2, 47.6, 47.9, 48.3, 48.5, 48.8, 49.1, 49.5,\n",
       "       49.9, 50.4, 51. , 51.6, 52.3, 53.1, 53.9, 54.7, 55.5, 56.3, 57.7,\n",
       "       58.3, 60.1, 61.4, 62.4, 63.2, 64.4, 65.4, 66.3, 67.5, 68.5, 69.6,\n",
       "       70.8, 72. , 73. , 74.3, 75.5, 75.9, 75.8, 75.6, 75.5, 75.5, 75.5,\n",
       "       75.4, 75.4, 75.3, 75.2, 75.3, 75.2, 75.2, 75.1, 75.1, 75. , 75. ,\n",
       "       75. , 74.9, 74.9, 74.8, 74.8, 74.8, 74.7, 74.7, 74.7, 74.7, 74.6,\n",
       "       74.6, 74.6, 74.5, 74.5, 74.4, 74.4, 74.3, 74.3])"
      ]
     },
     "execution_count": 564,
     "metadata": {},
     "output_type": "execute_result"
    }
   ],
   "source": [
    "T1"
   ]
  },
  {
   "cell_type": "code",
   "execution_count": 565,
   "id": "11b4534c-597e-473d-bbe7-e84360f23152",
   "metadata": {},
   "outputs": [
    {
     "data": {
      "text/plain": [
       "array([75.85858586, 75.65656566, 75.55555556, 75.55555556, 75.55555556,\n",
       "       75.45454545, 75.45454545, 75.35353535, 75.25252525, 75.35353535,\n",
       "       75.25252525, 75.25252525, 75.15151515, 75.15151515, 75.05050505,\n",
       "       75.05050505, 75.05050505, 74.94949495, 74.94949495, 74.84848485,\n",
       "       74.84848485, 74.84848485, 74.74747475, 74.74747475, 74.74747475,\n",
       "       74.74747475, 74.64646465, 74.64646465, 74.64646465, 74.54545455,\n",
       "       74.54545455, 74.44444444, 74.44444444, 74.34343434, 74.34343434])"
      ]
     },
     "execution_count": 565,
     "metadata": {},
     "output_type": "execute_result"
    }
   ],
   "source": [
    "\n",
    "after = temp(np.array([75.8, 75.6, 75.5, 75.5, 75.5,\n",
    "       75.4, 75.4, 75.3, 75.2, 75.3, 75.2, 75.2, 75.1, 75.1, 75. , 75. ,\n",
    "       75. , 74.9, 74.9, 74.8, 74.8, 74.8, 74.7, 74.7, 74.7, 74.7, 74.6,\n",
    "       74.6, 74.6, 74.5, 74.5, 74.4, 74.4, 74.3, 74.3]))\n",
    "during = temp(np.array([24.2, 26.4, 27.5, 28.6, 32. , 34.6, 37. , 38.4, 39.8, 40.9, 41.9,\n",
    "       42.6, 43.2, 43. , 43.3, 42.7, 43.3, 43.5, 44.3, 44.8, 45.3, 45.8,\n",
    "       46.2, 46.6, 46.9, 47.2, 47.6, 47.9, 48.3, 48.5, 48.8, 49.1, 49.5,\n",
    "       49.9, 50.4, 51. , 51.6, 52.3, 53.1, 53.9, 54.7, 55.5, 56.3, 57.7,\n",
    "       58.3, 60.1, 61.4, 62.4, 63.2, 64.4, 65.4, 66.3, 67.5, 68.5, 69.6,\n",
    "       70.8, 72. , 73. , 74.3, 75.5, 75.9]))\n",
    "\n",
    "#### T before = 21.6\n",
    "\n",
    "t_after = t1[-35:]\n",
    "t_during = t1[:-35]\n",
    "\n",
    "after"
   ]
  },
  {
   "cell_type": "code",
   "execution_count": 566,
   "id": "f45fd79c-d1d5-4fd6-a766-81fd1d4f62ab",
   "metadata": {},
   "outputs": [
    {
     "data": {
      "text/plain": [
       "(-0.007854454915477094, 78.10395269235643)"
      ]
     },
     "execution_count": 566,
     "metadata": {},
     "output_type": "execute_result"
    }
   ],
   "source": [
    "def linear_func(x,a,b):\n",
    "    return a*x + b\n",
    "\n",
    "params, err = curve_fit(linear_func, t_after, after)\n",
    "\n",
    "a,b = params\n",
    "a,b"
   ]
  },
  {
   "cell_type": "code",
   "execution_count": 567,
   "id": "c0f02dc7-4a43-412d-9d30-d137f9bd3379",
   "metadata": {},
   "outputs": [
    {
     "data": {
      "text/plain": [
       "[<matplotlib.lines.Line2D at 0x16868ef7fa0>]"
      ]
     },
     "execution_count": 567,
     "metadata": {},
     "output_type": "execute_result"
    },
    {
     "data": {
      "image/png": "[encoded data removed]",
      "text/plain": [
       "<Figure size 432x288 with 1 Axes>"
      ]
     },
     "metadata": {
      "needs_background": "light"
     },
     "output_type": "display_data"
    }
   ],
   "source": [
    "x_range = np.linspace(t_after[0],t_after[-1],100)\n",
    "\n",
    "plt.scatter(t_after, after, color = 'k', marker = 'x')\n",
    "plt.plot(x_range, a*x_range +b, color = 'k', linestyle = 'dotted')\n"
   ]
  },
  {
   "cell_type": "code",
   "execution_count": 568,
   "id": "9d2badb7-09c6-4398-8f2c-8eed0725f9e5",
   "metadata": {},
   "outputs": [
    {
     "name": "stdout",
     "output_type": "stream",
     "text": [
      "[    0.           124.24242424   256.81818182   394.94949495\n",
      "   544.44444444   709.09090909   886.36363636  1073.23232323\n",
      "  1267.17171717  1467.42424242  1672.97979798  1882.82828283\n",
      "  2095.95959596  2310.1010101   2524.49494949  2738.13131313\n",
      "  2951.76767677  3167.42424242  3385.60606061  3607.07070707\n",
      "  3831.06060606  4057.57575758  4286.36363636  4517.17171717\n",
      "  4749.74747475  4983.83838384  5219.6969697   5457.32323232\n",
      "  5696.71717172  5937.62626263  6179.7979798   6423.48484848\n",
      "  6668.93939394  6916.41414141  7166.16161616  7418.68686869\n",
      "  7674.24242424  7933.08080808  8195.70707071  8462.37373737\n",
      "  8733.08080808  9007.82828283  9286.61616162  9570.95959596\n",
      "  9860.35353535 10155.80808081 10459.09090909 10768.18181818\n",
      " 11081.81818182 11400.50505051 11724.74747475 12053.78787879\n",
      " 12388.13131313 12728.03030303 13073.23232323 13424.24242424\n",
      " 13781.31313131 14143.93939394 14512.37373737 14887.12121212\n",
      " 15265.90909091]\n"
     ]
    }
   ],
   "source": [
    "S1 = cumulative_trapezoid(during, t_during,initial=0)\n",
    "print(S1)"
   ]
  },
  {
   "cell_type": "code",
   "execution_count": 569,
   "id": "8eba89a9-c442-459e-ae81-9a70ac696cba",
   "metadata": {},
   "outputs": [
    {
     "name": "stdout",
     "output_type": "stream",
     "text": [
      "[7800.04456323 7800.19254161 7796.10375459 7785.50547487 7768.90275298\n",
      " 7746.54811416 7717.9365079  7683.32045946 7643.20501935 7597.33766231\n",
      " 7545.97091359 7489.6098237  7427.49681688 7360.13694364 7288.03525448\n",
      " 7209.92912314 7123.7983476  7031.41060463 6933.77599523 6830.3894689\n",
      " 6722.76617717 6610.90612001 6494.80929745 6374.47570947 6250.15788133\n",
      " 6122.36086353 5991.33718133 5857.33935998 5720.87244999 5582.1889766\n",
      " 5441.54146507 5299.18244065 5155.3644286  5009.83490366 4862.34134058\n",
      " 4712.88373936 4561.46209999 4408.32894774 4253.23175735 4095.91800357\n",
      " 3936.13516114 3773.63070481 3608.40463459 3439.6993747  3268.27250093\n",
      " 3094.62906375 2920.78926521 2747.51068105 2573.78321026 2398.84927709\n",
      " 2220.43615426 2037.53374077 1849.13193561 1654.22063775 1452.04227146\n",
      " 1240.07158419 1015.27827293  775.13708514  523.43589961  265.98279716\n",
      "    0.        ]\n"
     ]
    }
   ],
   "source": [
    "S2 = cumulative_trapezoid((a*t_during + b - during)[::1], t_during,initial=0)\n",
    "print(S2[::-1])"
   ]
  },
  {
   "cell_type": "code",
   "execution_count": 570,
   "id": "7bb6640f-22c1-4ad8-a573-a6d9c1426b97",
   "metadata": {},
   "outputs": [
    {
     "data": {
      "text/plain": [
       "array([  7800.04456323,   7675.95011737,   7539.28557277,   7390.55597992,\n",
       "         7224.45830853,   7037.45720506,   6831.57287154,   6610.08813623,\n",
       "         6376.03330218,   6129.91341988,   5872.99111561,   5606.78154087,\n",
       "         5331.53722092,   5050.03593354,   4763.54030499,   4471.79781001,\n",
       "         4172.03067084,   3863.9863622 ,   3548.16993463,   3223.31876183,\n",
       "         2891.7055711 ,   2553.33036244,   2208.44566108,   1857.3039923 ,\n",
       "         1500.41040658,   1138.52247969,    771.64021164,    400.01612766,\n",
       "           24.15527827,   -355.43728603,   -738.25651473,  -1124.30240783,\n",
       "        -1513.57496534,  -1906.57923775,  -2303.82027558,  -2705.80312933,\n",
       "        -3112.78032425,  -3524.75186034,  -3942.47531335,  -4366.4557338 ,\n",
       "        -4796.94564694,  -5234.19757802,  -5678.21152703,  -6131.26022125,\n",
       "        -6592.08103443,  -7061.17901706,  -7538.30164388,  -8020.67113714,\n",
       "        -8508.03497156,  -9001.65577342,  -9504.31132048, -10016.25413801,\n",
       "       -10538.99937752, -11073.80966528, -11621.19005177, -12184.17084005,\n",
       "       -12766.03485839, -13368.8023088 , -13988.93783776, -14621.13841496,\n",
       "       -15265.90909091])"
      ]
     },
     "execution_count": 570,
     "metadata": {},
     "output_type": "execute_result"
    }
   ],
   "source": [
    "(S2[::-1] - S1)"
   ]
  },
  {
   "cell_type": "code",
   "execution_count": 571,
   "id": "e82bfbed-ee98-4214-a103-736da10b6ffb",
   "metadata": {},
   "outputs": [
    {
     "data": {
      "text/plain": [
       "array([24.2, 26.4, 27.5, 28.6, 32. , 34.6, 37. , 38.4, 39.8, 40.9, 41.9,\n",
       "       42.6, 43.2, 43. , 43.3, 42.7, 43.3, 43.5, 44.3, 44.8, 45.3, 45.8,\n",
       "       46.2, 46.6, 46.9, 47.2, 47.6, 47.9])"
      ]
     },
     "execution_count": 571,
     "metadata": {},
     "output_type": "execute_result"
    }
   ],
   "source": [
    "T1[:28]"
   ]
  },
  {
   "cell_type": "markdown",
   "id": "68a5b589-0e43-4b0b-917e-9bcf3f5c189e",
   "metadata": {
    "tags": []
   },
   "source": [
    "## GRAF"
   ]
  },
  {
   "cell_type": "code",
   "execution_count": 572,
   "id": "bd958381-3576-4640-8740-cceee3ce9bb7",
   "metadata": {},
   "outputs": [
    {
     "data": {
      "text/plain": [
       "(-0.007854454915477094, 78.10395269235643)"
      ]
     },
     "execution_count": 572,
     "metadata": {},
     "output_type": "execute_result"
    }
   ],
   "source": [
    "a,b"
   ]
  },
  {
   "cell_type": "code",
   "execution_count": 588,
   "id": "ca6738c9-cd7a-46ae-8b1b-25fd8273450a",
   "metadata": {},
   "outputs": [
    {
     "name": "stderr",
     "output_type": "stream",
     "text": [
      "C:\\Users\\stepa\\AppData\\Local\\Temp/ipykernel_7396/1749636160.py:25: UserWarning: Matplotlib is currently using pgf, which is a non-GUI backend, so cannot show the figure.\n",
      "  plt.show()\n"
     ]
    },
    {
     "data": {
      "image/png": "[encoded data removed]",
      "text/plain": [
       "<Figure size 576x360 with 1 Axes>"
      ]
     },
     "metadata": {
      "needs_background": "light"
     },
     "output_type": "display_data"
    }
   ],
   "source": [
    "x_range = np.linspace(0,475,200)\n",
    "\n",
    "plt.figure(figsize = (8,5))\n",
    "\n",
    "plt.scatter(t1, T1, color = 'k', marker = 'x', label = \"Naměřená závislost teploty na čase\")\n",
    "\n",
    "plt.plot(x_range, a*x_range+b, color = 'k', linestyle = 'dotted', label = \"Extrapolace teploty po látkové přeměně \\n \\qquad \\qquad $T = 0.007t + 78.1$\")\n",
    "plt.plot(x_range[:100], np.full(100,21.6), color = 'k', linestyle = 'dashdot',  label = \"Extrapolace teploty před látkovou přeměnou \\n \\qquad \\qquad \\qquad $T = 21.6$\")\n",
    "\n",
    "plt.plot(np.full(100,145), np.linspace(21.6,a*145 + b,100), color = 'k', linestyle = 'dashed', label = \"Ideální průběh látkové přeměny\")\n",
    "\n",
    "plt.fill_between(t1[:29], T1[:29], 21.6, color='k', facecolor=\"none\", hatch = '////', linewidth=0.5, label = \" \\qquad \\qquad \\qquad Plocha $S_1$\")\n",
    "plt.fill_between(t1[28:60], a*t1[28:60]+b, T1[28:60], color='k', facecolor=\"none\", hatch = r\"\\\\\\\\\", linewidth=0.5, label = \"\\qquad \\qquad \\qquad Plocha $S_2$\")\n",
    "\n",
    "#plt.legend( loc='lower right', fontsize=9)\n",
    "handles, labels = plt.gca().get_legend_handles_labels()\n",
    "order = [3,0,1,2,4,5]\n",
    "plt.legend([handles[idx] for idx in order],[labels[idx] for idx in order], loc='lower right', fontsize=9)\n",
    "\n",
    "#popisky os\n",
    "plt.ylabel(\"$T$ [°C]\", fontsize=12)\n",
    "plt.xlabel(\"$t$ [s]\", fontsize=12)\n",
    "\n",
    "plt.savefig('var.pdf', bbox_inches = 'tight')\n",
    "plt.show()"
   ]
  },
  {
   "cell_type": "code",
   "execution_count": 589,
   "id": "e6911870-dea9-4c45-a6b2-92f267e123aa",
   "metadata": {},
   "outputs": [
    {
     "data": {
      "text/plain": [
       "array([54.32730668, 52.06581218, 50.9154288 , 49.76504541, 46.2914297 ,\n",
       "       43.6258948 , 41.1623801 , 39.70896641, 38.25555273, 37.10516934,\n",
       "       36.05579606, 35.30945307, 34.66412019, 34.82686812, 34.48456554,\n",
       "       35.05135387, 34.40602099, 34.16472852, 33.31737543, 32.77305266,\n",
       "       32.22872988, 31.6844071 , 31.24109442, 30.79778174, 30.45547916,\n",
       "       30.11317658, 29.66986391, 29.32756133, 28.88424865, 28.64295617,\n",
       "       28.30065359, 27.95835102, 27.51503834, 27.07172566, 26.52740288,\n",
       "       25.88207   , 25.23673712, 24.49039414, 23.64304105, 22.79568797,\n",
       "       21.94833489, 21.10098181, 20.25362872, 18.80021504, 18.15488215,\n",
       "       16.29742806, 14.94502447, 13.89565119, 13.04829811, 11.79690462,\n",
       "       10.74753134,  9.79916815,  8.54777467,  7.49840138,  6.34801799,\n",
       "        5.09662451,  3.84523102,  2.79585774,  1.44345415,  0.19206066,\n",
       "       -0.25125202])"
      ]
     },
     "execution_count": 589,
     "metadata": {},
     "output_type": "execute_result"
    }
   ],
   "source": [
    "a*t_during + b - during"
   ]
  },
  {
   "cell_type": "code",
   "execution_count": 590,
   "id": "d9fba60d-2537-45fe-9ca2-3ca1a83ce5c5",
   "metadata": {},
   "outputs": [
    {
     "data": {
      "text/plain": [
       "145.0"
      ]
     },
     "execution_count": 590,
     "metadata": {},
     "output_type": "execute_result"
    }
   ],
   "source": [
    "t_during[28] #### OBSAHY SE ROVNAJI u 28 TJ. 145"
   ]
  },
  {
   "cell_type": "code",
   "execution_count": 591,
   "id": "7133eedf-2048-4975-857f-55fb9b5c0a51",
   "metadata": {},
   "outputs": [
    {
     "data": {
      "text/plain": [
       "76.96505672961226"
      ]
     },
     "execution_count": 591,
     "metadata": {},
     "output_type": "execute_result"
    }
   ],
   "source": [
    "a*145 + b"
   ]
  },
  {
   "cell_type": "markdown",
   "id": "011219f2-2d3d-4a5d-a0ba-6273510659db",
   "metadata": {
    "jp-MarkdownHeadingCollapsed": true,
    "tags": []
   },
   "source": [
    "## TEPLO VARU"
   ]
  },
  {
   "cell_type": "code",
   "execution_count": 621,
   "id": "7c51246d-e211-477a-9b76-d47c8d3d078d",
   "metadata": {},
   "outputs": [
    {
     "data": {
      "text/plain": [
       "154.43999999999997"
      ]
     },
     "execution_count": 621,
     "metadata": {},
     "output_type": "execute_result"
    }
   ],
   "source": [
    "395.02 - 240.58"
   ]
  },
  {
   "cell_type": "code",
   "execution_count": 592,
   "id": "3eb4fbdf-c322-4468-a00a-9e5716325014",
   "metadata": {},
   "outputs": [
    {
     "name": "stdout",
     "output_type": "stream",
     "text": [
      "99.09241529519223\n"
     ]
    }
   ],
   "source": [
    "b = 98090 / 133.322368\n",
    "tv = 100 + 0.03687*(b-760) - 0.000022*(b-760)**2\n",
    "print(tv)"
   ]
  },
  {
   "cell_type": "code",
   "execution_count": 593,
   "id": "8ccd5625-075b-42d7-8419-b59b708f783f",
   "metadata": {},
   "outputs": [],
   "source": [
    "m1 = 395.02 - 240.58\n",
    "c1 = 4.18\n",
    "m = 19.86\n",
    "t1 = 21.6\n",
    "t = 76.96 ##75.8 bez extrapolace"
   ]
  },
  {
   "cell_type": "code",
   "execution_count": 594,
   "id": "4965609a-89e1-4789-a873-a222593ba634",
   "metadata": {},
   "outputs": [
    {
     "data": {
      "text/plain": [
       "2222.814343616342"
      ]
     },
     "execution_count": 594,
     "metadata": {},
     "output_type": "execute_result"
    }
   ],
   "source": [
    "lk = ((m1*c1 + k)*(t - t1)-m*c1*(tv-t))/m\n",
    "lk"
   ]
  },
  {
   "cell_type": "code",
   "execution_count": 595,
   "id": "76e1d9f9-6558-48cb-8ea6-9a0251a0b52e",
   "metadata": {},
   "outputs": [
    {
     "data": {
      "text/plain": [
       "331.93217532414025"
      ]
     },
     "execution_count": 595,
     "metadata": {},
     "output_type": "execute_result"
    }
   ],
   "source": [
    "slk = lk*np.sqrt(0.7**2/(t - t1)**2 + 0.7**2/(tv-t))\n",
    "slk"
   ]
  },
  {
   "cell_type": "code",
   "execution_count": null,
   "id": "aa2dcf39-3244-452d-ae9b-4e1729d1f275",
   "metadata": {},
   "outputs": [],
   "source": []
  },
  {
   "cell_type": "markdown",
   "id": "50ed318d-9fe0-4dd2-b55e-6fa14e5bb3dd",
   "metadata": {
    "tags": []
   },
   "source": [
    "# ULOHA 5 TANI"
   ]
  },
  {
   "cell_type": "markdown",
   "id": "8d75a354-f48f-4f0c-94a1-92457c4faa1a",
   "metadata": {
    "tags": []
   },
   "source": [
    "## DATA"
   ]
  },
  {
   "cell_type": "code",
   "execution_count": 596,
   "id": "91513d9f-2b9c-40a6-928b-7ebd249da6ce",
   "metadata": {
    "tags": []
   },
   "outputs": [
    {
     "data": {
      "text/plain": [
       "[<matplotlib.lines.Line2D at 0x168676bc850>]"
      ]
     },
     "execution_count": 596,
     "metadata": {},
     "output_type": "execute_result"
    },
    {
     "data": {
      "image/png": "[encoded data removed]",
      "text/plain": [
       "<Figure size 576x360 with 1 Axes>"
      ]
     },
     "metadata": {
      "needs_background": "light"
     },
     "output_type": "display_data"
    }
   ],
   "source": [
    "t1, T1 = load_txt('data/tani.txt')\n",
    "\n",
    "x_range = np.linspace(0,100,200)\n",
    "\n",
    "plt.figure(figsize = (8,5))\n",
    "\n",
    "plt.scatter(t1, T1, color = 'k', marker = 'x')\n",
    "plt.plot(t1, T1, color = 'k', linestyle = 'dotted')"
   ]
  },
  {
   "cell_type": "code",
   "execution_count": 597,
   "id": "4c3a9621-44d7-4f3b-93a5-6a03cad19d51",
   "metadata": {},
   "outputs": [
    {
     "data": {
      "text/plain": [
       "array([75.1, 75. , 75. , 74.9, 74.9, 74.8, 74.7, 74.7, 74.7, 74.6, 74.6,\n",
       "       74.6, 74.6, 74.6, 74.5, 72.4, 66.6, 63.7, 59.5, 56.4, 52.9, 50.6,\n",
       "       48.5, 48.2, 47.9, 47.1, 46.4, 46.1, 45.9, 45.9, 45.9, 45.9, 45.9,\n",
       "       45.9, 45.9, 45.9, 46. , 46. , 46. , 46. , 46. , 46. , 46. , 46.1,\n",
       "       46.1, 46.1, 46.1, 46.1, 46.1, 46.1, 46.1, 46.1, 46.1, 46.1, 46.1,\n",
       "       46.1])"
      ]
     },
     "execution_count": 597,
     "metadata": {},
     "output_type": "execute_result"
    }
   ],
   "source": [
    "T1"
   ]
  },
  {
   "cell_type": "code",
   "execution_count": 598,
   "id": "149e64ef-8cff-487d-a7e9-f882b820d1c4",
   "metadata": {},
   "outputs": [],
   "source": [
    "\n",
    "before = temp(np.array([75.1, 75. , 75. , 74.9, 74.9, 74.8, 74.7, 74.7, 74.7, 74.6, 74.6,\n",
    "       74.6, 74.6, 74.6, 74.5]))\n",
    "\n",
    "after = temp(np.array([45.9, 45.9, 45.9, 45.9, 45.9,\n",
    "       45.9, 45.9, 45.9, 46. , 46. , 46. , 46. , 46. , 46. , 46. , 46.1,\n",
    "       46.1, 46.1, 46.1, 46.1, 46.1, 46.1, 46.1, 46.1, 46.1, 46.1, 46.1,\n",
    "       46.1]))\n",
    "\n",
    "during = temp(np.array([72.4, 66.6, 63.7, 59.5, 56.4, 52.9, 50.6,\n",
    "       48.5, 48.2, 47.9, 47.1, 46.4, 46.1]))\n",
    "\n",
    "\n",
    "t_after = t1[-28:]\n",
    "t_before = t1[:15]\n",
    "t_during = t1[15:28]\n"
   ]
  },
  {
   "cell_type": "code",
   "execution_count": 599,
   "id": "b8a0005e-b4ea-49ad-9675-947752304ae1",
   "metadata": {},
   "outputs": [
    {
     "data": {
      "text/plain": [
       "(0.0019627031099511694, 45.36835237994355)"
      ]
     },
     "execution_count": 599,
     "metadata": {},
     "output_type": "execute_result"
    }
   ],
   "source": [
    "def linear_func(x,i,j):\n",
    "    return i*x + j\n",
    "\n",
    "params, err = curve_fit(linear_func, t_after, after)\n",
    "\n",
    "a1,b1 = params\n",
    "a1,b1"
   ]
  },
  {
   "cell_type": "code",
   "execution_count": 600,
   "id": "d7c21612-44ee-427b-92b7-702d9dc8db0d",
   "metadata": {},
   "outputs": [
    {
     "data": {
      "text/plain": [
       "(-0.008008658010857594, 75.08164983181145)"
      ]
     },
     "execution_count": 600,
     "metadata": {},
     "output_type": "execute_result"
    }
   ],
   "source": [
    "params, err = curve_fit(linear_func, t_before, before)\n",
    "\n",
    "a2,b2 = params\n",
    "a2,b2"
   ]
  },
  {
   "cell_type": "code",
   "execution_count": 601,
   "id": "a3bdd4df-b305-4f24-8f43-37b8cc754b17",
   "metadata": {},
   "outputs": [
    {
     "data": {
      "text/plain": [
       "[<matplotlib.lines.Line2D at 0x1686a1dc910>]"
      ]
     },
     "execution_count": 601,
     "metadata": {},
     "output_type": "execute_result"
    },
    {
     "data": {
      "image/png": "[encoded data removed]",
      "text/plain": [
       "<Figure size 432x288 with 1 Axes>"
      ]
     },
     "metadata": {
      "needs_background": "light"
     },
     "output_type": "display_data"
    }
   ],
   "source": [
    "x_range = np.linspace(t_after[0],t_after[-1],100)\n",
    "\n",
    "plt.scatter(t_after, after, color = 'k', marker = 'x')\n",
    "plt.plot(x_range, a1*x_range +b1, color = 'k', linestyle = 'dotted')\n"
   ]
  },
  {
   "cell_type": "code",
   "execution_count": 602,
   "id": "263f9274-507b-475b-8550-d85eb5e5ee22",
   "metadata": {},
   "outputs": [
    {
     "data": {
      "text/plain": [
       "[<matplotlib.lines.Line2D at 0x1686a22d4c0>]"
      ]
     },
     "execution_count": 602,
     "metadata": {},
     "output_type": "execute_result"
    },
    {
     "data": {
      "image/png": "[encoded data removed]",
      "text/plain": [
       "<Figure size 432x288 with 1 Axes>"
      ]
     },
     "metadata": {
      "needs_background": "light"
     },
     "output_type": "display_data"
    }
   ],
   "source": [
    "x_range = np.linspace(t_before[0],t_before[-1],100)\n",
    "\n",
    "plt.scatter(t_before, before, color = 'k', marker = 'x')\n",
    "plt.plot(x_range, a2*x_range +b2, color = 'k', linestyle = 'dotted')"
   ]
  },
  {
   "cell_type": "code",
   "execution_count": 603,
   "id": "d3dbe01b-71ad-40bb-92cc-03b973b3baff",
   "metadata": {},
   "outputs": [
    {
     "name": "stdout",
     "output_type": "stream",
     "text": [
      "[-4.91038878e+02 -3.71166440e+02 -2.73312766e+02 -1.93437453e+02\n",
      " -1.32045551e+02 -8.73693835e+01 -5.73887479e+01 -3.85682910e+01\n",
      " -2.58575078e+01 -1.47109436e+01 -6.39122479e+00 -1.90845234e+00\n",
      " -4.25478675e-09]\n"
     ]
    }
   ],
   "source": [
    "S1 = cumulative_trapezoid(during - a1*t_during -b1 , t_during,initial=0)\n",
    "print(S1-491.03887812)"
   ]
  },
  {
   "cell_type": "code",
   "execution_count": 604,
   "id": "b5d16071-4c7b-4080-91f8-412fa3aa3643",
   "metadata": {},
   "outputs": [
    {
     "name": "stdout",
     "output_type": "stream",
     "text": [
      "[   0.           24.83014671   71.42977393  135.75847763  218.32130832\n",
      "  317.35058922  430.82611833  555.21254209  685.45935546  817.02110389\n",
      "  951.16041366 1088.88738576 1228.93939394]\n"
     ]
    }
   ],
   "source": [
    "S2 = cumulative_trapezoid((a2*t_during + b2 - during), t_during,initial=0)\n",
    "print(S2)"
   ]
  },
  {
   "cell_type": "code",
   "execution_count": 605,
   "id": "db899b85-1895-43da-a9a6-b46567f10877",
   "metadata": {},
   "outputs": [
    {
     "data": {
      "text/plain": [
       "array([ 3.88781157e-02, -2.66997209e+01, -7.77821206e+01, -1.50430543e+02,\n",
       "       -2.44139938e+02, -3.55880002e+02, -4.88175988e+02, -6.42543047e+02,\n",
       "       -8.17466029e+02, -1.01041968e+03, -1.22443430e+03, -1.46001495e+03,\n",
       "       -1.71993939e+03])"
      ]
     },
     "execution_count": 605,
     "metadata": {},
     "output_type": "execute_result"
    }
   ],
   "source": [
    "(S1[::-1] - 491 - S2)"
   ]
  },
  {
   "cell_type": "code",
   "execution_count": 606,
   "id": "6421e03c-f463-4e54-83ba-47b0fb8821f5",
   "metadata": {},
   "outputs": [
    {
     "data": {
      "text/plain": [
       "array([75.1, 75. , 75. , 74.9, 74.9, 74.8, 74.7, 74.7, 74.7, 74.6, 74.6,\n",
       "       74.6, 74.6, 74.6, 74.5, 72.4, 66.6, 63.7, 59.5, 56.4, 52.9, 50.6,\n",
       "       48.5, 48.2, 47.9, 47.1, 46.4, 46.1])"
      ]
     },
     "execution_count": 606,
     "metadata": {},
     "output_type": "execute_result"
    }
   ],
   "source": [
    "T1[:28]"
   ]
  },
  {
   "cell_type": "markdown",
   "id": "51131942-8346-44c3-b404-e3c3729490d8",
   "metadata": {
    "tags": []
   },
   "source": [
    "## GRAF"
   ]
  },
  {
   "cell_type": "code",
   "execution_count": 607,
   "id": "dbc57c0b-ca7f-4a9b-b74a-0dc5244f4c31",
   "metadata": {},
   "outputs": [
    {
     "data": {
      "text/plain": [
       "(0.0019627031099511694, 45.36835237994355)"
      ]
     },
     "execution_count": 607,
     "metadata": {},
     "output_type": "execute_result"
    }
   ],
   "source": [
    "a1,b1"
   ]
  },
  {
   "cell_type": "code",
   "execution_count": 608,
   "id": "1203357a-e0ae-47b1-a4ea-f8dc0661364b",
   "metadata": {},
   "outputs": [
    {
     "data": {
      "text/plain": [
       "(-0.008008658010857594, 75.08164983181145)"
      ]
     },
     "execution_count": 608,
     "metadata": {},
     "output_type": "execute_result"
    }
   ],
   "source": [
    "a2,b2"
   ]
  },
  {
   "cell_type": "code",
   "execution_count": 615,
   "id": "46d092cc-7738-4b3f-bc72-9fe54ddc0e38",
   "metadata": {},
   "outputs": [
    {
     "name": "stderr",
     "output_type": "stream",
     "text": [
      "C:\\Users\\stepa\\AppData\\Local\\Temp/ipykernel_7396/1023012655.py:25: UserWarning: Matplotlib is currently using pgf, which is a non-GUI backend, so cannot show the figure.\n",
      "  plt.show()\n"
     ]
    },
    {
     "data": {
      "image/png": "[encoded data removed]",
      "text/plain": [
       "<Figure size 576x360 with 1 Axes>"
      ]
     },
     "metadata": {
      "needs_background": "light"
     },
     "output_type": "display_data"
    }
   ],
   "source": [
    "x_range = np.linspace(0,270,200)\n",
    "\n",
    "plt.figure(figsize = (8,5))\n",
    "\n",
    "plt.scatter(t1, T1, color = 'k', marker = 'x', label = \"Naměřená závislost teploty na čase\")\n",
    "\n",
    "plt.plot(x_range, a1*x_range+b1, color = 'k', linestyle = 'dotted', label = \"Extrapolace teploty po látkové přeměně \\n \\qquad \\qquad  $T = 0.002t + 45.3$\")\n",
    "plt.plot(x_range[:105], a2*x_range[:105]+b2, color = 'k', linestyle = 'dashdot',  label = \"Extrapolace teploty před látkovou přeměnou \\n \\qquad \\qquad $T = -0.008t + 75.1$\")\n",
    "\n",
    "plt.plot(np.full(100,95), np.linspace(a2*95 + b2,a1*95 + b1,100), color = 'k', linestyle = 'dashed', label = \"Ideální průběh látkové přeměny\")\n",
    "\n",
    "plt.fill_between(t1[14:20], T1[14:20], a2*t1[14:20]+b2, color='k', facecolor=\"none\", hatch = '////', linewidth=0.5, label = \"\\qquad \\qquad \\qquad Plocha $S_1$\")\n",
    "plt.fill_between(t1[19:28], a1*t1[19:28]+b1, T1[19:28], color='k', facecolor=\"none\", hatch = r\"\\\\\\\\\", linewidth=0.5, label = \"\\qquad \\qquad \\qquad Plocha $S_2$\")\n",
    "\n",
    "#plt.legend( loc='lower right', fontsize=9)\n",
    "handles, labels = plt.gca().get_legend_handles_labels()\n",
    "order = [3,0,1,2,4,5]\n",
    "plt.legend([handles[idx] for idx in order],[labels[idx] for idx in order], loc='upper right', fontsize=9)\n",
    "\n",
    "#popisky os\n",
    "plt.ylabel(\"$T$ [°C]\", fontsize=12)\n",
    "plt.xlabel(\"$t$ [s]\", fontsize=12)\n",
    "\n",
    "plt.savefig('tani.pdf', bbox_inches = 'tight')\n",
    "plt.show()"
   ]
  },
  {
   "cell_type": "code",
   "execution_count": 616,
   "id": "99c39b16-f9db-46fa-a00b-da349fec05b9",
   "metadata": {},
   "outputs": [
    {
     "data": {
      "text/plain": [
       "95.0"
      ]
     },
     "execution_count": 616,
     "metadata": {},
     "output_type": "execute_result"
    }
   ],
   "source": [
    "t_during[4] #### OBSAHY SE ROVNAJI u 4 TJ. 95"
   ]
  },
  {
   "cell_type": "code",
   "execution_count": 617,
   "id": "5888eb98-eadb-48eb-adb6-b20e2d188b9d",
   "metadata": {},
   "outputs": [
    {
     "data": {
      "text/plain": [
       "(74.54545454545455, 45.85858585858586)"
      ]
     },
     "execution_count": 617,
     "metadata": {},
     "output_type": "execute_result"
    }
   ],
   "source": [
    "before[-1], after[-1]"
   ]
  },
  {
   "cell_type": "code",
   "execution_count": 618,
   "id": "8c22835d-f272-4393-86fc-e2327e6dda68",
   "metadata": {},
   "outputs": [
    {
     "data": {
      "text/plain": [
       "45.55480917538891"
      ]
     },
     "execution_count": 618,
     "metadata": {},
     "output_type": "execute_result"
    }
   ],
   "source": [
    "a1*95 + b1"
   ]
  },
  {
   "cell_type": "code",
   "execution_count": 619,
   "id": "1aa54a63-bc64-48fd-9d5d-d433cde0cd84",
   "metadata": {},
   "outputs": [
    {
     "data": {
      "text/plain": [
       "74.32082732077997"
      ]
     },
     "execution_count": 619,
     "metadata": {},
     "output_type": "execute_result"
    }
   ],
   "source": [
    "a2*95 + b2"
   ]
  },
  {
   "cell_type": "markdown",
   "id": "9722f241-0b2b-4d9f-8e47-045a202c58f1",
   "metadata": {
    "tags": []
   },
   "source": [
    "## TEPLO TANI"
   ]
  },
  {
   "cell_type": "code",
   "execution_count": 622,
   "id": "c24fb006-ae04-4e03-8f07-aef735d7a12c",
   "metadata": {},
   "outputs": [
    {
     "data": {
      "text/plain": [
       "157.48"
      ]
     },
     "execution_count": 622,
     "metadata": {},
     "output_type": "execute_result"
    }
   ],
   "source": [
    "398.06 - 240.58"
   ]
  },
  {
   "cell_type": "code",
   "execution_count": 623,
   "id": "27352366-e052-48e7-b0ea-f0a50be93b4b",
   "metadata": {},
   "outputs": [
    {
     "data": {
      "text/plain": [
       "36.579999999999984"
      ]
     },
     "execution_count": 623,
     "metadata": {},
     "output_type": "execute_result"
    }
   ],
   "source": [
    "434.64 - 398.06"
   ]
  },
  {
   "cell_type": "code",
   "execution_count": 535,
   "id": "325ca1c6-e00d-45ed-8630-adcc1e9472cf",
   "metadata": {},
   "outputs": [],
   "source": [
    "m1 = 398.06 - 240.58\n",
    "c1 = 4.18\n",
    "m = 434.64 - 398.06\n",
    "t1 = 74.32\n",
    "t = 45.55"
   ]
  },
  {
   "cell_type": "code",
   "execution_count": 540,
   "id": "dd39dd59-01d4-4084-a532-2c42bba87212",
   "metadata": {},
   "outputs": [
    {
     "data": {
      "text/plain": [
       "327.3244644067798"
      ]
     },
     "execution_count": 540,
     "metadata": {},
     "output_type": "execute_result"
    }
   ],
   "source": [
    "lt = ((m1*c1)*(t1 - t)-m*c1*(t))/m\n",
    "lt"
   ]
  },
  {
   "cell_type": "code",
   "execution_count": 541,
   "id": "01f70ba7-5b88-46bd-8cd9-d6282fe32aee",
   "metadata": {},
   "outputs": [
    {
     "data": {
      "text/plain": [
       "25.52389390022096"
      ]
     },
     "execution_count": 541,
     "metadata": {},
     "output_type": "execute_result"
    }
   ],
   "source": [
    "slk = lt*np.sqrt(0.7**2/(t1 - t)**2 + 0.5**2/(t))\n",
    "slk"
   ]
  },
  {
   "cell_type": "code",
   "execution_count": null,
   "id": "e0c0a9e7-24d2-4392-ac03-c608a2d2a8c7",
   "metadata": {},
   "outputs": [],
   "source": []
  },
  {
   "cell_type": "code",
   "execution_count": null,
   "id": "2bb8b791-0ea2-4fe6-afb0-43e44074511f",
   "metadata": {},
   "outputs": [],
   "source": []
  },
  {
   "cell_type": "code",
   "execution_count": null,
   "id": "302f4692-0603-45b3-a7b8-71ffe86c6276",
   "metadata": {},
   "outputs": [],
   "source": []
  },
  {
   "cell_type": "code",
   "execution_count": null,
   "id": "85658f61-3ccb-4362-b161-fd4ba268047b",
   "metadata": {},
   "outputs": [],
   "source": []
  },
  {
   "cell_type": "code",
   "execution_count": null,
   "id": "3007a3e7-4b37-4529-868c-efab8c210986",
   "metadata": {},
   "outputs": [],
   "source": []
  }
 ],
 "metadata": {
  "kernelspec": {
   "display_name": "Python 3 (ipykernel)",
   "language": "python",
   "name": "python3"
  },
  "language_info": {
   "codemirror_mode": {
    "name": "ipython",
    "version": 3
   },
   "file_extension": ".py",
   "mimetype": "text/x-python",
   "name": "python",
   "nbconvert_exporter": "python",
   "pygments_lexer": "ipython3",
   "version": "3.8.7"
  }
 },
 "nbformat": 4,
 "nbformat_minor": 5
}
