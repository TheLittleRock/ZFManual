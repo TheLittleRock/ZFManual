{
 "cells": [
  {
   "cell_type": "code",
   "execution_count": 148,
   "id": "2d6b1890-4989-4bc8-8d88-b139968b7a83",
   "metadata": {},
   "outputs": [],
   "source": [
    "import numpy as np\n",
    "import sympy as smp\n",
    "import matplotlib.pyplot as plt\n",
    "from scipy.optimize import curve_fit\n",
    "from tabulate import tabulate\n",
    "import matplotlib"
   ]
  },
  {
   "cell_type": "code",
   "execution_count": 149,
   "id": "29d58055-f811-4c67-9547-af60d52bd402",
   "metadata": {},
   "outputs": [],
   "source": [
    "matplotlib.use(\"pgf\")\n",
    "matplotlib.rcParams.update({\n",
    "    \"pgf.texsystem\": \"pdflatex\",\n",
    "    'font.family': 'serif',\n",
    "    'text.usetex': True,\n",
    "    'pgf.rcfonts': False,\n",
    "})"
   ]
  },
  {
   "cell_type": "code",
   "execution_count": 462,
   "id": "a815838a-7c12-4f8e-8cb9-ec0c14b3e1a8",
   "metadata": {},
   "outputs": [],
   "source": [
    "def mean(arr):\n",
    "    return np.mean(arr)\n",
    "\n",
    "def error():\n",
    "    return\n",
    "\n",
    "def weighted_error(x, err):\n",
    "    \n",
    "    x = np.asarray(x)\n",
    "    err = np.asarray(err)\n",
    "    \n",
    "    average = np.sum(x/(err**2))/np.sum(1/err**2)\n",
    "    \n",
    "    average_error = 1/np.sqrt(np.sum(1/err**2))\n",
    "    \n",
    "    return average, average_error"
   ]
  },
  {
   "cell_type": "code",
   "execution_count": 463,
   "id": "569499e8-05cf-4feb-bc3b-9989c1c3c63c",
   "metadata": {},
   "outputs": [],
   "source": [
    "x0 = smp.symbols('x_0')\n",
    "w = smp.symbols('\\omega')\n",
    "delta = smp.symbols('\\delta')\n",
    "t = smp.symbols('t')\n",
    "o0 = smp.symbols('\\Omega_0')"
   ]
  },
  {
   "cell_type": "code",
   "execution_count": 464,
   "id": "760c8690-58cf-4daf-98ab-18b6b522ff56",
   "metadata": {},
   "outputs": [],
   "source": [
    "d = smp.sqrt(delta**2 - w**2)"
   ]
  },
  {
   "cell_type": "code",
   "execution_count": 465,
   "id": "576d4710-13a0-4343-8198-ad1e8ad6c068",
   "metadata": {},
   "outputs": [],
   "source": [
    "A1 = x1 = smp.symbols('A_1')\n",
    "A2 = x1 = smp.symbols('A_2')"
   ]
  },
  {
   "cell_type": "code",
   "execution_count": 466,
   "id": "f701f634-49b6-4c5c-be77-a8701cd02fa9",
   "metadata": {},
   "outputs": [],
   "source": [
    "t_range = np.linspace(0,10,1000)"
   ]
  },
  {
   "cell_type": "markdown",
   "id": "e51802c0-17c4-4886-9805-ece09b2e3fdb",
   "metadata": {
    "tags": []
   },
   "source": [
    "## **DÚ: Řešení pro kritický útlum:**"
   ]
  },
  {
   "cell_type": "code",
   "execution_count": 467,
   "id": "0daab195-798a-4cb3-8f1f-2c7a22303d54",
   "metadata": {},
   "outputs": [
    {
     "data": {
      "text/latex": [
       "$\\displaystyle A_{1} e^{- \\delta t} + A_{2} t e^{- \\delta t}$"
      ],
      "text/plain": [
       "A_1*exp(-\\delta*t) + A_2*t*exp(-\\delta*t)"
      ]
     },
     "execution_count": 467,
     "metadata": {},
     "output_type": "execute_result"
    }
   ],
   "source": [
    "x = A1*smp.exp(-delta*t) + A2*t*smp.exp(-delta*t)\n",
    "x"
   ]
  },
  {
   "cell_type": "code",
   "execution_count": 468,
   "id": "efa67c4c-6512-4f79-8c16-bea57dc8ba5f",
   "metadata": {},
   "outputs": [
    {
     "data": {
      "text/latex": [
       "$\\displaystyle - A_{1} \\delta e^{- \\delta t} - A_{2} \\delta t e^{- \\delta t} + A_{2} e^{- \\delta t}$"
      ],
      "text/plain": [
       "-A_1*\\delta*exp(-\\delta*t) - A_2*\\delta*t*exp(-\\delta*t) + A_2*exp(-\\delta*t)"
      ]
     },
     "execution_count": 468,
     "metadata": {},
     "output_type": "execute_result"
    }
   ],
   "source": [
    "dx = smp.diff(x,t)\n",
    "dx"
   ]
  },
  {
   "cell_type": "code",
   "execution_count": 469,
   "id": "79e4b9f3-0c04-49cc-a724-38118103775a",
   "metadata": {},
   "outputs": [
    {
     "data": {
      "text/latex": [
       "$\\displaystyle A_{1} \\delta^{2} e^{- \\delta t} + A_{2} \\delta^{2} t e^{- \\delta t} - 2 A_{2} \\delta e^{- \\delta t}$"
      ],
      "text/plain": [
       "A_1*\\delta**2*exp(-\\delta*t) + A_2*\\delta**2*t*exp(-\\delta*t) - 2*A_2*\\delta*exp(-\\delta*t)"
      ]
     },
     "execution_count": 469,
     "metadata": {},
     "output_type": "execute_result"
    }
   ],
   "source": [
    "ddx = smp.diff(dx,t)\n",
    "ddx"
   ]
  },
  {
   "cell_type": "code",
   "execution_count": 470,
   "id": "18dd3172-931e-408a-932e-ce02f4a0fbfe",
   "metadata": {},
   "outputs": [
    {
     "data": {
      "text/latex": [
       "$\\displaystyle A_{1} \\delta^{2} e^{- \\delta t} + A_{2} \\delta^{2} t e^{- \\delta t} - 2 A_{2} \\delta e^{- \\delta t} + \\delta^{2} \\left(A_{1} e^{- \\delta t} + A_{2} t e^{- \\delta t}\\right) + 2 \\delta \\left(- A_{1} \\delta e^{- \\delta t} - A_{2} \\delta t e^{- \\delta t} + A_{2} e^{- \\delta t}\\right)$"
      ],
      "text/plain": [
       "A_1*\\delta**2*exp(-\\delta*t) + A_2*\\delta**2*t*exp(-\\delta*t) - 2*A_2*\\delta*exp(-\\delta*t) + \\delta**2*(A_1*exp(-\\delta*t) + A_2*t*exp(-\\delta*t)) + 2*\\delta*(-A_1*\\delta*exp(-\\delta*t) - A_2*\\delta*t*exp(-\\delta*t) + A_2*exp(-\\delta*t))"
      ]
     },
     "execution_count": 470,
     "metadata": {},
     "output_type": "execute_result"
    }
   ],
   "source": [
    "ddx + 2*delta*dx + delta**2*x"
   ]
  },
  {
   "cell_type": "code",
   "execution_count": 471,
   "id": "873f19dd-bcb9-4fac-91a5-684ed1bff580",
   "metadata": {},
   "outputs": [
    {
     "data": {
      "text/latex": [
       "$\\displaystyle 0$"
      ],
      "text/plain": [
       "0"
      ]
     },
     "execution_count": 471,
     "metadata": {},
     "output_type": "execute_result"
    }
   ],
   "source": [
    "smp.simplify(ddx + 2*delta*dx + delta**2*x)"
   ]
  },
  {
   "cell_type": "markdown",
   "id": "4c1c94dd-77f6-442b-b548-309f26d91263",
   "metadata": {
    "tags": []
   },
   "source": [
    "## **DÚ: Kritický útlum graf:**"
   ]
  },
  {
   "cell_type": "code",
   "execution_count": 472,
   "id": "0cf86731-d79f-4f13-afac-e47aafbeeea3",
   "metadata": {},
   "outputs": [
    {
     "data": {
      "text/latex": [
       "$\\displaystyle \\left(\\omega t x_{0} + x_{0}\\right) e^{- \\omega t}$"
      ],
      "text/plain": [
       "(\\omega*t*x_0 + x_0)*exp(-\\omega*t)"
      ]
     },
     "execution_count": 472,
     "metadata": {},
     "output_type": "execute_result"
    }
   ],
   "source": [
    "x1 = (x0 + x0*w*t)*smp.exp(-w*t)\n",
    "x1"
   ]
  },
  {
   "cell_type": "code",
   "execution_count": 473,
   "id": "40b7a6c1-0f0a-487d-af9f-218fdd68e9cf",
   "metadata": {},
   "outputs": [
    {
     "data": {
      "text/latex": [
       "$\\displaystyle \\Omega_{0} t e^{- \\omega t}$"
      ],
      "text/plain": [
       "\\Omega_0*t*exp(-\\omega*t)"
      ]
     },
     "execution_count": 473,
     "metadata": {},
     "output_type": "execute_result"
    }
   ],
   "source": [
    "x2 = o0*t*smp.exp(-w*t)\n",
    "x2"
   ]
  },
  {
   "cell_type": "code",
   "execution_count": 474,
   "id": "77c31a14-b6d9-4ac1-8e00-54da900ed8c5",
   "metadata": {},
   "outputs": [
    {
     "data": {
      "text/plain": [
       "10.0"
      ]
     },
     "execution_count": 474,
     "metadata": {},
     "output_type": "execute_result"
    }
   ],
   "source": [
    "x1_func = smp.lambdify([t,w,x0], x1)\n",
    "x1_func(0,1,10)"
   ]
  },
  {
   "cell_type": "code",
   "execution_count": 475,
   "id": "a9da7db5-6afa-4346-a9ee-d622c2a53e99",
   "metadata": {},
   "outputs": [
    {
     "data": {
      "text/plain": [
       "3.6787944117144233"
      ]
     },
     "execution_count": 475,
     "metadata": {},
     "output_type": "execute_result"
    }
   ],
   "source": [
    "x2_func = smp.lambdify([t,w,o0], x2)\n",
    "x2_func(1,1,10)"
   ]
  },
  {
   "cell_type": "code",
   "execution_count": 476,
   "id": "5aefd791-31e3-4ab1-8091-51ab3409e7ca",
   "metadata": {},
   "outputs": [
    {
     "name": "stderr",
     "output_type": "stream",
     "text": [
      "C:\\Users\\stepa\\AppData\\Local\\Temp/ipykernel_4076/3223493583.py:2: UserWarning: Matplotlib is currently using pgf, which is a non-GUI backend, so cannot show the figure.\n",
      "  plt.show()\n"
     ]
    },
    {
     "data": {
      "image/png": "[encoded data removed]",
      "text/plain": [
       "<Figure size 432x288 with 1 Axes>"
      ]
     },
     "metadata": {
      "needs_background": "light"
     },
     "output_type": "display_data"
    }
   ],
   "source": [
    "plt.plot(t_range, x1_func(t_range, 1,10))\n",
    "plt.show()"
   ]
  },
  {
   "cell_type": "code",
   "execution_count": 477,
   "id": "7bc2d749-a50d-4b7e-b1f4-b2508e5d7a3b",
   "metadata": {},
   "outputs": [
    {
     "name": "stderr",
     "output_type": "stream",
     "text": [
      "C:\\Users\\stepa\\AppData\\Local\\Temp/ipykernel_4076/2954828898.py:2: UserWarning: Matplotlib is currently using pgf, which is a non-GUI backend, so cannot show the figure.\n",
      "  plt.show()\n"
     ]
    },
    {
     "data": {
      "image/png": "[encoded data removed]",
      "text/plain": [
       "<Figure size 432x288 with 1 Axes>"
      ]
     },
     "metadata": {
      "needs_background": "light"
     },
     "output_type": "display_data"
    }
   ],
   "source": [
    "plt.plot(t_range, x2_func(t_range, 1,10))\n",
    "plt.show()"
   ]
  },
  {
   "cell_type": "markdown",
   "id": "1da209dd-79b9-4080-9c41-82da17ef4f90",
   "metadata": {
    "tags": []
   },
   "source": [
    "## **DÚ: Nadkritický útlum graf:**"
   ]
  },
  {
   "cell_type": "code",
   "execution_count": 478,
   "id": "82288550-df7a-4d14-8c15-c670bc4e797a",
   "metadata": {},
   "outputs": [
    {
     "data": {
      "text/latex": [
       "$\\displaystyle x_{0} \\left(\\frac{\\delta \\sinh{\\left(t \\sqrt{\\delta^{2} - \\omega^{2}} \\right)}}{\\sqrt{\\delta^{2} - \\omega^{2}}} + \\cosh{\\left(t \\sqrt{\\delta^{2} - \\omega^{2}} \\right)}\\right) e^{- \\delta t}$"
      ],
      "text/plain": [
       "x_0*(\\delta*sinh(t*sqrt(\\delta**2 - \\omega**2))/sqrt(\\delta**2 - \\omega**2) + cosh(t*sqrt(\\delta**2 - \\omega**2)))*exp(-\\delta*t)"
      ]
     },
     "execution_count": 478,
     "metadata": {},
     "output_type": "execute_result"
    }
   ],
   "source": [
    "x3 = x0*smp.exp(-delta*t)*(smp.cosh(d*t)+delta/d*smp.sinh(d*t))\n",
    "x3"
   ]
  },
  {
   "cell_type": "code",
   "execution_count": 479,
   "id": "87eac15b-fe86-45fe-8e83-2f17eb6bb001",
   "metadata": {},
   "outputs": [
    {
     "data": {
      "text/plain": [
       "5.38580404702235"
      ]
     },
     "execution_count": 479,
     "metadata": {},
     "output_type": "execute_result"
    }
   ],
   "source": [
    "x3_func = smp.lambdify([t,w,x0,delta], x3)\n",
    "x3_func(5,1,10,4)"
   ]
  },
  {
   "cell_type": "code",
   "execution_count": 480,
   "id": "b1ee4c71-8379-4546-b0c5-dd6eab2c5356",
   "metadata": {},
   "outputs": [
    {
     "name": "stderr",
     "output_type": "stream",
     "text": [
      "C:\\Users\\stepa\\AppData\\Local\\Temp/ipykernel_4076/614759147.py:2: UserWarning: Matplotlib is currently using pgf, which is a non-GUI backend, so cannot show the figure.\n",
      "  plt.show()\n"
     ]
    },
    {
     "data": {
      "image/png": "[encoded data removed]",
      "text/plain": [
       "<Figure size 432x288 with 1 Axes>"
      ]
     },
     "metadata": {
      "needs_background": "light"
     },
     "output_type": "display_data"
    }
   ],
   "source": [
    "plt.plot(t_range, x3_func(t_range, 1,10,2))\n",
    "plt.show()"
   ]
  },
  {
   "cell_type": "code",
   "execution_count": 481,
   "id": "032b6fb0-ba98-49ad-b777-3247a8a83d59",
   "metadata": {},
   "outputs": [
    {
     "data": {
      "text/latex": [
       "$\\displaystyle \\frac{\\Omega_{0} e^{- \\delta t} \\sinh{\\left(t \\sqrt{\\delta^{2} - \\omega^{2}} \\right)}}{\\sqrt{\\delta^{2} - \\omega^{2}}}$"
      ],
      "text/plain": [
       "\\Omega_0*exp(-\\delta*t)*sinh(t*sqrt(\\delta**2 - \\omega**2))/sqrt(\\delta**2 - \\omega**2)"
      ]
     },
     "execution_count": 481,
     "metadata": {},
     "output_type": "execute_result"
    }
   ],
   "source": [
    "x4 = o0/d*smp.exp(-delta*t)*smp.sinh(d*t)\n",
    "x4"
   ]
  },
  {
   "cell_type": "code",
   "execution_count": 482,
   "id": "5adf9629-c287-490e-8b81-01478df73dc6",
   "metadata": {},
   "outputs": [
    {
     "data": {
      "text/plain": [
       "2.1390913026027936"
      ]
     },
     "execution_count": 482,
     "metadata": {},
     "output_type": "execute_result"
    }
   ],
   "source": [
    "x4_func = smp.lambdify([t,w,o0,delta], x4)\n",
    "x4_func(1,1,10,2)"
   ]
  },
  {
   "cell_type": "code",
   "execution_count": 483,
   "id": "10354ac1-9b62-4a57-9b3d-31540ff4eb71",
   "metadata": {},
   "outputs": [
    {
     "name": "stderr",
     "output_type": "stream",
     "text": [
      "C:\\Users\\stepa\\AppData\\Local\\Temp/ipykernel_4076/3534929388.py:2: UserWarning: Matplotlib is currently using pgf, which is a non-GUI backend, so cannot show the figure.\n",
      "  plt.show()\n"
     ]
    },
    {
     "data": {
      "image/png": "[encoded data removed]",
      "text/plain": [
       "<Figure size 432x288 with 1 Axes>"
      ]
     },
     "metadata": {
      "needs_background": "light"
     },
     "output_type": "display_data"
    }
   ],
   "source": [
    "plt.plot(t_range, x4_func(t_range, 1,10,2))\n",
    "plt.show()"
   ]
  },
  {
   "cell_type": "markdown",
   "id": "a647670a-ddb3-47b8-818b-84decd1e414a",
   "metadata": {
    "jp-MarkdownHeadingCollapsed": true,
    "tags": []
   },
   "source": [
    "## **DÚ: Graf - všechny:**"
   ]
  },
  {
   "cell_type": "code",
   "execution_count": 484,
   "id": "e80bd2a6-7434-4047-8571-bb88ded7726b",
   "metadata": {},
   "outputs": [
    {
     "name": "stderr",
     "output_type": "stream",
     "text": [
      "C:\\Users\\stepa\\AppData\\Local\\Temp/ipykernel_4076/306420544.py:7: UserWarning: Matplotlib is currently using pgf, which is a non-GUI backend, so cannot show the figure.\n",
      "  plt.show()\n"
     ]
    },
    {
     "data": {
      "image/png": "[encoded data removed]",
      "text/plain": [
       "<Figure size 432x288 with 1 Axes>"
      ]
     },
     "metadata": {
      "needs_background": "light"
     },
     "output_type": "display_data"
    }
   ],
   "source": [
    "plt.plot(t_range, x1_func(t_range, 1,10), label = \"kriticky 1. podm\")\n",
    "plt.plot(t_range, x2_func(t_range, 1,10), label = \"kriticky 2. podm\")\n",
    "plt.plot(t_range, x3_func(t_range, 1,10,2), label = \"nadkriticky 1. podm\")\n",
    "plt.plot(t_range, x4_func(t_range, 1,10,2), label = \"nadkriticky 2. podm\")\n",
    "plt.legend()\n",
    "plt.xticks(np.arange(11))\n",
    "plt.show()"
   ]
  },
  {
   "cell_type": "markdown",
   "id": "35cf5ab5-46f8-4cbd-a036-dd4f7d0f3819",
   "metadata": {
    "tags": []
   },
   "source": [
    "## **Úkol 2** "
   ]
  },
  {
   "cell_type": "markdown",
   "id": "6752bfd3-2311-4adf-8230-2fac24062ab1",
   "metadata": {
    "tags": []
   },
   "source": [
    "### Definice funkci"
   ]
  },
  {
   "cell_type": "code",
   "execution_count": 497,
   "id": "a9ddb159-f913-49a0-b706-5e4ab5b2da09",
   "metadata": {},
   "outputs": [],
   "source": [
    "def decimal(x):\n",
    "    return x.replace(',', '.').encode()\n",
    "\n",
    "def load_data(name):\n",
    "    t,amplitude = np.genfromtxt((decimal(x) for x in open(name)), delimiter='\\t',unpack = True, skip_header=2)\n",
    "    return t,amplitude\n",
    "    \n",
    "def damped_oscilator(t, A, delta, w, phi, x0):\n",
    "    \"\"\"\n",
    "    t - čas, A - amplituda, delta - koeficient útlumu, w - frekvence, phi - fázový posun, x0 - vertikální posun\n",
    "    \"\"\"\n",
    "    return A * np.exp(-delta*t) * np.sin(w*t + phi) + x0"
   ]
  },
  {
   "cell_type": "markdown",
   "id": "e2cd29ea-76ba-4c22-b121-560f8fbaf699",
   "metadata": {
    "tags": []
   },
   "source": [
    "### Fitovaci funkce"
   ]
  },
  {
   "cell_type": "code",
   "execution_count": 498,
   "id": "51043380-89d9-4df3-ae7a-227dac445cb7",
   "metadata": {},
   "outputs": [],
   "source": [
    "def undamped_frequency(t, amplitude, p0=None):\n",
    "    coef, cov = curve_fit(damped_oscilator, t,amplitude,p0 = p0)\n",
    "    A, delta, w, phi, x0 = coef\n",
    "    err = np.sqrt(np.diag(cov))\n",
    "    \n",
    "    return([A, delta, w, phi, x0], err)"
   ]
  },
  {
   "cell_type": "markdown",
   "id": "b23e7539-7e58-4db9-8d4a-a479cd6c1f4c",
   "metadata": {
    "tags": []
   },
   "source": [
    "### Fit undamped kmitu"
   ]
  },
  {
   "cell_type": "code",
   "execution_count": 499,
   "id": "90ec9ae2-236e-4bff-812a-53d2c9960875",
   "metadata": {},
   "outputs": [
    {
     "name": "stdout",
     "output_type": "stream",
     "text": [
      "[0.08851888 0.07226525 0.06723027 0.06149692 0.06112109] [0.00051518 0.0002898  0.00022369 0.00018612 0.00019237] [3.73098178 3.73489082 3.73545616 3.74024381 3.7395932 ] [0.00050585 0.00028133 0.00021563 0.00018044 0.00018472]\n",
      "A: [-0.9297352   0.9220149   0.92925768 -0.91563965  0.92241568]\n",
      "delta: [0.08851888 0.07226525 0.06723027 0.06149692 0.06112109]\n",
      "w: [3.73098178 3.73489082 3.73545616 3.74024381 3.7395932 ]\n",
      "phi: [-4.38234028 -7.4285134  -7.5586269  -4.19617918 -7.25834271]\n",
      "x0: [ 0.00205802 -0.02389973 -0.05398103 -0.08466559 -0.11967221]\n"
     ]
    }
   ],
   "source": [
    "parameters = []\n",
    "parameters_err = []\n",
    "\n",
    "for i in range(5):\n",
    "    #print(undamped_frequency(*load_data(\"data/undapmed_{}.txt\".format(i+1))))\n",
    "    parameters.append(undamped_frequency(*load_data(\"data/undapmed_{}.txt\".format(i+1)))[0])\n",
    "    parameters_err.append(undamped_frequency(*load_data(\"data/undapmed_{}.txt\".format(i+1)))[1])\n",
    "\n",
    "parameters = np.array(parameters)\n",
    "parameters_err = np.array(parameters_err)\n",
    "\n",
    "delta_array = parameters[:,1]\n",
    "w_array = parameters[:,2]\n",
    "\n",
    "delta_err_array = parameters_err[:,1]\n",
    "w_err_array = parameters_err[:,2]\n",
    "\n",
    "print(delta_array,delta_err_array,w_array,w_err_array)\n",
    "print(\"A: {}\".format(parameters[:,0]))\n",
    "print(\"delta: {}\".format(parameters[:,1]))\n",
    "print(\"w: {}\".format(parameters[:,2]))\n",
    "print(\"phi: {}\".format(parameters[:,3]))\n",
    "print(\"x0: {}\".format(parameters[:,4]))"
   ]
  },
  {
   "cell_type": "markdown",
   "id": "65ab693f-7a04-4d3f-9ad8-414507bb2137",
   "metadata": {
    "jp-MarkdownHeadingCollapsed": true,
    "tags": []
   },
   "source": [
    "### Fit tabulka"
   ]
  },
  {
   "cell_type": "code",
   "execution_count": 500,
   "id": "c09fd889-4b16-4c5d-8e6f-c20d70478a69",
   "metadata": {},
   "outputs": [
    {
     "name": "stdout",
     "output_type": "stream",
     "text": [
      "[[-9.2970e-01  8.8500e-02  3.7310e+00 -4.3823e+00  2.1000e-03]\n",
      " [ 9.2200e-01  7.2300e-02  3.7349e+00 -7.4285e+00 -2.3900e-02]\n",
      " [ 9.2930e-01  6.7200e-02  3.7355e+00 -7.5586e+00 -5.4000e-02]\n",
      " [-9.1560e-01  6.1500e-02  3.7402e+00 -4.1962e+00 -8.4700e-02]\n",
      " [ 9.2240e-01  6.1100e-02  3.7396e+00 -7.2583e+00 -1.1970e-01]]\n",
      "[[0.0022 0.0005 0.0005 0.0023 0.0006]\n",
      " [0.0013 0.0003 0.0003 0.0014 0.0004]\n",
      " [0.001  0.0002 0.0002 0.0011 0.0003]\n",
      " [0.0009 0.0002 0.0002 0.0009 0.0003]\n",
      " [0.0009 0.0002 0.0002 0.0009 0.0003]]\n"
     ]
    }
   ],
   "source": [
    "parameters_rounded = np.round(parameters,4)\n",
    "parameters_err_rounded = np.round(parameters_err,4)\n",
    "\n",
    "print(parameters_rounded)\n",
    "print(parameters_err_rounded)"
   ]
  },
  {
   "cell_type": "code",
   "execution_count": 510,
   "id": "5fe0d6f7-593c-46f6-89ff-3b7b5cbe8283",
   "metadata": {},
   "outputs": [
    {
     "name": "stdout",
     "output_type": "stream",
     "text": [
      "[[-9.2970e-01  2.2000e-03  8.8500e-02  5.0000e-04  3.7310e+00  5.0000e-04\n",
      "  -4.3823e+00  2.3000e-03  2.1000e-03  6.0000e-04]\n",
      " [ 9.2200e-01  1.3000e-03  7.2300e-02  3.0000e-04  3.7349e+00  3.0000e-04\n",
      "  -7.4285e+00  1.4000e-03 -2.3900e-02  4.0000e-04]\n",
      " [ 9.2930e-01  1.0000e-03  6.7200e-02  2.0000e-04  3.7355e+00  2.0000e-04\n",
      "  -7.5586e+00  1.1000e-03 -5.4000e-02  3.0000e-04]\n",
      " [-9.1560e-01  9.0000e-04  6.1500e-02  2.0000e-04  3.7402e+00  2.0000e-04\n",
      "  -4.1962e+00  9.0000e-04 -8.4700e-02  3.0000e-04]\n",
      " [ 9.2240e-01  9.0000e-04  6.1100e-02  2.0000e-04  3.7396e+00  2.0000e-04\n",
      "  -7.2583e+00  9.0000e-04 -1.1970e-01  3.0000e-04]]\n"
     ]
    }
   ],
   "source": [
    "table = []\n",
    "table.append(range(1,6))\n",
    "for i in range(5):\n",
    "    table.append(parameters_rounded[:,i])\n",
    "    table.append(parameters_err_rounded[:,i])\n",
    "\n",
    "print(T)\n",
    "T = np.array(table).T"
   ]
  },
  {
   "cell_type": "code",
   "execution_count": 511,
   "id": "c88e96e0-9296-4bc2-9d8b-f84cc8abff0f",
   "metadata": {},
   "outputs": [
    {
     "name": "stdout",
     "output_type": "stream",
     "text": [
      "\\begin{tabular}{rrrrrrrrrrr}\n",
      "\\toprule\n",
      " 1 & -0.9297 & 0.0022 & 0.0885 & 0.0005 & 3.731  & 0.0005 & -4.3823 & 0.0023 &  0.0021 & 0.0006 \\\\\n",
      " 2 &  0.922  & 0.0013 & 0.0723 & 0.0003 & 3.7349 & 0.0003 & -7.4285 & 0.0014 & -0.0239 & 0.0004 \\\\\n",
      " 3 &  0.9293 & 0.001  & 0.0672 & 0.0002 & 3.7355 & 0.0002 & -7.5586 & 0.0011 & -0.054  & 0.0003 \\\\\n",
      " 4 & -0.9156 & 0.0009 & 0.0615 & 0.0002 & 3.7402 & 0.0002 & -4.1962 & 0.0009 & -0.0847 & 0.0003 \\\\\n",
      " 5 &  0.9224 & 0.0009 & 0.0611 & 0.0002 & 3.7396 & 0.0002 & -7.2583 & 0.0009 & -0.1197 & 0.0003 \\\\\n",
      "\\bottomrule\n",
      "\\end{tabular}\n"
     ]
    }
   ],
   "source": [
    "print(tabulate(T, tablefmt=\"latex_booktabs\"))"
   ]
  },
  {
   "cell_type": "code",
   "execution_count": null,
   "id": "d66db138-2c5e-4ed4-96c2-24981bbef7af",
   "metadata": {},
   "outputs": [],
   "source": []
  },
  {
   "cell_type": "markdown",
   "id": "a582572c-d905-4a8d-9ea3-b23247a9fbdb",
   "metadata": {
    "jp-MarkdownHeadingCollapsed": true,
    "tags": []
   },
   "source": [
    "### Vypocet w0"
   ]
  },
  {
   "cell_type": "code",
   "execution_count": 210,
   "id": "b93c6d69-8f7e-445d-8cac-86428a076149",
   "metadata": {},
   "outputs": [
    {
     "name": "stdout",
     "output_type": "stream",
     "text": [
      "[3.732031701928121, 3.7355898783768766, 3.7360611093276836, 3.7407493387676176, 3.7400926598135884] [0.0005058572458033002, 0.0002813345534850958, 0.00021562838035978028, 0.000180438486124095, 0.000184726311431472]\n"
     ]
    }
   ],
   "source": [
    "w0_arr = []\n",
    "sw0_arr = []\n",
    "\n",
    "for w,d,sw,sd in zip(w_array,delta_array,w_err_array,delta_err_array):\n",
    "    w0_arr.append(w_to_w0(w,d))\n",
    "    sw0_arr.append(w0_err(w,d,sw,sd))\n",
    "    \n",
    "print(w0_arr,sw0_arr)"
   ]
  },
  {
   "cell_type": "code",
   "execution_count": 211,
   "id": "6ce798d7-867b-4cd4-98d1-946fe73d0df1",
   "metadata": {},
   "outputs": [
    {
     "name": "stdout",
     "output_type": "stream",
     "text": [
      "3.738512855290713 0.00010097965045532584\n"
     ]
    }
   ],
   "source": [
    "w0,sw0 = weighted_error(w0_arr,sw0_arr)\n",
    "print(w0,sw0)\n",
    "\n",
    "#3.729075854797502 0.001112329834640747"
   ]
  },
  {
   "cell_type": "code",
   "execution_count": 212,
   "id": "a731d3f6-82d9-4128-872c-5c30bd500b70",
   "metadata": {},
   "outputs": [
    {
     "name": "stdout",
     "output_type": "stream",
     "text": [
      "-3.9957661369638235 -4\n",
      "0.0001\n",
      "3.7385\n",
      "$(3.7385\\pm0.0001)$~s^{-1}\n"
     ]
    }
   ],
   "source": [
    "exp = np.log10(sw0)\n",
    "exp_floor = int(np.floor(exp))  # je potreba pretypovat vysledek na cele cislo\n",
    "print(exp, exp_floor)\n",
    "\n",
    "chyba = np.round(sw0, -exp_floor)  # zaporna hodnota udava pocet desetinnych mist\n",
    "print(chyba)\n",
    "\n",
    "hodnota = np.round(w0, -exp_floor)\n",
    "print(hodnota)\n",
    "\n",
    "jednotka = 's^{-1}'\n",
    "vysledek = '$({}\\pm{})$~{}'.format(hodnota, chyba, jednotka)  # funkce format vlozi promenne do sloznych zavorek {}\n",
    "print(vysledek)"
   ]
  },
  {
   "cell_type": "markdown",
   "id": "c4ad62e1-f28e-4827-9b9b-24271dea7e93",
   "metadata": {
    "jp-MarkdownHeadingCollapsed": true,
    "tags": []
   },
   "source": [
    "### Vypocet delta undamped"
   ]
  },
  {
   "cell_type": "code",
   "execution_count": 213,
   "id": "e506e6ca-c58f-476d-9bb5-3b1238b11ba7",
   "metadata": {},
   "outputs": [
    {
     "name": "stdout",
     "output_type": "stream",
     "text": [
      "0.06515004582991206 0.00010451142092033035\n"
     ]
    }
   ],
   "source": [
    "delta,sdelta = weighted_error(delta_array,delta_err_array)\n",
    "print(delta,sdelta)"
   ]
  },
  {
   "cell_type": "code",
   "execution_count": 214,
   "id": "de8b4aa0-046c-4e36-86e8-6500ba430521",
   "metadata": {},
   "outputs": [
    {
     "name": "stdout",
     "output_type": "stream",
     "text": [
      "-3.9808362476232313 -4\n",
      "0.0001\n",
      "0.0652\n",
      "$(0.0652\\pm0.0001)$~s^{-1}\n"
     ]
    }
   ],
   "source": [
    "exp = np.log10(sdelta)\n",
    "exp_floor = int(np.floor(exp))  # je potreba pretypovat vysledek na cele cislo\n",
    "print(exp, exp_floor)\n",
    "\n",
    "chyba = np.round(sdelta, -exp_floor)  # zaporna hodnota udava pocet desetinnych mist\n",
    "print(chyba)\n",
    "\n",
    "hodnota = np.round(delta, -exp_floor)\n",
    "print(hodnota)\n",
    "\n",
    "jednotka = 's^{-1}'\n",
    "vysledek = '$({}\\pm{})$~{}'.format(hodnota, chyba, jednotka)  # funkce format vlozi promenne do sloznych zavorek {}\n",
    "print(vysledek)"
   ]
  },
  {
   "cell_type": "code",
   "execution_count": null,
   "id": "646c4aeb-d65a-4140-850b-e6ac6d037369",
   "metadata": {},
   "outputs": [],
   "source": []
  },
  {
   "cell_type": "markdown",
   "id": "f7c8354b-a1c4-4a67-a85e-86ad1573c147",
   "metadata": {
    "jp-MarkdownHeadingCollapsed": true,
    "tags": []
   },
   "source": [
    "### Tabulka w0:"
   ]
  },
  {
   "cell_type": "code",
   "execution_count": 217,
   "id": "01443241-d5e1-404a-afd5-7eb72b8a3858",
   "metadata": {},
   "outputs": [
    {
     "name": "stdout",
     "output_type": "stream",
     "text": [
      "[3.732  3.7356 3.7361 3.7407 3.7401] [0.0005 0.0003 0.0002 0.0002 0.0002]\n"
     ]
    }
   ],
   "source": [
    "w0_rounded = np.round(w0_arr, 4)\n",
    "sw0_rounded = np.round(sw0_arr, 4)\n",
    "print(w0_rounded,sw0_rounded)\n",
    "\n",
    "T = np.array([w0_rounded,sw0_rounded]).T"
   ]
  },
  {
   "cell_type": "code",
   "execution_count": 218,
   "id": "8e02cc68-6db1-4f44-8270-d866ea1d3aa8",
   "metadata": {},
   "outputs": [
    {
     "name": "stdout",
     "output_type": "stream",
     "text": [
      "\\begin{tabular}{rr}\n",
      "\\toprule\n",
      " 3.732  & 0.0005 \\\\\n",
      " 3.7356 & 0.0003 \\\\\n",
      " 3.7361 & 0.0002 \\\\\n",
      " 3.7407 & 0.0002 \\\\\n",
      " 3.7401 & 0.0002 \\\\\n",
      "\\bottomrule\n",
      "\\end{tabular}\n"
     ]
    }
   ],
   "source": [
    "print(tabulate(T, tablefmt=\"latex_booktabs\"))"
   ]
  },
  {
   "cell_type": "markdown",
   "id": "799dbe0d-b756-4efb-ad2c-a4158f3ff309",
   "metadata": {
    "tags": []
   },
   "source": [
    "### Undamped plot"
   ]
  },
  {
   "cell_type": "code",
   "execution_count": 113,
   "id": "8fe13975-d489-4b71-968a-e14ee7089e9b",
   "metadata": {},
   "outputs": [],
   "source": [
    "def undamped_plot(file):\n",
    "    t, amplitude = load_data(file)\n",
    "    t_range = np.linspace(0,12,1000)\n",
    "\n",
    "    coef, _ = curve_fit(damped_oscilator, t,amplitude)\n",
    "    A, delta, w, phi, x0 = coef\n",
    "\n",
    "    plt.scatter(t,amplitude, s=10, marker = \"x\", color=\"b\")\n",
    "    plt.plot(t_range, damped_oscilator(t_range,A, delta, w, phi, x0), color=\"k\")\n"
   ]
  },
  {
   "cell_type": "code",
   "execution_count": 514,
   "id": "69c1e5be-1810-4f9f-8178-c369a426caba",
   "metadata": {},
   "outputs": [
    {
     "name": "stderr",
     "output_type": "stream",
     "text": [
      "C:\\Users\\stepa\\AppData\\Local\\Temp/ipykernel_4076/3047106874.py:21: UserWarning: Matplotlib is currently using pgf, which is a non-GUI backend, so cannot show the figure.\n",
      "  plt.show()\n"
     ]
    },
    {
     "data": {
      "image/png": "[encoded data removed]",
      "text/plain": [
       "<Figure size 576x360 with 1 Axes>"
      ]
     },
     "metadata": {
      "needs_background": "light"
     },
     "output_type": "display_data"
    }
   ],
   "source": [
    "t, amplitude = load_data(\"data/undapmed_1.txt\")\n",
    "t_range = np.linspace(0,12,1000)\n",
    "\n",
    "plt.figure(figsize = (8,5))\n",
    "\n",
    "coef, _ = curve_fit(damped_oscilator, t,amplitude)\n",
    "A, delta, w, phi, x0 = coef\n",
    "\n",
    "plt.scatter(t[::2],amplitude[::2], marker = 'x', color='black', label='Naměřené výchylky')\n",
    "\n",
    "plt.plot(t_range, damped_oscilator(t_range,A, delta, w, phi, x0), color=\"k\", linestyle='dashed', linewidth=1, label='Fit pro rovnici tlumeného oscilátoru')\n",
    "\n",
    "plt.legend(loc='lower right')\n",
    "\n",
    "#popisky os\n",
    "plt.ylabel(\"Výchylka kyvadla $ \\phi $ [rad]\", fontsize=12)\n",
    "plt.xlabel(\"Čas t [s]\", fontsize=12)\n",
    "\n",
    "\n",
    "plt.savefig('Undamped_fit_example.pdf')\n",
    "plt.show()"
   ]
  },
  {
   "cell_type": "code",
   "execution_count": 114,
   "id": "208565f7-335a-453f-b3bb-181d2b487729",
   "metadata": {},
   "outputs": [
    {
     "data": {
      "image/png": "[encoded data removed]",
      "text/plain": [
       "<Figure size 432x288 with 1 Axes>"
      ]
     },
     "metadata": {
      "needs_background": "light"
     },
     "output_type": "display_data"
    }
   ],
   "source": [
    "undamped_plot(\"data/undapmed_1.txt\")"
   ]
  },
  {
   "cell_type": "markdown",
   "id": "f035d5f0-9580-4647-9ec7-2fba6b35c09e",
   "metadata": {
    "tags": []
   },
   "source": [
    "### Vzorec pro chybu"
   ]
  },
  {
   "cell_type": "code",
   "execution_count": 173,
   "id": "79b4d2d4-057d-4a50-b9bd-a22cb88819cb",
   "metadata": {},
   "outputs": [
    {
     "data": {
      "text/latex": [
       "$\\displaystyle \\sqrt{\\frac{\\delta^{2} \\sigma_{\\delta}^{2} + \\omega^{2} \\sigma_{\\omega}^{2}}{\\delta^{2} + \\omega^{2}}}$"
      ],
      "text/plain": [
       "sqrt((\\delta**2*\\sigma_{\\delta}**2 + \\omega**2*\\sigma_{\\omega}**2)/(\\delta**2 + \\omega**2))"
      ]
     },
     "execution_count": 173,
     "metadata": {},
     "output_type": "execute_result"
    }
   ],
   "source": [
    "Sdelta = smp.symbols(r'\\sigma_{\\delta}')\n",
    "Somega = smp.symbols(r'\\sigma_{\\omega}')\n",
    "Somega0 = smp.symbols(r'\\sigma_{\\omega_0}')\n",
    "\n",
    "Delta = smp.symbols('\\delta')\n",
    "Omega = smp.symbols('\\omega')\n",
    "Omega0 = smp.symbols('\\omega_0}')\n",
    "\n",
    "Omega0 = smp.sqrt(Omega**2+Delta**2)\n",
    "\n",
    "### DERIVACE ####\n",
    "dOmega0dOmega = smp.diff(Omega0,Omega)\n",
    "dOmega0dDelta = smp.diff(Omega0,Delta)\n",
    "\n",
    "###### CHYBA w0 ########\n",
    "Somega0 = smp.sqrt(dOmega0dOmega**2*Somega**2 + dOmega0dDelta**2*Sdelta**2)\n",
    "Somega0 = smp.simplify(Somega0)\n",
    "\n",
    "####### w0 z Delta a w #######\n",
    "w_to_w0 = smp.lambdify([Omega,Delta], Omega0)\n",
    "####### W0 chyba #######\n",
    "w0_err = smp.lambdify([Omega,Delta,Somega,Sdelta],Somega0)\n",
    "\n",
    "Somega0 "
   ]
  },
  {
   "cell_type": "markdown",
   "id": "6b5ef97e-610d-4925-bc09-11ff2760a81b",
   "metadata": {
    "tags": []
   },
   "source": [
    "## **Ukol 3**"
   ]
  },
  {
   "cell_type": "code",
   "execution_count": null,
   "id": "5e0ee4f4-1502-48a7-b065-88a39de0a0d7",
   "metadata": {},
   "outputs": [],
   "source": [
    "Amperage = [\"0.37\",\"0.8\",\"1.20\",\"1.61\",\"2.00\"]\n",
    "A = [0.37,0.8,1.2,1.6,2]\n",
    "data = {}"
   ]
  },
  {
   "cell_type": "markdown",
   "id": "b91d13b9-0cd9-46de-9d8b-45dfa499d0c2",
   "metadata": {
    "jp-MarkdownHeadingCollapsed": true,
    "tags": []
   },
   "source": [
    "### Fit damped kmitu"
   ]
  },
  {
   "cell_type": "code",
   "execution_count": 517,
   "id": "763d0681-d9a1-4b79-a5ae-9b9971e5c0bd",
   "metadata": {},
   "outputs": [],
   "source": [
    "\n",
    "for a in Amperage:\n",
    "    \n",
    "    parameters = []\n",
    "    parameters_err = []\n",
    "    \n",
    "    for i in range(5):\n",
    "        \n",
    "        parameters.append(undamped_frequency(*load_data(\"data/damped_{}V_{}.txt\".format(a,i+1)))[0])\n",
    "        parameters_err.append(undamped_frequency(*load_data(\"data/damped_{}V_{}.txt\".format(a,i+1)))[1])\n",
    "        \n",
    "        \n",
    "    parameters = np.array(parameters)\n",
    "    parameters_err = np.array(parameters_err)\n",
    "    \n",
    "    #print(parameters)\n",
    "        \n",
    "    delta_array = parameters[:,1]\n",
    "    delta_err_array = parameters_err[:,1]\n",
    "        \n",
    "        \n",
    "    data[a] = delta_array,delta_err_array\n",
    "    "
   ]
  },
  {
   "cell_type": "markdown",
   "id": "0f0323a8-130c-4de4-8d58-c011e9176d3e",
   "metadata": {
    "tags": []
   },
   "source": [
    "### Prumer a chyba tlumeni"
   ]
  },
  {
   "cell_type": "code",
   "execution_count": 518,
   "id": "60fd8367-31ca-40cb-a768-b7f1a8c85ca7",
   "metadata": {},
   "outputs": [
    {
     "name": "stdout",
     "output_type": "stream",
     "text": [
      "[0.0812376631568713, 0.16199877739978075, 0.23288546191867793, 0.2907305782574725, 0.39694376554724725]\n",
      "[0.00017909851048432298, 0.0007409083660568981, 0.0009742992687876936, 0.0009140263975767605, 0.0011431494686968144]\n"
     ]
    }
   ],
   "source": [
    "delta_final = []\n",
    "delta_errorbars = []\n",
    "\n",
    "for a in Amperage:\n",
    "    delta, delta_err = weighted_error(data[a][0],data[a][1])\n",
    "    delta_final.append(delta)\n",
    "    delta_errorbars.append(delta_err)\n",
    "\n",
    "print(delta_final)\n",
    "print(delta_errorbars)"
   ]
  },
  {
   "cell_type": "markdown",
   "id": "e1e2a2e2-6789-4fc3-b2ec-a6fee9c8cf45",
   "metadata": {
    "tags": []
   },
   "source": [
    "### Tabulka vyslednych delt"
   ]
  },
  {
   "cell_type": "code",
   "execution_count": 519,
   "id": "51a563d7-6334-46c8-8ef7-792e2338c7f9",
   "metadata": {},
   "outputs": [
    {
     "name": "stdout",
     "output_type": "stream",
     "text": [
      "[0.0812 0.162  0.2329 0.2907 0.3969] [0.0002 0.0007 0.001  0.0009 0.0011]\n",
      "\\begin{tabular}{rrr}\n",
      "\\toprule\n",
      " 0.37 & 0.0812 & 0.0002 \\\\\n",
      " 0.8  & 0.162  & 0.0007 \\\\\n",
      " 1.2  & 0.2329 & 0.001  \\\\\n",
      " 1.6  & 0.2907 & 0.0009 \\\\\n",
      " 2    & 0.3969 & 0.0011 \\\\\n",
      "\\bottomrule\n",
      "\\end{tabular}\n"
     ]
    }
   ],
   "source": [
    "delta_rounded = np.round(delta_final, 4)\n",
    "sdelta_rounded = np.round(delta_errorbars, 4)\n",
    "print(delta_rounded,sdelta_rounded)\n",
    "\n",
    "T = np.array([A,delta_rounded,sdelta_rounded]).T\n",
    "\n",
    "print(tabulate(T, tablefmt=\"latex_booktabs\"))"
   ]
  },
  {
   "cell_type": "markdown",
   "id": "a85d5c2c-2999-4a0d-b923-843004495ae5",
   "metadata": {
    "tags": []
   },
   "source": [
    "### Graf"
   ]
  },
  {
   "cell_type": "code",
   "execution_count": 520,
   "id": "cbd0f861-edab-4ad1-bac7-fdcf3a65d44c",
   "metadata": {},
   "outputs": [
    {
     "data": {
      "text/plain": [
       "array([0.01, 0.01, 0.01, 0.01, 0.01])"
      ]
     },
     "execution_count": 520,
     "metadata": {},
     "output_type": "execute_result"
    }
   ],
   "source": [
    "A = [0.37,0.8,1.2,1.6,2]\n",
    "A_err = np.empty(5, dtype = float)\n",
    "A_err.fill(0.01)\n",
    "A_err"
   ]
  },
  {
   "cell_type": "code",
   "execution_count": 521,
   "id": "bb7564b9-8f7f-48a9-b14a-c7c979b2748e",
   "metadata": {},
   "outputs": [
    {
     "name": "stdout",
     "output_type": "stream",
     "text": [
      "a: 0.0871004236906153 +- 0.008543137359661468\n",
      "b: 0.0718048849651078 +- 0.006916268436845406\n"
     ]
    }
   ],
   "source": [
    "def fit_funkce(x,a,b): ##definice linearni funkce, kterou se to pokusi fitnout, a je parametr, ktery bude menen pri fitovani\n",
    "    return a*x**2 + b\n",
    "\n",
    "params, cov = curve_fit(fit_funkce, A, delta_final,sigma=delta_errorbars) #provede fit a najde optimallni hodnotu koeficientu a\n",
    "a,b = params\n",
    "fit_error = np.sqrt(np.diag(cov))\n",
    "sa,sb = fit_error\n",
    "\n",
    "print(\"a: {} +- {}\".format(a,sa))\n",
    "print(\"b: {} +- {}\".format(b,sb))\n",
    "\n",
    "#a: [0.19348243] +- 0.004134746511341016\n",
    "#a: [0.12687993] +- 0.04018495010250164\n",
    "\n",
    "#a: 0.0871004236906153 +- 0.008543137359661468\n",
    "#b: 0.0718048849651078 +- 0.006916268436845406\n"
   ]
  },
  {
   "cell_type": "code",
   "execution_count": 522,
   "id": "61afe6f8-a82e-476d-8113-7888193b23e5",
   "metadata": {},
   "outputs": [
    {
     "name": "stdout",
     "output_type": "stream",
     "text": [
      "0.009\n",
      "0.087\n",
      "$(0.087\\pm0.009)$~s^{-1}A^{-2}\n",
      "0.007\n",
      "0.072\n",
      "$(0.072\\pm0.007)$~$s^{-1}$\n"
     ]
    }
   ],
   "source": [
    "chyba = np.round(sa, 3)  # zaporna hodnota udava pocet desetinnych mist\n",
    "print(chyba)\n",
    "\n",
    "hodnota = np.round(a, 3)\n",
    "print(hodnota)\n",
    "\n",
    "jednotka = 's^{-1}A^{-2}'\n",
    "vysledek = '$({}\\pm{})$~{}'.format(hodnota, chyba, jednotka)  # funkce format vlozi promenne do sloznych zavorek {}\n",
    "print(vysledek)\n",
    "\n",
    "chyba = np.round(sb, 3)  # zaporna hodnota udava pocet desetinnych mist\n",
    "print(chyba)\n",
    "\n",
    "hodnota = np.round(b, 3)\n",
    "print(hodnota)\n",
    "\n",
    "jednotka = '$s^{-1}$'\n",
    "vysledek = '$({}\\pm{})$~{}'.format(hodnota, chyba, jednotka)  # funkce format vlozi promenne do sloznych zavorek {}\n",
    "print(vysledek)"
   ]
  },
  {
   "cell_type": "code",
   "execution_count": 538,
   "id": "2c6788e8-6063-4c43-b037-e8740caf627c",
   "metadata": {},
   "outputs": [
    {
     "name": "stderr",
     "output_type": "stream",
     "text": [
      "C:\\Users\\stepa\\AppData\\Local\\Temp/ipykernel_4076/3395658652.py:18: UserWarning: Matplotlib is currently using pgf, which is a non-GUI backend, so cannot show the figure.\n",
      "  plt.show()\n"
     ]
    },
    {
     "data": {
      "image/png": "[encoded data removed]",
      "text/plain": [
       "<Figure size 576x360 with 1 Axes>"
      ]
     },
     "metadata": {
      "needs_background": "light"
     },
     "output_type": "display_data"
    }
   ],
   "source": [
    "x_funkce = np.linspace(0,2,100)\n",
    "\n",
    "plt.figure(figsize = (8,5))\n",
    "\n",
    "plt.plot(A, delta_final, 'x', color='black', label='Naměřené hodnoty $\\delta$')\n",
    "plt.errorbar(A, delta_final, yerr=delta_errorbars, fmt='none')\n",
    "\n",
    "plt.plot(x_funkce, fit_funkce(x_funkce,a,b), color=\"k\", linestyle='dashed', linewidth=1, label='Extrapolace závislosti')\n",
    "\n",
    "plt.legend(loc='lower right')\n",
    "\n",
    "#popisky os\n",
    "plt.ylabel(\"Koeficient útlumu $\\delta$ [$s^{-1}$]\", fontsize=12)\n",
    "plt.xlabel(\"Tlumící proud $I$ [A]\", fontsize=12)\n",
    "\n",
    "\n",
    "plt.savefig('Current_delta.pdf')\n",
    "plt.show()"
   ]
  },
  {
   "cell_type": "code",
   "execution_count": 540,
   "id": "df1c6606-c233-49db-b566-50d9eaba836c",
   "metadata": {},
   "outputs": [
    {
     "name": "stderr",
     "output_type": "stream",
     "text": [
      "C:\\Users\\stepa\\AppData\\Local\\Temp/ipykernel_4076/1269560105.py:25: UserWarning: Matplotlib is currently using pgf, which is a non-GUI backend, so cannot show the figure.\n",
      "  plt.show()\n"
     ]
    },
    {
     "data": {
      "image/png": "[encoded data removed]",
      "text/plain": [
       "<Figure size 288x180 with 1 Axes>"
      ]
     },
     "metadata": {
      "needs_background": "light"
     },
     "output_type": "display_data"
    }
   ],
   "source": [
    "x_funkce = np.linspace(0,7,100)\n",
    "\n",
    "#np.full(shape=100, fill_value=w0)\n",
    "\n",
    "plt.figure(figsize = (4,2.5))\n",
    "\n",
    "plt.plot(A, delta_final, 'x', color='black', label='Naměřené hodnoty $\\delta$')\n",
    "plt.errorbar(A, delta_final, yerr=delta_errorbars, fmt='none')\n",
    "\n",
    "plt.plot(x_funkce, fit_funkce(x_funkce,a,b), color=\"k\", linestyle='dashed', linewidth=1, label='Extrapolace závislosti')\n",
    "\n",
    "plt.scatter(np.sqrt((w0 - b)/a),w0,marker='+', s=75 ,color = 'k', label = 'Proud $\\delta_{krit}$ pro kritický útlum')\n",
    "\n",
    "#plt.plot( np.full(shape=100, fill_value=np.sqrt((w0 - b)/a)) ,np.linspace(0,4.5,100), linestyle = 'dotted',color = 'k', linewidth=0.5)\n",
    "#plt.plot(x_funkce,np.full(shape=100, fill_value=w0), linestyle = 'dotted',color = 'k', linewidth=0.5)\n",
    "\n",
    "plt.legend(loc='upper left')\n",
    "\n",
    "#popisky os\n",
    "plt.ylabel(\"Koeficient útlumu $\\delta$ [$s^{-1}$]\", fontsize=12)\n",
    "plt.xlabel(\"Tlumící proud $I$ [A]\", fontsize=12)\n",
    "\n",
    "\n",
    "plt.savefig('Current_delta_krit.pdf')\n",
    "plt.show()"
   ]
  },
  {
   "cell_type": "code",
   "execution_count": 363,
   "id": "5796f535-38dd-4ef4-81a4-8df4fa545172",
   "metadata": {},
   "outputs": [
    {
     "name": "stdout",
     "output_type": "stream",
     "text": [
      "0.08716939970413233\n",
      "0.2474341792948645\n"
     ]
    }
   ],
   "source": [
    "print(fit_funkce(0.42,a,b))\n",
    "print(fit_funkce(1.42,a,b))"
   ]
  },
  {
   "cell_type": "markdown",
   "id": "0e07d1c6-e3b5-4de2-9bc0-397380018c0d",
   "metadata": {
    "tags": []
   },
   "source": [
    "### Urceni tlumiciho proudu"
   ]
  },
  {
   "cell_type": "code",
   "execution_count": 282,
   "id": "5a6981d4-b21b-4030-8c18-4ea7ff68d16b",
   "metadata": {},
   "outputs": [
    {
     "data": {
      "text/plain": [
       "6.488256754037799"
      ]
     },
     "execution_count": 282,
     "metadata": {},
     "output_type": "execute_result"
    }
   ],
   "source": [
    "Akrit = np.sqrt((w0 - b)/a)\n",
    "Akrit"
   ]
  },
  {
   "cell_type": "code",
   "execution_count": 283,
   "id": "2b1ad577-6e54-49c6-9e60-68848a865efb",
   "metadata": {},
   "outputs": [
    {
     "data": {
      "text/plain": [
       "0.36830800311248246"
      ]
     },
     "execution_count": 283,
     "metadata": {},
     "output_type": "execute_result"
    }
   ],
   "source": [
    "sAkrit = (np.sqrt(sw0**2+sb**2+(sa*(w0-b))**2))/a\n",
    "sAkrit"
   ]
  },
  {
   "cell_type": "code",
   "execution_count": 284,
   "id": "cc1f9520-a9ae-4f59-bb57-b47fc4193e22",
   "metadata": {},
   "outputs": [
    {
     "name": "stdout",
     "output_type": "stream",
     "text": [
      "-0.43378884408338086 -1\n",
      "0.4\n",
      "6.5\n",
      "$(6.5\\pm0.4)$~A\n"
     ]
    }
   ],
   "source": [
    "exp = np.log10(sAkrit)\n",
    "exp_floor = int(np.floor(exp))  # je potreba pretypovat vysledek na cele cislo\n",
    "print(exp, exp_floor)\n",
    "\n",
    "chyba = np.round(sAkrit, -exp_floor)  # zaporna hodnota udava pocet desetinnych mist\n",
    "print(chyba)\n",
    "\n",
    "hodnota = np.round(Akrit, -exp_floor)\n",
    "print(hodnota)\n",
    "\n",
    "jednotka = 'A'\n",
    "vysledek = '$({}\\pm{})$~{}'.format(hodnota, chyba, jednotka)  # funkce format vlozi promenne do sloznych zavorek {}\n",
    "print(vysledek)"
   ]
  },
  {
   "cell_type": "code",
   "execution_count": null,
   "id": "d37ef8f5-09c6-4123-9920-4fb714f2a257",
   "metadata": {},
   "outputs": [],
   "source": []
  },
  {
   "cell_type": "markdown",
   "id": "1d7e293c-87c4-4ba4-9e3b-76da04ff2062",
   "metadata": {
    "tags": []
   },
   "source": [
    "## **Ukol 5**"
   ]
  },
  {
   "cell_type": "code",
   "execution_count": 541,
   "id": "d188158c-53c2-4d10-9a4b-7a95aeb12146",
   "metadata": {},
   "outputs": [
    {
     "name": "stdout",
     "output_type": "stream",
     "text": [
      "[2.01, 4.02, 6.01, 8, 10.07, 12.06, 14.07, 15.98, 17.84]\n",
      "[6.6, 16.1, 24.3, 33.1, 42.5, 51.3, 60.2, 69.1, 78.4]\n"
     ]
    }
   ],
   "source": [
    "V = [2.01,4.02,6.01, 8, 10.07,12.06,14.07,15.98,17.84]\n",
    "RPM = [6.6,16.1,24.3,33.1,42.5,51.3,60.2,69.1,78.4]\n",
    "print(V)\n",
    "print(RPM)"
   ]
  },
  {
   "cell_type": "code",
   "execution_count": 542,
   "id": "f7222b5e-e8c4-410d-8c1e-fd7ca2d2060a",
   "metadata": {},
   "outputs": [
    {
     "name": "stdout",
     "output_type": "stream",
     "text": [
      "\\begin{tabular}{rr}\n",
      "\\toprule\n",
      "  2.01 &  6.6 \\\\\n",
      "  4.02 & 16.1 \\\\\n",
      "  6.01 & 24.3 \\\\\n",
      "  8    & 33.1 \\\\\n",
      " 10.07 & 42.5 \\\\\n",
      " 12.06 & 51.3 \\\\\n",
      " 14.07 & 60.2 \\\\\n",
      " 15.98 & 69.1 \\\\\n",
      " 17.84 & 78.4 \\\\\n",
      "\\bottomrule\n",
      "\\end{tabular}\n"
     ]
    }
   ],
   "source": [
    "T = np.array([V,RPM]).T\n",
    "\n",
    "print(tabulate(T, tablefmt=\"latex_booktabs\"))"
   ]
  },
  {
   "cell_type": "code",
   "execution_count": 543,
   "id": "d2bf07eb-19ee-4681-a488-9c189337da60",
   "metadata": {},
   "outputs": [
    {
     "name": "stdout",
     "output_type": "stream",
     "text": [
      "4.490780426273802 -2.537742820735353\n",
      "0.02993058268990041 0.33667432558795213\n"
     ]
    }
   ],
   "source": [
    "def RPM_func(voltage,a,b):\n",
    "    return a*voltage + b\n",
    "\n",
    "coef, cov = curve_fit(RPM_func, V, RPM)\n",
    "\n",
    "fit_error = np.sqrt(np.diag(cov))\n",
    "\n",
    "a,b = coef\n",
    "sa,sb = fit_error\n",
    "\n",
    "print(a,b)\n",
    "print(sa,sb)"
   ]
  },
  {
   "cell_type": "code",
   "execution_count": 544,
   "id": "2b5ea4dd-c332-4477-a79c-c8e7a8587cda",
   "metadata": {},
   "outputs": [
    {
     "name": "stdout",
     "output_type": "stream",
     "text": [
      "0.03\n",
      "4.491\n",
      "$(4.491\\pm0.03)$~$ot \\cdot V^{-1} \\cdot min^{-1}$\n",
      "0.3\n",
      "-2.5\n",
      "$(-2.5\\pm0.3)$~ot/min\n"
     ]
    }
   ],
   "source": [
    "chyba = np.round(sa, 3)  # zaporna hodnota udava pocet desetinnych mist\n",
    "print(chyba)\n",
    "\n",
    "hodnota = np.round(a, 3)\n",
    "print(hodnota)\n",
    "\n",
    "jednotka = '$ot \\cdot V^{-1} \\cdot min^{-1}$'\n",
    "vysledek = '$({}\\pm{})$~{}'.format(hodnota, chyba, jednotka)  # funkce format vlozi promenne do sloznych zavorek {}\n",
    "print(vysledek)\n",
    "\n",
    "chyba = np.round(sb, 1)  # zaporna hodnota udava pocet desetinnych mist\n",
    "print(chyba)\n",
    "\n",
    "hodnota = np.round(b, 1)\n",
    "print(hodnota)\n",
    "\n",
    "jednotka = 'ot/min'\n",
    "vysledek = '$({}\\pm{})$~{}'.format(hodnota, chyba, jednotka)  # funkce format vlozi promenne do sloznych zavorek {}\n",
    "print(vysledek)"
   ]
  },
  {
   "cell_type": "code",
   "execution_count": 545,
   "id": "66a5b532-f208-4abb-826a-8cdca4596a71",
   "metadata": {},
   "outputs": [
    {
     "name": "stderr",
     "output_type": "stream",
     "text": [
      "C:\\Users\\stepa\\AppData\\Local\\Temp/ipykernel_4076/28143007.py:17: UserWarning: Matplotlib is currently using pgf, which is a non-GUI backend, so cannot show the figure.\n",
      "  plt.show()\n"
     ]
    },
    {
     "data": {
      "image/png": "[encoded data removed]",
      "text/plain": [
       "<Figure size 576x360 with 1 Axes>"
      ]
     },
     "metadata": {
      "needs_background": "light"
     },
     "output_type": "display_data"
    }
   ],
   "source": [
    "x_range = np.linspace(0,20,100)\n",
    "\n",
    "plt.figure(figsize = (8,5))\n",
    "\n",
    "plt.scatter(V, RPM, marker = 'x', color='black', label='Naměřené hodnoty otáček')\n",
    "\n",
    "plt.plot(x_range, RPM_func(x_range,a,b), color=\"k\", linestyle='dashed', linewidth=1, label='Kalibrační křivka - fit')\n",
    "\n",
    "plt.legend(loc='lower right')\n",
    "\n",
    "#popisky os\n",
    "plt.ylabel(\"Otáčky motoru $v$ [ot $\\cdot$ V $^{-1} \\cdot$ min $^{-1}$]\", fontsize=12)\n",
    "plt.xlabel(\"Napětí $U$ [V]\", fontsize=12)\n",
    "\n",
    "\n",
    "plt.savefig('Calibration_curve.pdf')\n",
    "plt.show()"
   ]
  },
  {
   "cell_type": "markdown",
   "id": "c5b00fb6-e7de-40a3-9d39-a77bb5e84f20",
   "metadata": {
    "tags": []
   },
   "source": [
    "## **Ukol 6**"
   ]
  },
  {
   "cell_type": "code",
   "execution_count": 428,
   "id": "67d12e5a-fff4-4f27-8ded-5f678748d32c",
   "metadata": {},
   "outputs": [],
   "source": [
    "def rpm_to_omega(x):\n",
    "    return 2*np.pi*x/60\n"
   ]
  },
  {
   "cell_type": "code",
   "execution_count": 429,
   "id": "7674b1c1-2c40-408e-823b-3c81e89cf858",
   "metadata": {},
   "outputs": [],
   "source": [
    "def forced_funkce(freq,d,omega,B):\n",
    "    return B/np.sqrt(4*(d**2)*(freq**2)+ (omega**2-freq**2)**2)\n",
    "\n",
    "def forced_funkce1(freq,omega,B):\n",
    "    return B/np.sqrt(4*(0.06515004582991206**2)*(freq**2)+ (omega**2-freq**2)**2)\n",
    "\n",
    "def forced_funkce2(freq,omega,B):\n",
    "    return B/np.sqrt(4*(0.08716939970413233**2)*(freq**2)+ (omega**2-freq**2)**2)\n",
    "\n",
    "def forced_funkce3(freq,omega,B):\n",
    "    return B/np.sqrt(4*(0.2474341792948645**2)*(freq**2)+ (omega**2-freq**2)**2)"
   ]
  },
  {
   "cell_type": "markdown",
   "id": "f254524e-31f1-48ba-acad-f19787024665",
   "metadata": {
    "tags": []
   },
   "source": [
    "### Bez útlumu"
   ]
  },
  {
   "cell_type": "code",
   "execution_count": 456,
   "id": "2570851f-0731-47cf-9280-eb339bcaa372",
   "metadata": {},
   "outputs": [],
   "source": [
    "#V1 = np.array([4.42,5.20,5.67,6.57,7.22,7.66,7.89,8.01,8.19,8.33,8.55,8.84,9.19,9.45,10.18,10.56]) ##u 8.8 nepresne, protoze kyvadlo nemuze kmitad dal kvuli zarazce\n",
    "#amplitude1 = np.array([0.187,0.251,0.284,0.335,0.419,0.595,0.737,0.847,1.199,1.817,2.683,2.512,2.408, 3.043,2.44,2.256])\n",
    "V1 =         np.array([4.42,5.20,5.67,6.57,7.22,7.66,7.89,8.01,8.19,8.55]) ##u 8.8 nepresne, protoze kyvadlo nemuze kmitad dal kvuli zarazce\n",
    "amplitude1 = np.array([0.187,0.251,0.284,0.335,0.419,0.595,0.737,0.847,1.199,2.683])\n",
    "\n",
    "frequency1 = rpm_to_omega(RPM_func(V1,a,b))\n",
    "frequency1_normalised = frequency1/w0"
   ]
  },
  {
   "cell_type": "code",
   "execution_count": 457,
   "id": "5640be5d-68e7-4d2c-9824-514ff3cabcad",
   "metadata": {},
   "outputs": [
    {
     "name": "stdout",
     "output_type": "stream",
     "text": [
      "\\begin{tabular}{rrr}\n",
      "\\toprule\n",
      " 4.42 & 1.81 & 0.187 \\\\\n",
      " 5.2  & 2.18 & 0.251 \\\\\n",
      " 5.67 & 2.4  & 0.284 \\\\\n",
      " 6.57 & 2.82 & 0.335 \\\\\n",
      " 7.22 & 3.13 & 0.419 \\\\\n",
      " 7.66 & 3.34 & 0.595 \\\\\n",
      " 7.89 & 3.44 & 0.737 \\\\\n",
      " 8.01 & 3.5  & 0.847 \\\\\n",
      " 8.19 & 3.59 & 1.199 \\\\\n",
      " 8.55 & 3.76 & 2.683 \\\\\n",
      "\\bottomrule\n",
      "\\end{tabular}\n"
     ]
    }
   ],
   "source": [
    "T = np.array([V1,np.round(frequency1,2),amplitude1]).T\n",
    "print(tabulate(T, tablefmt=\"latex_booktabs\"))"
   ]
  },
  {
   "cell_type": "code",
   "execution_count": 458,
   "id": "85480e40-52cb-4859-8e4e-105230ebc482",
   "metadata": {},
   "outputs": [
    {
     "name": "stdout",
     "output_type": "stream",
     "text": [
      "0.08461605240286564 3.814867633819167 2.093908384042147\n",
      "0.00929110029823805 0.022987008832927945 0.13614884802302352\n"
     ]
    }
   ],
   "source": [
    "coef, cov = curve_fit(forced_funkce, frequency1, amplitude1,p0=[0.065,3.7385,4])\n",
    "fit_error = np.sqrt(np.diag(cov))\n",
    "\n",
    "d1,omega1,B1 = coef\n",
    "sd1,somega1,sB1 = fit_error\n",
    "\n",
    "print(d1,omega1,B1)\n",
    "print(sd1,somega1,sB1)\n",
    "#-0.2724697785967196 4.303232757923573 7.953860764908469\n",
    "#3.8304213602270107 2.3722988741289313\n",
    "#4.312121468716889 7.685201401485017"
   ]
  },
  {
   "cell_type": "markdown",
   "id": "a924075c-196a-492e-8504-ba5ac005f2a2",
   "metadata": {
    "tags": []
   },
   "source": [
    "### Slabý útlum 0.42A"
   ]
  },
  {
   "cell_type": "code",
   "execution_count": 392,
   "id": "c7b44be1-88aa-49b2-9780-1fbff4488162",
   "metadata": {},
   "outputs": [],
   "source": [
    "V2 = np.array([11.62,10.6,9.6,8.75,8.19,7.95,7.43,7.04,6.04] ) ##u 8.8 nepresne, protoze kyvadlo nemuze kmitad dal kvuli zarazce\n",
    "amplitude2 = np.array([0.126,0.163,0.270,1.067,1.544,0.982,0.592,0.402,0.311])\n",
    "frequency2 = rpm_to_omega(RPM_func(V2,a,b))\n",
    "frequency2_normalised = frequency2/w0"
   ]
  },
  {
   "cell_type": "code",
   "execution_count": 393,
   "id": "07eb7aab-56b4-42b5-b008-65fab40539c7",
   "metadata": {},
   "outputs": [
    {
     "name": "stdout",
     "output_type": "stream",
     "text": [
      "\\begin{tabular}{rrr}\n",
      "\\toprule\n",
      " 11.62 & 5.2  & 0.126 \\\\\n",
      " 10.6  & 4.72 & 0.163 \\\\\n",
      "  9.6  & 4.25 & 0.27  \\\\\n",
      "  8.75 & 3.85 & 1.067 \\\\\n",
      "  8.19 & 3.59 & 1.544 \\\\\n",
      "  7.95 & 3.47 & 0.982 \\\\\n",
      "  7.43 & 3.23 & 0.592 \\\\\n",
      "  7.04 & 3.04 & 0.402 \\\\\n",
      "  6.04 & 2.57 & 0.311 \\\\\n",
      "\\bottomrule\n",
      "\\end{tabular}\n"
     ]
    }
   ],
   "source": [
    "T = np.array([V2,np.round(frequency2,2),amplitude2]).T\n",
    "print(tabulate(T, tablefmt=\"latex_booktabs\"))"
   ]
  },
  {
   "cell_type": "code",
   "execution_count": 459,
   "id": "320cf8f2-a5db-4e75-a71f-8aa9c754ee01",
   "metadata": {},
   "outputs": [
    {
     "name": "stdout",
     "output_type": "stream",
     "text": [
      "0.12393287607705254 3.6757341529385594 1.7013656381107656\n",
      "0.0150632785524684 0.008662225912303222 0.09108604981322449\n"
     ]
    }
   ],
   "source": [
    "coef, cov = curve_fit(forced_funkce, frequency2, amplitude2,p0=[0.0871,3.7385,1.2])\n",
    "fit_error = np.sqrt(np.diag(cov))\n",
    "\n",
    "d2,omega2,B2 = coef\n",
    "sd2,somega2,sB2 = fit_error\n",
    "\n",
    "print(d2,omega2,B2)\n",
    "print(sd2,somega2,sB2)\n",
    "\n",
    "#0.12393288937977351 3.675734146177971 1.7013656946340239\n",
    "#3.6854552383256842 1.5304239595614322"
   ]
  },
  {
   "cell_type": "markdown",
   "id": "1effb6e8-9aab-4a36-a849-c675b3acf68b",
   "metadata": {
    "tags": []
   },
   "source": [
    "### Silný útlum 1.42A"
   ]
  },
  {
   "cell_type": "code",
   "execution_count": 395,
   "id": "78b43556-76b6-4669-b549-8b794163f2a3",
   "metadata": {},
   "outputs": [],
   "source": [
    "V3 = np.array([6.3,7.24,7.54,7.87,8.12,8.53,8.93,9.47,10.18,11.36,12.30]) ##u 8.8 nepresne, protoze kyvadlo nemuze kmitad dal kvuli zarazce\n",
    "amplitude3 = np.array([0.115,0.207,0.3,0.380,0.551,0.62,0.434,0.256,0.201,0.129,0.104])\n",
    "frequency3 = rpm_to_omega(RPM_func(V3,a,b))\n",
    "frequency3_normalised = frequency3/w0"
   ]
  },
  {
   "cell_type": "code",
   "execution_count": 396,
   "id": "018db3b2-9d7f-4444-8068-aa071124656b",
   "metadata": {},
   "outputs": [
    {
     "name": "stdout",
     "output_type": "stream",
     "text": [
      "\\begin{tabular}{rrr}\n",
      "\\toprule\n",
      "  6.3  & 2.7  & 0.115 \\\\\n",
      "  7.24 & 3.14 & 0.207 \\\\\n",
      "  7.54 & 3.28 & 0.3   \\\\\n",
      "  7.87 & 3.44 & 0.38  \\\\\n",
      "  8.12 & 3.55 & 0.551 \\\\\n",
      "  8.53 & 3.75 & 0.62  \\\\\n",
      "  8.93 & 3.93 & 0.434 \\\\\n",
      "  9.47 & 4.19 & 0.256 \\\\\n",
      " 10.18 & 4.52 & 0.201 \\\\\n",
      " 11.36 & 5.08 & 0.129 \\\\\n",
      " 12.3  & 5.52 & 0.104 \\\\\n",
      "\\bottomrule\n",
      "\\end{tabular}\n"
     ]
    }
   ],
   "source": [
    "T = np.array([V3,np.round(frequency3,2),amplitude3]).T\n",
    "print(tabulate(T, tablefmt=\"latex_booktabs\"))"
   ]
  },
  {
   "cell_type": "code",
   "execution_count": 460,
   "id": "a3142a2b-ca1d-4d8b-9a5e-bce605a0ab12",
   "metadata": {},
   "outputs": [
    {
     "name": "stdout",
     "output_type": "stream",
     "text": [
      "0.21843226667557006 3.727226103275367 1.0335796328136233\n",
      "0.023197918506624615 0.01970941048765986 0.07512010459839041\n"
     ]
    }
   ],
   "source": [
    "coef, cov = curve_fit(forced_funkce, frequency3, amplitude3,p0=[0.247,3.7385,1.1])\n",
    "fit_error = np.sqrt(np.diag(cov))\n",
    "\n",
    "d3,omega3,B3 = coef\n",
    "sd3,somega3,sB3 = fit_error\n",
    "\n",
    "print(d3,omega3,B3)\n",
    "print(sd3,somega3,sB3)\n",
    "#0.21843217808197712 3.727226157910776 1.0335794150537838\n",
    "#3.736075837659399 1.1160277681171153"
   ]
  },
  {
   "cell_type": "markdown",
   "id": "34179538-39c5-4bc7-8124-a6bcd7e5caa3",
   "metadata": {
    "tags": []
   },
   "source": [
    "### Graf"
   ]
  },
  {
   "cell_type": "code",
   "execution_count": 551,
   "id": "2144cbf6-3e2f-4580-bf10-b442d821d5b5",
   "metadata": {},
   "outputs": [
    {
     "name": "stderr",
     "output_type": "stream",
     "text": [
      "C:\\Users\\stepa\\AppData\\Local\\Temp/ipykernel_4076/3963019883.py:21: UserWarning: Matplotlib is currently using pgf, which is a non-GUI backend, so cannot show the figure.\n",
      "  plt.show()\n"
     ]
    },
    {
     "data": {
      "image/png": "[encoded data removed]",
      "text/plain": [
       "<Figure size 576x360 with 1 Axes>"
      ]
     },
     "metadata": {
      "needs_background": "light"
     },
     "output_type": "display_data"
    }
   ],
   "source": [
    "x_range = np.linspace(1.7,5.6,500)\n",
    "\n",
    "plt.figure(figsize = (8,5))\n",
    "\n",
    "plt.scatter(frequency1,amplitude1, marker = 'x', color='black', label='Netlumené kmity')\n",
    "plt.scatter(frequency2,amplitude2, marker = '+', color='black', label='Slabě tlumené kmity')\n",
    "plt.scatter(frequency3,amplitude3, marker = '.', color='black', label='Silně tlumené kmity')\n",
    "\n",
    "plt.plot(x_range, forced_funkce(x_range, d1,omega1,B1), color=\"k\", linestyle='dashed', linewidth=1, label='Netlumené kmity fit')\n",
    "plt.plot(x_range, forced_funkce(x_range, d2,omega2,B2), color=\"k\", linestyle='dotted', linewidth=1, label='Slabě tlumené kmity fit')\n",
    "plt.plot(x_range, forced_funkce(x_range, d3,omega3,B3), color=\"k\", linestyle='dashdot', linewidth=1, label='Silně tlumené kmity')\n",
    "\n",
    "plt.legend(loc='upper left')\n",
    "\n",
    "#popisky os\n",
    "plt.ylabel(\"Amplituda kyvadla $A$ [rad]\", fontsize=12)\n",
    "plt.xlabel(\"Frekvence budící síly $\\Omega$ [s$^{-1}$]\", fontsize=12)\n",
    "\n",
    "\n",
    "plt.savefig('Resonance_curve.pdf')\n",
    "plt.show()"
   ]
  },
  {
   "cell_type": "code",
   "execution_count": 550,
   "id": "b7d85292-72e7-419c-8ef0-3d2eaed32598",
   "metadata": {},
   "outputs": [
    {
     "name": "stdout",
     "output_type": "stream",
     "text": [
      "3.739275963344364\n",
      "0.5773502691896258\n"
     ]
    }
   ],
   "source": [
    "k = np.array([3.814867633819167,3.6757341529385594,3.727226103275367])\n",
    "#k_err = np.array([0.022987008832927945,0.008662225912303222,0.01970941048765986])\n",
    "k_err = np.array([1,1,1])\n",
    "\n",
    "m,n = weighted_error(k,k_err)\n",
    "\n",
    "print(m)\n",
    "print(n)"
   ]
  },
  {
   "cell_type": "code",
   "execution_count": 548,
   "id": "54a4d02e-3e07-4891-936a-95fb2b69424a",
   "metadata": {},
   "outputs": [
    {
     "data": {
      "text/plain": [
       "3.738512855290713"
      ]
     },
     "execution_count": 548,
     "metadata": {},
     "output_type": "execute_result"
    }
   ],
   "source": [
    "w0"
   ]
  },
  {
   "cell_type": "code",
   "execution_count": null,
   "id": "6065b690-f6f3-45c6-b2e8-2e2b085e1a72",
   "metadata": {},
   "outputs": [],
   "source": []
  }
 ],
 "metadata": {
  "kernelspec": {
   "display_name": "Python 3 (ipykernel)",
   "language": "python",
   "name": "python3"
  },
  "language_info": {
   "codemirror_mode": {
    "name": "ipython",
    "version": 3
   },
   "file_extension": ".py",
   "mimetype": "text/x-python",
   "name": "python",
   "nbconvert_exporter": "python",
   "pygments_lexer": "ipython3",
   "version": "3.8.7"
  },
  "toc-autonumbering": false
 },
 "nbformat": 4,
 "nbformat_minor": 5
}
