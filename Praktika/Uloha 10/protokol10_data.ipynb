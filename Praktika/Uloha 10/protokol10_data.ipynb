{
 "cells": [
  {
   "cell_type": "markdown",
   "id": "ab4c4410-1abd-4049-956e-6520672ff608",
   "metadata": {
    "tags": []
   },
   "source": [
    "## **Kalibrační křivka:**"
   ]
  },
  {
   "cell_type": "code",
   "execution_count": 1,
   "id": "8cc97f3e-cdec-4390-aa25-a961dc035cad",
   "metadata": {},
   "outputs": [],
   "source": [
    "import numpy as np\n",
    "import sympy as smp\n",
    "import matplotlib.pyplot as plt\n",
    "from scipy.optimize import curve_fit"
   ]
  },
  {
   "cell_type": "code",
   "execution_count": 9,
   "id": "b0f3daf5-be74-420b-96be-c423b0b91239",
   "metadata": {},
   "outputs": [
    {
     "name": "stdout",
     "output_type": "stream",
     "text": [
      "[ 2.01  4.02  6.01  8.   10.07 12.06 14.07 15.98 17.84]\n",
      "[ 6.6 16.1 24.3 33.1 42.5 51.3 60.2 69.1 78.4]\n"
     ]
    }
   ],
   "source": [
    "V = [2.01,4.02,6.01, 8, 10.07,12.06,14.07,15.98,17.84]\n",
    "RPM = [6.6,16.1,24.3,33.1,42.5,51.3,60.2,69.1,78.4]\n",
    "V = np.array(V)\n",
    "RPM = np.array(RPM)\n",
    "print(V)\n",
    "print(RPM)"
   ]
  },
  {
   "cell_type": "code",
   "execution_count": 3,
   "id": "5ec6cf7c-8916-40ff-8f7f-a8ad7c6e08a1",
   "metadata": {},
   "outputs": [
    {
     "name": "stdout",
     "output_type": "stream",
     "text": [
      "4.490780426273802 -2.537742820735353\n"
     ]
    }
   ],
   "source": [
    "def RPM_func(voltage,a,b):\n",
    "    return a*voltage + b\n",
    "\n",
    "\n",
    "curve_fit(RPM_func, V,)\n",
    "\n",
    "\n",
    "\n",
    "\n",
    "\n",
    "coef, _ = curve_fit(RPM_func, V, RPM)\n",
    "a,b = coef\n",
    "print(a,b)"
   ]
  },
  {
   "cell_type": "code",
   "execution_count": 4,
   "id": "91253582-2406-4b7a-9544-73a1fbd824d4",
   "metadata": {},
   "outputs": [
    {
     "data": {
      "image/png": "[encoded data removed]",
      "text/plain": [
       "<Figure size 432x288 with 1 Axes>"
      ]
     },
     "metadata": {
      "needs_background": "light"
     },
     "output_type": "display_data"
    }
   ],
   "source": [
    "x_range = np.linspace(0,20,100)\n",
    "\n",
    "plt.scatter(V, RPM, label = \"kalibracni krivka motoru\")\n",
    "plt.plot(x_range, RPM_func(x_range,a,b), color=\"k\")\n",
    "plt.show()"
   ]
  },
  {
   "cell_type": "markdown",
   "id": "418c7b4a-145b-48a1-99ec-0e6119afbc3a",
   "metadata": {
    "jp-MarkdownHeadingCollapsed": true,
    "tags": []
   },
   "source": [
    "## **Bez utlumu:**"
   ]
  },
  {
   "cell_type": "code",
   "execution_count": 5,
   "id": "077e27fc-90d8-4bef-89d7-8abd9ed87dc4",
   "metadata": {},
   "outputs": [],
   "source": [
    "V1 = [4.42,5.20,5.67,6.57,7.22,7.66,7.89,8.01,8.19,8.33,8.55,8.84,9.19,9.45,10.18,10.56,10.75] ##u 8.8 nepresne, protoze kyvadlo nemuze kmitad dal kvuli zarazce\n",
    "amplitude1 = [0.187,0.251,0.284,0.335,0.419,0.595,0.737,0.847,1.199,1.817,2.683,2.512,2.408, 3.043,2.44,2.256,]\n",
    "\n",
    "def rpm_to_rps(x):\n",
    "    return x/60\n",
    "    "
   ]
  },
  {
   "cell_type": "code",
   "execution_count": 22,
   "id": "a939f88a-31cf-4842-a494-44cbf9011ac2",
   "metadata": {},
   "outputs": [
    {
     "ename": "TypeError",
     "evalue": "can't multiply sequence by non-int of type 'numpy.float64'",
     "output_type": "error",
     "traceback": [
      "\u001b[1;31m---------------------------------------------------------------------------\u001b[0m",
      "\u001b[1;31mTypeError\u001b[0m                                 Traceback (most recent call last)",
      "\u001b[1;32m~\\AppData\\Local\\Temp/ipykernel_19452/3186131380.py\u001b[0m in \u001b[0;36m<module>\u001b[1;34m\u001b[0m\n\u001b[1;32m----> 1\u001b[1;33m \u001b[0mplt\u001b[0m\u001b[1;33m.\u001b[0m\u001b[0mscatter\u001b[0m\u001b[1;33m(\u001b[0m\u001b[0mRPM_func\u001b[0m\u001b[1;33m(\u001b[0m\u001b[0mV1\u001b[0m\u001b[1;33m,\u001b[0m\u001b[0ma\u001b[0m\u001b[1;33m,\u001b[0m\u001b[0mb\u001b[0m\u001b[1;33m)\u001b[0m\u001b[1;33m,\u001b[0m\u001b[0mamplitude1\u001b[0m\u001b[1;33m)\u001b[0m\u001b[1;33m\u001b[0m\u001b[1;33m\u001b[0m\u001b[0m\n\u001b[0m\u001b[0;32m      2\u001b[0m \u001b[0mplt\u001b[0m\u001b[1;33m.\u001b[0m\u001b[0mshow\u001b[0m\u001b[1;33m(\u001b[0m\u001b[1;33m)\u001b[0m\u001b[1;33m\u001b[0m\u001b[1;33m\u001b[0m\u001b[0m\n",
      "\u001b[1;32m~\\AppData\\Local\\Temp/ipykernel_19452/99020682.py\u001b[0m in \u001b[0;36mRPM_func\u001b[1;34m(voltage, a, b)\u001b[0m\n\u001b[0;32m      1\u001b[0m \u001b[1;32mdef\u001b[0m \u001b[0mRPM_func\u001b[0m\u001b[1;33m(\u001b[0m\u001b[0mvoltage\u001b[0m\u001b[1;33m,\u001b[0m\u001b[0ma\u001b[0m\u001b[1;33m,\u001b[0m\u001b[0mb\u001b[0m\u001b[1;33m)\u001b[0m\u001b[1;33m:\u001b[0m\u001b[1;33m\u001b[0m\u001b[1;33m\u001b[0m\u001b[0m\n\u001b[1;32m----> 2\u001b[1;33m     \u001b[1;32mreturn\u001b[0m \u001b[0ma\u001b[0m\u001b[1;33m*\u001b[0m\u001b[0mvoltage\u001b[0m \u001b[1;33m+\u001b[0m \u001b[0mb\u001b[0m\u001b[1;33m\u001b[0m\u001b[1;33m\u001b[0m\u001b[0m\n\u001b[0m\u001b[0;32m      3\u001b[0m \u001b[1;33m\u001b[0m\u001b[0m\n\u001b[0;32m      4\u001b[0m \u001b[0mcoef\u001b[0m\u001b[1;33m,\u001b[0m \u001b[0m_\u001b[0m \u001b[1;33m=\u001b[0m \u001b[0mcurve_fit\u001b[0m\u001b[1;33m(\u001b[0m\u001b[0mRPM_func\u001b[0m\u001b[1;33m,\u001b[0m \u001b[0mV\u001b[0m\u001b[1;33m,\u001b[0m \u001b[0mRPM\u001b[0m\u001b[1;33m)\u001b[0m\u001b[1;33m\u001b[0m\u001b[1;33m\u001b[0m\u001b[0m\n\u001b[0;32m      5\u001b[0m \u001b[0ma\u001b[0m\u001b[1;33m,\u001b[0m\u001b[0mb\u001b[0m \u001b[1;33m=\u001b[0m \u001b[0mcoef\u001b[0m\u001b[1;33m\u001b[0m\u001b[1;33m\u001b[0m\u001b[0m\n",
      "\u001b[1;31mTypeError\u001b[0m: can't multiply sequence by non-int of type 'numpy.float64'"
     ]
    }
   ],
   "source": [
    "plt.scatter(RPM_func(V1,a,b),amplitude1)\n",
    "plt.show()"
   ]
  },
  {
   "cell_type": "code",
   "execution_count": null,
   "id": "ceaf6566-ea52-4d3e-b80b-fdd98f0864b9",
   "metadata": {},
   "outputs": [],
   "source": []
  },
  {
   "cell_type": "markdown",
   "id": "51c687a7-a537-4bc9-b1d9-6ba3d09f8a7e",
   "metadata": {
    "jp-MarkdownHeadingCollapsed": true,
    "tags": []
   },
   "source": [
    "## **S utlumem 1.42A:**"
   ]
  },
  {
   "cell_type": "code",
   "execution_count": 20,
   "id": "a721d0a9-db97-48d9-833c-0fb8868e697a",
   "metadata": {},
   "outputs": [],
   "source": [
    "V2 = [6.3,7.24,7.54,7.87,8.12,8.53,8.93,9.47,10.18,11.36,12.30] \n",
    "amplitude2 = [0.115,0.207,0.3,0.380,0.551,0.62,0.434,0.256,0.201,0.129,0.104]\n",
    "\n",
    "def rpm_to_rps(x):\n",
    "    return x/60\n",
    "    "
   ]
  },
  {
   "cell_type": "code",
   "execution_count": 22,
   "id": "cef28f98-cfa2-4dee-8ebd-42affbd1c2af",
   "metadata": {},
   "outputs": [
    {
     "data": {
      "image/png": "[encoded data removed]",
      "text/plain": [
       "<Figure size 432x288 with 1 Axes>"
      ]
     },
     "metadata": {
      "needs_background": "light"
     },
     "output_type": "display_data"
    }
   ],
   "source": [
    "plt.scatter(RPM_func(V2,a),amplitude2)\n",
    "plt.show()"
   ]
  },
  {
   "cell_type": "markdown",
   "id": "6e13a6ea-4655-4f55-b46b-39457b6dbcba",
   "metadata": {
    "jp-MarkdownHeadingCollapsed": true,
    "tags": []
   },
   "source": [
    "## **S utlumem 0.42A:**"
   ]
  },
  {
   "cell_type": "code",
   "execution_count": 17,
   "id": "17977bd6-8e2f-42d6-8ef1-eb4b5f13c385",
   "metadata": {},
   "outputs": [],
   "source": [
    "V3 = [11.62,10.6,9.6,8.75,8.19,7.95,7.43,7.04,6.04] \n",
    "amplitude3 = [0.126,0.163,0.270,1.067,1.544,0.982,0.592,0.402,0.311]\n",
    "\n",
    "def rpm_to_rps(x):\n",
    "    return x/(60)\n",
    "\n",
    "#V3 = [rpm_to_rps(RPM_func(k,a,b)) for k in V3]\n",
    "V3 = np.array(V3)"
   ]
  },
  {
   "cell_type": "code",
   "execution_count": 18,
   "id": "5e724233-fdc5-49eb-b6fd-fe0a5c0cb139",
   "metadata": {},
   "outputs": [
    {
     "data": {
      "text/plain": [
       "0.8351476340261113"
      ]
     },
     "execution_count": 18,
     "metadata": {},
     "output_type": "execute_result"
    }
   ],
   "source": [
    "RPM_func(0.75107,a,b)"
   ]
  },
  {
   "cell_type": "code",
   "execution_count": 20,
   "id": "4ae13108-c0eb-41b7-b87f-e2d790326361",
   "metadata": {},
   "outputs": [
    {
     "data": {
      "image/png": "[encoded data removed]",
      "text/plain": [
       "<Figure size 432x288 with 1 Axes>"
      ]
     },
     "metadata": {
      "needs_background": "light"
     },
     "output_type": "display_data"
    }
   ],
   "source": [
    "plt.scatter(rpm_to_rps(RPM_func(V3,a,b)),amplitude3)\n",
    "plt.show()"
   ]
  },
  {
   "cell_type": "code",
   "execution_count": null,
   "id": "0f90629f-b6d0-4782-8a76-8786b5bb5c5b",
   "metadata": {},
   "outputs": [],
   "source": []
  },
  {
   "cell_type": "code",
   "execution_count": null,
   "id": "05b40aea-f10f-44d8-829e-d61c58ca9b8a",
   "metadata": {},
   "outputs": [],
   "source": []
  }
 ],
 "metadata": {
  "kernelspec": {
   "display_name": "Python 3 (ipykernel)",
   "language": "python",
   "name": "python3"
  },
  "language_info": {
   "codemirror_mode": {
    "name": "ipython",
    "version": 3
   },
   "file_extension": ".py",
   "mimetype": "text/x-python",
   "name": "python",
   "nbconvert_exporter": "python",
   "pygments_lexer": "ipython3",
   "version": "3.8.7"
  }
 },
 "nbformat": 4,
 "nbformat_minor": 5
}
