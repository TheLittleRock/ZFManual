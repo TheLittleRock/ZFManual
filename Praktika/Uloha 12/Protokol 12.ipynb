{
 "cells": [
  {
   "cell_type": "code",
   "execution_count": 2,
   "id": "3e936763-98b0-4078-b1a3-577201f9d914",
   "metadata": {},
   "outputs": [],
   "source": [
    "import numpy as np\n",
    "import sympy as smp\n",
    "import matplotlib.pyplot as plt\n",
    "from scipy.optimize import curve_fit\n",
    "from tabulate import tabulate\n",
    "import matplotlib"
   ]
  },
  {
   "cell_type": "code",
   "execution_count": 27,
   "id": "8249d248-0b1a-4e89-ad1f-b6ea3b68836b",
   "metadata": {},
   "outputs": [],
   "source": [
    "matplotlib.use(\"pgf\")\n",
    "matplotlib.rcParams.update({\n",
    "    \"pgf.texsystem\": \"pdflatex\",\n",
    "    'font.family': 'serif',\n",
    "    'text.usetex': True,\n",
    "    'pgf.rcfonts': False,\n",
    "})"
   ]
  },
  {
   "cell_type": "code",
   "execution_count": 3,
   "id": "4f334f97-dca5-444e-95f8-113ea5b3283f",
   "metadata": {},
   "outputs": [],
   "source": [
    "def mean(arr):\n",
    "    return np.mean(arr)\n",
    "\n",
    "def error(x):\n",
    "    return x.std() / np.sqrt(x.size)\n",
    "\n",
    "def weighted_error(x, err):\n",
    "    \n",
    "    x = np.asarray(x)\n",
    "    err = np.asarray(err)\n",
    "    \n",
    "    average = np.sum(x/(err**2))/np.sum(1/err**2)\n",
    "    \n",
    "    average_error = 1/np.sqrt(np.sum(1/err**2))\n",
    "    \n",
    "    return average, average_error\n"
   ]
  },
  {
   "cell_type": "code",
   "execution_count": 4,
   "id": "776e8d34-c780-4710-9f24-7cf0e19300d9",
   "metadata": {},
   "outputs": [],
   "source": [
    "def V_to_Q(V):\n",
    "   \n",
    "    C = 100/(10**9)\n",
    "    Q = C*V\n",
    "    \n",
    "    return Q\n",
    "\n",
    "def fit_sila_naboj(Q,A):\n",
    "    return A*(Q**2)\n",
    "\n",
    "def fit2_sila_naboj(Q,A,b):\n",
    "    return A*Q + b"
   ]
  },
  {
   "cell_type": "markdown",
   "id": "f2c71358-b393-47de-ada7-0f90dc543aad",
   "metadata": {},
   "source": [
    "U = [5,10,15,20,25]\n",
    "a = np.array([5,6.5,7,8])\n",
    "a_m = a/100\n",
    "\n",
    "F = np.array([\n",
    "    [0.08,0.2,0.25,0.36,0.42],\n",
    "    [0.05,0.14,0.27,0.35,0.45],\n",
    "    [0.1,0.16,0.22,0.32,0.39],\n",
    "    [0.06,0.14,0.22,0.34,0.42]\n",
    "])\n",
    "\n",
    "F4 = np.array([0.08,0.15,0.26,0.38])\n",
    "Q4_volt = np.array([0.02,0.6,1,1.9])\n",
    "\n",
    "Q_volt = np.array([\n",
    "    [0.1,0.2,0.4,0.6,1],\n",
    "    [0.1,0.2,0.3,0.4,0.8],\n",
    "    [0.1,0.2,0.3,0.4,0.5],\n",
    "    [0.01,0.1,0.1,0.3,0.5]\n",
    "])\n",
    "\n",
    "a_m"
   ]
  },
  {
   "cell_type": "markdown",
   "id": "da9b25ac-3cd8-4621-963b-b000cc92422c",
   "metadata": {
    "tags": []
   },
   "source": [
    "# **Jeden graf**"
   ]
  },
  {
   "cell_type": "code",
   "execution_count": 256,
   "id": "7bc69442-cfba-40bf-8625-572bcac84800",
   "metadata": {},
   "outputs": [
    {
     "data": {
      "text/plain": [
       "array([0.05 , 0.065, 0.07 , 0.08 ])"
      ]
     },
     "execution_count": 256,
     "metadata": {},
     "output_type": "execute_result"
    }
   ],
   "source": [
    "U = [5,10,15,20,25]\n",
    "a = np.array([5,6.5,7,8])\n",
    "a_m = a/100\n",
    "\n",
    "F = np.array([\n",
    "    [0.08,0.2,0.25,0.36],\n",
    "    [0.05,0.14,0.27,0.35],\n",
    "    [0.1,0.16,0.22,0.32],\n",
    "    [0.06,0.14,0.22,0.34]\n",
    "])\n",
    "\n",
    "F4 = np.array([0.08,0.15,0.26,0.38])\n",
    "Q4_volt = np.array([0.02,0.6,1,1.9])\n",
    "\n",
    "Q_volt = np.array([\n",
    "    [0.1,0.2,0.4,0.6],\n",
    "    [0.1,0.2,0.3,0.4],\n",
    "    [0.1,0.2,0.3,0.4],\n",
    "    [0.01,0.1,0.1,0.3]\n",
    "])\n",
    "\n",
    "a_m"
   ]
  },
  {
   "cell_type": "code",
   "execution_count": 257,
   "id": "10ff51ef-3092-46ba-9942-494618e61111",
   "metadata": {},
   "outputs": [
    {
     "data": {
      "text/plain": [
       "array([[8.0e-05, 2.0e-04, 2.5e-04, 3.6e-04],\n",
       "       [5.0e-05, 1.4e-04, 2.7e-04, 3.5e-04],\n",
       "       [1.0e-04, 1.6e-04, 2.2e-04, 3.2e-04],\n",
       "       [6.0e-05, 1.4e-04, 2.2e-04, 3.4e-04]])"
      ]
     },
     "execution_count": 257,
     "metadata": {},
     "output_type": "execute_result"
    }
   ],
   "source": [
    "F = F/(10**3)\n",
    "F4 = F4/(10**3)\n",
    "F"
   ]
  },
  {
   "cell_type": "code",
   "execution_count": 258,
   "id": "4d0a778c-bb85-4500-9cb4-ac8ae2c21306",
   "metadata": {},
   "outputs": [
    {
     "data": {
      "text/plain": [
       "array([[1.e-08, 2.e-08, 4.e-08, 6.e-08],\n",
       "       [1.e-08, 2.e-08, 3.e-08, 4.e-08],\n",
       "       [1.e-08, 2.e-08, 3.e-08, 4.e-08],\n",
       "       [1.e-09, 1.e-08, 1.e-08, 3.e-08]])"
      ]
     },
     "execution_count": 258,
     "metadata": {},
     "output_type": "execute_result"
    }
   ],
   "source": [
    "Q = V_to_Q(Q_volt)\n",
    "Q4 = V_to_Q(Q4_volt)\n",
    "\n",
    "Q"
   ]
  },
  {
   "cell_type": "code",
   "execution_count": 259,
   "id": "f2f146ac-441b-4d7f-aea6-29529e67b223",
   "metadata": {},
   "outputs": [
    {
     "name": "stdout",
     "output_type": "stream",
     "text": [
      "[[8.00000000e+11 5.00000000e+11 1.56250000e+11 1.00000000e+11]\n",
      " [5.00000000e+11 3.50000000e+11 3.00000000e+11 2.18750000e+11]\n",
      " [1.00000000e+12 4.00000000e+11 2.44444444e+11 2.00000000e+11]\n",
      " [6.00000000e+13 1.40000000e+12 2.20000000e+12 3.77777778e+11]]\n",
      "[389062500000.0, 342187500000.0, 461111111111.11115, 15994444444444.443]\n",
      "[141185947174.94904, 51224031149.329704, 159933435227.60867, 12707413445759.975]\n"
     ]
    }
   ],
   "source": [
    "A_spoct = F/(Q**2)\n",
    "print(A_spoct)\n",
    "\n",
    "A_prumer = [mean(A_spoct[i]) for i in range(4)]\n",
    "A_chyba = [error(A_spoct[i]) for i in range(4)]\n",
    "print(A_prumer)\n",
    "print(A_chyba)"
   ]
  },
  {
   "cell_type": "code",
   "execution_count": 260,
   "id": "a9d42efc-fe9a-406e-8b9b-20ba46f3d7f0",
   "metadata": {},
   "outputs": [
    {
     "name": "stdout",
     "output_type": "stream",
     "text": [
      "[113702995600.93211, 244067796570.42725, 221468926634.8116, 412119985405.1421]\n",
      "[27522073528.07142, 24977247119.81093, 34674110661.71389, 136258349807.93298]\n"
     ]
    }
   ],
   "source": [
    "A_fit = []\n",
    "A_fit_err = []\n",
    "\n",
    "for i in range(4):\n",
    "    params, err = curve_fit(fit_sila_naboj, Q[i], F[i], p0 = [1000000000000])\n",
    "\n",
    "    A_err = np.sqrt(np.diag(err))\n",
    "    A, = params\n",
    "    \n",
    "    A_fit.append(A)\n",
    "    A_fit_err.append(A_err[0])\n",
    "\n",
    "\n",
    "print(A_fit)\n",
    "print(A_fit_err)"
   ]
  },
  {
   "cell_type": "code",
   "execution_count": 276,
   "id": "dfa370db-e17e-4809-804a-fe73b1881d1a",
   "metadata": {},
   "outputs": [
    {
     "name": "stdout",
     "output_type": "stream",
     "text": [
      "[68153287141.55417, 198837207952.2471, 142635658884.76526, 252148801454.93253]\n",
      "[0.00012538156574541258, 5.337209450144947e-05, 9.302325584931106e-05, 0.00012059604251425051]\n",
      "[18757123580.16367, 30961689751.936893, 7751937966.20678, 93922825010.01056]\n"
     ]
    }
   ],
   "source": [
    "A2_fit = []\n",
    "A2_fit_err = []\n",
    "B = []\n",
    "\n",
    "for i in range(4):\n",
    "    params, err = curve_fit(fit2_sila_naboj, Q[i]**2, F[i],p0 = [900000000000000,0])\n",
    "\n",
    "    A2_err, b_err = np.sqrt(np.diag(err))\n",
    "    A2, b = params\n",
    "    \n",
    "    A2_fit.append(A2)\n",
    "    A2_fit_err.append(A2_err)\n",
    "    B.append(b)\n",
    " \n",
    "\n",
    "print(A2_fit)\n",
    "print(B)\n",
    "print(A2_fit_err)"
   ]
  },
  {
   "cell_type": "code",
   "execution_count": 277,
   "id": "37029770-e112-4e56-bab8-4a8b3f60e7bb",
   "metadata": {},
   "outputs": [
    {
     "data": {
      "image/png": "[encoded data removed]",
      "text/plain": [
       "<Figure size 576x360 with 1 Axes>"
      ]
     },
     "metadata": {
      "needs_background": "light"
     },
     "output_type": "display_data"
    }
   ],
   "source": [
    "x_range = np.linspace(0,0.4*(10**(-14)),500)\n",
    "\n",
    "plt.figure(figsize = (8,5))\n",
    "\n",
    "plt.scatter(Q[0]**2,F[0], marker = 'x', color='black', label='Naměřené hodnoty síly')\n",
    "plt.scatter(Q[1]**2,F[1], marker = '*', color='blue', label='Naměřené hodnoty síly')\n",
    "plt.scatter(Q[2]**2,F[2], marker = '.', color='green', label='Naměřené hodnoty síly')\n",
    "plt.scatter(Q[3]**2,F[3], marker = '+', color='red', label='Naměřené hodnoty síly')\n",
    "\n",
    "\n",
    "#plt.plot(x_range, fit_sila_naboj(x_range,A_fit[0]) , color=\"k\", linestyle='dashed', linewidth=1, label='Fit')\n",
    "plt.plot(x_range, A2_fit[0]*x_range + B[0] , color=\"k\", linestyle='dashed', linewidth=1, label='Fit')\n",
    "plt.plot(x_range, A2_fit[1]*x_range + B[1] , color=\"b\", linestyle='dashed', linewidth=1, label='Fit')\n",
    "plt.plot(x_range, A2_fit[2]*x_range + B[2], color=\"g\", linestyle='dashed', linewidth=1, label='Fit')\n",
    "plt.plot(x_range, A2_fit[3]*x_range + B[3], color=\"r\", linestyle='dashed', linewidth=1, label='Fit')\n",
    "\n",
    "plt.legend(loc='upper left', fontsize=8)\n",
    "#plt.legend(fontsize=8)\n",
    "\n",
    "#popisky os\n",
    "plt.ylabel(\"$F$ [N]\", fontsize=12)\n",
    "plt.xlabel(\"$Q^2$ [fC]\", fontsize=12)\n",
    "\n",
    "\n",
    "\n",
    "plt.savefig('a4.pdf')\n",
    "plt.show()\n"
   ]
  },
  {
   "cell_type": "code",
   "execution_count": 278,
   "id": "81d87760-8ad4-43a8-8b8c-5697cbfb3dd2",
   "metadata": {},
   "outputs": [
    {
     "data": {
      "image/png": "[encoded data removed]",
      "text/plain": [
       "<Figure size 576x360 with 1 Axes>"
      ]
     },
     "metadata": {
      "needs_background": "light"
     },
     "output_type": "display_data"
    }
   ],
   "source": [
    "#x_range = np.linspace(0,1.2*(10**(-14)),500)\n",
    "\n",
    "plt.figure(figsize = (8,5))\n",
    "\n",
    "plt.scatter(1/a_m**2,A2_fit, marker = 'x', color='black', label='Naměřené hodnoty síly')\n",
    "\n",
    "\n",
    "#plt.plot(x_range, fit_sila_naboj(x_range,A_fit[0]) , color=\"k\", linestyle='dashed', linewidth=1, label='Fit')\n",
    "#plt.plot(x_range, A2_fit[1]*x_range , color=\"k\", linestyle='dashed', linewidth=1, label='Fit')\n",
    "\n",
    "#plt.legend(loc='upper left', fontsize=8)\n",
    "#plt.legend(fontsize=8)\n",
    "\n",
    "#popisky os\n",
    "plt.ylabel(\"$A$ []\", fontsize=12)\n",
    "plt.xlabel(\"$1/a^2$ [m^{-2}]\", fontsize=12)\n",
    "\n",
    "\n",
    "\n",
    "plt.savefig('A_a.pdf')\n",
    "plt.show()\n"
   ]
  },
  {
   "cell_type": "code",
   "execution_count": null,
   "id": "114bf8e6-35d2-4102-a148-01af0202df40",
   "metadata": {},
   "outputs": [],
   "source": []
  },
  {
   "cell_type": "markdown",
   "id": "e5482d7a-2ea5-493c-8a38-dc5bfec85679",
   "metadata": {
    "tags": []
   },
   "source": [
    "# **Jednotlive grafy**"
   ]
  },
  {
   "cell_type": "markdown",
   "id": "ab997624-46fe-4a88-b910-636f97d68ae1",
   "metadata": {},
   "source": [
    "## DATA"
   ]
  },
  {
   "cell_type": "code",
   "execution_count": 62,
   "id": "028ecfd9-3c04-4958-b02a-f4db245021a5",
   "metadata": {},
   "outputs": [],
   "source": [
    "############# CIZI ##################\n",
    "\n",
    "U = [5,10,15,20,25]\n",
    "a = np.array([5,5.5,6.5,7])\n",
    "a_m = a/100\n",
    "\n",
    "F1 = np.array([0.1,0.2,0.4,0.5,0.6]) ##[0.08,0.2,0.25,0.36,0.42]\n",
    "F2 = np.array([0.1,0.2,0.4,0.6,0.9]) ##[0.05,0.14,0.27,0.35,0.45]\n",
    "F3 = np.array([0.1,0.2,0.4,0.6,0.8])\n",
    "F4 = np.array([0.1,0.1,0.2,0.2,0.3]) ##[0.06,0.14,0.22,0.34,0.42]\n",
    "        \n",
    "Q1_volt = np.array([0.07,0.11,0.15,0.23,0.32]) ##[0.1,0.2,0.4,0.6,1]\n",
    "Q2_volt = np.array([0.07,0.16,0.21,0.24,0.29]) ##[0.1,0.2,0.3,0.4,0.8]\n",
    "Q3_volt = np.array([0.04,0.13,0.19,0.27,0.3])\n",
    "Q4_volt = np.array([0.13,0.13,0.18,0.2,0.28]) ##[0,0.1,0.1,0.3,0.5]\n",
    "    \n"
   ]
  },
  {
   "cell_type": "code",
   "execution_count": 72,
   "id": "1a781a66-d912-4ee4-acee-62342dc15b26",
   "metadata": {},
   "outputs": [],
   "source": [
    "################ VZOROVA s 4 cm ###################\n",
    "\n",
    "U = [5,10,15,20,25]\n",
    "a = np.array([4,5,6.5,7,8])\n",
    "a_m = a/100\n",
    "\n",
    "F0 = np.array([0.08,0.15,0.38]) ##[0.08,0.2,0.25,0.36,0.42]\n",
    "F1 = np.array([0.08,0.2,0.25,0.36]) ##[0.08,0.2,0.25,0.36,0.42]\n",
    "F2 = np.array([0.05,0.14,0.27,0.35]) ##[0.05,0.14,0.27,0.35,0.45]\n",
    "F3 = np.array([0.1,0.16,0.22,0.32,0.39])\n",
    "F4 = np.array([0.14,0.22,0.34,0.42]) ##[0.06,0.14,0.22,0.34,0.42]\n",
    " \n",
    "Q0_volt = np.array([0.02,0.6,1.9]) ##[0.1,0.2,0.4,0.6,1]    \n",
    "Q1_volt = np.array([0.1,0.2,0.4,0.6]) ##[0.1,0.2,0.4,0.6,1]\n",
    "Q2_volt = np.array([0.1,0.2,0.3,0.4]) ##[0.1,0.2,0.3,0.4,0.8]\n",
    "Q3_volt = np.array([0.1,0.2,0.3,0.4,0.5])\n",
    "Q4_volt = np.array([0.1,0.1,0.3,0.5]) ##[0,0.1,0.1,0.3,0.5]\n",
    "    \n"
   ]
  },
  {
   "cell_type": "code",
   "execution_count": 5,
   "id": "3325a30d-acad-4b91-aceb-fd8af413c73d",
   "metadata": {},
   "outputs": [],
   "source": [
    "################ VZOROVA ###################\n",
    "\n",
    "U = [5,10,15,20,25]\n",
    "a = np.array([5,6.5,7,8])\n",
    "a_m = a/100\n",
    "\n",
    "\n",
    "F1 = np.array([0.08,0.2,0.25,0.36]) ##[0.08,0.2,0.25,0.36,0.42]\n",
    "F2 = np.array([0.05,0.14,0.27,0.35]) ##[0.05,0.14,0.27,0.35,0.45]\n",
    "F3 = np.array([0.1,0.16,0.22,0.32,0.39]) \n",
    "F4 = np.array([0.14,0.22,0.34,0.42]) ##[0.06,0.14,0.22,0.34,0.42]\n",
    "        \n",
    "Q1_volt = np.array([0.1,0.2,0.4,0.6]) ##[0.1,0.2,0.4,0.6,1]\n",
    "Q2_volt = np.array([0.1,0.2,0.3,0.4]) ##[0.1,0.2,0.3,0.4,0.8]\n",
    "Q3_volt = np.array([0.1,0.2,0.3,0.4,0.5])\n",
    "Q4_volt = np.array([0.1,0.1,0.3,0.5]) ##[0,0.1,0.1,0.3,0.5]\n",
    "    \n"
   ]
  },
  {
   "cell_type": "code",
   "execution_count": 6,
   "id": "cf0dd0f8-9c9d-4666-857a-2f8c4a37099d",
   "metadata": {},
   "outputs": [],
   "source": [
    "F1 = F1/(10**3)\n",
    "F2 = F2/(10**3)\n",
    "F3 = F3/(10**3)\n",
    "F4 = F4/(10**3)\n",
    "\n",
    "Q1 = V_to_Q(Q1_volt)\n",
    "Q2 = V_to_Q(Q2_volt)\n",
    "Q3 = V_to_Q(Q3_volt)\n",
    "Q4 = V_to_Q(Q4_volt)\n"
   ]
  },
  {
   "cell_type": "code",
   "execution_count": 7,
   "id": "e51750f1-773d-4c4c-a9e3-4c0cc6af7664",
   "metadata": {},
   "outputs": [],
   "source": [
    "F = [F1,F2,F3,F4]\n",
    "Q = [Q1,Q2,Q3,Q4]"
   ]
  },
  {
   "cell_type": "code",
   "execution_count": 8,
   "id": "25c26c90-95bd-420f-afea-844150757c39",
   "metadata": {},
   "outputs": [
    {
     "name": "stdout",
     "output_type": "stream",
     "text": [
      "[1.e-08 2.e-08 4.e-08 6.e-08]\n",
      "[1.e-08 2.e-08 3.e-08 4.e-08]\n",
      "[1.e-08 2.e-08 3.e-08 4.e-08 5.e-08]\n",
      "[1.e-08 1.e-08 3.e-08 5.e-08]\n"
     ]
    }
   ],
   "source": [
    "print(Q1)\n",
    "print(Q2)\n",
    "print(Q3)\n",
    "print(Q4)"
   ]
  },
  {
   "cell_type": "code",
   "execution_count": 9,
   "id": "e98df0d8-bb13-49a3-a5d8-be523520caa7",
   "metadata": {},
   "outputs": [
    {
     "name": "stdout",
     "output_type": "stream",
     "text": [
      "[1.13702996e+11 2.44067797e+11 1.79673136e+11 1.96610170e+11]\n",
      "[2.75220735e+10 2.49772471e+10 2.39460973e+10 6.37492454e+10]\n"
     ]
    }
   ],
   "source": [
    "A_fit = []\n",
    "A_fit_err = []\n",
    "\n",
    "for i in range(4):\n",
    "    params, err = curve_fit(fit_sila_naboj, Q[i], F[i], p0 = [1000000000000])\n",
    "\n",
    "    A_err = np.sqrt(np.diag(err))\n",
    "    A, = params\n",
    "    \n",
    "    A_fit.append(A)\n",
    "    A_fit_err.append(A_err[0])\n",
    "\n",
    "A_fit = np.array(A_fit)\n",
    "A_fit_err = np.array(A_fit_err)\n",
    "    \n",
    "print(A_fit)\n",
    "print(A_fit_err)"
   ]
  },
  {
   "cell_type": "code",
   "execution_count": 15,
   "id": "96c3a244-ca32-4f06-a29d-74bd687b8848",
   "metadata": {},
   "outputs": [
    {
     "name": "stdout",
     "output_type": "stream",
     "text": [
      "A:  [6.81532871e+10 1.98837208e+11 1.20320856e+11 1.00000000e+11]\n",
      "A_err:  [1.87571236e+10 3.09616898e+10 1.00604899e+10 3.22748615e+10]\n",
      "B:  [1.25381566e-04 5.33720945e-05 1.05647058e-04 1.90000000e-04]\n",
      "B_err:  [3.71490500e-05 2.91270361e-05 1.40774981e-05 4.29389102e-05]\n"
     ]
    }
   ],
   "source": [
    "A2_fit = []\n",
    "A2_fit_err = []\n",
    "B = []\n",
    "B_err = []\n",
    "\n",
    "for i in range(4):\n",
    "    params, err = curve_fit(fit2_sila_naboj, Q[i]**2, F[i],p0 = [900000000000000,0])\n",
    "\n",
    "    A2_err, b_err = np.sqrt(np.diag(err))\n",
    "    A2, b = params\n",
    "    \n",
    "    A2_fit.append(A2)\n",
    "    A2_fit_err.append(A2_err)\n",
    "    B.append(b)\n",
    "    B_err.append(b_err)\n",
    "\n",
    "A2_fit = np.array(A2_fit)\n",
    "A2_fit_err = np.array(A2_fit_err)   \n",
    "B = np.array(B)   \n",
    "B_err = np.array(B_err)   \n",
    "\n",
    "print(\"A: \" , A2_fit)\n",
    "print(\"A_err: \" , A2_fit_err)\n",
    "print(\"B: \" , B)\n",
    "print(\"B_err: \" , B_err)"
   ]
  },
  {
   "cell_type": "code",
   "execution_count": 9,
   "id": "e82c761d-0f57-438f-b482-a3c7efb850a4",
   "metadata": {},
   "outputs": [],
   "source": [
    "fQ = [t*10**7.5 for t in Q]"
   ]
  },
  {
   "cell_type": "code",
   "execution_count": 11,
   "id": "f868edfa-7c38-4bd7-9140-6df5f548709d",
   "metadata": {},
   "outputs": [
    {
     "ename": "NameError",
     "evalue": "name 'fQ' is not defined",
     "output_type": "error",
     "traceback": [
      "\u001b[1;31m---------------------------------------------------------------------------\u001b[0m",
      "\u001b[1;31mNameError\u001b[0m                                 Traceback (most recent call last)",
      "\u001b[1;32m~\\AppData\\Local\\Temp/ipykernel_10972/2208863354.py\u001b[0m in \u001b[0;36m<module>\u001b[1;34m\u001b[0m\n\u001b[0;32m      5\u001b[0m \u001b[0mplt\u001b[0m\u001b[1;33m.\u001b[0m\u001b[0mfigure\u001b[0m\u001b[1;33m(\u001b[0m\u001b[0mfigsize\u001b[0m \u001b[1;33m=\u001b[0m \u001b[1;33m(\u001b[0m\u001b[1;36m8\u001b[0m\u001b[1;33m,\u001b[0m\u001b[1;36m5\u001b[0m\u001b[1;33m)\u001b[0m\u001b[1;33m)\u001b[0m\u001b[1;33m\u001b[0m\u001b[1;33m\u001b[0m\u001b[0m\n\u001b[0;32m      6\u001b[0m \u001b[1;33m\u001b[0m\u001b[0m\n\u001b[1;32m----> 7\u001b[1;33m \u001b[0mplt\u001b[0m\u001b[1;33m.\u001b[0m\u001b[0mscatter\u001b[0m\u001b[1;33m(\u001b[0m\u001b[0mfQ\u001b[0m\u001b[1;33m[\u001b[0m\u001b[1;36m0\u001b[0m\u001b[1;33m]\u001b[0m\u001b[1;33m**\u001b[0m\u001b[1;36m2\u001b[0m\u001b[1;33m,\u001b[0m\u001b[1;36m1000\u001b[0m\u001b[1;33m*\u001b[0m\u001b[0mF\u001b[0m\u001b[1;33m[\u001b[0m\u001b[1;36m0\u001b[0m\u001b[1;33m]\u001b[0m\u001b[1;33m,\u001b[0m \u001b[0mmarker\u001b[0m \u001b[1;33m=\u001b[0m \u001b[1;34m'x'\u001b[0m\u001b[1;33m,\u001b[0m \u001b[0mcolor\u001b[0m\u001b[1;33m=\u001b[0m\u001b[1;34m'black'\u001b[0m\u001b[1;33m,\u001b[0m \u001b[0mlabel\u001b[0m\u001b[1;33m=\u001b[0m\u001b[1;34m'5 cm'\u001b[0m\u001b[1;33m)\u001b[0m\u001b[1;33m\u001b[0m\u001b[1;33m\u001b[0m\u001b[0m\n\u001b[0m\u001b[0;32m      8\u001b[0m \u001b[0mplt\u001b[0m\u001b[1;33m.\u001b[0m\u001b[0mscatter\u001b[0m\u001b[1;33m(\u001b[0m\u001b[0mfQ\u001b[0m\u001b[1;33m[\u001b[0m\u001b[1;36m1\u001b[0m\u001b[1;33m]\u001b[0m\u001b[1;33m**\u001b[0m\u001b[1;36m2\u001b[0m\u001b[1;33m,\u001b[0m\u001b[1;36m1000\u001b[0m\u001b[1;33m*\u001b[0m\u001b[0mF\u001b[0m\u001b[1;33m[\u001b[0m\u001b[1;36m1\u001b[0m\u001b[1;33m]\u001b[0m\u001b[1;33m,\u001b[0m \u001b[0mmarker\u001b[0m \u001b[1;33m=\u001b[0m \u001b[1;34m'*'\u001b[0m\u001b[1;33m,\u001b[0m \u001b[0mcolor\u001b[0m\u001b[1;33m=\u001b[0m\u001b[1;34m'blue'\u001b[0m\u001b[1;33m,\u001b[0m \u001b[0mlabel\u001b[0m\u001b[1;33m=\u001b[0m\u001b[1;34m'6.5 cm'\u001b[0m\u001b[1;33m)\u001b[0m\u001b[1;33m\u001b[0m\u001b[1;33m\u001b[0m\u001b[0m\n\u001b[0;32m      9\u001b[0m \u001b[0mplt\u001b[0m\u001b[1;33m.\u001b[0m\u001b[0mscatter\u001b[0m\u001b[1;33m(\u001b[0m\u001b[0mfQ\u001b[0m\u001b[1;33m[\u001b[0m\u001b[1;36m2\u001b[0m\u001b[1;33m]\u001b[0m\u001b[1;33m**\u001b[0m\u001b[1;36m2\u001b[0m\u001b[1;33m,\u001b[0m\u001b[1;36m1000\u001b[0m\u001b[1;33m*\u001b[0m\u001b[0mF\u001b[0m\u001b[1;33m[\u001b[0m\u001b[1;36m2\u001b[0m\u001b[1;33m]\u001b[0m\u001b[1;33m,\u001b[0m \u001b[0mmarker\u001b[0m \u001b[1;33m=\u001b[0m \u001b[1;34m'.'\u001b[0m\u001b[1;33m,\u001b[0m \u001b[0mcolor\u001b[0m\u001b[1;33m=\u001b[0m\u001b[1;34m'green'\u001b[0m\u001b[1;33m,\u001b[0m \u001b[0mlabel\u001b[0m\u001b[1;33m=\u001b[0m\u001b[1;34m'7 cm'\u001b[0m\u001b[1;33m)\u001b[0m\u001b[1;33m\u001b[0m\u001b[1;33m\u001b[0m\u001b[0m\n",
      "\u001b[1;31mNameError\u001b[0m: name 'fQ' is not defined"
     ]
    },
    {
     "data": {
      "text/plain": [
       "<Figure size 576x360 with 0 Axes>"
      ]
     },
     "metadata": {},
     "output_type": "display_data"
    }
   ],
   "source": [
    "x_range = np.linspace(0,.4*(10**(-14)),500)\n",
    "x_range_f = np.linspace(0,4,500)\n",
    "\n",
    "\n",
    "plt.figure(figsize = (8,5))\n",
    "\n",
    "plt.scatter(fQ[0]**2,1000*F[0], marker = 'x', color='black', label='5 cm')\n",
    "plt.scatter(fQ[1]**2,1000*F[1], marker = '*', color='blue', label='6.5 cm')\n",
    "plt.scatter(fQ[2]**2,1000*F[2], marker = '.', color='green', label='7 cm')\n",
    "plt.scatter(fQ[3]**2,1000*F[3], marker = '+', color='red', label='8 cm')\n",
    "\n",
    "\n",
    "\n",
    "plt.plot(x_range_f, 1000*(A2_fit[0]*x_range + B[0]) , color=\"k\", linestyle='dashed', linewidth=1, label='Fit')\n",
    "plt.plot(x_range_f, 1000*(A2_fit[1]*x_range + B[1])  , color=\"b\", linestyle='dashed', linewidth=1, label='Fit')\n",
    "plt.plot(x_range_f, 1000*(A2_fit[2]*x_range + B[2]) , color=\"g\", linestyle='dashed', linewidth=1, label='Fit')\n",
    "plt.plot(x_range_f, 1000*(A2_fit[3]*x_range + B[3]) , color=\"r\", linestyle='dashed', linewidth=1, label='Fit')\n",
    "\n",
    "\n",
    "plt.legend(loc='upper left', fontsize=8)\n",
    "#plt.legend(fontsize=8)\n",
    "\n",
    "#popisky os\n",
    "plt.ylabel(\"$F$ [mN]\", fontsize=12)\n",
    "plt.xlabel(\"$Q^2$ [fC]\", fontsize=12)\n",
    "\n",
    "\n",
    "\n",
    "plt.savefig('a.pdf')\n",
    "plt.show()"
   ]
  },
  {
   "cell_type": "code",
   "execution_count": 16,
   "id": "a44e6530-56cf-44ab-82bc-081348ebb666",
   "metadata": {},
   "outputs": [
    {
     "name": "stdout",
     "output_type": "stream",
     "text": [
      "4.059207e+08\n",
      "1.618898e+08\n"
     ]
    },
    {
     "data": {
      "text/plain": [
       "array([400.        , 236.68639053, 204.08163265, 156.25      ])"
      ]
     },
     "execution_count": 16,
     "metadata": {},
     "output_type": "execute_result"
    }
   ],
   "source": [
    "def linear_func(x,k):\n",
    "    return k*x\n",
    "\n",
    "r = 1/(a_m**2)\n",
    "\n",
    "params, err = curve_fit(linear_func,r,A2_fit, p0=[90000000000])\n",
    "\n",
    "k,  = params\n",
    "k_err, = np.sqrt(np.diag(err))\n",
    "print(\"{:e}\".format(k))\n",
    "print(\"{:e}\".format(k_err))\n",
    "\n",
    "r\n",
    "\n",
    "#4.059207e+08\n",
    "#1.618898e+08"
   ]
  },
  {
   "cell_type": "code",
   "execution_count": 17,
   "id": "eb2eaaaf-ab47-434a-b91d-792caf7c3c47",
   "metadata": {},
   "outputs": [
    {
     "name": "stdout",
     "output_type": "stream",
     "text": [
      "4.901048e-11\n",
      "1.954642e-11\n"
     ]
    }
   ],
   "source": [
    "epsilon =  1/(16*np.pi*k)\n",
    "sepsilon = k_err*epsilon/k\n",
    "\n",
    "\n",
    "print(\"{:e}\".format(epsilon))\n",
    "print(\"{:e}\".format(sepsilon))\n",
    "\n",
    "#4.901048e-11"
   ]
  },
  {
   "cell_type": "code",
   "execution_count": 28,
   "id": "eebad2b8-8915-4d26-86b0-2c383c17ba79",
   "metadata": {},
   "outputs": [
    {
     "name": "stderr",
     "output_type": "stream",
     "text": [
      "C:\\Users\\stepa\\AppData\\Local\\Temp/ipykernel_10972/330865143.py:24: UserWarning: Matplotlib is currently using pgf, which is a non-GUI backend, so cannot show the figure.\n",
      "  plt.show()\n"
     ]
    },
    {
     "data": {
      "image/png": "[encoded data removed]",
      "text/plain": [
       "<Figure size 576x360 with 1 Axes>"
      ]
     },
     "metadata": {
      "needs_background": "light"
     },
     "output_type": "display_data"
    }
   ],
   "source": [
    "x_range = np.linspace(0,410,500)\n",
    "\n",
    "plt.figure(figsize = (8,5))\n",
    "\n",
    "plt.scatter(1/a_m**2,10**(-11)*A2_fit, marker = 'x', color='black', label=r'Určené hodnoty $A_a$ v závislosti na $ \\frac{1}{a^2} $')\n",
    "\n",
    "\n",
    "\n",
    "#plt.plot(x_range, fit_sila_naboj(x_range,A_fit[0]) , color=\"k\", linestyle='dashed', linewidth=1, label='Fit')\n",
    "plt.plot(x_range, 10**(-11)*linear_func(x_range, k) , color=\"k\", linestyle='dashed', linewidth=1, label=r'Fit: $ A_a = 4 \\times 10^8 \\cdot \\frac{1}{a^2} $')\n",
    "\n",
    "plt.errorbar(1/a_m**2,10**(-11)*A2_fit,yerr=10**(-11)*A2_fit_err, fmt='none', ecolor=\"k\",elinewidth=1,capsize=5)\n",
    "\n",
    "plt.legend(loc='upper left', fontsize=10)\n",
    "#plt.legend(fontsize=9)\n",
    "\n",
    "#popisky os\n",
    "plt.ylabel(\"$A_a$ [ $10^{-11}$ N $\\cdot$C$^{-2}$]\", fontsize=12)\n",
    "plt.xlabel(\"$1/a^2$ [m$^{-2}$]\", fontsize=12)\n",
    "\n",
    "\n",
    "\n",
    "plt.savefig('A_a.pdf')\n",
    "plt.show()"
   ]
  },
  {
   "cell_type": "code",
   "execution_count": null,
   "id": "91b456e4-5935-461d-a60f-9480d7665162",
   "metadata": {},
   "outputs": [],
   "source": []
  },
  {
   "cell_type": "code",
   "execution_count": null,
   "id": "f668a787-ff94-4715-96c9-22318b1a470f",
   "metadata": {},
   "outputs": [],
   "source": []
  },
  {
   "cell_type": "code",
   "execution_count": null,
   "id": "83bc295d-e744-4d5b-b548-22d3cee22a62",
   "metadata": {},
   "outputs": [],
   "source": []
  },
  {
   "cell_type": "code",
   "execution_count": null,
   "id": "2735c09c-3a77-43ab-a930-b4d77efb16eb",
   "metadata": {},
   "outputs": [],
   "source": []
  },
  {
   "cell_type": "markdown",
   "id": "8848739c-ddcf-4650-a02f-c9dc117ab52f",
   "metadata": {
    "tags": []
   },
   "source": [
    "# Grafy"
   ]
  },
  {
   "cell_type": "code",
   "execution_count": 28,
   "id": "1f8654bf-2ced-4e60-86d8-36f117d81206",
   "metadata": {},
   "outputs": [
    {
     "name": "stderr",
     "output_type": "stream",
     "text": [
      "C:\\Users\\stepa\\AppData\\Local\\Temp/ipykernel_16124/2721018445.py:23: UserWarning: Matplotlib is currently using pgf, which is a non-GUI backend, so cannot show the figure.\n",
      "  plt.show()\n"
     ]
    },
    {
     "data": {
      "image/png": "[encoded data removed]",
      "text/plain": [
       "<Figure size 360x216 with 1 Axes>"
      ]
     },
     "metadata": {
      "needs_background": "light"
     },
     "output_type": "display_data"
    }
   ],
   "source": [
    "x_range = np.linspace(0,.4*(10**(-14)),500)\n",
    "x_range_f = np.linspace(0,4,500)\n",
    "\n",
    "\n",
    "plt.figure(figsize = (5,3))\n",
    "\n",
    "plt.scatter(fQ[0]**2,1000*F[0], marker = 'x', color='black', label='Naměřená závislost $F$ na $Q^2$')\n",
    "\n",
    "plt.plot(x_range_f, 1000*(A2_fit[0]*x_range + B[0]) , color=\"k\", linestyle='dashed', linewidth=1, label=r'Fit: $F = 6 \\times 10^{10}Q^2 + 1.3 \\times 10^{-4}$')\n",
    "\n",
    "\n",
    "\n",
    "plt.legend(loc='upper left', fontsize=9)\n",
    "#plt.legend(fontsize=8)\n",
    "\n",
    "#popisky os\n",
    "plt.ylabel(\"$F$ [mN]\", fontsize=12)\n",
    "plt.xlabel(\"$Q^2$ [fC]\", fontsize=12)\n",
    "\n",
    "\n",
    "\n",
    "plt.savefig('a5.pdf', bbox_inches = 'tight')\n",
    "plt.show()"
   ]
  },
  {
   "cell_type": "code",
   "execution_count": 29,
   "id": "1119fb4d-e13c-42ad-b0f9-cb6853a2d61d",
   "metadata": {},
   "outputs": [
    {
     "name": "stderr",
     "output_type": "stream",
     "text": [
      "C:\\Users\\stepa\\AppData\\Local\\Temp/ipykernel_16124/2117365755.py:23: UserWarning: Matplotlib is currently using pgf, which is a non-GUI backend, so cannot show the figure.\n",
      "  plt.show()\n"
     ]
    },
    {
     "data": {
      "image/png": "[encoded data removed]",
      "text/plain": [
       "<Figure size 360x216 with 1 Axes>"
      ]
     },
     "metadata": {
      "needs_background": "light"
     },
     "output_type": "display_data"
    }
   ],
   "source": [
    "x_range = np.linspace(0,.4*(10**(-14)),500)\n",
    "x_range_f = np.linspace(0,4,500)\n",
    "\n",
    "\n",
    "plt.figure(figsize = (5,3))\n",
    "\n",
    "plt.scatter(fQ[1]**2,1000*F[1], marker = 'x', color='black', label='Naměřená závislost $F$ na $Q^2$')\n",
    "\n",
    "plt.plot(x_range_f, 1000*(A2_fit[1]*x_range + B[1]) , color=\"k\", linestyle='dashed', linewidth=1, label=r'Fit: $F = 1.9 \\times 10^{11}Q^2 + 5 \\times 10^{-5}$')\n",
    "\n",
    "\n",
    "\n",
    "plt.legend(loc='upper left', fontsize=9)\n",
    "#plt.legend(fontsize=8)\n",
    "\n",
    "#popisky os\n",
    "plt.ylabel(\"$F$ [mN]\", fontsize=12)\n",
    "plt.xlabel(\"$Q^2$ [fC]\", fontsize=12)\n",
    "\n",
    "\n",
    "\n",
    "plt.savefig('a65.pdf', bbox_inches = 'tight')\n",
    "plt.show()"
   ]
  },
  {
   "cell_type": "code",
   "execution_count": 30,
   "id": "8abd889c-3be0-4c2d-9c72-e9c00a8a481c",
   "metadata": {},
   "outputs": [
    {
     "name": "stderr",
     "output_type": "stream",
     "text": [
      "C:\\Users\\stepa\\AppData\\Local\\Temp/ipykernel_16124/2457433448.py:23: UserWarning: Matplotlib is currently using pgf, which is a non-GUI backend, so cannot show the figure.\n",
      "  plt.show()\n"
     ]
    },
    {
     "data": {
      "image/png": "[encoded data removed]",
      "text/plain": [
       "<Figure size 360x216 with 1 Axes>"
      ]
     },
     "metadata": {
      "needs_background": "light"
     },
     "output_type": "display_data"
    }
   ],
   "source": [
    "x_range = np.linspace(0,.4*(10**(-14)),500)\n",
    "x_range_f = np.linspace(0,4,500)\n",
    "\n",
    "\n",
    "plt.figure(figsize = (5,3))\n",
    "\n",
    "plt.scatter(fQ[2]**2,1000*F[2], marker = 'x', color='black', label='Naměřená závislost $F$ na $Q^2$')\n",
    "\n",
    "plt.plot(x_range_f, 1000*(A2_fit[2]*x_range + B[2]) , color=\"k\", linestyle='dashed', linewidth=1, label=r'Fit: $F = 1.2 \\times 10^{11}Q^2 + 1.1 \\times 10^{-4}$')\n",
    "\n",
    "\n",
    "\n",
    "plt.legend(loc='upper left', fontsize=9)\n",
    "#plt.legend(fontsize=8)\n",
    "\n",
    "#popisky os\n",
    "plt.ylabel(\"$F$ [mN]\", fontsize=12)\n",
    "plt.xlabel(\"$Q^2$ [fC]\", fontsize=12)\n",
    "\n",
    "\n",
    "\n",
    "plt.savefig('a7.pdf', bbox_inches = 'tight')\n",
    "plt.show()"
   ]
  },
  {
   "cell_type": "code",
   "execution_count": 31,
   "id": "fdf3aaf2-b844-4dbc-929d-0489d49719eb",
   "metadata": {},
   "outputs": [
    {
     "name": "stderr",
     "output_type": "stream",
     "text": [
      "C:\\Users\\stepa\\AppData\\Local\\Temp/ipykernel_16124/785443955.py:23: UserWarning: Matplotlib is currently using pgf, which is a non-GUI backend, so cannot show the figure.\n",
      "  plt.show()\n"
     ]
    },
    {
     "data": {
      "image/png": "[encoded data removed]",
      "text/plain": [
       "<Figure size 360x216 with 1 Axes>"
      ]
     },
     "metadata": {
      "needs_background": "light"
     },
     "output_type": "display_data"
    }
   ],
   "source": [
    "x_range = np.linspace(0,.4*(10**(-14)),500)\n",
    "x_range_f = np.linspace(0,4,500)\n",
    "\n",
    "\n",
    "plt.figure(figsize = (5,3))\n",
    "\n",
    "plt.scatter(fQ[3]**2,1000*F[3], marker = 'x', color='black', label='Naměřená závislost $F$ na $Q^2$')\n",
    "\n",
    "plt.plot(x_range_f, 1000*(A2_fit[3]*x_range + B[3]) , color=\"k\", linestyle='dashed', linewidth=1, label=r'Fit: $F = 1 \\times 10^{11}Q^2 + 1.9 \\times 10^{-4}$')\n",
    "\n",
    "\n",
    "\n",
    "plt.legend(loc='upper left', fontsize=9)\n",
    "#plt.legend(fontsize=8)\n",
    "\n",
    "#popisky os\n",
    "plt.ylabel(\"$F$ [mN]\", fontsize=12)\n",
    "plt.xlabel(\"$Q^2$ [fC]\", fontsize=12)\n",
    "\n",
    "\n",
    "\n",
    "plt.savefig('a8.pdf', bbox_inches = 'tight')\n",
    "plt.show()"
   ]
  },
  {
   "cell_type": "code",
   "execution_count": 26,
   "id": "1483defb-7268-4052-b33c-bae29689106c",
   "metadata": {},
   "outputs": [
    {
     "name": "stderr",
     "output_type": "stream",
     "text": [
      "C:\\Users\\stepa\\AppData\\Local\\Temp/ipykernel_16124/2431009334.py:37: UserWarning: Matplotlib is currently using pgf, which is a non-GUI backend, so cannot show the figure.\n",
      "  plt.show()\n"
     ]
    },
    {
     "data": {
      "image/png": "[encoded data removed]",
      "text/plain": [
       "<Figure size 576x360 with 1 Axes>"
      ]
     },
     "metadata": {
      "needs_background": "light"
     },
     "output_type": "display_data"
    }
   ],
   "source": [
    "x_range = np.linspace(0,.4*(10**(-14)),500)\n",
    "x_range_f = np.linspace(0,4,500)\n",
    "\n",
    "\n",
    "plt.figure(figsize = (8,5))\n",
    "\n",
    "\n",
    "\n",
    "plt.scatter(fQ[0]**2,1000*F[0], marker = 'x', color='black', label='Měření pro $a = 5$ cm')\n",
    "\n",
    "plt.plot(x_range_f, 1000*(A2_fit[0]*x_range + B[0]) , color=\"k\", linestyle='dashed', linewidth=1, label=r'Fit: $F = 6 \\times 10^{10}Q^2 + 1.3 \\times 10^{-4}$')\n",
    "\n",
    "plt.scatter(fQ[1]**2,1000*F[1], marker = 'x', color='blue', label='Měření pro $a = 6.5$ cm')\n",
    "\n",
    "plt.plot(x_range_f, 1000*(A2_fit[1]*x_range + B[1]) , color=\"blue\", linestyle='dashed', linewidth=1, label=r'Fit: $F = 1.9 \\times 10^{11}Q^2 + 5 \\times 10^{-5}$')\n",
    "\n",
    "plt.scatter(fQ[2]**2,1000*F[2], marker = 'x', color='green', label='Měření pro $a = 7$ cm')\n",
    "\n",
    "plt.plot(x_range_f, 1000*(A2_fit[2]*x_range + B[2]) , color=\"green\", linestyle='dashed', linewidth=1, label=r'Fit: $F = 1.2 \\times 10^{11}Q^2 + 1.1 \\times 10^{-4}$')\n",
    "\n",
    "plt.scatter(fQ[3]**2,1000*F[3], marker = 'x', color='red', label='Měření pro $a = 8$ cm')\n",
    "\n",
    "plt.plot(x_range_f, 1000*(A2_fit[3]*x_range + B[3]) , color=\"red\", linestyle='dashed', linewidth=1, label=r'Fit: $F = 1 \\times 10^{11}Q^2 + 1.9 \\times 10^{-4}$')\n",
    "\n",
    "\n",
    "\n",
    "plt.legend(loc='upper left', fontsize=9)\n",
    "#plt.legend(fontsize=8)\n",
    "\n",
    "#popisky os\n",
    "plt.ylabel(\"$F$ [mN]\", fontsize=12)\n",
    "plt.xlabel(\"$Q^2$ [fC]\", fontsize=12)\n",
    "\n",
    "\n",
    "\n",
    "plt.savefig('a.pdf')\n",
    "plt.show()"
   ]
  },
  {
   "cell_type": "code",
   "execution_count": null,
   "id": "03b63da9-b4a4-431f-9e9b-14cf10eda0cd",
   "metadata": {},
   "outputs": [],
   "source": [
    "A:  [6.81532871e+10 1.98837208e+11 1.20320856e+11 1.00000000e+11]\n",
    "A_err:  [2.75220735e+10 2.49772471e+10 2.39460973e+10 6.37492454e+10]\n",
    "B:  [1.25381566e-04 5.33720945e-05 1.05647058e-04 1.90000000e-04]\n",
    "B_err:  [3.71490500e-05 2.91270361e-05 1.40774981e-05 4.29389102e-05]"
   ]
  }
 ],
 "metadata": {
  "kernelspec": {
   "display_name": "Python 3 (ipykernel)",
   "language": "python",
   "name": "python3"
  },
  "language_info": {
   "codemirror_mode": {
    "name": "ipython",
    "version": 3
   },
   "file_extension": ".py",
   "mimetype": "text/x-python",
   "name": "python",
   "nbconvert_exporter": "python",
   "pygments_lexer": "ipython3",
   "version": "3.8.7"
  }
 },
 "nbformat": 4,
 "nbformat_minor": 5
}
