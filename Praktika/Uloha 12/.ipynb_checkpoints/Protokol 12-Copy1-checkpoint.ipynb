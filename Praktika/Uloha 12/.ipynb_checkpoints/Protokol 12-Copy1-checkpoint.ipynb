{
 "cells": [
  {
   "cell_type": "code",
   "execution_count": 127,
   "id": "3e936763-98b0-4078-b1a3-577201f9d914",
   "metadata": {},
   "outputs": [],
   "source": [
    "import numpy as np\n",
    "import sympy as smp\n",
    "import matplotlib.pyplot as plt\n",
    "from scipy.optimize import curve_fit\n",
    "from tabulate import tabulate\n",
    "import matplotlib"
   ]
  },
  {
   "cell_type": "code",
   "execution_count": null,
   "id": "8249d248-0b1a-4e89-ad1f-b6ea3b68836b",
   "metadata": {},
   "outputs": [],
   "source": [
    "matplotlib.use(\"pgf\")\n",
    "matplotlib.rcParams.update({\n",
    "    \"pgf.texsystem\": \"pdflatex\",\n",
    "    'font.family': 'serif',\n",
    "    'text.usetex': True,\n",
    "    'pgf.rcfonts': False,\n",
    "})"
   ]
  },
  {
   "cell_type": "code",
   "execution_count": 235,
   "id": "4f334f97-dca5-444e-95f8-113ea5b3283f",
   "metadata": {},
   "outputs": [],
   "source": [
    "def mean(arr):\n",
    "    return np.mean(arr)\n",
    "\n",
    "def error(x):\n",
    "    return x.std() / np.sqrt(x.size)\n",
    "\n",
    "def weighted_error(x, err):\n",
    "    \n",
    "    x = np.asarray(x)\n",
    "    err = np.asarray(err)\n",
    "    \n",
    "    average = np.sum(x/(err**2))/np.sum(1/err**2)\n",
    "    \n",
    "    average_error = 1/np.sqrt(np.sum(1/err**2))\n",
    "    \n",
    "    return average, average_error\n"
   ]
  },
  {
   "cell_type": "code",
   "execution_count": 271,
   "id": "776e8d34-c780-4710-9f24-7cf0e19300d9",
   "metadata": {},
   "outputs": [],
   "source": [
    "def V_to_Q(V):\n",
    "   \n",
    "    C = 100/(10**9)\n",
    "    Q = C*V\n",
    "    \n",
    "    return Q\n",
    "\n",
    "def fit_sila_naboj(Q,A):\n",
    "    return A*(Q**2)\n",
    "\n",
    "def fit2_sila_naboj(Q,A,b):\n",
    "    return A*Q + b"
   ]
  },
  {
   "cell_type": "markdown",
   "id": "f2c71358-b393-47de-ada7-0f90dc543aad",
   "metadata": {},
   "source": [
    "U = [5,10,15,20,25]\n",
    "a = np.array([5,6.5,7,8])\n",
    "a_m = a/100\n",
    "\n",
    "F = np.array([\n",
    "    [0.08,0.2,0.25,0.36,0.42],\n",
    "    [0.05,0.14,0.27,0.35,0.45],\n",
    "    [0.1,0.16,0.22,0.32,0.39],\n",
    "    [0.06,0.14,0.22,0.34,0.42]\n",
    "])\n",
    "\n",
    "F4 = np.array([0.08,0.15,0.26,0.38])\n",
    "Q4_volt = np.array([0.02,0.6,1,1.9])\n",
    "\n",
    "Q_volt = np.array([\n",
    "    [0.1,0.2,0.4,0.6,1],\n",
    "    [0.1,0.2,0.3,0.4,0.8],\n",
    "    [0.1,0.2,0.3,0.4,0.5],\n",
    "    [0.01,0.1,0.1,0.3,0.5]\n",
    "])\n",
    "\n",
    "a_m"
   ]
  },
  {
   "cell_type": "code",
   "execution_count": 256,
   "id": "7bc69442-cfba-40bf-8625-572bcac84800",
   "metadata": {},
   "outputs": [
    {
     "data": {
      "text/plain": [
       "array([0.05 , 0.065, 0.07 , 0.08 ])"
      ]
     },
     "execution_count": 256,
     "metadata": {},
     "output_type": "execute_result"
    }
   ],
   "source": [
    "U = [5,10,15,20,25]\n",
    "a = np.array([5,6.5,7,8])\n",
    "a_m = a/100\n",
    "\n",
    "F = np.array([\n",
    "    [0.08,0.2,0.25,0.36],\n",
    "    [0.05,0.14,0.27,0.35],\n",
    "    [0.1,0.16,0.22,0.32],\n",
    "    [0.06,0.14,0.22,0.34]\n",
    "])\n",
    "\n",
    "F4 = np.array([0.08,0.15,0.26,0.38])\n",
    "Q4_volt = np.array([0.02,0.6,1,1.9])\n",
    "\n",
    "Q_volt = np.array([\n",
    "    [0.1,0.2,0.4,0.6],\n",
    "    [0.1,0.2,0.3,0.4],\n",
    "    [0.1,0.2,0.3,0.4],\n",
    "    [0.01,0.1,0.1,0.3]\n",
    "])\n",
    "\n",
    "a_m"
   ]
  },
  {
   "cell_type": "code",
   "execution_count": 257,
   "id": "10ff51ef-3092-46ba-9942-494618e61111",
   "metadata": {},
   "outputs": [
    {
     "data": {
      "text/plain": [
       "array([[8.0e-05, 2.0e-04, 2.5e-04, 3.6e-04],\n",
       "       [5.0e-05, 1.4e-04, 2.7e-04, 3.5e-04],\n",
       "       [1.0e-04, 1.6e-04, 2.2e-04, 3.2e-04],\n",
       "       [6.0e-05, 1.4e-04, 2.2e-04, 3.4e-04]])"
      ]
     },
     "execution_count": 257,
     "metadata": {},
     "output_type": "execute_result"
    }
   ],
   "source": [
    "F = F/(10**3)\n",
    "F4 = F4/(10**3)\n",
    "F"
   ]
  },
  {
   "cell_type": "code",
   "execution_count": 258,
   "id": "4d0a778c-bb85-4500-9cb4-ac8ae2c21306",
   "metadata": {},
   "outputs": [
    {
     "data": {
      "text/plain": [
       "array([[1.e-08, 2.e-08, 4.e-08, 6.e-08],\n",
       "       [1.e-08, 2.e-08, 3.e-08, 4.e-08],\n",
       "       [1.e-08, 2.e-08, 3.e-08, 4.e-08],\n",
       "       [1.e-09, 1.e-08, 1.e-08, 3.e-08]])"
      ]
     },
     "execution_count": 258,
     "metadata": {},
     "output_type": "execute_result"
    }
   ],
   "source": [
    "Q = V_to_Q(Q_volt)\n",
    "Q4 = V_to_Q(Q4_volt)\n",
    "\n",
    "Q"
   ]
  },
  {
   "cell_type": "code",
   "execution_count": 259,
   "id": "f2f146ac-441b-4d7f-aea6-29529e67b223",
   "metadata": {},
   "outputs": [
    {
     "name": "stdout",
     "output_type": "stream",
     "text": [
      "[[8.00000000e+11 5.00000000e+11 1.56250000e+11 1.00000000e+11]\n",
      " [5.00000000e+11 3.50000000e+11 3.00000000e+11 2.18750000e+11]\n",
      " [1.00000000e+12 4.00000000e+11 2.44444444e+11 2.00000000e+11]\n",
      " [6.00000000e+13 1.40000000e+12 2.20000000e+12 3.77777778e+11]]\n",
      "[389062500000.0, 342187500000.0, 461111111111.11115, 15994444444444.443]\n",
      "[141185947174.94904, 51224031149.329704, 159933435227.60867, 12707413445759.975]\n"
     ]
    }
   ],
   "source": [
    "A_spoct = F/(Q**2)\n",
    "print(A_spoct)\n",
    "\n",
    "A_prumer = [mean(A_spoct[i]) for i in range(4)]\n",
    "A_chyba = [error(A_spoct[i]) for i in range(4)]\n",
    "print(A_prumer)\n",
    "print(A_chyba)"
   ]
  },
  {
   "cell_type": "code",
   "execution_count": 260,
   "id": "a9d42efc-fe9a-406e-8b9b-20ba46f3d7f0",
   "metadata": {},
   "outputs": [
    {
     "name": "stdout",
     "output_type": "stream",
     "text": [
      "[113702995600.93211, 244067796570.42725, 221468926634.8116, 412119985405.1421]\n",
      "[27522073528.07142, 24977247119.81093, 34674110661.71389, 136258349807.93298]\n"
     ]
    }
   ],
   "source": [
    "A_fit = []\n",
    "A_fit_err = []\n",
    "\n",
    "for i in range(4):\n",
    "    params, err = curve_fit(fit_sila_naboj, Q[i], F[i], p0 = [1000000000000])\n",
    "\n",
    "    A_err = np.sqrt(np.diag(err))\n",
    "    A, = params\n",
    "    \n",
    "    A_fit.append(A)\n",
    "    A_fit_err.append(A_err[0])\n",
    "\n",
    "\n",
    "print(A_fit)\n",
    "print(A_fit_err)"
   ]
  },
  {
   "cell_type": "code",
   "execution_count": 276,
   "id": "dfa370db-e17e-4809-804a-fe73b1881d1a",
   "metadata": {},
   "outputs": [
    {
     "name": "stdout",
     "output_type": "stream",
     "text": [
      "[68153287141.55417, 198837207952.2471, 142635658884.76526, 252148801454.93253]\n",
      "[0.00012538156574541258, 5.337209450144947e-05, 9.302325584931106e-05, 0.00012059604251425051]\n",
      "[18757123580.16367, 30961689751.936893, 7751937966.20678, 93922825010.01056]\n"
     ]
    }
   ],
   "source": [
    "A2_fit = []\n",
    "A2_fit_err = []\n",
    "B = []\n",
    "\n",
    "for i in range(4):\n",
    "    params, err = curve_fit(fit2_sila_naboj, Q[i]**2, F[i],p0 = [900000000000000,0])\n",
    "\n",
    "    A2_err, b_err = np.sqrt(np.diag(err))\n",
    "    A2, b = params\n",
    "    \n",
    "    A2_fit.append(A2)\n",
    "    A2_fit_err.append(A2_err)\n",
    "    B.append(b)\n",
    " \n",
    "\n",
    "print(A2_fit)\n",
    "print(B)\n",
    "print(A2_fit_err)"
   ]
  },
  {
   "cell_type": "code",
   "execution_count": 277,
   "id": "37029770-e112-4e56-bab8-4a8b3f60e7bb",
   "metadata": {},
   "outputs": [
    {
     "data": {
      "image/png": "[encoded data removed]",
      "text/plain": [
       "<Figure size 576x360 with 1 Axes>"
      ]
     },
     "metadata": {
      "needs_background": "light"
     },
     "output_type": "display_data"
    }
   ],
   "source": [
    "x_range = np.linspace(0,0.4*(10**(-14)),500)\n",
    "\n",
    "plt.figure(figsize = (8,5))\n",
    "\n",
    "plt.scatter(Q[0]**2,F[0], marker = 'x', color='black', label='Naměřené hodnoty síly')\n",
    "plt.scatter(Q[1]**2,F[1], marker = '*', color='blue', label='Naměřené hodnoty síly')\n",
    "plt.scatter(Q[2]**2,F[2], marker = '.', color='green', label='Naměřené hodnoty síly')\n",
    "plt.scatter(Q[3]**2,F[3], marker = '+', color='red', label='Naměřené hodnoty síly')\n",
    "\n",
    "\n",
    "#plt.plot(x_range, fit_sila_naboj(x_range,A_fit[0]) , color=\"k\", linestyle='dashed', linewidth=1, label='Fit')\n",
    "plt.plot(x_range, A2_fit[0]*x_range + B[0] , color=\"k\", linestyle='dashed', linewidth=1, label='Fit')\n",
    "plt.plot(x_range, A2_fit[1]*x_range + B[1] , color=\"b\", linestyle='dashed', linewidth=1, label='Fit')\n",
    "plt.plot(x_range, A2_fit[2]*x_range + B[2], color=\"g\", linestyle='dashed', linewidth=1, label='Fit')\n",
    "plt.plot(x_range, A2_fit[3]*x_range + B[3], color=\"r\", linestyle='dashed', linewidth=1, label='Fit')\n",
    "\n",
    "plt.legend(loc='upper left', fontsize=8)\n",
    "#plt.legend(fontsize=8)\n",
    "\n",
    "#popisky os\n",
    "plt.ylabel(\"$F$ [N]\", fontsize=12)\n",
    "plt.xlabel(\"$Q^2$ [fC]\", fontsize=12)\n",
    "\n",
    "\n",
    "\n",
    "plt.savefig('a4.pdf')\n",
    "plt.show()\n"
   ]
  },
  {
   "cell_type": "code",
   "execution_count": 278,
   "id": "81d87760-8ad4-43a8-8b8c-5697cbfb3dd2",
   "metadata": {},
   "outputs": [
    {
     "data": {
      "image/png": "[encoded data removed]",
      "text/plain": [
       "<Figure size 576x360 with 1 Axes>"
      ]
     },
     "metadata": {
      "needs_background": "light"
     },
     "output_type": "display_data"
    }
   ],
   "source": [
    "#x_range = np.linspace(0,1.2*(10**(-14)),500)\n",
    "\n",
    "plt.figure(figsize = (8,5))\n",
    "\n",
    "plt.scatter(1/a_m**2,A2_fit, marker = 'x', color='black', label='Naměřené hodnoty síly')\n",
    "\n",
    "\n",
    "#plt.plot(x_range, fit_sila_naboj(x_range,A_fit[0]) , color=\"k\", linestyle='dashed', linewidth=1, label='Fit')\n",
    "#plt.plot(x_range, A2_fit[1]*x_range , color=\"k\", linestyle='dashed', linewidth=1, label='Fit')\n",
    "\n",
    "#plt.legend(loc='upper left', fontsize=8)\n",
    "#plt.legend(fontsize=8)\n",
    "\n",
    "#popisky os\n",
    "plt.ylabel(\"$A$ []\", fontsize=12)\n",
    "plt.xlabel(\"$1/a^2$ [m^{-2}]\", fontsize=12)\n",
    "\n",
    "\n",
    "\n",
    "plt.savefig('A_a.pdf')\n",
    "plt.show()\n"
   ]
  },
  {
   "cell_type": "code",
   "execution_count": null,
   "id": "114bf8e6-35d2-4102-a148-01af0202df40",
   "metadata": {},
   "outputs": [],
   "source": []
  }
 ],
 "metadata": {
  "kernelspec": {
   "display_name": "Python 3 (ipykernel)",
   "language": "python",
   "name": "python3"
  },
  "language_info": {
   "codemirror_mode": {
    "name": "ipython",
    "version": 3
   },
   "file_extension": ".py",
   "mimetype": "text/x-python",
   "name": "python",
   "nbconvert_exporter": "python",
   "pygments_lexer": "ipython3",
   "version": "3.8.7"
  }
 },
 "nbformat": 4,
 "nbformat_minor": 5
}
