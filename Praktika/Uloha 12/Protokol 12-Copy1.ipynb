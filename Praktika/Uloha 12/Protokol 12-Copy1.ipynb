{
 "cells": [
  {
   "cell_type": "code",
   "execution_count": 2,
   "id": "3e936763-98b0-4078-b1a3-577201f9d914",
   "metadata": {},
   "outputs": [],
   "source": [
    "import numpy as np\n",
    "import sympy as smp\n",
    "import matplotlib.pyplot as plt\n",
    "from scipy.optimize import curve_fit\n",
    "from tabulate import tabulate\n",
    "import matplotlib"
   ]
  },
  {
   "cell_type": "code",
   "execution_count": null,
   "id": "8249d248-0b1a-4e89-ad1f-b6ea3b68836b",
   "metadata": {},
   "outputs": [],
   "source": [
    "matplotlib.use(\"pgf\")\n",
    "matplotlib.rcParams.update({\n",
    "    \"pgf.texsystem\": \"pdflatex\",\n",
    "    'font.family': 'serif',\n",
    "    'text.usetex': True,\n",
    "    'pgf.rcfonts': False,\n",
    "})"
   ]
  },
  {
   "cell_type": "code",
   "execution_count": 3,
   "id": "4f334f97-dca5-444e-95f8-113ea5b3283f",
   "metadata": {},
   "outputs": [],
   "source": [
    "def mean(arr):\n",
    "    return np.mean(arr)\n",
    "\n",
    "def error(x):\n",
    "    return x.std() / np.sqrt(x.size)\n",
    "\n",
    "def weighted_error(x, err):\n",
    "    \n",
    "    x = np.asarray(x)\n",
    "    err = np.asarray(err)\n",
    "    \n",
    "    average = np.sum(x/(err**2))/np.sum(1/err**2)\n",
    "    \n",
    "    average_error = 1/np.sqrt(np.sum(1/err**2))\n",
    "    \n",
    "    return average, average_error\n"
   ]
  },
  {
   "cell_type": "code",
   "execution_count": 4,
   "id": "776e8d34-c780-4710-9f24-7cf0e19300d9",
   "metadata": {},
   "outputs": [],
   "source": [
    "def V_to_Q(V):\n",
    "   \n",
    "    C = 100/(10**9)\n",
    "    Q = C*V\n",
    "    \n",
    "    return Q\n",
    "\n",
    "def fit_sila_naboj(Q,A):\n",
    "    return A*(Q**2)\n",
    "\n",
    "def fit2_sila_naboj(Q,A,b):\n",
    "    return A*Q + b"
   ]
  },
  {
   "cell_type": "markdown",
   "id": "f2c71358-b393-47de-ada7-0f90dc543aad",
   "metadata": {},
   "source": [
    "U = [5,10,15,20,25]\n",
    "a = np.array([5,6.5,7,8])\n",
    "a_m = a/100\n",
    "\n",
    "F = np.array([\n",
    "    [0.08,0.2,0.25,0.36,0.42],\n",
    "    [0.05,0.14,0.27,0.35,0.45],\n",
    "    [0.1,0.16,0.22,0.32,0.39],\n",
    "    [0.06,0.14,0.22,0.34,0.42]\n",
    "])\n",
    "\n",
    "F4 = np.array([0.08,0.15,0.26,0.38])\n",
    "Q4_volt = np.array([0.02,0.6,1,1.9])\n",
    "\n",
    "Q_volt = np.array([\n",
    "    [0.1,0.2,0.4,0.6,1],\n",
    "    [0.1,0.2,0.3,0.4,0.8],\n",
    "    [0.1,0.2,0.3,0.4,0.5],\n",
    "    [0.01,0.1,0.1,0.3,0.5]\n",
    "])\n",
    "\n",
    "a_m"
   ]
  },
  {
   "cell_type": "code",
   "execution_count": 5,
   "id": "7bc69442-cfba-40bf-8625-572bcac84800",
   "metadata": {},
   "outputs": [
    {
     "data": {
      "text/plain": [
       "array([0.05 , 0.055, 0.065, 0.07 ])"
      ]
     },
     "execution_count": 5,
     "metadata": {},
     "output_type": "execute_result"
    }
   ],
   "source": [
    "U = [5,10,15,20,25]\n",
    "a = np.array([5,5.5,6.5,7])\n",
    "a_m = a/100\n",
    "\n",
    "F = np.array([\n",
    "    [0.1,0.2,0.4,0.5,0.6],\n",
    "    [0.1,0.2,0.4,0.6,0.9],\n",
    "    [0.1,0.2,0.4,0.6,0.8],\n",
    "    [0.1,0.1,0.2,0.2,0.3]\n",
    "])\n",
    "\n",
    "F4 = np.array([0.08,0.15,0.26,0.38])\n",
    "Q4_volt = np.array([0.02,0.6,1,1.9])\n",
    "\n",
    "Q_volt = np.array([\n",
    "    [0.07,0.11,0.15,0.23,0.32],\n",
    "    [0.07,0.16,0.21,0.24,0.29],\n",
    "    [0.04,0.13,0.19,0.27,0.3],\n",
    "    [0.13,0.13,0.18,0.2,0.28]\n",
    "])\n",
    "\n",
    "a_m"
   ]
  },
  {
   "cell_type": "code",
   "execution_count": 6,
   "id": "10ff51ef-3092-46ba-9942-494618e61111",
   "metadata": {},
   "outputs": [
    {
     "data": {
      "text/plain": [
       "array([[0.0001, 0.0002, 0.0004, 0.0005, 0.0006],\n",
       "       [0.0001, 0.0002, 0.0004, 0.0006, 0.0009],\n",
       "       [0.0001, 0.0002, 0.0004, 0.0006, 0.0008],\n",
       "       [0.0001, 0.0001, 0.0002, 0.0002, 0.0003]])"
      ]
     },
     "execution_count": 6,
     "metadata": {},
     "output_type": "execute_result"
    }
   ],
   "source": [
    "F = F/(10**3)\n",
    "F4 = F4/(10**3)\n",
    "F"
   ]
  },
  {
   "cell_type": "code",
   "execution_count": 7,
   "id": "4d0a778c-bb85-4500-9cb4-ac8ae2c21306",
   "metadata": {},
   "outputs": [
    {
     "data": {
      "text/plain": [
       "array([[7.0e-09, 1.1e-08, 1.5e-08, 2.3e-08, 3.2e-08],\n",
       "       [7.0e-09, 1.6e-08, 2.1e-08, 2.4e-08, 2.9e-08],\n",
       "       [4.0e-09, 1.3e-08, 1.9e-08, 2.7e-08, 3.0e-08],\n",
       "       [1.3e-08, 1.3e-08, 1.8e-08, 2.0e-08, 2.8e-08]])"
      ]
     },
     "execution_count": 7,
     "metadata": {},
     "output_type": "execute_result"
    }
   ],
   "source": [
    "Q = V_to_Q(Q_volt)\n",
    "Q4 = V_to_Q(Q4_volt)\n",
    "\n",
    "Q"
   ]
  },
  {
   "cell_type": "code",
   "execution_count": 8,
   "id": "f2f146ac-441b-4d7f-aea6-29529e67b223",
   "metadata": {},
   "outputs": [
    {
     "name": "stdout",
     "output_type": "stream",
     "text": [
      "[[2.04081633e+12 1.65289256e+12 1.77777778e+12 9.45179584e+11\n",
      "  5.85937500e+11]\n",
      " [2.04081633e+12 7.81250000e+11 9.07029478e+11 1.04166667e+12\n",
      "  1.07015458e+12]\n",
      " [6.25000000e+12 1.18343195e+12 1.10803324e+12 8.23045267e+11\n",
      "  8.88888889e+11]\n",
      " [5.91715976e+11 5.91715976e+11 6.17283951e+11 5.00000000e+11\n",
      "  3.82653061e+11]]\n",
      "[1400520750082.5688, 1168183409907.7603, 2050679870007.7104, 536673792900.8991]\n",
      "[243874908126.3456, 200501689271.34457, 940889710276.2058, 38794140955.830025]\n"
     ]
    }
   ],
   "source": [
    "A_spoct = F/(Q**2)\n",
    "print(A_spoct)\n",
    "\n",
    "A_prumer = [mean(A_spoct[i]) for i in range(4)]\n",
    "A_chyba = [error(A_spoct[i]) for i in range(4)]\n",
    "print(A_prumer)\n",
    "print(A_chyba)"
   ]
  },
  {
   "cell_type": "code",
   "execution_count": 9,
   "id": "a9d42efc-fe9a-406e-8b9b-20ba46f3d7f0",
   "metadata": {},
   "outputs": [
    {
     "name": "stdout",
     "output_type": "stream",
     "text": [
      "[714856698287.4338, 1025759234739.6005, 891122693441.0526, 441738172415.48737]\n",
      "[138145853392.6695, 45148037545.80372, 55352865347.360664, 43861859062.356735]\n"
     ]
    }
   ],
   "source": [
    "A_fit = []\n",
    "A_fit_err = []\n",
    "\n",
    "for i in range(4):\n",
    "    params, err = curve_fit(fit_sila_naboj, Q[i], F[i], p0 = [1000000000000])\n",
    "\n",
    "    A_err = np.sqrt(np.diag(err))\n",
    "    A, = params\n",
    "    \n",
    "    A_fit.append(A)\n",
    "    A_fit_err.append(A_err[0])\n",
    "\n",
    "\n",
    "print(A_fit)\n",
    "print(A_fit_err)"
   ]
  },
  {
   "cell_type": "code",
   "execution_count": 10,
   "id": "dfa370db-e17e-4809-804a-fe73b1881d1a",
   "metadata": {},
   "outputs": [
    {
     "name": "stdout",
     "output_type": "stream",
     "text": [
      "[465703787424.07404, 1047896819523.219, 764175206527.9222, 319422217832.0699]\n",
      "[0.00017856180441957998, -1.3320163279460266e-05, 8.758378529776024e-05, 6.206931734373151e-05]\n",
      "[133010019558.57346, 97177235139.36786, 50362766945.820946, 50605241783.79364]\n"
     ]
    }
   ],
   "source": [
    "A2_fit = []\n",
    "A2_fit_err = []\n",
    "B = []\n",
    "\n",
    "for i in range(4):\n",
    "    params, err = curve_fit(fit2_sila_naboj, Q[i]**2, F[i],p0 = [900000000000000,0])\n",
    "\n",
    "    A2_err, b_err = np.sqrt(np.diag(err))\n",
    "    A2, b = params\n",
    "    \n",
    "    A2_fit.append(A2)\n",
    "    A2_fit_err.append(A2_err)\n",
    "    B.append(b)\n",
    " \n",
    "\n",
    "print(A2_fit)\n",
    "print(B)\n",
    "print(A2_fit_err)"
   ]
  },
  {
   "cell_type": "code",
   "execution_count": 11,
   "id": "37029770-e112-4e56-bab8-4a8b3f60e7bb",
   "metadata": {},
   "outputs": [
    {
     "data": {
      "image/png": "[encoded data removed]",
      "text/plain": [
       "<Figure size 576x360 with 1 Axes>"
      ]
     },
     "metadata": {
      "needs_background": "light"
     },
     "output_type": "display_data"
    }
   ],
   "source": [
    "x_range = np.linspace(0,0.4*(10**(-14)),500)\n",
    "\n",
    "plt.figure(figsize = (8,5))\n",
    "\n",
    "plt.scatter(Q[0]**2,F[0], marker = 'x', color='black', label='Naměřené hodnoty síly')\n",
    "plt.scatter(Q[1]**2,F[1], marker = '*', color='blue', label='Naměřené hodnoty síly')\n",
    "plt.scatter(Q[2]**2,F[2], marker = '.', color='green', label='Naměřené hodnoty síly')\n",
    "plt.scatter(Q[3]**2,F[3], marker = '+', color='red', label='Naměřené hodnoty síly')\n",
    "\n",
    "\n",
    "#plt.plot(x_range, fit_sila_naboj(x_range,A_fit[0]) , color=\"k\", linestyle='dashed', linewidth=1, label='Fit')\n",
    "plt.plot(x_range, A2_fit[0]*x_range + B[0] , color=\"k\", linestyle='dashed', linewidth=1, label='Fit')\n",
    "plt.plot(x_range, A2_fit[1]*x_range + B[1] , color=\"b\", linestyle='dashed', linewidth=1, label='Fit')\n",
    "plt.plot(x_range, A2_fit[2]*x_range + B[2], color=\"g\", linestyle='dashed', linewidth=1, label='Fit')\n",
    "plt.plot(x_range, A2_fit[3]*x_range + B[3], color=\"r\", linestyle='dashed', linewidth=1, label='Fit')\n",
    "\n",
    "plt.legend(loc='upper left', fontsize=8)\n",
    "#plt.legend(fontsize=8)\n",
    "\n",
    "#popisky os\n",
    "plt.ylabel(\"$F$ [N]\", fontsize=12)\n",
    "plt.xlabel(\"$Q^2$ [fC]\", fontsize=12)\n",
    "\n",
    "\n",
    "\n",
    "plt.savefig('a4.pdf')\n",
    "plt.show()\n"
   ]
  },
  {
   "cell_type": "code",
   "execution_count": 278,
   "id": "81d87760-8ad4-43a8-8b8c-5697cbfb3dd2",
   "metadata": {},
   "outputs": [
    {
     "data": {
      "image/png": "[encoded data removed]",
      "text/plain": [
       "<Figure size 576x360 with 1 Axes>"
      ]
     },
     "metadata": {
      "needs_background": "light"
     },
     "output_type": "display_data"
    }
   ],
   "source": [
    "#x_range = np.linspace(0,1.2*(10**(-14)),500)\n",
    "\n",
    "plt.figure(figsize = (8,5))\n",
    "\n",
    "plt.scatter(1/a_m**2,A2_fit, marker = 'x', color='black', label='Naměřené hodnoty síly')\n",
    "\n",
    "\n",
    "#plt.plot(x_range, fit_sila_naboj(x_range,A_fit[0]) , color=\"k\", linestyle='dashed', linewidth=1, label='Fit')\n",
    "#plt.plot(x_range, A2_fit[1]*x_range , color=\"k\", linestyle='dashed', linewidth=1, label='Fit')\n",
    "\n",
    "#plt.legend(loc='upper left', fontsize=8)\n",
    "#plt.legend(fontsize=8)\n",
    "\n",
    "#popisky os\n",
    "plt.ylabel(\"$A$ []\", fontsize=12)\n",
    "plt.xlabel(\"$1/a^2$ [m^{-2}]\", fontsize=12)\n",
    "\n",
    "\n",
    "\n",
    "plt.savefig('A_a.pdf')\n",
    "plt.show()\n"
   ]
  },
  {
   "cell_type": "code",
   "execution_count": null,
   "id": "114bf8e6-35d2-4102-a148-01af0202df40",
   "metadata": {},
   "outputs": [],
   "source": []
  }
 ],
 "metadata": {
  "kernelspec": {
   "display_name": "Python 3 (ipykernel)",
   "language": "python",
   "name": "python3"
  },
  "language_info": {
   "codemirror_mode": {
    "name": "ipython",
    "version": 3
   },
   "file_extension": ".py",
   "mimetype": "text/x-python",
   "name": "python",
   "nbconvert_exporter": "python",
   "pygments_lexer": "ipython3",
   "version": "3.8.7"
  }
 },
 "nbformat": 4,
 "nbformat_minor": 5
}
