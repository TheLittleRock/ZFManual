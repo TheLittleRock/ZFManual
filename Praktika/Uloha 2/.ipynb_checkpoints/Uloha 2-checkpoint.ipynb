{
 "cells": [
  {
   "cell_type": "code",
   "execution_count": null,
   "id": "72fbf207-5516-4362-b473-f4a860e5d4b0",
   "metadata": {},
   "outputs": [],
   "source": [
    "import numpy as np\n",
    "import sympy as smp\n",
    "import matplotlib.pyplot as plt\n",
    "from scipy.optimize import curve_fit\n",
    "from scipy.integrate import cumulative_trapezoid\n",
    "from tabulate import tabulate\n",
    "import matplotlib\n",
    "import piecewise_regression\n",
    "import json"
   ]
  },
  {
   "cell_type": "code",
   "execution_count": null,
   "id": "7c2a5ddb-fc92-4e32-a733-357b54ddbecd",
   "metadata": {},
   "outputs": [],
   "source": [
    "def mean(arr):\n",
    "    return np.mean(arr)\n",
    "\n",
    "def error(x):\n",
    "    return x.std() / np.sqrt(x.size)\n",
    "\n",
    "def weighted_error(x, err):\n",
    "    \n",
    "    x = np.asarray(x)\n",
    "    err = np.asarray(err)\n",
    "    \n",
    "    average = np.sum(x/(err**2))/np.sum(1/err**2)\n",
    "    \n",
    "    average_error = 1/np.sqrt(np.sum(1/err**2))\n",
    "    \n",
    "    return average, average_error\n",
    "\n",
    "def decimal(x):\n",
    "    return x.replace(',', '.').encode()\n"
   ]
  },
  {
   "cell_type": "markdown",
   "id": "e419a737-b0e9-441b-9e6b-2fee376e892b",
   "metadata": {},
   "source": [
    "# UKOL 1"
   ]
  },
  {
   "cell_type": "code",
   "execution_count": null,
   "id": "e4f3adf8-6b35-45dd-bee6-1474e9b37c71",
   "metadata": {},
   "outputs": [],
   "source": [
    "d = 5.7\n",
    "r = d/2\n",
    "r_m = r/100\n",
    "\n",
    "m_disk = 1427 ##pm1\n",
    "m_prstenec = 1427 ##+-1\n",
    "m_zavazi = 199.38 ##+-0.02\n",
    "\n",
    "## r kladky = 5.06cm"
   ]
  },
  {
   "cell_type": "markdown",
   "id": "7d583e8a-fadd-4734-87ef-44a81f940097",
   "metadata": {},
   "source": [
    "## Disk"
   ]
  },
  {
   "cell_type": "code",
   "execution_count": null,
   "id": "0e7203c0-982f-4ca4-b069-6b9c619f8dd5",
   "metadata": {},
   "outputs": [],
   "source": [
    "a1 = np.array[3.11,3.14,3.12,3.09,3.15,3.13,3.16,3.15,3.15,3.15]"
   ]
  },
  {
   "cell_type": "markdown",
   "id": "9d2ce537-9bd0-4e52-83fa-52feb2a9f3dd",
   "metadata": {},
   "source": [
    "# Disk a prstenec"
   ]
  },
  {
   "cell_type": "code",
   "execution_count": null,
   "id": "7c278eec-e02a-46f9-b541-f0e4023de423",
   "metadata": {},
   "outputs": [],
   "source": [
    "a2 = np.array[2.03,2.03,1.97,2.03,2.05,2.03,2,2.05,2.03,2.05]"
   ]
  },
  {
   "cell_type": "code",
   "execution_count": null,
   "id": "d40a7db6-9e40-4800-b011-86db3dc22291",
   "metadata": {},
   "outputs": [],
   "source": []
  },
  {
   "cell_type": "markdown",
   "id": "cf2a5e2a-bfb3-470c-8b74-a73e8b6b4f96",
   "metadata": {},
   "source": [
    "# UKOL 2"
   ]
  },
  {
   "cell_type": "markdown",
   "id": "9eafd8f6-07a2-4629-a890-2f9357b3de1f",
   "metadata": {},
   "source": [
    "## DATA"
   ]
  },
  {
   "cell_type": "code",
   "execution_count": null,
   "id": "4dab5064-24e8-4e21-a1ec-5cdfcf5a9ead",
   "metadata": {},
   "outputs": [],
   "source": [
    "##### zrychleni drahy #####\n",
    "a3 = np.array([2.4,2.42,2.37,2.43,2.38,2.39,2.37,2.42,2.38,2.41])\n",
    "##### zrycheni draha + kotouc #####\n",
    "a4 = np.array([0.523,0.519,0.512,0.516,0.514,0.516,0.514,0.517,0.518,0.516])\n",
    "#### vyzdalenost disku od osy ######\n",
    "l = [15,0.2] #cm 15+-0.2 cm"
   ]
  },
  {
   "cell_type": "code",
   "execution_count": null,
   "id": "bedd861f-c093-49ab-b605-ae3005c61aef",
   "metadata": {},
   "outputs": [],
   "source": []
  },
  {
   "cell_type": "markdown",
   "id": "9f29b188-f647-4c05-8f9f-02c743541a9b",
   "metadata": {},
   "source": [
    "# UKOL 3"
   ]
  },
  {
   "cell_type": "code",
   "execution_count": null,
   "id": "28e7bb25-d87c-4848-b0d7-5cdb88198acc",
   "metadata": {},
   "outputs": [],
   "source": [
    "#### zrychleni krajni polohy #####\n",
    "a5 = np.array([0.784,0.767,0.758,0.768,0.783,0.780,0.786,0.784,0.777,0.769])\n",
    "##### zrycheni stredni polohy #####\n",
    "a6 = np.array([1.84,1.85,1.83,1.82,1.82,1.84,1.84,1.85,1.83,1.85])"
   ]
  },
  {
   "cell_type": "code",
   "execution_count": null,
   "id": "111c2f7b-4d75-4255-bad9-80789f1c1844",
   "metadata": {},
   "outputs": [],
   "source": []
  },
  {
   "cell_type": "code",
   "execution_count": null,
   "id": "9485c54c-ca95-4dc7-b5f6-adf3a937488a",
   "metadata": {},
   "outputs": [],
   "source": [
    "velocity1 = [-0.2,-0.309,-0.231,-0.207,-0,240,-0.183,-0.251,-0.208,-0.185,-0.222]\n",
    "velocity2 = [-29.739,-21.821,-26.181,-26.744,-35.536,-34.450,-31.729,-26.972,-36.733,-24.504]"
   ]
  },
  {
   "cell_type": "code",
   "execution_count": null,
   "id": "cba44996-64d8-4c7e-a518-a6bb7f4995dd",
   "metadata": {},
   "outputs": [],
   "source": []
  }
 ],
 "metadata": {
  "kernelspec": {
   "display_name": "Python 3 (ipykernel)",
   "language": "python",
   "name": "python3"
  },
  "language_info": {
   "codemirror_mode": {
    "name": "ipython",
    "version": 3
   },
   "file_extension": ".py",
   "mimetype": "text/x-python",
   "name": "python",
   "nbconvert_exporter": "python",
   "pygments_lexer": "ipython3",
   "version": "3.8.7"
  }
 },
 "nbformat": 4,
 "nbformat_minor": 5
}
