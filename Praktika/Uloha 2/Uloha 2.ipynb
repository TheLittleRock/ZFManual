{
 "cells": [
  {
   "cell_type": "code",
   "execution_count": 132,
   "id": "72fbf207-5516-4362-b473-f4a860e5d4b0",
   "metadata": {},
   "outputs": [],
   "source": [
    "import numpy as np\n",
    "import sympy as smp\n",
    "import matplotlib.pyplot as plt\n",
    "from scipy.optimize import curve_fit\n",
    "from scipy.integrate import cumulative_trapezoid\n",
    "from tabulate import tabulate\n",
    "import matplotlib\n",
    "import piecewise_regression\n",
    "import json"
   ]
  },
  {
   "cell_type": "code",
   "execution_count": 133,
   "id": "7c2a5ddb-fc92-4e32-a733-357b54ddbecd",
   "metadata": {},
   "outputs": [],
   "source": [
    "def mean(arr):\n",
    "    return np.mean(arr)\n",
    "\n",
    "def error(x):\n",
    "    return x.std() / np.sqrt(x.size)\n",
    "\n",
    "def weighted_error(x, err):\n",
    "    \n",
    "    x = np.asarray(x)\n",
    "    err = np.asarray(err)\n",
    "    \n",
    "    average = np.sum(x/(err**2))/np.sum(1/err**2)\n",
    "    \n",
    "    average_error = 1/np.sqrt(np.sum(1/err**2))\n",
    "    \n",
    "    return average, average_error\n",
    "\n",
    "def decimal(x):\n",
    "    return x.replace(',', '.').encode()\n"
   ]
  },
  {
   "cell_type": "code",
   "execution_count": 187,
   "id": "f0bb17c0-9ed5-425e-989e-8f774ad831be",
   "metadata": {},
   "outputs": [],
   "source": [
    "matplotlib.use(\"pgf\")\n",
    "matplotlib.rcParams.update({\n",
    "    \"pgf.texsystem\": \"pdflatex\",\n",
    "    'font.family': 'serif',\n",
    "    'text.usetex': True,\n",
    "    'pgf.rcfonts': False,\n",
    "})"
   ]
  },
  {
   "cell_type": "code",
   "execution_count": 134,
   "id": "93ec284c-cf02-4df6-9329-a4ad2704eed1",
   "metadata": {},
   "outputs": [],
   "source": [
    "def I_f(r,m,eps):\n",
    "    return r*m*(9.81/eps - r)\n",
    "\n",
    "def sI_f(r,sr,m,sm,eps,seps):\n",
    "    return np.sqrt(r**2*(9.81/eps - r)**2*sm**2 + (9.81*m*r/eps**2)**2*seps**2 + (9.81*m/eps - 2*m*r)**2*sr**2)"
   ]
  },
  {
   "cell_type": "code",
   "execution_count": 135,
   "id": "4ab6bc6c-c711-4da3-b6f1-d05ed2179461",
   "metadata": {},
   "outputs": [],
   "source": [
    "def load(name):\n",
    "    t,pos = np.genfromtxt((decimal(x) for x in open(name)),unpack = True, skip_header=2)\n",
    "    return t, pos"
   ]
  },
  {
   "cell_type": "markdown",
   "id": "e419a737-b0e9-441b-9e6b-2fee376e892b",
   "metadata": {},
   "source": [
    "# UKOL 1"
   ]
  },
  {
   "cell_type": "code",
   "execution_count": 45,
   "id": "e4f3adf8-6b35-45dd-bee6-1474e9b37c71",
   "metadata": {},
   "outputs": [
    {
     "data": {
      "text/plain": [
       "0.015"
      ]
     },
     "execution_count": 45,
     "metadata": {},
     "output_type": "execute_result"
    }
   ],
   "source": [
    "d = 5.7\n",
    "r = d/2\n",
    "r_m = 0.015\n",
    "\n",
    "m_disk = 1427 ##pm1\n",
    "m_prstenec = 1427 ##+-1\n",
    "m_zavazi = 199.38 ##+-0.02\n",
    "\n",
    "## r kladky = 5.06cm\n",
    "r_m"
   ]
  },
  {
   "cell_type": "markdown",
   "id": "7d583e8a-fadd-4734-87ef-44a81f940097",
   "metadata": {},
   "source": [
    "## Disk"
   ]
  },
  {
   "cell_type": "code",
   "execution_count": 67,
   "id": "0e7203c0-982f-4ca4-b069-6b9c619f8dd5",
   "metadata": {},
   "outputs": [
    {
     "name": "stdout",
     "output_type": "stream",
     "text": [
      "3.135 +- 0.0066708320320631774\n"
     ]
    }
   ],
   "source": [
    "a1 = np.array([3.11,3.14,3.12,3.09,3.15,3.13,3.16,3.15,3.15,3.15])\n",
    "eps = mean(a1)\n",
    "seps = error(a1)\n",
    "print('{} +- {}'.format(eps, seps))"
   ]
  },
  {
   "cell_type": "code",
   "execution_count": 68,
   "id": "8070f65a-c6a5-422c-8292-bcddbf6f025d",
   "metadata": {},
   "outputs": [
    {
     "name": "stdout",
     "output_type": "stream",
     "text": [
      "9.313597873205742 +- 0.61830720199329\n"
     ]
    }
   ],
   "source": [
    "######## I namerena #######\n",
    "\n",
    "I1 = I_f(r_m, m_zavazi, eps)\n",
    "sI1 = sI_f(r_m, 0.001, m_zavazi, 0.2, eps, seps)\n",
    "print('{} +- {}'.format(I1, sI1))"
   ]
  },
  {
   "cell_type": "code",
   "execution_count": null,
   "id": "530c71eb-049a-45fb-bb2f-cf9abd2a34ec",
   "metadata": {},
   "outputs": [],
   "source": []
  },
  {
   "cell_type": "code",
   "execution_count": 75,
   "id": "087a2bc9-15b3-4a1e-b410-b4e52287d9e5",
   "metadata": {},
   "outputs": [
    {
     "name": "stdout",
     "output_type": "stream",
     "text": [
      "9.279144\n",
      "0.41126605337197475\n"
     ]
    }
   ],
   "source": [
    "########## I spoctena ########\n",
    "\n",
    "print(1428*0.114*0.114/2)\n",
    "print(np.sqrt(0.25*0.114**4*0.2**2 + 4*1428**2*0.144**2*0.001**2))"
   ]
  },
  {
   "cell_type": "markdown",
   "id": "9d2ce537-9bd0-4e52-83fa-52feb2a9f3dd",
   "metadata": {},
   "source": [
    "# Disk a prstenec"
   ]
  },
  {
   "cell_type": "code",
   "execution_count": 70,
   "id": "7c278eec-e02a-46f9-b541-f0e4023de423",
   "metadata": {},
   "outputs": [],
   "source": [
    "a2 = np.array([2.03,2.03,1.97,2.03,2.05,2.03,2,2.05,2.03,2.05])"
   ]
  },
  {
   "cell_type": "code",
   "execution_count": 71,
   "id": "c18ad2b1-e682-4b2c-a532-a7a1c9827c24",
   "metadata": {},
   "outputs": [
    {
     "name": "stdout",
     "output_type": "stream",
     "text": [
      "2.027 +- 0.007489993324429583\n"
     ]
    }
   ],
   "source": [
    "eps = mean(a2)\n",
    "seps = error(a2)\n",
    "print('{} +- {}'.format(eps, seps))"
   ]
  },
  {
   "cell_type": "code",
   "execution_count": 72,
   "id": "d40a7db6-9e40-4800-b011-86db3dc22291",
   "metadata": {},
   "outputs": [
    {
     "name": "stdout",
     "output_type": "stream",
     "text": [
      "5.1155263332570104 +- 1.1423487117506785\n"
     ]
    }
   ],
   "source": [
    "######## I namerena ##########\n",
    "\n",
    "I2 = I_f(r_m, m_zavazi, eps)\n",
    "sI2 = sI_f(r_m, 0.001, m_zavazi, 0.2, eps, seps)\n",
    "print('{} +- {}'.format(I2-I1, np.sqrt(sI2**2+sI1**2)))"
   ]
  },
  {
   "cell_type": "code",
   "execution_count": 88,
   "id": "dbf3afa9-1995-4274-ae23-ac14dd093b86",
   "metadata": {},
   "outputs": [
    {
     "name": "stdout",
     "output_type": "stream",
     "text": [
      "5.1765\n",
      "0.14280021883736732\n"
     ]
    }
   ],
   "source": [
    "########## I spoctena ########\n",
    "\n",
    "print(1428*(0.055**2+0.065**2)/2)\n",
    "print(np.sqrt(0.25*0.05**4*0.2**2 + 4*1428**2*0.05**2*0.001**2))"
   ]
  },
  {
   "cell_type": "code",
   "execution_count": null,
   "id": "bc6a86b9-51b6-4482-8819-3f5de6e3aa1c",
   "metadata": {},
   "outputs": [],
   "source": []
  },
  {
   "cell_type": "markdown",
   "id": "cf2a5e2a-bfb3-470c-8b74-a73e8b6b4f96",
   "metadata": {},
   "source": [
    "# UKOL 2"
   ]
  },
  {
   "cell_type": "markdown",
   "id": "9eafd8f6-07a2-4629-a890-2f9357b3de1f",
   "metadata": {},
   "source": [
    "## DATA"
   ]
  },
  {
   "cell_type": "code",
   "execution_count": 89,
   "id": "4dab5064-24e8-4e21-a1ec-5cdfcf5a9ead",
   "metadata": {},
   "outputs": [],
   "source": [
    "##### zrychleni drahy #####\n",
    "a3 = np.array([2.4,2.42,2.37,2.43,2.38,2.39,2.37,2.42,2.38,2.41])\n",
    "##### zrycheni draha + kotouc #####\n",
    "a4 = np.array([0.523,0.519,0.512,0.516,0.514,0.516,0.514,0.517,0.518,0.516])\n",
    "#### vyzdalenost disku od osy ######\n",
    "l = [15,0.2] #cm 15+-0.2 cm"
   ]
  },
  {
   "cell_type": "code",
   "execution_count": 90,
   "id": "bedd861f-c093-49ab-b605-ae3005c61aef",
   "metadata": {},
   "outputs": [
    {
     "name": "stdout",
     "output_type": "stream",
     "text": [
      "2.397 +- 0.006640783086353597\n"
     ]
    }
   ],
   "source": [
    "eps = mean(a3)\n",
    "seps = error(a3)\n",
    "print('{} +- {}'.format(eps, seps))"
   ]
  },
  {
   "cell_type": "code",
   "execution_count": 91,
   "id": "5fc18ba0-6db6-4368-9084-80b93833c7cf",
   "metadata": {},
   "outputs": [
    {
     "name": "stdout",
     "output_type": "stream",
     "text": [
      "12.1949254824781 +- 0.8108061016393312\n"
     ]
    }
   ],
   "source": [
    "######## I namerena kolej ##########\n",
    "\n",
    "I3 = I_f(r_m, m_zavazi, eps)\n",
    "sI3 = sI_f(r_m, 0.001, m_zavazi, 0.2, eps, seps)\n",
    "print('{} +- {}'.format(I3, sI3))"
   ]
  },
  {
   "cell_type": "code",
   "execution_count": 92,
   "id": "86fa4e19-d8c3-4b6e-89af-93d8f71f0b07",
   "metadata": {},
   "outputs": [
    {
     "name": "stdout",
     "output_type": "stream",
     "text": [
      "0.5165 +- 0.0009192388155425126\n"
     ]
    }
   ],
   "source": [
    "eps = mean(a4)\n",
    "seps = error(a4)\n",
    "print('{} +- {}'.format(eps, seps))"
   ]
  },
  {
   "cell_type": "code",
   "execution_count": 93,
   "id": "a8f742e7-7b62-4302-a554-6aa94a148520",
   "metadata": {},
   "outputs": [
    {
     "name": "stdout",
     "output_type": "stream",
     "text": [
      "56.75817338189739 +- 3.782667343357274\n"
     ]
    }
   ],
   "source": [
    "######## I namerena kolej + disk ##########\n",
    "\n",
    "I4 = I_f(r_m, m_zavazi, eps)\n",
    "sI4 = sI_f(r_m, 0.001, m_zavazi, 0.2, eps, seps)\n",
    "print('{} +- {}'.format(I4, sI4))"
   ]
  },
  {
   "cell_type": "code",
   "execution_count": 98,
   "id": "fae30361-801b-41b9-a921-34fae9233821",
   "metadata": {},
   "outputs": [
    {
     "name": "stdout",
     "output_type": "stream",
     "text": [
      "35.24965002621355 +- 3.9176884206115625\n"
     ]
    }
   ],
   "source": [
    "######## Namereny rozdil #######\n",
    "print('{} +- {}'.format(I4-I3-I1, np.sqrt(sI4**2+sI3**2+sI1**2)))"
   ]
  },
  {
   "cell_type": "code",
   "execution_count": 99,
   "id": "9fbcd385-7a12-4185-b2dd-629d0474f21a",
   "metadata": {},
   "outputs": [
    {
     "name": "stdout",
     "output_type": "stream",
     "text": [
      "32.129999999999995\n",
      "0.14280021883736732\n"
     ]
    }
   ],
   "source": [
    "########## Spocteny rozdil ########\n",
    "\n",
    "print(1428*(0.15**2))\n",
    "print(np.sqrt(0.25*0.05**4*0.2**2 + 4*1428**2*0.05**2*0.001**2))"
   ]
  },
  {
   "cell_type": "code",
   "execution_count": 222,
   "id": "d4e423bc-5550-4df6-9aba-6ce2ec5e59df",
   "metadata": {},
   "outputs": [
    {
     "name": "stdout",
     "output_type": "stream",
     "text": [
      "44.563247899419295 +- 3.86858873039732\n"
     ]
    }
   ],
   "source": [
    "######## Namereny rozdil #######\n",
    "print('{} +- {}'.format(I4-I3, np.sqrt(sI4**2+sI3**2)))"
   ]
  },
  {
   "cell_type": "code",
   "execution_count": 221,
   "id": "bb58315c-72e5-4489-880f-3bbe9086b2a6",
   "metadata": {},
   "outputs": [
    {
     "name": "stdout",
     "output_type": "stream",
     "text": [
      "41.409144\n",
      "0.43535235058072214\n"
     ]
    }
   ],
   "source": [
    "print(1428*(0.15**2) + 1428*0.114*0.114/2)\n",
    "print(np.sqrt(0.25*0.05**4*0.2**2 + 4*1428**2*0.05**2*0.001**2 + 0.25*0.114**4*0.2**2 + 4*1428**2*0.144**2*0.001**2))"
   ]
  },
  {
   "cell_type": "code",
   "execution_count": null,
   "id": "845c94b6-e024-493d-8f30-12ca4ca83da5",
   "metadata": {},
   "outputs": [],
   "source": []
  },
  {
   "cell_type": "markdown",
   "id": "9f29b188-f647-4c05-8f9f-02c743541a9b",
   "metadata": {},
   "source": [
    "# UKOL 3"
   ]
  },
  {
   "cell_type": "code",
   "execution_count": 100,
   "id": "28e7bb25-d87c-4848-b0d7-5cdb88198acc",
   "metadata": {},
   "outputs": [],
   "source": [
    "#### zrychleni krajni polohy #####\n",
    "a5 = np.array([0.784,0.767,0.758,0.768,0.783,0.780,0.786,0.784,0.777,0.769])\n",
    "##### zrycheni stredni polohy #####\n",
    "a6 = np.array([1.84,1.85,1.83,1.82,1.82,1.84,1.84,1.85,1.83,1.85])"
   ]
  },
  {
   "cell_type": "code",
   "execution_count": 101,
   "id": "111c2f7b-4d75-4255-bad9-80789f1c1844",
   "metadata": {},
   "outputs": [
    {
     "name": "stdout",
     "output_type": "stream",
     "text": [
      "0.7756000000000001 +- 0.002846752535785296\n"
     ]
    }
   ],
   "source": [
    "eps = mean(a5)\n",
    "seps = error(a5)\n",
    "print('{} +- {}'.format(eps, seps))"
   ]
  },
  {
   "cell_type": "code",
   "execution_count": 102,
   "id": "8877f5d5-2e2d-4e3d-9639-5fe0f0f05a30",
   "metadata": {},
   "outputs": [
    {
     "name": "stdout",
     "output_type": "stream",
     "text": [
      "37.782327483496644 +- 2.5199443146856875\n"
     ]
    }
   ],
   "source": [
    "######## I namerena krajni polohy ##########\n",
    "\n",
    "I5 = I_f(r_m, m_zavazi, eps)\n",
    "sI5 = sI_f(r_m, 0.001, m_zavazi, 0.2, eps, seps)\n",
    "print('{} +- {}'.format(I5, sI5))"
   ]
  },
  {
   "cell_type": "code",
   "execution_count": 103,
   "id": "feefe20c-07f5-4144-8045-effe2778efdc",
   "metadata": {},
   "outputs": [
    {
     "name": "stdout",
     "output_type": "stream",
     "text": [
      "1.8370000000000004 +- 0.00347850542618522\n"
     ]
    }
   ],
   "source": [
    "eps = mean(a6)\n",
    "seps = error(a6)\n",
    "print('{} +- {}'.format(eps, seps))"
   ]
  },
  {
   "cell_type": "code",
   "execution_count": 104,
   "id": "03cbd427-ac6d-4672-80d6-dd720f893351",
   "metadata": {},
   "outputs": [
    {
     "name": "stdout",
     "output_type": "stream",
     "text": [
      "15.92616127463255 +- 1.0593056949717226\n"
     ]
    }
   ],
   "source": [
    "######## I namerena stredni polohy ##########\n",
    "\n",
    "I6 = I_f(r_m, m_zavazi, eps)\n",
    "sI6 = sI_f(r_m, 0.001, m_zavazi, 0.2, eps, seps)\n",
    "print('{} +- {}'.format(I6, sI6))"
   ]
  },
  {
   "cell_type": "code",
   "execution_count": 161,
   "id": "20203121-23e1-47e8-b393-a8da742f2a15",
   "metadata": {},
   "outputs": [],
   "source": [
    "w1_raw = [\n",
    "    [4.65,  4.62,  4.62,  4.62,  4.61,  4.59,  4.55,  4.59,  4.55, 4.53,  4.52],\n",
    "    [7.25,  7.26,  7.28,  7.26,  7.25,  7.24,  7.23,\n",
    "        7.22,  7.2 ,  7.2 ,  7.18,  7.2 ,  7.21,  7.19,  7.18,  7.17,\n",
    "        7.16,  7.14,  7.12,  7.12,  7.13,  7.13],\n",
    "    [5.44,  5.45,  5.45,  5.43],\n",
    "    [3.6 , 3.55, 3.57, 3.49, 3.43, 3.36, 3.41, 3.38, 3.4 , 3.45, 3.54,\n",
    "       3.44, 3.31, 3.29],\n",
    "    [4.3 ,  4.47,  4.47,  4.46,  4.47,  4.47,  4.45,  4.45,  4.44,\n",
    "        4.43,  4.42,  4.44],\n",
    "    [4.94,  5.09,  5.1 ,  5.09,  5.08,  5.07,  5.07,  5.06,\n",
    "        5.04,  5.05,  5.09,  5.04],\n",
    "    [5.07,  4.98,  4.97,  4.94,  4.92,  4.91,  4.9 ,  4.9 ,\n",
    "        4.89],\n",
    "    [6.6 ,  6.58,  6.57,  6.56,  6.55,  6.53,  6.52,  6.55],\n",
    "    [7.65,  7.63,  7.67,  7.64,  7.62,  7.63,  7.61],\n",
    "    [8.08,  7.97,  8.05,  7.92,  7.92,  7.85,  7.87,  7.95,  7.88,\n",
    "        7.83,  7.82,  7.91]]\n",
    "\n",
    "w2_raw = [\n",
    "    [ 10.9 , 10.89, 10.89, 10.88, 10.83, 10.86, 10.76, 10.78, 10.75, 10.72, 10.7 , 10.64, 10.61, 10.65, 10.61, 10.64],\n",
    "    [15.21, 15.2 , 15.31, 15.45, 15.56, 15.69, 15.55, 15.71,\n",
    "       15.82, 15.9 , 15.94, 15.82, 15.84, 15.86, 15.88, 16.03, 15.72,\n",
    "       15.89, 15.89, 15.87, 15.92, 15.83, 15.89, 15.92, 15.87, 16.04,\n",
    "       15.73, 15.84, 15.81, 15.87, 15.79, 15.73, 15.74, 15.74, 15.66,\n",
    "       15.82, 15.5 , 15.6 , 15.54, 15.56, 15.53, 15.46, 15.46, 15.5 ,\n",
    "       15.41, 15.54, 15.24, 15.33, 15.28, 15.3 , 15.26, 15.18, 15.15,\n",
    "       15.18, 15.1 , 15.23, 14.94, 15.02, 14.97, 15.  , 14.93, 14.87],\n",
    "    [12.91, 12.54,\n",
    "       12.7 , 12.85, 12.52, 12.69, 12.67, 12.63, 12.71, 12.6 , 12.58,\n",
    "       12.63, 12.57, 12.67, 12.31, 12.45, 12.45, 12.39, 12.44, 12.41],\n",
    "    [7.59, 7.56,\n",
    "       7.53, 7.54, 7.51, 7.5 , 7.46, 7.45, 7.45, 7.44, 7.4 , 7.35, 7.35,\n",
    "       7.37, 7.33, 7.32, 7.27, 7.27, 7.28, 7.26],\n",
    "    [10.7 , 10.73, 10.71, 10.65, 10.67, 10.6 , 10.65,\n",
    "       10.6 , 10.57, 10.56, 10.53, 10.51, 10.47, 10.43, 10.44],\n",
    "    [12.22, 12.13, 12.12, 12.12,\n",
    "       12.06, 12.03, 11.97, 12.04, 11.95, 12.01, 11.94, 11.92, 11.92,\n",
    "       11.88, 11.84, 11.78, 11.72, 11.76, 11.74, 11.74],\n",
    "    [11.81,\n",
    "       11.87, 11.82, 12.16, 11.61, 11.69, 11.7 , 11.74, 11.67, 11.75,\n",
    "       11.64, 11.62, 11.61, 11.8 ],\n",
    "    [15.02, 15.02, 14.97,\n",
    "       14.95, 14.9 , 14.86, 14.91, 14.89, 14.83, 14.76, 14.83, 14.76],\n",
    "    [17.84, 18.27, 17.3 , 17.24, 17.2 , 17.21, 17.26, 17.23, 17.16,\n",
    "       17.15, 17.28, 16.54, 17.62, 17.46, 17.07, 17.08, 17.07, 17.09],\n",
    "    [17.95, 17.82,\n",
    "       17.91, 18.03, 18.05, 17.98, 17.99, 17.98, 17.99, 17.56, 18.06,\n",
    "       17.71, 17.72, 17.73, 17.79, 17.69, 17.73]]"
   ]
  },
  {
   "cell_type": "code",
   "execution_count": 164,
   "id": "e39dc4a0-8d80-424d-972f-5f67d99e8e65",
   "metadata": {},
   "outputs": [
    {
     "name": "stdout",
     "output_type": "stream",
     "text": [
      "[4.58636364 7.19636364 5.4425     3.44428571 4.43916667 5.06\n",
      " 4.94222222 6.5575     7.63571429 7.92083333]\n",
      "[0.01228267 0.01025593 0.00414578 0.02463435 0.01298815 0.01184389\n",
      " 0.01803822 0.00861503 0.00695676 0.02252956]\n",
      "[10.756875   15.55516129 12.586       7.4115     10.588      11.9445\n",
      " 11.74928571 14.89166667 17.28166667 17.86411765]\n",
      "[0.02608158 0.04042293 0.0332671  0.02306811 0.0243712  0.03233013\n",
      " 0.03740927 0.0244618  0.08242187 0.03622363]\n"
     ]
    }
   ],
   "source": [
    "w1 = []\n",
    "sw1 = []\n",
    "w2 = []\n",
    "sw2 = []\n",
    "\n",
    "for i in range(10):\n",
    "    w1.append(mean(np.array(w1_raw[i])))\n",
    "    w2.append(mean(np.array(w2_raw[i])))\n",
    "    sw1.append(error(np.array(w1_raw[i])))\n",
    "    sw2.append(error(np.array(w2_raw[i])))\n",
    "    \n",
    "    \n",
    "    \n",
    "w1 = np.array(w1)    \n",
    "w2 = np.array(w2) \n",
    "sw1 = np.array(sw1) \n",
    "sw2 = np.array(sw2) \n",
    "    \n",
    "    \n",
    "print(w1)\n",
    "print(sw1)\n",
    "print(w2)\n",
    "print(sw2)"
   ]
  },
  {
   "cell_type": "code",
   "execution_count": 175,
   "id": "2fc2f615-6d5e-4934-a205-d90a3072178e",
   "metadata": {},
   "outputs": [
    {
     "name": "stdout",
     "output_type": "stream",
     "text": [
      "HYBNOST PO ----------------------------------------------\n",
      "[171.31572606 247.73400736 200.4466658  118.03674429 168.62619558\n",
      " 190.23003334 187.12101915 237.16708498 275.23061043 284.50681868]\n",
      "----------------------------------------------\n",
      "[11.36609186 16.32684317 13.27553431  8.0024414  11.17746969 12.62270127\n",
      " 12.47882993 15.52797555 18.365013   18.63439257]\n",
      "HYBNOST PRED ----------------------------------------------\n",
      "[173.28349287 271.8953676  205.63031733 130.1331308  167.72204875\n",
      " 191.17857707 186.7286585  247.75761247 288.49505771 299.26751894]\n",
      "----------------------------------------------\n",
      "[ 8.39880452 12.04750493  8.97557254  8.06597823  8.25827905  9.02368288\n",
      "  9.34348342 10.9844267  12.52413555 13.79352534]\n",
      "ROZDIL ----------------------------------------------\n",
      "[ -1.96776681 -24.16136024  -5.18365153 -12.09638652   0.90414682\n",
      "  -0.94854372   0.39236065 -10.59052749 -13.26444729 -14.76070027]\n",
      "CHYBA ROZDILU ----------------------------------------------\n",
      "[14.13251434 20.29059346 16.02500276 11.36217731 13.89730196 15.51642484\n",
      " 15.58915901 19.02040101 22.22898274 23.18408781]\n"
     ]
    }
   ],
   "source": [
    "print(\"HYBNOST PO ----------------------------------------------\")\n",
    "print(I6 * w2)\n",
    "print(\"----------------------------------------------\")\n",
    "print(np.sqrt(w2**2*sI6+I6**2*sw2))\n",
    "print(\"HYBNOST PRED ----------------------------------------------\")\n",
    "print(I5 * w1)\n",
    "print(\"----------------------------------------------\")\n",
    "print(np.sqrt(w1**2*sI5+I5**2*sw1))\n",
    "print(\"ROZDIL ----------------------------------------------\")\n",
    "print(I6*w2 - I5*w1)\n",
    "print(\"CHYBA ROZDILU ----------------------------------------------\")\n",
    "print(np.sqrt(w2**2*sI6+I6**2*sw2 + w1**2*sI5+I5**2*sw1))"
   ]
  },
  {
   "cell_type": "code",
   "execution_count": 226,
   "id": "4d4d3320-d5bc-476b-adce-e1e428c95597",
   "metadata": {},
   "outputs": [
    {
     "name": "stdout",
     "output_type": "stream",
     "text": [
      "[-0.13923685 -1.19076656 -0.32347274 -1.06461871  0.06505916 -0.06113159\n",
      "  0.02516881 -0.55679833 -0.59671859 -0.63667376]\n"
     ]
    }
   ],
   "source": [
    "print((I6*w2 - I5*w1)/np.sqrt(w2**2*sI6+I6**2*sw2 + w1**2*sI5+I5**2*sw1))"
   ]
  },
  {
   "cell_type": "code",
   "execution_count": 186,
   "id": "999de6e2-8471-4367-9c42-9b4893aee5f1",
   "metadata": {},
   "outputs": [
    {
     "name": "stdout",
     "output_type": "stream",
     "text": [
      "\\begin{tabular}{rrrrrr}\n",
      "\\toprule\n",
      " 173 &  8 & 171 & 11 &  2 & 14 \\\\\n",
      " 272 & 12 & 248 & 16 & 24 & 20 \\\\\n",
      " 206 &  9 & 200 & 13 &  5 & 16 \\\\\n",
      " 130 &  8 & 118 &  8 & 12 & 11 \\\\\n",
      " 168 &  8 & 169 & 11 &  1 & 14 \\\\\n",
      " 191 &  9 & 190 & 13 &  1 & 16 \\\\\n",
      " 187 &  9 & 187 & 12 &  0 & 16 \\\\\n",
      " 248 & 11 & 237 & 16 & 11 & 19 \\\\\n",
      " 288 & 13 & 275 & 18 & 13 & 22 \\\\\n",
      " 299 & 14 & 285 & 19 & 15 & 23 \\\\\n",
      "\\bottomrule\n",
      "\\end{tabular}\n"
     ]
    }
   ],
   "source": [
    "\n",
    "T = np.array([I5 * w1, np.sqrt(w1**2*sI5+I5**2*sw1), I6 * w2, np.sqrt(w2**2*sI6+I6**2*sw2), np.abs(I6*w2 - I5*w1), np.sqrt(w2**2*sI6+I6**2*sw2 + w1**2*sI5+I5**2*sw1)]).T.round(0)\n",
    "\n",
    "print(tabulate(T, tablefmt=\"latex_booktabs\"))"
   ]
  },
  {
   "cell_type": "code",
   "execution_count": 159,
   "id": "aee60cb6-f22b-4322-9d87-d015748d8636",
   "metadata": {},
   "outputs": [
    {
     "data": {
      "text/plain": [
       "array([ 8.08,  7.97,  8.05,  7.92,  7.92,  7.85,  7.87,  7.95,  7.88,\n",
       "        7.83,  7.82,  7.91,  8.09,  8.26,  8.54,  8.99,  9.08,  9.92,\n",
       "       10.22, 10.94, 11.71, 12.43, 13.17, 14.21, 14.85, 15.32, 15.92,\n",
       "       16.38, 16.9 , 17.14, 17.49, 17.65, 17.87, 17.81, 17.95, 17.82,\n",
       "       17.91, 18.03, 18.05, 17.98, 17.99, 17.98, 17.99, 17.56, 18.06,\n",
       "       17.71, 17.72, 17.73, 17.79, 17.69, 17.73, 17.68, 17.09, 18.36,\n",
       "       17.08, 17.51, 17.24, 17.37, 17.31, 17.19, 17.15, 17.1 , 17.13,\n",
       "       17.14, 17.2 , 17.06, 16.91, 16.92, 17.  , 16.79, 16.82, 16.74,\n",
       "       16.76, 16.77, 16.86, 16.66, 16.54, 16.87, 15.95, 16.48, 16.46,\n",
       "       16.37, 16.5 , 16.5 , 16.49, 16.06, 17.05, 15.23, 16.2 , 16.13,\n",
       "       16.01, 15.98, 15.99, 16.06, 15.99, 15.84, 15.8 , 15.85, 15.77,\n",
       "       15.72, 15.68, 15.62, 16.19, 15.15, 15.57, 15.62, 15.4 , 15.47,\n",
       "       15.42, 15.38, 15.31, 15.26])"
      ]
     },
     "execution_count": 159,
     "metadata": {},
     "output_type": "execute_result"
    }
   ],
   "source": [
    "i = 10\n",
    "t,w = load('velocity_{}.txt'.format(i))\n",
    "w"
   ]
  },
  {
   "cell_type": "code",
   "execution_count": 160,
   "id": "1cd4670b-d6dc-4dda-b8e4-b43e7794704c",
   "metadata": {},
   "outputs": [
    {
     "data": {
      "image/png": "[encoded data removed]",
      "text/plain": [
       "<Figure size 432x288 with 1 Axes>"
      ]
     },
     "metadata": {
      "needs_background": "light"
     },
     "output_type": "display_data"
    }
   ],
   "source": [
    "plt.scatter(t,w)\n",
    "plt.show()"
   ]
  },
  {
   "cell_type": "code",
   "execution_count": null,
   "id": "7aeae4f8-deff-4989-822f-4969bf578cac",
   "metadata": {},
   "outputs": [],
   "source": [
    "1, 5, 6, 8"
   ]
  },
  {
   "cell_type": "code",
   "execution_count": 190,
   "id": "bf2fd4ad-8ff2-4b20-abb9-0fbbec5c013f",
   "metadata": {},
   "outputs": [
    {
     "name": "stderr",
     "output_type": "stream",
     "text": [
      "C:\\Users\\stepa\\AppData\\Local\\Temp/ipykernel_1452/1200692484.py:21: UserWarning: Matplotlib is currently using pgf, which is a non-GUI backend, so cannot show the figure.\n",
      "  plt.show()\n"
     ]
    },
    {
     "data": {
      "image/png": "[encoded data removed]",
      "text/plain": [
       "<Figure size 576x360 with 1 Axes>"
      ]
     },
     "metadata": {
      "needs_background": "light"
     },
     "output_type": "display_data"
    }
   ],
   "source": [
    "i = 1\n",
    "t,w = load('velocity_{}.txt'.format(i))\n",
    "\n",
    "\n",
    "\n",
    "plt.figure(figsize = (8,5))\n",
    "\n",
    "plt.scatter(t, w, marker = 'x', color='black', label='Naměřené hodnoty úhlové rychlosti')\n",
    "\n",
    "\n",
    "plt.legend(loc='upper right', fontsize=10)\n",
    "#plt.legend(fontsize=8)\n",
    "\n",
    "#popisky os\n",
    "plt.ylabel(\"$\\omega$ [s$^{-1}$]\", fontsize=12)\n",
    "plt.xlabel(\"$t$ [s]\", fontsize=12)\n",
    "\n",
    "\n",
    "\n",
    "plt.savefig('ukazka.pdf', bbox_inches = 'tight')\n",
    "plt.show()"
   ]
  },
  {
   "cell_type": "markdown",
   "id": "28491fee-a948-496e-bc86-56a74762f157",
   "metadata": {},
   "source": [
    "# UKOL 3"
   ]
  },
  {
   "cell_type": "code",
   "execution_count": 203,
   "id": "7c725566-90a6-4477-b8fb-7611edb8bf18",
   "metadata": {},
   "outputs": [],
   "source": [
    "mp = 46.6/1000\n",
    "g = 9.81\n",
    "d = (6.3+2.2+13.9)/100"
   ]
  },
  {
   "cell_type": "code",
   "execution_count": 225,
   "id": "31dc4320-807e-40f1-bd53-701e51af1bf5",
   "metadata": {},
   "outputs": [
    {
     "data": {
      "text/plain": [
       "0.22399999999999998"
      ]
     },
     "execution_count": 225,
     "metadata": {},
     "output_type": "execute_result"
    }
   ],
   "source": [
    "d"
   ]
  },
  {
   "cell_type": "code",
   "execution_count": 214,
   "id": "9485c54c-ca95-4dc7-b5f6-adf3a937488a",
   "metadata": {},
   "outputs": [],
   "source": [
    "velocity1 = np.array([-0.2,-0.309,-0.231,-0.207,-0.240,-0.183,-0.251,-0.208,-0.185,-0.222])\n",
    "velocity2 = np.array([-29.739,-21.821,-26.181,-26.744,-35.536,-34.450,-31.729,-26.972,-36.733,-24.504])"
   ]
  },
  {
   "cell_type": "code",
   "execution_count": 215,
   "id": "9ed2d871-bc83-4b99-b0dc-f892aa7d9aa7",
   "metadata": {},
   "outputs": [],
   "source": [
    "omega = 5.8/3*velocity2"
   ]
  },
  {
   "cell_type": "code",
   "execution_count": 216,
   "id": "cba44996-64d8-4c7e-a518-a6bb7f4995dd",
   "metadata": {},
   "outputs": [
    {
     "name": "stdout",
     "output_type": "stream",
     "text": [
      "[0.19122839 0.2606178  0.21721634 0.21264362 0.16003323 0.16507811\n",
      " 0.1792348  0.2108461  0.15481831 0.23208215]\n",
      "[0.01275464 0.01738787 0.01448943 0.01418414 0.01067288 0.0110095\n",
      " 0.01195419 0.01406414 0.01032493 0.01548201]\n"
     ]
    }
   ],
   "source": [
    "Omega = -mp*g*d/(I1/1000*omega)\n",
    "sOmega = Omega*np.sqrt(0.001**2/d**2 + 0.0002**2/mp**2 + sI1**2/I1**2 + 0.1**2/omega**2)\n",
    "print(Omega)\n",
    "print(sOmega)"
   ]
  },
  {
   "cell_type": "code",
   "execution_count": 219,
   "id": "27bdd980-06d8-47f8-a0bf-a5075c2f1dbd",
   "metadata": {},
   "outputs": [
    {
     "name": "stdout",
     "output_type": "stream",
     "text": [
      "\\begin{tabular}{rrrr}\n",
      "\\toprule\n",
      " 57.5  & 0.2  & 0.19 & 0.01 \\\\\n",
      " 42.19 & 0.31 & 0.26 & 0.02 \\\\\n",
      " 50.62 & 0.23 & 0.22 & 0.01 \\\\\n",
      " 51.71 & 0.21 & 0.21 & 0.01 \\\\\n",
      " 68.7  & 0.24 & 0.16 & 0.01 \\\\\n",
      " 66.6  & 0.18 & 0.17 & 0.01 \\\\\n",
      " 61.34 & 0.25 & 0.18 & 0.01 \\\\\n",
      " 52.15 & 0.21 & 0.21 & 0.01 \\\\\n",
      " 71.02 & 0.18 & 0.15 & 0.01 \\\\\n",
      " 47.37 & 0.22 & 0.23 & 0.02 \\\\\n",
      "\\bottomrule\n",
      "\\end{tabular}\n"
     ]
    }
   ],
   "source": [
    "T = np.array([-omega, -velocity1, Omega, sOmega]).T.round(2)\n",
    "\n",
    "print(tabulate(T, tablefmt=\"latex_booktabs\"))"
   ]
  },
  {
   "cell_type": "code",
   "execution_count": 230,
   "id": "e720ac9e-c523-4264-b7a6-95223a43f37d",
   "metadata": {},
   "outputs": [
    {
     "data": {
      "text/plain": [
       "array([ 0.68771944,  2.78252548,  0.951291  , -0.39788233,  7.49251747,\n",
       "        1.62785619,  6.00334996, -0.20236561,  2.92318481, -0.65121697])"
      ]
     },
     "execution_count": 230,
     "metadata": {},
     "output_type": "execute_result"
    }
   ],
   "source": [
    "(np.abs(velocity1) - Omega)/sOmega\n",
    "\n"
   ]
  },
  {
   "cell_type": "code",
   "execution_count": null,
   "id": "a78f79d4-bcce-4168-92ef-3cff6f075426",
   "metadata": {},
   "outputs": [],
   "source": []
  },
  {
   "cell_type": "code",
   "execution_count": 220,
   "id": "64c2d095-eace-4768-ad1b-842bb0985f9e",
   "metadata": {},
   "outputs": [
    {
     "name": "stdout",
     "output_type": "stream",
     "text": [
      "\\begin{tabular}{rrrrrr}\n",
      "\\toprule\n",
      " 3.11 & 2.03 & 2.4  & 0.52 & 0.78 & 1.84 \\\\\n",
      " 3.14 & 2.03 & 2.42 & 0.52 & 0.77 & 1.85 \\\\\n",
      " 3.12 & 1.97 & 2.37 & 0.51 & 0.76 & 1.83 \\\\\n",
      " 3.09 & 2.03 & 2.43 & 0.52 & 0.77 & 1.82 \\\\\n",
      " 3.15 & 2.05 & 2.38 & 0.51 & 0.78 & 1.82 \\\\\n",
      " 3.13 & 2.03 & 2.39 & 0.52 & 0.78 & 1.84 \\\\\n",
      " 3.16 & 2    & 2.37 & 0.51 & 0.79 & 1.84 \\\\\n",
      " 3.15 & 2.05 & 2.42 & 0.52 & 0.78 & 1.85 \\\\\n",
      " 3.15 & 2.03 & 2.38 & 0.52 & 0.78 & 1.83 \\\\\n",
      " 3.15 & 2.05 & 2.41 & 0.52 & 0.77 & 1.85 \\\\\n",
      "\\bottomrule\n",
      "\\end{tabular}\n"
     ]
    }
   ],
   "source": [
    "T = np.array([a1,a2,a3,a4,a5,a6]).T.round(2)\n",
    "\n",
    "print(tabulate(T, tablefmt=\"latex_booktabs\"))"
   ]
  },
  {
   "cell_type": "code",
   "execution_count": null,
   "id": "149cee3d-936a-4f77-8720-188a29ba062b",
   "metadata": {},
   "outputs": [],
   "source": []
  },
  {
   "cell_type": "code",
   "execution_count": null,
   "id": "b647cc0c-5d78-45b4-8dff-730bca7b11e0",
   "metadata": {},
   "outputs": [],
   "source": []
  },
  {
   "cell_type": "code",
   "execution_count": null,
   "id": "72b80199-292e-4c46-948c-2d2d5263ea34",
   "metadata": {},
   "outputs": [],
   "source": []
  },
  {
   "cell_type": "code",
   "execution_count": null,
   "id": "e160dfd7-a3bb-4415-bbbd-ed20a2a1ba6d",
   "metadata": {},
   "outputs": [],
   "source": [
    "[-0.36970821 -0.50386108 -0.41995159 -0.411111   -0.30939758 -0.31915102\n",
    " -0.34652061 -0.40763579 -0.2993154  -0.44869215]"
   ]
  }
 ],
 "metadata": {
  "kernelspec": {
   "display_name": "Python 3 (ipykernel)",
   "language": "python",
   "name": "python3"
  },
  "language_info": {
   "codemirror_mode": {
    "name": "ipython",
    "version": 3
   },
   "file_extension": ".py",
   "mimetype": "text/x-python",
   "name": "python",
   "nbconvert_exporter": "python",
   "pygments_lexer": "ipython3",
   "version": "3.8.7"
  }
 },
 "nbformat": 4,
 "nbformat_minor": 5
}
