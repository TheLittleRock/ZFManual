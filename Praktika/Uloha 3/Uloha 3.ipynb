{
 "cells": [
  {
   "cell_type": "code",
   "execution_count": 4,
   "id": "bffa491d-4daf-446a-b9d3-db8b376b79f9",
   "metadata": {},
   "outputs": [],
   "source": [
    "import numpy as np\n",
    "import sympy as smp\n",
    "import matplotlib.pyplot as plt\n",
    "from scipy.optimize import curve_fit\n",
    "from scipy.integrate import cumulative_trapezoid\n",
    "from tabulate import tabulate\n",
    "import matplotlib\n",
    "import piecewise_regression\n",
    "import json"
   ]
  },
  {
   "cell_type": "code",
   "execution_count": 5,
   "id": "e9d2804e-7ee4-497b-abc1-9a11d13f9b68",
   "metadata": {},
   "outputs": [],
   "source": [
    "def mean(arr):\n",
    "    return np.mean(arr)\n",
    "\n",
    "def error(x):\n",
    "    return x.std() / np.sqrt(x.size)\n",
    "\n",
    "def weighted_error(x, err):\n",
    "    \n",
    "    x = np.asarray(x)\n",
    "    err = np.asarray(err)\n",
    "    \n",
    "    average = np.sum(x/(err**2))/np.sum(1/err**2)\n",
    "    \n",
    "    average_error = 1/np.sqrt(np.sum(1/err**2))\n",
    "    \n",
    "    return average, average_error\n",
    "\n",
    "def decimal(x):\n",
    "    return x.replace(',', '.').encode()\n",
    "\n",
    "def sum_err(x,sx):\n",
    "    return np.sum(x),np.sqrt(np.sum([np.sum(i**2) for i in sx])) \n",
    "\n",
    "def diff_err(x,sx):\n",
    "    return x[0]-x[1],np.sqrt(np.sum([np.sum(i**2) for i in sx])) \n",
    "\n",
    "def times_err(x,sx):\n",
    "    return np.prod(x), np.prod(x)*np.sqrt(np.sum([np.sum((i/j)**2) for i,j in zip(sx,x)]))\n",
    "\n",
    "#def frac_err(x,sx):\n",
    "#    return x[0]/x[1], x[0]/x[1]*np.sqrt(np.sum((sx/x)**2))\n",
    "\n",
    "def frac_err(x,sx):\n",
    "    return x[0]/x[1], x[0]/x[1]*np.sqrt(np.sum([np.sum((i/j)**2) for i,j in zip(sx,x)]))\n",
    "    #return [np.sum((i/j)**2) for i,j in zip(sx,x)]"
   ]
  },
  {
   "cell_type": "code",
   "execution_count": 6,
   "id": "034c189d-cf61-4d73-85fe-0bc89e1d6954",
   "metadata": {},
   "outputs": [],
   "source": [
    "def lst_sqrs(x,y,sx,sy):\n",
    "    \n",
    "    x_ = mean(x)\n",
    "    y_ = mean(y)\n",
    "    xy_ = mean(x*y)\n",
    "    x_y_ = x_ * y_\n",
    "    xx_ = mean(x**2)\n",
    "    x_x_ = x_**2\n",
    "    \n",
    "    #a = (mean(x*y) - mean(x) * mean(y))/(mean(x**2)-mean(x)**2)\n",
    "    #b = (mean(x**2)*mean(y) - mean(x) * mean(x*y))/(mean(x**2)-mean(x)**2)\n",
    "    \n",
    "    a = (xy_ - x_y_)/(xx_ - x_x_)\n",
    "    b = (xx_*y_ - x_*xy_)/(xx_ - x_x_)\n",
    "    \n",
    "    sx_ = np.sqrt(np.sum(sx**2))/x.size\n",
    "    sy_ = np.sqrt(np.sum(sy**2))/x.size\n",
    "    sxy = np.sqrt(np.sum(x**2*sy**2 + y**2*sx**2))/x.size\n",
    "    sxx = np.sqrt(np.sum(4*x**2*sx**2))/x.size\n",
    "    #sxx = sx_\n",
    "    \n",
    "    sxsy = times_err([x_,y_],[sx_,sy_])[1]\n",
    "    sxsx = times_err([x_,x_],[sx_,sx_])[1]\n",
    "    #sxsx = sx_\n",
    "    \n",
    "    '''print('x_  : {} +- {}'.format(x_,sx_))\n",
    "    print('y_  : {} +- {}'.format(y_,sy_))\n",
    "    print('xy_ : {} +- {}'.format(xy_,sxy))\n",
    "    print('x_y_: {} +- {}'.format(x_y_,sxsy))\n",
    "    print('xx_ : {} +- {}'.format(xx_,sxx))\n",
    "    print('x_x_: {} +- {}'.format(x_x_,sxsx))'''\n",
    "    \n",
    "    \n",
    "    sxxsy = times_err([xx_,y_],[sxx,sy_])[1]\n",
    "    sxsxy = times_err([x_,xy_],[sx_,sxy])[1]\n",
    "    \n",
    "    \n",
    "    a_u = diff_err([xy_,x_y_],[sxy,sxsy])\n",
    "    a_d = diff_err([xx_,x_x_],[sxx,sxsx])\n",
    "    b_u = diff_err([xx_*y_,x_*xy_],[sxxsy,sxsxy])\n",
    "    \n",
    "    sa = frac_err([xy_ - x_y_, xx_ - x_x_],[a_u[1],a_d[1]])\n",
    "    sb = frac_err([xx_*y_ - x_*xy_, xx_ - x_x_],[b_u[1],a_d[1]])\n",
    "    \n",
    "    return [a,b],[sa,sb]"
   ]
  },
  {
   "cell_type": "code",
   "execution_count": 160,
   "id": "ee0dc301-af2d-4e75-addb-c15d2c4120c7",
   "metadata": {},
   "outputs": [],
   "source": [
    "matplotlib.use(\"pgf\")\n",
    "matplotlib.rcParams.update({\n",
    "    \"pgf.texsystem\": \"pdflatex\",\n",
    "    'font.family': 'serif',\n",
    "    'text.usetex': True,\n",
    "    'pgf.rcfonts': False,\n",
    "})"
   ]
  },
  {
   "cell_type": "markdown",
   "id": "85220ca2-df8a-4ae6-9afa-d3a5ab4d84cf",
   "metadata": {
    "tags": []
   },
   "source": [
    "# **UKOL 1**"
   ]
  },
  {
   "cell_type": "markdown",
   "id": "a1316339-24e7-42b9-bf28-8f2e894947e0",
   "metadata": {
    "jp-MarkdownHeadingCollapsed": true,
    "tags": []
   },
   "source": [
    "## DATA"
   ]
  },
  {
   "cell_type": "code",
   "execution_count": 110,
   "id": "0eb0dcdc-ae35-4df6-b601-51373e94f5f6",
   "metadata": {},
   "outputs": [
    {
     "name": "stdout",
     "output_type": "stream",
     "text": [
      "0.051070515574919075+-0.008011061266653973\n",
      "------------------------------------------------------------------\n",
      "[19.30477868 38.60955735 57.91433603 77.2191147  96.52389338]\n",
      "[ 3.03167628  6.06335257  9.09502885 12.12670513 15.15838141]\n",
      "------------------------------------------------------------------\n",
      "[0.00011446 0.00020812 0.00031738 0.00046826 0.00055151]\n",
      "[1.29077439e-05 2.34686253e-05 3.57896536e-05 5.28044070e-05\n",
      " 6.21918571e-05]\n",
      "------------------------------------------------------------------\n",
      "------------------------------------------------------------------\n",
      "[0.00014568 0.00024454 0.0003538  0.00046306 0.00057232]\n",
      "[1.35417298e-05 2.27307608e-05 3.28870582e-05 4.30433556e-05\n",
      " 5.31996530e-05]\n"
     ]
    }
   ],
   "source": [
    "m = 100.5 ## +- 0.5g\n",
    "g = np.array([m*(i+1) for i in range(5)])\n",
    "g_err = np.array([np.sqrt((i+1)*0.5**2) for i in range (5)])\n",
    "\n",
    "F1 = g*9.81/1000 \n",
    "sF1 = g_err*9.81/1000\n",
    "\n",
    "l1 = 96.1*10 ## +- 0.5cm  DELKA STRUNY\n",
    "sl1 = 0.5*10\n",
    "d1 = 0.255 ## +- 0.01mm PRUMER STRUNY\n",
    "sd1 = 0.01 \n",
    "\n",
    "dl1 = np.array([0.11,0.2,0.305,0.45,0.53])\n",
    "dl2 = np.array([0.14,0.235,0.34,0.445,0.55])\n",
    "sdl1 = np.full(5, 0.01)\n",
    "sdl2 = np.full(5, 0.01)\n",
    "\n",
    "S1 = np.pi*(d1/2)**2\n",
    "sS1 = 2*np.pi*d1/2*sd1\n",
    "\n",
    "\n",
    "y1, sy1 = frac_err([dl1,l1],[sdl1,sl1])\n",
    "y2, sy2 = frac_err([dl2,l1],[sdl2,sl1])\n",
    " \n",
    "    \n",
    "x1, sx1 = frac_err([F1,S1],[sF1,sS1])\n",
    "\n",
    "#print('{}+-{}'.format(S1,sS1))\n",
    "print('------------------------------------------------------------------')\n",
    "print(x1)\n",
    "print(sx1)\n",
    "print('------------------------------------------------------------------')\n",
    "print(y1)\n",
    "print(sy1)\n",
    "print('------------------------------------------------------------------')\n",
    "print('------------------------------------------------------------------')\n",
    "print(y2)\n",
    "print(sy2)"
   ]
  },
  {
   "cell_type": "markdown",
   "id": "6c0c8f64-777e-4cc0-8310-8a91f33abc08",
   "metadata": {
    "jp-MarkdownHeadingCollapsed": true,
    "tags": []
   },
   "source": [
    "## FIT"
   ]
  },
  {
   "cell_type": "code",
   "execution_count": 381,
   "id": "94e4453e-a0d0-4144-99f7-ab62364010e4",
   "metadata": {},
   "outputs": [
    {
     "name": "stdout",
     "output_type": "stream",
     "text": [
      "a1: 5.8754114241969805e-06 +- (5.8754114241969805e-06, 7.753061176834364e-06)\n",
      "b1: -8.324661810613768e-06 +- (-8.324661810613768e-06, -0.0004222688697804797)\n",
      "------------------------------------------------------------------\n",
      "a2: 5.551994281580636e-06 +- (5.551994281580636e-06, 7.422245480769179e-06)\n",
      "b2: 3.4339229968782276e-05 +- (3.4339229968782276e-05, 0.0004391381795920088)\n"
     ]
    }
   ],
   "source": [
    "eps = dl1/l1\n",
    "\n",
    "\n",
    "[a1,b1],[sa1,sb1] = lst_sqrs(x1,y1,sx1,sy1)\n",
    "[a2,b2],[sa2,sb2] = lst_sqrs(x1,y2,sx1,sy2)\n",
    "#a1,b1 = pars\n",
    "#sa1,sb1 = err\n",
    "\n",
    "\n",
    "print(\"a1: {} +- {}\".format(a1,sa1))\n",
    "print(\"b1: {} +- {}\".format(b1,sb1))\n",
    "print('------------------------------------------------------------------')\n",
    "print(\"a2: {} +- {}\".format(a2,sa2))\n",
    "print(\"b2: {} +- {}\".format(b2,sb2))"
   ]
  },
  {
   "cell_type": "code",
   "execution_count": 391,
   "id": "2d9e4263-9dd8-483b-8e6f-fbc098bce763",
   "metadata": {},
   "outputs": [
    {
     "name": "stdout",
     "output_type": "stream",
     "text": [
      "170200.8468516185\n",
      "180115.45928957674\n",
      "E1: 170.2008468516185 +- 5.9864530565797365\n",
      "E2: 180.11545928957673 +- 9.772419255036446\n"
     ]
    }
   ],
   "source": [
    "print(1/a1)\n",
    "print(1/a2)\n",
    "\n",
    "print(\"E1: {} +- {}\".format(1/(1000*a1),1/(28431*a1)))\n",
    "print(\"E2: {} +- {}\".format(1/(1000*a2),1/(18431*a2)))"
   ]
  },
  {
   "cell_type": "markdown",
   "id": "dce330cb-e3fe-40d7-adf7-c67c7c276206",
   "metadata": {
    "tags": []
   },
   "source": [
    "## GRAF"
   ]
  },
  {
   "cell_type": "code",
   "execution_count": 194,
   "id": "5e644a1a-45ec-4a49-9347-b601243a767a",
   "metadata": {},
   "outputs": [
    {
     "name": "stderr",
     "output_type": "stream",
     "text": [
      "C:\\Users\\stepa\\AppData\\Local\\Temp/ipykernel_1756/2907878008.py:16: UserWarning: Matplotlib is currently using pgf, which is a non-GUI backend, so cannot show the figure.\n",
      "  plt.show()\n"
     ]
    },
    {
     "data": {
      "image/png": "[encoded data removed]",
      "text/plain": [
       "<Figure size 576x360 with 1 Axes>"
      ]
     },
     "metadata": {
      "needs_background": "light"
     },
     "output_type": "display_data"
    }
   ],
   "source": [
    "x_range = np.linspace(0,110,250)\n",
    "plt.figure(figsize = (8,5))\n",
    "\n",
    "plt.scatter(x1,y1*1000, marker = 'x', color = \"k\", label = \"Naměřené hodnoty při zatěžování\")\n",
    "plt.scatter(x1,y2*1000, marker = '.', color = \"k\", label = \"Naměřené hodnoty při odlehčování\")\n",
    "plt.plot(x_range, (a1*x_range+b1)*1000,linestyle = 'dashed', color = 'k', label = \"Fit závislosti při zatěžování \\n\" + r\"$\\varepsilon = 5.9 \\times 10^{-6} \\sigma + 0.1 \\times 10^{-6}$\")\n",
    "plt.plot(x_range, (a2*x_range+b2)*1000,linestyle = 'dotted', color = 'k', label = \"Fit závislosti při odlehčování \\n\" + r\"$\\varepsilon = 5.6 \\times 10^{-6} \\sigma + 0.1 \\times 10^{-6}$\")\n",
    "\n",
    "plt.legend(loc='upper left', fontsize=9)\n",
    "\n",
    "plt.ylabel(r\"$ \\varepsilon$  [$10^{-3}$]\", fontsize=12)\n",
    "plt.xlabel(r\"$ \\sigma$ [MPa]\", fontsize=12)\n",
    "\n",
    "plt.savefig('ukol1.pdf', bbox_inches = 'tight')\n",
    "\n",
    "plt.show()"
   ]
  },
  {
   "cell_type": "code",
   "execution_count": null,
   "id": "50ba3dae-6ecc-487d-844e-34aa34f1bab5",
   "metadata": {},
   "outputs": [],
   "source": []
  },
  {
   "cell_type": "code",
   "execution_count": null,
   "id": "207c477a-85ed-498e-b6ff-9969e0c3f4ab",
   "metadata": {},
   "outputs": [],
   "source": []
  },
  {
   "cell_type": "code",
   "execution_count": null,
   "id": "cc159b66-05b7-461e-b682-8db63cd9816d",
   "metadata": {},
   "outputs": [],
   "source": []
  },
  {
   "cell_type": "markdown",
   "id": "9deef6ff-af2f-4889-80bb-a9dc33c729eb",
   "metadata": {
    "jp-MarkdownHeadingCollapsed": true,
    "tags": []
   },
   "source": [
    "## TABULKA"
   ]
  },
  {
   "cell_type": "code",
   "execution_count": 380,
   "id": "6362584b-8e6b-42d2-9d1f-d37081156b6c",
   "metadata": {},
   "outputs": [
    {
     "name": "stdout",
     "output_type": "stream",
     "text": [
      "\\begin{tabular}{rrrrrr}\n",
      "\\toprule\n",
      "   0   & 0.11 & 19 &  3 & 0.11 & 0.01 \\\\\n",
      " 100.5 & 0.2  & 39 &  6 & 0.21 & 0.02 \\\\\n",
      " 201   & 0.3  & 58 &  9 & 0.32 & 0.04 \\\\\n",
      " 301.5 & 0.45 & 77 & 12 & 0.47 & 0.05 \\\\\n",
      " 402   & 0.53 & 97 & 15 & 0.55 & 0.06 \\\\\n",
      "\\bottomrule\n",
      "\\end{tabular}\n"
     ]
    }
   ],
   "source": [
    "T = np.array([g, dl1.round(2),x1.round(0), sx1.round(0) ,(y1*1000).round(2),(sy1*1000).round(2)]).T \n",
    "\n",
    "print(tabulate(T, tablefmt=\"latex_booktabs\"))"
   ]
  },
  {
   "cell_type": "code",
   "execution_count": 379,
   "id": "0e40ca24-87c8-49fd-b17f-4071deccaaaf",
   "metadata": {},
   "outputs": [
    {
     "name": "stdout",
     "output_type": "stream",
     "text": [
      "\\begin{tabular}{rrrrrr}\n",
      "\\toprule\n",
      "   0   & 0.14 & 19 &  3 & 0.15 & 0.01 \\\\\n",
      " 100.5 & 0.24 & 39 &  6 & 0.24 & 0.02 \\\\\n",
      " 201   & 0.34 & 58 &  9 & 0.35 & 0.03 \\\\\n",
      " 301.5 & 0.44 & 77 & 12 & 0.46 & 0.04 \\\\\n",
      " 402   & 0.55 & 97 & 15 & 0.57 & 0.05 \\\\\n",
      "\\bottomrule\n",
      "\\end{tabular}\n"
     ]
    }
   ],
   "source": [
    "T = np.array([g, dl2.round(2),x1.round(0), sx1.round(0) ,(y2*1000).round(2),(sy2*1000).round(2)]).T\n",
    "\n",
    "print(tabulate(T, tablefmt=\"latex_booktabs\"))"
   ]
  },
  {
   "cell_type": "markdown",
   "id": "79853b2b-5778-4d2c-b4c4-ab3e3df52eb6",
   "metadata": {
    "tags": []
   },
   "source": [
    "# **UKOL 2**"
   ]
  },
  {
   "cell_type": "markdown",
   "id": "aea3223e-baeb-47ed-a89a-ed0085f95ac2",
   "metadata": {
    "tags": []
   },
   "source": [
    "## Data"
   ]
  },
  {
   "cell_type": "code",
   "execution_count": 393,
   "id": "627291bf-52bc-49ea-ab2d-8d7d723f77e7",
   "metadata": {},
   "outputs": [
    {
     "name": "stdout",
     "output_type": "stream",
     "text": [
      "------------------------------------------------------------------\n",
      "[0.       0.046805 0.084755 0.127765 0.170775 0.213785]\n",
      "[0.003795 0.04554  0.08855  0.130295 0.173305 0.213785]\n",
      "------------------------------------------------------------------\n"
     ]
    }
   ],
   "source": [
    "m = 100.5 ## +- 0.5g\n",
    "g = np.array([m*(i) for i in range(6)])\n",
    "g_err = np.array([np.sqrt((i)*0.5**2) for i in range (6)])\n",
    "\n",
    "F = g*9.81/1000 \n",
    "sF = g_err*9.81/1000\n",
    "\n",
    "L = 57*10 ## +- 1cm  DELKA NOSNIKU\n",
    "sL = 1*10\n",
    "b = 9.99 #sirka nosniku\n",
    "a = 4 #vyska nosniku\n",
    "sa = 0.01\n",
    "sb = 0.01\n",
    "\n",
    "z1 = (np.array([4.75,6.6,8.1,9.8,11.5,13.2]) - np.full(6,4.75))*0.0253\n",
    "z2 = (np.array([0.05,1.7,3.4,5.05,6.75,8.35]) + np.full(6,0.1))*0.0253\n",
    "sz1 = np.full(6, 0.15*0.0253)\n",
    "sz2 = np.full(6, 0.15*0.0253)\n",
    "\n",
    "\n",
    "print('------------------------------------------------------------------')\n",
    "print(z1)\n",
    "print(z2)\n",
    "print('------------------------------------------------------------------')"
   ]
  },
  {
   "cell_type": "markdown",
   "id": "c0c2dce7-0ec1-44f6-be15-1280c853a6b1",
   "metadata": {
    "jp-MarkdownHeadingCollapsed": true,
    "tags": []
   },
   "source": [
    "## FIT"
   ]
  },
  {
   "cell_type": "code",
   "execution_count": 270,
   "id": "161eaa95-603d-4a12-afbe-4999d3904164",
   "metadata": {},
   "outputs": [
    {
     "name": "stdout",
     "output_type": "stream",
     "text": [
      "k1: 0.04300168010971791 +- 0.0021647889840318746\n",
      "q1: 0.0013252380952381022 +- 0.006411438768249774\n",
      "------------------------------------------------------------------\n",
      "k2: 0.04274506309286538 +- 0.0021645881392739746\n",
      "q2: 0.0038552380952379876 +- 0.006414418525918627\n"
     ]
    }
   ],
   "source": [
    "\n",
    "[k1,q1],[sk1,sq1] = lst_sqrs(F,z1,sF,sz1)\n",
    "[k2,q2],[sk2,sq2] = lst_sqrs(F,z2,sF,sz2)\n",
    "#a1,b1 = pars\n",
    "#sa1,sb1 = err\n",
    "\n",
    "\n",
    "print(\"k1: {} +- {}\".format(k1,sk1[1])) ##################### 10^-3 m/N\n",
    "print(\"q1: {} +- {}\".format(q1,sq1[1]))\n",
    "print('------------------------------------------------------------------')\n",
    "print(\"k2: {} +- {}\".format(k2,sk2[1]))\n",
    "print(\"q2: {} +- {}\".format(q2,sq2[1]))"
   ]
  },
  {
   "cell_type": "code",
   "execution_count": 256,
   "id": "08bd379f-b0aa-4310-9996-cf3207fe8048",
   "metadata": {},
   "outputs": [
    {
     "name": "stdout",
     "output_type": "stream",
     "text": [
      "23.254905330408498\n",
      "23.394514539081612\n"
     ]
    }
   ],
   "source": [
    "print(1/k1)\n",
    "print(1/k2)"
   ]
  },
  {
   "cell_type": "markdown",
   "id": "f4dbd10e-6bb5-4274-931e-b489e32e928c",
   "metadata": {
    "tags": []
   },
   "source": [
    "## GRAF"
   ]
  },
  {
   "cell_type": "code",
   "execution_count": 397,
   "id": "0f1fa8aa-eda2-416a-a30b-2853bfc45ea3",
   "metadata": {},
   "outputs": [
    {
     "name": "stderr",
     "output_type": "stream",
     "text": [
      "C:\\Users\\stepa\\AppData\\Local\\Temp/ipykernel_1756/3994227460.py:16: UserWarning: Matplotlib is currently using pgf, which is a non-GUI backend, so cannot show the figure.\n",
      "  plt.show()\n"
     ]
    },
    {
     "data": {
      "image/png": "[encoded data removed]",
      "text/plain": [
       "<Figure size 576x360 with 1 Axes>"
      ]
     },
     "metadata": {
      "needs_background": "light"
     },
     "output_type": "display_data"
    }
   ],
   "source": [
    "x_range = np.linspace(0,5,250)\n",
    "plt.figure(figsize = (8,5))\n",
    "\n",
    "plt.scatter(F,z1, marker = 'x', color = \"k\", label = \"Naměřené hodnoty při zatěžování\")\n",
    "plt.scatter(F,z2+0.01, marker = '.', color = \"k\", label = \"Naměřené hodnoty při odlehčování posunuty o 0.01mm\")\n",
    "plt.plot(x_range, (k1*x_range+q1),linestyle = 'dashed', color = 'k', label = \"Fit závislosti při zatěžování \\n\" + r\"$z = 0.043 F + 0.001$\")\n",
    "plt.plot(x_range, (k2*x_range+q2)+0.01,linestyle = 'dotted', color = 'k', label = \"Fit závislosti při odlehčování \\n\" + r\"$z = 0.042 F + 0.003$\")\n",
    "\n",
    "plt.legend(loc='upper left', fontsize=9)\n",
    "\n",
    "plt.ylabel(r\"$z$  [mm]\", fontsize=12)\n",
    "plt.xlabel(r\"$F$ [N]\", fontsize=12)\n",
    "\n",
    "plt.savefig('ukol2.pdf', bbox_inches = 'tight')\n",
    "\n",
    "plt.show()"
   ]
  },
  {
   "cell_type": "markdown",
   "id": "a7c3493b-c3f3-470d-8c26-30ab49ffc30f",
   "metadata": {
    "jp-MarkdownHeadingCollapsed": true,
    "tags": []
   },
   "source": [
    "## VYPOCET E"
   ]
  },
  {
   "cell_type": "code",
   "execution_count": 268,
   "id": "1cab4488-7e25-49de-893a-95de70d89900",
   "metadata": {},
   "outputs": [
    {
     "name": "stdout",
     "output_type": "stream",
     "text": [
      "E1: 269.9744689317592 +- 15.896270668384982\n",
      "E2: 271.5952419013323 +- 16.06084579090225\n"
     ]
    }
   ],
   "source": [
    "E1 = 10**6*L**3/(4*a*b**3*k1) #####   GPa\n",
    "E2 = 10**6*L**3/(4*a*b**3*k2)\n",
    "sE1 = frac_err([10**6*L**3,4*a*b**3*k1],[10**6*times_err([L,L,L],[sL,sL,sL])[1] , times_err([4*a,b,b,b,k1],[4*sa,sb,sb,sb,sk1[1]])[1]]) \n",
    "sE2 = frac_err([10**6*L**3,4*a*b**3*k2],[10**6*times_err([L,L,L],[sL,sL,sL])[1] , times_err([4*a,b,b,b,k2],[4*sa,sb,sb,sb,sk2[1]])[1]]) \n",
    "\n",
    "print('E1: {} +- {}'.format(E1/10**9,sE1[1]/10**9))\n",
    "print('E2: {} +- {}'.format(E2/10**9,sE2[1]/10**9))"
   ]
  },
  {
   "cell_type": "markdown",
   "id": "87405690-6957-4aaf-9cf5-af52effa5699",
   "metadata": {
    "jp-MarkdownHeadingCollapsed": true,
    "tags": []
   },
   "source": [
    "## TABULKA"
   ]
  },
  {
   "cell_type": "code",
   "execution_count": 395,
   "id": "f2d366b2-87da-468d-9fd6-b84164060796",
   "metadata": {},
   "outputs": [
    {
     "name": "stdout",
     "output_type": "stream",
     "text": [
      "\\begin{tabular}{rrrrr}\n",
      "\\toprule\n",
      "   0   & 0     & 0     & 0     & 0.004 \\\\\n",
      " 100.5 & 0.986 & 0.005 & 0.047 & 0.004 \\\\\n",
      " 201   & 1.972 & 0.007 & 0.085 & 0.004 \\\\\n",
      " 301.5 & 2.958 & 0.008 & 0.128 & 0.004 \\\\\n",
      " 402   & 3.944 & 0.01  & 0.171 & 0.004 \\\\\n",
      " 502.5 & 4.93  & 0.011 & 0.214 & 0.004 \\\\\n",
      "\\bottomrule\n",
      "\\end{tabular}\n"
     ]
    }
   ],
   "source": [
    "T = np.array([g,F.round(3),sF.round(3), z1.round(3), sz1.round(3)]).T\n",
    "\n",
    "print(tabulate(T, tablefmt=\"latex_booktabs\"))"
   ]
  },
  {
   "cell_type": "code",
   "execution_count": 396,
   "id": "9aa1610f-00d6-4a98-9427-a47e4851887e",
   "metadata": {},
   "outputs": [
    {
     "name": "stdout",
     "output_type": "stream",
     "text": [
      "\\begin{tabular}{rrrrr}\n",
      "\\toprule\n",
      "   0   & 0     & 0     & 0.004 & 0.004 \\\\\n",
      " 100.5 & 0.986 & 0.005 & 0.046 & 0.004 \\\\\n",
      " 201   & 1.972 & 0.007 & 0.089 & 0.004 \\\\\n",
      " 301.5 & 2.958 & 0.008 & 0.13  & 0.004 \\\\\n",
      " 402   & 3.944 & 0.01  & 0.173 & 0.004 \\\\\n",
      " 502.5 & 4.93  & 0.011 & 0.214 & 0.004 \\\\\n",
      "\\bottomrule\n",
      "\\end{tabular}\n"
     ]
    }
   ],
   "source": [
    "T = np.array([g,F.round(3),sF.round(3), z2.round(3), sz2.round(3)]).T\n",
    "\n",
    "print(tabulate(T, tablefmt=\"latex_booktabs\"))"
   ]
  },
  {
   "cell_type": "code",
   "execution_count": null,
   "id": "47fe1c61-6f78-4980-8232-9b1e84c1b79d",
   "metadata": {},
   "outputs": [],
   "source": []
  },
  {
   "cell_type": "code",
   "execution_count": null,
   "id": "5bff0967-d837-4266-950a-ec47293b18f4",
   "metadata": {},
   "outputs": [],
   "source": []
  },
  {
   "cell_type": "markdown",
   "id": "d9e7105f-68aa-4cab-8fc2-7cb390e390de",
   "metadata": {
    "tags": []
   },
   "source": [
    "# **UKOL 3**"
   ]
  },
  {
   "cell_type": "markdown",
   "id": "d1e72866-daff-42b4-b9ca-c2bf818f8c5a",
   "metadata": {
    "tags": []
   },
   "source": [
    "## Data"
   ]
  },
  {
   "cell_type": "code",
   "execution_count": 20,
   "id": "828b98e8-5340-4401-a88e-d62b54cb06ce",
   "metadata": {},
   "outputs": [
    {
     "name": "stdout",
     "output_type": "stream",
     "text": [
      "------------------------------------------------------------------\n",
      "[172.  183.5 193.  204.5 214. ]\n",
      "[173.5 186.5 197.  203.5 214. ]\n",
      "------------------------------------------------------------------\n",
      "[0.         0.04416854 0.08833709 0.13250563 0.17667418]\n",
      "[0.000000e+00 9.859050e-05 1.971810e-04 2.957715e-04 3.943620e-04]\n"
     ]
    }
   ],
   "source": [
    "m = 100.5 ## +- 0.5g\n",
    "g = np.array([m*(i) for i in range(5)])\n",
    "g_err = np.array([np.sqrt((i)*0.5**2) for i in range (5)])\n",
    "\n",
    "d = 44.8/1000\n",
    "sd = 0.1/1000\n",
    "M = d*g*9.81/1000 \n",
    "sM = sd * g *9.81/1000\n",
    "\n",
    "L2 = 69.1*10/1000\n",
    "sL2 = 1*10/1000\n",
    "R = 1.995/1000\n",
    "sR = 0.01/1000\n",
    "\n",
    "phi1 = np.array([172,183.5,193,204.5,214])\n",
    "phi2 = np.array([173.5,186.5,197,203.5,214])\n",
    "sphi1 = np.full(5, 0.1)\n",
    "sphi2 = np.full(5, 0.1)\n",
    "\n",
    "\n",
    "print('------------------------------------------------------------------')\n",
    "print(phi1)\n",
    "print(phi2)\n",
    "print('------------------------------------------------------------------')\n",
    "print(M)\n",
    "print(sM)"
   ]
  },
  {
   "cell_type": "markdown",
   "id": "4ccc6e59-7572-4675-a461-84b66e733f5e",
   "metadata": {
    "tags": []
   },
   "source": [
    "## FIT"
   ]
  },
  {
   "cell_type": "code",
   "execution_count": 21,
   "id": "696d5edd-ac64-4f60-9546-b0a1c38b4642",
   "metadata": {},
   "outputs": [
    {
     "name": "stdout",
     "output_type": "stream",
     "text": [
      "m1: 237.72574436685156 +- 8.29917317035752\n",
      "n1: 172.39999999999998 +- 2.3721804423400035\n",
      "------------------------------------------------------------------\n",
      "m2: 221.8773614090606 +- 8.29550986397586\n",
      "n2: 175.3 +- 2.3987949382163225\n"
     ]
    }
   ],
   "source": [
    "\n",
    "[m1,n1],[sm1,sn1] = lst_sqrs(M,phi1,sM,sphi1)\n",
    "[m2,n2],[sm2,sn2] = lst_sqrs(M,phi2,sM,sphi2)\n",
    "#a1,b1 = pars\n",
    "#sa1,sb1 = err\n",
    "\n",
    "\n",
    "print(\"m1: {} +- {}\".format(m1,sm1[1])) ##################### 10^-3 m/N\n",
    "print(\"n1: {} +- {}\".format(n1,sn1[1]))\n",
    "print('------------------------------------------------------------------')\n",
    "print(\"m2: {} +- {}\".format(m2,sm2[1]))\n",
    "print(\"n2: {} +- {}\".format(n2,sn2[1]))"
   ]
  },
  {
   "cell_type": "code",
   "execution_count": 22,
   "id": "f629dac1-1d28-41e7-9f1a-299fd311c82d",
   "metadata": {},
   "outputs": [
    {
     "name": "stdout",
     "output_type": "stream",
     "text": [
      "0.004206527999999986\n",
      "0.0045069942857142884\n"
     ]
    }
   ],
   "source": [
    "print(1/m1)\n",
    "print(1/m2)"
   ]
  },
  {
   "cell_type": "markdown",
   "id": "d5f1f6d3-c0e0-4f6c-9f68-647f642a3f66",
   "metadata": {
    "tags": []
   },
   "source": [
    "## GRAF"
   ]
  },
  {
   "cell_type": "code",
   "execution_count": 23,
   "id": "0c9c4085-59f0-4700-b929-43ce20cdad80",
   "metadata": {},
   "outputs": [
    {
     "data": {
      "image/png": "[encoded data removed]",
      "text/plain": [
       "<Figure size 576x360 with 1 Axes>"
      ]
     },
     "metadata": {
      "needs_background": "light"
     },
     "output_type": "display_data"
    }
   ],
   "source": [
    "x_range = np.linspace(0,0.175,250)\n",
    "plt.figure(figsize = (8,5))\n",
    "\n",
    "plt.scatter(M,phi1, marker = 'x', color = \"k\", label = \"Naměřené hodnoty při zatěžování\")\n",
    "plt.scatter(M,phi2, marker = '.', color = \"k\", label = \"Naměřené hodnoty při odlehčování\")\n",
    "plt.plot(x_range, (m1*x_range+n1),linestyle = 'dashed', color = 'k', label = \"Fit závislosti při zatěžování \\n\" + r\"$\\varphi = 237 M + 172$\")\n",
    "plt.plot(x_range, (m2*x_range+n2),linestyle = 'dotted', color = 'k', label = \"Fit závislosti při odlehčování \\n\" + r\"$\\varphi = 221 M + 175$\")\n",
    "\n",
    "plt.legend(loc='upper left', fontsize=9)\n",
    "\n",
    "plt.ylabel(r\"$\\varphi$  [°]\", fontsize=12)\n",
    "plt.xlabel(r\"$M$ [Nm]\", fontsize=12)\n",
    "\n",
    "plt.savefig('ukol3.pdf', bbox_inches = 'tight')\n",
    "\n",
    "plt.show()"
   ]
  },
  {
   "cell_type": "markdown",
   "id": "e7a64b52-c066-4eb2-9834-17485c5b5093",
   "metadata": {
    "tags": []
   },
   "source": [
    "## VYPOCET G"
   ]
  },
  {
   "cell_type": "code",
   "execution_count": 26,
   "id": "c529b8cd-7c4f-4cf7-b58b-2f49ae64f88c",
   "metadata": {},
   "outputs": [
    {
     "name": "stdout",
     "output_type": "stream",
     "text": [
      "G1: 116.81815809611246 +- 4.567413069507389\n",
      "G2: 125.16231224583524 +- 5.172374085439229\n"
     ]
    }
   ],
   "source": [
    "G1 = 2*L2/(np.pi*m1*R**4) \n",
    "G2 = 2*L2/(np.pi*m2*R**4)\n",
    "sG1 = frac_err([2*L2,np.pi*m1*R**4],[2*sL2 , times_err([np.pi*m1,R,R,R,R],[np.pi*sm1[1],sR,sR,sR,sR])[1]]) \n",
    "sG2 = frac_err([2*L2,np.pi*m2*R**4],[2*sL2 , times_err([np.pi*m2,R,R,R,R],[np.pi*sm2[1],sR,sR,sR,sR])[1]]) \n",
    "\n",
    "print('G1: {} +- {}'.format(G1/10**6,sG1[1]/10**6)) ########### MPa\n",
    "print('G2: {} +- {}'.format(G2/10**6,sG2[1]/10**6))"
   ]
  },
  {
   "cell_type": "markdown",
   "id": "8cc59970-cbd6-4c47-be46-19e1cee0cc02",
   "metadata": {
    "tags": []
   },
   "source": [
    "## TABULKA"
   ]
  },
  {
   "cell_type": "code",
   "execution_count": 307,
   "id": "03e9e02b-63a4-4439-b87b-0871c80b4524",
   "metadata": {},
   "outputs": [
    {
     "name": "stdout",
     "output_type": "stream",
     "text": [
      "\\begin{tabular}{rrrrr}\n",
      "\\toprule\n",
      "   0   &   0   & 0   & 172   & 0.1 \\\\\n",
      " 100.5 &  44.2 & 0.1 & 183.5 & 0.1 \\\\\n",
      " 201   &  88.3 & 0.2 & 193   & 0.1 \\\\\n",
      " 301.5 & 132.5 & 0.3 & 204.5 & 0.1 \\\\\n",
      " 402   & 176.7 & 0.4 & 214   & 0.1 \\\\\n",
      "\\bottomrule\n",
      "\\end{tabular}\n"
     ]
    }
   ],
   "source": [
    "T = np.array([g,M.round(1),sM.round(1), phi1.round(1), sphi1.round(1)]).T\n",
    "\n",
    "print(tabulate(T, tablefmt=\"latex_booktabs\"))"
   ]
  },
  {
   "cell_type": "code",
   "execution_count": 308,
   "id": "eeeb7da3-ce99-48a6-8971-e6837c92cab6",
   "metadata": {},
   "outputs": [
    {
     "name": "stdout",
     "output_type": "stream",
     "text": [
      "\\begin{tabular}{rrrrr}\n",
      "\\toprule\n",
      "   0   &   0   & 0   & 173.5 & 0.1 \\\\\n",
      " 100.5 &  44.2 & 0.1 & 186.5 & 0.1 \\\\\n",
      " 201   &  88.3 & 0.2 & 197   & 0.1 \\\\\n",
      " 301.5 & 132.5 & 0.3 & 203.5 & 0.1 \\\\\n",
      " 402   & 176.7 & 0.4 & 214   & 0.1 \\\\\n",
      "\\bottomrule\n",
      "\\end{tabular}\n"
     ]
    }
   ],
   "source": [
    "T = np.array([g,M.round(1),sM.round(1), phi2.round(1), sphi2.round(1)]).T\n",
    "\n",
    "print(tabulate(T, tablefmt=\"latex_booktabs\"))"
   ]
  },
  {
   "cell_type": "code",
   "execution_count": null,
   "id": "84b3e361-c418-44c2-a348-08034de43e77",
   "metadata": {},
   "outputs": [],
   "source": []
  },
  {
   "cell_type": "markdown",
   "id": "63e0deb1-dc93-41b1-bd46-f91c6db831be",
   "metadata": {
    "tags": []
   },
   "source": [
    "# **UKOL 4**"
   ]
  },
  {
   "cell_type": "markdown",
   "id": "ce43b6fc-4e99-45fe-8542-0328c60b8238",
   "metadata": {
    "tags": []
   },
   "source": [
    "## Data"
   ]
  },
  {
   "cell_type": "code",
   "execution_count": 42,
   "id": "2c3d2676-ef82-4b63-a261-615849cb9d77",
   "metadata": {},
   "outputs": [
    {
     "name": "stdout",
     "output_type": "stream",
     "text": [
      "------------------------------------------------------------------\n",
      "20.044  +-  0.28856333793467265\n",
      "15.748000000000001  +-  0.14370525390534641\n",
      "------------------------------------------------------------------\n"
     ]
    }
   ],
   "source": [
    "m3 = 127.2/1000\n",
    "sm3 = 0.3/1000\n",
    "ri = 0.615/100\n",
    "ro = 4.98/100\n",
    "h = 0.815/100\n",
    "sri = 0.01/100\n",
    "sro = 0.01/100\n",
    "sh = 0.01/100\n",
    "\n",
    "a1 = 10.84/100\n",
    "a2 = 8.55/100\n",
    "sa1 = 0.1/100\n",
    "sa2 = 0.1/100\n",
    "\n",
    "L3 = 37.6/100\n",
    "sL3 = 1/100\n",
    "R3 = 0.32/1000 ### mm\n",
    "sR3 = 0.01/1000\n",
    "\n",
    "T1raw = np.array([19.58,19.21,20.53,21,19.9])\n",
    "T2raw = np.array([15.5,15.57,15.4,16.1,16.17])\n",
    "T1 = mean(T1raw)\n",
    "T2 = mean(T2raw)\n",
    "sT1 = error(T1raw)\n",
    "sT2 = error(T2raw)\n",
    "\n",
    "\n",
    "print('------------------------------------------------------------------')\n",
    "print(T1, ' +- ', sT1)\n",
    "print(T2, ' +- ', sT2)\n",
    "print('------------------------------------------------------------------')\n"
   ]
  },
  {
   "cell_type": "markdown",
   "id": "26e35df9-0d73-40d6-85fe-db28f7ee8f01",
   "metadata": {
    "tags": []
   },
   "source": [
    "## VYPOCET I0"
   ]
  },
  {
   "cell_type": "code",
   "execution_count": 34,
   "id": "9855a632-17c0-4961-9ea6-31e24115bc77",
   "metadata": {},
   "outputs": [
    {
     "name": "stdout",
     "output_type": "stream",
     "text": [
      "Iv: 8.077210600000002e-05 +- 1.7673227538370183e-06\n"
     ]
    }
   ],
   "source": [
    "Iv = m3*(ri**2 + ro**2 + h**2/3)/4\n",
    "sIv = times_err([m3/4, (ri**2 + ro**2 + h**2/3)],[sm3/4, 2*np.sqrt(ro**2*sro**2 + ri**2*sri**2 + h**2*sh/9)])[1]\n",
    "\n",
    "print('Iv: {} +- {}'.format(Iv,sIv))"
   ]
  },
  {
   "cell_type": "code",
   "execution_count": 35,
   "id": "72b41c0b-60bd-4841-9664-5401ee8879d0",
   "metadata": {},
   "outputs": [
    {
     "name": "stdout",
     "output_type": "stream",
     "text": [
      "Ia1: 0.0031508866759999998 +- 3.9789174435529777e-05\n",
      "Ia2: 0.002021271812 +- 3.1272374926881074e-05\n"
     ]
    }
   ],
   "source": [
    "Ia1 = 2*Iv + 2*m3*a1**2\n",
    "Ia2 = 2*Iv + 2*m3*a2**2\n",
    "sIa1 = sum_err([2*Iv,2*m3*a1**2],[2*sIv,times_err([2*m3,a1,a1],[2*sm3,sa1,sa1])[1]])[1]\n",
    "sIa2 = sum_err([2*Iv,2*m3*a2**2],[2*sIv,times_err([2*m3,a2,a2],[2*sm3,sa2,sa2])[1]])[1]\n",
    "\n",
    "print('Ia1: {} +- {}'.format(Ia1,sIa1))\n",
    "print('Ia2: {} +- {}'.format(Ia2,sIa2))"
   ]
  },
  {
   "cell_type": "code",
   "execution_count": 36,
   "id": "b86b0092-3482-4839-959e-6a371d300d27",
   "metadata": {},
   "outputs": [
    {
     "name": "stdout",
     "output_type": "stream",
     "text": [
      "I0: 0.00019934481501397808 +- 0.0012146273757025162\n"
     ]
    }
   ],
   "source": [
    "I0 = -(T1**2 * Ia2 - T2**2 * Ia1)/(T2**2 - T1**2)\n",
    "sI0 = -frac_err([(T1**2 * Ia2 - T2**2 * Ia1),(T2**2 - T1**2)],[np.sqrt(times_err([T1,T1,Ia2],[sT1,sT1,sIa2])[1]+times_err([T2,T2,Ia1],[sT2,sT2,sIa1])[1]),2*np.sqrt(T2**2*sT2**2 + T1**2*sT1**2)])[1]\n",
    "\n",
    "print('I0: {} +- {}'.format(I0,sI0))"
   ]
  },
  {
   "cell_type": "code",
   "execution_count": 51,
   "id": "be0a2737-45f3-487c-9ba5-345309e758d1",
   "metadata": {},
   "outputs": [
    {
     "name": "stdout",
     "output_type": "stream",
     "text": [
      "33502.31491013978 22206.16627013978\n",
      "2032.7698756922327 2017.8284542181618\n"
     ]
    }
   ],
   "source": [
    "I1 = I0 + Ia1\n",
    "sI1 = np.sqrt(I0**2 + sIa1**2)\n",
    "I2 = I0 + Ia2\n",
    "sI2 = np.sqrt(I0**2 + sIa2**2)\n",
    "print(I1*10**7,I2*10**7)\n",
    "print(sI1*10**7,sI2*10**7)"
   ]
  },
  {
   "cell_type": "code",
   "execution_count": 49,
   "id": "ba96b496-e958-4484-97f8-20b2acca04b4",
   "metadata": {},
   "outputs": [
    {
     "name": "stdout",
     "output_type": "stream",
     "text": [
      "3292.0450152728968 2.210958885964638e-05\n",
      "3534.9437852277897 3.276278123328511e-05\n"
     ]
    }
   ],
   "source": [
    "K1 = 4*np.pi**2*I1/(T1**2)\n",
    "sK1 = frac_err([4*np.pi**2*I1, T1**2],[4*np.pi**2*sI1,2*sT1*T1])[1]\n",
    "K2 = 4*np.pi**2*I2/T2**2\n",
    "sK2 = frac_err([4*np.pi**2*I2, T2**2],[4*np.pi**2*sI2,2*sT2*T2])[1]\n",
    "print(K1*10**7,sK1)\n",
    "print(K2*10**7,sK2)"
   ]
  },
  {
   "cell_type": "code",
   "execution_count": 45,
   "id": "7aad68fa-a32c-422f-bff5-5fc1c89f874b",
   "metadata": {},
   "outputs": [
    {
     "name": "stdout",
     "output_type": "stream",
     "text": [
      "G1: 7.515083661468697 +- 607.7998195994315\n",
      "G2: 8.069573217051989 +- 608.1233227599436\n"
     ]
    }
   ],
   "source": [
    "G1 = 2*L3*K1/(np.pi*R3**4) \n",
    "G2 = 2*L3*K2/(np.pi*R3**4)\n",
    "sG1 = frac_err([2*L3*K1,np.pi*R3**4],[2*sL3 + sK1 , np.pi*2*times_err([R3,R3,R3,R3],[sR3,sR3,sR3,sR3])[1]]) \n",
    "sG2 = frac_err([2*L3*K2,np.pi*R3**4],[2*sL3 + sK2, np.pi*2*times_err([R3,R3,R3,R3],[sR3,sR3,sR3,sR3])[1]]) \n",
    "\n",
    "print('G1: {} +- {}'.format(G1/10**9,sG1[1]/10**9)) ########### MPa\n",
    "print('G2: {} +- {}'.format(G2/10**9,sG2[1]/10**9))"
   ]
  },
  {
   "cell_type": "code",
   "execution_count": null,
   "id": "bff27675-b5df-4c93-b4a4-bdd48a2da141",
   "metadata": {},
   "outputs": [],
   "source": []
  },
  {
   "cell_type": "markdown",
   "id": "409d4f86-35c4-4cdb-b6fb-d3a5775ebd8c",
   "metadata": {
    "tags": []
   },
   "source": [
    "## TABULKA"
   ]
  },
  {
   "cell_type": "code",
   "execution_count": 376,
   "id": "b7b2e6c8-a54f-4ad1-b585-bcd7f4625c26",
   "metadata": {},
   "outputs": [
    {
     "name": "stdout",
     "output_type": "stream",
     "text": [
      "\\begin{tabular}{rr}\n",
      "\\toprule\n",
      " 19.6 & 15.5 \\\\\n",
      " 19.2 & 15.6 \\\\\n",
      " 20.5 & 15.4 \\\\\n",
      " 21   & 16.1 \\\\\n",
      " 19.9 & 16.2 \\\\\n",
      "\\bottomrule\n",
      "\\end{tabular}\n"
     ]
    }
   ],
   "source": [
    "T = np.array([T1raw.round(1),T2raw.round(1)]).T\n",
    "\n",
    "print(tabulate(T, tablefmt=\"latex_booktabs\"))"
   ]
  },
  {
   "cell_type": "code",
   "execution_count": null,
   "id": "8c88a1ba-c2aa-43c8-a216-504275324ca9",
   "metadata": {},
   "outputs": [],
   "source": []
  }
 ],
 "metadata": {
  "kernelspec": {
   "display_name": "Python 3 (ipykernel)",
   "language": "python",
   "name": "python3"
  },
  "language_info": {
   "codemirror_mode": {
    "name": "ipython",
    "version": 3
   },
   "file_extension": ".py",
   "mimetype": "text/x-python",
   "name": "python",
   "nbconvert_exporter": "python",
   "pygments_lexer": "ipython3",
   "version": "3.8.7"
  }
 },
 "nbformat": 4,
 "nbformat_minor": 5
}
