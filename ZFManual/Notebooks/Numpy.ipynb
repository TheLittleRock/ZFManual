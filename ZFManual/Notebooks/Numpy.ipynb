{
 "cells": [
  {
   "cell_type": "markdown",
   "id": "a70c6b38-ded8-4a3b-b1d4-6d61abcb72e1",
   "metadata": {},
   "source": [
    "# Rande s NumPy"
   ]
  },
  {
   "cell_type": "markdown",
   "id": "42ece577-1cd4-4d86-bdd5-69f74ac368ab",
   "metadata": {},
   "source": [
    "Ke zpracování dat je užitečná knihovna ``NumPy``. Dokumentaci lze nalézt [zde](https://numpy.org/devdocs/). "
   ]
  },
  {
   "cell_type": "markdown",
   "id": "4e599ad4-51d3-4d46-b0ac-23e9e2fbc1dd",
   "metadata": {},
   "source": [
    "Doporučuji shlédnout například tento tutoriál na youtube. Je valmi dobře zpracovaný a obsáhlý:"
   ]
  },
  {
   "cell_type": "markdown",
   "id": "1f2e65cf-d5af-4ae7-bd6a-71c727d5e3a9",
   "metadata": {},
   "source": [
    "```{youtube} DcfYgePyedM\n",
    "```"
   ]
  },
  {
   "cell_type": "code",
   "execution_count": null,
   "id": "431f5b13-5bed-4eca-bf4d-2debee10e2b2",
   "metadata": {},
   "outputs": [],
   "source": []
  }
 ],
 "metadata": {
  "kernelspec": {
   "display_name": "Python 3 (ipykernel)",
   "language": "python",
   "name": "python3"
  },
  "language_info": {
   "codemirror_mode": {
    "name": "ipython",
    "version": 3
   },
   "file_extension": ".py",
   "mimetype": "text/x-python",
   "name": "python",
   "nbconvert_exporter": "python",
   "pygments_lexer": "ipython3",
   "version": "3.11.6"
  }
 },
 "nbformat": 4,
 "nbformat_minor": 5
}
