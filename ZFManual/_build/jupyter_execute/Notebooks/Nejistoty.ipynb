{
 "cells": [
  {
   "cell_type": "markdown",
   "id": "45e84a71-2557-4148-b627-2160439b9434",
   "metadata": {},
   "source": [
    "# Nejistoty jistě pomocí uncertanities"
   ]
  },
  {
   "cell_type": "code",
   "execution_count": null,
   "id": "db71fc00-dfa6-4531-8c96-f6958376a84e",
   "metadata": {},
   "outputs": [],
   "source": [
    "from uncertainties import ufloat\n",
    "from uncertainties.umath import sin, cos, log, log10, exp\n",
    "from uncertainties import unumpy"
   ]
  },
  {
   "cell_type": "markdown",
   "id": "66dbfdd0-7877-4c87-804e-48e528fbe6b2",
   "metadata": {},
   "source": [
    "## Základ práce s uncertanities"
   ]
  },
  {
   "cell_type": "code",
   "execution_count": 27,
   "id": "e7d98fa6-1105-4c17-8c87-3e1875e9a37e",
   "metadata": {},
   "outputs": [
    {
     "name": "stdout",
     "output_type": "stream",
     "text": [
      "2.00+/-0.25\n"
     ]
    }
   ],
   "source": [
    "from uncertainties import ufloat\n",
    "x = ufloat(2, 0.25)\n",
    "print(x)"
   ]
  },
  {
   "cell_type": "code",
   "execution_count": 28,
   "id": "491018e4-9a4b-4620-b213-e022ea6ac0d7",
   "metadata": {},
   "outputs": [
    {
     "data": {
      "text/plain": [
       "4.0+/-1.0"
      ]
     },
     "execution_count": 28,
     "metadata": {},
     "output_type": "execute_result"
    }
   ],
   "source": [
    "square = x**2\n",
    "square"
   ]
  },
  {
   "cell_type": "code",
   "execution_count": 29,
   "id": "45bc4962-f7c7-4132-a5f3-6c87eb71c5f0",
   "metadata": {},
   "outputs": [
    {
     "data": {
      "text/plain": [
       "4.0"
      ]
     },
     "execution_count": 29,
     "metadata": {},
     "output_type": "execute_result"
    }
   ],
   "source": [
    "square.nominal_value"
   ]
  },
  {
   "cell_type": "code",
   "execution_count": 30,
   "id": "dace1fa3-cb52-4070-a4de-496c7c7e8c81",
   "metadata": {},
   "outputs": [
    {
     "data": {
      "text/plain": [
       "1.0"
      ]
     },
     "execution_count": 30,
     "metadata": {},
     "output_type": "execute_result"
    }
   ],
   "source": [
    "square.std_dev"
   ]
  },
  {
   "cell_type": "markdown",
   "id": "87475552-b32d-40d5-8dcd-cf965b391667",
   "metadata": {},
   "source": [
    "### Elementární funkce\n",
    "Uncertanities obsahuje i elementární funkce (např. sin, cos, logaritmus), které lze na proměnné aplikovat. Jejich seznam lze nalézt [zde](https://uncertainties.readthedocs.io/en/latest/user_guide.html#mathematical-operations-with-uncertain-variables)."
   ]
  },
  {
   "cell_type": "code",
   "execution_count": 34,
   "id": "207ee8d8-d27f-461c-aea5-48d1997db229",
   "metadata": {},
   "outputs": [],
   "source": [
    "from uncertainties.umath import sin"
   ]
  },
  {
   "cell_type": "code",
   "execution_count": 35,
   "id": "bbd1efa1-1af4-4c06-b0e8-3fd2dc5bccdf",
   "metadata": {},
   "outputs": [
    {
     "data": {
      "text/plain": [
       "-0.9589242746631385+/-0.28366218546322625"
      ]
     },
     "execution_count": 35,
     "metadata": {},
     "output_type": "execute_result"
    }
   ],
   "source": [
    "sin(1+x**2)"
   ]
  },
  {
   "cell_type": "markdown",
   "id": "3e160f28-8026-4949-b8f4-629cb5376b76",
   "metadata": {},
   "source": [
    "### Propojení s *NumPy* "
   ]
  },
  {
   "cell_type": "code",
   "execution_count": 38,
   "id": "7c4ad8ef-e714-4305-a6b2-4bb196a6833e",
   "metadata": {},
   "outputs": [
    {
     "name": "stdout",
     "output_type": "stream",
     "text": [
      "[1.0+/-0.1 2.0+/-0.2]\n"
     ]
    }
   ],
   "source": [
    "from uncertainties import unumpy\n",
    "varr = unumpy.uarray([1, 2], [0.1, 0.2])\n",
    "print(varr)"
   ]
  },
  {
   "cell_type": "code",
   "execution_count": 42,
   "id": "e9fbfe85-094c-4833-85f2-85ba4e86d362",
   "metadata": {},
   "outputs": [
    {
     "name": "stdout",
     "output_type": "stream",
     "text": [
      "1.50+/-0.11\n",
      "[0.5403023058681398+/-0.08414709848078966\n",
      " -0.4161468365471424+/-0.18185948536513635]\n"
     ]
    }
   ],
   "source": [
    "print(varr.mean())\n",
    "print(unumpy.cos(varr))"
   ]
  },
  {
   "cell_type": "markdown",
   "id": "1a6e80b4-9d1f-4e40-83f0-4af7fe724531",
   "metadata": {},
   "source": [
    "### Tisk výsledků"
   ]
  },
  {
   "cell_type": "code",
   "execution_count": 23,
   "id": "8d07493c-151d-4012-a095-3d8b52432cde",
   "metadata": {},
   "outputs": [
    {
     "name": "stdout",
     "output_type": "stream",
     "text": [
      "0.200+/-0.025\n"
     ]
    }
   ],
   "source": [
    "from uncertainties import ufloat\n",
    "x = ufloat(0.2, 0.025)\n",
    "print(x)"
   ]
  },
  {
   "cell_type": "code",
   "execution_count": 13,
   "id": "d5f020e5-6f6b-46af-9ed0-baf7fc9cb964",
   "metadata": {},
   "outputs": [
    {
     "name": "stdout",
     "output_type": "stream",
     "text": [
      "1 significant digit on the uncertainty: 0.20+/-0.03\n",
      "2 significant digits on the uncertainty: 0.200+/-0.025\n",
      "1 significant digit, exponent notation: (2.0+/-0.2)e-01\n"
     ]
    }
   ],
   "source": [
    "print('1 significant digit on the uncertainty: {:.1u}'.format(x))\n",
    "\n",
    "print('2 significant digits on the uncertainty: {:.2u}'.format(x))\n",
    "\n",
    "print('1 significant digit, exponent notation: {:.1ue}'.format(x))\n"
   ]
  },
  {
   "cell_type": "code",
   "execution_count": 15,
   "id": "d3e77363-be3f-47a6-83b0-272b4b51eb08",
   "metadata": {},
   "outputs": [
    {
     "name": "stdout",
     "output_type": "stream",
     "text": [
      "(2.00±0.25)×10⁻¹\n"
     ]
    }
   ],
   "source": [
    "print(u'{:.2eP}'.format(x))"
   ]
  },
  {
   "cell_type": "code",
   "execution_count": 19,
   "id": "769583be-990f-462b-a045-86ca68e87690",
   "metadata": {},
   "outputs": [
    {
     "name": "stdout",
     "output_type": "stream",
     "text": [
      "0.200 \\pm 0.025\n",
      "0.20 \\pm 0.03\n",
      "\\left(2.0 \\pm 0.2\\right) \\times 10^{-1}\n"
     ]
    }
   ],
   "source": [
    "print('{:.L}'.format(x)) \n",
    "print('{:.1uL}'.format(x)) \n",
    "print('{:.1ueL}'.format(x)) "
   ]
  },
  {
   "cell_type": "code",
   "execution_count": null,
   "id": "68504341-bd6b-48a8-b27f-3459dc57f41c",
   "metadata": {},
   "outputs": [],
   "source": []
  },
  {
   "cell_type": "code",
   "execution_count": null,
   "id": "f995a90f-a9e2-4697-9205-53fef4012391",
   "metadata": {},
   "outputs": [],
   "source": []
  },
  {
   "cell_type": "code",
   "execution_count": null,
   "id": "945491a0-8939-4f65-9dd8-3feca9c1c16a",
   "metadata": {},
   "outputs": [],
   "source": []
  },
  {
   "cell_type": "code",
   "execution_count": null,
   "id": "e992aaca-0067-4d76-83f7-41d70fe80896",
   "metadata": {},
   "outputs": [],
   "source": []
  }
 ],
 "metadata": {
  "kernelspec": {
   "display_name": "Python 3 (ipykernel)",
   "language": "python",
   "name": "python3"
  },
  "language_info": {
   "codemirror_mode": {
    "name": "ipython",
    "version": 3
   },
   "file_extension": ".py",
   "mimetype": "text/x-python",
   "name": "python",
   "nbconvert_exporter": "python",
   "pygments_lexer": "ipython3",
   "version": "3.11.6"
  }
 },
 "nbformat": 4,
 "nbformat_minor": 5
}