{
 "cells": [
  {
   "cell_type": "markdown",
   "id": "8d418f30-7b6e-4ad1-9392-3f2e3228c7e9",
   "metadata": {},
   "source": [
    "# Grafy s matplotlib"
   ]
  },
  {
   "cell_type": "markdown",
   "id": "87b094fd-5789-4b51-a0c0-bb8454ae3379",
   "metadata": {},
   "source": [
    "Zlatým standardem pro vytváření grafů v jazyce Python je knihovna [``matplotlib``](https://matplotlib.org/stable/). Zde je praktický tutoriál:"
   ]
  },
  {
   "cell_type": "markdown",
   "id": "8c9e2332-42a7-41a4-8704-6b493bf0a736",
   "metadata": {},
   "source": [
    "```{youtube} cTJBJH8hacc\n",
    "```"
   ]
  },
  {
   "cell_type": "markdown",
   "id": "c518b705-fc95-4cd3-91c9-9c0fee796068",
   "metadata": {},
   "source": [
    "```{warning} TODO\n",
    "Dát nějaký příklady a popsat, jak uložit v pdf s enkódováním pomocí TeX a zajistit, aby font i jeho velikost opdovídal fontu v protokolu.\n",
    "```"
   ]
  },
  {
   "cell_type": "code",
   "execution_count": null,
   "id": "ea31dd9a-f4ba-4769-b170-e605958c61cb",
   "metadata": {},
   "outputs": [],
   "source": [
    "params = {\n",
    "      'text.latex.preamble': r\"\\usepackage{mlmodern}\",\n",
    "      'legend.fontsize': 9,\n",
    "      'axes.labelsize': 9,\n",
    "      'axes.titlesize': 11,\n",
    "      'xtick.labelsize' :9,\n",
    "      'ytick.labelsize' : 9,\n",
    "      'font.family' : 'mlmodern', \n",
    "      'text.usetex' : True,\n",
    "      }\n",
    "plt.rcParams.update(params)"
   ]
  },
  {
   "cell_type": "code",
   "execution_count": null,
   "id": "1ccf38a1-b2d6-4e45-83f3-702afa7ec72c",
   "metadata": {},
   "outputs": [],
   "source": [
    "plt.rcParams['text.latex.preamble']=r\"\\usepackage{mlmodern}\"\n",
    "plt.rcParams[\"text.usetex\"] = True\n",
    "plt.rcParams[\"font.size\"] = 13\n",
    "plt.rcParams[\"font.family\"] = 'mlmodern'"
   ]
  },
  {
   "cell_type": "code",
   "execution_count": null,
   "id": "b7b22ba8-2d19-409a-90a6-f207223dce0d",
   "metadata": {},
   "outputs": [],
   "source": [
    "layout=\"constrained\""
   ]
  },
  {
   "cell_type": "code",
   "execution_count": null,
   "id": "60977f19-7959-4bf2-a397-1237509dd4e6",
   "metadata": {},
   "outputs": [],
   "source": []
  }
 ],
 "metadata": {
  "kernelspec": {
   "display_name": "Python 3 (ipykernel)",
   "language": "python",
   "name": "python3"
  },
  "language_info": {
   "codemirror_mode": {
    "name": "ipython",
    "version": 3
   },
   "file_extension": ".py",
   "mimetype": "text/x-python",
   "name": "python",
   "nbconvert_exporter": "python",
   "pygments_lexer": "ipython3",
   "version": "3.11.6"
  }
 },
 "nbformat": 4,
 "nbformat_minor": 5
}